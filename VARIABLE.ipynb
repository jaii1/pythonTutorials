{
 "cells": [
  {
   "cell_type": "code",
   "execution_count": null,
   "metadata": {},
   "outputs": [],
   "source": [
    "WHAT IS VARIABLE"
   ]
  },
  {
   "cell_type": "code",
   "execution_count": null,
   "metadata": {},
   "outputs": [],
   "source": [
    "Varaiable simplely means creating space or allocating some memory location to store any kind of value.Whenever you are allocating\n",
    "some memory in space to store any kind of value that is variable, ok.Its a kind of tag to the memory location.\n",
    "In python it is  not need to specify the type of variable,python is smart enough to specify the varable\n",
    "EXAMPLE\n",
    "Counter=100\n",
    "name = \"jai\"\n",
    "num = 34.09\n",
    "Here,Counter,name and num are variables"
   ]
  },
  {
   "cell_type": "code",
   "execution_count": null,
   "metadata": {},
   "outputs": [],
   "source": [
    "PYTHON ALLOW US TO ASIGN SINGLE VALUE TO MULTIPLE VARIABLES,SEE BELOW"
   ]
  },
  {
   "cell_type": "code",
   "execution_count": 3,
   "metadata": {},
   "outputs": [
    {
     "name": "stdout",
     "output_type": "stream",
     "text": [
      "1\n",
      "1\n",
      "1\n",
      "\n",
      "140736274114336\n",
      "140736274114336\n",
      "140736274114336\n"
     ]
    }
   ],
   "source": [
    "a=b=c=1\n",
    "# Here, We asign single value 1 to all the variables that is a,b and c\n",
    "# here value 1 is stored in allocated memory space and here a,b,c are assigned to same memory location\n",
    "print(a)\n",
    "print(b)\n",
    "print(c)\n",
    "print()\n",
    "print(id(a))\n",
    "print(id(b))\n",
    "print(id(c))"
   ]
  },
  {
   "cell_type": "code",
   "execution_count": 11,
   "metadata": {},
   "outputs": [
    {
     "name": "stdout",
     "output_type": "stream",
     "text": [
      "1\n",
      "3.4\n",
      "jai\n",
      "\n",
      "NOW FINDING MEMORY LOCATION OF ALL THESE VALUES\n",
      "\n",
      "NOW WE KNOW VALUE 1 IS STORED IN 'X' VARIABLE BUT WHAT IS MEMEORY ADDRESS OF THAT VARIABLE 'X' SEE BELOW\n",
      "\n",
      "140736274114336\n",
      "SIMILARLY MEMORY ADDRESS OF VARIABLE 'Y' and 'Z' \n",
      "\n",
      "1987086888016\n",
      "1987086991280\n"
     ]
    }
   ],
   "source": [
    "x,y,z = 1,3.4,'jai'\n",
    "print(x)\n",
    "print(y)\n",
    "print(z)\n",
    "print()\n",
    "print(\"NOW FINDING MEMORY LOCATION OF ALL THESE VALUES\")\n",
    "print()\n",
    "print(\"NOW WE KNOW VALUE 1 IS STORED IN 'X' VARIABLE BUT WHAT IS MEMEORY ADDRESS OF THAT VARIABLE 'X' SEE BELOW\")\n",
    "print()\n",
    "print(id(x))\n",
    "print(\"SIMILARLY MEMORY ADDRESS OF VARIABLE 'Y' and 'Z' \")\n",
    "print()\n",
    "print(id(y))\n",
    "print(id(z))"
   ]
  },
  {
   "cell_type": "code",
   "execution_count": null,
   "metadata": {},
   "outputs": [],
   "source": [
    "VARIBLE HOLDING DIFFERENT DATA TYPE VALUE"
   ]
  },
  {
   "cell_type": "code",
   "execution_count": 52,
   "metadata": {},
   "outputs": [
    {
     "name": "stdout",
     "output_type": "stream",
     "text": [
      "\n",
      "j\n",
      "<class 'str'>\n",
      "\n",
      "56\n",
      "<class 'int'>\n",
      "\n",
      "89.0\n",
      "<class 'float'>\n",
      "\n",
      "True\n",
      "<class 'bool'>\n",
      "\n",
      "(1+3j)\n",
      "<class 'complex'>\n",
      "\n",
      "[4, 5]\n",
      "<class 'list'>\n",
      "\n",
      "(9, 0)\n",
      "<class 'tuple'>\n",
      "\n",
      "{1, 3, 4}\n",
      "<class 'set'>\n",
      "\n",
      "{'n': 10, 'm': 12}\n",
      "<class 'dict'>\n"
     ]
    }
   ],
   "source": [
    "l1 = 'j'\n",
    "l2 = 56\n",
    "l3 = 89.0\n",
    "l4 = True\n",
    "l5 = 1+3j\n",
    "l6 = [4,5]\n",
    "l7 = (9,0)\n",
    "l8 = {1,3,4}\n",
    "l9 = {\"n\":10, \"m\":12}\n",
    "print()\n",
    "print(l1)\n",
    "print(type(l1))\n",
    "print()\n",
    "print(l2)\n",
    "print(type(l2))\n",
    "print()\n",
    "print(l3)\n",
    "print(type(l3))\n",
    "print()\n",
    "print(l4)\n",
    "print(type(l4))\n",
    "print()\n",
    "print(l5)\n",
    "print(type(l5))\n",
    "print()\n",
    "print(l6)\n",
    "print(type(l6))\n",
    "print()\n",
    "print(l7)\n",
    "print(type(l7))\n",
    "print()\n",
    "print(l8)\n",
    "print(type(l8))\n",
    "print()\n",
    "print(l9)\n",
    "print(type(l9))"
   ]
  },
  {
   "cell_type": "code",
   "execution_count": null,
   "metadata": {},
   "outputs": [],
   "source": [
    "RULES FOR CREATING VARIABLE IN PYTHON"
   ]
  },
  {
   "cell_type": "code",
   "execution_count": null,
   "metadata": {},
   "outputs": [],
   "source": [
    "A Varaible must start with a letter or a _underscore  character\n",
    "It cannot be start with numeric value,however it can contains numeric value\n",
    "It should not contains any special characters like $#@%*\n",
    "It should not contains any blank space\n",
    "The reserved keyword cannot be used as Variable names Example = AND,OR,NOT,FINALY,ELSE,IF,ELIF,WHERE,FOR,WHILE etc\n",
    "It is case sensitive, example name, Name and NAME are three different varaibles."
   ]
  },
  {
   "cell_type": "code",
   "execution_count": 14,
   "metadata": {},
   "outputs": [
    {
     "name": "stdout",
     "output_type": "stream",
     "text": [
      "a:  10\n",
      "A:  jai\n",
      "\n",
      "id(a):  140736274114624\n",
      "id(A):  1987086991280\n"
     ]
    }
   ],
   "source": [
    "a = 10\n",
    "A='jai'\n",
    "print(\"a: \", a)\n",
    "print(\"A: \", A)\n",
    "print()\n",
    "print(\"id(a): \", id(a))\n",
    "print(\"id(A): \", id(A))"
   ]
  },
  {
   "cell_type": "code",
   "execution_count": null,
   "metadata": {},
   "outputs": [],
   "source": [
    "RE-DECLARE THE VARIABLES"
   ]
  },
  {
   "cell_type": "code",
   "execution_count": null,
   "metadata": {},
   "outputs": [],
   "source": [
    "We can declare new value for variable, when a value is already declared"
   ]
  },
  {
   "cell_type": "code",
   "execution_count": 29,
   "metadata": {},
   "outputs": [
    {
     "name": "stdout",
     "output_type": "stream",
     "text": [
      "a: jai\n",
      "id(a):  1987086991280\n",
      "type(a):  <class 'str'>\n",
      "\n",
      "a:  100\n",
      "id(a):  140736274117504\n",
      "type(a)  <class 'int'>\n"
     ]
    }
   ],
   "source": [
    "a ='jai'\n",
    "print(\"a:\", a)\n",
    "print(\"id(a): \", id(a))\n",
    "print(\"type(a): \", type(a))\n",
    "print()\n",
    "a = 100\n",
    "print(\"a: \", a)\n",
    "print(\"id(a): \", id(a))\n",
    "print(\"type(a) \", type(a))"
   ]
  },
  {
   "cell_type": "code",
   "execution_count": null,
   "metadata": {},
   "outputs": [],
   "source": [
    "IF WE USE THE SAME NAME OF VARIABLE,THE VARIABLE START REFERING TO A NEW VALUE AND TYPE."
   ]
  },
  {
   "cell_type": "code",
   "execution_count": 16,
   "metadata": {},
   "outputs": [
    {
     "name": "stdout",
     "output_type": "stream",
     "text": [
      "b:  python\n",
      "type(b):  <class 'str'>\n"
     ]
    }
   ],
   "source": [
    "b = 10\n",
    "b ='python'\n",
    "print(\"b: \", b)\n",
    "print(\"type(b): \", type(b))\n"
   ]
  },
  {
   "cell_type": "code",
   "execution_count": null,
   "metadata": {},
   "outputs": [],
   "source": [
    "OBJECT REFERENCE"
   ]
  },
  {
   "cell_type": "code",
   "execution_count": 44,
   "metadata": {},
   "outputs": [
    {
     "name": "stdout",
     "output_type": "stream",
     "text": [
      "c: 10\n",
      "id(c):  140736274114624\n",
      "d:  10\n",
      "id(d):  140736274114624\n",
      "\n",
      "NOW C VARIABLE REFER TO ANY OTHER VALUE\n",
      "\n",
      "c: java\n",
      "id(c):  1987019650096\n",
      "\n",
      "d:  10\n"
     ]
    }
   ],
   "source": [
    "c = 10\n",
    "d = c\n",
    "print(\"c:\", c)\n",
    "print(\"id(c): \", id(c))\n",
    "print(\"d: \", d)\n",
    "print(\"id(d): \", id(d))\n",
    "print()\n",
    "print(\"NOW C VARIABLE REFER TO ANY OTHER VALUE\")\n",
    "print()\n",
    "c = 'java'\n",
    "print(\"c:\", c)\n",
    "print(\"id(c): \", id(c))\n",
    "print()\n",
    "print(\"d: \", d)\n"
   ]
  },
  {
   "cell_type": "code",
   "execution_count": null,
   "metadata": {},
   "outputs": [],
   "source": [
    "OPERATOR WORK WITH VARIABLE"
   ]
  },
  {
   "cell_type": "code",
   "execution_count": 18,
   "metadata": {},
   "outputs": [
    {
     "name": "stdout",
     "output_type": "stream",
     "text": [
      "a+b: 50\n"
     ]
    }
   ],
   "source": [
    "a = 20\n",
    "b = 30\n",
    "print(\"a+b:\", a+b)"
   ]
  },
  {
   "cell_type": "code",
   "execution_count": 20,
   "metadata": {},
   "outputs": [
    {
     "name": "stdout",
     "output_type": "stream",
     "text": [
      "Geeksfor Geeks\n"
     ]
    }
   ],
   "source": [
    "a = \"Geeksfor\"\n",
    "b = \"Geeks\"\n",
    "print(a+b)"
   ]
  },
  {
   "cell_type": "code",
   "execution_count": null,
   "metadata": {},
   "outputs": [],
   "source": [
    "WE CANNOT ADD TWO DIFFERENT TYPE VARAIBLES(TEXT & NUMBER)"
   ]
  },
  {
   "cell_type": "code",
   "execution_count": 21,
   "metadata": {},
   "outputs": [
    {
     "ename": "TypeError",
     "evalue": "can only concatenate str (not \"int\") to str",
     "output_type": "error",
     "traceback": [
      "\u001b[1;31m---------------------------------------------------------------------------\u001b[0m",
      "\u001b[1;31mTypeError\u001b[0m                                 Traceback (most recent call last)",
      "\u001b[1;32m<ipython-input-21-0a7c66b7eca1>\u001b[0m in \u001b[0;36m<module>\u001b[1;34m\u001b[0m\n\u001b[0;32m      1\u001b[0m \u001b[0ma\u001b[0m \u001b[1;33m=\u001b[0m \u001b[1;34m\"jai\"\u001b[0m\u001b[1;33m\u001b[0m\u001b[1;33m\u001b[0m\u001b[0m\n\u001b[0;32m      2\u001b[0m \u001b[0mb\u001b[0m\u001b[1;33m=\u001b[0m\u001b[1;36m100\u001b[0m\u001b[1;33m\u001b[0m\u001b[1;33m\u001b[0m\u001b[0m\n\u001b[1;32m----> 3\u001b[1;33m \u001b[0mprint\u001b[0m\u001b[1;33m(\u001b[0m\u001b[1;34m\"a+b:\"\u001b[0m\u001b[1;33m,\u001b[0m \u001b[0ma\u001b[0m\u001b[1;33m+\u001b[0m\u001b[0mb\u001b[0m\u001b[1;33m)\u001b[0m\u001b[1;33m\u001b[0m\u001b[1;33m\u001b[0m\u001b[0m\n\u001b[0m",
      "\u001b[1;31mTypeError\u001b[0m: can only concatenate str (not \"int\") to str"
     ]
    }
   ],
   "source": [
    "a = \"jai\"\n",
    "b=100\n",
    "print(\"a+b:\", a+b)"
   ]
  },
  {
   "cell_type": "code",
   "execution_count": null,
   "metadata": {},
   "outputs": [],
   "source": [
    "Global and Local Variables in Python"
   ]
  },
  {
   "cell_type": "code",
   "execution_count": null,
   "metadata": {},
   "outputs": [],
   "source": [
    "LOCAL VARIABLE:=  that Are variables that are defiend and declared inside the function\n",
    "We can not call this variable outside the function."
   ]
  },
  {
   "cell_type": "code",
   "execution_count": 41,
   "metadata": {},
   "outputs": [
    {
     "name": "stdout",
     "output_type": "stream",
     "text": [
      "jaitiwari\n"
     ]
    },
    {
     "ename": "NameError",
     "evalue": "name 's1' is not defined",
     "output_type": "error",
     "traceback": [
      "\u001b[1;31m---------------------------------------------------------------------------\u001b[0m",
      "\u001b[1;31mNameError\u001b[0m                                 Traceback (most recent call last)",
      "\u001b[1;32m<ipython-input-41-c9f835646ec9>\u001b[0m in \u001b[0;36m<module>\u001b[1;34m\u001b[0m\n\u001b[0;32m      3\u001b[0m     \u001b[0mprint\u001b[0m\u001b[1;33m(\u001b[0m\u001b[0ms1\u001b[0m\u001b[1;33m)\u001b[0m\u001b[1;33m\u001b[0m\u001b[1;33m\u001b[0m\u001b[0m\n\u001b[0;32m      4\u001b[0m \u001b[0mf\u001b[0m\u001b[1;33m(\u001b[0m\u001b[1;33m)\u001b[0m\u001b[1;33m\u001b[0m\u001b[1;33m\u001b[0m\u001b[0m\n\u001b[1;32m----> 5\u001b[1;33m \u001b[0mprint\u001b[0m\u001b[1;33m(\u001b[0m\u001b[0ms1\u001b[0m\u001b[1;33m)\u001b[0m\u001b[1;33m\u001b[0m\u001b[1;33m\u001b[0m\u001b[0m\n\u001b[0m",
      "\u001b[1;31mNameError\u001b[0m: name 's1' is not defined"
     ]
    }
   ],
   "source": [
    "def f():\n",
    "    s1= \"jaitiwari\"\n",
    "    print(s1)\n",
    "f()\n",
    "print(s1)\n",
    "# HERE S1 local variable that cannot be accessed outside the class(outside f())"
   ]
  },
  {
   "cell_type": "code",
   "execution_count": null,
   "metadata": {},
   "outputs": [],
   "source": [
    "GLOBAL VARIABLE:= are the ones that are defined and declared outside a function,and we need to use them inside a function\n",
    "and also used to call outside the function."
   ]
  },
  {
   "cell_type": "code",
   "execution_count": 42,
   "metadata": {},
   "outputs": [
    {
     "name": "stdout",
     "output_type": "stream",
     "text": [
      "python_language\n",
      "10\n",
      "python_language\n",
      "10\n"
     ]
    }
   ],
   "source": [
    "k=10\n",
    "def f1():\n",
    "    print(s)\n",
    "    print(k)\n",
    "s = \"python_language\"\n",
    "f1()\n",
    "print(s)\n",
    "print(k)\n",
    "\n",
    "# Here \"k\" and \"S\"are global variable, because they are define & declared outside the class, but we access then\n",
    "# in function(inside f1()) as well as\n",
    "# outside the function(after f1())\n"
   ]
  },
  {
   "cell_type": "code",
   "execution_count": 50,
   "metadata": {},
   "outputs": [
    {
     "name": "stdout",
     "output_type": "stream",
     "text": [
      "jai ho\n",
      "jai ho\n"
     ]
    }
   ],
   "source": [
    "def f4():\n",
    "    global j\n",
    "    j =\"jai ho\"\n",
    "    print(j)\n",
    "f4()\n",
    "print(j)\n",
    "\n",
    "# HERE BY USING 'GLOBAL' KEYWORD INSIDE FUNCTION , WE HAVE CONVERTED LOCAL VARIABLE(j) TO GLOBAL VARIABLE\n",
    "# NOW IT CAN BE CALLED WITHIN AND OUTSIDE THE FUNCTION"
   ]
  },
  {
   "cell_type": "code",
   "execution_count": null,
   "metadata": {},
   "outputs": [],
   "source": []
  },
  {
   "cell_type": "code",
   "execution_count": 33,
   "metadata": {},
   "outputs": [
    {
     "name": "stdout",
     "output_type": "stream",
     "text": [
      "num: 10\n",
      "type(num):  <class 'int'>\n",
      "\n",
      "type(num1):  <class 'bool'>\n",
      "num1: True\n"
     ]
    }
   ],
   "source": [
    "num = 10\n",
    "print(\"num:\", num)\n",
    "print(\"type(num): \", type(num))\n",
    "print()\n",
    "num1 = 10>9\n",
    "print(\"type(num1): \", type(num1))\n",
    "print(\"num1:\", num1)\n"
   ]
  },
  {
   "cell_type": "code",
   "execution_count": 49,
   "metadata": {},
   "outputs": [
    {
     "name": "stdout",
     "output_type": "stream",
     "text": [
      "<class 'bool'>\n",
      "<class 'bool'>\n"
     ]
    }
   ],
   "source": [
    "\n",
    "print(type(True))\n",
    "print(type(False))"
   ]
  },
  {
   "cell_type": "code",
   "execution_count": null,
   "metadata": {},
   "outputs": [],
   "source": [
    "CASTING"
   ]
  },
  {
   "cell_type": "code",
   "execution_count": 56,
   "metadata": {},
   "outputs": [
    {
     "name": "stdout",
     "output_type": "stream",
     "text": [
      "va1:  3\n",
      "\n",
      "va3:  3.0\n",
      "<class 'int'>\n",
      "\n",
      "va3:  3.0\n",
      "<class 'float'>\n",
      "\n",
      "va4:  (3+0j)\n"
     ]
    }
   ],
   "source": [
    "va1 =str(3)\n",
    "print(\"va1: \", va1)\n",
    "print()\n",
    "va2 =int(3)\n",
    "print(\"va3: \", va3)\n",
    "print(type(va2))\n",
    "print()\n",
    "va3 =float(3)\n",
    "print(\"va3: \", va3)\n",
    "print(type(va3))\n",
    "print()\n",
    "va4 =complex(3)\n",
    "print(\"va4: \", va4)"
   ]
  },
  {
   "cell_type": "code",
   "execution_count": null,
   "metadata": {},
   "outputs": [],
   "source": []
  }
 ],
 "metadata": {
  "kernelspec": {
   "display_name": "Python 3",
   "language": "python",
   "name": "python3"
  },
  "language_info": {
   "codemirror_mode": {
    "name": "ipython",
    "version": 3
   },
   "file_extension": ".py",
   "mimetype": "text/x-python",
   "name": "python",
   "nbconvert_exporter": "python",
   "pygments_lexer": "ipython3",
   "version": "3.8.5"
  }
 },
 "nbformat": 4,
 "nbformat_minor": 4
}
