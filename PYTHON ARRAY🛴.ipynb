{
 "cells": [
  {
   "cell_type": "code",
   "execution_count": 23,
   "metadata": {},
   "outputs": [
    {
     "name": "stdout",
     "output_type": "stream",
     "text": [
      "An array is basically a data structure that hold more than one value at a time.Tt contains value of same data type\n"
     ]
    }
   ],
   "source": [
    "print( \"An array is basically a data structure that hold more than one value at a time.Tt contains value of same data type\")"
   ]
  },
  {
   "cell_type": "code",
   "execution_count": 12,
   "metadata": {},
   "outputs": [
    {
     "name": "stdout",
     "output_type": "stream",
     "text": [
      "array('i', [1, 2, 3, 7, -4, -10, 11])\n",
      "None\n",
      "array('i', [1, 2, 3, 7, -4, 11])\n"
     ]
    }
   ],
   "source": [
    "from array import *\n",
    "# \"i\" can take positive and negative value\n",
    "arr = array(\"i\",[1,2,3,7,-4,-10,11])\n",
    "print(arr)\n",
    "# arr.append(-101)\n",
    "# print(arr)\n",
    "# arr.extend((9,0,16))\n",
    "# print(arr)\n",
    "# arr.insert(0,5)\n",
    "# print(arr)\n",
    "# print(arr.pop())\n",
    "# print(arr)\n",
    "# print(arr.pop(2))\n",
    "# print(arr)\n",
    "# print(arr.remove(-10))--if 2 times value 10 are there, then it remove first occurance of 10\n",
    "# print(arr)\n",
    "# print(arr[1])\n",
    "# print(arr[-1])\n",
    "# print(arr[3])\n",
    "# print(arr[-2])\n",
    "# print(arr[0:3])\n",
    "# print(arr[1:5])\n",
    "# print(arr[1::2])\n",
    "# print(arr[0:6:2])\n",
    "# print(len(arr))\n",
    "\n",
    "     "
   ]
  },
  {
   "cell_type": "code",
   "execution_count": 4,
   "metadata": {},
   "outputs": [
    {
     "name": "stdout",
     "output_type": "stream",
     "text": [
      "array('I', [1, 2, 3, 4, 5])\n"
     ]
    }
   ],
   "source": [
    "from array import*\n",
    "# \"I\" can take only positive number\n",
    "arr = array(\"I\",[1,2,3,4,5])\n",
    "print(arr)"
   ]
  },
  {
   "cell_type": "code",
   "execution_count": 5,
   "metadata": {},
   "outputs": [
    {
     "name": "stdout",
     "output_type": "stream",
     "text": [
      "array('d', [1.2, -4.5, 6.7, 1.4, 8.0])\n"
     ]
    }
   ],
   "source": [
    "import array as arr\n",
    "# \"d\" can take floating number, negative floating number,even integer(convert to floating)\n",
    "a = arr.array(\"d\",[1.2,-4.5,6.7,1.4, 8])\n",
    "print(a)"
   ]
  },
  {
   "cell_type": "code",
   "execution_count": 6,
   "metadata": {},
   "outputs": [
    {
     "name": "stdout",
     "output_type": "stream",
     "text": [
      "array('u', 'jf9q')\n"
     ]
    }
   ],
   "source": [
    "import array as arr\n",
    "# \"u\" can add only text\n",
    "a = arr.array(\"u\",[\"j\",\"f\",\"9\",\"q\"])\n",
    "print(a)"
   ]
  },
  {
   "cell_type": "code",
   "execution_count": 17,
   "metadata": {},
   "outputs": [
    {
     "name": "stdout",
     "output_type": "stream",
     "text": [
      "array('i', [1, 2, 3, 4, 5, 6, 3, 8])\n",
      "array('i', [8, 3, 6, 5, 4, 3, 2, 1])\n"
     ]
    }
   ],
   "source": [
    "import array as  arr\n",
    "# to concatenate both array should be of same type\n",
    "a = arr.array(\"i\",[1,2,3,4])\n",
    "b = arr.array(\"i\",[5,6,3,8])\n",
    "c = arr.array(\"i\")\n",
    "c = a+b\n",
    "print(c)\n",
    "print(c[::-1])"
   ]
  },
  {
   "cell_type": "code",
   "execution_count": 21,
   "metadata": {},
   "outputs": [
    {
     "name": "stdout",
     "output_type": "stream",
     "text": [
      "array('d', [1.1, 2.2, 3.7, 3.1])\n",
      "1.1\n",
      "2.2\n",
      "3.7\n",
      "3.1\n",
      "\n",
      "1.1\n",
      "2.2\n",
      "3.7\n",
      "3.1\n"
     ]
    }
   ],
   "source": [
    "# while -iterate over the element until the condition is met\n",
    "# for-itertate over the sequences for a specified number of times.\n",
    "import array as arr\n",
    "a = arr.array(\"d\",[1.1,2.2,3.7,3.1])\n",
    "print(a)\n",
    "for x in a:\n",
    "    print(x)\n",
    "print()\n",
    "for x in range(len(a)):\n",
    "    print(a[x])"
   ]
  },
  {
   "cell_type": "code",
   "execution_count": 27,
   "metadata": {},
   "outputs": [
    {
     "name": "stdout",
     "output_type": "stream",
     "text": [
      "array('i', [1, 2, 3, 4, 5, 6])\n",
      "0\n",
      "1\n",
      "2\n",
      "3\n",
      "j\n"
     ]
    }
   ],
   "source": [
    "import array as arr\n",
    "a = arr.array(\"i\",[1,2,3,4,5,6])\n",
    "print(a)\n",
    "i = 0\n",
    "while i<a[3]:\n",
    "    print(i)\n",
    "    i +=1\n",
    "print(\"j\")"
   ]
  },
  {
   "cell_type": "code",
   "execution_count": 29,
   "metadata": {},
   "outputs": [
    {
     "name": "stdout",
     "output_type": "stream",
     "text": [
      "array('i', [1, 2, 3, 4, 5, 6, 7])\n",
      "1\n",
      "2\n",
      "3\n",
      "4\n",
      "5\n",
      "6\n"
     ]
    }
   ],
   "source": [
    "import array as arr\n",
    "a = arr.array(\"i\",[1,2,3,4,5,6,7])\n",
    "print(a)\n",
    "i =1\n",
    "while i<len(a):\n",
    "    print(i)\n",
    "    i +=1\n",
    "         "
   ]
  },
  {
   "cell_type": "code",
   "execution_count": 32,
   "metadata": {},
   "outputs": [
    {
     "name": "stdout",
     "output_type": "stream",
     "text": [
      "(1972392423600, 5)\n",
      "i\n",
      "array('i', [2, 4, -8, 9, 5])\n"
     ]
    }
   ],
   "source": [
    "from array import *\n",
    "vals = array(\"i\",[5,9,-8,4,2])\n",
    "print(vals.buffer_info())\n",
    "print(vals.typecode)\n",
    "vals.reverse()\n",
    "print(vals)"
   ]
  },
  {
   "cell_type": "code",
   "execution_count": 43,
   "metadata": {},
   "outputs": [
    {
     "name": "stdout",
     "output_type": "stream",
     "text": [
      "array('i', [1, 2, 3, 4, 5])\n",
      "array('i', [1, 2, 3, 4, 5])\n",
      "array('i', [1, 4, 27, 256, 3125])\n",
      "1\n",
      "2\n",
      "3\n",
      "4\n",
      "5\n",
      "\n",
      "1\n",
      "2\n",
      "3\n",
      "4\n",
      "5\n"
     ]
    }
   ],
   "source": [
    "import array as arr\n",
    "ar = arr.array(\"i\",[1,2,3,4,5])\n",
    "print(a)\n",
    "newArr = arr.array(ar.typecode,(a for a in ar))\n",
    "newArr2 = arr.array(ar.typecode,(a**a for a in ar))\n",
    "print(newArr)\n",
    "print(newArr2)\n",
    "for i in range(len(newArr)):\n",
    "    print(newArr[i])\n",
    "print()\n",
    "    \n",
    "i = 0\n",
    "while i<len(newArr):\n",
    "    print(newArr[i])\n",
    "    i+=1"
   ]
  },
  {
   "cell_type": "code",
   "execution_count": 46,
   "metadata": {},
   "outputs": [
    {
     "name": "stdout",
     "output_type": "stream",
     "text": [
      "enter the length of array3\n",
      "enter the number1\n",
      "enter the number2\n",
      "enter the number3\n",
      "array('i', [1, 2, 3])\n",
      "enter the value for search3\n",
      "2\n"
     ]
    }
   ],
   "source": [
    "import array as arr\n",
    "a = arr.array(\"i\",[])\n",
    "n  =int(input(\"enter the length of array\"))\n",
    "for i in range(n):\n",
    "    x = int(input(\"enter the number\"))\n",
    "    a.append(x)\n",
    "print(a)\n",
    "\n",
    "val = int(input(\"enter the value for search\"))\n",
    "k=0\n",
    "for e in a:\n",
    "    if e ==val:\n",
    "        print(k)\n",
    "        break\n",
    "    k+=1\n",
    "\n"
   ]
  },
  {
   "cell_type": "code",
   "execution_count": null,
   "metadata": {},
   "outputs": [],
   "source": []
  },
  {
   "cell_type": "code",
   "execution_count": null,
   "metadata": {},
   "outputs": [],
   "source": []
  }
 ],
 "metadata": {
  "kernelspec": {
   "display_name": "Python 3",
   "language": "python",
   "name": "python3"
  },
  "language_info": {
   "codemirror_mode": {
    "name": "ipython",
    "version": 3
   },
   "file_extension": ".py",
   "mimetype": "text/x-python",
   "name": "python",
   "nbconvert_exporter": "python",
   "pygments_lexer": "ipython3",
   "version": "3.8.5"
  }
 },
 "nbformat": 4,
 "nbformat_minor": 4
}
