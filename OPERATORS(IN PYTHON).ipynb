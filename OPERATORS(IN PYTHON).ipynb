{
 "cells": [
  {
   "cell_type": "code",
   "execution_count": null,
   "metadata": {},
   "outputs": [],
   "source": [
    "OPERATORS"
   ]
  },
  {
   "cell_type": "code",
   "execution_count": null,
   "metadata": {},
   "outputs": [],
   "source": [
    "Operators are used to perform operations on values and variables"
   ]
  },
  {
   "cell_type": "code",
   "execution_count": null,
   "metadata": {},
   "outputs": [],
   "source": [
    "Arithmetic Operators(+,-,*,/,%,**)\n",
    "Relational or Comparision Operator(<,>,<=,>=,!=,<>,==)\n",
    "Logical operators(AND,OR,NOT)\n",
    "Bitwise Operators(&,|,~(not),^(xor),>>(right shift), <<(left shift))\n",
    "Assignment Operators(=+,-=,*=,/=)\n",
    "Identity Operators(is ,is not)\n",
    "Membership Operators(in, not in)"
   ]
  },
  {
   "cell_type": "code",
   "execution_count": null,
   "metadata": {},
   "outputs": [],
   "source": [
    "BITWISE OPERATORS(imp):-Perform Bitwise operation on Integers"
   ]
  },
  {
   "cell_type": "code",
   "execution_count": null,
   "metadata": {},
   "outputs": [],
   "source": [
    "Bitwise operators only work on Integers\n",
    "Here Integers are first converted into binary and bitwise operation is performed\n",
    "various Bitwise operators are:\n",
    "suppose X and Y are two integer variable\n",
    "1)Bitwise AND(&)= X&Y\n",
    "2)Bitwise OR(|) = X|Y\n",
    "3)Bitwise NOT = ~X OR ~Y\n",
    "4)Bitwise XOR = X^Y\n",
    "5)Bitwise RightShift(>>)= X>>\n",
    "6)Bitwise LeftShift(<<) = X<<"
   ]
  },
  {
   "cell_type": "code",
   "execution_count": null,
   "metadata": {},
   "outputs": [],
   "source": [
    "AS I TOLD YOU WHEN 2 INTEGERS ARE GIVEN FIRST CONVERT THEN INTO BINARY,OK BEFORE PERFORMING ANY BITWISE OPERATION\n",
    "SO FIRST WE ARE LEARNING HOW TO CONVERT ANY NUMBER INTO BINARY,OK"
   ]
  },
  {
   "cell_type": "code",
   "execution_count": null,
   "metadata": {},
   "outputs": [],
   "source": [
    "Binary Numbers(base 2) = 0,1\n",
    "suppose we have to convert 117 to binary\n",
    "(117) = binary?\n",
    "\n",
    "starting from back take= 2**n 2**7, 2**6,2**5,2**4,2**3,2**2,2**1,2**0\n",
    "we get = ...128,64,32,16,8,4,2,1\n",
    "Now compare 117 from back side and write 1 below number which u take and 0 which you do not take\n",
    "so we take here 64 so 1, take 32 so again 1,take 16 so again 1 ,not take 8 so 0,again take 4 so 1,not 2 so 0,take 1 so 1\n",
    "\n",
    "finaly we get \n",
    "1110101\n",
    "This is how we convert numbers to Binary value\n",
    "\n",
    "AND IF BINARY IS GIVEN AND U HAVE TO FIND NUMBER OUT OF IT ,THEN PLACE THAT BINARY BELOW NUMBERS(NUMBERS FROM 2**0,2**1 ETC)\n",
    "FROM STARTING(WHERE 2**0,OK) SUPPOSE BINARY 1110 YOU PUT BELOW NUMBERS FROM EXTREME RIGHT SIDE(2**0) AND NOW\n",
    "WHEREEVER IS 1,LIKE HERE 3 TIMES VALUE 1 IS THERE THEN ADD VALL VALUE ABOVE 1, OK THAT WILLL BE THE NUMBER\n",
    " "
   ]
  },
  {
   "cell_type": "code",
   "execution_count": null,
   "metadata": {},
   "outputs": [],
   "source": [
    "BITWISE AND(&):=first finding the binary of two numbers which are given and then compare their binary value\n",
    "and in this case Returns 1 if both bits are 1 else Returns 0"
   ]
  },
  {
   "cell_type": "code",
   "execution_count": 2,
   "metadata": {},
   "outputs": [
    {
     "name": "stdout",
     "output_type": "stream",
     "text": [
      "0\n",
      "8\n"
     ]
    }
   ],
   "source": [
    "a  = 10\n",
    "b = 4\n",
    "# so binary of a is 1010\n",
    "# binary of b is 0100\n",
    "# output of 1010 &0100 is 0\n",
    "print(a&b)\n",
    "\n",
    "# similarly\n",
    "x = 8 \n",
    "y = 12 \n",
    "# x = 1000(binary)\n",
    "# y = 1100(binary)\n",
    "output of 8&12 is 1000\n",
    "print(x&y)"
   ]
  },
  {
   "cell_type": "code",
   "execution_count": null,
   "metadata": {},
   "outputs": [],
   "source": [
    "BITWISE OR(|) =X|Y\n",
    "It returns 1 if any of bits is 1 else 0(if both 0)"
   ]
  },
  {
   "cell_type": "code",
   "execution_count": 5,
   "metadata": {},
   "outputs": [
    {
     "name": "stdout",
     "output_type": "stream",
     "text": [
      "14\n",
      "31\n"
     ]
    }
   ],
   "source": [
    "a = 10\n",
    "b = 4 \n",
    "# output of 1010 and 0100 is 1110\n",
    "print(a|b)\n",
    "\n",
    "# SIMILARLY\n",
    "\n",
    "a =15\n",
    "b =20\n",
    "# binary of 15 is 01111 , actually binary was 1111 but binary of 20 is 10100 so we have to add one extra 0 for value 15\n",
    "# binary of 20 is 10100\n",
    "output is 11111 which is 31\n",
    "print(a|b)"
   ]
  },
  {
   "cell_type": "code",
   "execution_count": null,
   "metadata": {},
   "outputs": [],
   "source": [
    "BITWISE OR(~X OR ~Y)"
   ]
  },
  {
   "cell_type": "code",
   "execution_count": 7,
   "metadata": {},
   "outputs": [
    {
     "name": "stdout",
     "output_type": "stream",
     "text": [
      "-11\n",
      "\n",
      "-13\n"
     ]
    }
   ],
   "source": [
    "a = 10\n",
    "# binary of a is 1010\n",
    "# so ~a is ~1010 which which means -(1010+1) = -1011=-11\n",
    "\n",
    "print(~a)\n",
    "      \n",
    "print()\n",
    "\n",
    "b = 12\n",
    "print(~b)"
   ]
  },
  {
   "cell_type": "code",
   "execution_count": null,
   "metadata": {},
   "outputs": [],
   "source": [
    "BITWISE XOR(^)= X^Y\n",
    "It returns 1 when upar and niche wala bits is different yani 0 and 1 or 1 and 0 and it returs 0 when bits are same\n",
    "i.r upar and niche 1 and 1 or 0 and 0, ok"
   ]
  },
  {
   "cell_type": "code",
   "execution_count": 8,
   "metadata": {},
   "outputs": [
    {
     "name": "stdout",
     "output_type": "stream",
     "text": [
      "28\n"
     ]
    }
   ],
   "source": [
    "x =14\n",
    "y = 18\n",
    "# binary of 14 =01110\n",
    "# binary of 18=10010\n",
    "# output is 11100 which is 28\n",
    "print(x^y)"
   ]
  },
  {
   "cell_type": "code",
   "execution_count": null,
   "metadata": {},
   "outputs": [],
   "source": [
    "BITWISE RIGHT SHIFT(>>),  i.e X>>\n",
    ">>1(right shift1) which means divide by 2\n",
    ">>2(right shift2) which means divide by 4"
   ]
  },
  {
   "cell_type": "code",
   "execution_count": 13,
   "metadata": {},
   "outputs": [
    {
     "name": "stdout",
     "output_type": "stream",
     "text": [
      "5\n",
      "2\n",
      "\n",
      "10\n",
      "5\n"
     ]
    }
   ],
   "source": [
    "a = 10\n",
    "print(a>>1)\n",
    "print(a>>2)\n",
    "\n",
    "print()\n",
    "\n",
    "b = 20\n",
    "# here 20 divided by 2(for >>1) and 20 divided by 4(for >>2)\n",
    "print(b>>1)\n",
    "print(b>>2)"
   ]
  },
  {
   "cell_type": "code",
   "execution_count": null,
   "metadata": {},
   "outputs": [],
   "source": [
    "BITWISE LEFT SHIFT(<<)=i.r x<<\n",
    "In this \n",
    "<<1(left shift1) which means multiply by 2\n",
    "<<2(left shift 2)which means multiply by 4"
   ]
  },
  {
   "cell_type": "code",
   "execution_count": 14,
   "metadata": {},
   "outputs": [
    {
     "name": "stdout",
     "output_type": "stream",
     "text": [
      "10\n",
      "20\n",
      "\n",
      "20\n",
      "40\n",
      "\n",
      "-8\n",
      "-16\n"
     ]
    }
   ],
   "source": [
    "a = 5\n",
    "print(a<<1)\n",
    "print(a<<2)\n",
    "\n",
    "print()\n",
    "\n",
    "b = 10\n",
    "print(b<<1)\n",
    "print(b<<2)\n",
    "\n",
    "print()\n",
    "\n",
    "c = -4\n",
    "print(c<<1)\n",
    "print(c<<2)\n",
    "      "
   ]
  },
  {
   "cell_type": "code",
   "execution_count": null,
   "metadata": {},
   "outputs": [],
   "source": []
  }
 ],
 "metadata": {
  "kernelspec": {
   "display_name": "Python 3",
   "language": "python",
   "name": "python3"
  },
  "language_info": {
   "codemirror_mode": {
    "name": "ipython",
    "version": 3
   },
   "file_extension": ".py",
   "mimetype": "text/x-python",
   "name": "python",
   "nbconvert_exporter": "python",
   "pygments_lexer": "ipython3",
   "version": "3.8.5"
  }
 },
 "nbformat": 4,
 "nbformat_minor": 4
}
