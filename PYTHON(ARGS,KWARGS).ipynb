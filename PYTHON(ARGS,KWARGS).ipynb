{
 "cells": [
  {
   "cell_type": "code",
   "execution_count": null,
   "metadata": {},
   "outputs": [],
   "source": [
    "*args:It is used to pass any variable number of arguments to a function(from function call) \n",
    "and that should be non-keyword arguents\n",
    "Arguments like numbers,strings,floats(u can take mix value of it,if u want to)\n",
    "2)It store the data/arguments in the Tuple\n",
    "3)we can aceess then by using index."
   ]
  },
  {
   "cell_type": "code",
   "execution_count": null,
   "metadata": {},
   "outputs": [],
   "source": [
    "**Kwargs:=It is used to pass any number of variable arguments to a function(from function call) and It should be \n",
    "keyword arguments(like,  name='jai','age=34')\n",
    "It store the value in Dictionary\n",
    "You can access value by using key"
   ]
  },
  {
   "cell_type": "code",
   "execution_count": null,
   "metadata": {},
   "outputs": [],
   "source": [
    "*agrs"
   ]
  },
  {
   "cell_type": "code",
   "execution_count": 6,
   "metadata": {},
   "outputs": [
    {
     "name": "stdout",
     "output_type": "stream",
     "text": [
      "python\n",
      "is\n",
      "amazing\n",
      "language\n"
     ]
    }
   ],
   "source": [
    "def myfun(*args):\n",
    "    for arg in args:\n",
    "        print(arg)\n",
    "myfun(\"python\",\"is\",\"amazing\",\"language\")"
   ]
  },
  {
   "cell_type": "code",
   "execution_count": 2,
   "metadata": {},
   "outputs": [
    {
     "name": "stdout",
     "output_type": "stream",
     "text": [
      "args value are: (1, 2, 'jai', 9.8)\n",
      "1\n",
      "looping throgh\n",
      "1\n",
      "2\n",
      "jai\n",
      "9.8\n"
     ]
    }
   ],
   "source": [
    "def myfun(*args):\n",
    "    print(\"args value are:\", args)\n",
    "    print(args[0])\n",
    "    print(\"looping throgh\")\n",
    "    for i in args:\n",
    "        print(i)\n",
    "myfun(1,2,\"jai\",9.8)"
   ]
  },
  {
   "cell_type": "code",
   "execution_count": 7,
   "metadata": {},
   "outputs": [
    {
     "name": "stdout",
     "output_type": "stream",
     "text": [
      "The first argument is:  hello\n",
      "remaining args element are here:  welcome\n",
      "remaining args element are here:  to\n",
      "remaining args element are here:  geeksforgeks\n"
     ]
    }
   ],
   "source": [
    "def myfun(arg1, *args):\n",
    "    print(\"The first argument is: \", arg1)\n",
    "    for i in args:\n",
    "        print(\"remaining args element are here: \", i)\n",
    "myfun(\"hello\",\"welcome\",\"to\",\"geeksforgeks\")"
   ]
  },
  {
   "cell_type": "code",
   "execution_count": null,
   "metadata": {},
   "outputs": [],
   "source": [
    "**Kwargs"
   ]
  },
  {
   "cell_type": "code",
   "execution_count": 9,
   "metadata": {},
   "outputs": [
    {
     "name": "stdout",
     "output_type": "stream",
     "text": [
      "key:first value:Geeks\n",
      "key:second value:for\n",
      "key:third value:geeks\n"
     ]
    }
   ],
   "source": [
    "def myfun(**kwargs):\n",
    "    for key, value in kwargs.items():\n",
    "        print(\"key:{} value:{}\".format(key, value))\n",
    "myfun(first = \"Geeks\", second = \"for\", third = \"geeks\")"
   ]
  },
  {
   "cell_type": "code",
   "execution_count": 10,
   "metadata": {},
   "outputs": [
    {
     "name": "stdout",
     "output_type": "stream",
     "text": [
      "key:first value:Geeks\n",
      "key:second value:for\n",
      "key:third value:geeks\n"
     ]
    }
   ],
   "source": [
    "def myfun(x, **kwargs):\n",
    "    for key, value in kwargs.items():\n",
    "        print(\"key:{} value:{}\".format(key, value))\n",
    "\n",
    "myfun(\"jaitiwari\", first = \"Geeks\", second = \"for\", third = \"geeks\")"
   ]
  },
  {
   "cell_type": "code",
   "execution_count": 11,
   "metadata": {},
   "outputs": [
    {
     "name": "stdout",
     "output_type": "stream",
     "text": [
      "displaying first value:  jaitiwari\n",
      "key:first value:Geeks\n",
      "key:second value:for\n",
      "key:third value:geeks\n"
     ]
    }
   ],
   "source": [
    "def myfun(x, **kwargs):\n",
    "    print(\"displaying first value: \", x)\n",
    "    for key, value in kwargs.items():\n",
    "        print(\"key:{} value:{}\".format(key, value))\n",
    "myfun(\"jaitiwari\", first = \"Geeks\", second = \"for\", third = \"geeks\")"
   ]
  },
  {
   "cell_type": "code",
   "execution_count": 3,
   "metadata": {},
   "outputs": [
    {
     "name": "stdout",
     "output_type": "stream",
     "text": [
      "value of kwargs: {'name': 'jai', 'location': 'ggn', 'salary': 30000}\n",
      "jai\n",
      "looping throgh\n",
      "key:name value:jai\n",
      "key:location value:ggn\n",
      "key:salary value:30000\n"
     ]
    }
   ],
   "source": [
    "def myfun(**kwargs):\n",
    "    print(\"value of kwargs:\", kwargs)\n",
    "    print(kwargs['name'])\n",
    "    print(\"looping throgh\")\n",
    "    for key, value in kwargs.items():\n",
    "        print(\"key:{} value:{}\".format(key, value))\n",
    "myfun(name = \"jai\",location =\"ggn\",salary=30000)"
   ]
  },
  {
   "cell_type": "code",
   "execution_count": null,
   "metadata": {},
   "outputs": [],
   "source": [
    "USING *args and **kwargs in Calling function()--calling function(niche wala function name)"
   ]
  },
  {
   "cell_type": "code",
   "execution_count": 51,
   "metadata": {},
   "outputs": [
    {
     "name": "stdout",
     "output_type": "stream",
     "text": [
      "arg1:  jai\n",
      "arg2:  is\n",
      "arg3:  so\n",
      "arg4:  great\n",
      "\n",
      "arg1:  1\n",
      "arg2:  2\n",
      "arg3:  3\n",
      "arg4:  4\n"
     ]
    }
   ],
   "source": [
    "# we take (args) value always in tuples\n",
    "# we can take (kwargs) always in dictionary(keys can be int, float,str,tuple)\n",
    "def myfun(arg1,arg2,arg3,arg4):\n",
    "    print(\"arg1: \", arg1)\n",
    "    print(\"arg2: \", arg2)\n",
    "    print(\"arg3: \", arg3)\n",
    "    print(\"arg4: \", arg4)\n",
    "    \n",
    "args = (\"jai\",\"is\",\"so\", \"great\")\n",
    "# Above name should be args only otherwise it will u error\n",
    "\n",
    "myfun(*args)\n",
    "print()\n",
    "\n",
    "kwargs= {\"arg1\":1, \"arg2\":2,\"arg3\":3,\"arg4\":4}\n",
    "# Above name should be kwargs\n",
    "# # note:Here ,upar jakar myfun me kwargs ki value nikali jayengi(print) through keyword, kyoki kwargs ki value keyword se \n",
    "#  he nikalti h,so upar(function defition me) wahi keyword denge jo  niche diya hai ,\n",
    "# dictionary me(in case of kwargs) eg=\"arg1\", \"arg2\"  etc ye keyword dictionary me bhi honge aur yahi upar bhi honge\n",
    "\n",
    "myfun(**kwargs)"
   ]
  },
  {
   "cell_type": "code",
   "execution_count": 53,
   "metadata": {},
   "outputs": [
    {
     "name": "stdout",
     "output_type": "stream",
     "text": [
      "a: 1\n",
      "b: 2\n",
      "c:  3\n",
      "d: j\n",
      "\n",
      "a: 12\n",
      "b: 14\n",
      "c:  16\n",
      "d: 18\n"
     ]
    }
   ],
   "source": [
    "def myfun(a,b,c,d):\n",
    "    print(\"a:\", a)\n",
    "    print(\"b:\", b)\n",
    "    print(\"c: \", c)\n",
    "    print(\"d:\", d)\n",
    "    \n",
    "args = (1,2,3,\"j\")\n",
    "myfun(*args)\n",
    "\n",
    "print()\n",
    "\n",
    "kwargs = {\"a\":12, \"b\":14, \"c\":16, \"d\":18}\n",
    "myfun(**kwargs)"
   ]
  },
  {
   "cell_type": "code",
   "execution_count": null,
   "metadata": {},
   "outputs": [],
   "source": [
    "Using *args and **kwargs in same line to call a function⭐⭐⭐"
   ]
  },
  {
   "cell_type": "code",
   "execution_count": 59,
   "metadata": {},
   "outputs": [
    {
     "name": "stdout",
     "output_type": "stream",
     "text": [
      "args:  ('jai', 'is', 'great')\n",
      "kwargs:  {'name': 'samy', 'age': 34, 'salary': 45000}\n",
      "\n",
      "value of args are:  jai\n",
      "value of args are:  is\n",
      "value of args are:  great\n",
      "\n",
      "Key:name Value:samy\n",
      "Key:age Value:34\n",
      "Key:salary Value:45000\n"
     ]
    }
   ],
   "source": [
    "def myfun(*args, **kwargs):\n",
    "    print(\"args: \", args)\n",
    "    print(\"kwargs: \", kwargs)\n",
    "    print()\n",
    "    for i in args:\n",
    "        print(\"value of args are: \", i)\n",
    "    print()\n",
    "    for key, value in kwargs.items():\n",
    "        print(\"Key:{} Value:{}\".format(key, value))\n",
    "    \n",
    "myfun(\"jai\",\"is\",\"great\", name = \"samy\",age=34,salary=45000)"
   ]
  },
  {
   "cell_type": "code",
   "execution_count": null,
   "metadata": {},
   "outputs": [],
   "source": []
  }
 ],
 "metadata": {
  "kernelspec": {
   "display_name": "Python 3",
   "language": "python",
   "name": "python3"
  },
  "language_info": {
   "codemirror_mode": {
    "name": "ipython",
    "version": 3
   },
   "file_extension": ".py",
   "mimetype": "text/x-python",
   "name": "python",
   "nbconvert_exporter": "python",
   "pygments_lexer": "ipython3",
   "version": "3.8.5"
  }
 },
 "nbformat": 4,
 "nbformat_minor": 4
}
