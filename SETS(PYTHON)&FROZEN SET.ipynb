{
 "cells": [
  {
   "cell_type": "code",
   "execution_count": null,
   "metadata": {},
   "outputs": [],
   "source": [
    "SET..."
   ]
  },
  {
   "cell_type": "code",
   "execution_count": null,
   "metadata": {},
   "outputs": [],
   "source": [
    "1)A set is a unordered collection of elements such as number,float,boolean,str,tuple separated by comma and represented by\n",
    "curly braces{}\n",
    "Unordered collection means that element may not appear in the same order in which they entered in the set\n",
    "2)It do not contain datatype like list,set,dictionary(which are mutable)..ok\n",
    "3)Sets are unordered so we cannot access its elements using Index\n",
    "4)A set does not accept Duplicate values\n",
    "5)It is Mutable, so we can modify it"
   ]
  },
  {
   "cell_type": "code",
   "execution_count": null,
   "metadata": {},
   "outputs": [],
   "source": [
    "A BLANK SET-creating empty set by using set function"
   ]
  },
  {
   "cell_type": "code",
   "execution_count": 10,
   "metadata": {},
   "outputs": [
    {
     "name": "stdout",
     "output_type": "stream",
     "text": [
      "set()\n"
     ]
    }
   ],
   "source": [
    "a = set()\n",
    "print(a)"
   ]
  },
  {
   "cell_type": "code",
   "execution_count": 18,
   "metadata": {},
   "outputs": [
    {
     "name": "stdout",
     "output_type": "stream",
     "text": [
      "{True, 2.3, (1, 2), 10, 20, 'jai'}\n",
      "2227795463744\n"
     ]
    }
   ],
   "source": [
    "# Do not accept duplicate and order also changed\n",
    "a = {10,2.3,10,20,20,\"jai\",True,(1,2)}\n",
    "print(a)\n",
    "print(id(a))"
   ]
  },
  {
   "cell_type": "code",
   "execution_count": null,
   "metadata": {},
   "outputs": [],
   "source": [
    "CANNOT ACCESS ELEMENT FROM SET"
   ]
  },
  {
   "cell_type": "code",
   "execution_count": 8,
   "metadata": {},
   "outputs": [
    {
     "ename": "TypeError",
     "evalue": "'set' object is not subscriptable",
     "output_type": "error",
     "traceback": [
      "\u001b[1;31m---------------------------------------------------------------------------\u001b[0m",
      "\u001b[1;31mTypeError\u001b[0m                                 Traceback (most recent call last)",
      "\u001b[1;32m<ipython-input-8-3bef6e14011c>\u001b[0m in \u001b[0;36m<module>\u001b[1;34m\u001b[0m\n\u001b[0;32m      1\u001b[0m \u001b[0ma\u001b[0m \u001b[1;33m=\u001b[0m \u001b[1;33m{\u001b[0m\u001b[1;36m10\u001b[0m\u001b[1;33m,\u001b[0m\u001b[1;36m2.3\u001b[0m\u001b[1;33m,\u001b[0m\u001b[1;36m10\u001b[0m\u001b[1;33m,\u001b[0m\u001b[1;36m20\u001b[0m\u001b[1;33m,\u001b[0m\u001b[1;36m20\u001b[0m\u001b[1;33m,\u001b[0m\u001b[1;34m\"jai\"\u001b[0m\u001b[1;33m,\u001b[0m\u001b[1;32mTrue\u001b[0m\u001b[1;33m,\u001b[0m\u001b[1;33m(\u001b[0m\u001b[1;36m1\u001b[0m\u001b[1;33m,\u001b[0m\u001b[1;36m2\u001b[0m\u001b[1;33m)\u001b[0m\u001b[1;33m}\u001b[0m\u001b[1;33m\u001b[0m\u001b[1;33m\u001b[0m\u001b[0m\n\u001b[1;32m----> 2\u001b[1;33m \u001b[0mprint\u001b[0m\u001b[1;33m(\u001b[0m\u001b[0ma\u001b[0m\u001b[1;33m[\u001b[0m\u001b[1;36m1\u001b[0m\u001b[1;33m]\u001b[0m\u001b[1;33m)\u001b[0m\u001b[1;33m\u001b[0m\u001b[1;33m\u001b[0m\u001b[0m\n\u001b[0m",
      "\u001b[1;31mTypeError\u001b[0m: 'set' object is not subscriptable"
     ]
    }
   ],
   "source": [
    "a = {10,2.3,10,20,20,\"jai\",True,(1,2)}\n",
    "print(a[1])"
   ]
  },
  {
   "cell_type": "code",
   "execution_count": null,
   "metadata": {},
   "outputs": [],
   "source": [
    "DO NOT ACCEPT LIST EVEN INSIDE TUPLE (IN CASE OF SET)"
   ]
  },
  {
   "cell_type": "code",
   "execution_count": 14,
   "metadata": {},
   "outputs": [
    {
     "ename": "TypeError",
     "evalue": "unhashable type: 'list'",
     "output_type": "error",
     "traceback": [
      "\u001b[1;31m---------------------------------------------------------------------------\u001b[0m",
      "\u001b[1;31mTypeError\u001b[0m                                 Traceback (most recent call last)",
      "\u001b[1;32m<ipython-input-14-838e8544992c>\u001b[0m in \u001b[0;36m<module>\u001b[1;34m\u001b[0m\n\u001b[1;32m----> 1\u001b[1;33m \u001b[0ma\u001b[0m \u001b[1;33m=\u001b[0m \u001b[1;33m{\u001b[0m\u001b[1;36m1\u001b[0m\u001b[1;33m,\u001b[0m\u001b[1;36m2.3\u001b[0m\u001b[1;33m,\u001b[0m\u001b[1;33m(\u001b[0m\u001b[1;36m7\u001b[0m\u001b[1;33m,\u001b[0m\u001b[1;36m8\u001b[0m\u001b[1;33m)\u001b[0m\u001b[1;33m,\u001b[0m\u001b[1;33m(\u001b[0m\u001b[1;36m3\u001b[0m\u001b[1;33m,\u001b[0m\u001b[1;33m[\u001b[0m\u001b[1;36m1\u001b[0m\u001b[1;33m,\u001b[0m\u001b[1;36m2\u001b[0m\u001b[1;33m]\u001b[0m\u001b[1;33m)\u001b[0m\u001b[1;33m}\u001b[0m\u001b[1;33m\u001b[0m\u001b[1;33m\u001b[0m\u001b[0m\n\u001b[0m\u001b[0;32m      2\u001b[0m \u001b[0mprint\u001b[0m\u001b[1;33m(\u001b[0m\u001b[0ma\u001b[0m\u001b[1;33m)\u001b[0m\u001b[1;33m\u001b[0m\u001b[1;33m\u001b[0m\u001b[0m\n",
      "\u001b[1;31mTypeError\u001b[0m: unhashable type: 'list'"
     ]
    }
   ],
   "source": [
    "\n",
    "a = {1,2.3,(7,8),(3,[1,2])}\n",
    "print(a)"
   ]
  },
  {
   "cell_type": "code",
   "execution_count": null,
   "metadata": {},
   "outputs": [],
   "source": [
    "CONVERTING LIST TO SET"
   ]
  },
  {
   "cell_type": "code",
   "execution_count": 15,
   "metadata": {},
   "outputs": [
    {
     "name": "stdout",
     "output_type": "stream",
     "text": [
      "{1, (9, 0), 2, 3.4, 'k'}\n",
      "<class 'set'>\n"
     ]
    }
   ],
   "source": [
    "l = [1,2,\"k\",3.4,(9,0)]\n",
    "new_set = set(l)\n",
    "print(new_set)\n",
    "print(type(new_set))"
   ]
  },
  {
   "cell_type": "code",
   "execution_count": 12,
   "metadata": {},
   "outputs": [
    {
     "name": "stdout",
     "output_type": "stream",
     "text": [
      "{1, 2, 6.7, 'g'}\n",
      "<class 'set'>\n"
     ]
    }
   ],
   "source": [
    "a = set([1,2,6.7,\"g\"])\n",
    "print(a)\n",
    "print(type(a))"
   ]
  },
  {
   "cell_type": "code",
   "execution_count": null,
   "metadata": {},
   "outputs": [],
   "source": [
    "CONVERTING Tuple TO SET"
   ]
  },
  {
   "cell_type": "code",
   "execution_count": 16,
   "metadata": {},
   "outputs": [
    {
     "name": "stdout",
     "output_type": "stream",
     "text": [
      "{1, (9, 0), 2, 3.4, 'k'}\n",
      "<class 'set'>\n"
     ]
    }
   ],
   "source": [
    "t = (1,2,\"k\",3.4,(9,0))\n",
    "new_set1 = set(t)\n",
    "print(new_set1)\n",
    "print(type(new_set1))"
   ]
  },
  {
   "cell_type": "code",
   "execution_count": null,
   "metadata": {},
   "outputs": [],
   "source": [
    "CREATING SET FROM STRING"
   ]
  },
  {
   "cell_type": "code",
   "execution_count": 2,
   "metadata": {},
   "outputs": [
    {
     "name": "stdout",
     "output_type": "stream",
     "text": [
      "<class 'set'> y: {'r', 'e', 's', 'o', 'G', 'k', 'f'}\n"
     ]
    }
   ],
   "source": [
    "x = 'GeeksforGeeks'\n",
    "y = set(x)\n",
    "print(type(y),\"y:\",y)"
   ]
  },
  {
   "cell_type": "code",
   "execution_count": null,
   "metadata": {},
   "outputs": [],
   "source": [
    "CAN ACCEPT DUPLICATE VALUE INSIDE TUPLE IN SET"
   ]
  },
  {
   "cell_type": "code",
   "execution_count": 19,
   "metadata": {},
   "outputs": [
    {
     "name": "stdout",
     "output_type": "stream",
     "text": [
      "{1, 3.4, (1, 8, 1), 'j'}\n"
     ]
    }
   ],
   "source": [
    "a = {1,3.4,(1,8,1),\"j\",True}\n",
    "print(a)"
   ]
  },
  {
   "cell_type": "code",
   "execution_count": null,
   "metadata": {},
   "outputs": [],
   "source": [
    "ADD AND UPDATE METHOD"
   ]
  },
  {
   "cell_type": "code",
   "execution_count": null,
   "metadata": {},
   "outputs": [],
   "source": [
    "ADDING VALUE TO EMPTY SET THROUGH ADD() METHOD\n",
    "\n",
    "Add()mehod ====which takes only 1 argument.It\n",
    "can takes numbers,float,boolean,tuple,string."
   ]
  },
  {
   "cell_type": "code",
   "execution_count": 34,
   "metadata": {},
   "outputs": [
    {
     "name": "stdout",
     "output_type": "stream",
     "text": [
      "set()\n",
      "{False, (9, 0), 2, 'j', 6.8}\n"
     ]
    }
   ],
   "source": [
    "a = set()\n",
    "print(a)\n",
    "a.add(2)\n",
    "a.add(6.8)\n",
    "a.add((9,0))\n",
    "a.add(False)\n",
    "a.add(\"j\")\n",
    "print(a)\n",
    "    "
   ]
  },
  {
   "cell_type": "code",
   "execution_count": 25,
   "metadata": {},
   "outputs": [
    {
     "name": "stdout",
     "output_type": "stream",
     "text": [
      "{1}\n"
     ]
    }
   ],
   "source": [
    "a = set()\n",
    "a.add(1)\n",
    "a.add(1)\n",
    "print(a)\n",
    "it does not takes duplicates values"
   ]
  },
  {
   "cell_type": "code",
   "execution_count": null,
   "metadata": {},
   "outputs": [],
   "source": [
    "UPDATE TAKES MUTIPLE ARGUMENTS such as str,tuple,list,set and dictionary"
   ]
  },
  {
   "cell_type": "code",
   "execution_count": 42,
   "metadata": {},
   "outputs": [
    {
     "name": "stdout",
     "output_type": "stream",
     "text": [
      "{'a', 2, 3, 5, 'j', 6, 'name', 'i'}\n"
     ]
    }
   ],
   "source": [
    "a=set()\n",
    "a.update(\"jai\",{\"name\":\"j\"},[5,6],{2,3})\n",
    "print(a)"
   ]
  },
  {
   "cell_type": "code",
   "execution_count": 40,
   "metadata": {},
   "outputs": [
    {
     "name": "stdout",
     "output_type": "stream",
     "text": [
      "{'kai', (8, 9), 5.6}\n"
     ]
    }
   ],
   "source": [
    "a = set()\n",
    "b={(8,9),\"kai\",5.6}\n",
    "a.update(b)\n",
    "print(a)"
   ]
  },
  {
   "cell_type": "code",
   "execution_count": 46,
   "metadata": {},
   "outputs": [
    {
     "name": "stdout",
     "output_type": "stream",
     "text": [
      "2227795463968\n",
      "{100, 'j', 102, 103, 'v'}\n",
      "2227795463968\n"
     ]
    }
   ],
   "source": [
    "a= {\"j\",\"v\"}\n",
    "print(id(a))\n",
    "a.update([100,102,103])\n",
    "print(a)\n",
    "print(id(a))"
   ]
  },
  {
   "cell_type": "code",
   "execution_count": null,
   "metadata": {},
   "outputs": [],
   "source": [
    "VARIOUS SETS METHOD"
   ]
  },
  {
   "cell_type": "code",
   "execution_count": null,
   "metadata": {},
   "outputs": [],
   "source": [
    "REMOVE AND DISCARD METHOD👀👀👀"
   ]
  },
  {
   "cell_type": "code",
   "execution_count": null,
   "metadata": {},
   "outputs": [],
   "source": [
    "Remove method remove element and It raise an error if element does not exists while\n",
    "Discard method remains unchanged if element does not exists"
   ]
  },
  {
   "cell_type": "code",
   "execution_count": 13,
   "metadata": {},
   "outputs": [
    {
     "name": "stdout",
     "output_type": "stream",
     "text": [
      "Original set {'geekyshow', 10, 2.3, True}\n",
      "2291739724480\n",
      "\n",
      "{10, 2.3, True}\n",
      "\n",
      "{2.3, True}\n",
      "2291739724480\n",
      "original sets {'geekyshow', 10, 2.3, True}\n",
      "2291739722912\n",
      "{10, 2.3, True}\n",
      "{2.3, True}\n",
      "2291739722912\n",
      "{2.3, True}\n"
     ]
    }
   ],
   "source": [
    "a = {10,2.3,\"geekyshow\",True}\n",
    "print(\"Original set\", a)\n",
    "print(id(a))\n",
    "print()\n",
    "a.remove(\"geekyshow\")\n",
    "print(a)\n",
    "print()\n",
    "a.remove(10)\n",
    "print(a)\n",
    "print(id(a))\n",
    "# a.remove(24)\n",
    "# print(a) It will throw error\n",
    "\n",
    "\n",
    "# Discard()method\n",
    "a = {10,2.3,\"geekyshow\",True}\n",
    "print(\"original sets\", a)\n",
    "print(id(a))\n",
    "a.discard(\"geekyshow\")\n",
    "print(a)\n",
    "a.discard(10)\n",
    "print(a)\n",
    "print(id(a))\n",
    "\n",
    "# if we remove element which is not there then also it do not throw eror\n",
    "a.discard(20)\n",
    "print(a)it remain unchanged"
   ]
  },
  {
   "cell_type": "code",
   "execution_count": null,
   "metadata": {},
   "outputs": [],
   "source": [
    "POP() METHOD"
   ]
  },
  {
   "cell_type": "code",
   "execution_count": 22,
   "metadata": {},
   "outputs": [
    {
     "name": "stdout",
     "output_type": "stream",
     "text": [
      "x: {'gungun', 'jai', 'saksham'}\n",
      "z: gungun\n",
      "\n",
      "x: {'jai', 'saksham'}\n",
      "z1: jai\n"
     ]
    }
   ],
   "source": [
    "x = {'jai','saksham','gungun'}\n",
    "print(\"x:\", x)\n",
    "z = x.pop()\n",
    "print(\"z:\", z)\n",
    "print()\n",
    "print(\"x:\", x)\n",
    "z1 = x.pop()\n",
    "print(\"z1:\", z1)\n",
    "# z1 = x.pop()\n",
    "# print(\"z1:\", z1)"
   ]
  },
  {
   "cell_type": "code",
   "execution_count": null,
   "metadata": {},
   "outputs": [],
   "source": [
    "COPY() METHOD"
   ]
  },
  {
   "cell_type": "code",
   "execution_count": 25,
   "metadata": {},
   "outputs": [
    {
     "name": "stdout",
     "output_type": "stream",
     "text": [
      "x: {'gungun', 'jai', 'saksham'}\n",
      "c1(copyxvalue): {'gungun', 'jai', 'saksham'}\n"
     ]
    }
   ],
   "source": [
    "x = {'jai','saksham','gungun'}\n",
    "print(\"x:\", x)\n",
    "c1 = x.copy()\n",
    "print(\"c1(copyxvalue):\", c1)"
   ]
  },
  {
   "cell_type": "code",
   "execution_count": 21,
   "metadata": {},
   "outputs": [
    {
     "ename": "SyntaxError",
     "evalue": "invalid syntax (<ipython-input-21-7b342a538ac3>, line 1)",
     "output_type": "error",
     "traceback": [
      "\u001b[1;36m  File \u001b[1;32m\"<ipython-input-21-7b342a538ac3>\"\u001b[1;36m, line \u001b[1;32m1\u001b[0m\n\u001b[1;33m    CLEAR() METHOD\u001b[0m\n\u001b[1;37m            ^\u001b[0m\n\u001b[1;31mSyntaxError\u001b[0m\u001b[1;31m:\u001b[0m invalid syntax\n"
     ]
    }
   ],
   "source": [
    "CLEAR() METHOD"
   ]
  },
  {
   "cell_type": "code",
   "execution_count": 28,
   "metadata": {},
   "outputs": [
    {
     "name": "stdout",
     "output_type": "stream",
     "text": [
      "{1, 4.5, 'j', (9, 4)}\n",
      "2291739724928\n",
      "\n",
      "set()\n",
      "2291739724928\n"
     ]
    }
   ],
   "source": [
    "a = {1,4.5,True,(9,4),\"j\"}\n",
    "print(a)\n",
    "print(id(a))\n",
    "print()\n",
    "a.clear()\n",
    "print(a)\n",
    "print(id(a)\n",
    "#       BOTH HAVE SAME ID"
   ]
  },
  {
   "cell_type": "code",
   "execution_count": null,
   "metadata": {},
   "outputs": [],
   "source": [
    "ISDISJOINT"
   ]
  },
  {
   "cell_type": "code",
   "execution_count": 8,
   "metadata": {},
   "outputs": [
    {
     "name": "stdout",
     "output_type": "stream",
     "text": [
      "True\n"
     ]
    }
   ],
   "source": [
    "x= {'jai','kelvin','brad'}\n",
    "y ={'mahek','tam','sam'}\n",
    "z =x.isdisjoint(y)\n",
    "print(z)"
   ]
  },
  {
   "cell_type": "code",
   "execution_count": 11,
   "metadata": {},
   "outputs": [
    {
     "name": "stdout",
     "output_type": "stream",
     "text": [
      "True\n"
     ]
    }
   ],
   "source": [
    "x1= {'jai','kelvin','brad'}\n",
    "y1= {'jai','kelvin','brad'}\n",
    "z1 = x1.isdisjoint(y)\n",
    "print(z1)"
   ]
  },
  {
   "cell_type": "code",
   "execution_count": null,
   "metadata": {},
   "outputs": [],
   "source": [
    "ACCESS  ELEMENTS FROM THE LOOPS"
   ]
  },
  {
   "cell_type": "code",
   "execution_count": 15,
   "metadata": {},
   "outputs": [
    {
     "name": "stdout",
     "output_type": "stream",
     "text": [
      "The elements are : True\n",
      "The elements are : (9, 0)\n",
      "The elements are : 2.3\n",
      "The elements are : 10\n",
      "The elements are : k\n"
     ]
    }
   ],
   "source": [
    "a = {10,2.3,\"k\",True,(9,0)}\n",
    "for i in a:\n",
    "    print(\"The elements are :\", i)"
   ]
  },
  {
   "cell_type": "code",
   "execution_count": 11,
   "metadata": {},
   "outputs": [
    {
     "name": "stdout",
     "output_type": "stream",
     "text": [
      "number:  [1, 2, 2, 3, 4, 5, 5, 6, 3, 4, 10, 11, 11]\n",
      "now see\n",
      "s:  {1, 2, 3, 4, 5, 6, 10, 11}\n",
      "<class 'set'>\n",
      "\n",
      "{1, 2, 3, 4, 5, 6, 10, 11, 12, 20}\n"
     ]
    }
   ],
   "source": [
    "# I want unique numbers from this number list\n",
    "number = [1,2,2,3,4,5,5,6,3,4,10,11,11]\n",
    "print(\"number: \", number)\n",
    "print(\"now see\")\n",
    "s = set(number)\n",
    "print(\"s: \", s)\n",
    "print(type(s))\n",
    "print()\n",
    "s.add(12)\n",
    "s.add(20)\n",
    "print(s)"
   ]
  },
  {
   "cell_type": "code",
   "execution_count": null,
   "metadata": {},
   "outputs": [],
   "source": [
    "GETING INPUT FROM THE USERS"
   ]
  },
  {
   "cell_type": "code",
   "execution_count": 21,
   "metadata": {},
   "outputs": [
    {
     "name": "stdout",
     "output_type": "stream",
     "text": [
      "2291739723808\n",
      "Enter the number of elements3\n",
      "Enter the elements3\n",
      "Enter the elements\"l\"\n",
      "Enter the elements4.5\n",
      "{'4.5', '3', '\"l\"'}\n",
      "4.5\n",
      "3\n",
      "\"l\"\n"
     ]
    }
   ],
   "source": [
    "a = set()\n",
    "print(id(a))\n",
    "n = int(input(\"Enter the number of elements\"))\n",
    "for i in range(n):\n",
    "    e1 = input(\"Enter the elements\")\n",
    "    a.add(e1)\n",
    "print(a)\n",
    "\n",
    "for i in a:\n",
    "    print(i)"
   ]
  },
  {
   "cell_type": "code",
   "execution_count": null,
   "metadata": {},
   "outputs": [],
   "source": [
    "COPYING SET ELEMENT IN PYTHON"
   ]
  },
  {
   "cell_type": "code",
   "execution_count": 26,
   "metadata": {},
   "outputs": [
    {
     "name": "stdout",
     "output_type": "stream",
     "text": [
      "before copy {1, 2.3, 'j', 'True', (6, 6)}\n",
      "2291739723808\n",
      "\n",
      "\n",
      "after copy {1, 2.3, 'True', (6, 6), 'j'}\n",
      "2291739725600\n"
     ]
    }
   ],
   "source": [
    "a = {1,2.3,\"True\",\"j\",(6,6)}\n",
    "print(\"before copy\", a)\n",
    "print(id(a))\n",
    "print()\n",
    "print()\n",
    "new_set  =a.copy()\n",
    "print(\"after copy\", new_set)\n",
    "print(id(new_set))\n",
    "\n",
    "# BOTH HAVE DIFFERENT ID ADDRESS"
   ]
  },
  {
   "cell_type": "code",
   "execution_count": null,
   "metadata": {},
   "outputs": [],
   "source": [
    "IMPORTANT SET FUNCTION"
   ]
  },
  {
   "cell_type": "code",
   "execution_count": null,
   "metadata": {},
   "outputs": [],
   "source": [
    "INTERSECTION:-Bring out common elements from both sets"
   ]
  },
  {
   "cell_type": "code",
   "execution_count": 69,
   "metadata": {},
   "outputs": [
    {
     "name": "stdout",
     "output_type": "stream",
     "text": [
      "a: {'rani', 'sonam', 'jai', 'mahek', 'rahul', 'raj'}\n",
      "b: {'jaya', 'tina', 'rani', 'rahul', 'java', 'python'}\n",
      "\n",
      "x: {'rahul', 'rani'}\n",
      "x1: {'rahul', 'rani'}\n"
     ]
    }
   ],
   "source": [
    "a = {\"rahul\",\"raj\", \"rani\",\"sonam\",\"jai\",\"mahek\"}\n",
    "b = {\"python\",\"java\",\"jaya\",\"rahul\",\"tina\",\"rani\"}\n",
    "print(\"a:\", a)\n",
    "print(\"b:\", b)\n",
    "print()\n",
    "x = a.intersection(b)\n",
    "print(\"x:\",x)\n",
    "x1 = b.intersection(a)\n",
    "print(\"x1:\",x1)"
   ]
  },
  {
   "cell_type": "code",
   "execution_count": null,
   "metadata": {},
   "outputs": [],
   "source": [
    "UNION:all elements in both sets will be there but not duplicate value"
   ]
  },
  {
   "cell_type": "code",
   "execution_count": 34,
   "metadata": {},
   "outputs": [
    {
     "name": "stdout",
     "output_type": "stream",
     "text": [
      "a: {'rani', 'sonam', 'jai', 'mahek', 'rahul', 'raj'}\n",
      "b: {'jaya', 'tina', 'rani', 'rahul', 'java', 'python'}\n",
      "{'jaya', 'rani', 'tina', 'sonam', 'jai', 'mahek', 'rahul', 'java', 'python', 'raj'}\n",
      "{'jaya', 'tina', 'rani', 'sonam', 'jai', 'mahek', 'rahul', 'java', 'python', 'raj'}\n"
     ]
    }
   ],
   "source": [
    "a = {\"rahul\",\"raj\", \"rani\",\"sonam\",\"jai\",\"mahek\"}\n",
    "b = {\"python\",\"java\",\"jaya\",\"rahul\",\"tina\",\"rani\"}\n",
    "print(\"a:\", a)\n",
    "print(\"b:\", b)\n",
    "x =a.union(b)\n",
    "print(x)\n",
    "x1 =b.union(a)\n",
    "print(x1)"
   ]
  },
  {
   "cell_type": "code",
   "execution_count": null,
   "metadata": {},
   "outputs": [],
   "source": [
    "DIFFERENCE-"
   ]
  },
  {
   "cell_type": "code",
   "execution_count": 68,
   "metadata": {},
   "outputs": [
    {
     "name": "stdout",
     "output_type": "stream",
     "text": [
      "a {'rani', 'sonam', 'jai', 'mahek', 'rahul', 'raj'}\n",
      "b {'jaya', 'tina', 'rani', 'rahul', 'java', 'python'}\n",
      "x: {'mahek', 'raj', 'sonam', 'jai'}\n",
      "x1: {'jaya', 'java', 'python', 'tina'}\n"
     ]
    }
   ],
   "source": [
    "a = {\"rahul\",\"raj\", \"rani\",\"sonam\",\"jai\",\"mahek\"}\n",
    "b = {\"python\",\"java\",\"jaya\",\"rahul\",\"tina\",\"rani\"}\n",
    "print(\"a\",a)\n",
    "print(\"b\",b)\n",
    "x = a.difference(b)\n",
    "# It will remove All set b elements from set a and left with element in a \n",
    "print(\"x:\",x)\n",
    "x1=  b.difference(a)\n",
    "print(\"x1:\",x1)\n"
   ]
  },
  {
   "cell_type": "code",
   "execution_count": null,
   "metadata": {},
   "outputs": [],
   "source": [
    "SYMMETRIC_DIFFERENCE"
   ]
  },
  {
   "cell_type": "code",
   "execution_count": 12,
   "metadata": {},
   "outputs": [
    {
     "name": "stdout",
     "output_type": "stream",
     "text": [
      "{'sam', 'mahek'}\n"
     ]
    }
   ],
   "source": [
    "x={\"jai\",\"sam\",\"tam\"}\n",
    "y = {\"mahek\",\"jai\",\"tam\"}\n",
    "z = x.symmetric_difference(y)\n",
    "print(z)"
   ]
  },
  {
   "cell_type": "code",
   "execution_count": null,
   "metadata": {},
   "outputs": [],
   "source": [
    "SUBSET"
   ]
  },
  {
   "cell_type": "code",
   "execution_count": 66,
   "metadata": {},
   "outputs": [
    {
     "name": "stdout",
     "output_type": "stream",
     "text": [
      "a {'rani', 'sonam', 'jai', 'mahek', 'rahul', 'raj'}\n",
      "b {'jaya', 'tina', 'rani', 'rahul', 'java', 'python'}\n",
      "i: False\n",
      "\n",
      "\n",
      "a1: True\n",
      "\n",
      "a2: True\n"
     ]
    }
   ],
   "source": [
    "a = {\"rahul\",\"raj\", \"rani\",\"sonam\",\"jai\",\"mahek\"}\n",
    "b = {\"python\",\"java\",\"jaya\",\"rahul\",\"tina\",\"rani\"}\n",
    "print(\"a\",a)\n",
    "print(\"b\",b)\n",
    "i = a.issubset(b)\n",
    "print(\"i:\",i)\n",
    "print()\n",
    "print()\n",
    "c={5,6.7,\"h\"}\n",
    "d={5,6.7,\"h\",(9,0)}\n",
    "a1 = c.issubset(d)\n",
    "print(\"a1:\",a1)\n",
    "print()\n",
    "d={5,6.7,\"h\",(9,0)}\n",
    "e = {5,6.7,\"h\",(9,0)}\n",
    "a2 = e.issubset(d)\n",
    "print(\"a2:\",a2)"
   ]
  },
  {
   "cell_type": "code",
   "execution_count": null,
   "metadata": {},
   "outputs": [],
   "source": [
    "SUPERSET"
   ]
  },
  {
   "cell_type": "code",
   "execution_count": 64,
   "metadata": {},
   "outputs": [
    {
     "name": "stdout",
     "output_type": "stream",
     "text": [
      "a {'rani', 'sonam', 'jai', 'mahek', 'rahul', 'raj'}\n",
      "b {'jaya', 'tina', 'rani', 'rahul', 'java', 'python'}\n",
      "a1: False\n",
      "\n",
      "a {'rani', 'rahul', 'tina'}\n",
      "b {'jaya', 'tina', 'rani', 'rahul', 'java', 'python'}\n",
      "a2: False\n",
      "\n",
      "a3: True\n",
      "\n",
      "a {'tina', 'rahul', 'raj'}\n",
      "b {'jaya', 'tina', 'rani', 'rahul', 'java', 'python'}\n",
      "a4: False\n"
     ]
    }
   ],
   "source": [
    "a = {\"rahul\",\"raj\", \"rani\",\"sonam\",\"jai\",\"mahek\"}\n",
    "b = {\"python\",\"java\",\"jaya\",\"rahul\",\"tina\",\"rani\"}\n",
    "print(\"a\",a)\n",
    "print(\"b\",b)\n",
    "a1= a.issuperset(b)\n",
    "print(\"a1:\",a1)\n",
    "\n",
    "print()\n",
    "a = {\"rahul\",\"rani\", \"tina\"}\n",
    "b = {\"python\",\"java\",\"jaya\",\"rahul\",\"tina\",\"rani\"}\n",
    "print(\"a\",a)\n",
    "print(\"b\",b)\n",
    "a2 = a.issuperset(b)\n",
    "print(\"a2:\",a2)\n",
    "print()\n",
    "a3 = b.issuperset(a)\n",
    "print(\"a3:\",a3)\n",
    "print()\n",
    "a = {\"rahul\",\"raj\", \"tina\"}\n",
    "b = {\"python\",\"java\",\"jaya\",\"rahul\",\"tina\",\"rani\"}\n",
    "print(\"a\",a)\n",
    "print(\"b\",b)\n",
    "a4 =b.issuperset(a)\n",
    "print(\"a4:\",a4)\n"
   ]
  },
  {
   "cell_type": "code",
   "execution_count": null,
   "metadata": {},
   "outputs": [],
   "source": [
    "PASSING SET TO A FUNCTION"
   ]
  },
  {
   "cell_type": "code",
   "execution_count": 71,
   "metadata": {},
   "outputs": [
    {
     "name": "stdout",
     "output_type": "stream",
     "text": [
      "{1, 2.3, (9, 0), 'jai'}\n",
      "<class 'set'>\n",
      "The values are: 1\n",
      "The values are: 2.3\n",
      "The values are: (9, 0)\n",
      "The values are: jai\n"
     ]
    }
   ],
   "source": [
    "def show(s):\n",
    "    print(s)\n",
    "    print(type(s))\n",
    "    for i in s:\n",
    "        print(\"The values are:\",i)\n",
    "st = {1,2.3,\"jai\",(9,0)}\n",
    "show(st)"
   ]
  },
  {
   "cell_type": "code",
   "execution_count": null,
   "metadata": {},
   "outputs": [],
   "source": [
    "RETURING SET FROM FUNCTION"
   ]
  },
  {
   "cell_type": "code",
   "execution_count": 73,
   "metadata": {},
   "outputs": [
    {
     "name": "stdout",
     "output_type": "stream",
     "text": [
      "{1, 2.3, (9, 0), 'jai'}\n",
      "<class 'set'>\n",
      "The elements are: 1\n",
      "The elements are: 2.3\n",
      "The elements are: (9, 0)\n",
      "The elements are: jai\n",
      "new set is: {1, 2.3, (9, 0), 'jai'}\n",
      "<class 'set'>\n"
     ]
    }
   ],
   "source": [
    "def show(s):\n",
    "    print(s)\n",
    "    print(type(s))\n",
    "    for i in s:\n",
    "        print(\"The elements are:\",i)\n",
    "    return s\n",
    "\n",
    "st = {1,2.3,\"jai\",(9,0)}\n",
    "new_set = show(st)\n",
    "print(\"new set is:\", new_set)\n",
    "print(type(new_set))\n"
   ]
  },
  {
   "cell_type": "code",
   "execution_count": null,
   "metadata": {},
   "outputs": [],
   "source": [
    "FROZEN SET:=It is Immutable"
   ]
  },
  {
   "cell_type": "code",
   "execution_count": 1,
   "metadata": {},
   "outputs": [
    {
     "name": "stdout",
     "output_type": "stream",
     "text": [
      "{40, 10, 50, 20}\n"
     ]
    }
   ],
   "source": [
    "s = {10,20,30,40}\n",
    "s.add(50)\n",
    "s.remove(30)\n",
    "print(s)"
   ]
  },
  {
   "cell_type": "code",
   "execution_count": null,
   "metadata": {},
   "outputs": [],
   "source": [
    "CONVERTING SET INTO FROZENSET"
   ]
  },
  {
   "cell_type": "code",
   "execution_count": 8,
   "metadata": {},
   "outputs": [
    {
     "name": "stdout",
     "output_type": "stream",
     "text": [
      "{9.5, 10, (1, 1), 'j', 20, 30}\n",
      "<class 'set'>\n",
      "\n",
      "frozenset({'j', (1, 1), 20, 9.5, 10, 30})\n",
      "<class 'frozenset'>\n"
     ]
    },
    {
     "ename": "TypeError",
     "evalue": "'frozenset' object is not subscriptable",
     "output_type": "error",
     "traceback": [
      "\u001b[1;31m---------------------------------------------------------------------------\u001b[0m",
      "\u001b[1;31mTypeError\u001b[0m                                 Traceback (most recent call last)",
      "\u001b[1;32m<ipython-input-8-7a0db9c99811>\u001b[0m in \u001b[0;36m<module>\u001b[1;34m\u001b[0m\n\u001b[0;32m      6\u001b[0m \u001b[0mprint\u001b[0m\u001b[1;33m(\u001b[0m\u001b[0mfs\u001b[0m\u001b[1;33m)\u001b[0m\u001b[1;33m\u001b[0m\u001b[1;33m\u001b[0m\u001b[0m\n\u001b[0;32m      7\u001b[0m \u001b[0mprint\u001b[0m\u001b[1;33m(\u001b[0m\u001b[0mtype\u001b[0m\u001b[1;33m(\u001b[0m\u001b[0mfs\u001b[0m\u001b[1;33m)\u001b[0m\u001b[1;33m)\u001b[0m\u001b[1;33m\u001b[0m\u001b[1;33m\u001b[0m\u001b[0m\n\u001b[1;32m----> 8\u001b[1;33m \u001b[0mx\u001b[0m \u001b[1;33m=\u001b[0m \u001b[0mfs\u001b[0m\u001b[1;33m[\u001b[0m\u001b[1;36m0\u001b[0m\u001b[1;33m]\u001b[0m\u001b[1;33m\u001b[0m\u001b[1;33m\u001b[0m\u001b[0m\n\u001b[0m\u001b[0;32m      9\u001b[0m \u001b[0mprint\u001b[0m\u001b[1;33m(\u001b[0m\u001b[0mx\u001b[0m\u001b[1;33m)\u001b[0m\u001b[1;33m\u001b[0m\u001b[1;33m\u001b[0m\u001b[0m\n\u001b[0;32m     10\u001b[0m \u001b[0mprint\u001b[0m\u001b[1;33m(\u001b[0m\u001b[1;33m)\u001b[0m\u001b[1;33m\u001b[0m\u001b[1;33m\u001b[0m\u001b[0m\n",
      "\u001b[1;31mTypeError\u001b[0m: 'frozenset' object is not subscriptable"
     ]
    }
   ],
   "source": [
    "s = {10,20,30,\"j\",9.5,(1,1)}\n",
    "print(s)\n",
    "print(type(s))\n",
    "print()\n",
    "fs = frozenset(s)\n",
    "print(fs)\n",
    "print(type(fs))\n",
    "# x = fs[0]\n",
    "# print(x)---not allowed here(slicing also not allowed)\n",
    "print()\n",
    "# since it is immutable we can not apply add() or remove method on it, ok\n",
    "# fs.add(24)\n",
    "# print(fs)\n",
    "# print()\n",
    "fs.remove(24)\n",
    "print(fs)\n"
   ]
  },
  {
   "cell_type": "code",
   "execution_count": null,
   "metadata": {},
   "outputs": [],
   "source": [
    "CREATING FROZENSET FROM LIST"
   ]
  },
  {
   "cell_type": "code",
   "execution_count": 15,
   "metadata": {},
   "outputs": [
    {
     "name": "stdout",
     "output_type": "stream",
     "text": [
      "frozenset({1, 2, 3.4, (3, 4), 'j'})\n",
      "<class 'frozenset'>\n",
      "length: 5\n"
     ]
    }
   ],
   "source": [
    "b = frozenset([1,3.4,2,2,\"j\",(3,4)])\n",
    "print(b)\n",
    "print(type(b))\n",
    "print(\"length:\" , len(b))"
   ]
  },
  {
   "cell_type": "code",
   "execution_count": null,
   "metadata": {},
   "outputs": [],
   "source": [
    "CREATING FROZEN SET FROM DICTIONARY"
   ]
  },
  {
   "cell_type": "code",
   "execution_count": 19,
   "metadata": {},
   "outputs": [
    {
     "name": "stdout",
     "output_type": "stream",
     "text": [
      "{'name': 'jai', 'age': 35}\n",
      "<class 'dict'>\n",
      "\n",
      "frozenset({'name', 'age'})\n",
      "<class 'frozenset'>\n",
      "\n",
      "name\n",
      "age\n"
     ]
    }
   ],
   "source": [
    "d = {\"name\":\"jai\", \"age\":35}\n",
    "print(d)\n",
    "print(type(d))\n",
    "print()\n",
    "s = frozenset(d)\n",
    "print(s)\n",
    "print(type(s))\n",
    "print()\n",
    "for i in s:\n",
    "    print(i)\n",
    "# HERE, WE ONLY GET THE KEYS OF DICTIONARY"
   ]
  },
  {
   "cell_type": "code",
   "execution_count": null,
   "metadata": {},
   "outputs": [],
   "source": [
    "DIFFERENCE BETWEEN FROZENSET AND TUPLE\n",
    "1)In Tuple, Orders are Applicable\n",
    "1)In Frozenset, Orders are not applicable\n",
    "\n",
    "2)In tuple,Duplicates are allowed\n",
    "In Frozenset, Duplicate are not allowed\n",
    "\n",
    "3)In Tuple, Index,slicing are applicable\n",
    "3)In Frozenset, Index,slicing are not applicable\n"
   ]
  }
 ],
 "metadata": {
  "kernelspec": {
   "display_name": "Python 3",
   "language": "python",
   "name": "python3"
  },
  "language_info": {
   "codemirror_mode": {
    "name": "ipython",
    "version": 3
   },
   "file_extension": ".py",
   "mimetype": "text/x-python",
   "name": "python",
   "nbconvert_exporter": "python",
   "pygments_lexer": "ipython3",
   "version": "3.8.5"
  }
 },
 "nbformat": 4,
 "nbformat_minor": 4
}
