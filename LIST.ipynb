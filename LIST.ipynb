{
 "cells": [
  {
   "cell_type": "markdown",
   "metadata": {},
   "source": [
    "# LIST"
   ]
  },
  {
   "cell_type": "code",
   "execution_count": null,
   "metadata": {},
   "outputs": [],
   "source": [
    "1)It is one of the built-in ordered data strucure in python which consists of diferernt elements separated by comma and \n",
    "encloded in square bracket.These different element can be number,float,boolean,complex,string,tuple,list,set,dictionary\n",
    "2)List may contains duplicate values\n",
    "3)A list can also have another list as an item. This is called a Nested list\n",
    "4)List is a Mutable data type.i.e Inside List,element can be modified,deleted and new element can be added.\n",
    "Mutable means an object whose value can be changed once it is created\n",
    "5)Element in List can be accessed through indexing,idexing start with 0..indexing is actually length-1,if length of list is\n",
    "7 then index wil bt 0,1,2,3,4,5,6."
   ]
  },
  {
   "cell_type": "code",
   "execution_count": 15,
   "metadata": {},
   "outputs": [
    {
     "name": "stdout",
     "output_type": "stream",
     "text": [
      "blank_list []\n",
      "\n",
      "list of numbers [1, 2, 3, 4, 7.8, 0.9]\n",
      "\n",
      "list of string ['j', 'dam', 'sam']\n",
      "\n",
      "list4 [[1, 2, 3], ['jai', 'python']]\n",
      "\n",
      "doublicate_value_list [1, 2, 3, 6, 7, 7, 8, 9]\n",
      "\n",
      "listwithmixedvalues [1, 2.3, True, 'u', (9, 0), [1, 2], {8, 'f'}]\n",
      "length_of_list 6\n"
     ]
    }
   ],
   "source": [
    "# BLANK LIST\n",
    "list = []\n",
    "print('blank_list',list)\n",
    "print()\n",
    "\n",
    "# LIST OF NUMBERS\n",
    "list1 = [1,2,3,4,7.8,0.9]\n",
    "print(\"list of numbers\",list1)\n",
    "print()\n",
    "# LIST OF STRING\n",
    "list2  =['j','dam','sam']\n",
    "print(\"list of string\", list2)\n",
    "print()\n",
    "\n",
    "# Creating a Multi-Dimensional List\n",
    "# (By Nesting a list inside a List)\n",
    "list4 = [[1,2,3],['jai','python']]\n",
    "print(\"list4\",list4)\n",
    "print()\n",
    "\n",
    "# CREATING LIST WITH DUPLICATE VAUES\n",
    "\n",
    "List5 = [1,2,3,6,7,7,8,9]\n",
    "print(\"doublicate_value_list\",List5)\n",
    "print()\n",
    "\n",
    "# CREATING LIST WITH MIXED VALUES\n",
    "\n",
    "List6 = [1,2.3,True,'u',(9,0),[1,2],{8,'f'}]\n",
    "print(\"listwithmixedvalues\", List6)\n",
    "\n",
    "# KNOWING THE SIZE OF LIST\n",
    "List7 = [1,3.4,'f',(1,2),[8,9],9]\n",
    "print(\"length_of_list\",len(List7))"
   ]
  },
  {
   "cell_type": "code",
   "execution_count": 1,
   "metadata": {},
   "outputs": [
    {
     "name": "stdout",
     "output_type": "stream",
     "text": [
      "<enumerate object at 0x0000026EA840B180>\n",
      "((0, 'bread'), (1, 'milk'), (2, 'bread'))\n"
     ]
    }
   ],
   "source": [
    "grocery = [\"bread\",\"milk\",\"bread\"]\n",
    "product = enumerate(grocery)\n",
    "print(product)\n",
    "# print(list(product))\n",
    "print(tuple(product))\n"
   ]
  },
  {
   "cell_type": "code",
   "execution_count": 2,
   "metadata": {},
   "outputs": [
    {
     "name": "stdout",
     "output_type": "stream",
     "text": [
      "a= [1, 3, 2, 7, 5, 10, 8, 1, 3, 2, 2]\n",
      "c= [1, 3, 2, 7, 5, 10, 8, 1, 3, 2, 2]\n",
      "\n",
      "2674292039488\n",
      "2674292214400\n",
      "\n",
      "a =  [111, 3, 2, 7, 5, 10, 8, 1, 3, 2, 2]\n",
      "id(a) 2674292039488\n",
      "c= [1, 3, 2, 7, 5, 10, 8, 1, 3, 2, 2]\n",
      "id(c) 2674292214400\n",
      "c= [112, 3, 2, 7, 5, 10, 8, 1, 3, 2, 2]\n",
      "a: [111, 3, 2, 7, 5, 10, 8, 1, 3, 2, 2]\n"
     ]
    }
   ],
   "source": [
    "# WHEN WE \n",
    "# COPY THE LIST AND IF THEN WE MAKE CHANGES IN ONE LIST, THEN CHANGES WILL REFLECT IN MODIFYING LIST ONLY AND\n",
    "# NOT IN ORIGINAL LIST,THIS IS CALLED SHALLOW COPY\n",
    "a= [1,3,2,7,5,10,8,1,3,2,2]\n",
    "print(\"a=\", a)\n",
    "c = a.copy()\n",
    "print(\"c=\", c)\n",
    "print()\n",
    "print(id(a))\n",
    "print(id(c))\n",
    "print()\n",
    "a[0] = 111\n",
    "print(\"a = \", a)\n",
    "print(\"id(a)\", id(a))\n",
    "print(\"c=\", c)\n",
    "print(\"id(c)\", id(c))\n",
    "c[0] = 112\n",
    "print(\"c=\", c)\n",
    "print(\"a:\",a)"
   ]
  },
  {
   "cell_type": "markdown",
   "metadata": {},
   "source": [
    "# LIST VS NUMPY ARRAY--NUMPY ARRAY IS MUCH MORE FASTER THAN LIST AND IT ALSO CONSUMED LESS MEMORY AS COMPARED TO LIST"
   ]
  },
  {
   "cell_type": "code",
   "execution_count": 4,
   "metadata": {},
   "outputs": [
    {
     "name": "stdout",
     "output_type": "stream",
     "text": [
      "time before combining 2 lists\n",
      "time taken to combine 2 lists 1.1085364818572998 seconds\n",
      "\n",
      "time before combining 2 arrays\n",
      "Time taken to combine 2 arrays 0.015662193298339844 seconds\n",
      "\n",
      "hence proved Array takes less time which means it is way more faster than list\n"
     ]
    }
   ],
   "source": [
    "# HOW NUMPY IS FASTER THAN LIST\n",
    "import numpy as np\n",
    "import sys\n",
    "import time\n",
    "s = 1000000\n",
    "list1 = range(s)\n",
    "list2 = range(s)\n",
    "array1 = np.arange(s)\n",
    "array2 = np.arange(s)\n",
    "print(\"time before combining 2 lists\")\n",
    "start = time.time()\n",
    "new_list = [(a*b) for a,b in zip(list1, list2)]\n",
    "print(\"time taken to combine 2 lists\", time.time()-start, \"seconds\")\n",
    "print()\n",
    "print(\"time before combining 2 arrays\")\n",
    "start2 = time.time()\n",
    "result2 = array1*array2\n",
    "print(\"Time taken to combine 2 arrays\", time.time()-start2, \"seconds\")\n",
    "print()\n",
    "print(\"hence proved Array takes less time which means it is way more faster than list\")"
   ]
  },
  {
   "cell_type": "code",
   "execution_count": 8,
   "metadata": {},
   "outputs": [
    {
     "name": "stdout",
     "output_type": "stream",
     "text": [
      "Size or Memory used by list 24000 bytes\n",
      "Size or Memory used by array is 2000 bytes\n",
      "\n",
      "Hence proved numpy array also take less memory than list\n"
     ]
    }
   ],
   "source": [
    "# HOW NUMPY TAKE LESS SIZE (I.E) LESS MEMORY THAN LIST.\n",
    "import numpy as np\n",
    "import sys\n",
    "import time\n",
    "list1 = range(500)\n",
    "array = np.arange(500)\n",
    "print(\"Size or Memory used by list\", sys.getsizeof(list1)*len(list1),\"bytes\")\n",
    "print(\"Size or Memory used by array is\", array.size*array.itemsize,\"bytes\")\n",
    "print()\n",
    "print(\"Hence proved numpy array also take less memory than list\")"
   ]
  },
  {
   "cell_type": "markdown",
   "metadata": {},
   "source": [
    "# How to select unique value from the list"
   ]
  },
  {
   "cell_type": "code",
   "execution_count": 7,
   "metadata": {},
   "outputs": [
    {
     "name": "stdout",
     "output_type": "stream",
     "text": [
      "1\n",
      "24\n",
      "4\n",
      "5\n",
      "100\n",
      "7\n",
      "8\n",
      "\n",
      "100\n",
      "600\n",
      "400\n"
     ]
    }
   ],
   "source": [
    "def unique(lista):\n",
    "    unique_list = []\n",
    "    for a in lista:\n",
    "        if a not in unique_list:\n",
    "            unique_list.append(a)\n",
    "    for i in unique_list:\n",
    "        print(i)\n",
    "list1 = [1,24,4,5,4,24,1,100,7,8,5,100]\n",
    "unique(list1)\n",
    "print()\n",
    "list2= [100,600,100,600,400]\n",
    "unique(list2)"
   ]
  },
  {
   "cell_type": "code",
   "execution_count": 5,
   "metadata": {},
   "outputs": [
    {
     "name": "stdout",
     "output_type": "stream",
     "text": [
      "[1, 3, 2, 7, 5, 10, 8, 1, 3, 2, 2]\n",
      "[1, 3, 2, 7, 5, 10, 8, 1, 3, 2, 2]\n",
      "\n",
      "1906424972608\n",
      "1906424972608\n",
      "\n",
      "[100, 3, 2, 7, 5, 10, 8, 1, 3, 2, 2]\n",
      "[100, 3, 2, 7, 5, 10, 8, 1, 3, 2, 2]\n",
      "1906424972608\n",
      "1906424972608\n",
      "\n",
      "[100, 3, 2, 7, 5]\n",
      "\n",
      "1906424016512\n",
      "1906424972608\n",
      "\n",
      "now suppose\n",
      "[3, 2, 7, 5]\n",
      "1906424015168\n",
      "[3, 2, 7, 5]\n",
      "1906424972352\n"
     ]
    }
   ],
   "source": [
    "a= [1,3,2,7,5,10,8,1,3,2,2]\n",
    "b = a\n",
    "print(a)\n",
    "print(b)\n",
    "\n",
    "print()\n",
    "\n",
    "print(id(a))\n",
    "print(id(b))\n",
    "\n",
    "print()\n",
    "\n",
    "a[0] = 100\n",
    "print(a)\n",
    "print(b)\n",
    "print(id(a))\n",
    "print(id(b))\n",
    "\n",
    "print()\n",
    "\n",
    "a = a[0:5]\n",
    "print(a)\n",
    "\n",
    "print()\n",
    "\n",
    "print(id(a))\n",
    "print(id(b))\n",
    "print()\n",
    "     \n",
    "print(\"now suppose\")\n",
    "a1 = a[1:5]\n",
    "b1 = b[1:5]\n",
    "print(a1)\n",
    "print(id(a1))\n",
    "print(b1)\n",
    "print(id(b1))\n",
    "# this above both will have different id's"
   ]
  },
  {
   "cell_type": "markdown",
   "metadata": {},
   "source": [
    "# Program to print Every index of Duplicate Element in list(amulya)"
   ]
  },
  {
   "cell_type": "code",
   "execution_count": 1,
   "metadata": {},
   "outputs": [
    {
     "name": "stdout",
     "output_type": "stream",
     "text": [
      "1\n"
     ]
    }
   ],
   "source": [
    "list1  =[\"jai\", 1,2,1,3,\"l\",9,9]\n",
    "print(list1.index(1))"
   ]
  },
  {
   "cell_type": "code",
   "execution_count": 10,
   "metadata": {},
   "outputs": [
    {
     "name": "stdout",
     "output_type": "stream",
     "text": [
      "[0, 1, 2, 3, 4, 5, 6, 7, 8, 9, 10, 11, 12]\n",
      "\n",
      "[6, 9, 12]\n"
     ]
    }
   ],
   "source": [
    "list1 = [1,1,2,2,5,7,10,11,12,10,7,17,10]\n",
    "list2 =[i for i in range(len(list1))]\n",
    "print(list2)\n",
    "print()\n",
    "\n",
    "# Now suppose print position of all 10 value from list1\n",
    "list3 = [i for i in range(len(list1)) if list1[i]== 10]\n",
    "print(list3)\n"
   ]
  },
  {
   "cell_type": "code",
   "execution_count": 7,
   "metadata": {},
   "outputs": [
    {
     "name": "stdout",
     "output_type": "stream",
     "text": [
      "jai\n",
      "1\n",
      "2\n",
      "1\n",
      "3\n",
      "l\n",
      "9\n",
      "9\n",
      "\n",
      "0\n",
      "1\n",
      "2\n",
      "3\n",
      "4\n",
      "5\n",
      "6\n",
      "7\n"
     ]
    }
   ],
   "source": [
    "list1  =[\"jai\", 1,2,1,3,\"l\",9,9,2]\n",
    "for i in list1:\n",
    "    print(i)\n",
    "print()\n",
    "for j in range(len(list1)):\n",
    "    print(j)\n"
   ]
  },
  {
   "cell_type": "code",
   "execution_count": null,
   "metadata": {},
   "outputs": [],
   "source": [
    "NOW WE DO THE PROGRAM"
   ]
  },
  {
   "cell_type": "code",
   "execution_count": 5,
   "metadata": {},
   "outputs": [
    {
     "name": "stdout",
     "output_type": "stream",
     "text": [
      "[0, 1, 2, 3, 4, 5, 6, 7, 8, 9, 10]\n"
     ]
    }
   ],
   "source": [
    "list1 = [1,2,3,4,1,5,9,5,10,2,3]\n",
    "# we do it by list comprehension\n",
    "list2  =[i for i in range(len(list1))]\n",
    "print(list2)"
   ]
  },
  {
   "cell_type": "code",
   "execution_count": 8,
   "metadata": {},
   "outputs": [
    {
     "name": "stdout",
     "output_type": "stream",
     "text": [
      "[1, 9]\n"
     ]
    }
   ],
   "source": [
    "list1 = [1,2,3,4,1,5,9,5,10,2,3]\n",
    "# we do it by list comprehension\n",
    "list3 = [i for i in range(len(list1)) if list1[i]==2]\n",
    "print(list3)"
   ]
  },
  {
   "cell_type": "code",
   "execution_count": null,
   "metadata": {},
   "outputs": [],
   "source": [
    "similarly"
   ]
  },
  {
   "cell_type": "code",
   "execution_count": 9,
   "metadata": {},
   "outputs": [
    {
     "name": "stdout",
     "output_type": "stream",
     "text": [
      "[2, 10]\n"
     ]
    }
   ],
   "source": [
    "list1 = [1,2,3,4,1,5,9,5,10,2,3]\n",
    "list4 = [i for i in range(len(list1)) if list1[i]==3]\n",
    "print(list4)"
   ]
  },
  {
   "cell_type": "code",
   "execution_count": 1,
   "metadata": {},
   "outputs": [
    {
     "name": "stdout",
     "output_type": "stream",
     "text": [
      "['__add__', '__class__', '__contains__', '__delattr__', '__delitem__', '__dir__', '__doc__', '__eq__', '__format__', '__ge__', '__getattribute__', '__getitem__', '__gt__', '__hash__', '__iadd__', '__imul__', '__init__', '__init_subclass__', '__iter__', '__le__', '__len__', '__lt__', '__mul__', '__ne__', '__new__', '__reduce__', '__reduce_ex__', '__repr__', '__reversed__', '__rmul__', '__setattr__', '__setitem__', '__sizeof__', '__str__', '__subclasshook__', 'append', 'clear', 'copy', 'count', 'extend', 'index', 'insert', 'pop', 'remove', 'reverse', 'sort']\n"
     ]
    }
   ],
   "source": [
    "print(dir(list))"
   ]
  },
  {
   "cell_type": "code",
   "execution_count": null,
   "metadata": {},
   "outputs": [],
   "source": [
    "APPEND IN LIST"
   ]
  },
  {
   "cell_type": "code",
   "execution_count": null,
   "metadata": {},
   "outputs": [],
   "source": [
    "APPEND():Add only single value to the End of list\n",
    "It only take only one argument like number,boolean,complex,float,tuple,tuple oftuple,tupleoflist,tupleoflist n tuple,list,\n",
    "listoflist,listoftuple\n",
    "It also include bracket"
   ]
  },
  {
   "cell_type": "code",
   "execution_count": 14,
   "metadata": {},
   "outputs": [
    {
     "name": "stdout",
     "output_type": "stream",
     "text": [
      "[1, 'j', 9.0] type: <class 'list'>\n",
      "now appending\n",
      "[1, 'j', 9.0, 100]\n",
      "\n",
      "[1, 'j', 9.0, 100, 10.12]\n",
      "\n",
      "[1, 'j', 9.0, 100, 10.12, True]\n",
      "\n",
      "[1, 'j', 9.0, 100, 10.12, True, 'p']\n",
      "\n",
      "[1, 'j', 9.0, 100, 10.12, True, 'p', (24, 25)]\n",
      "\n",
      "[1, 'j', 9.0, 100, 10.12, True, 'p', (24, 25), [66, 'h', 0]]\n",
      "\n",
      "[1, 'j', 9.0, 100, 10.12, True, 'p', (24, 25), [66, 'h', 0], {'m', 'n'}]\n",
      "\n",
      "It can also append tuple of tuple, or tuple list or tuple list n tuple, same with list\n",
      "[23, 'k']\n",
      "[23, 'k', ('j', 8, (90, 1), [1, 1])]\n",
      "\n",
      "[23, 'k']\n",
      "[23, 'k', [1, 1, (0, 0), ['b', 'c']]]\n"
     ]
    }
   ],
   "source": [
    "l1 = [1,'j',9.0]\n",
    "print(l1,\"type:\", type(l1))\n",
    "print(\"now appending\")\n",
    "l1.append(100)\n",
    "print(l1)\n",
    "print()\n",
    "l1.append(10.12)\n",
    "print(l1)\n",
    "print()\n",
    "l1.append(True)\n",
    "print(l1)\n",
    "print()\n",
    "l1.append('p')\n",
    "print(l1)\n",
    "print()\n",
    "l1.append((24,25))\n",
    "print(l1)\n",
    "print()\n",
    "l1.append([66,'h',0])\n",
    "print(l1)\n",
    "print()\n",
    "l1.append({'m','n'})\n",
    "print(l1)\n",
    "print()\n",
    "print(\"It can also append tuple of tuple, or tuple list or tuple list n tuple, same with list\")\n",
    "l2 = [23,'k']\n",
    "print(l2)\n",
    "l2.append(('j',8,(90,1),[1,1]))\n",
    "print(l2)\n",
    "# here above we added tuple of tuple n list\n",
    "print()\n",
    "l2 = [23,'k']\n",
    "print(l2)\n",
    "l2.append([1,1,(0,0),['b','c']])\n",
    "print(l2)\n",
    "# herre we addes list of tuple n list"
   ]
  },
  {
   "cell_type": "code",
   "execution_count": 26,
   "metadata": {},
   "outputs": [
    {
     "name": "stdout",
     "output_type": "stream",
     "text": [
      "list11 []\n",
      "list11: [1, 2, 'jam']\n",
      "\n",
      "List11 [1, 2, 'jam', 3]\n",
      "List11 [1, 2, 'jam', 3, 4]\n",
      "List11 [1, 2, 'jam', 3, 4, 5]\n",
      "List11 [1, 2, 'jam', 3, 4, 5, 6]\n",
      "List11 [1, 2, 'jam', 3, 4, 5, 6, 7]\n"
     ]
    }
   ],
   "source": [
    "List11 =[]\n",
    "print('list11', List11)\n",
    "List11.append(1)\n",
    "List11.append(2)\n",
    "List11.append('jam')\n",
    "print(\"list11:\",List11)\n",
    "print()\n",
    "for i in range(3,8):\n",
    "    List11.append(i)\n",
    "    print(\"List11\", List11)"
   ]
  },
  {
   "cell_type": "code",
   "execution_count": null,
   "metadata": {},
   "outputs": [],
   "source": [
    "EXTEND IN LIST"
   ]
  },
  {
   "cell_type": "code",
   "execution_count": null,
   "metadata": {},
   "outputs": [],
   "source": [
    "EXTEND()METHOD\n",
    "It also take one parameter and that can be str,lst,tuple,set\n",
    "and not number,boolean,float,complex, ok\n",
    "# It extend or remove outer bracket of tuple,set,list which u pass\n"
   ]
  },
  {
   "cell_type": "code",
   "execution_count": 25,
   "metadata": {},
   "outputs": [
    {
     "name": "stdout",
     "output_type": "stream",
     "text": [
      "list: [1, 'j']\n",
      "using extend method\n",
      "[1, 'j', 9, 0]\n",
      "\n",
      "list: [1, 'j']\n",
      "[1, 'j', 4, 5, ('g', 'a'), ['python', 'tableau']]\n",
      "\n",
      "list: [1, 'j']\n",
      "[1, 'j', 78, 80, 'j']\n",
      "\n",
      "list: [1, 'j']\n",
      "[1, 'j', 'j', 'a', 'i']\n",
      "\n",
      "list: [1, 'j']\n",
      "[1, 'j', 4, 5, ['a', 's'], (0, 8)]\n"
     ]
    }
   ],
   "source": [
    "lis = [1,'j']\n",
    "print(\"list:\", lis)\n",
    "print(\"using extend method\")\n",
    "lis.extend((9,0))\n",
    "print(lis)\n",
    "print()\n",
    "lis = [1,'j']\n",
    "print(\"list:\", lis)\n",
    "lis.extend((4,5,('g','a'),['python','tableau']))\n",
    "print(lis)\n",
    "print()\n",
    "lis = [1,'j']\n",
    "print(\"list:\", lis)\n",
    "lis.extend([78,80,'j'])\n",
    "print(lis)\n",
    "print()\n",
    "lis = [1,'j']\n",
    "print(\"list:\", lis)\n",
    "lis.extend(\"jai\")\n",
    "print(lis)\n",
    "print()\n",
    "lis = [1,'j']\n",
    "print(\"list:\", lis)\n",
    "lis.extend([4,5,['a','s'],(0,8)])\n",
    "print(lis)\n",
    "\n"
   ]
  },
  {
   "cell_type": "code",
   "execution_count": null,
   "metadata": {},
   "outputs": [],
   "source": [
    "INSERT METHOD()"
   ]
  },
  {
   "cell_type": "code",
   "execution_count": null,
   "metadata": {},
   "outputs": [],
   "source": [
    "To add elements in List in the desire position we need INSERT() METHOD\n",
    "It takes 2 arguments\n",
    "(position, value)"
   ]
  },
  {
   "cell_type": "code",
   "execution_count": 31,
   "metadata": {},
   "outputs": [
    {
     "name": "stdout",
     "output_type": "stream",
     "text": [
      "Initial List: \n",
      "[1, 2, 3, 4]\n",
      "\n",
      "newlist: ['jai', 1, 24, 2, 3, 4]\n",
      "\n",
      "List:  [(9, 0), 'jai', 1, 24, 2, 3, 4]\n",
      "\n",
      "newlist:  [(9, 0), [90, 'k'], 'jai', 1, 24, 2, 3, 4]\n"
     ]
    }
   ],
   "source": [
    "List = [1,2,3,4]\n",
    "print(\"Initial List: \")\n",
    "print(List)\n",
    "print()\n",
    "List.insert(0,\"jai\")\n",
    "List.insert(2,24)\n",
    "print(\"newlist:\", List)\n",
    "print()\n",
    "List.insert(0,(9,0))\n",
    "print(\"List: \", List)\n",
    "print()\n",
    "List.insert(1,[90,'k'])\n",
    "print(\"newlist: \", List)"
   ]
  },
  {
   "cell_type": "code",
   "execution_count": null,
   "metadata": {},
   "outputs": [],
   "source": [
    "ACCESSING ELEMENTS FROM THE LIST"
   ]
  },
  {
   "cell_type": "code",
   "execution_count": 5,
   "metadata": {},
   "outputs": [
    {
     "name": "stdout",
     "output_type": "stream",
     "text": [
      "Geeks\n",
      "For\n",
      "\n",
      "['Geeks', 'For']\n",
      "['Geeks']\n",
      "For\n",
      "Geeks\n"
     ]
    }
   ],
   "source": [
    "List = [\"Geeks\", \"For\", \"Geeks\"]\n",
    "# list using index numberaccessing a element from the\n",
    "# list using index number\n",
    "print(List[0])\n",
    "print(List[1])\n",
    "print()\n",
    "#  Creating a Multi-Dimensional List\n",
    "# (By Nesting a list inside a List)\n",
    "List1 = [['Geeks', 'For'] , ['Geeks']]\n",
    "print(List1[0])\n",
    "print(List1[1])\n",
    "print(List1[0][1])\n",
    "print(List1[1][0])"
   ]
  },
  {
   "cell_type": "code",
   "execution_count": null,
   "metadata": {},
   "outputs": [],
   "source": [
    "NEGATIVE INDEXING"
   ]
  },
  {
   "cell_type": "code",
   "execution_count": 7,
   "metadata": {},
   "outputs": [
    {
     "name": "stdout",
     "output_type": "stream",
     "text": [
      "Accessing element using negative indexing\n",
      "Geeks\n",
      "For\n"
     ]
    }
   ],
   "source": [
    "List = [1, 2, 'Geeks', 4, 'For', 6, 'Geeks']\n",
    " \n",
    "# accessing an element using\n",
    "# negative indexing\n",
    "print(\"Accessing element using negative indexing\")\n",
    "print(List[-1])\n",
    "print(List[-3])"
   ]
  },
  {
   "cell_type": "code",
   "execution_count": null,
   "metadata": {},
   "outputs": [],
   "source": [
    "SLICING:Means nting specific range of value from list is called slicing\n",
    " Slicing can be like 2:9 0r 2::3(double slicing) or 1:10:3(triple slicing)"
   ]
  },
  {
   "cell_type": "code",
   "execution_count": 10,
   "metadata": {},
   "outputs": [
    {
     "name": "stdout",
     "output_type": "stream",
     "text": [
      "[1, 'k', 8.9, 'p', 'd', 'c', 11, 12, 13, 14, 15, 16, 17, 18, 19, 20, (3, 4, 12)]\n",
      "<class 'list'>\n",
      "\n",
      "slice_list ['k', 8.9, 'p', 'd', 'c', 11, 12]\n",
      "\n",
      "slice_list1 ['p', 'd', 'c', 11]\n",
      "\n",
      "slice_list2 ['d', 'c', 11, 12, 13, 14, 15, 16, 17, 18, 19, 20, (3, 4, 12)]\n",
      "\n",
      "slice_list3 [1, 'k', 8.9, 'p', 'd', 'c']\n",
      "\n",
      "slice_list4 [1, 'k', 8.9, 'p', 'd', 'c', 11, 12, 13, 14, 15, 16, 17, 18, 19, 20, (3, 4, 12)]\n",
      "\n",
      "slice_list5 [8.9, 'c', 13, 16, 19]\n",
      "\n",
      "slice_list6 ['k', 'd', 12, 15, 18]\n"
     ]
    }
   ],
   "source": [
    "list = [1,'k',8.9,'p','d','c',11,12,13,14,15,16,17,18,19,20,(3,4,12)]\n",
    "print(list)\n",
    "print(type(list))\n",
    "print()\n",
    "slice_list = list[1:8]\n",
    "print(\"slice_list\", slice_list)\n",
    "print()\n",
    "slice_list1 =list[3:7]\n",
    "print('slice_list1', slice_list1)\n",
    "print()\n",
    "slice_list2 = list[4:]\n",
    "print('slice_list2', slice_list2)\n",
    "print()\n",
    "slice_list3 =list[:6]\n",
    "print('slice_list3', slice_list3)\n",
    "print()\n",
    "slice_list4 =list[:]\n",
    "print('slice_list4', slice_list4)\n",
    "print()\n",
    "slice_list5 = list[2::3]\n",
    "print('slice_list5', slice_list5)\n",
    "# [2::3] it means from position 2, take every 3rd element from list\n",
    "print()\n",
    "slice_list6 = list[1:14:3]\n",
    "print('slice_list6',slice_list6)"
   ]
  },
  {
   "cell_type": "code",
   "execution_count": null,
   "metadata": {},
   "outputs": [],
   "source": [
    "NEGATIVE LIST SLICING"
   ]
  },
  {
   "cell_type": "code",
   "execution_count": 15,
   "metadata": {},
   "outputs": [
    {
     "name": "stdout",
     "output_type": "stream",
     "text": [
      "Initial List: \n",
      "['G', 'E', 'E', 'K', 'S', 'F', 'O', 'R', 'G', 'E', 'E', 'K', 'S']\n",
      "\n",
      "new_lst ['G', 'E', 'E', 'K', 'S']\n",
      "\n",
      "new_lst1 ['S', 'F', 'O', 'R', 'G', 'E']\n",
      "\n",
      "new_lst2 ['F', 'O', 'R', 'G', 'E', 'E']\n",
      "\n",
      "['S', 'K', 'E', 'E', 'G', 'R', 'O', 'F', 'S', 'K', 'E', 'E', 'G'] ['S', 'K', 'E', 'E', 'G', 'R', 'O', 'F', 'S', 'K', 'E', 'E', 'G']\n"
     ]
    }
   ],
   "source": [
    "List = ['G','E','E','K','S','F',\n",
    "        'O','R','G','E','E','K','S']\n",
    "print(\"Initial List: \")\n",
    "print(List)\n",
    "print()\n",
    "new_lst = List[:-8]\n",
    "print('new_lst', new_lst)\n",
    "print()\n",
    "new_lst1 = List[4:-3]\n",
    "print('new_lst1', new_lst1)\n",
    "print()\n",
    "new_lst2 =List[-8:-2]\n",
    "print('new_lst2',new_lst2)\n",
    "print()\n",
    "new_lst3 = List[::-1]\n",
    "print(new_lst3, new_lst3)\n",
    "# [::-1] means all value in List in reverse order"
   ]
  },
  {
   "cell_type": "code",
   "execution_count": null,
   "metadata": {},
   "outputs": [],
   "source": [
    "LIST COMPREHENSION"
   ]
  },
  {
   "cell_type": "code",
   "execution_count": null,
   "metadata": {},
   "outputs": [],
   "source": [
    "It is used to create new list from other iterable object like List,Tuple,String,Array\n",
    "Syntax = [expression[element]for element in oldList if condition]"
   ]
  },
  {
   "cell_type": "code",
   "execution_count": 16,
   "metadata": {},
   "outputs": [
    {
     "name": "stdout",
     "output_type": "stream",
     "text": [
      "odd_square [1, 9, 25, 49, 81]\n"
     ]
    }
   ],
   "source": [
    "#  below list contains square of all\n",
    "# odd numbers from range 1 to 10\n",
    "odd_square =[x**2 for x in range(1,11)if x%2==1]\n",
    "print('odd_square', odd_square)"
   ]
  },
  {
   "cell_type": "code",
   "execution_count": 1,
   "metadata": {},
   "outputs": [
    {
     "name": "stdout",
     "output_type": "stream",
     "text": [
      "[1, 9, 25, 49, 81]\n"
     ]
    }
   ],
   "source": [
    "# THE ABOVE CODE IS SAME AS\n",
    "\n",
    "odd_square = []\n",
    "for i in range(1,11):\n",
    "    if i%2==1:\n",
    "        odd_square.append(i**2)\n",
    "print(odd_square)   "
   ]
  },
  {
   "cell_type": "code",
   "execution_count": 4,
   "metadata": {},
   "outputs": [
    {
     "name": "stdout",
     "output_type": "stream",
     "text": [
      "List:  ['G', 'e', 'e', 'k', 's', ' ', 'F', 'o', 'r', ' ', 'G', 'e', 'e', 'k', 's']\n"
     ]
    }
   ],
   "source": [
    "List = []\n",
    "for character in 'Geeks For Geeks':\n",
    "    List.append(character)\n",
    "print(\"List: \", List)"
   ]
  },
  {
   "cell_type": "code",
   "execution_count": 5,
   "metadata": {},
   "outputs": [
    {
     "name": "stdout",
     "output_type": "stream",
     "text": [
      "List: ['G', 'e', 'e', 'k', 's', ' ', 'f', 'o', 'r', ' ', 'G', 'e', 'e', 'k', 's']\n"
     ]
    }
   ],
   "source": [
    "List = [character for character in 'Geeks for Geeks']\n",
    "print('List:', List)"
   ]
  },
  {
   "cell_type": "code",
   "execution_count": null,
   "metadata": {},
   "outputs": [],
   "source": [
    "List contain power of 2 from 1 to 8"
   ]
  },
  {
   "cell_type": "code",
   "execution_count": 1,
   "metadata": {},
   "outputs": [
    {
     "name": "stdout",
     "output_type": "stream",
     "text": [
      "new_list [4, 9, 16, 25, 36, 49, 64]\n"
     ]
    }
   ],
   "source": [
    "new_list = [x**2 for x in range(2,9) ]\n",
    "print(\"new_list\", new_list)"
   ]
  },
  {
   "cell_type": "code",
   "execution_count": null,
   "metadata": {},
   "outputs": [],
   "source": [
    "Below List that contain lower case of characters"
   ]
  },
  {
   "cell_type": "code",
   "execution_count": 3,
   "metadata": {},
   "outputs": [
    {
     "name": "stdout",
     "output_type": "stream",
     "text": [
      "lowercharacter:  ['a', 'b', 'c', 'd']\n"
     ]
    }
   ],
   "source": [
    "lowercharacter = [ x.lower() for x in ['A', 'B','C','D']]\n",
    "print(\"lowercharacter: \", lowercharacter)"
   ]
  },
  {
   "cell_type": "code",
   "execution_count": null,
   "metadata": {},
   "outputs": [],
   "source": [
    "LIST WHICH EXTRACT ONLY NUMBERS FROM STRING"
   ]
  },
  {
   "cell_type": "code",
   "execution_count": 9,
   "metadata": {},
   "outputs": [
    {
     "name": "stdout",
     "output_type": "stream",
     "text": [
      "new_list ['9', '5', '6', '0', '6', '6', '1', '7', '3', '6']\n"
     ]
    }
   ],
   "source": [
    "new_str= \"My number is :9560661736!!!\"\n",
    "new_List =[ x for x in new_str if x.isdigit()]\n",
    "print(\"new_list\", new_List)"
   ]
  },
  {
   "cell_type": "code",
   "execution_count": 1,
   "metadata": {},
   "outputs": [
    {
     "name": "stdout",
     "output_type": "stream",
     "text": [
      "list containing text:  ['A', 'm', 'u', 'l']\n"
     ]
    }
   ],
   "source": [
    "str1 = 'Amul1234'\n",
    "lis = [x for x in str1 if x.isalpha()]\n",
    "print(\"list containing text: \", lis)"
   ]
  },
  {
   "cell_type": "code",
   "execution_count": 3,
   "metadata": {},
   "outputs": [
    {
     "name": "stdout",
     "output_type": "stream",
     "text": [
      "str2 [[1, 2, 3], [5, 6, 'k'], ['a', 'd']]\n",
      "\n",
      "str3 [1, 5, 'a']\n"
     ]
    }
   ],
   "source": [
    "str2 = [[1,2,3],[5,6,'k'],['a','d']]\n",
    "print(\"str2\", str2)\n",
    "print()\n",
    "str3 = [ x[0] for x in str2]\n",
    "print(\"str3\", str3)"
   ]
  },
  {
   "cell_type": "code",
   "execution_count": 6,
   "metadata": {},
   "outputs": [
    {
     "name": "stdout",
     "output_type": "stream",
     "text": [
      "new_lis [3, 4, 2, 3, 4, 5, 3, 4, 5, 6, 4, 5, 6, 7, 5, 6]\n"
     ]
    }
   ],
   "source": [
    "x = [1,2,3,4]\n",
    "y = [2,3,1,2]\n",
    "new_lis = [a+b for a in x for b in y]\n",
    "print(\"new_lis\", new_lis)"
   ]
  },
  {
   "cell_type": "code",
   "execution_count": 5,
   "metadata": {},
   "outputs": [
    {
     "name": "stdout",
     "output_type": "stream",
     "text": [
      "square_list:  [1, 4, 9, 16, 25, 36, 49, 64, 81, 100]\n"
     ]
    }
   ],
   "source": [
    "def square(x):\n",
    "    return x*x\n",
    "square_list = [square(x) for x in range(1,11)]\n",
    "print('square_list: ', square_list)"
   ]
  },
  {
   "cell_type": "code",
   "execution_count": null,
   "metadata": {},
   "outputs": [],
   "source": [
    "CREATING LIST FROM RANGE"
   ]
  },
  {
   "cell_type": "code",
   "execution_count": 3,
   "metadata": {},
   "outputs": [
    {
     "ename": "NameError",
     "evalue": "name 'List' is not defined",
     "output_type": "error",
     "traceback": [
      "\u001b[1;31m---------------------------------------------------------------------------\u001b[0m",
      "\u001b[1;31mNameError\u001b[0m                                 Traceback (most recent call last)",
      "\u001b[1;32m<ipython-input-3-ec5c0034cdc0>\u001b[0m in \u001b[0;36m<module>\u001b[1;34m\u001b[0m\n\u001b[1;32m----> 1\u001b[1;33m \u001b[0mnew_lst1\u001b[0m \u001b[1;33m=\u001b[0m\u001b[0mList\u001b[0m\u001b[1;33m(\u001b[0m\u001b[0mrange\u001b[0m\u001b[1;33m(\u001b[0m\u001b[1;36m1\u001b[0m\u001b[1;33m,\u001b[0m\u001b[1;36m12\u001b[0m\u001b[1;33m,\u001b[0m\u001b[1;36m3\u001b[0m\u001b[1;33m)\u001b[0m\u001b[1;33m)\u001b[0m\u001b[1;33m\u001b[0m\u001b[1;33m\u001b[0m\u001b[0m\n\u001b[0m\u001b[0;32m      2\u001b[0m \u001b[0mprint\u001b[0m\u001b[1;33m(\u001b[0m\u001b[1;34m\"new_lst1\"\u001b[0m\u001b[1;33m,\u001b[0m \u001b[0mnew_lst1\u001b[0m\u001b[1;33m)\u001b[0m\u001b[1;33m\u001b[0m\u001b[1;33m\u001b[0m\u001b[0m\n",
      "\u001b[1;31mNameError\u001b[0m: name 'List' is not defined"
     ]
    }
   ],
   "source": [
    "new_lst1 =List(range(1,12,3))\n",
    "print(\"new_lst1\", new_lst1)"
   ]
  },
  {
   "cell_type": "code",
   "execution_count": null,
   "metadata": {},
   "outputs": [],
   "source": [
    "NESTED LIST COMPREHESION"
   ]
  },
  {
   "cell_type": "code",
   "execution_count": 7,
   "metadata": {},
   "outputs": [
    {
     "name": "stdout",
     "output_type": "stream",
     "text": [
      "matrix: [[0, 1, 2, 3, 4], [0, 1, 2, 3, 4]]\n"
     ]
    }
   ],
   "source": [
    "matrix = []\n",
    "for i in range(2):\n",
    "    matrix.append([])\n",
    "    for j in range(5):\n",
    "        matrix[i].append(j)\n",
    "print(\"matrix:\", matrix)\n",
    "    "
   ]
  },
  {
   "cell_type": "code",
   "execution_count": 8,
   "metadata": {},
   "outputs": [
    {
     "name": "stdout",
     "output_type": "stream",
     "text": [
      "matrix1 [[0, 1, 2, 3, 4, 5], [0, 1, 2, 3, 4, 5], [0, 1, 2, 3, 4, 5]]\n"
     ]
    }
   ],
   "source": [
    "matrix1 =[]\n",
    "for i in range(3):\n",
    "    matrix1.append([])\n",
    "    for j in range(6):\n",
    "        matrix1[i].append(j)\n",
    "print(\"matrix1\", matrix1)"
   ]
  },
  {
   "cell_type": "code",
   "execution_count": null,
   "metadata": {},
   "outputs": [],
   "source": [
    "REMOVE"
   ]
  },
  {
   "cell_type": "code",
   "execution_count": null,
   "metadata": {},
   "outputs": [],
   "source": [
    "It will remove only one element at a time.It removes only the specified item.To remove a range of elements,iterator is used\n",
    "It will throw an error, if there is no elements in the List"
   ]
  },
  {
   "cell_type": "code",
   "execution_count": 7,
   "metadata": {},
   "outputs": [
    {
     "name": "stdout",
     "output_type": "stream",
     "text": [
      "List [1, 2, 3, 4, 5, 6, 7, 8, 9, 10, 11, 12]\n",
      "\n",
      "List [1, 2, 4, 6, 7, 8, 9, 10, 11, 12]\n",
      "\n",
      "List1 [1, 2, 3, 4, 5, 6, 7, 8, 9, 10, 11, 12]\n",
      "\n",
      "List1:  [1, 6, 7, 8, 9, 10, 11, 12]\n"
     ]
    }
   ],
   "source": [
    "List = [1, 2, 3, 4, 5, 6,\n",
    "        7, 8, 9, 10, 11, 12]\n",
    "print(\"List\", List)\n",
    "print()\n",
    "List.remove(3)\n",
    "List.remove(5)\n",
    "print(\"List\", List)\n",
    "print()\n",
    "\n",
    "# REMOVING RANGE OF ELEMENTS FROM LIST\n",
    "List1 = [1, 2, 3, 4, 5, 6,\n",
    "        7, 8, 9, 10, 11, 12]\n",
    "print(\"List1\", List1)\n",
    "print()\n",
    "\n",
    "for i in range(2,6):\n",
    "    List1.remove(i)\n",
    "print(\"List1: \", List1)\n",
    "    "
   ]
  },
  {
   "cell_type": "code",
   "execution_count": null,
   "metadata": {},
   "outputs": [],
   "source": [
    "POP()METHOD"
   ]
  },
  {
   "cell_type": "code",
   "execution_count": null,
   "metadata": {},
   "outputs": [],
   "source": [
    "It will remove only last element from the list by default.To remove specified element from the List, We have to specified\n",
    "the index number of that particular elements, ok"
   ]
  },
  {
   "cell_type": "code",
   "execution_count": 10,
   "metadata": {},
   "outputs": [
    {
     "name": "stdout",
     "output_type": "stream",
     "text": [
      "List2:  [1, 2, 3, 4, 5, 6, 7, 8]\n",
      "\n",
      "List2 [1, 2, 3, 4, 5, 6, 7]\n",
      "\n",
      "List2:  [1, 2, 3, 5, 6, 7]\n"
     ]
    }
   ],
   "source": [
    "List2 = [1,2,3,4,5,6,7,8]\n",
    "print(\"List2: \", List2)\n",
    "print()\n",
    "List2.pop()\n",
    "print(\"List2\", List2)\n",
    "print()\n",
    "List2.pop(3)\n",
    "print(\"List2: \", List2)"
   ]
  },
  {
   "cell_type": "code",
   "execution_count": null,
   "metadata": {},
   "outputs": [],
   "source": [
    "DEL[A:B]:=This method deletes all the elements in the range "
   ]
  },
  {
   "cell_type": "code",
   "execution_count": 2,
   "metadata": {},
   "outputs": [
    {
     "name": "stdout",
     "output_type": "stream",
     "text": [
      "lis: [2, 1, 3, 5, 4, 3, 8, 11, 15]\n",
      "after deleting new list [2, 1, 4, 3, 8, 11, 15]\n"
     ]
    }
   ],
   "source": [
    "lis = [2, 1, 3, 5, 4, 3, 8, 11, 15]\n",
    "print(\"lis:\", lis)\n",
    "del lis[2:4]\n",
    "print(\"after deleting new list\", lis)"
   ]
  },
  {
   "cell_type": "code",
   "execution_count": null,
   "metadata": {},
   "outputs": [],
   "source": [
    "SORT IN LIST"
   ]
  },
  {
   "cell_type": "code",
   "execution_count": 4,
   "metadata": {},
   "outputs": [
    {
     "name": "stdout",
     "output_type": "stream",
     "text": [
      "lis [2, 1, 3, 5, 3, 8]\n",
      "\n",
      "[1, 2, 3, 3, 5, 8]\n"
     ]
    }
   ],
   "source": [
    "lis = [2, 1, 3, 5, 3, 8]\n",
    "print(\"lis\", lis)\n",
    "print()\n",
    "lis.sort()\n",
    "print(lis)"
   ]
  },
  {
   "cell_type": "code",
   "execution_count": null,
   "metadata": {},
   "outputs": [],
   "source": [
    "REVERSE IN LIST"
   ]
  },
  {
   "cell_type": "code",
   "execution_count": 10,
   "metadata": {},
   "outputs": [
    {
     "name": "stdout",
     "output_type": "stream",
     "text": [
      "lis [2, 1, 3, 5, 3, 8]\n",
      "\n",
      "[8, 3, 5, 3, 1, 2]\n",
      "\n",
      "8\n",
      "3\n",
      "5\n",
      "3\n",
      "1\n",
      "2\n"
     ]
    }
   ],
   "source": [
    "lis = [2, 1, 3, 5, 3, 8]\n",
    "print(\"lis\", lis)\n",
    "print()\n",
    "lis.reverse()\n",
    "print(lis)\n",
    "print()\n",
    "for i in range(0, len(lis)):\n",
    "    print(lis[i])\n",
    "   \n",
    "    "
   ]
  },
  {
   "cell_type": "code",
   "execution_count": null,
   "metadata": {},
   "outputs": [],
   "source": [
    "CLEAR()"
   ]
  },
  {
   "cell_type": "code",
   "execution_count": 20,
   "metadata": {},
   "outputs": [
    {
     "name": "stdout",
     "output_type": "stream",
     "text": [
      "lis [2, 1, 3, 5, 3, 8]\n",
      "None\n"
     ]
    }
   ],
   "source": [
    "lis = [2, 1, 3, 5, 3, 8]\n",
    "print(\"lis\", lis)\n",
    "print(lis.clear())"
   ]
  },
  {
   "cell_type": "code",
   "execution_count": null,
   "metadata": {},
   "outputs": [],
   "source": [
    "INDEX"
   ]
  },
  {
   "cell_type": "code",
   "execution_count": 24,
   "metadata": {},
   "outputs": [
    {
     "name": "stdout",
     "output_type": "stream",
     "text": [
      "list1 [1, 2, 3, 4, 1, 1, 1, 4, 5]\n",
      "\n",
      "3\n",
      "\n",
      "list2 ['cat', 'bat', 'mat', 'cat', 'pet']\n",
      "4\n",
      "\n",
      "list11 [6, 8, 5, 6, 1, 2, 6]\n",
      "3\n",
      "\n",
      "list3: [1, 2, 3, [9, 8, 7], ('cat', 'bat')]\n",
      "3\n",
      "\n",
      "4\n"
     ]
    }
   ],
   "source": [
    "list1 = [1, 2, 3, 4, 1, 1, 1, 4, 5]\n",
    "print(\"list1\", list1)\n",
    "print()\n",
    "print(list1.index(4))\n",
    "print()\n",
    "list2 = ['cat', 'bat', 'mat', 'cat', 'pet']\n",
    "print(\"list2\", list2)\n",
    "print(list2.index('pet'))\n",
    "print()\n",
    "list11 = [6 , 8 , 5 , 6 , 1 , 2, 6]\n",
    "print(\"list11\", list11)\n",
    "print(list11.index(6,1))\n",
    "print()\n",
    "list3 = [1, 2, 3, [9, 8, 7], ('cat', 'bat')]\n",
    "print(\"list3:\", list3)\n",
    "print(list3.index([9,8,7]))\n",
    "print()\n",
    "print(list3.index(('cat','bat')))"
   ]
  },
  {
   "cell_type": "code",
   "execution_count": null,
   "metadata": {},
   "outputs": [],
   "source": [
    "COUNT"
   ]
  },
  {
   "cell_type": "code",
   "execution_count": 29,
   "metadata": {},
   "outputs": [
    {
     "name": "stdout",
     "output_type": "stream",
     "text": [
      "list1 [1, 1, 1, 2, 3, 2, 1]\n",
      "\n",
      "4\n",
      "\n",
      "list22 ['a', 'a', 'a', 'b', 'b', 'a', 'c', 'b']\n",
      "3\n",
      "\n",
      "list3 ['Cat', 'Bat', 'Sat', 'Cat', 'cat', 'Mat']\n",
      "2\n"
     ]
    }
   ],
   "source": [
    "list1 = [1, 1, 1, 2, 3, 2, 1]\n",
    "print(\"list1\", list1)\n",
    "print()\n",
    "print(list1.count(1))\n",
    "print()\n",
    "list22 = ['a', 'a', 'a', 'b', 'b', 'a', 'c', 'b']\n",
    "print(\"list22\", list22)\n",
    "print(list22.count(\"b\"))\n",
    "print()\n",
    "list3 = ['Cat', 'Bat', 'Sat', 'Cat', 'cat', 'Mat']\n",
    "print(\"list3\", list3)\n",
    "print(list3.count('Cat'))"
   ]
  },
  {
   "cell_type": "code",
   "execution_count": null,
   "metadata": {},
   "outputs": [],
   "source": [
    "COPY() METHOD"
   ]
  },
  {
   "cell_type": "code",
   "execution_count": 52,
   "metadata": {},
   "outputs": [
    {
     "name": "stdout",
     "output_type": "stream",
     "text": [
      "list20 [1, 2, 3, 4]\n",
      "\n",
      "list21 [1, 2, 3, 4]\n",
      "\n",
      "id(list20) 2735734809408\n",
      "id(list21) 2735734628864\n",
      "\n",
      "list20 after appending 24 [1, 2, 3, 4, 24]\n",
      "list21 after appending 24 [1, 2, 3, 4]\n",
      "\n",
      "modifying list20 [30, 2, 3, 4, 24]\n",
      "modifying list21 [1, 2, 3, 4]\n",
      "\n",
      "id(list20) 2735734809408\n",
      "id(list22) 2735734809408\n",
      "\n",
      "list22 after modifying [30, 32, 3, 4, 24]\n",
      "list20 after modifying [30, 32, 3, 4, 24]\n",
      "\n",
      "list20 after appending 40 [30, 32, 3, 4, 24, 40]\n",
      "list22 after appending 40 [30, 32, 3, 4, 24, 40]\n"
     ]
    }
   ],
   "source": [
    "list20 = [ 1, 2, 3, 4]\n",
    "print(\"list20\", list20)\n",
    "print()\n",
    "list21 = list20.copy()\n",
    "print(\"list21\", list21)\n",
    "print()\n",
    "print(\"id(list20)\", id(list20))\n",
    "print(\"id(list21)\", id(list21))\n",
    "print()\n",
    "list20.append(24)\n",
    "print(\"list20 after appending 24\", list20)\n",
    "print(\"list21 after appending 24\", list21)\n",
    "print()\n",
    "list20[0] = 30\n",
    "print(\"modifying list20\",list20)\n",
    "print(\"modifying list21\", list21)\n",
    "print()\n",
    "list22 = list20\n",
    "print(\"id(list20)\", id(list20))\n",
    "print(\"id(list22)\", id(list22))\n",
    "print()\n",
    "list22[1] = 32\n",
    "print(\"list22 after modifying\", list22)\n",
    "print(\"list20 after modifying\", list20)\n",
    "print()\n",
    "list22.append(40)\n",
    "print(\"list20 after appending 40\", list20)\n",
    "print(\"list22 after appending 40\", list22)"
   ]
  },
  {
   "cell_type": "code",
   "execution_count": 55,
   "metadata": {},
   "outputs": [
    {
     "name": "stdout",
     "output_type": "stream",
     "text": [
      "listaa [1, [2, 3], 4]\n",
      "\n",
      "listaa after appending [1, [2, 3], 4, 10]\n",
      "\n",
      "listaa after changing value [1, [2, 230], 4, 10]\n"
     ]
    }
   ],
   "source": [
    "listaa = [ 1, [2, 3] , 4 ]\n",
    "print(\"listaa\", listaa)\n",
    "print()\n",
    "listaa.append(10)\n",
    "print(\"listaa after appending\", listaa)\n",
    "print()\n",
    "listaa[1][1] =230\n",
    "print(\"listaa after changing value\", listaa)"
   ]
  },
  {
   "cell_type": "code",
   "execution_count": null,
   "metadata": {},
   "outputs": [],
   "source": [
    "CONVERTING TUPLE TO LIST"
   ]
  },
  {
   "cell_type": "code",
   "execution_count": 2,
   "metadata": {},
   "outputs": [
    {
     "name": "stdout",
     "output_type": "stream",
     "text": [
      "lis: [24, 24, 24, 24, 24]\n",
      "\n",
      "type(lis): <class 'list'>\n"
     ]
    }
   ],
   "source": [
    "lis = list((24,)*5)\n",
    "print(\"lis:\", lis)\n",
    "print()\n",
    "print(\"type(lis):\", type(lis))"
   ]
  },
  {
   "cell_type": "code",
   "execution_count": null,
   "metadata": {},
   "outputs": [],
   "source": []
  }
 ],
 "metadata": {
  "kernelspec": {
   "display_name": "Python 3",
   "language": "python",
   "name": "python3"
  },
  "language_info": {
   "codemirror_mode": {
    "name": "ipython",
    "version": 3
   },
   "file_extension": ".py",
   "mimetype": "text/x-python",
   "name": "python",
   "nbconvert_exporter": "python",
   "pygments_lexer": "ipython3",
   "version": "3.8.5"
  }
 },
 "nbformat": 4,
 "nbformat_minor": 4
}
