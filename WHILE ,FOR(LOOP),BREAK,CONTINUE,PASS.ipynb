{
 "cells": [
  {
   "cell_type": "markdown",
   "metadata": {},
   "source": [
    "# while loop"
   ]
  },
  {
   "cell_type": "code",
   "execution_count": null,
   "metadata": {},
   "outputs": [],
   "source": [
    "WHILE LOOP-It is also called Conditional loop.It is used to iteratate over the elements until the condition is met\n",
    "or condition becomes false\n",
    "In this we do not know how many times iteration are required\n",
    "control +c= to interrupt the never stop going loop"
   ]
  },
  {
   "cell_type": "code",
   "execution_count": 3,
   "metadata": {},
   "outputs": [
    {
     "name": "stdout",
     "output_type": "stream",
     "text": [
      "1\n",
      "3\n",
      "5\n",
      "7\n",
      "9\n",
      "11\n",
      "13\n",
      "15\n",
      "jai\n"
     ]
    }
   ],
   "source": [
    "i = 1\n",
    "while i<16:\n",
    "    print(i)\n",
    "    i+=2\n",
    "print(\"jai\")\n",
    "    "
   ]
  },
  {
   "cell_type": "code",
   "execution_count": 53,
   "metadata": {},
   "outputs": [
    {
     "name": "stdout",
     "output_type": "stream",
     "text": [
      "0\n",
      "1\n",
      "2\n",
      "3\n",
      "4\n"
     ]
    }
   ],
   "source": [
    "x =0\n",
    "while True:\n",
    "    if x == 5:\n",
    "        break\n",
    "    print(x)\n",
    "    x+=1"
   ]
  },
  {
   "cell_type": "code",
   "execution_count": 5,
   "metadata": {},
   "outputs": [
    {
     "name": "stdout",
     "output_type": "stream",
     "text": [
      "2\n",
      "4\n",
      "6\n",
      "8\n",
      "10\n",
      "12\n"
     ]
    }
   ],
   "source": [
    "a=2\n",
    "while a<18:\n",
    "    if a == 14:\n",
    "        break\n",
    "    print(a)\n",
    "    a+=2"
   ]
  },
  {
   "cell_type": "code",
   "execution_count": 6,
   "metadata": {},
   "outputs": [
    {
     "name": "stdout",
     "output_type": "stream",
     "text": [
      "6\n",
      "5\n",
      "4\n",
      "3\n",
      "2\n",
      "1\n",
      "f\n"
     ]
    }
   ],
   "source": [
    "n=6\n",
    "while n>0:\n",
    "    print(n)\n",
    "    n -=1\n",
    "print(\"f\")\n",
    " "
   ]
  },
  {
   "cell_type": "code",
   "execution_count": 62,
   "metadata": {},
   "outputs": [
    {
     "name": "stdout",
     "output_type": "stream",
     "text": [
      "tam\n",
      "None\n",
      "['jai', 'sam']\n",
      "\n",
      "tam\n",
      "sam\n",
      "jai\n",
      "done\n"
     ]
    }
   ],
   "source": [
    "item  =[\"jai\",\"sam\",\"tam\"]\n",
    "x = print(item.pop())\n",
    "# pop() remove last item in list by default otherwise give index number\n",
    "print(x)\n",
    "print(item)\n",
    "print()\n",
    "\n",
    "item1  =[\"jai\",\"sam\",\"tam\"]\n",
    "while True:\n",
    "\n",
    "    try:\n",
    "        print(item1.pop(-1))\n",
    "    except IndexError:\n",
    "        print(\"done\")\n",
    "        break\n",
    "    \n",
    "    "
   ]
  },
  {
   "cell_type": "code",
   "execution_count": 61,
   "metadata": {},
   "outputs": [
    {
     "name": "stdout",
     "output_type": "stream",
     "text": [
      "[5, 6]\n",
      "(3, 4)\n",
      "a\n",
      "h\n",
      "9.0\n",
      "2\n",
      "done\n"
     ]
    }
   ],
   "source": [
    "a = [\"2\",9.0,\"h\",\"a\",(3,4),[5,6]]\n",
    "while True:\n",
    "    try:\n",
    "        print(a.pop(-1))\n",
    "    except IndexError:\n",
    "        print(\"done\")\n",
    "        break"
   ]
  },
  {
   "cell_type": "code",
   "execution_count": 60,
   "metadata": {},
   "outputs": [
    {
     "name": "stdout",
     "output_type": "stream",
     "text": [
      "8\n",
      "7\n",
      "6\n",
      "no more\n",
      "end\n"
     ]
    }
   ],
   "source": [
    "a = 8\n",
    "while a>0:\n",
    "    if a ==5:\n",
    "        print(\"no more\")\n",
    "        break\n",
    "    print(a)\n",
    "    a -=1\n",
    "print(\"end\")\n",
    "        "
   ]
  },
  {
   "cell_type": "code",
   "execution_count": 59,
   "metadata": {},
   "outputs": [
    {
     "name": "stdout",
     "output_type": "stream",
     "text": [
      "9\n",
      "8\n",
      "7\n",
      "5\n",
      "4\n",
      "3\n",
      "2\n",
      "1\n",
      "0\n",
      "end\n"
     ]
    }
   ],
   "source": [
    "a = 10\n",
    "while a>0:\n",
    "    a -=1\n",
    "    if a== 6:\n",
    "        continue\n",
    "    print(a)\n",
    "  \n",
    "print(\"end\")"
   ]
  },
  {
   "cell_type": "code",
   "execution_count": 58,
   "metadata": {},
   "outputs": [
    {
     "name": "stdout",
     "output_type": "stream",
     "text": [
      "9\n",
      "8\n",
      "7\n",
      "5\n",
      "4\n",
      "3\n",
      "2\n",
      "1\n",
      "0\n",
      "jai\n"
     ]
    }
   ],
   "source": [
    "v =10\n",
    "while v>0:\n",
    "    v = v-1\n",
    "    if v==6:\n",
    "        continue\n",
    "    print(v)\n",
    "print(\"jai\")  "
   ]
  },
  {
   "cell_type": "code",
   "execution_count": 57,
   "metadata": {},
   "outputs": [
    {
     "name": "stdout",
     "output_type": "stream",
     "text": [
      "8\n",
      "7\n",
      "6\n",
      "5\n",
      "4\n",
      "3\n",
      "2\n",
      "1\n",
      "The end\n"
     ]
    }
   ],
   "source": [
    "b=8\n",
    "while b>0:\n",
    "    print(b)\n",
    "    b -=1\n",
    "else:\n",
    "    print(\"The end\")"
   ]
  },
  {
   "cell_type": "code",
   "execution_count": 56,
   "metadata": {},
   "outputs": [
    {
     "name": "stdout",
     "output_type": "stream",
     "text": [
      "6\n",
      "5\n",
      "4\n"
     ]
    }
   ],
   "source": [
    "c  =6\n",
    "while c>0:\n",
    "    if c==3:\n",
    "        break\n",
    "    print(c)\n",
    "    c -=1\n",
    "else:\n",
    "    print(\"The end\")"
   ]
  },
  {
   "cell_type": "code",
   "execution_count": 55,
   "metadata": {},
   "outputs": [
    {
     "name": "stdout",
     "output_type": "stream",
     "text": [
      "5\n",
      "4\n",
      "2\n",
      "1\n",
      "0\n",
      "bhale bhale\n"
     ]
    }
   ],
   "source": [
    "c = 6\n",
    "while c>0:\n",
    "    c -=1\n",
    "    if c==3:\n",
    "        continue\n",
    "    print(c)\n",
    "else:\n",
    "    print(\"bhale bhale\")"
   ]
  },
  {
   "cell_type": "code",
   "execution_count": 56,
   "metadata": {},
   "outputs": [
    {
     "name": "stdout",
     "output_type": "stream",
     "text": [
      "c: 6\n",
      "c: 2\n",
      "end\n"
     ]
    }
   ],
   "source": [
    "c=8\n",
    "while c>2:\n",
    "    c-=2\n",
    "    if c==4:\n",
    "        continue\n",
    "    print('c:', c)\n",
    "print('end')"
   ]
  },
  {
   "cell_type": "code",
   "execution_count": 54,
   "metadata": {},
   "outputs": [
    {
     "name": "stdout",
     "output_type": "stream",
     "text": [
      "not found in list\n"
     ]
    }
   ],
   "source": [
    "a = ['foo', 'bar', 'baz', 'qux']\n",
    "s = 'corge'\n",
    "try:\n",
    "    print(a.index('corge'))\n",
    "except ValueError:\n",
    "    print(\"not found in list\")"
   ]
  },
  {
   "cell_type": "code",
   "execution_count": null,
   "metadata": {},
   "outputs": [],
   "source": [
    "# INFINITE LOOP\n",
    "while True:\n",
    "    print(\"jai ho!\")\n",
    "# control+c(to stop it)"
   ]
  },
  {
   "cell_type": "code",
   "execution_count": 53,
   "metadata": {},
   "outputs": [
    {
     "name": "stdout",
     "output_type": "stream",
     "text": [
      "enter the age34\n",
      "enter the gendarf\n",
      "mother\n"
     ]
    }
   ],
   "source": [
    "age = int(input(\"enter the age\"))\n",
    "gender = input(\"enter the gendar \")\n",
    "if age <18:\n",
    "    if gender =='M':\n",
    "        print(\"son\")\n",
    "    else:\n",
    "        print(\"daughter\")\n",
    "elif age >=18 and age<65:\n",
    "    if gender == 'M':\n",
    "        print(\"father\")\n",
    "    else:\n",
    "        print(\"mother\")\n",
    "else:\n",
    "    if gender == \"M\":\n",
    "        print(\"grandfather\")\n",
    "    else:\n",
    "        print(\"grandmother\")\n",
    "    "
   ]
  },
  {
   "cell_type": "code",
   "execution_count": 52,
   "metadata": {},
   "outputs": [
    {
     "name": "stdout",
     "output_type": "stream",
     "text": [
      "foo\n",
      "jai\n",
      "sam\n",
      "tam\n",
      "bar\n",
      "jai\n",
      "sam\n",
      "tam\n",
      "End\n"
     ]
    }
   ],
   "source": [
    "a = [\"foo\", \"bar\"]\n",
    "while len(a):\n",
    "    print(a.pop(0))\n",
    "   \n",
    "\n",
    "    while len(b):\n",
    "        print(b.pop(0))\n",
    "print(\"End\")"
   ]
  },
  {
   "cell_type": "code",
   "execution_count": 51,
   "metadata": {},
   "outputs": [
    {
     "name": "stdout",
     "output_type": "stream",
     "text": [
      "hello jai\n",
      "hello jai\n",
      "hello jai\n"
     ]
    }
   ],
   "source": [
    "count = 0\n",
    "while count<3:\n",
    "    print(\"hello jai\")\n",
    "    count += 1"
   ]
  },
  {
   "cell_type": "code",
   "execution_count": 50,
   "metadata": {},
   "outputs": [
    {
     "name": "stdout",
     "output_type": "stream",
     "text": [
      "3\n",
      "4\n",
      "6\n",
      "7\n",
      "8\n",
      "9\n",
      "10\n"
     ]
    }
   ],
   "source": [
    "a = 2\n",
    "while a <10:\n",
    "    a +=1\n",
    "    if a== 5:\n",
    "        continue\n",
    "    print(a)"
   ]
  },
  {
   "cell_type": "code",
   "execution_count": 49,
   "metadata": {},
   "outputs": [
    {
     "name": "stdout",
     "output_type": "stream",
     "text": [
      "telusko\n",
      "telusko\n",
      "telusko\n",
      "telusko\n",
      "telusko\n",
      "End\n"
     ]
    }
   ],
   "source": [
    "i = 1\n",
    "while i<=5:\n",
    "    print(\"telusko\")\n",
    "    i+=1\n",
    "print(\"End\")"
   ]
  },
  {
   "cell_type": "code",
   "execution_count": 48,
   "metadata": {},
   "outputs": [
    {
     "name": "stdout",
     "output_type": "stream",
     "text": [
      "jai ho! 6\n",
      "jai ho! 5\n",
      "jai ho! 4\n",
      "jai ho! 3\n",
      "jai ho! 2\n",
      "jai ho! 1\n",
      "end\n"
     ]
    }
   ],
   "source": [
    "i=6\n",
    "while i>=1:\n",
    "    print(\"jai ho!\", i)\n",
    "    i = i-1\n",
    "print(\"end\")"
   ]
  },
  {
   "cell_type": "code",
   "execution_count": 47,
   "metadata": {},
   "outputs": [
    {
     "name": "stdout",
     "output_type": "stream",
     "text": [
      "Telusko Rocks Rocks Rocks Rocks \n",
      "Telusko Rocks Rocks Rocks Rocks \n",
      "Telusko Rocks Rocks Rocks Rocks \n",
      "Telusko Rocks Rocks Rocks Rocks \n",
      "Telusko Rocks Rocks Rocks Rocks \n"
     ]
    }
   ],
   "source": [
    "i = 1\n",
    "while i<=5:\n",
    "    print(\"Telusko\",end=\" \")\n",
    "    j=1\n",
    "    while j<=4:\n",
    "        print(\"Rocks\",end=\" \")\n",
    "        j+=1\n",
    "    i = i+1\n",
    "    print() "
   ]
  },
  {
   "cell_type": "markdown",
   "metadata": {},
   "source": [
    "# GUESS THE NUMBER WHICH IS 9 IN 3 CHANCES"
   ]
  },
  {
   "cell_type": "code",
   "execution_count": 4,
   "metadata": {},
   "outputs": [
    {
     "name": "stdout",
     "output_type": "stream",
     "text": [
      "Enter the number: 4\n",
      "Enter the number: 8\n",
      "Enter the number: 9\n",
      "You guess it right\n"
     ]
    }
   ],
   "source": [
    "# from mosh youtube channnel(python)\n",
    "\n",
    "number_to_guess =9\n",
    "total_chances = 0\n",
    "chances_limit =3\n",
    "while total_chances <chances_limit:\n",
    "    guess_number = int(input(\"Enter the number: \"))\n",
    "    total_chances+=1\n",
    "    if guess_number == number_to_guess:\n",
    "        print(\"You guess it right\")\n",
    "        break \n",
    "else:\n",
    "    print(\"Your chances are over now\")  "
   ]
  },
  {
   "cell_type": "markdown",
   "metadata": {},
   "source": [
    "# when type start ,then print car started, when stop then print car get stopped ,Otherwise quit"
   ]
  },
  {
   "cell_type": "code",
   "execution_count": null,
   "metadata": {},
   "outputs": [
    {
     "name": "stdout",
     "output_type": "stream",
     "text": [
      "start or stop or quit or helpquit\n",
      "You have entered wrong command: \n"
     ]
    }
   ],
   "source": [
    "command =\" \"\n",
    "while True:\n",
    "    command =input(\"start or stop or quit or help\")\n",
    "    if command == \"start\":\n",
    "        print(\"Car started\")\n",
    "    elif command == 'stop':\n",
    "        print(\"Car stopped\")\n",
    "    elif command == \"help\":\n",
    "        print(\"\"\" start = car started\n",
    "        stop =car stopped\n",
    "        quit = quit\"\"\")\n",
    "    elif command == \" quit\":\n",
    "        break \n",
    "    else:\n",
    "        print(\"You have entered wrong command: \")\n",
    "print(\"End\")"
   ]
  },
  {
   "cell_type": "markdown",
   "metadata": {},
   "source": [
    "# when car started and again when you typed start then it ,print car is already started and when you again type stop then it shows message car is already stopped\n"
   ]
  },
  {
   "cell_type": "code",
   "execution_count": 1,
   "metadata": {},
   "outputs": [
    {
     "name": "stdout",
     "output_type": "stream",
     "text": [
      "start or stop or quit or helpstart\n",
      "Car sarted\n",
      "start or stop or quit or helpstart\n",
      "Car is already started\n",
      "start or stop or quit or helpstop\n",
      "Car stopped\n",
      "start or stop or quit or helpstop\n",
      "Car is already stopped\n",
      "start or stop or quit or helpquit\n"
     ]
    }
   ],
   "source": [
    "command= \" \"\n",
    "started =False\n",
    "while True:\n",
    "    command =input('start or stop or quit or help')\n",
    "    if command == 'start':\n",
    "        if started:\n",
    "            print(\"Car is already started\")\n",
    "        else:\n",
    "            started =True\n",
    "            print('Car sarted')\n",
    "    elif command == 'stop':\n",
    "        if not started:\n",
    "            print('Car is already stopped')\n",
    "        else:\n",
    "            started =False\n",
    "            print(\"Car stopped\")\n",
    "        \n",
    "    elif command == 'help':\n",
    "        print(\"\"\" start = car started\n",
    "        stop = car stoppped\n",
    "        quit = quit from program\"\"\")\n",
    "    elif command == \"quit\":\n",
    "        break \n",
    "    else:\n",
    "        print(\"You have entered wrong commmand: \")"
   ]
  },
  {
   "cell_type": "markdown",
   "metadata": {},
   "source": [
    "# FOR LOOP"
   ]
  },
  {
   "cell_type": "code",
   "execution_count": null,
   "metadata": {},
   "outputs": [],
   "source": []
  },
  {
   "cell_type": "code",
   "execution_count": null,
   "metadata": {},
   "outputs": [],
   "source": [
    "It is used for iterating over the elements of sequences(string,list,tuple,set,dict,range) \n",
    "In this we know how many iteration are required."
   ]
  },
  {
   "cell_type": "code",
   "execution_count": 46,
   "metadata": {},
   "outputs": [
    {
     "name": "stdout",
     "output_type": "stream",
     "text": [
      "apple\n",
      "banana\n",
      "cherry\n",
      "\n",
      "apple\n",
      "banana\n",
      "cherry\n"
     ]
    }
   ],
   "source": [
    "fruits = [\"apple\", \"banana\", \"cherry\"]\n",
    "for i in fruits:\n",
    "    print(i)\n",
    "#     print(i[0:2])\n",
    "print()\n",
    "\n",
    "# ANOTHER WAY\n",
    "for i in range(len(fruits)):\n",
    "    print(fruits[i])\n",
    "   "
   ]
  },
  {
   "cell_type": "code",
   "execution_count": 45,
   "metadata": {},
   "outputs": [
    {
     "name": "stdout",
     "output_type": "stream",
     "text": [
      "Bana\n",
      "Guav\n",
      "grap\n",
      "Appl\n",
      "Cher\n",
      "Limited_value_printed\n"
     ]
    }
   ],
   "source": [
    "fruits1= ['Banana','Guava','grapes','Apple','Cherry']\n",
    "for j in fruits1:\n",
    "    print(j[0:4])\n",
    "print(\"Limited_value_printed\")"
   ]
  },
  {
   "cell_type": "code",
   "execution_count": 44,
   "metadata": {},
   "outputs": [
    {
     "name": "stdout",
     "output_type": "stream",
     "text": [
      "B G G A C "
     ]
    }
   ],
   "source": [
    "# we want only 1 character from each word in below list in straight line with space\n",
    "fruits2= ['Banana','Guava','Grapes','Apple','Cherry']\n",
    "for j in fruits2:\n",
    "    print(j[0:1], end=\" \")"
   ]
  },
  {
   "cell_type": "code",
   "execution_count": 43,
   "metadata": {},
   "outputs": [
    {
     "name": "stdout",
     "output_type": "stream",
     "text": [
      "Banana\n",
      "\n",
      "\n",
      "Guava\n",
      "\n",
      "\n",
      "Grapes\n",
      "\n",
      "\n",
      "Apple\n",
      "\n",
      "\n",
      "Cherry\n",
      "\n",
      "\n"
     ]
    }
   ],
   "source": [
    "# we want each value below on another    but with 2 spaces\n",
    "fruits3= ['Banana','Guava','Grapes','Apple','Cherry']\n",
    "for i in fruits3:\n",
    "    print(i)\n",
    "    print()\n",
    "    print()"
   ]
  },
  {
   "cell_type": "code",
   "execution_count": 41,
   "metadata": {},
   "outputs": [
    {
     "name": "stdout",
     "output_type": "stream",
     "text": [
      "apple\n",
      "banana\n",
      "cherry\n",
      "\n",
      "apple\n",
      "banana\n",
      "cherry\n"
     ]
    }
   ],
   "source": [
    "fruits = (\"apple\", \"banana\", \"cherry\")\n",
    "for i in fruits:\n",
    "    print(i)\n",
    "print()\n",
    "for i in range(len(fruits)):\n",
    "    print(fruits[i])\n",
    "# similarly with set"
   ]
  },
  {
   "cell_type": "code",
   "execution_count": 42,
   "metadata": {},
   "outputs": [
    {
     "name": "stdout",
     "output_type": "stream",
     "text": [
      "1 a\n",
      "1 b\n",
      "1 c\n",
      "\n",
      "2 a\n",
      "2 b\n",
      "2 c\n",
      "\n",
      "3 a\n",
      "3 b\n",
      "3 c\n",
      "\n",
      "4 a\n",
      "4 b\n",
      "4 c\n",
      "\n",
      "5 a\n",
      "5 b\n",
      "5 c\n",
      "\n"
     ]
    }
   ],
   "source": [
    "# IMPORTANT\n",
    "\n",
    "nums = [1,2,3,4,5]\n",
    "for num in nums:\n",
    "    for letter in 'abc':\n",
    "        print(num,letter)\n",
    "    print()\n",
    "    "
   ]
  },
  {
   "cell_type": "code",
   "execution_count": 39,
   "metadata": {},
   "outputs": [
    {
     "name": "stdout",
     "output_type": "stream",
     "text": [
      "p\n",
      "y\n",
      "t\n",
      "h\n",
      "o\n",
      "n\n",
      "\n",
      "p\n",
      "y\n",
      "t\n",
      "h\n",
      "o\n",
      "n\n"
     ]
    }
   ],
   "source": [
    "a = \"python\"\n",
    "for i in a:\n",
    "    print(i)\n",
    "print()\n",
    "for i in range(len(a)):\n",
    "    print(a[i])"
   ]
  },
  {
   "cell_type": "code",
   "execution_count": 38,
   "metadata": {},
   "outputs": [
    {
     "name": "stdout",
     "output_type": "stream",
     "text": [
      "0   P\n",
      "1   y\n",
      "2   t\n",
      "3   h\n",
      "4   o\n",
      "5   n\n",
      "Finish\n"
     ]
    }
   ],
   "source": [
    "a1 = \"Python\"\n",
    "for i in range(len(a1)):\n",
    "    print(i,\" \",a1[i])\n",
    "print(\"Finish\")"
   ]
  },
  {
   "cell_type": "code",
   "execution_count": 1,
   "metadata": {},
   "outputs": [
    {
     "name": "stdout",
     "output_type": "stream",
     "text": [
      "0   P\n",
      "1   P\n",
      "2   P\n",
      "3   P\n",
      "4   P\n",
      "5   P\n"
     ]
    }
   ],
   "source": [
    "# for every position(like 1,2,3,4..) i want text 'P' only\n",
    "\n",
    "a2 = \"Python\"\n",
    "for i in range(len(a2)):\n",
    "    print(i, \" \", a2[0])\n"
   ]
  },
  {
   "cell_type": "code",
   "execution_count": 36,
   "metadata": {},
   "outputs": [
    {
     "name": "stdout",
     "output_type": "stream",
     "text": [
      "apple\n",
      "banana\n"
     ]
    }
   ],
   "source": [
    "fruits = [\"apple\", \"banana\", \"cherry\"]\n",
    "for x in fruits:\n",
    "    print(x)\n",
    "    if x == \"banana\":\n",
    "        break"
   ]
  },
  {
   "cell_type": "code",
   "execution_count": 9,
   "metadata": {},
   "outputs": [
    {
     "name": "stdout",
     "output_type": "stream",
     "text": [
      "number:  1 fruitName: apple\n",
      "number:  2 fruitName: banana\n",
      "number:  3 fruitName: cherry\n"
     ]
    }
   ],
   "source": [
    "fruits = [\"apple\", \"banana\", \"cherry\"]\n",
    "for i in range(len(fruits)):\n",
    "    print('number: ',i+1, 'fruitName:', fruits[i])"
   ]
  },
  {
   "cell_type": "code",
   "execution_count": 35,
   "metadata": {},
   "outputs": [
    {
     "name": "stdout",
     "output_type": "stream",
     "text": [
      "apple\n"
     ]
    }
   ],
   "source": [
    "fruits = [\"apple\", \"banana\", \"cherry\"]\n",
    "for x in fruits:\n",
    "    if x == \"banana\":\n",
    "        break\n",
    "    print(x)"
   ]
  },
  {
   "cell_type": "code",
   "execution_count": 34,
   "metadata": {},
   "outputs": [
    {
     "name": "stdout",
     "output_type": "stream",
     "text": [
      "apple\n",
      "cherry\n",
      "mango\n"
     ]
    }
   ],
   "source": [
    "fruits = [\"apple\", \"banana\", \"cherry\",\"mango\"]\n",
    "for x in fruits:\n",
    "    if x == \"banana\":\n",
    "        continue\n",
    "    print(x)"
   ]
  },
  {
   "cell_type": "code",
   "execution_count": 33,
   "metadata": {},
   "outputs": [
    {
     "name": "stdout",
     "output_type": "stream",
     "text": [
      "0\n",
      "1\n",
      "2\n",
      "3\n",
      "4\n",
      "5\n",
      "6\n",
      "7\n",
      "8\n",
      "9\n",
      "\n",
      "1\n",
      "2\n",
      "3\n",
      "4\n",
      "5\n",
      "6\n",
      "7\n",
      "8\n",
      "9\n",
      "10\n",
      "11\n",
      "\n",
      "1\n",
      "4\n",
      "7\n",
      "10\n",
      "13\n",
      "16\n",
      "19\n",
      "\n",
      "20\n",
      "18\n",
      "16\n",
      "14\n",
      "12\n",
      "10\n",
      "8\n",
      "6\n",
      "4\n",
      "2\n"
     ]
    }
   ],
   "source": [
    "for i in range(10):\n",
    "    print(i)\n",
    "print()\n",
    "for i in range(1,12):\n",
    "    print(i)\n",
    "print()\n",
    "for i in range(1,20,3):\n",
    "    print(i)\n",
    "print()\n",
    "for i in range(20,0,-2):\n",
    "    print(i)\n"
   ]
  },
  {
   "cell_type": "code",
   "execution_count": 32,
   "metadata": {},
   "outputs": [
    {
     "name": "stdout",
     "output_type": "stream",
     "text": [
      "0 1 2 3 4 5 6 7 "
     ]
    }
   ],
   "source": [
    "x = range(8)\n",
    "for i in x:\n",
    "    print(i, end=\" \")"
   ]
  },
  {
   "cell_type": "code",
   "execution_count": 31,
   "metadata": {},
   "outputs": [
    {
     "name": "stdout",
     "output_type": "stream",
     "text": [
      "2 3 4 5 6 7 8 9 10 11 12 "
     ]
    }
   ],
   "source": [
    "y = range(2,13)\n",
    "for i in y:\n",
    "    print(i, end=\" \")"
   ]
  },
  {
   "cell_type": "code",
   "execution_count": 10,
   "metadata": {},
   "outputs": [
    {
     "name": "stdout",
     "output_type": "stream",
     "text": [
      "Total sum in a is: 140\n"
     ]
    }
   ],
   "source": [
    "exp =[23,40,14,28,35]\n",
    "a = 0\n",
    "for i in exp:\n",
    "    a = a+i\n",
    "print('Total sum in a is:', a)"
   ]
  },
  {
   "cell_type": "code",
   "execution_count": 13,
   "metadata": {},
   "outputs": [
    {
     "name": "stdout",
     "output_type": "stream",
     "text": [
      "number: 1 age: 23\n",
      "number: 2 age: 40\n",
      "number: 3 age: 14\n",
      "number: 4 age: 28\n",
      "number: 5 age: 35\n",
      "Total Age: 35\n"
     ]
    }
   ],
   "source": [
    "exp =[23,40,14,28,35]\n",
    "total =0\n",
    "for i in range(len(exp)):\n",
    "    print('number:', i+1, 'age:', exp[i])\n",
    "    total+exp[i]\n",
    "print(\"Total Age:\", total+exp[i])"
   ]
  },
  {
   "cell_type": "code",
   "execution_count": 2,
   "metadata": {},
   "outputs": [
    {
     "name": "stdout",
     "output_type": "stream",
     "text": [
      "mylist: ['a', 'b', 'c', 'd', 'e']\n",
      "number:  0 Alphabet:  a\n",
      "number:  1 Alphabet:  b\n",
      "number:  2 Alphabet:  c\n",
      "number:  3 Alphabet:  d\n",
      "number:  4 Alphabet:  e\n"
     ]
    }
   ],
   "source": [
    "mylist  =['a','b','c','d','e']\n",
    "print(\"mylist:\", mylist)\n",
    "for index, value in enumerate(mylist):\n",
    "    print('number: ', index,'Alphabet: ', value)"
   ]
  },
  {
   "cell_type": "code",
   "execution_count": 15,
   "metadata": {},
   "outputs": [
    {
     "name": "stdout",
     "output_type": "stream",
     "text": [
      "key not found at:  Garage\n",
      "key not found at:  Living room\n",
      "key not found at:  sofa\n",
      "key found at location  chair\n",
      "End\n"
     ]
    }
   ],
   "source": [
    "key_location ='chair'\n",
    "locations =['Garage','Living room','sofa','chair','closet']\n",
    "for i in locations:\n",
    "    if i == key_location:\n",
    "        print('key found at location ', i)\n",
    "        break\n",
    "    else:\n",
    "        print('key not found at: ', i)\n",
    "print('End')"
   ]
  },
  {
   "cell_type": "code",
   "execution_count": 30,
   "metadata": {},
   "outputs": [
    {
     "name": "stdout",
     "output_type": "stream",
     "text": [
      "0\n",
      "1\n",
      "2\n",
      "3\n",
      "4\n",
      "5\n",
      "finally over\n"
     ]
    }
   ],
   "source": [
    "for x in range(6):\n",
    "    print(x)\n",
    "else:\n",
    "    print(\"finally over\")"
   ]
  },
  {
   "cell_type": "code",
   "execution_count": 29,
   "metadata": {},
   "outputs": [
    {
     "name": "stdout",
     "output_type": "stream",
     "text": [
      "0\n",
      "1\n",
      "2\n"
     ]
    }
   ],
   "source": [
    "for x in range(6):\n",
    "    if x ==3:\n",
    "        break\n",
    "    print(x)\n",
    "else:\n",
    "    print(\"its over\")"
   ]
  },
  {
   "cell_type": "code",
   "execution_count": 6,
   "metadata": {},
   "outputs": [
    {
     "name": "stdout",
     "output_type": "stream",
     "text": [
      "red apple\n",
      "red banana\n",
      "red cherry\n",
      "big apple\n",
      "big banana\n",
      "big cherry\n",
      "tasty apple\n",
      "tasty banana\n",
      "tasty cherry\n"
     ]
    }
   ],
   "source": [
    "adj = [\"red\", \"big\", \"tasty\"]\n",
    "fruits = [\"apple\", \"banana\", \"cherry\"]\n",
    "for x in adj:\n",
    "    for y in fruits:\n",
    "        print(x,y)"
   ]
  },
  {
   "cell_type": "code",
   "execution_count": 7,
   "metadata": {},
   "outputs": [],
   "source": [
    "for x in [0,1,2,3,4]:\n",
    "    pass"
   ]
  },
  {
   "cell_type": "code",
   "execution_count": 8,
   "metadata": {},
   "outputs": [
    {
     "name": "stdout",
     "output_type": "stream",
     "text": [
      "1 2 3 4 5 7 8 9 10 done\n"
     ]
    }
   ],
   "source": [
    "for i in range(1,11):\n",
    "    if i == 6:\n",
    "        continue\n",
    "    print(i, end=\" \")\n",
    "else:\n",
    "    print(\"done\")\n",
    "        "
   ]
  },
  {
   "cell_type": "code",
   "execution_count": null,
   "metadata": {},
   "outputs": [],
   "source": [
    "s = \"matplotlib\"\n",
    "print(\"j\")\n",
    "try:\n",
    "    i = 0\n",
    "    while True:\n",
    "         print(s[i])\n",
    "    i+=1\n",
    "except IndexError:\n",
    "    print(\"done\")"
   ]
  },
  {
   "cell_type": "code",
   "execution_count": 5,
   "metadata": {},
   "outputs": [
    {
     "name": "stdout",
     "output_type": "stream",
     "text": [
      "m\n",
      "a\n",
      "t\n",
      "p\n",
      "l\n",
      "o\n",
      "t\n",
      "l\n",
      "i\n",
      "b\n",
      "The end\n"
     ]
    }
   ],
   "source": [
    "s = \"matplotlib\"\n",
    "try:\n",
    "    i = 0\n",
    "    while True:\n",
    "        print(s[i])\n",
    "        i+=1\n",
    "    \n",
    "except IndexError:\n",
    "    print(\"The end\")"
   ]
  },
  {
   "cell_type": "code",
   "execution_count": 1,
   "metadata": {},
   "outputs": [
    {
     "name": "stdout",
     "output_type": "stream",
     "text": [
      "1 2 3 5 jai finish_ho\n"
     ]
    }
   ],
   "source": [
    "s = {1,2,3,1,2,5,3,5,\"jai\"}\n",
    "for i in s:\n",
    "    print(i, end=\" \")\n",
    "print(\"finish_ho\")"
   ]
  },
  {
   "cell_type": "code",
   "execution_count": 3,
   "metadata": {},
   "outputs": [
    {
     "name": "stdout",
     "output_type": "stream",
     "text": [
      "['python', 'hub']\n"
     ]
    }
   ],
   "source": [
    "myList = [\"python\",\"hub\"]\n",
    "MyList =[]\n",
    "for i in myList:\n",
    "    MyList.append(i.upper())\n",
    "print(myList)"
   ]
  },
  {
   "cell_type": "code",
   "execution_count": 4,
   "metadata": {},
   "outputs": [
    {
     "name": "stdout",
     "output_type": "stream",
     "text": [
      "m\n",
      "a\n",
      "t\n",
      "p\n",
      "end of loop\n"
     ]
    }
   ],
   "source": [
    "s = \"matplotlib\"\n",
    "i = 0\n",
    "while True:\n",
    "    print(s[i])\n",
    "    if s[i] == \"p\" or s[i] == \"o\":\n",
    "        break\n",
    "    i +=1\n",
    "else:\n",
    "    print(\"end\")\n",
    "print(\"end of loop\")  \n",
    "# --inside else will not be printed"
   ]
  },
  {
   "cell_type": "code",
   "execution_count": 3,
   "metadata": {},
   "outputs": [
    {
     "name": "stdout",
     "output_type": "stream",
     "text": [
      "m\n",
      "a\n",
      "out of loop\n"
     ]
    }
   ],
   "source": [
    "s = \"matplotlib\"\n",
    "for i in s:\n",
    "    if i == \"t\" or i == \"o\":\n",
    "        break\n",
    "    print(i)\n",
    "print(\"out of loop\")"
   ]
  },
  {
   "cell_type": "code",
   "execution_count": 64,
   "metadata": {},
   "outputs": [
    {
     "name": "stdout",
     "output_type": "stream",
     "text": [
      "i: m\n",
      "i: a\n",
      "i: t\n",
      "i: l\n",
      "i: t\n",
      "i: l\n",
      "i: i\n",
      "i: b\n",
      "Loop\n"
     ]
    }
   ],
   "source": [
    "s = \"matplotlib\"\n",
    "for i in s:\n",
    "    if i == \"p\" or i ==\"o\":\n",
    "        continue\n",
    "    print(\"i:\", i)\n",
    "print(\"Loop\")"
   ]
  },
  {
   "cell_type": "code",
   "execution_count": 4,
   "metadata": {},
   "outputs": [
    {
     "name": "stdout",
     "output_type": "stream",
     "text": [
      "g\n",
      "e\n",
      "e\n",
      "executed\n",
      "k\n",
      "s\n"
     ]
    }
   ],
   "source": [
    "g = \"geeks\"\n",
    "for i in g:\n",
    "    if i == \"k\":\n",
    "        print(\"executed\")\n",
    "        pass\n",
    "    print(i)"
   ]
  },
  {
   "cell_type": "code",
   "execution_count": null,
   "metadata": {},
   "outputs": [],
   "source": [
    "EXERCISE(CODE BASICS)"
   ]
  },
  {
   "cell_type": "code",
   "execution_count": null,
   "metadata": {},
   "outputs": [],
   "source": [
    "After flipping a coin 12 times you got this result\n",
    "result = [\"heads\",\"tails\",\"tails\",\"heads\",\"tails\",\"heads\",\"heads\",\"tails\",\"tails\",\"tails\",\"heads\",\"tails\"]\n",
    "# Q1-# Using for loop figure out how many times you got heads(it means we have to count 'heads')"
   ]
  },
  {
   "cell_type": "code",
   "execution_count": 18,
   "metadata": {},
   "outputs": [
    {
     "name": "stdout",
     "output_type": "stream",
     "text": [
      "Number of heads in result are : 5\n"
     ]
    }
   ],
   "source": [
    "result = [\"heads\",\"tails\",\"tails\",\"heads\",\"tails\",\"heads\",\"heads\",\"tails\",\"tails\",\"tails\",\"heads\",\"tails\"]\n",
    "count = 0\n",
    "for i in result:\n",
    "    if i == \"heads\":\n",
    "        count+=1\n",
    "print(\"Number of heads in result are :\", count)"
   ]
  },
  {
   "cell_type": "code",
   "execution_count": null,
   "metadata": {},
   "outputs": [],
   "source": [
    "Q2-Print square of all numbers between 1 to 15 except even numbers"
   ]
  },
  {
   "cell_type": "code",
   "execution_count": 23,
   "metadata": {},
   "outputs": [
    {
     "name": "stdout",
     "output_type": "stream",
     "text": [
      "square of odd number are: 1 1\n",
      "square of odd number are: 3 9\n",
      "square of odd number are: 5 25\n",
      "square of odd number are: 7 49\n",
      "square of odd number are: 9 81\n",
      "square of odd number are: 11 121\n",
      "square of odd number are: 13 169\n",
      "square of odd number are: 15 225\n"
     ]
    }
   ],
   "source": [
    "for i in range(1,16):\n",
    "    if i%2==0:\n",
    "        continue\n",
    "    print('square of odd number are:',i, i*i)"
   ]
  },
  {
   "cell_type": "code",
   "execution_count": null,
   "metadata": {},
   "outputs": [],
   "source": [
    "Q3-Your monthly expense list (from Jan to May) looks like this,\n",
    "expense_list = [2340, 2500, 2100, 3100, 2980]\n",
    "# Write a program that asks you to enter an expense amount and program\n",
    "# should tell you in which month that expense occurred. If expense is not\n",
    "# found then it should print that as well."
   ]
  },
  {
   "cell_type": "code",
   "execution_count": 28,
   "metadata": {},
   "outputs": [
    {
     "name": "stdout",
     "output_type": "stream",
     "text": [
      "Enter the Expenses 45000\n",
      "you do not spend 45000 Amount in any month\n"
     ]
    }
   ],
   "source": [
    "expense_list = [2340, 2500, 2100, 3100, 2980]\n",
    "month_list = [\"January\", \"February\", \"March\", \"April\", \"May\"]\n",
    "month =-1\n",
    "e = int(input(\"Enter the Expenses \"))\n",
    "for i in range(len(expense_list)):\n",
    "    if e == expense_list[i]:\n",
    "        month =i\n",
    "        break \n",
    "if month !=-1:\n",
    "    print('You spend {} amount in {} month'.format(e, month_list[month]))\n",
    "else:\n",
    "    print( 'you do not spend {} Amount in any month'.format(e))"
   ]
  },
  {
   "cell_type": "code",
   "execution_count": null,
   "metadata": {},
   "outputs": [],
   "source": [
    " Q4 Write a program that prints following shape\n",
    "# ```\n",
    "# *\n",
    "# **\n",
    "# ***\n",
    "# ****\n",
    "# *****\n",
    "# ```"
   ]
  },
  {
   "cell_type": "code",
   "execution_count": 33,
   "metadata": {},
   "outputs": [
    {
     "name": "stdout",
     "output_type": "stream",
     "text": [
      " *\n",
      " **\n",
      " ***\n",
      " ****\n",
      " *****\n",
      " ******\n",
      " *******\n"
     ]
    }
   ],
   "source": [
    "for i in range(1,8):\n",
    "    s = \" \"\n",
    "    for j in range(i):\n",
    "        s+=\"*\"\n",
    "    print(s)\n",
    "    \n"
   ]
  },
  {
   "cell_type": "markdown",
   "metadata": {},
   "source": [
    "# difference between pass and continuous"
   ]
  },
  {
   "cell_type": "code",
   "execution_count": null,
   "metadata": {},
   "outputs": [],
   "source": [
    "continue:=:It is used within the loop to skip the current iteration and proceed with next iteration\n",
    "Break:=Current iteration of the loop is stopped abd control is transfered to outside the loop"
   ]
  },
  {
   "cell_type": "code",
   "execution_count": null,
   "metadata": {},
   "outputs": [],
   "source": [
    "SKIP 'K' BELOW"
   ]
  },
  {
   "cell_type": "code",
   "execution_count": 9,
   "metadata": {},
   "outputs": [
    {
     "name": "stdout",
     "output_type": "stream",
     "text": [
      "G\n",
      "e\n",
      "e\n",
      "continuous executed\n",
      "s\n"
     ]
    }
   ],
   "source": [
    "g = \"Geeks\"\n",
    "for i in g:\n",
    "    if i == \"k\":\n",
    "        print(\"continuous executed\")\n",
    "        continue\n",
    "    print(i)"
   ]
  },
  {
   "cell_type": "code",
   "execution_count": null,
   "metadata": {},
   "outputs": [],
   "source": [
    "WE WANT ONLY SQUARE OF ODD NUMBER FROM THE GIVEN RANGE from 1 to 15"
   ]
  },
  {
   "cell_type": "code",
   "execution_count": 3,
   "metadata": {},
   "outputs": [
    {
     "name": "stdout",
     "output_type": "stream",
     "text": [
      "1\n",
      "9\n",
      "25\n",
      "49\n",
      "81\n",
      "121\n",
      "169\n",
      "225\n"
     ]
    }
   ],
   "source": [
    "for i in range(1,16):\n",
    "    if i%2== 0:\n",
    "        continue\n",
    "    print(i*i)"
   ]
  },
  {
   "cell_type": "code",
   "execution_count": null,
   "metadata": {},
   "outputs": [],
   "source": [
    "I WANT TO SKIP GREATER THAN 10 NUMBER IN A RANGE OF 20 NUMBERS"
   ]
  },
  {
   "cell_type": "code",
   "execution_count": 36,
   "metadata": {},
   "outputs": [
    {
     "name": "stdout",
     "output_type": "stream",
     "text": [
      "i: 0\n",
      "i: 1\n",
      "i: 2\n",
      "i: 3\n",
      "i: 4\n",
      "i: 5\n",
      "i: 6\n",
      "i: 7\n",
      "i: 8\n",
      "i: 9\n",
      "i: 10\n"
     ]
    }
   ],
   "source": [
    "for i in range(20):\n",
    "    if i >10:\n",
    "        continue\n",
    "    print(\"i:\",i)"
   ]
  },
  {
   "cell_type": "code",
   "execution_count": 38,
   "metadata": {},
   "outputs": [
    {
     "name": "stdout",
     "output_type": "stream",
     "text": [
      "i: 19\n"
     ]
    }
   ],
   "source": [
    "for i in range(20):\n",
    "    if i>10:\n",
    "        continue\n",
    "print(\"i:\", i)"
   ]
  },
  {
   "cell_type": "code",
   "execution_count": null,
   "metadata": {},
   "outputs": [],
   "source": [
    "FROM LIST I WANT ONLY FIRST 3 NUMBERS"
   ]
  },
  {
   "cell_type": "code",
   "execution_count": 39,
   "metadata": {},
   "outputs": [
    {
     "name": "stdout",
     "output_type": "stream",
     "text": [
      "j: 1\n",
      "j: 2\n",
      "j: 3\n"
     ]
    }
   ],
   "source": [
    "i = [1,2,3,4,5]\n",
    "for j in i:\n",
    "    if j>3:\n",
    "        continue\n",
    "    print('j:', j)"
   ]
  },
  {
   "cell_type": "code",
   "execution_count": null,
   "metadata": {},
   "outputs": [],
   "source": [
    "BREAK STATEMENT EXAMPLES"
   ]
  },
  {
   "cell_type": "code",
   "execution_count": 40,
   "metadata": {},
   "outputs": [
    {
     "name": "stdout",
     "output_type": "stream",
     "text": [
      "x: 0\n",
      "x: 1\n",
      "x: 2\n",
      "x: 3\n",
      "x: 4\n",
      "x: 5\n",
      "x: 6\n",
      "x: 7\n",
      "x: 8\n",
      "x: 9\n",
      "x: 10\n",
      "x: 11\n"
     ]
    }
   ],
   "source": [
    "for x in range(20):\n",
    "    if x>11:\n",
    "        break \n",
    "    print('x:', x)   "
   ]
  },
  {
   "cell_type": "code",
   "execution_count": 42,
   "metadata": {},
   "outputs": [
    {
     "name": "stdout",
     "output_type": "stream",
     "text": [
      "j: 1\n",
      "j: 2\n",
      "j: 3\n",
      "j: 4\n"
     ]
    }
   ],
   "source": [
    "i= [1,2,3,4,5,6]\n",
    "for j in i:\n",
    "    if j == 5:\n",
    "        break \n",
    "    print('j:', j)"
   ]
  },
  {
   "cell_type": "code",
   "execution_count": null,
   "metadata": {},
   "outputs": [],
   "source": [
    "BREAK AND CONTINUE FOR (WHILE LOOP)"
   ]
  },
  {
   "cell_type": "code",
   "execution_count": 47,
   "metadata": {},
   "outputs": [
    {
     "name": "stdout",
     "output_type": "stream",
     "text": [
      "i: 20\n",
      "i: 16\n"
     ]
    }
   ],
   "source": [
    "i =20\n",
    "while i>0:\n",
    "    if i == 12:\n",
    "        break \n",
    "    print('i:', i)\n",
    "    i -=4"
   ]
  },
  {
   "cell_type": "code",
   "execution_count": null,
   "metadata": {},
   "outputs": [],
   "source": [
    "continue statement for while loop"
   ]
  },
  {
   "cell_type": "code",
   "execution_count": 49,
   "metadata": {},
   "outputs": [
    {
     "name": "stdout",
     "output_type": "stream",
     "text": [
      "i 1\n",
      "i 2\n",
      "i 3\n",
      "i 5\n",
      "i 6\n",
      "i 7\n",
      "i 9\n",
      "i 10\n",
      "i 11\n",
      "i 13\n",
      "i 14\n",
      "i 15\n"
     ]
    }
   ],
   "source": [
    "i=1\n",
    "while i<=15:\n",
    "    if i%4==0:\n",
    "        i+=1\n",
    "        continue\n",
    "    print('i', i)\n",
    "    i+=1 "
   ]
  },
  {
   "cell_type": "code",
   "execution_count": 52,
   "metadata": {},
   "outputs": [
    {
     "name": "stdout",
     "output_type": "stream",
     "text": [
      "i: 1\n",
      "i: 2\n",
      "i: 4\n",
      "i: 5\n",
      "i: 7\n",
      "i: 8\n",
      "i: 10\n",
      "i: 11\n",
      "i: 13\n",
      "i: 14\n",
      "i: 16\n",
      "i: 17\n",
      "i: 19\n"
     ]
    }
   ],
   "source": [
    "i=1\n",
    "while i <20:\n",
    "    if i%3==0:\n",
    "        i+=1\n",
    "        continue\n",
    "    print('i:', i)\n",
    "    i+=1"
   ]
  },
  {
   "cell_type": "code",
   "execution_count": 51,
   "metadata": {},
   "outputs": [
    {
     "name": "stdout",
     "output_type": "stream",
     "text": [
      "i: 1\n",
      "i: 3\n",
      "i: 5\n",
      "i: 7\n",
      "i: 9\n",
      "i: 11\n",
      "i: 13\n",
      "i: 15\n",
      "i: 17\n",
      "i: 19\n"
     ]
    }
   ],
   "source": [
    "i=1\n",
    "while i<20:\n",
    "    if i%2==0:\n",
    "        i+=2\n",
    "        continue\n",
    "    print('i:', i)\n",
    "    i+=2"
   ]
  },
  {
   "cell_type": "code",
   "execution_count": 45,
   "metadata": {},
   "outputs": [
    {
     "data": {
      "text/plain": [
       "'4.0.1'"
      ]
     },
     "execution_count": 45,
     "metadata": {},
     "output_type": "execute_result"
    }
   ],
   "source": [
    "import cv2\n",
    "cv2.__version__"
   ]
  },
  {
   "cell_type": "code",
   "execution_count": 11,
   "metadata": {},
   "outputs": [
    {
     "name": "stdout",
     "output_type": "stream",
     "text": [
      "1 13 17 22 28 35 44 "
     ]
    }
   ],
   "source": [
    "s = [1,12,4,5,6,7,9]\n",
    "sum = 0\n",
    "for i in lis:\n",
    "    sum = sum+i\n",
    "    print(sum, end=\" \")"
   ]
  },
  {
   "cell_type": "code",
   "execution_count": 12,
   "metadata": {},
   "outputs": [
    {
     "name": "stdout",
     "output_type": "stream",
     "text": [
      "Total sum is 44\n"
     ]
    }
   ],
   "source": [
    "lis= [1,12,4,5,6,7,9]\n",
    "sum = 0\n",
    "for i in lis:\n",
    "    sum = sum+i\n",
    "print(\"Total sum is\", sum)"
   ]
  },
  {
   "cell_type": "code",
   "execution_count": 13,
   "metadata": {},
   "outputs": [
    {
     "name": "stdout",
     "output_type": "stream",
     "text": [
      "2 4 12 48 240 1440 10080 80640 725760 7257600 "
     ]
    }
   ],
   "source": [
    "list = [1,2,3,4,5,6,7,8,9,10]\n",
    "a = 2\n",
    "for i in list:\n",
    "    a =a*i\n",
    "    print(a, end=\" \")"
   ]
  },
  {
   "cell_type": "code",
   "execution_count": 14,
   "metadata": {},
   "outputs": [
    {
     "name": "stdout",
     "output_type": "stream",
     "text": [
      "2 4 6 8 10 12 14 16 18 20 "
     ]
    }
   ],
   "source": [
    "list = [1,2,3,4,5,6,7,8,9,10]\n",
    "a = 2\n",
    "for i in list:\n",
    "    c = a*i\n",
    "    print(c, end=\" \")"
   ]
  },
  {
   "cell_type": "code",
   "execution_count": 15,
   "metadata": {},
   "outputs": [
    {
     "name": "stdout",
     "output_type": "stream",
     "text": [
      "The product is 7257600\n"
     ]
    }
   ],
   "source": [
    "list = [1,2,3,4,5,6,7,8,9,10]\n",
    "a =2\n",
    "for i in list:\n",
    "    a = a*i\n",
    "print(\"The product is\", a)"
   ]
  },
  {
   "cell_type": "code",
   "execution_count": 16,
   "metadata": {},
   "outputs": [
    {
     "name": "stdout",
     "output_type": "stream",
     "text": [
      "20\n"
     ]
    }
   ],
   "source": [
    "list = [1,2,3,4,5,6,7,8,9,10]\n",
    "a =2\n",
    "for i in list:\n",
    "    c= a*i\n",
    "print(c)"
   ]
  },
  {
   "cell_type": "code",
   "execution_count": 18,
   "metadata": {},
   "outputs": [
    {
     "name": "stdout",
     "output_type": "stream",
     "text": [
      "Enter the number5\n",
      "5\n",
      "10\n",
      "15\n",
      "20\n",
      "25\n"
     ]
    }
   ],
   "source": [
    "n = int(input(\"Enter the number\"))\n",
    "for i in range(1, n+1):\n",
    "    print(n*i)"
   ]
  },
  {
   "cell_type": "code",
   "execution_count": 19,
   "metadata": {},
   "outputs": [
    {
     "name": "stdout",
     "output_type": "stream",
     "text": [
      "p_y_t_h_o_n_"
     ]
    }
   ],
   "source": [
    "str = \"python\"\n",
    "for i in str:\n",
    "    print(i, end=\"_\")\n"
   ]
  },
  {
   "cell_type": "code",
   "execution_count": 20,
   "metadata": {},
   "outputs": [
    {
     "name": "stdout",
     "output_type": "stream",
     "text": [
      "Enter the number10\n",
      "1\n",
      "4\n",
      "7\n"
     ]
    }
   ],
   "source": [
    "n = int(input(\"Enter the number\"))\n",
    "for i in range(1, n,3):\n",
    "    print(i)"
   ]
  },
  {
   "cell_type": "code",
   "execution_count": null,
   "metadata": {},
   "outputs": [],
   "source": [
    "print(\"h\")"
   ]
  },
  {
   "cell_type": "code",
   "execution_count": 21,
   "metadata": {},
   "outputs": [
    {
     "name": "stdout",
     "output_type": "stream",
     "text": [
      "How many candy do you want6\n",
      "I want 6\n",
      "take candy\n",
      "take candy\n",
      "take candy\n",
      "take candy\n",
      "take candy\n",
      "take candy\n",
      "end\n"
     ]
    }
   ],
   "source": [
    "x = int(input(\"How many candy do you want\"))\n",
    "print(\"I want\",x)\n",
    "i = 1\n",
    "while i <=x:\n",
    "    print(\"take candy\")\n",
    "    i+=1\n",
    "print(\"end\")  "
   ]
  },
  {
   "cell_type": "code",
   "execution_count": null,
   "metadata": {},
   "outputs": [],
   "source": [
    "\n",
    "suppoose we have only 10 canddies and user want more than\n",
    "but we have 5 (so here we use break after 5 and jump out of loop)"
   ]
  },
  {
   "cell_type": "code",
   "execution_count": 22,
   "metadata": {},
   "outputs": [
    {
     "name": "stdout",
     "output_type": "stream",
     "text": [
      "How many candies do u really want7\n",
      "I want only 7\n",
      "Take candy 1\n",
      "Take candy 2\n",
      "Take candy 3\n",
      "Take candy 4\n",
      "Take candy 5\n",
      "Out of stock\n",
      "Have a nice day!\n"
     ]
    }
   ],
   "source": [
    "av = 5\n",
    "x = int(input(\"How many candies do u really want\"))\n",
    "print(\"I want only\", x)\n",
    "i = 1\n",
    "while i<=x:\n",
    "    if i>av:\n",
    "        print(\"Out of stock\")\n",
    "        break\n",
    "    print(\"Take candy\",i)\n",
    "    i+=1\n",
    "print(\"Have a nice day!\")"
   ]
  },
  {
   "cell_type": "code",
   "execution_count": null,
   "metadata": {},
   "outputs": [],
   "source": [
    "I want want all value from 1 to 40 except which r divisible by 3() i do not want that),use continue"
   ]
  },
  {
   "cell_type": "code",
   "execution_count": 23,
   "metadata": {},
   "outputs": [
    {
     "name": "stdout",
     "output_type": "stream",
     "text": [
      "1 2 4 5 7 8 10 11 13 14 16 17 19 20 22 23 25 26 28 29 31 32 34 35 37 38 Bye\n"
     ]
    }
   ],
   "source": [
    "for i in range(1,40):\n",
    "    if i %3==0:\n",
    "        continue\n",
    "    print(i, end=\" \")\n",
    "    \n",
    "print(\"Bye\")"
   ]
  },
  {
   "cell_type": "code",
   "execution_count": 24,
   "metadata": {},
   "outputs": [
    {
     "name": "stdout",
     "output_type": "stream",
     "text": [
      "1 2 4 7 8 11 13 14 16 17 19 22 23 26 28 29 31 32 34 37 38 41 43 44 46 47 49 Bye\n"
     ]
    }
   ],
   "source": [
    "for i in range(1,50):\n",
    "    if i %3 ==0 or i%5 ==0:\n",
    "        continue\n",
    "    print(i,end=\" \")\n",
    "print(\"Bye\")"
   ]
  },
  {
   "cell_type": "code",
   "execution_count": 25,
   "metadata": {},
   "outputs": [
    {
     "name": "stdout",
     "output_type": "stream",
     "text": [
      "1 3 5 7 9 11 13 15 17 19 21 23 25 27 29 Bye\n"
     ]
    }
   ],
   "source": [
    "for i in range(1,30):\n",
    "    if i%2==0:\n",
    "        pass\n",
    "    else:\n",
    "        print(i, end=\" \")\n",
    "print(\"Bye\")"
   ]
  },
  {
   "cell_type": "code",
   "execution_count": 26,
   "metadata": {},
   "outputs": [
    {
     "name": "stdout",
     "output_type": "stream",
     "text": [
      "Helo jai! 0\n",
      "Helo jai! 1\n",
      "Helo jai! 2\n",
      "end\n"
     ]
    }
   ],
   "source": [
    "for i in range(5):\n",
    "    if i ==3:\n",
    "        break\n",
    "    print(\"Helo jai!\", i)\n",
    "print(\"end\")"
   ]
  },
  {
   "cell_type": "code",
   "execution_count": null,
   "metadata": {},
   "outputs": [],
   "source": [
    "SWAP VARIABLES"
   ]
  },
  {
   "cell_type": "code",
   "execution_count": 27,
   "metadata": {},
   "outputs": [
    {
     "name": "stdout",
     "output_type": "stream",
     "text": [
      "8\n",
      "5\n"
     ]
    }
   ],
   "source": [
    "a = 5\n",
    "b = 8\n",
    "temp = a\n",
    "a = b\n",
    "b = temp\n",
    "print(a)\n",
    "print(b)"
   ]
  },
  {
   "cell_type": "code",
   "execution_count": 28,
   "metadata": {},
   "outputs": [
    {
     "name": "stdout",
     "output_type": "stream",
     "text": [
      "20\n",
      "10\n"
     ]
    }
   ],
   "source": [
    "a = 10\n",
    "b = 20\n",
    "a,b = b,a\n",
    "print(a)\n",
    "print(b)"
   ]
  }
 ],
 "metadata": {
  "kernelspec": {
   "display_name": "Python 3",
   "language": "python",
   "name": "python3"
  },
  "language_info": {
   "codemirror_mode": {
    "name": "ipython",
    "version": 3
   },
   "file_extension": ".py",
   "mimetype": "text/x-python",
   "name": "python",
   "nbconvert_exporter": "python",
   "pygments_lexer": "ipython3",
   "version": "3.8.5"
  }
 },
 "nbformat": 4,
 "nbformat_minor": 4
}
