{
 "cells": [
  {
   "cell_type": "code",
   "execution_count": null,
   "metadata": {},
   "outputs": [],
   "source": [
    "Constructor:It is used to initialize the instance variable of the class\n",
    "It can be called only once at the time of creating an instance\n",
    "If two instance of the class is created then constructor can be called once for each instance"
   ]
  },
  {
   "cell_type": "code",
   "execution_count": null,
   "metadata": {},
   "outputs": [],
   "source": [
    "CONSTRUCTOR WITHOUT PARAMETER"
   ]
  },
  {
   "cell_type": "code",
   "execution_count": 5,
   "metadata": {},
   "outputs": [
    {
     "name": "stdout",
     "output_type": "stream",
     "text": [
      "constructor has been called\n",
      "constructor has been called\n"
     ]
    }
   ],
   "source": [
    "class mobile:\n",
    "    def __init__(self,x):\n",
    "        self.cost = x\n",
    "        print('constructor has been called')\n",
    "realme = mobile(10000)\n",
    "realme1 = mobile(20000)\n"
   ]
  },
  {
   "cell_type": "code",
   "execution_count": 10,
   "metadata": {},
   "outputs": [
    {
     "name": "stdout",
     "output_type": "stream",
     "text": [
      "\n",
      "realme x\n",
      "12000\n",
      "6gb\n",
      "\n",
      "details are model:realme x price:12000 ram:6gb\n",
      "\n",
      "realme x\n",
      "12000\n",
      "6gb\n"
     ]
    }
   ],
   "source": [
    "class mobile:\n",
    "    def __init__(self):\n",
    "        self.model = 'realme x'\n",
    "        self.price = 12000\n",
    "        self.ram = '6gb'\n",
    "    def show_detail(self):\n",
    "        print(\"details are model:{} price:{} ram:{}\".format(self.model,self.price,self.ram))\n",
    "redmi = mobile()\n",
    "nokia7 = mobile()\n",
    "print()\n",
    "print(redmi.model)\n",
    "print(redmi.price)\n",
    "print(redmi.ram)\n",
    "print()\n",
    "redmi.show_detail()\n",
    "print()\n",
    "# similarly\n",
    "print(nokia7.model)\n",
    "print(nokia7.price)\n",
    "print(nokia7.ram)"
   ]
  },
  {
   "cell_type": "code",
   "execution_count": 13,
   "metadata": {},
   "outputs": [
    {
     "name": "stdout",
     "output_type": "stream",
     "text": [
      "model:redmi7pro and price is 7000\n",
      "volume of mobile is:80\n",
      "\n",
      "model:samsung and price is 2000\n",
      "volume of mobile is:100\n"
     ]
    }
   ],
   "source": [
    "class mobile:\n",
    "    def __init__(self, model,volume=80):\n",
    "        self.model =model\n",
    "        self.volume = volume\n",
    "    def show_model(self, p):\n",
    "        self.price = p\n",
    "        print(\"model:{} and price is {}\".format(self.model, self.price))\n",
    "        print(\"volume of mobile is:{}\".format(self.volume))\n",
    "m1 = mobile('redmi7pro')\n",
    "m1.show_model(7000)\n",
    "print()\n",
    "m2 =mobile('samsung', 100)\n",
    "m2.show_model(2000)\n",
    "\n",
    "        "
   ]
  },
  {
   "cell_type": "code",
   "execution_count": null,
   "metadata": {},
   "outputs": [],
   "source": [
    "INSTANCE VARIABLE"
   ]
  },
  {
   "cell_type": "code",
   "execution_count": null,
   "metadata": {},
   "outputs": [],
   "source": [
    "INSTANCE variable can be initialized and define using constructor with self parameter and\n",
    "it can be accessed inside instance methods of class"
   ]
  },
  {
   "cell_type": "code",
   "execution_count": 5,
   "metadata": {},
   "outputs": [
    {
     "name": "stdout",
     "output_type": "stream",
     "text": [
      "\n",
      "realmi 7a\n",
      "4gb\n",
      "\n",
      "realmi 7a\n",
      "6gb\n",
      "\n",
      "model:realmi 7a\n",
      "ram:8gb\n",
      "model:realmi 7a\n",
      "ram:6gb\n",
      "realme 10x\n",
      "realmi 7a\n",
      "realmi 7a\n"
     ]
    }
   ],
   "source": [
    "class mobile:\n",
    "    def __init__(self,ram):\n",
    "        self.model ='realmi 7a'--instance variable\n",
    "        self.ram = ram\n",
    "    def show_detail(self):--instance method\n",
    "        print('model:{}'.format(self.model))---accessing instance variable inside instance method\n",
    "        print('ram:{}'.format(self.ram))\n",
    "        \n",
    "realme = mobile('4gb')\n",
    "redmi = mobile('6gb')\n",
    "oneplus = mobile('8gb')\n",
    "print()\n",
    "print(realme.model)--accesssing instance variable outside class\n",
    "print(realme.ram)\n",
    "print()\n",
    "print(redmi.model)\n",
    "print(redmi.ram)\n",
    "print()\n",
    "oneplus.show_detail()\n",
    "redmi.show_detail()\n",
    "# now changing instance variable of one of instance object\n",
    "oneplus.model = 'realme 10x'\n",
    "print(oneplus.model)\n",
    "print(realme.model)\n",
    "print(redmi.model)"
   ]
  },
  {
   "cell_type": "code",
   "execution_count": 8,
   "metadata": {},
   "outputs": [
    {
     "name": "stdout",
     "output_type": "stream",
     "text": [
      "\n",
      "sam\n",
      "john\n",
      "300000\n",
      "01\n",
      "\n",
      "first:sam last:john salary:300000 id:01\n",
      "\n",
      "sam.john@gmail.com\n",
      "\n",
      "updated salary 50000\n",
      "detail with updated salary\n",
      "\n",
      "first:sam last:john salary:50000 id:01\n",
      "jai\n",
      "sam\n",
      "\n",
      "samy\n",
      "sam\n"
     ]
    }
   ],
   "source": [
    "class employees:\n",
    "    def __init__(self,first,last):\n",
    "        self.first = first\n",
    "        self.last = last\n",
    "        self.salary = 300000\n",
    "        self.id = '01'\n",
    "    def show_detail(self):\n",
    "        print('first:{} last:{} salary:{} id:{}'.format(self.first, self.last,self.salary,self.id))\n",
    "    def show_email(self):\n",
    "        return '{}.{}@gmail.com'.format(self.first, self.last)\n",
    "    def update_salary(self, s):\n",
    "        self.salary = s\n",
    "        print(\"updated salary\",self.salary)\n",
    "e1 = employees('jai','tiwari')\n",
    "e2 = employees('sam','john')\n",
    "print()\n",
    "print(e2.first)\n",
    "print(e2.last)\n",
    "print(e2.salary)\n",
    "print(e2.id)\n",
    "print()\n",
    "e2.show_detail()\n",
    "print()\n",
    "print(e2.show_email())\n",
    "print()\n",
    "e2.update_salary(50000)\n",
    "print(\"detail with updated salary\")\n",
    "print()\n",
    "e2.show_detail()\n",
    "# now look below\n",
    "print(e1.first)\n",
    "print(e2.first)\n",
    "print()\n",
    "e1.first = 'samy'\n",
    "print(e1.first)\n",
    "print(e2.first)"
   ]
  },
  {
   "cell_type": "code",
   "execution_count": null,
   "metadata": {},
   "outputs": [],
   "source": [
    "CLASS/STATIC VARIABLE :=class variable is a variable whose copy is availiable to all the instance of the class\n",
    "It can be accessed  by using class method which is denoted by decorator @classmethod.In clas method ,method having\n",
    "'cls' as first parameter\n",
    " It is define inside below class\n",
    "It can also be accessed by instance of class"
   ]
  },
  {
   "cell_type": "code",
   "execution_count": 23,
   "metadata": {},
   "outputs": [
    {
     "name": "stdout",
     "output_type": "stream",
     "text": [
      "\n",
      "10000\n",
      "realme 10x\n",
      "8gb\n",
      "\n",
      "20000\n",
      "realme 10x\n",
      "8gb\n",
      "\n",
      "price:10000 model:realme 10x ram:8gb\n",
      "price:20000 model:realme 10x ram:8gb\n",
      "\n",
      "new price 12000\n",
      "new price 22000\n",
      "\n",
      "10gb\n",
      "8gb\n",
      "\n",
      "yes\n",
      "no\n",
      "\n",
      "alright\n",
      "alright\n",
      "alright\n",
      "\n",
      "yes\n",
      "yes\n",
      "yes\n",
      "\n",
      "yes\n",
      "\n",
      "price:12000 model:realme 10x ram:10gb\n",
      "\n",
      "yes\n",
      "python is great\n",
      "yes\n"
     ]
    }
   ],
   "source": [
    "class mobile:\n",
    "    fb = 'yes'\n",
    "#     ---'fb' is class/statc variable\n",
    "    def __init__(self, price):\n",
    "        self.price = price\n",
    "#         ------these three(price,model,ram) are instance variable\n",
    "        self.model = 'realme 10x'\n",
    "        self.ram = '8gb'\n",
    "    def show_details(self):\n",
    "#         --instance method\n",
    "        return 'price:{} model:{} ram:{}'.format(self.price,self.model,self.ram)\n",
    "#     --access instance variable inside instance method(show_details())\n",
    "    def update_price(self, p):\n",
    "#         --instance method\n",
    "        self.price = p\n",
    "        print(\"new price\", self.price)\n",
    "    @classmethod\n",
    "#     --class decorator\n",
    "    def is_fb(cls):\n",
    "#         --class method\n",
    "        return cls.fb\n",
    "#     --accessing class variable(fb) inside class method\n",
    "m1 = mobile(10000)\n",
    "m2 =mobile(20000)\n",
    "print()\n",
    "print(m1.price)\n",
    "# --accessing instance variable outside class by class object(price,model,ram)\n",
    "print(m1.model)\n",
    "print(m1.ram)\n",
    "print()\n",
    "print(m2.price)\n",
    "print(m2.model)\n",
    "print(m2.ram)\n",
    "print()\n",
    "print(m1.show_details())\n",
    "# ---class object calling its function\n",
    "print(m2.show_details())\n",
    "print()\n",
    "m1.update_price(12000)\n",
    "# --class object calling its function\n",
    "m2.update_price(22000)\n",
    "print()\n",
    "m1.ram= '10gb'\n",
    "# ---changing instance variable of one class object\n",
    "print(m1.ram)\n",
    "print(m2.ram)\n",
    "print()\n",
    "print(mobile.is_fb())\n",
    "# -- class name calling class method\n",
    "mobile.fb= 'no'\n",
    "# --modifying class variable\n",
    "print(mobile.is_fb())\n",
    "print()\n",
    "mobile.fb = 'alright'\n",
    "print(mobile.fb)\n",
    "# -class calling its class variable\n",
    "print(m1.fb)\n",
    "# --object of class callling its class variable\n",
    "print(m2.fb)\n",
    "print()\n",
    "mobile.fb ='yes'\n",
    "print(mobile.fb)\n",
    "print(m1.fb)\n",
    "print(m2.fb)\n",
    "print()\n",
    "print(m1.is_fb()) \n",
    "# --instance of class calling class method\n",
    "print()\n",
    "print(mobile.show_details(m1))\n",
    "# --class calling instance method\n",
    "print()\n",
    "# changing class variabe for a particular object of class\n",
    "m1.fb = 'python is great'\n",
    "print(mobile.fb)\n",
    "print(m1.fb)\n",
    "print(m2.fb)"
   ]
  },
  {
   "cell_type": "code",
   "execution_count": null,
   "metadata": {},
   "outputs": [],
   "source": [
    "NAMESPACE(cover above)"
   ]
  },
  {
   "cell_type": "code",
   "execution_count": null,
   "metadata": {},
   "outputs": [],
   "source": [
    "methods\n",
    "constructor\n",
    "1)instance method\n",
    "2)class method\n",
    "3)static method\n",
    "4)set method(set value)\n",
    "5)get method(get value)"
   ]
  },
  {
   "cell_type": "code",
   "execution_count": null,
   "metadata": {},
   "outputs": [],
   "source": [
    "INSTANCE METHOD:Act upon instance variable of the class"
   ]
  },
  {
   "cell_type": "code",
   "execution_count": 27,
   "metadata": {},
   "outputs": [
    {
     "name": "stdout",
     "output_type": "stream",
     "text": [
      "model realme 10x price 10000\n",
      "model realme 10x price 20000\n",
      "\n",
      "realme 10x\n",
      "realme 10x\n"
     ]
    }
   ],
   "source": [
    "class mobile:\n",
    "    def __init__(self):\n",
    "        self.model = 'realme 10x'\n",
    "    def show_detail(self, p):\n",
    "        self.price = p\n",
    "        print(\"model\",self.model, \"price\",self.price)\n",
    "m_1 = mobile()\n",
    "m_2 = mobile()\n",
    "m_1.show_detail(10000)\n",
    "m_2.show_detail(20000)\n",
    "print()\n",
    "print(m_1.model)\n",
    "print(m_2.model)\n",
    "    "
   ]
  },
  {
   "cell_type": "code",
   "execution_count": 1,
   "metadata": {},
   "outputs": [
    {
     "name": "stdout",
     "output_type": "stream",
     "text": [
      "oneplus\n",
      "mobile_model:oneplus3 mobile_price:20000\n",
      "mobile_model:oneplus12 mobile_price:100000\n"
     ]
    }
   ],
   "source": [
    "class mobile:\n",
    "    def __init__(self):\n",
    "        self.brand = 'oneplus'\n",
    "        self.location ='India'\n",
    "    def fulldetail(self, m,p):\n",
    "        self.model = m\n",
    "        self.price = p\n",
    "        return 'mobile_model:{} mobile_price:{}'.format(self.model, self.price)\n",
    "m1 = mobile()\n",
    "m2 =mobile()\n",
    "print(m1.brand)\n",
    "# print(m1.location)\n",
    "# print(m2.brand)\n",
    "# print(m2.location)\n",
    "print(m1.fulldetail('oneplus3', 20000))\n",
    "print(m2.fulldetail('oneplus12', 100000))\n"
   ]
  },
  {
   "cell_type": "code",
   "execution_count": null,
   "metadata": {},
   "outputs": [],
   "source": [
    "class mobile:\n",
    "    def show(self):\n",
    "        print(\"Realme X\")\n",
    "realme = mobile()\n",
    "realme.show()"
   ]
  },
  {
   "cell_type": "code",
   "execution_count": null,
   "metadata": {},
   "outputs": [],
   "source": [
    "ACCESSOR OF GETTER METHOD(): It is used to read or access the data ,It do not modify the data\n",
    "SETTER(): It method uset to access or read and modify the data"
   ]
  },
  {
   "cell_type": "code",
   "execution_count": null,
   "metadata": {},
   "outputs": [],
   "source": [
    "get()method/getter()method"
   ]
  },
  {
   "cell_type": "code",
   "execution_count": 31,
   "metadata": {},
   "outputs": [
    {
     "name": "stdout",
     "output_type": "stream",
     "text": [
      "realme X\n",
      "8gb\n",
      "\n",
      "realme X\n",
      "8gb\n",
      "\n",
      "model realme X ram: 8gb\n",
      "model realme X ram: 8gb\n"
     ]
    }
   ],
   "source": [
    "class mobile:\n",
    "    def __init__(self):\n",
    "        self.model ='realme X'\n",
    "        self.ram = '8gb'\n",
    "    def get_detail(self):--getter/accesser method\n",
    "        print(\"model\", self.model, 'ram:', self.ram)\n",
    "realme = mobile()\n",
    "redmi = mobile()\n",
    "print(realme.model)\n",
    "print(realme.ram)\n",
    "print()\n",
    "print(redmi.model)\n",
    "print(redmi.ram)\n",
    "print()\n",
    "realme.get_detail()\n",
    "redmi.get_detail()\n"
   ]
  },
  {
   "cell_type": "code",
   "execution_count": null,
   "metadata": {},
   "outputs": [],
   "source": [
    "se/settert() method:It access ,read and even set or update data"
   ]
  },
  {
   "cell_type": "code",
   "execution_count": 2,
   "metadata": {},
   "outputs": [
    {
     "name": "stdout",
     "output_type": "stream",
     "text": [
      "realme X\n",
      "8gb\n",
      "\n",
      "realme X\n",
      "8gb\n",
      "\n",
      "model: realme X ram: 8gb\n",
      "model: realme X ram: 8gb\n",
      "\n",
      "new_model: newrazor9 new_ram: 10gb\n",
      "new_model: realproMax new_ram: 12gb\n",
      "\n",
      "Everythig is going good\n",
      "Everythig is going good\n",
      "\n",
      "newrazor9\n",
      "realproMax\n"
     ]
    }
   ],
   "source": [
    "class mobile:\n",
    "    def __init__(self):\n",
    "        self.model = 'realme X'\n",
    "        self.ram ='8gb'\n",
    "    def get_detail(self):\n",
    "#         --we can only acess n read the data\n",
    "        print(\"model:\",self.model, \"ram:\", self.ram)\n",
    "    def set_detail(self,m,r):\n",
    "#         --here we can access and also update data\n",
    "        self.model =m\n",
    "        self.ram =r\n",
    "        print(\"new_model:\", self.model, \"new_ram:\", self.ram)\n",
    "    def all_well(self):\n",
    "        print(\"Everythig is going good\")\n",
    "m1 = mobile()\n",
    "m2 = mobile()\n",
    "print(m1.model)\n",
    "print(m1.ram)\n",
    "print()\n",
    "print(m2.model)\n",
    "print(m2.ram)\n",
    "print()\n",
    "m1.get_detail()\n",
    "m2.get_detail()\n",
    "print()\n",
    "m1.set_detail('newrazor9', '10gb')\n",
    "m2.set_detail('realproMax', '12gb')\n",
    "print()\n",
    "m1.all_well()\n",
    "m2.all_well()\n",
    "print()\n",
    "# here model of both object (m1,m2)get changed now due to setter metod(set_detail())\n",
    "print(m1.model)\n",
    "print(m2.model)"
   ]
  },
  {
   "cell_type": "code",
   "execution_count": 39,
   "metadata": {},
   "outputs": [
    {
     "name": "stdout",
     "output_type": "stream",
     "text": [
      "realme X Pro\n"
     ]
    }
   ],
   "source": [
    "class mobile:\n",
    "    def set_detail(self, m):\n",
    "        self.model = m\n",
    "realme = mobile()\n",
    "realme.set_detail('realme X Pro')\n",
    "print(realme.model)"
   ]
  },
  {
   "cell_type": "code",
   "execution_count": null,
   "metadata": {},
   "outputs": [],
   "source": [
    "CLASS METHOD"
   ]
  },
  {
   "cell_type": "code",
   "execution_count": null,
   "metadata": {},
   "outputs": [],
   "source": [
    "It act upon class varaible of the class(we can access class variable here)we can do other thing also in class method\n",
    "To write classmethod we use @classmethod decorators\n",
    "by default the first parameter of the class method is 'cls' which refers to class itself"
   ]
  },
  {
   "cell_type": "code",
   "execution_count": null,
   "metadata": {},
   "outputs": [],
   "source": [
    "using class method without parameter"
   ]
  },
  {
   "cell_type": "code",
   "execution_count": 1,
   "metadata": {},
   "outputs": [
    {
     "name": "stdout",
     "output_type": "stream",
     "text": [
      "realme X\n",
      "8gb ram\n",
      "\n",
      "realme X\n",
      "8gb ram\n"
     ]
    }
   ],
   "source": [
    "class mobile:\n",
    "    @classmethod\n",
    "    def show_detail(cls):\n",
    "        print(\"realme X\")\n",
    "        print(\"8gb ram\")\n",
    "m1 = mobile()\n",
    "mobile.show_detail()\n",
    "print()\n",
    "m1.show_detail()"
   ]
  },
  {
   "cell_type": "code",
   "execution_count": null,
   "metadata": {},
   "outputs": [],
   "source": [
    "class method with parameter"
   ]
  },
  {
   "cell_type": "code",
   "execution_count": 4,
   "metadata": {},
   "outputs": [
    {
     "name": "stdout",
     "output_type": "stream",
     "text": [
      "yes 6gb\n",
      "\n",
      "6gb\n",
      "6gb\n"
     ]
    }
   ],
   "source": [
    "class mobile:\n",
    "    fb = \"yes\"\n",
    "    @classmethod\n",
    "    def detail_show(cls, r):\n",
    "        cls.ram = r\n",
    "        print(cls.fb, cls.ram)\n",
    "m1 = mobile()\n",
    "m2 = mobile()\n",
    "mobile.detail_show('6gb')\n",
    "# m1.detail_show('3gb')\n",
    "print()\n",
    "print(m1.ram)\n",
    "print(m2.ram)"
   ]
  },
  {
   "cell_type": "code",
   "execution_count": null,
   "metadata": {},
   "outputs": [],
   "source": [
    "Now see ful program"
   ]
  },
  {
   "cell_type": "code",
   "execution_count": 10,
   "metadata": {},
   "outputs": [
    {
     "name": "stdout",
     "output_type": "stream",
     "text": [
      "10000\n",
      "4gb\n",
      "redmi7 pro max\n",
      "black\n",
      "\n",
      "20000\n",
      "6gb\n",
      "redmi7 pro max\n",
      "black\n",
      "\n",
      " price:10000 ram:4gb model:redmi7 pro max color:black\n",
      "customerName: jai\n",
      "Newram: 8gb\n",
      "fb value: yes camera: 12megapixel\n",
      "\n",
      "fb value: yes camera: 12megapixel\n",
      "\n",
      "12megapixel\n",
      "12megapixel\n",
      "\n",
      "yes\n",
      "yes\n",
      "yes\n",
      "\n",
      "no\n",
      "no\n",
      "no\n",
      "\n",
      "no\n",
      "python\n",
      "no\n",
      " price:20000 ram:6gb model:redmi7 pro max color:black\n",
      "8gb\n",
      "6gb\n",
      "\n",
      "10000\n",
      "new price for m1 object\n",
      "m1price 40000\n",
      "m2price 20000\n",
      "\n",
      "black\n",
      "redmi7 pro max\n",
      "black\n",
      "redmi7 pro max\n"
     ]
    }
   ],
   "source": [
    "class mobile:\n",
    "    fb =\"yes\"\n",
    "    def __init__(self,price,ram):\n",
    "        self.price = price\n",
    "        self.ram = ram\n",
    "        self.model ='redmi7 pro max'\n",
    "        self.color = 'black'\n",
    "    def all_info(self):\n",
    "        return \" price:{} ram:{} model:{} color:{}\".format(self.price,self.ram,self.model,self.color)\n",
    "    def name_info(self, n):\n",
    "        self.name = n\n",
    "        print(\"customerName:\", self.name)\n",
    "    def set_ram(self,r):\n",
    "        self.ram = r\n",
    "    def get_ram(self):\n",
    "        print(\"Newram:\", self.ram)\n",
    "        \n",
    "    @classmethod\n",
    "    def is_fb(cls,c):\n",
    "        cls.camera =c\n",
    "        print(\"fb value:\", cls.fb, \"camera:\", cls.camera)\n",
    "\n",
    "m1 = mobile(10000,'4gb')\n",
    "m2 = mobile(20000,'6gb')\n",
    "# m1 object calling its instance variable\n",
    "print(m1.price)\n",
    "print(m1.ram)\n",
    "print(m1.model)\n",
    "print(m1.color)\n",
    "print()\n",
    "# m2 object calling its instance variable\n",
    "print(m2.price)\n",
    "print(m2.ram)\n",
    "print(m2.model)\n",
    "print(m2.color)\n",
    "print()\n",
    "# now m1 object calling its methods\n",
    "print(m1.all_info())\n",
    "m1.name_info('jai')\n",
    "m1.set_ram('8gb')\n",
    "m1.get_ram()\n",
    "m1.is_fb('12megapixel')\n",
    "print()\n",
    "mobile.is_fb('12megapixel')\n",
    "print()\n",
    "# now camera value is for all instance because camera varaiable is class variable and it is apply on all instance \n",
    "# variable\n",
    "print(m1.camera)\n",
    "print(m2.camera)\n",
    "print()\n",
    "print(mobile.fb)\n",
    "print(m1.fb)\n",
    "print(m2.fb)\n",
    "print()\n",
    "mobile.fb = 'no'\n",
    "print(mobile.fb)\n",
    "print(m1.fb)\n",
    "print(m2.fb)\n",
    "print()\n",
    "m1.fb = \"python\"\n",
    "print(mobile.fb)\n",
    "print(m1.fb)\n",
    "print(m2.fb)\n",
    "# class mobile calling instance methods\n",
    "print(mobile.all_info(m2))\n",
    "# now we know Newram is '8gb' for m1 object lets check\n",
    "print(m1.ram)\n",
    "print(m2.ram)\n",
    "print()\n",
    "print(m1.price)\n",
    "m1.price = 40000\n",
    "print(\"new price for m1 object\")\n",
    "print(\"m1price\",m1.price)\n",
    "print(\"m2price\",m2.price)\n",
    "print()\n",
    "print(m1.color)\n",
    "print(m1.model)\n",
    "print(m2.color)\n",
    "print(m2.model)\n",
    "\n",
    "\n",
    "    \n",
    "        \n",
    "        "
   ]
  },
  {
   "cell_type": "code",
   "execution_count": null,
   "metadata": {},
   "outputs": [],
   "source": [
    "STATIC METHOD IN OOP"
   ]
  },
  {
   "cell_type": "code",
   "execution_count": null,
   "metadata": {},
   "outputs": [],
   "source": [
    "It is used to perform some operation related to the class but does not need class or its variable to perform work\n",
    "In static method we pass some value from outside and perform operation on that\n",
    "It is denoted by decorator @static method and there is no such first parameter like we have self and cls\n",
    "It is call by class"
   ]
  },
  {
   "cell_type": "code",
   "execution_count": 1,
   "metadata": {},
   "outputs": [
    {
     "name": "stdout",
     "output_type": "stream",
     "text": [
      "model is redmi9pro max\n"
     ]
    }
   ],
   "source": [
    "class mobile:\n",
    "    @staticmethod\n",
    "    def details():\n",
    "        print(\"model is redmi9pro max\")\n",
    "redmi = mobile\n",
    "mobile.details()"
   ]
  },
  {
   "cell_type": "code",
   "execution_count": null,
   "metadata": {},
   "outputs": [],
   "source": [
    "static method with parameter"
   ]
  },
  {
   "cell_type": "code",
   "execution_count": 11,
   "metadata": {},
   "outputs": [
    {
     "name": "stdout",
     "output_type": "stream",
     "text": [
      "model:oneplus10 price:32000\n",
      "fb_value: yes\n"
     ]
    }
   ],
   "source": [
    "class mobile:\n",
    "    fb = 'yes'\n",
    "    @staticmethod\n",
    "    def details(m,p):\n",
    "        model = m\n",
    "        price = p\n",
    "        print(\"model:{} price:{}\".format(model,price))\n",
    "    @staticmethod\n",
    "    def xyz_value():\n",
    "        print(\"fb_value:\",mobile.fb)\n",
    "m1 = mobile()\n",
    "m2 = mobile()\n",
    "mobile.details('oneplus10', 32000)\n",
    "mobile.xyz_value()\n",
    "# print(m1.model)\n",
    "# print(m1.price)\n",
    "# print(m2.model)\n",
    "# print(m2.price)\n",
    "\n"
   ]
  },
  {
   "cell_type": "code",
   "execution_count": null,
   "metadata": {},
   "outputs": [],
   "source": [
    "PASSING MEMBER OF ONE CLASS TO ANOTHER"
   ]
  },
  {
   "cell_type": "code",
   "execution_count": null,
   "metadata": {},
   "outputs": [],
   "source": [
    "IMPORTANT"
   ]
  },
  {
   "cell_type": "code",
   "execution_count": 7,
   "metadata": {},
   "outputs": [
    {
     "name": "stdout",
     "output_type": "stream",
     "text": [
      "name jai\n",
      "salary 40000\n",
      "employees:jai salary:40000\n",
      "dateofjoining 1oct,2021\n"
     ]
    }
   ],
   "source": [
    "class employees:\n",
    "    def __init__(self, name,salary):\n",
    "        self.name = name\n",
    "        self.salary =salary\n",
    "    def display(self):\n",
    "        return \"employees:{} salary:{}\".format(self.name, self.salary)\n",
    "    def more_details(self, j):\n",
    "        self.joining = j\n",
    "        print(\"dateofjoining\", self.joining)\n",
    "class user:\n",
    "    @staticmethod\n",
    "    def all_detail(e):\n",
    "        print(\"name\", e.name)\n",
    "        print(\"salary\", e.salary)\n",
    "        print(e.display())\n",
    "        e.more_details('1oct,2021')\n",
    "\n",
    "e1 = employees('jai',40000)\n",
    "e2 = employees('sam', 50000)\n",
    "user.all_detail(e1)\n",
    "        "
   ]
  },
  {
   "cell_type": "code",
   "execution_count": null,
   "metadata": {},
   "outputs": [],
   "source": [
    "INHERITANCE IN OOP"
   ]
  },
  {
   "cell_type": "code",
   "execution_count": null,
   "metadata": {},
   "outputs": [],
   "source": [
    "When a new class inherits all the variable and methods from old class that is called inheritance\n",
    "old class is called parent class or super class or base class\n",
    "New class that inherits all properties called child class or sub class or derived class\n",
    "Advantages:\n",
    "code reusability\n",
    "class inherits constructor,instance method,class method,static method,set and get method of class\n",
    "It also inherits class and instance variable"
   ]
  },
  {
   "cell_type": "code",
   "execution_count": null,
   "metadata": {},
   "outputs": [],
   "source": [
    "y need inheritance"
   ]
  },
  {
   "cell_type": "code",
   "execution_count": 8,
   "metadata": {},
   "outputs": [
    {
     "name": "stdout",
     "output_type": "stream",
     "text": [
      "yes\n",
      "\n",
      "jai\n",
      "30000\n",
      "3hours\n"
     ]
    }
   ],
   "source": [
    "class employees:\n",
    "    fb = \"yes\"\n",
    "    @classmethod\n",
    "    def detail(cls):\n",
    "        print(cls.fb)\n",
    "    def setname(self, name):\n",
    "        self.name = name\n",
    "    def getname(self):\n",
    "        return self.name\n",
    "    def setsalary(self, s):\n",
    "        self.salary = s\n",
    "    def getsalary(self):\n",
    "        return self.salary\n",
    "    def setovertime(self, ot):\n",
    "        self.overtime = ot\n",
    "    def getovertime(self):\n",
    "        return self.overtime\n",
    "    \n",
    "e1 =employees()\n",
    "employees.detail()\n",
    "print()\n",
    "e1.setname('jai')\n",
    "print(e1.getname())\n",
    "e1.setsalary(30000)\n",
    "print(e1.getsalary())\n",
    "e1.setovertime(\"3hours\")\n",
    "print(e1.getovertime())"
   ]
  },
  {
   "cell_type": "code",
   "execution_count": null,
   "metadata": {},
   "outputs": [],
   "source": [
    "suppose there is class employees(above) and class manegar and class manegar want all same methods that employees class\n",
    "have, then we use inheritance ,and make class employees as base class and class manegar as derived so that\n",
    "it can have all variable and methods of class employees\n",
    "child class(obj of child class) can inherits all methods like instance,class and static"
   ]
  },
  {
   "cell_type": "code",
   "execution_count": 17,
   "metadata": {},
   "outputs": [
    {
     "name": "stdout",
     "output_type": "stream",
     "text": [
      "murlidhar\n",
      "fathername murlidhar salary 20000\n",
      "fathermoney 100000\n",
      "fatherage 50\n",
      "chilename: jai fathersalary 20000\n",
      "\n",
      "sam\n",
      "tam\n",
      "\n",
      "fatherage 80\n",
      "fathermoney 100000\n",
      "100000\n",
      "100000\n",
      "\n",
      "30000\n",
      "30000\n",
      "30000\n",
      "fathermoney 30000\n",
      "\n",
      "30000\n"
     ]
    }
   ],
   "source": [
    "class father:\n",
    "    money = 100000\n",
    "    def setname(self, n):\n",
    "        self.name = n\n",
    "    def getname(self):\n",
    "        return self.name\n",
    "    def somedetail(self,s):\n",
    "        self.salary =s\n",
    "        print(\"fathername\", self.name, \"salary\", self.salary)\n",
    "    @classmethod\n",
    "    def showmoney(cls):\n",
    "        print(\"fathermoney\", cls.money)\n",
    "    @staticmethod\n",
    "    def age_detail(a):\n",
    "        age =a\n",
    "        print(\"fatherage\", age)\n",
    "class child(father):\n",
    "    def my_name(self, n):\n",
    "        self.name = n\n",
    "        print(\"chilename:\", self.name, \"fathersalary\", self.salary)\n",
    "c1 =child()\n",
    "# c1 calling father's all methods below\n",
    "c1.setname(\"murlidhar\")\n",
    "print(c1.getname())\n",
    "c1.somedetail(20000)\n",
    "c1.showmoney()\n",
    "c1.age_detail(50)\n",
    "# now c1 calling its own method\n",
    "c1.my_name('jai')\n",
    "print()\n",
    "f1 = father()\n",
    "f2 =father()\n",
    "f1.setname(\"sam\")\n",
    "print(f1.getname())\n",
    "f2.setname(\"tam\")\n",
    "print(f2.getname())\n",
    "print()\n",
    "f1.age_detail(80)\n",
    "f1.showmoney()\n",
    "print(f1.money)\n",
    "print(f2.money)\n",
    "print()\n",
    "father.money = 30000\n",
    "print(father.money)\n",
    "print(f1.money)\n",
    "print(f2.money)\n",
    "f1.showmoney()\n",
    "print()\n",
    "print(c1.money)\n",
    "\n",
    "        \n",
    "\n",
    "        \n",
    "        "
   ]
  },
  {
   "cell_type": "code",
   "execution_count": null,
   "metadata": {},
   "outputs": [],
   "source": [
    "CONSTRUCTOR IN INHERITANCE\n",
    "\n",
    "By default when instance of child class is called then it by default called the parent class constructor, if child itself\n",
    "do not have its own constructor"
   ]
  },
  {
   "cell_type": "code",
   "execution_count": 22,
   "metadata": {},
   "outputs": [
    {
     "name": "stdout",
     "output_type": "stream",
     "text": [
      "father class constructor\n"
     ]
    }
   ],
   "source": [
    "class father:\n",
    "    def __init__(self):\n",
    "        self.money = 40000\n",
    "        print(\"father class constructor\")\n",
    "    def show_detail(self):\n",
    "        print(\"father class instance method\")\n",
    "class son(father):\n",
    "    def display(self):\n",
    "        print(\"child class constructor\", self.money)\n",
    "s = son()"
   ]
  },
  {
   "cell_type": "code",
   "execution_count": 20,
   "metadata": {},
   "outputs": [
    {
     "name": "stdout",
     "output_type": "stream",
     "text": [
      "father class constructor\n",
      "40000\n",
      "\n",
      "father class instance method\n",
      "child class constructor 40000\n"
     ]
    }
   ],
   "source": [
    "class father:\n",
    "    def __init__(self):\n",
    "        self.money = 40000\n",
    "        print(\"father class constructor\")\n",
    "    def show_detail(self):\n",
    "        print(\"father class instance method\")\n",
    "class son(father):\n",
    "    def display(self):\n",
    "        print(\"child class constructor\", self.money)\n",
    "s = son()\n",
    "print(s.money)\n",
    "print()\n",
    "s.show_detail()\n",
    "s.display()"
   ]
  },
  {
   "cell_type": "code",
   "execution_count": 23,
   "metadata": {},
   "outputs": [
    {
     "name": "stdout",
     "output_type": "stream",
     "text": [
      "father class constructor\n",
      "30000\n",
      "\n",
      "father class instance method\n",
      "child class constructor 60000\n"
     ]
    }
   ],
   "source": [
    "class father:\n",
    "    def __init__(self,money):\n",
    "        self.money =money\n",
    "        print(\"father class constructor\")\n",
    "    def show_detail(self):\n",
    "        print(\"father class instance method\")\n",
    "class son(father):\n",
    "    def display(self):\n",
    "        print(\"child class constructor\", self.money+30000)\n",
    "s = son(30000)\n",
    "print(s.money)\n",
    "print()\n",
    "s.show_detail()\n",
    "s.display()"
   ]
  },
  {
   "cell_type": "code",
   "execution_count": null,
   "metadata": {},
   "outputs": [],
   "source": [
    "CONSTRUCTOR OVERRIDING:when both parent class and child class constructor is there and when we create the instance of\n",
    "child class then it will call its own constructor and not parent class constructor , ok clear.This is called\n",
    "constructor overriding\n",
    "parent class will not be availiable"
   ]
  },
  {
   "cell_type": "code",
   "execution_count": 28,
   "metadata": {},
   "outputs": [
    {
     "name": "stdout",
     "output_type": "stream",
     "text": [
      "child class constructor\n",
      "child class constructor\n",
      "child class constructor\n",
      "money:50000 car:swift\n",
      "This is child class instance class\n",
      "50000\n",
      "50000\n",
      "50000\n",
      "swift\n",
      "swift\n",
      "swift\n",
      "dreamvila\n",
      "dreamvila\n",
      "dreamvila\n"
     ]
    }
   ],
   "source": [
    "class father:\n",
    "    def __int__(self):\n",
    "        self.money =40000\n",
    "        self.car =\"maruti 800\"\n",
    "        print(\"father class constructor\")\n",
    "    def detail(self):\n",
    "        print(\"money:{} car:{}\".format(self.money, self.car))\n",
    "class child(father):\n",
    "    def __init__(self):\n",
    "        self.money = 50000\n",
    "        self.car = 'swift'\n",
    "        self.house = 'dreamvila'\n",
    "        print(\"child class constructor\")\n",
    "    def desp(self):\n",
    "        print(\"This is child class instance class\")\n",
    "c1 = child()\n",
    "c2 = child()\n",
    "c3 = child()\n",
    "c1.detail()\n",
    "c1.desp()\n",
    "print(c1.money)\n",
    "print(c2.money)\n",
    "print(c3.money)\n",
    "print(c1.car)\n",
    "print(c2.car)\n",
    "print(c3.car)\n",
    "print(c1.house)\n",
    "print(c2.house)\n",
    "print(c3.house)    "
   ]
  },
  {
   "cell_type": "code",
   "execution_count": null,
   "metadata": {},
   "outputs": [],
   "source": [
    "Super() :=It is used to call parent class consructor in the child class constructor.This method can be used below\n",
    "constructor inside child class"
   ]
  },
  {
   "cell_type": "code",
   "execution_count": 12,
   "metadata": {},
   "outputs": [
    {
     "name": "stdout",
     "output_type": "stream",
     "text": [
      "father constructor\n",
      "child constructor\n",
      "father constructor\n",
      "child constructor\n",
      "\n",
      "10000\n",
      "focusvila\n",
      "Btech\n",
      "\n",
      "2000\n",
      "narrowvila\n",
      "M.sc\n",
      "c1 child object calling father's methods below\n",
      "\n",
      "fathermoney :10000 fatherhouse:focusvila\n",
      "jobtitle dataAnalyst\n",
      "Indian\n",
      "father_age 40\n",
      "\n",
      "c1 calling its own method\n",
      "\n",
      "fathermoney 10000 Education Btech\n",
      "\n",
      "father object\n",
      "father constructor\n",
      "fathermoney :40000 fatherhouse:jaivila\n",
      "Indian\n",
      "father_age 60\n"
     ]
    }
   ],
   "source": [
    "class father:\n",
    "    nationality = 'Indian'\n",
    "    def __init__(self,m,h):\n",
    "        self.money =m\n",
    "        self.house = h\n",
    "        print(\"father constructor\")\n",
    "    def detail(self):\n",
    "        print(\"fathermoney :{} fatherhouse:{}\".format(self.money, self.house))\n",
    "    def some_info(self, p):\n",
    "        self.profession = p\n",
    "        print(\"jobtitle\", self.profession)\n",
    "    @classmethod\n",
    "    def xyz(cls):\n",
    "        return cls.nationality\n",
    "    @staticmethod\n",
    "    def person_age(a):\n",
    "        age = a\n",
    "        print(\"father_age\", age)\n",
    "class child(father):\n",
    "    def __init__(self,m,h,e):\n",
    "        super().__init__(m,h)\n",
    "        self.education = e\n",
    "        print(\"child constructor\")\n",
    "    def information(self):\n",
    "        print(\"fathermoney\", self.money, \"Education\", self.education)\n",
    "c1 = child(10000,\"focusvila\",\"Btech\")\n",
    "c2 =child(2000,\"narrowvila\",\"M.sc\")\n",
    "print()\n",
    "print(c1.money)\n",
    "print(c1.house)\n",
    "print(c1.education)\n",
    "print()\n",
    "print(c2.money)\n",
    "print(c2.house)\n",
    "print(c2.education)\n",
    "print(\"c1 child object calling father's methods below\")\n",
    "print()\n",
    "c1.detail()\n",
    "c1.some_info('dataAnalyst')\n",
    "print(c1.xyz())\n",
    "c1.person_age(40)\n",
    "print()\n",
    "print(\"c1 calling its own method\")\n",
    "print()\n",
    "c1.information()\n",
    "print()\n",
    "print(\"father object\")\n",
    "f1= father(40000,'jaivila')\n",
    "f1.detail()\n",
    "print(f1.xyz())\n",
    "f1.person_age(60)   "
   ]
  },
  {
   "cell_type": "markdown",
   "metadata": {},
   "source": [
    "MULTI-LEVEL INHERITANCE\n",
    "IN this  a class inherits the feature from another derived class eg=father-son-grandson"
   ]
  },
  {
   "cell_type": "code",
   "execution_count": 13,
   "metadata": {},
   "outputs": [
    {
     "name": "stdout",
     "output_type": "stream",
     "text": [
      "this is father instance method\n",
      "this is son instance method\n",
      "It is grandson instance method\n"
     ]
    }
   ],
   "source": [
    "class father:\n",
    "    def showF(self):\n",
    "        print(\"this is father instance method\")\n",
    "class son(father):\n",
    "    def showS(self):\n",
    "        print(\"this is son instance method\")\n",
    "class grandson(son):\n",
    "    def showG(self):\n",
    "        print(\"It is grandson instance method\")\n",
    "gs =grandson()\n",
    "gs.showF()\n",
    "gs.showS()\n",
    "gs.showG()    "
   ]
  },
  {
   "cell_type": "code",
   "execution_count": 16,
   "metadata": {},
   "outputs": [
    {
     "name": "stdout",
     "output_type": "stream",
     "text": [
      "grandson class constructor\n",
      "\n",
      "father instance method\n",
      "son instance class\n",
      "grandson instance method\n"
     ]
    }
   ],
   "source": [
    "class father:\n",
    "    def __init__(self):\n",
    "        print(\"father class constructor\")\n",
    "    def showF(self):\n",
    "        print(\"father instance method\")\n",
    "class son(father):\n",
    "    def __init__(self):\n",
    "        print(\"son class constructor\")\n",
    "    def showS(self):\n",
    "        print(\"son instance class\")\n",
    "class grandson(son):\n",
    "    def __init__(self):\n",
    "        print(\"grandson class constructor\")\n",
    "    def showG(self):\n",
    "        print(\"grandson instance method\")\n",
    "gs = grandson()\n",
    "print()\n",
    "gs.showF()\n",
    "gs.showS()\n",
    "gs.showG()\n",
    "\n",
    "# see by default instance of grandson class call its constructor only"
   ]
  },
  {
   "cell_type": "code",
   "execution_count": null,
   "metadata": {},
   "outputs": [],
   "source": [
    "AGAIN WE USE SUPER METHOD()"
   ]
  },
  {
   "cell_type": "code",
   "execution_count": 14,
   "metadata": {},
   "outputs": [
    {
     "name": "stdout",
     "output_type": "stream",
     "text": [
      "father constructor\n",
      "son consructor\n",
      "grandson constructor\n",
      "father constructor\n",
      "father constructor\n",
      "son consructor\n",
      "\n",
      "fathername :jai fatherweight:80kg\n",
      "\n",
      "father_salary 70000\n",
      "\n",
      "\n",
      "son's country germany\n",
      "\n",
      "btech\n",
      "son's vehicle: ferari\n",
      "\n",
      "grandson favourite game football\n",
      "Indian\n",
      "\n",
      "Indian\n",
      "\n",
      "Indian\n",
      "\n",
      "fathername :sam fatherweight:80kg\n",
      "father_salary 20000\n",
      "\n",
      "fathername :tam fatherweight:80kg\n",
      "father_salary 30000\n"
     ]
    }
   ],
   "source": [
    "class father:\n",
    "    nationality = 'Indian'\n",
    "    def __init__(self,name):\n",
    "        self.name = name\n",
    "        self.weight = '80kg'\n",
    "        print(\"father constructor\")\n",
    "    def details(self):\n",
    "        print(\"fathername :{} fatherweight:{}\".format(self.name, self.weight))\n",
    "    def more_info(self,s):\n",
    "        self.salary = s\n",
    "        print(\"father_salary\", self.salary)\n",
    "    @classmethod\n",
    "    def information(cls):\n",
    "        return cls.nationality\n",
    "class son(father):\n",
    "    def __init__(self,name,c):\n",
    "        super().__init__(name)\n",
    "#         calling father constructor\n",
    "        self.country = c\n",
    "        print(\"son consructor\")\n",
    "    def values(self):\n",
    "        print(\"son's country\", self.country)\n",
    "    def qualification(self, e):\n",
    "        self.education = e\n",
    "        return self.education\n",
    "    @staticmethod\n",
    "    def extra_info(v):\n",
    "        vehicle =v\n",
    "        print(\"son's vehicle:\", vehicle)\n",
    "class grandson(son):\n",
    "    def __init__(self,name,c,sport):\n",
    "        super().__init__(name,c)\n",
    "#         calling son's contructor\n",
    "        self.sport =sport\n",
    "        print(\"grandson constructor\")\n",
    "    def desp(self):\n",
    "        print(\"grandson favourite game\", self.sport)\n",
    "g = grandson('jai','germany','football')\n",
    "f = father(\"sam\")\n",
    "s = son(\"tam\",\"france\")\n",
    "print()\n",
    "g.details()\n",
    "print()\n",
    "g.more_info(70000)\n",
    "print()\n",
    "g.information()\n",
    "print()\n",
    "g.values()\n",
    "print()\n",
    "print(g.qualification(\"btech\"))\n",
    "g.extra_info('ferari')\n",
    "print()\n",
    "g.desp()\n",
    "print(g.nationality)\n",
    "print()\n",
    "print(f.nationality)\n",
    "print()\n",
    "print(s.nationality)\n",
    "print()\n",
    "f.details()\n",
    "f.more_info(20000)\n",
    "print()\n",
    "s.details()\n",
    "s.more_info(30000)\n"
   ]
  },
  {
   "cell_type": "code",
   "execution_count": null,
   "metadata": {},
   "outputs": [],
   "source": [
    "MULTIPLE INHERITANCE AND MRO(METHOD RESOLUTION ORDER)\n",
    "When a child is derived from more than one parent then this mechanism is called Multiple Inheritance"
   ]
  },
  {
   "cell_type": "code",
   "execution_count": 16,
   "metadata": {},
   "outputs": [
    {
     "name": "stdout",
     "output_type": "stream",
     "text": [
      "father class instance method\n",
      "mother class instance method\n",
      "son class instance method\n"
     ]
    }
   ],
   "source": [
    "class father:\n",
    "    def showF(self):\n",
    "        print(\"father class instance method\")\n",
    "class mother:\n",
    "    def showS(self):\n",
    "        print(\"mother class instance method\")\n",
    "class son(father, mother):\n",
    "    def showG(self):\n",
    "        print(\"son class instance method\")\n",
    "    \n",
    "s = son()\n",
    "s.showF()\n",
    "s.showS()\n",
    "s.showG()"
   ]
  },
  {
   "cell_type": "code",
   "execution_count": 18,
   "metadata": {},
   "outputs": [
    {
     "name": "stdout",
     "output_type": "stream",
     "text": [
      "mother class cobbstructor\n",
      "father class constructor\n",
      "son class constructor\n"
     ]
    }
   ],
   "source": [
    "class father:\n",
    "    def __init__(self):\n",
    "        super().__init__()\n",
    "        print(\"father class constructor\")\n",
    "    def showF(self):\n",
    "        print(\"father instance method\")\n",
    "class mother:\n",
    "    def __init__(self):\n",
    "        super().__init__()\n",
    "        print(\"mother class cobbstructor\")\n",
    "    def showM(self):\n",
    "        print(\"mother instance method\")\n",
    "class son(father,mother):\n",
    "    def __init__(self):\n",
    "        super().__init__()\n",
    "        print(\"son class constructor\")\n",
    "    def showS(self):\n",
    "        print(\"son instance method\")\n",
    "s =son()\n",
    "    "
   ]
  },
  {
   "cell_type": "code",
   "execution_count": 19,
   "metadata": {},
   "outputs": [
    {
     "name": "stdout",
     "output_type": "stream",
     "text": [
      "father class constructor\n",
      "mother class cobbstructor\n",
      "son class constructor\n"
     ]
    }
   ],
   "source": [
    "class father:\n",
    "    def __init__(self):\n",
    "        super().__init__()\n",
    "        print(\"father class constructor\")\n",
    "    def showF(self):\n",
    "        print(\"father instance method\")\n",
    "class mother:\n",
    "    def __init__(self):\n",
    "        super().__init__()\n",
    "        print(\"mother class cobbstructor\")\n",
    "    def showM(self):\n",
    "        print(\"mother instance method\")\n",
    "class son(mother,father):\n",
    "    def __init__(self):\n",
    "        super().__init__()\n",
    "        print(\"son class constructor\")\n",
    "    def showS(self):\n",
    "        print(\"son instance method\")\n",
    "s =son()"
   ]
  },
  {
   "cell_type": "code",
   "execution_count": null,
   "metadata": {},
   "outputs": [],
   "source": [
    "METHOD OVERLOADING"
   ]
  },
  {
   "cell_type": "code",
   "execution_count": null,
   "metadata": {},
   "outputs": [],
   "source": [
    "when more than one method with the same name is defined in the same class this is called Method overloading in\n",
    "general\n",
    "But In python When a method perfrom more than one task that is called method overloading"
   ]
  },
  {
   "cell_type": "code",
   "execution_count": 2,
   "metadata": {},
   "outputs": [
    {
     "name": "stdout",
     "output_type": "stream",
     "text": [
      "60\n"
     ]
    }
   ],
   "source": [
    "class myclass:\n",
    "    def sum(self, a,b,c):\n",
    "        s = a+b+c\n",
    "        return s\n",
    "obj = myclass()\n",
    "print(obj.sum(20,20,20))\n",
    "\n",
    "# but if we take 2 or 1 argument then it will throw error then\n",
    "    \n",
    "  "
   ]
  },
  {
   "cell_type": "code",
   "execution_count": 11,
   "metadata": {},
   "outputs": [
    {
     "name": "stdout",
     "output_type": "stream",
     "text": [
      "200\n"
     ]
    }
   ],
   "source": [
    "class myclass:\n",
    "    def sum(self,a=None,b=None,c=None):\n",
    "        if a!=None and b!=None and c!=None:\n",
    "            s =a+b+c\n",
    "        elif a!=None and b!=None:\n",
    "            s = a*b\n",
    "        else:\n",
    "            s = \"plz enter two numbers\"\n",
    "        return s\n",
    "        \n",
    "        \n",
    "obj = myclass()\n",
    "print(obj.sum(10,20))"
   ]
  },
  {
   "cell_type": "code",
   "execution_count": null,
   "metadata": {},
   "outputs": [],
   "source": [
    "METHOD OVERRIDING\n",
    "\n",
    "When both parent and child class have methods or method with the same name then when we create the instance of the\n",
    "child class then it will call its method with the same name and class methods withnthe same name will not be \n",
    "availiable, ok this mechanismis called METHOD OVERRIDING"
   ]
  },
  {
   "cell_type": "code",
   "execution_count": 20,
   "metadata": {},
   "outputs": [
    {
     "name": "stdout",
     "output_type": "stream",
     "text": [
      "multiplication 6\n",
      "\n",
      "childname sam\n",
      "Now instance of add class(a) callig its methods,which it can call,this is how we can access parent's method\n",
      "Addition 30\n",
      "parent_name jai\n"
     ]
    }
   ],
   "source": [
    "class add:\n",
    "    def result(self, a,b):\n",
    "        print(\"Addition\", a+b)\n",
    "    def name_detail(self, n):\n",
    "        self.name = n\n",
    "        print(\"parent_name\", self.name)\n",
    "class multiply(add):\n",
    "    def result(self, a,b):\n",
    "        print(\"multiplication\", a*b)\n",
    "    def name_detail(self, n):\n",
    "        self.name =n\n",
    "        print(\"childname\", self.name)\n",
    "m = multiply()\n",
    "m.result(2,3)\n",
    "print()\n",
    "m.name_detail('sam')\n",
    "    \n",
    "# see above instance of class callig its own method with the same name instead of calling parent methods\n",
    "# this is method overriding\n",
    "print(\"Now instance of class add(parent) callig its own methods,which it can call,this is how we can access parent's method\")\n",
    "a = add()\n",
    "a.result(10,20)\n",
    "a.name_detail('jai')\n",
    "# But how we can call parent method in the child class ,when child class method and parent class method have same name \n",
    "# yes we can call it through super() method\n",
    "# super().__init__() is used to call parent's class constructor and methods from child class"
   ]
  },
  {
   "cell_type": "code",
   "execution_count": 29,
   "metadata": {},
   "outputs": [
    {
     "name": "stdout",
     "output_type": "stream",
     "text": [
      "child_Addition: 5\n",
      "parent_Multiplication: 6\n",
      "parent_name: jai\n",
      "child_name: sam\n"
     ]
    }
   ],
   "source": [
    "class add:\n",
    "    def result(self, x,y):\n",
    "        print(\"child_Addition:\", x+y)\n",
    "    def define_name(self, m):\n",
    "        self.name = m\n",
    "        print(\"parent_name:\", self.name)\n",
    "class multi(add):\n",
    "    def result(self, a,b):\n",
    "        super().result(2,3)\n",
    "        print(\"parent_Multiplication:\", a*b)\n",
    "    def define_name(self, n):\n",
    "        super().define_name('jai')\n",
    "        self.name =n\n",
    "        print(\"child_name:\", self.name)\n",
    "m1 =multi()\n",
    "m1.result(2,3)\n",
    "m1.define_name('sam')\n",
    "        "
   ]
  },
  {
   "cell_type": "code",
   "execution_count": null,
   "metadata": {},
   "outputs": [],
   "source": [
    "Operator overloading"
   ]
  },
  {
   "cell_type": "code",
   "execution_count": null,
   "metadata": {},
   "outputs": [],
   "source": [
    "If an operator is performing some extra action apart from what is it meant for this is called operator \n",
    "overloading"
   ]
  },
  {
   "cell_type": "code",
   "execution_count": 3,
   "metadata": {},
   "outputs": [
    {
     "name": "stdout",
     "output_type": "stream",
     "text": [
      "9\n",
      "jaitiwari\n",
      "this is happening behind the scene\n",
      "9\n",
      "\n",
      "jaitiwari\n",
      "similarly\n",
      "48\n",
      "7\n",
      "6\n",
      "(4, 0)\n",
      "True\n",
      "False\n"
     ]
    }
   ],
   "source": [
    "# suppose you are doing\n",
    "print(6+3)\n",
    "# or\n",
    "print(\"jai\"+\"tiwari\")\n",
    "# then behind the scene we are using \n",
    "# int.__add__(self,other) or\n",
    "# str.__add__(self,other)\n",
    "\n",
    "print(\"this is happening behind the scene\")\n",
    "print(int.__add__(6,3))\n",
    "print()\n",
    "print(str.__add__('jai','tiwari'))\n",
    "\n",
    "print(\"similarly\")\n",
    "# we can do following operation\n",
    "print(int.__add__(24,24))\n",
    "print(int.__sub__(10,3))\n",
    "print(int.__mul__(2,3))\n",
    "print(int.__divmod__(20,5))\n",
    "print(int.__bool__(9))\n",
    "print(int.__bool__(0))\n",
    "\n",
    "\n"
   ]
  },
  {
   "cell_type": "code",
   "execution_count": 36,
   "metadata": {},
   "outputs": [
    {
     "ename": "TypeError",
     "evalue": "unsupported operand type(s) for +: 'A' and 'B'",
     "output_type": "error",
     "traceback": [
      "\u001b[1;31m---------------------------------------------------------------------------\u001b[0m",
      "\u001b[1;31mTypeError\u001b[0m                                 Traceback (most recent call last)",
      "\u001b[1;32m<ipython-input-36-1ee0387f5e6b>\u001b[0m in \u001b[0;36m<module>\u001b[1;34m\u001b[0m\n\u001b[0;32m      7\u001b[0m \u001b[0ma\u001b[0m \u001b[1;33m=\u001b[0m \u001b[0mA\u001b[0m\u001b[1;33m(\u001b[0m\u001b[1;36m100\u001b[0m\u001b[1;33m)\u001b[0m\u001b[1;33m\u001b[0m\u001b[1;33m\u001b[0m\u001b[0m\n\u001b[0;32m      8\u001b[0m \u001b[0mb\u001b[0m \u001b[1;33m=\u001b[0m \u001b[0mB\u001b[0m\u001b[1;33m(\u001b[0m\u001b[1;36m200\u001b[0m\u001b[1;33m)\u001b[0m\u001b[1;33m\u001b[0m\u001b[1;33m\u001b[0m\u001b[0m\n\u001b[1;32m----> 9\u001b[1;33m \u001b[0mprint\u001b[0m\u001b[1;33m(\u001b[0m\u001b[0ma\u001b[0m\u001b[1;33m+\u001b[0m\u001b[0mb\u001b[0m\u001b[1;33m)\u001b[0m\u001b[1;33m\u001b[0m\u001b[1;33m\u001b[0m\u001b[0m\n\u001b[0m\u001b[0;32m     10\u001b[0m \u001b[1;33m\u001b[0m\u001b[0m\n",
      "\u001b[1;31mTypeError\u001b[0m: unsupported operand type(s) for +: 'A' and 'B'"
     ]
    }
   ],
   "source": [
    "class A:\n",
    "    def __init__(self, x):\n",
    "        self.x = x\n",
    "class B:\n",
    "    def __init__(self, x):\n",
    "        self.x  =x\n",
    "a = A(100)\n",
    "b = B(200)\n",
    "print(a+b)\n",
    "#  It is showing error because behind the scene it should run A.__add__(self, other) but class A does not have such \n",
    "# method so we define this __add__ method in class A for adidition and __sub__(self,other)for subtraction"
   ]
  },
  {
   "cell_type": "code",
   "execution_count": 40,
   "metadata": {},
   "outputs": [
    {
     "name": "stdout",
     "output_type": "stream",
     "text": [
      "600\n",
      "\n",
      "200\n"
     ]
    }
   ],
   "source": [
    "class A:\n",
    "    def __init__(self, x):\n",
    "        self.x = x\n",
    "    def __add__(self, other):\n",
    "        return self.x +other.x\n",
    "    def __sub__(self,other):\n",
    "        return self.x -other.x\n",
    "class B:\n",
    "    def __init__(self, x):\n",
    "        self.x =x\n",
    "a = A(400)\n",
    "b =B(200)\n",
    "\n",
    "print(a+b)\n",
    "print()\n",
    "print(a-b)\n"
   ]
  },
  {
   "cell_type": "code",
   "execution_count": 2,
   "metadata": {},
   "outputs": [
    {
     "name": "stdout",
     "output_type": "stream",
     "text": [
      "140\n",
      "60\n",
      "studentname jai score 100\n",
      "student1name sam score 40\n"
     ]
    }
   ],
   "source": [
    "class student:\n",
    "    def __init__(self, x):\n",
    "        self.score = x\n",
    "    def define_name(self,n):\n",
    "        self.name = n\n",
    "        print(\"studentname\", self.name, \"score\",self.score)\n",
    "    def __add__(self,other):\n",
    "        return self.score+other.score\n",
    "    def __sub__(self,other):\n",
    "        return self.score-other.score\n",
    "class student1:\n",
    "    def __init__(self, y):\n",
    "        self.score = y\n",
    "    def define_name1(self, n):\n",
    "        self.name = n\n",
    "        print(\"student1name\", self.name, \"score\", self.score)\n",
    "s = student(100)\n",
    "s1 = student1(40)\n",
    "print(s+s1)\n",
    "print(s-s1)\n",
    "s.define_name('jai')\n",
    "s1.define_name1('sam')\n"
   ]
  },
  {
   "cell_type": "code",
   "execution_count": null,
   "metadata": {},
   "outputs": [],
   "source": [
    "TIME MODULE\n",
    "It will return the time in seconds since the ti me start(epoch=1st january, 1970)"
   ]
  },
  {
   "cell_type": "code",
   "execution_count": null,
   "metadata": {},
   "outputs": [],
   "source": [
    "ctime = returns current date and time and if we pass seconds then it give date and time acccording to that seconds\n",
    "in str format"
   ]
  },
  {
   "cell_type": "code",
   "execution_count": null,
   "metadata": {},
   "outputs": [],
   "source": [
    "localtime() return current date n time based on seconds It return an object from where we can access attribute"
   ]
  },
  {
   "cell_type": "code",
   "execution_count": 53,
   "metadata": {},
   "outputs": [
    {
     "name": "stdout",
     "output_type": "stream",
     "text": [
      "1631620131.9733307\n",
      "\n",
      "Tue Sep 14 17:18:51 2021\n",
      "\n",
      "Fri Nov 30 11:34:27 1973\n",
      "\n",
      "Tue Sep 14 17:18:51 2021\n",
      "\n",
      "now applying localtime() below\n",
      "time.struct_time(tm_year=2021, tm_mon=9, tm_mday=14, tm_hour=17, tm_min=18, tm_sec=51, tm_wday=1, tm_yday=257, tm_isdst=0)\n",
      "\n",
      "year: 2021\n",
      "month: 9\n",
      "day: 14\n",
      "\n",
      "14/9/2021\n"
     ]
    }
   ],
   "source": [
    "from time import time,ctime,localtime\n",
    "\n",
    "epoch = time()\n",
    "print(epoch)\n",
    "print()\n",
    "\n",
    "t = ctime(epoch)\n",
    "print(t)\n",
    "print()\n",
    "# printing any datetime from given seconds in ctime()\n",
    "t1 =ctime(123487467)\n",
    "print(t1)\n",
    "print()\n",
    "t2 = ctime()\n",
    "print(t2)\n",
    "print()\n",
    "print(\"now applying localtime() below\")\n",
    "\n",
    "str_obj = localtime()\n",
    "print(str_obj)\n",
    "print()\n",
    "print(\"year:\", str_obj.tm_year)\n",
    "print(\"month:\", str_obj.tm_mon)\n",
    "print(\"day:\", str_obj.tm_mday)\n",
    "print()\n",
    "print(str_obj.tm_mday,end=\"/\")\n",
    "print(str_obj.tm_mon,pend=\"/\")\n",
    "print(str_obj.tm_year)"
   ]
  },
  {
   "cell_type": "code",
   "execution_count": null,
   "metadata": {},
   "outputs": [],
   "source": [
    "private attribute and methods"
   ]
  },
  {
   "cell_type": "code",
   "execution_count": 57,
   "metadata": {},
   "outputs": [
    {
     "name": "stdout",
     "output_type": "stream",
     "text": [
      "10\n",
      "20\n",
      "jai\n"
     ]
    },
    {
     "ename": "AttributeError",
     "evalue": "'hello' object has no attribute '__c'",
     "output_type": "error",
     "traceback": [
      "\u001b[1;31m---------------------------------------------------------------------------\u001b[0m",
      "\u001b[1;31mAttributeError\u001b[0m                            Traceback (most recent call last)",
      "\u001b[1;32m<ipython-input-57-6223f8e336a0>\u001b[0m in \u001b[0;36m<module>\u001b[1;34m\u001b[0m\n\u001b[0;32m     11\u001b[0m \u001b[0mprint\u001b[0m\u001b[1;33m(\u001b[0m\u001b[0mh\u001b[0m\u001b[1;33m.\u001b[0m\u001b[0m_b\u001b[0m\u001b[1;33m)\u001b[0m\u001b[1;33m\u001b[0m\u001b[1;33m\u001b[0m\u001b[0m\n\u001b[0;32m     12\u001b[0m \u001b[0mprint\u001b[0m\u001b[1;33m(\u001b[0m\u001b[0mh\u001b[0m\u001b[1;33m.\u001b[0m\u001b[0mdesp\u001b[0m\u001b[1;33m(\u001b[0m\u001b[1;33m)\u001b[0m\u001b[1;33m)\u001b[0m\u001b[1;33m\u001b[0m\u001b[1;33m\u001b[0m\u001b[0m\n\u001b[1;32m---> 13\u001b[1;33m \u001b[0mprint\u001b[0m\u001b[1;33m(\u001b[0m\u001b[0mh\u001b[0m\u001b[1;33m.\u001b[0m\u001b[0m__c\u001b[0m\u001b[1;33m)\u001b[0m\u001b[1;33m\u001b[0m\u001b[1;33m\u001b[0m\u001b[0m\n\u001b[0m\u001b[0;32m     14\u001b[0m \u001b[1;31m# \".__c\" is private attribute here which can not be accessed here outside the class but it can be accessed inside the class\u001b[0m\u001b[1;33m\u001b[0m\u001b[1;33m\u001b[0m\u001b[1;33m\u001b[0m\u001b[0m\n\u001b[0;32m     15\u001b[0m \u001b[1;31m# in a instance variable\u001b[0m\u001b[1;33m\u001b[0m\u001b[1;33m\u001b[0m\u001b[1;33m\u001b[0m\u001b[0m\n",
      "\u001b[1;31mAttributeError\u001b[0m: 'hello' object has no attribute '__c'"
     ]
    }
   ],
   "source": [
    "class hello:\n",
    "    def __init__(self,name):\n",
    "        self.name =name\n",
    "        self.a = 10\n",
    "        self._b =20\n",
    "        self.__c = 30\n",
    "    def desp(self):\n",
    "        return self.name\n",
    "h = hello('jai')\n",
    "print(h.a)\n",
    "print(h._b)\n",
    "print(h.desp())\n",
    "print(h.__c)\n",
    "# \".__c\" is private attribute here which can not be accessed here outside the class but it can be accessed inside the class\n",
    "# in a instance variable"
   ]
  },
  {
   "cell_type": "code",
   "execution_count": 58,
   "metadata": {},
   "outputs": [
    {
     "name": "stdout",
     "output_type": "stream",
     "text": [
      "jai\n",
      "10\n",
      "20\n",
      "40\n"
     ]
    }
   ],
   "source": [
    "class hello:\n",
    "    def __init__(self, name):\n",
    "        self.name = name\n",
    "        self.a  =10\n",
    "        self._b =20\n",
    "        self.__c = 40\n",
    "    def desp(self):\n",
    "        return self.name\n",
    "    def return_privatevalue(self):\n",
    "        return self.__c\n",
    "h1 = hello('jai')\n",
    "print(h1.desp())\n",
    "print(h1.a)\n",
    "print(h1._b)\n",
    "print(h1.return_privatevalue())\n",
    "# here you can see private variable can be accesed inside intance method(.__c ia private variable)bcoz it has double__\n",
    "# before it"
   ]
  },
  {
   "cell_type": "code",
   "execution_count": null,
   "metadata": {},
   "outputs": [],
   "source": [
    "PRIVATE()METHODS:It is edenoted by__ in starting\n",
    "private()methods cannot be accessed by instance of class , it can also be accessed inside the instance method of same class"
   ]
  },
  {
   "cell_type": "code",
   "execution_count": 1,
   "metadata": {},
   "outputs": [
    {
     "name": "stdout",
     "output_type": "stream",
     "text": [
      "10\n",
      "20\n",
      "40\n",
      "position: manegar\n"
     ]
    }
   ],
   "source": [
    "class hello:\n",
    "    def __init__(self, name):\n",
    "        self.name = name\n",
    "        self.a = 10\n",
    "        self._b = 20\n",
    "        self.__c = 40\n",
    "    def desp(self):\n",
    "        return self.name\n",
    "    \n",
    "    def access_privatevalue(self):\n",
    "        return self.__c\n",
    "    def xyz(self):\n",
    "        self.__private_detail('manegar')\n",
    "    def __private_detail(self,p):\n",
    "        self.position = p\n",
    "        print(\"position:\", self.position)\n",
    "h1 = hello('jai')\n",
    "print(h1.a)\n",
    "print(h1._b)\n",
    "print(h1.access_privatevalue())\n",
    "h1.xyz()\n",
    "# here you can see def __privte_detail() which is private method,so its value can be accesed inside instance method"
   ]
  },
  {
   "cell_type": "code",
   "execution_count": null,
   "metadata": {},
   "outputs": [],
   "source": [
    "MULTITASKING IN PYTHON"
   ]
  },
  {
   "cell_type": "code",
   "execution_count": null,
   "metadata": {},
   "outputs": [],
   "source": [
    "process based multitaking\n",
    "thread based multitasking\n",
    "we here are doing thread based multitasking"
   ]
  },
  {
   "cell_type": "code",
   "execution_count": null,
   "metadata": {},
   "outputs": [],
   "source": [
    "Thread Based Multitasking"
   ]
  },
  {
   "cell_type": "code",
   "execution_count": null,
   "metadata": {},
   "outputs": [],
   "source": [
    "Executing multiple task at the same time where each task is a separate independent part of the same program\n",
    "This is called thread based multitasking, and each independent part is called thread\n",
    "It is suitable for programming level\n",
    "so each thread is a separate independent task of same program"
   ]
  },
  {
   "cell_type": "code",
   "execution_count": null,
   "metadata": {},
   "outputs": [],
   "source": [
    "eg of multithreading:accessing hdfc netbanking-one person is accessing to chk balance,another one is appying for \n",
    "    loan and third one is paying his credit card bill so three peron are performing  3 different task at the same\n",
    "time and they are not interconnected with each other.due to multithreading these three task are performing at the\n",
    "same time"
   ]
  },
  {
   "cell_type": "code",
   "execution_count": null,
   "metadata": {},
   "outputs": [],
   "source": [
    "MAIN THREAD IN PYTHON\n",
    "It get created automatically when program is started like addding to number or printing  \"hello world\"then our main\n",
    "thread get automatically start"
   ]
  },
  {
   "cell_type": "code",
   "execution_count": 73,
   "metadata": {},
   "outputs": [
    {
     "name": "stdout",
     "output_type": "stream",
     "text": [
      "hello jai\n",
      "MainThread\n"
     ]
    }
   ],
   "source": [
    "import threading\n",
    "t = threading.currentThread().getName()\n",
    "print(\"hello jai\")\n",
    "print(t)"
   ]
  },
  {
   "cell_type": "code",
   "execution_count": null,
   "metadata": {},
   "outputs": [],
   "source": [
    "CREATING THREAD WITHOUT USING CLASS(I MEAN YOU will not use your OWN CLASS-USER DEFINE CLASS)"
   ]
  },
  {
   "cell_type": "code",
   "execution_count": null,
   "metadata": {},
   "outputs": [],
   "source": [
    "To create our own thread ,first we need Thread class of threading module and, we take the instance of Thread class"
   ]
  },
  {
   "cell_type": "code",
   "execution_count": null,
   "metadata": {},
   "outputs": [],
   "source": [
    "from threading import Thread\n",
    "thread_object  =Thread(target = function_name, args =(arg1,arg2..))\n",
    "example---\n",
    "t = Thread(target = desp,args = (10,20))\n",
    "here thread is created and now we have to start the thread by using start() method"
   ]
  },
  {
   "cell_type": "code",
   "execution_count": 75,
   "metadata": {},
   "outputs": [
    {
     "name": "stdout",
     "output_type": "stream",
     "text": [
      "Thread running  10 20\n",
      "Thread running  10 20\n",
      "Thread running  10 20\n",
      "Thread running Thread running   10 20\n",
      "10 20\n"
     ]
    }
   ],
   "source": [
    "from threading import Thread\n",
    "# t = Thread(target =function_name, args=  (args1,args2))\n",
    "def disp(a,b):\n",
    "    print(\"Thread running \", a,b)\n",
    "for i in range(5):\n",
    "    t = Thread(target=disp, args = (10,20))\n",
    "    t.start()\n",
    "# here are two threads are there ,1st one is our thread(below 4 thread in output)and there is also main thread is \n",
    "# running by automatically"
   ]
  },
  {
   "cell_type": "code",
   "execution_count": 77,
   "metadata": {},
   "outputs": [
    {
     "name": "stdout",
     "output_type": "stream",
     "text": [
      "publish video Cpublish video M\n",
      "publish video M\n",
      "\n",
      "publish video C\n",
      "publish video C\n",
      "publish video C\n",
      "publish video C\n",
      "publish video M\n",
      "publish video M\n",
      "publish video M\n"
     ]
    }
   ],
   "source": [
    "from threading import Thread\n",
    "def desp():\n",
    "    for i in range(5):\n",
    "        print(\"publish video C\")\n",
    "    \n",
    "t = Thread(target = desp)\n",
    "t.start()\n",
    "\n",
    "for i in range(5):\n",
    "    print(\"publish video M\")"
   ]
  },
  {
   "cell_type": "code",
   "execution_count": null,
   "metadata": {},
   "outputs": [],
   "source": []
  }
 ],
 "metadata": {
  "kernelspec": {
   "display_name": "Python 3",
   "language": "python",
   "name": "python3"
  },
  "language_info": {
   "codemirror_mode": {
    "name": "ipython",
    "version": 3
   },
   "file_extension": ".py",
   "mimetype": "text/x-python",
   "name": "python",
   "nbconvert_exporter": "python",
   "pygments_lexer": "ipython3",
   "version": "3.8.5"
  }
 },
 "nbformat": 4,
 "nbformat_minor": 4
}
