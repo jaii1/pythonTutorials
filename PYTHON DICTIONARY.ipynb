{
 "cells": [
  {
   "cell_type": "code",
   "execution_count": null,
   "metadata": {},
   "outputs": [],
   "source": [
    "# Dictionary are python built-in data type which store element in key value pair\n",
    "# in which keys cannot be duplicated and its data type are integers,float, string, tuple\n",
    "# and value can be duplicated and its datatype are integers,float,boolean,string\n",
    "# tuple,list,set,dict\n",
    "# dictionary is unordered collection of element"
   ]
  },
  {
   "cell_type": "code",
   "execution_count": 1,
   "metadata": {},
   "outputs": [
    {
     "name": "stdout",
     "output_type": "stream",
     "text": [
      "{}\n",
      "<class 'dict'>\n"
     ]
    }
   ],
   "source": [
    "# CREATING BLANK DICTIONARY\n",
    "my_dict = dict()\n",
    "print(my_dict)\n",
    "print(type(my_dict))"
   ]
  },
  {
   "cell_type": "code",
   "execution_count": 2,
   "metadata": {},
   "outputs": [
    {
     "name": "stdout",
     "output_type": "stream",
     "text": [
      "{1: 'jai', (9, 0): 'html', 'maths': 'hard', 'sam': ['py', 'sy']}\n"
     ]
    }
   ],
   "source": [
    "# CREATING DICTIONARY FROM LIST of list\n",
    "my_dict = dict([[1,\"jai\"],[(9,0),\"html\"],[\"maths\",\"hard\"],[\"sam\",[\"py\",\"sy\"]]])\n",
    "print(my_dict)"
   ]
  },
  {
   "cell_type": "code",
   "execution_count": 5,
   "metadata": {},
   "outputs": [
    {
     "name": "stdout",
     "output_type": "stream",
     "text": [
      "{'jai': 24, ('sam',): 35, 'science': [1], 's': 'g'}\n",
      "<class 'dict'>\n"
     ]
    }
   ],
   "source": [
    "# CREATING DICTIONARY FROM TUPLE OF TUPLE AND LIST\n",
    "my_dict = dict(((\"jai\",24),((\"sam\",),35),(\"science\",[1]),[\"s\",\"g\"]))\n",
    "print(my_dict)\n",
    "print(type(my_dict))"
   ]
  },
  {
   "cell_type": "code",
   "execution_count": 9,
   "metadata": {},
   "outputs": [
    {
     "name": "stdout",
     "output_type": "stream",
     "text": [
      "{'name': 'jai', 'marks': [45, 56, 78], (2, 4): (4, 16), 24: 34, 'pet': {'dog': 'laila', 'cat': 'nanacy'}}\n"
     ]
    }
   ],
   "source": [
    "# CREATING DICTONARY OF VALUES\n",
    "my_dict = {\"name\":\"jai\", \"marks\":[45,56,78], (2,4):(4,16), 24:34, \"pet\":{\"dog\":\"laila\", \"cat\":\"nanacy\"}}\n",
    "print(my_dict)"
   ]
  },
  {
   "cell_type": "code",
   "execution_count": 10,
   "metadata": {
    "scrolled": true
   },
   "outputs": [
    {
     "name": "stdout",
     "output_type": "stream",
     "text": [
      "['__class__', '__contains__', '__delattr__', '__delitem__', '__dir__', '__doc__', '__eq__', '__format__', '__ge__', '__getattribute__', '__getitem__', '__gt__', '__hash__', '__init__', '__init_subclass__', '__iter__', '__le__', '__len__', '__lt__', '__ne__', '__new__', '__reduce__', '__reduce_ex__', '__repr__', '__reversed__', '__setattr__', '__setitem__', '__sizeof__', '__str__', '__subclasshook__', 'clear', 'copy', 'fromkeys', 'get', 'items', 'keys', 'pop', 'popitem', 'setdefault', 'update', 'values']\n"
     ]
    }
   ],
   "source": [
    "# ACESSING ALL FUNCTIONS, METHODS OF DICTIONAY\n",
    "print(dir(my_dict))"
   ]
  },
  {
   "cell_type": "code",
   "execution_count": 1,
   "metadata": {},
   "outputs": [
    {
     "name": "stdout",
     "output_type": "stream",
     "text": [
      "{'name': 'jai', 'marks': [45, 56, 78], (2, 4): (4, 16), 24: 34, 'pet': {'dog': 'laila', 'cat': 'nanacy', 'lion': {'name': 'maya'}}}\n",
      "maya\n"
     ]
    }
   ],
   "source": [
    "# ACESSING VALUES FROM THE DICTIONARY\n",
    "my_dict = {\"name\":\"jai\", \"marks\":[45,56,78], (2,4):(4,16), 24:34, \"pet\":{\"dog\":\"laila\", \"cat\":\"nanacy\", \"lion\":{\"name\":\"maya\"}}}\n",
    "print(my_dict)\n",
    "# my_dict[\"name\"]\n",
    "# my_dict[\"marks\"]\n",
    "# # my_dict[(2,4)]\n",
    "# my_dict[\"pet\"]\n",
    "# my_dict[\"pet\"][\"dog\"]\n",
    "# my_dict[\"pet\"][\"cat\"]\n",
    "# my_dict[24]\n",
    "# print(type(my_dict[\"marks\"]))\n",
    "# my_dict[\"marks\"][0]\n",
    "# my_dict[\"marks\"][2]\n",
    "# my_dict[\"marks\"][1]\n",
    "# print(type(my_dict[\"pet\"]))\n",
    "# for i in my_dict[\"marks\"]:\n",
    "#     print(i)\n",
    "# my_dict[(2,4)]\n",
    "# my_dict[(2,4)][0]\n",
    "# my_dict[(2,4)][1]\n",
    "# my_dict[\"name\"]\n",
    "# my_dict[\"age\"] returns error\n",
    "# my_dict[\"pet\"][\"cat\"]\n",
    "# my_dict[\"pet\"][\"lion\"][\"name\"] important\n",
    "# print(my_dict.get(\"pet\")[\"lion\"][\"name\"])"
   ]
  },
  {
   "cell_type": "code",
   "execution_count": 53,
   "metadata": {},
   "outputs": [
    {
     "name": "stdout",
     "output_type": "stream",
     "text": [
      "{'name': 'jai', 'marks': [45, 56, 78], (2, 4): (4, 16), 24: 34, 'pet': {'dog': 'laila', 'cat': 'nanacy', 'lion': {'name': 'maya'}}}\n"
     ]
    },
    {
     "data": {
      "text/plain": [
       "35"
      ]
     },
     "execution_count": 53,
     "metadata": {},
     "output_type": "execute_result"
    }
   ],
   "source": [
    "# ACESSING VALUE FROM DICTIONARY BY GET() METHOD[it also returns value from key]\n",
    "# if GET() METHOD DO NOT FIND ANY VALUE THEN IT RETURNS NONE INSTEAD OF ERROR.\n",
    "my_dict = {\"name\":\"jai\", \"marks\":[45,56,78], (2,4):(4,16), 24:34, \"pet\":{\"dog\":\"laila\", \"cat\":\"nanacy\", \"lion\":{\"name\":\"maya\"}}}\n",
    "print(my_dict)\n",
    "# my_dict.get(\"name\")\n",
    "# my_dict.get((2,4))\n",
    "# my_dict.get(\"pet\")\n",
    "# my_dict.get(\"pet\")\n",
    "# my_dict.get(\"marks\")\n",
    "# my_dict.get(\"age\")\n",
    "# my_dict.get(\"subject\") return none and not error\n",
    "# my_dict.get(\"age\", 35) return value 35 which is define here\n",
    "\n"
   ]
  },
  {
   "cell_type": "code",
   "execution_count": 55,
   "metadata": {},
   "outputs": [
    {
     "name": "stdout",
     "output_type": "stream",
     "text": [
      "{'name': 'sam', 'marks': [56, 45, 78], 'age': 34}\n"
     ]
    }
   ],
   "source": [
    "# DICTIONARY CAN HAVE DUPLICATE VALUES AND KEYS CAN NOT BE DUPLICATED\n",
    "# stu = {101:\"rahul\", 102:\"raj\",103:\"maths\",104:\"maths\"}--values are dupblicated\n",
    "# # print(s/\n",
    "# stu1 = {\"name\":\"jai\", \"marks\":[56,45,78], \"age\":34, \"name\":\"sam\"} here key cannot be duplicated, ok\n",
    "print(stu1)"
   ]
  },
  {
   "cell_type": "code",
   "execution_count": 141,
   "metadata": {},
   "outputs": [
    {
     "name": "stdout",
     "output_type": "stream",
     "text": [
      "{'name': 'jai', 'marks': [45, 56, 78], (2, 4): (4, 16), 24: 34, 'pet': {'dog': 'laila', 'cat': 'nanacy', 'lion': {'name': 'maya'}}}\n",
      "{('name',): 45, 'subject': ['hard']}\n",
      "{('name',): 'jai', 'subject': ['hard']}\n"
     ]
    }
   ],
   "source": [
    "# MODIFYING DICTIONARY--we can modify the existing key of dict by assigning new value\n",
    "# dictionary id remain the same even after we modify dictionary\n",
    "\n",
    "\n",
    "my_dict = {\"name\":\"jai\", \"marks\":[45,56,78], (2,4):(4,16), 24:34, \"pet\":{\"dog\":\"laila\", \"cat\":\"nanacy\", \"lion\":{\"name\":\"maya\"}}}\n",
    "print(my_dict)\n",
    "# my_dict[\"name\"] = \"vijay\"\n",
    "# print(my_dict)\n",
    "# my_dict[\"marks\"][0] = 100\n",
    "# print(my_dict)\n",
    "# my_dict[\"marks\"] = (100,200)\n",
    "# print(my_dict)\n",
    "# my_dict[\"pet\"][\"dog\"] = \"hujurala\"\n",
    "# print(my_dict)\n",
    "# my_dict[\"pet\"][\"lion\"][\"name\"] = \"kaya\"\n",
    "# print(my_dict)\n",
    "# my_dict[(2,4)][0] = 3 can not change bcoz it is tuple\n",
    "# print(my_dict)\n",
    "# my_dict[24] = 25\n",
    "# print(my_dict)\n",
    "# my_dict[\"marks\"][2] = 100\n",
    "# print(my_dict)\n",
    "# dict2 = {(\"name\",):45, \"subject\":[\"hard\"]}\n",
    "# print(dict2)\n",
    "# dict2[(\"name\",)]= \"jai\"\n",
    "# print(dict2)"
   ]
  },
  {
   "cell_type": "code",
   "execution_count": 142,
   "metadata": {},
   "outputs": [
    {
     "name": "stdout",
     "output_type": "stream",
     "text": [
      "jai\n",
      "s\n",
      "{101: 'jai', 'people': [{'name': 's', 'age': 2}, {'name': 'u', 'age': 4}], 'designation': 'data analyst'}\n",
      "{101: 'vijay', 'people': [{'name': 's', 'age': 2}, {'name': 'u', 'age': 4}], 'designation': 'data analyst'}\n"
     ]
    }
   ],
   "source": [
    "# ADDING NEW ITEM TO A DICTIONARY by mentioning new key value pair.if key already there then it update thevalue\n",
    "\n",
    "dict = {101:\"jai\",\"people\":[{\"name\":\"s\",\"age\":2},{\"name\":\"u\",\"age\":4}]}\n",
    "print(dict[101])\n",
    "# print(type(dict['people']))\n",
    "# print(dict['people'][1]['name'])\n",
    "# print(dict['people'][1]['age'])\n",
    "# print(dict['people'][0])\n",
    "# print(dict['people'][0]['age'])\n",
    "print(dict[\"people\"][0][\"name\"])\n",
    "# now adding value\n",
    "dict[\"designation\"] = \"data analyst\"\n",
    "print(dict)\n",
    "dict[101] = \"vijay\"\n",
    "print(dict)\n",
    "\n"
   ]
  },
  {
   "cell_type": "code",
   "execution_count": 87,
   "metadata": {},
   "outputs": [
    {
     "name": "stdout",
     "output_type": "stream",
     "text": [
      "dict_keys([101, 102, 103])\n",
      "[101, 102, 103]\n",
      "<class 'list'>\n",
      "101\n",
      "102\n",
      "103\n",
      "101 102 103 "
     ]
    }
   ],
   "source": [
    "# KEYS() METHOD\n",
    "stu = {101:\"rahul\", 102:\"jai\", 103:\"sonam\"}\n",
    "stu_keys = stu.keys()\n",
    "print(stu_keys)\n",
    "stu_list = list(stu_keys)\n",
    "print(stu_list)\n",
    "print(type(stu_list))\n",
    "print(stu_list[0])\n",
    "print(stu_list[1])\n",
    "print(stu_list[2])\n",
    "for i in stu.keys():\n",
    "    print(i, end=\" \")"
   ]
  },
  {
   "cell_type": "code",
   "execution_count": 92,
   "metadata": {},
   "outputs": [
    {
     "name": "stdout",
     "output_type": "stream",
     "text": [
      "dict_values(['rahul', 'jai', 'sonam']) <class 'dict_values'>\n",
      "['rahul', 'jai', 'sonam'] <class 'list'>\n",
      "rahul\n",
      "jai\n",
      "sonam\n",
      "rahul,jai,sonam,"
     ]
    }
   ],
   "source": [
    "# VALUES() METHOD\n",
    "stu = {101:\"rahul\", 102:\"jai\", 103:\"sonam\"}\n",
    "dict_val = stu.values()\n",
    "print(dict_val, type(dict_val))\n",
    "dict_list = list(dict_val)\n",
    "print(dict_list, type(dict_list))\n",
    "print(dict_list[0])\n",
    "print(dict_list[1])\n",
    "print(dict_list[2])\n",
    "for i in stu.values():\n",
    "    print(i, end=\",\")"
   ]
  },
  {
   "cell_type": "markdown",
   "metadata": {},
   "source": [
    "<!-- ITEMS() METHOD -->it returns key -value pair\n",
    "stu = {101:\"rahul\", 102:\"jai\", 103:\"sonam\"}\n",
    "dict_items = stu.items()\n",
    "print(dict_items, type(dict_items)"
   ]
  },
  {
   "cell_type": "code",
   "execution_count": 102,
   "metadata": {},
   "outputs": [
    {
     "ename": "IndentationError",
     "evalue": "expected an indented block (<ipython-input-102-541fc7374849>, line 18)",
     "output_type": "error",
     "traceback": [
      "\u001b[1;36m  File \u001b[1;32m\"<ipython-input-102-541fc7374849>\"\u001b[1;36m, line \u001b[1;32m18\u001b[0m\n\u001b[1;33m    print(key, value)\u001b[0m\n\u001b[1;37m    ^\u001b[0m\n\u001b[1;31mIndentationError\u001b[0m\u001b[1;31m:\u001b[0m expected an indented block\n"
     ]
    }
   ],
   "source": [
    "# items()method\n",
    "stu = {101:\"rahul\", 102:\"jai\", 103:\"sonam\"}\n",
    "# dict_items = stu.items()\n",
    "# print(dict_items, type(dict_items))\n",
    "# dict_list = list(dict_items)\n",
    "# print(dict_list)\n",
    "# print(dict_list[0][0])\n",
    "# print(dict_list[0][1])\n",
    "# print(dict_list[1][0])\n",
    "# print(dict_list[1][1])\n",
    "# print(dict_list[2][0])\n",
    "# print(dict_list[2][1])\n",
    "# for i in dict_list:\n",
    "#     for k in i:\n",
    "#         print(k, end=\",\")\n",
    "\n",
    "for key, value in stu.items():\n",
    "print(key, value)\n",
    "        "
   ]
  },
  {
   "cell_type": "code",
   "execution_count": 113,
   "metadata": {},
   "outputs": [
    {
     "name": "stdout",
     "output_type": "stream",
     "text": [
      "{'name': 'jai', 'marks': [45, 56, 78], (2, 4): (4, 16), 24: 34, 'pet': {'dog': 'laila', 'cat': 'nanacy', 'lion': {'name': 'maya'}}}\n",
      "{'marks': [45, 56, 78], (2, 4): (4, 16), 24: 34, 'pet': {'dog': 'laila', 'cat': 'nanacy', 'lion': {'name': 'maya'}}}\n",
      "{(2, 4): (4, 16), 24: 34, 'pet': {'dog': 'laila', 'cat': 'nanacy', 'lion': {'name': 'maya'}}}\n",
      "{(2, 4): (4, 16), 24: 34, 'pet': {'dog': 'laila', 'cat': 'nanacy', 'lion': {}}}\n",
      "{(2, 4): (4, 16), 24: 34, 'pet': {'cat': 'nanacy', 'lion': {}}}\n",
      "{(2, 4): (4, 16), 24: 34, 'pet': {'lion': {}}}\n"
     ]
    }
   ],
   "source": [
    "# DELETE DICTIONARY\n",
    "# my_dict = {\"name\":\"jai\", \"marks\":[45,56,78], (2,4):(4,16), 24:34, \"pet\":{\"dog\":\"laila\", \"cat\":\"nanacy\", \"lion\":{\"name\":\"maya\"}}}\n",
    "# print(my_dict)\n",
    "# del my_dict[\"name\"]\n",
    "# print(my_dict)\n",
    "# del my_dict[\"marks\"]\n",
    "# print(my_dict)\n",
    "# del my_dict[\"pet\"][\"lion\"][\"name\"]\n",
    "# print(my_dict)\n",
    "# del my_dict[\"pet\"][\"dog\"]\n",
    "# print(my_dict)\n",
    "# del my_dict[\"pet\"][\"cat\"]\n",
    "# print(my_dict)\n",
    "# # # \n",
    "# del stu\n"
   ]
  },
  {
   "cell_type": "code",
   "execution_count": 114,
   "metadata": {},
   "outputs": [
    {
     "name": "stdout",
     "output_type": "stream",
     "text": [
      "{}\n"
     ]
    }
   ],
   "source": [
    "# CLEAR() METHOD\n",
    "stu = {101:\"rahul\", 102:\"jai\", 103:\"sonam\"}\n",
    "stu.clear()\n",
    "print(stu)"
   ]
  },
  {
   "cell_type": "code",
   "execution_count": 134,
   "metadata": {},
   "outputs": [
    {
     "name": "stdout",
     "output_type": "stream",
     "text": [
      "jai\n",
      "{34: 'http'}\n"
     ]
    }
   ],
   "source": [
    "# POP() METHOD-It remove the item from dict with specified key\n",
    "stu = {101:\"rahul\", 102:\"jai\", 103:\"sonam\", \"person\":[{\"name\":\"jai\"},{\"name\":\"sam\"}]}\n",
    "# stu1 = {(\"name\",\"firstposition\"):\"jai\", 34:\"http\"}\n",
    "# x = stu1.pop((\"name\", \"firstposition\"))\n",
    "print(x)\n",
    "print(stu1)\n",
    "# x = stu1.pop(34)\n",
    "# print(x)\n",
    "# print(stu1)\n",
    "# print(type(stu[\"person\"]))\n",
    "# x = stu.pop(\"person\")[1]\n",
    "# print(x)\n",
    "# print(stu)\n",
    "# value_return = stu.pop(103)\n",
    "# print(value_return)\n",
    "# print(stu)\n",
    "# # x = stu.pop(\"age\", 37)--it return the value of key \"age\"which is not there in dictionary\n",
    "# print(x)\n"
   ]
  },
  {
   "cell_type": "code",
   "execution_count": 132,
   "metadata": {},
   "outputs": [
    {
     "name": "stdout",
     "output_type": "stream",
     "text": [
      "(103, 'sonam')\n",
      "{101: 'rahul', 102: 'jai'}\n"
     ]
    }
   ],
   "source": [
    "# POPITEM() METHOD -it remove the last item in dictionary\n",
    "stu = {101:\"rahul\", 102:\"jai\", 103:\"sonam\", \"person\":[{\"name\":\"jai\"},{\"name\":\"sam\"}]}\n",
    "stu1 = {101:\"rahul\", 102:\"jai\", 103:\"sonam\"}\n",
    "x = stu1.popitem()\n",
    "print(x)\n",
    "print(stu1)\n",
    "\n",
    "# x = stu.popitem()\n",
    "# print(x)\n",
    "# print(stu)"
   ]
  },
  {
   "cell_type": "code",
   "execution_count": 136,
   "metadata": {},
   "outputs": [
    {
     "name": "stdout",
     "output_type": "stream",
     "text": [
      "True\n",
      "True\n",
      "False\n",
      "True\n",
      "True\n"
     ]
    }
   ],
   "source": [
    "# TESTING KEY THROUGH MEMBERSHIP OPERATOR\n",
    "stu = {101:\"rahul\", 102:\"jai\", 103:\"sonam\"}\n",
    "print(101 in stu)\n",
    "print(104 not in stu)\n",
    "print(102 not in stu)\n",
    "print(106 not in stu)\n",
    "print(103 in stu)"
   ]
  },
  {
   "cell_type": "code",
   "execution_count": 139,
   "metadata": {},
   "outputs": [
    {
     "name": "stdout",
     "output_type": "stream",
     "text": [
      "{101: 'rahul', 102: 'jai', 103: 'sonam'}\n",
      "2148382815232\n",
      "{101: 'rahul', 102: 'jai', 103: 'sonam'}\n",
      "<class 'dict'>\n",
      "2148381572032\n",
      "{101: 'jai', 102: 'jai', 103: 'sonam'}\n",
      "{101: 'rahul', 102: 'jai', 103: 'sonam'}\n"
     ]
    }
   ],
   "source": [
    "# COPY()METHOD--In this both dictionary  will have different memory location i.e different ID \n",
    "# which modification in one dict will not reflect in \n",
    "# copied dictionary and vice versa\n",
    "\n",
    "stu = {101:\"rahul\", 102:\"jai\", 103:\"sonam\"}\n",
    "print(stu)\n",
    "print(id(stu))\n",
    "new_dict = stu.copy()\n",
    "print(new_dict)\n",
    "print(type(new_dict))\n",
    "print(id(new_dict))\n",
    "stu[101] = \"jai\"\n",
    "print(stu)\n",
    "print(new_dict)--Here 'rahul did not change to 'jai\n",
    " "
   ]
  },
  {
   "cell_type": "code",
   "execution_count": 148,
   "metadata": {},
   "outputs": [
    {
     "name": "stdout",
     "output_type": "stream",
     "text": [
      "{'jai': ['python'], 34: ['python'], ('age', 'sal'): ['python']}\n",
      "{'jai': ('python', 'great'), 40: ('python', 'great'), ('name', 'age'): ('python', 'great')}\n",
      "{'jai': ('java', 'c'), 'maths': ('java', 'c'), 98: ('java', 'c')}\n",
      "{'jai': 90, 78: 90, ('name', 'sal'): 90}\n",
      "{'employee': None, 'salary': None}\n"
     ]
    }
   ],
   "source": [
    "# FROMKEYS() METHOD-create dictionary from keys and values\n",
    "keys = (\"jai\", 34,(\"age\",\"sal\"))\n",
    "values = [\"python\"]\n",
    "x = dict.fromkeys(keys, values)\n",
    "print(x)\n",
    "\n",
    "keys = [\"jai\", 40,(\"name\",\"age\")]\n",
    "values =(\"python\",\"great\")\n",
    "x = dict.fromkeys(keys, values)\n",
    "print(x)\n",
    "\n",
    "keys = (\"jai\",\"maths\",98)\n",
    "values = \"java\",\"c\"\n",
    "x = dict.fromkeys(keys, values)\n",
    "print(x)\n",
    "\n",
    "keys = [\"jai\",78,(\"name\",\"sal\")]\n",
    "values = 90\n",
    "x = dict.fromkeys(keys, values)\n",
    "print(x)\n",
    "\n",
    "keys = (\"employee\", \"salary\")\n",
    "x = dict.fromkeys(keys)\n",
    "print(x)\n"
   ]
  },
  {
   "cell_type": "code",
   "execution_count": 155,
   "metadata": {},
   "outputs": [
    {
     "name": "stdout",
     "output_type": "stream",
     "text": [
      "{'name': 'jai', 'age': 34, 'salary': 34000, ('designation',): 'Analyst', 'years': 8}\n"
     ]
    }
   ],
   "source": [
    "# UPDATE METHOD IN DICTIONARY--ID WILL BE SAME\n",
    "stu = {\"name\":\"jai\",\"age\":34}\n",
    "# data1 = (\"power\",3000)it canot be used\n",
    "# data = {\"salary\":34000,(\"designation\",):\"Analyst\",\"years\":8}\n",
    "stu.update(data)\n",
    "print(stu)\n",
    "# print(stu[('designation',)])"
   ]
  },
  {
   "cell_type": "code",
   "execution_count": 159,
   "metadata": {},
   "outputs": [
    {
     "name": "stdout",
     "output_type": "stream",
     "text": [
      "Original dic\n",
      "34\n",
      "\n",
      "34\n",
      "\n",
      "data science\n"
     ]
    }
   ],
   "source": [
    "# SETDEFAULT METHOD IN DICTIONARY--it returns the value of the specified key\n",
    "# if key is not found ,then it inserts the key wid specified values. id will remain same\n",
    "stu = {'name': 'jai', 'age': 34, 'salary': 34000}\n",
    "print(\"Original dic\")\n",
    "x = stu.setdefault('age')\n",
    "print(x)\n",
    "\n",
    "stu = {'name': 'jai', 'age': 34, 'salary': 34000}\n",
    "print()\n",
    "x = stu.setdefault(\"age\", 40)\n",
    "print(x)\n",
    "\n",
    "stu = {'name': 'jai', 'age': 34, 'salary': 34000}\n",
    "print()\n",
    "x = stu.setdefault(\"subject\", \"data science\")\n",
    "print(x)"
   ]
  },
  {
   "cell_type": "code",
   "execution_count": 161,
   "metadata": {},
   "outputs": [
    {
     "name": "stdout",
     "output_type": "stream",
     "text": [
      "{101: 'jai', 'age': 34, 'salary': 34000}\n",
      "101 = jai\n",
      "age = 34\n",
      "salary = 34000\n"
     ]
    }
   ],
   "source": [
    "# ACCESSING VALUE THROUGH LOOP IN DICTIONARY\n",
    "stu = {101: 'jai', 'age': 34, 'salary': 34000}\n",
    "print(stu)\n",
    "for key in stu:\n",
    "    print(key,\"=\", stu[key])\n"
   ]
  },
  {
   "cell_type": "code",
   "execution_count": 166,
   "metadata": {},
   "outputs": [
    {
     "name": "stdout",
     "output_type": "stream",
     "text": [
      "Enter the number of elements5\n",
      "enter the value101\n",
      "enter the valuejai\n",
      "enter the valueroll no\n",
      "enter the value34\n",
      "enter the value(\"salary,)\n",
      "enter the value34000\n",
      "enter the valuesubject\n",
      "enter the value[\"science\"]\n",
      "enter the valueid\n",
      "enter the value12\n",
      "{'101': 'jai', 'roll no': '34', '(\"salary,)': '34000', 'subject': '[\"science\"]', 'id': '12'}\n"
     ]
    }
   ],
   "source": [
    "# CRETING DICTIONARY FROM INPUT USER\n",
    "\n",
    "blank_dict = {}\n",
    "num = int(input(\"Enter the number of elements\"))\n",
    "for i in range(num):\n",
    "    key = input(\"enter the value\")\n",
    "    value = input(\"enter the value\")\n",
    "    blank_dict.update({key:value})\n",
    "print(blank_dict)\n"
   ]
  },
  {
   "cell_type": "code",
   "execution_count": 178,
   "metadata": {},
   "outputs": [
    {
     "name": "stdout",
     "output_type": "stream",
     "text": [
      "{'course': 'python', 'fees': 15000, 1: {'course': 'java', 'fees': 34000, 2: {'city': 'ggn'}}}\n",
      "{'course': 'python', 'fees': 15000, 1: {'course': 'machine', 'fees': 40000, 2: {'city': 'ggn'}}}\n",
      "{'course': 'python', 'fees': 15000, 1: {'fees': 40000, 2: {'city': 'ggn', 'location': 'sec10a'}, ('skills',): 'css'}}\n"
     ]
    }
   ],
   "source": [
    "# CREATIMG NESTED DICTIONARY\n",
    "a = {\"course\":\"python\", \"fees\":15000, 1:{\"course\":\"java\", \"fees\":34000,2:{\"city\":\"ggn\"}}}\n",
    "print(a)\n",
    "a[1][\"course\"]\n",
    "a[\"fees\"]\n",
    "a[1][\"fees\"] = 40000\n",
    "a[1][\"course\"] = \"machine\"\n",
    "print(a)\n",
    "del a[1][\"course\"]\n",
    "a[1][(\"skills\",)] =\"css\"\n",
    "a[1][2][\"location\"] = \"sec10a\"\n",
    "print(a)"
   ]
  },
  {
   "cell_type": "code",
   "execution_count": 174,
   "metadata": {},
   "outputs": [
    {
     "name": "stdout",
     "output_type": "stream",
     "text": [
      "{'a': {}, 'b': {}, 'c': {}}\n"
     ]
    }
   ],
   "source": [
    "# BLANK DICTIONARY\n",
    "a = {\"a\":{},\"b\":{},\"c\":{}}\n",
    "print(a)"
   ]
  },
  {
   "cell_type": "code",
   "execution_count": 181,
   "metadata": {},
   "outputs": [
    {
     "name": "stdout",
     "output_type": "stream",
     "text": [
      "{'course': 'python', 'fees': 12000, 1: {'skill': 'c', 'duration': '6month'}}\n",
      "course\n",
      "fees\n",
      "1\n",
      "\n",
      "course = python\n",
      "fees = 12000\n",
      "1 = {'skill': 'c', 'duration': '6month'}\n"
     ]
    }
   ],
   "source": [
    "# LOOPING THROUGH NESTED DICTIONARY\n",
    "a = {\"course\":\"python\",\"fees\":12000,1:{\"skill\":\"c\",\"duration\":\"6month\"}}\n",
    "print(a)\n",
    "for i in a:\n",
    "    print(i)\n",
    "print()\n",
    "for i in a:\n",
    "    if type(a[i])is dict:\n",
    "        for j in a[i]:\n",
    "            print(j,\"=\",a[i][j])\n",
    "    else:\n",
    "        print(i,\"=\",a[i])"
   ]
  },
  {
   "cell_type": "code",
   "execution_count": 184,
   "metadata": {},
   "outputs": [
    {
     "name": "stdout",
     "output_type": "stream",
     "text": [
      "{1: {'skill': 'c', 'duration': '1month'}, 2: {'course': 'java', 'level': 'tough'}}\n",
      "1\n",
      "2\n",
      "skill = c\n",
      "duration = 1month\n",
      "course = java\n",
      "level = tough\n",
      "done\n"
     ]
    }
   ],
   "source": [
    "# LOOPING THROUGH NESTED DICT\n",
    "a = {1:{\"skill\":\"c\",\"duration\":\"1month\"},2:{\"course\":\"java\", \"level\":\"tough\"}}\n",
    "print(a)\n",
    "for i in a:\n",
    "    print(i)\n",
    "for i in a:\n",
    "    for k in a[i]:\n",
    "        print(k,\"=\", a[i][k])\n",
    "print(\"done\")"
   ]
  },
  {
   "cell_type": "code",
   "execution_count": 9,
   "metadata": {},
   "outputs": [
    {
     "name": "stdout",
     "output_type": "stream",
     "text": [
      "{}\n",
      "<class 'dict'>\n",
      "{'name': 'jai', 'marks': 78, 'age': 29, 'gendar': 'male', 'subject': 'maths'}\n"
     ]
    }
   ],
   "source": [
    "new_dict  =dict()\n",
    "print(new_dict)\n",
    "print(type(new_dict))\n",
    "new_dict = dict(name=\"jai\",marks=78,age=29,gendar=\"male\",subject=\"maths\")\n",
    "print(new_dict)"
   ]
  },
  {
   "cell_type": "code",
   "execution_count": 11,
   "metadata": {},
   "outputs": [
    {
     "name": "stdout",
     "output_type": "stream",
     "text": [
      "{'employee': {'jai': {'id': '001', 'salary': 70000, 'designation': 'TeamLead'}, 'sam': {'id': '002', 'salary': 90000, 'designation': 'data analyst'}}}\n"
     ]
    }
   ],
   "source": [
    "# Nested dictionaries ate dictionaries that lies within another dictionaries\n",
    "# HashMap or Hash table is a data structure that maps key to its value pair\n",
    "emp_detail = {\"employee\":{\"jai\":{\"id\":\"001\", \"salary\":70000,\"designation\":\"TeamLead\"},\"sam\":{\"id\":\"002\",\"salary\":90000,\"designation\":\"data analyst\"}}}\n",
    "print(emp_detail)\n"
   ]
  },
  {
   "cell_type": "code",
   "execution_count": null,
   "metadata": {},
   "outputs": [],
   "source": []
  }
 ],
 "metadata": {
  "kernelspec": {
   "display_name": "Python 3",
   "language": "python",
   "name": "python3"
  },
  "language_info": {
   "codemirror_mode": {
    "name": "ipython",
    "version": 3
   },
   "file_extension": ".py",
   "mimetype": "text/x-python",
   "name": "python",
   "nbconvert_exporter": "python",
   "pygments_lexer": "ipython3",
   "version": "3.8.5"
  }
 },
 "nbformat": 4,
 "nbformat_minor": 4
}
