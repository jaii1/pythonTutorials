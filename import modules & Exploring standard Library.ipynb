{
 "cells": [
  {
   "cell_type": "code",
   "execution_count": null,
   "metadata": {},
   "outputs": [],
   "source": [
    "# suppose this filename mymodule.py\n",
    "print(\"Imported my module\")\n",
    "test  =\"Test string\"\n",
    "def find_index(valueslisted, target):\n",
    "    \"\"\"here target is value whos index we have to find, ok\"\"\"\n",
    "    for i, value in enumerate(valuelisted):\n",
    "        if value == target:\n",
    "            print(i)\n",
    "    return -1"
   ]
  },
  {
   "cell_type": "code",
   "execution_count": null,
   "metadata": {},
   "outputs": [],
   "source": [
    "# now we go to another file(intro.py)\n",
    "import mymodule\n",
    "# wen we import mymodule , it automatically print 'imported my module' from mymodule file in output\n",
    "course = [\"History\", \"math\",\"physics\",\"compsci\"]\n",
    "# now we are finding index of suppose 'physics'\n",
    "index = mymodule.find_index(course, \"physics\")\n",
    "print(index), output==2\n",
    "# if we use 'import mymodule as mm'\n",
    "index = mm.find_index(course,\"math\")\n",
    "print(index)\n",
    "output=1\n",
    "\n",
    "# we can also write 'from mymodule import find_index', then\n",
    "index = find_index(course,\"math\")\n",
    "print(index)\n",
    "output=1\n",
    "# we can also use from mymodule import find_index as ind\n",
    "index = ind(course, \"math\")\n",
    "print(index)\n",
    "output=1\n",
    "# if we use from mymodule import find_index, test\n",
    "print(test)\n",
    "# output=imported my module\n",
    "\n",
    "# we can use 'from mymodule import *'\n",
    "# simply print\n",
    "print(test)"
   ]
  },
  {
   "cell_type": "code",
   "execution_count": 4,
   "metadata": {},
   "outputs": [
    {
     "name": "stdout",
     "output_type": "stream",
     "text": [
      "['C:\\\\Users\\\\DELL', 'C:\\\\Users\\\\DELL\\\\anaconda3\\\\python38.zip', 'C:\\\\Users\\\\DELL\\\\anaconda3\\\\DLLs', 'C:\\\\Users\\\\DELL\\\\anaconda3\\\\lib', 'C:\\\\Users\\\\DELL\\\\anaconda3', '', 'C:\\\\Users\\\\DELL\\\\anaconda3\\\\lib\\\\site-packages', 'C:\\\\Users\\\\DELL\\\\anaconda3\\\\lib\\\\site-packages\\\\win32', 'C:\\\\Users\\\\DELL\\\\anaconda3\\\\lib\\\\site-packages\\\\win32\\\\lib', 'C:\\\\Users\\\\DELL\\\\anaconda3\\\\lib\\\\site-packages\\\\Pythonwin', 'C:\\\\Users\\\\DELL\\\\anaconda3\\\\lib\\\\site-packages\\\\IPython\\\\extensions', 'C:\\\\Users\\\\DELL\\\\.ipython']\n"
     ]
    }
   ],
   "source": [
    "import sys\n",
    "print(sys.path)\n",
    "# if mymodule.py file move to desktop suppose then u can use\n",
    "sys.path.append(\"path of mymodule file on desktop\")\n",
    "print(sys.path)"
   ]
  },
  {
   "cell_type": "code",
   "execution_count": null,
   "metadata": {},
   "outputs": [],
   "source": []
  }
 ],
 "metadata": {
  "kernelspec": {
   "display_name": "Python 3",
   "language": "python",
   "name": "python3"
  },
  "language_info": {
   "codemirror_mode": {
    "name": "ipython",
    "version": 3
   },
   "file_extension": ".py",
   "mimetype": "text/x-python",
   "name": "python",
   "nbconvert_exporter": "python",
   "pygments_lexer": "ipython3",
   "version": "3.8.5"
  }
 },
 "nbformat": 4,
 "nbformat_minor": 4
}
