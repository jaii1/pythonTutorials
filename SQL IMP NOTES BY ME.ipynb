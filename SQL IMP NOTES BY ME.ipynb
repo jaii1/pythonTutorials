{
 "cells": [
  {
   "cell_type": "markdown",
   "metadata": {},
   "source": [
    "# # write a query to displays NAME,AGE,GENDER,MARKS of all students whose USN in the STUDENT table is equal to the USN in STU_DEPT table\n"
   ]
  },
  {
   "cell_type": "code",
   "execution_count": null,
   "metadata": {},
   "outputs": [],
   "source": []
  },
  {
   "cell_type": "code",
   "execution_count": null,
   "metadata": {},
   "outputs": [],
   "source": [
    "SELECT name,age,gender,marks FROM student,stu_dept WHERE stu_dept.USN = student.USN"
   ]
  },
  {
   "cell_type": "code",
   "execution_count": null,
   "metadata": {},
   "outputs": [],
   "source": [
    "create table table1\n",
    "(column1 NUMBER,\n",
    "column2 NUMBER,\n",
    ");\n",
    "insert into table1 VALUES(1,2);\n",
    "insert into table1 VALUES(3,4);\n",
    "insert into table1 VALUES(5,6);\n",
    "insert into table1 VALUES(7,8);\n",
    "SELECT * FROM table1;"
   ]
  },
  {
   "cell_type": "code",
   "execution_count": null,
   "metadata": {},
   "outputs": [],
   "source": [
    "Inner join or Join"
   ]
  },
  {
   "cell_type": "code",
   "execution_count": null,
   "metadata": {},
   "outputs": [],
   "source": [
    "# # select * from table1 inner join table2 on table1.column2 = table2.column2 \n",
    "# select * from table1 T1 inner join table2 T2 on T1.columns2 = T2.columns2\n",
    "select * from table1 T1 inner join table2 T2 on tabl1.column1 = tabl2.column1"
   ]
  },
  {
   "cell_type": "code",
   "execution_count": null,
   "metadata": {},
   "outputs": [],
   "source": [
    "# LEFT JOIN \n",
    "# writ a query to display all the records from table1 and table 2 by left keyword  left join or left outer join\n",
    "# select * from table1 T1 LEFT JOIN table2 T2 on T1.column2 = T2.column2;"
   ]
  },
  {
   "cell_type": "code",
   "execution_count": 1,
   "metadata": {},
   "outputs": [],
   "source": [
    "# write a query in which we want all record from table 2 and matching records from table1----\n",
    "-RIGHT JOIN OR RIGHT OUTER JOIN\n",
    "\n",
    "# select * from table1 T1 right join table2 on T1.column2 = T2 .column2"
   ]
  },
  {
   "cell_type": "code",
   "execution_count": null,
   "metadata": {},
   "outputs": [],
   "source": [
    "# full OUTER JOIN\n",
    "# select * from table1 T1 full outer join table2 T2 on T1.column2 = T2.column2\n"
   ]
  },
  {
   "cell_type": "code",
   "execution_count": null,
   "metadata": {},
   "outputs": [],
   "source": [
    "# NATURAL JOINatural join tab can be a inner join,left join,right join .The default join is INNER JOIN\n",
    "# select * from table1 natural join table2\n",
    "# select * from table1 natural right join table2\n",
    "# select * from table1 natural left join table2\n",
    "# select * from table1 natural full join table2\n",
    "# select * from table1 T1 nle2 T2"
   ]
  },
  {
   "cell_type": "markdown",
   "metadata": {},
   "source": [
    "# sql query to find first and the last record from the table in single query(employee table suppose)"
   ]
  },
  {
   "cell_type": "code",
   "execution_count": null,
   "metadata": {},
   "outputs": [],
   "source": [
    "<!-- select rownum from emp; it create a new column named rownum automatically which has rows equal to total rows in table -->"
   ]
  },
  {
   "cell_type": "markdown",
   "metadata": {},
   "source": [
    "\n",
    "select count(*) from emp; # display total no of rows in a table , suppose 7 total rows are there in a table\n",
    "select * from (select rownum r,ename, sal from emp)\n",
    "where r = 1 or r = (select count(*) from emp)"
   ]
  },
  {
   "cell_type": "markdown",
   "metadata": {},
   "source": [
    "#  FINDING FIRST N LAST RECORD FROM TABLE IN MYSQL"
   ]
  },
  {
   "cell_type": "code",
   "execution_count": null,
   "metadata": {},
   "outputs": [],
   "source": [
    "select * from customers\n",
    "LIMIT1;----to get first row out of table\n",
    "to get 1st n last\n",
    "(select * from customers order by customerID ASC LIMIT 1)\n",
    "UNION\n",
    "(select * from customers order by CustomerID desc LIMIT 1)"
   ]
  },
  {
   "cell_type": "markdown",
   "metadata": {},
   "source": [
    "# finding first five records from table using my sql"
   ]
  },
  {
   "cell_type": "code",
   "execution_count": null,
   "metadata": {},
   "outputs": [],
   "source": [
    "SELECT * FROM Customers ORDER BY Customer_ID ASC LIMIT 5;"
   ]
  },
  {
   "cell_type": "markdown",
   "metadata": {},
   "source": [
    "# starting from 3rd row find next 2 records from customers table(mysql)"
   ]
  },
  {
   "cell_type": "code",
   "execution_count": null,
   "metadata": {},
   "outputs": [],
   "source": [
    "select * from Customers order by Customer_id asc limit 3, 2;"
   ]
  },
  {
   "cell_type": "markdown",
   "metadata": {},
   "source": [
    " # display last 2 records(rows) from the table emp(oracle and mysql)"
   ]
  },
  {
   "cell_type": "markdown",
   "metadata": {},
   "source": [
    "BY USING ORACLE\n",
    "select * from(select rownum r, ename, sal from emp)\n",
    "where r>(select count(*)-2 from emp);\n",
    "select * from(select rownum r, emp.* from emp)--to extract all records from last 2 rows\n",
    "where r>(select count(*)-2 from emp;"
   ]
  },
  {
   "cell_type": "code",
   "execution_count": null,
   "metadata": {},
   "outputs": [],
   "source": [
    "USING MYSQL\n",
    "\n",
    "SELECT * FROM Employees ORDER BY EmployeeID DESC LIMIT 2;"
   ]
  },
  {
   "cell_type": "markdown",
   "metadata": {},
   "source": [
    " # display first and last 2 records from table(by oracle n mysql)"
   ]
  },
  {
   "cell_type": "markdown",
   "metadata": {},
   "source": [
    "BY USING ORACLE\n",
    "select * from(select rownum r, emp.* from emp)\n",
    "where r>(select count(*)-2 from emp) or r in(1,2);"
   ]
  },
  {
   "cell_type": "code",
   "execution_count": null,
   "metadata": {},
   "outputs": [],
   "source": [
    "BY USING MYSQL\n",
    "(select * from Customers order by CustomerID asc LIMIT 1)\n",
    "UNION\n",
    "(select * from Customers order by CustomerID desc LIMIT 2);"
   ]
  },
  {
   "cell_type": "markdown",
   "metadata": {},
   "source": [
    "# Calculate the second highest salary from customer table"
   ]
  },
  {
   "cell_type": "code",
   "execution_count": null,
   "metadata": {},
   "outputs": [],
   "source": [
    "SELECT MAX(Salary) FROM Employees WHERE Salary NOT IN(SELECT MAX(Salary) FROM Employees);"
   ]
  },
  {
   "cell_type": "markdown",
   "metadata": {},
   "source": [
    "# Find nth Highest salary from employees  table"
   ]
  },
  {
   "cell_type": "code",
   "execution_count": null,
   "metadata": {},
   "outputs": [],
   "source": [
    "SELECT distinct Salary FROM Employees e1 WHERE 3 = (SELECT COUNT(DISTINCT Salary) FROM Employees e2 WHERE\n",
    "E2.Salary >E1.Salary);  (this is for 3rd highest)"
   ]
  },
  {
   "cell_type": "markdown",
   "metadata": {},
   "source": [
    "# Increase the income of all employee by 5%in employee table"
   ]
  },
  {
   "cell_type": "code",
   "execution_count": null,
   "metadata": {},
   "outputs": [],
   "source": [
    "\n",
    "UPDATE Employees SET INCOME = INCOME+(INCOME*5.0/100.0);"
   ]
  },
  {
   "cell_type": "markdown",
   "metadata": {},
   "source": [
    "# find the number of employees working in 'abc' department in employees table"
   ]
  },
  {
   "cell_type": "code",
   "execution_count": null,
   "metadata": {},
   "outputs": [],
   "source": [
    "select count(*) from employees where where department_name = 'abc';"
   ]
  },
  {
   "cell_type": "markdown",
   "metadata": {},
   "source": [
    "# retrive the records from employees table where firstname ends with 'a' and contain 6 alphabets"
   ]
  },
  {
   "cell_type": "code",
   "execution_count": null,
   "metadata": {},
   "outputs": [],
   "source": [
    "select * from employees where first_name like' _____a';\n",
    "SELECT * FROM Employees WHERE FIRSTNAME LIKE' _____a';"
   ]
  },
  {
   "cell_type": "markdown",
   "metadata": {},
   "source": [
    "# write query to find third highest salary"
   ]
  },
  {
   "cell_type": "markdown",
   "metadata": {},
   "source": [
    "# display only even rows from table"
   ]
  },
  {
   "cell_type": "markdown",
   "metadata": {},
   "source": [
    "\n",
    "SELECT * FROM(SELECT rownum r,emp.* from Emp)\n",
    "WHERE MOD(r,2)=0;\n",
    "SELECT * FROM(SELECT rownum r, emp.* FROM emp)\n",
    "WHERE MOD(r,2)=0;\n"
   ]
  },
  {
   "cell_type": "markdown",
   "metadata": {},
   "source": [
    "# # display only odd records(rows) from table"
   ]
  },
  {
   "cell_type": "markdown",
   "metadata": {},
   "source": [
    "select * from (select rownum r, emp.* from emp)\n",
    "where mod(r,2)=1;"
   ]
  },
  {
   "cell_type": "markdown",
   "metadata": {},
   "source": [
    "# i only want country column from customers table with no dublicate values and in sorted order."
   ]
  },
  {
   "cell_type": "markdown",
   "metadata": {},
   "source": [
    " select distinct country from customers \n",
    "order by country;\n"
   ]
  },
  {
   "cell_type": "markdown",
   "metadata": {},
   "source": [
    "# # Select all records from the Customers where the PostalCode column is empty"
   ]
  },
  {
   "cell_type": "markdown",
   "metadata": {},
   "source": [
    "select * from customers where PostalCode is NULL;"
   ]
  },
  {
   "cell_type": "markdown",
   "metadata": {},
   "source": [
    " # D/B INSERT INTO AND ALTER TABLE"
   ]
  },
  {
   "cell_type": "markdown",
   "metadata": {},
   "source": [
    "insert into statement ----to add record in the column(field)\n",
    "ALter table means adding new column(with their data type and constraint, or just adding constraint to column) or modifying existing column(modifying means removing their datatype or constraint) or drop column(add,modify,drop)\n",
    "ALTER table employees\n",
    "ADD emp_designation VARCHAR(40) NOT NULL; (to a employee table)\n",
    "\n",
    "desc employees;\n",
    "\n",
    "WE ALSO WANT TO ADD 'gpa' column to employees(gpa is like 5.89,3.42...etc)\n",
    "alter table employees\n",
    "add gpa decimal(3,2) not null;\n",
    "\n",
    "desc employees;\n",
    "\n",
    "\n",
    "ANOTHER EXAMPLE--adding multiple column to the table\n",
    "\n",
    "ALTER TABLE employees\n",
    "ADD  column emp_address VARCHAR(100) NOT NULL after emp_name,\n",
    "\n",
    "ADD emp_sal INT(20)  NOT NULL after emp_age;\n",
    "desc employees;\n",
    "\n",
    "SUPPOSE, WE ARE ADDING PRIMARY KEY TO THE 2 COLUMNS  emp_age & emp_id, SEE BELOW\n",
    "alter table employees\n",
    "add constraint pk_empployee_detail primary key(emp_id, emp_age)\n",
    "SUPPOSE WE ARE ADDING A UNIQUE KEY TO THE COLUMN EMP_AGE\n",
    "alter table eployees\n",
    "add unique(emp_age)\n",
    "\n",
    "ABOUT INSERT INTO--UPDATES ROWS IN ALL OR SELECTED EXISTING COLUMNS\n",
    "INSERT INTO employees(empname, city,country)\n",
    "VALUES(\"anoop\",\"jhasi\",\"India\"),\n",
    "(\"sam\",\"meerut\",\"India\");\n",
    "NOW SUPPOSE IN EMPLOYEES TABLE, WE WANT emp_name TO BE TYPE VARCHAR AND COLUMN IS ALLOWED TO HAVE NULL VALUE\n",
    "ALTER TABLE Employees\n",
    "MODIFY empname VARCHAR(100) NULL;\n",
    "select * from Employees;\n",
    "desc employees;\n",
    "ALTER TABLE Employees\n",
    "DROP column emp_name;\n",
    "select * from Employees;\n",
    "desc employees;\n",
    "ALTER TABLE Employees\n",
    "CHANGE COLUMN emp_name emp_fname\n",
    "VARCHAR(100) NOT NULL;\n",
    "select * from employees;\n",
    "ALTER TABLE Employees------changing table name\n",
    "RENAME TO emp_details;\n",
    "\n",
    "NULL MEANS BLANK(missing value) AND NOT 0 OR SPACES"
   ]
  },
  {
   "cell_type": "code",
   "execution_count": null,
   "metadata": {},
   "outputs": [],
   "source": [
    "alter table bank\n",
    "add column height decimal(2,1) not null after salary,\n",
    "add column weight decial(3,1) unique after country;\n",
    "desc bank;\n",
    "\n",
    "alter table bank\n",
    "drop column height,\n",
    "drop column weight;"
   ]
  },
  {
   "cell_type": "markdown",
   "metadata": {},
   "source": [
    "# some IFNULL CONCEPT IN MY SQL(from javapoint.com)"
   ]
  },
  {
   "cell_type": "markdown",
   "metadata": {},
   "source": [
    "select IFNULL(\"python\",\"java\")it returns python, if first item(python) is there\n",
    "--IFNULL always take 2 argument and first chk the first argument or 1st expression\n",
    "if that is not null then it return 1st expression otherwise 2nd\n",
    "example below===\n",
    "select ifnull(NULL,10) it will return 10\n",
    "select IFNULL(NULL, 5)return 5\n",
    "select IFNULL('python','Pandas') it will return 'Python\n",
    "\n",
    "NOW CREATING TABLE\n",
    "CREATE TABLE emp_details(\n",
    "emp_id INT NOT NULL AUTO_INCREMENT,\n",
    "emp_name VARCHAR(45) NOT NULL,\n",
    "emp_sal INT(56) NOT NULL,\n",
    "cellphone VARCHAR(30) DEFAULT NULL,\n",
    "homephone VARCHAR(30) DEFAULT NULL);\n",
    "INSERT INTO emp_details(emp_id,emp_name,emp_sal,cellphone,homephone)\n",
    "VALUES(101,\"jai\",45000,7264372,98257),\n",
    "(102,\"sam\",78000,52428282);\n",
    "and so on and we left some blank value of column homephone and  cellphone)\n",
    "now if we do\n",
    "SELECT emp_name, cellphone,homephone FROM emp_details;\n",
    "it will show all 3 column wid blank space also\n",
    "BUT IF WE DO\n",
    "\n",
    "SELECT emp_name, IFNULL(cellphone,homephone) FROM emp_details;--It will chk and take cellphone if it is there (thats mean homephone is null ok) and if cellphone is null then it will take homephone ok)"
   ]
  },
  {
   "cell_type": "markdown",
   "metadata": {},
   "source": []
  },
  {
   "cell_type": "code",
   "execution_count": null,
   "metadata": {},
   "outputs": [],
   "source": []
  },
  {
   "cell_type": "markdown",
   "metadata": {},
   "source": [
    " # Top 2 record for country spain from customer table by using ms acess or sql server"
   ]
  },
  {
   "cell_type": "markdown",
   "metadata": {},
   "source": [
    "SELECT TOP 2 * FROM Customers\n",
    "WHERE Country = 'Spain';"
   ]
  },
  {
   "cell_type": "markdown",
   "metadata": {},
   "source": [
    " # Top 3 records from customer table particularly for brazil by using my sql"
   ]
  },
  {
   "cell_type": "code",
   "execution_count": null,
   "metadata": {},
   "outputs": [],
   "source": [
    "select * from Customers\n",
    "WHERE Country = 'Brazil'\n",
    "LIMIT 3;\n",
    "SELECT * FROM Customers\n",
    "WHERE Country = 'Brazil'\n",
    "LIMIT 3\n",
    "\n",
    "select * from customers\n",
    "where country='Australia'\n",
    "LIMIT 2"
   ]
  },
  {
   "cell_type": "code",
   "execution_count": null,
   "metadata": {},
   "outputs": [],
   "source": [
    "select top 2 * from customers;\n",
    "select * from customers\n",
    "LIMIT 3;\n",
    "\n",
    "Extracting 1st and last record from tabel\n",
    "(select * from customers ORDER BY CustomerID ASC LIMIT 1)\n",
    "UNION\n",
    "(select * from Customers ORDER BY CustomerID DESC LIMIT 1)\n",
    "\n",
    "select top 2 * from customers\n",
    "WHERE country  = 'Germany';\n",
    "\n",
    "SELECT TOP 3 * from customers\n",
    "WHERE Country = 'France';\n",
    "\n",
    "select * from customers\n",
    "WHERE Country = 'Spain'\n",
    "LIMIT 2\n",
    "\n",
    "COUNTING ALL ROWS FROM PRODUCT TABLE  WHERE  PRICE =18\n",
    "select count(*) from products--counting rows\n",
    "where price =18;\n",
    "\n",
    "find product with max price which start wid name 's' from products table\n",
    "\n",
    "select product, price as Max_Price from products table where price = (select max(price) from products where product like 's%')\n",
    "\n",
    "\n",
    "provide Name of product with maximum price which ends with 's' having 5 characters\n",
    "select product, price as Max_Price from products where price = (select max(price) from products where product \n",
    "like '____s');\n",
    "\n",
    "\n",
    "\n",
    "SELECT person, IFNULL(cellnumber,homenumber)phone from customers;\n",
    "\n",
    "SELECT COUNT(*) FROM Employees WHERE emp_age>32;"
   ]
  },
  {
   "cell_type": "markdown",
   "metadata": {},
   "source": [
    "# some basic queries(including mysql)javapoint"
   ]
  },
  {
   "cell_type": "code",
   "execution_count": null,
   "metadata": {},
   "outputs": [],
   "source": [
    "SELECT ALL ROWS FROM EMPLOYEE TABLE WHERE EMP_AGE GREATER THAN 32\n",
    "COUNT FUNCTION\n",
    "\n",
    "SELECT COUNT(*) from employees where emp_age>32;\n",
    "SELECT COUNT(DISTINCT emp_name) from employees;\n",
    "SELECT COUNT(empname) from employees;\n",
    "\n",
    "SELECT ALL ROWS FROM EMPLOYEE TABLE WHERE Country is Germany\n",
    "select count(*) from employees where country like 'g%';\n",
    "\n",
    "AVG FUNCTION \n",
    "\n",
    "select avg(price) from products;\n",
    "\n",
    "provide avg price of products start with 'b'\n",
    "select avg(price) as Average_Price from employee where product like 'b%';\n",
    "\n",
    "select avg(price) from products where price >=20; use here <,>,>=,<=,=,<>,between,like\n",
    "\n",
    "SUM\n",
    "select sum(quantity) from orderdetails;\n",
    "select sum(quantity) from orderdetails where quanity <=23\n",
    "SELECT count(Quantity) from orderdetails where Quantity >20;\n",
    "SELECT max(Quantity),productID from orderdetails\n",
    "select sum(quantity) from orderdetails where quantity between 10 and 20;\n",
    "MIN\n",
    "finding name of employee with minimum salary\n",
    "select name, salary as min_salary from employee11 where salary = (select min(salary) from employee11);\n",
    "\n",
    "finding name of employee with maximum salary\n",
    "select name, salary as max_salary from employee11 where salary = (select max(salary) from employee11);\n",
    "\n",
    "select min(emp_sal) from employee;\n",
    "\n",
    "select min(emp_sal) from employees \n",
    "where emp_age >=32 and emp_age<=40;\n",
    "\n",
    "agewise min sal\n",
    "select emp_age, min(income) as lowst_income from employees group by emp_age;\n",
    "\n",
    "similarly wid MAX\n",
    "\n",
    "select city, min(income) as min_income from employees \n",
    "group by city \n",
    "having min(income)>15000;\n",
    "select city, min(income)as lowest_income from employees \n",
    "group by city\n",
    "having min(income)>14000;"
   ]
  },
  {
   "cell_type": "code",
   "execution_count": null,
   "metadata": {},
   "outputs": [],
   "source": []
  },
  {
   "cell_type": "markdown",
   "metadata": {},
   "source": [
    "# d/b CHAR AND VARCHAR"
   ]
  },
  {
   "cell_type": "code",
   "execution_count": null,
   "metadata": {},
   "outputs": [],
   "source": [
    "CHAR IS USED TO DEFINE THE FIXED LENGTH OF TABLE AND COLUMN\n",
    "THE LENGTH VALUE COULD BE IN THE RANGE OF 1-255\n",
    "while VARCHAR is used to adjust the length as required(include number & text in quotes)"
   ]
  },
  {
   "cell_type": "markdown",
   "metadata": {},
   "source": [
    "# HASH TABLE"
   ]
  },
  {
   "cell_type": "code",
   "execution_count": null,
   "metadata": {},
   "outputs": [],
   "source": [
    "Are in-memory table used for high speed temporary storage.Tt do not support AUTO_INCREMENT"
   ]
  },
  {
   "cell_type": "markdown",
   "metadata": {},
   "source": [
    "# what are constraints and its type"
   ]
  },
  {
   "cell_type": "code",
   "execution_count": null,
   "metadata": {},
   "outputs": [],
   "source": [
    "constraints are the set of rules which  enforced on the data column of the table\n",
    "2 type of constraints\n",
    "column level constraints=constraints apply on the column\n",
    "table level constraints = constraints apply on the table\n",
    "\n",
    "AUTO_INCREMENT=add a value to the column automatically wen a new row is added to a table\n",
    "\n",
    "primary key=uniquely identifies rows in the table.Do not contain null values,It is Unique(by default).\n",
    "It can be apply on  2 column.\n",
    "There can be 1 P.K for one table but primary key can have multiple columns.\n",
    "\n",
    "foreign key=It maintain the relatonship between 2 tables.primary key column in one table(parent) is foreign key in another table(child)\n",
    "It is the field or a group of field in one table with reference to primary in another table\n",
    "\n",
    "Default null=allow column to contain null values\n",
    "\n",
    "not null =  ensure that column do not contain any null value\n",
    "\n",
    "unique=ensures that all the value in the column must be unique or diferent.It can contain or allow null values\n",
    "\n",
    "check = ensure that value contain in column meet certain condition.Eg= check age>18\n",
    "\n",
    "Default = It specify the dafault value for column when no value provided by user\n",
    "\n",
    "Index = Create and retriev data from the table very fast\n"
   ]
  },
  {
   "cell_type": "code",
   "execution_count": null,
   "metadata": {},
   "outputs": [],
   "source": [
    "WHAT IS DATA Integrity"
   ]
  },
  {
   "cell_type": "code",
   "execution_count": null,
   "metadata": {},
   "outputs": [],
   "source": [
    "Accuracy of data\n",
    "Consistency of data"
   ]
  },
  {
   "cell_type": "code",
   "execution_count": null,
   "metadata": {},
   "outputs": [],
   "source": [
    "SQL QUERY TO FIND CURRENT DATE"
   ]
  },
  {
   "cell_type": "code",
   "execution_count": null,
   "metadata": {},
   "outputs": [],
   "source": [
    "select getdate();"
   ]
  },
  {
   "cell_type": "code",
   "execution_count": null,
   "metadata": {},
   "outputs": [],
   "source": [
    "NAME TYPE OF JOINS"
   ]
  },
  {
   "cell_type": "code",
   "execution_count": null,
   "metadata": {},
   "outputs": [],
   "source": [
    "inner join, left join,right join,outer join,cross join,self join,natural join"
   ]
  },
  {
   "cell_type": "code",
   "execution_count": null,
   "metadata": {},
   "outputs": [],
   "source": [
    "WHAT ARE ENTITIES"
   ]
  },
  {
   "cell_type": "code",
   "execution_count": null,
   "metadata": {},
   "outputs": [],
   "source": [
    "A person, thing,pace in the real world about which data can be stored in database in the form of table is called entities\n",
    "A bank database has a customer table to store customer information"
   ]
  },
  {
   "cell_type": "code",
   "execution_count": null,
   "metadata": {},
   "outputs": [],
   "source": [
    "NORMALIZATION"
   ]
  },
  {
   "cell_type": "code",
   "execution_count": null,
   "metadata": {},
   "outputs": [],
   "source": [
    "It is the process of organizing data to avoid duplication and redundancy"
   ]
  },
  {
   "cell_type": "code",
   "execution_count": null,
   "metadata": {},
   "outputs": [],
   "source": [
    "DIFFERENCE BETWEEN TRUNCATE AND DROP"
   ]
  },
  {
   "cell_type": "code",
   "execution_count": null,
   "metadata": {},
   "outputs": [],
   "source": [
    "TRUNCATE=removes all the records from the table permanently and not the table structure\n",
    "drop = removing entire table or delete entire table from the database "
   ]
  },
  {
   "cell_type": "code",
   "execution_count": null,
   "metadata": {},
   "outputs": [],
   "source": [
    "WHAT IS SUBQUery"
   ]
  },
  {
   "cell_type": "code",
   "execution_count": null,
   "metadata": {},
   "outputs": [],
   "source": [
    "subquery is basically query inside another query where query is used to retriev data back from database\n",
    "subquery is executed first and result of the subquery is passed on to the query\n",
    "select first_name, last_name from employees where addressCode(select addressCode from office where country  =\"India\")"
   ]
  },
  {
   "cell_type": "code",
   "execution_count": null,
   "metadata": {},
   "outputs": [],
   "source": [
    "HOW TO SELECT NUMBER OF RECORDS FROM TABLE"
   ]
  },
  {
   "cell_type": "code",
   "execution_count": null,
   "metadata": {},
   "outputs": [],
   "source": [
    "select count(*) from table"
   ]
  },
  {
   "cell_type": "code",
   "execution_count": null,
   "metadata": {},
   "outputs": [],
   "source": [
    "HOW YOU INSERT NULL VALUE IN A COLUMN WHILE INSERTING THE DATA"
   ]
  },
  {
   "cell_type": "code",
   "execution_count": null,
   "metadata": {},
   "outputs": [],
   "source": [
    "we will use null keyword in the value constraint"
   ]
  },
  {
   "cell_type": "code",
   "execution_count": null,
   "metadata": {},
   "outputs": [],
   "source": [
    "DIFFERENCE BETWEEN BETWEN AND IN OPERATOR"
   ]
  },
  {
   "cell_type": "code",
   "execution_count": null,
   "metadata": {},
   "outputs": [],
   "source": [
    "BETWEEN =used to display rows based on the range of values\n",
    "select * from employees where salary between 10000 and 40000\n",
    "\n",
    "IN = returns rows based on the specific set of values\n",
    "select first_name, salary from employees where city IN(\"Gurgaon\",\"Delhi\",\"Lucknow\")"
   ]
  },
  {
   "cell_type": "code",
   "execution_count": null,
   "metadata": {},
   "outputs": [],
   "source": [
    "WHAT ARE RECURSIVE STORED PROCEDURE"
   ]
  },
  {
   "cell_type": "code",
   "execution_count": null,
   "metadata": {},
   "outputs": [],
   "source": [
    "recursive procedure which call by itself until reach certain condition\n",
    "it helps the programmer to use the same set of code n number of times."
   ]
  },
  {
   "cell_type": "code",
   "execution_count": null,
   "metadata": {},
   "outputs": [],
   "source": [
    "DIFFERENT BETWEEN WHERE AND HAVING CLAUSE"
   ]
  },
  {
   "cell_type": "code",
   "execution_count": null,
   "metadata": {},
   "outputs": [],
   "source": [
    "where clause can be used to filter rows and it works on the row's data\n",
    "having clause is work on aggregate function and is used after the group by clause\n",
    "aggregate function like sum,avg,count,max,min,product\n",
    "aggregate returns one value and can be applied on single column and multiple rows"
   ]
  },
  {
   "cell_type": "code",
   "execution_count": null,
   "metadata": {},
   "outputs": [],
   "source": [
    "WHAT ARE INTERSECT"
   ]
  },
  {
   "cell_type": "code",
   "execution_count": null,
   "metadata": {},
   "outputs": [],
   "source": [
    "It fetch the common records from the two tables\n",
    "eg=select employee_id from employees table intersect select employee_id from Customers table"
   ]
  },
  {
   "cell_type": "code",
   "execution_count": null,
   "metadata": {},
   "outputs": [],
   "source": [
    "ALIAS IS THE NAME GIVEN TO ANY TABLE OR COLUMN"
   ]
  },
  {
   "cell_type": "code",
   "execution_count": null,
   "metadata": {},
   "outputs": [],
   "source": [
    "WHICH OPERATOR FOR PATTERN MATCHING"
   ]
  },
  {
   "cell_type": "code",
   "execution_count": null,
   "metadata": {},
   "outputs": [],
   "source": [
    "LIKE operator\n",
    "\"a%\"=start with a and can have any number of character\n",
    "\"%a\"=end with a\n",
    "\"c%n\"= start with c and ends with n\n",
    "'__j'= total 3 character and ends with j \n",
    "'ger%'= start with ger\n",
    "'lon__n' start with lon and end with n\n",
    "'%cv%'= 'cv' can be anywhere in text"
   ]
  },
  {
   "cell_type": "code",
   "execution_count": null,
   "metadata": {},
   "outputs": [],
   "source": [
    "HOW TO FIND UNIQUE RECORDS"
   ]
  },
  {
   "cell_type": "code",
   "execution_count": null,
   "metadata": {},
   "outputs": [],
   "source": [
    "select DISTINCT emp_name from employees;"
   ]
  },
  {
   "cell_type": "markdown",
   "metadata": {},
   "source": [
    "# how to fetch first 5 characters from firstname from emplyees table"
   ]
  },
  {
   "cell_type": "code",
   "execution_count": null,
   "metadata": {},
   "outputs": [],
   "source": [
    "select first_name, substr(first_name, 1,5)as new_Name from employees ;\n",
    "select first_name, RIGHT(first_name, 5)as new_Name from employees;"
   ]
  },
  {
   "cell_type": "markdown",
   "metadata": {},
   "source": [
    "# Employees hired in n and last month"
   ]
  },
  {
   "cell_type": "code",
   "execution_count": null,
   "metadata": {},
   "outputs": [],
   "source": [
    "MYSQL SERVER\n",
    "\n",
    "getdate()=to find today date\n",
    "consider employee table==id FirstName LastName Gender Salary Hiredate\n",
    "SELECT *,DATEDIFF(MONTH,Hiredate,GETDATE())AS Diff\n",
    "FROM Employees\n",
    "ORDER BY Hiredate desc;\n",
    "\n",
    "HRED IN LAST 3 MONTHS\n",
    "select *,DATEDIFF(MONTH,Hiredate,GETDATE())AS Diffmonth\n",
    "FROM Employees\n",
    "WHERE DATEDIFF(MONTH,Hiredate,GETDATE()) BETWEEN 1 AND 3\n",
    "ORDER BY Hiredate desc;\n",
    "\n",
    "we can use current_date() function instead of getdate() in mysql, getdate() is for sqlserver\n",
    "\n",
    "HIRED IN LAST 30 DAYS\n",
    "SELECT *,DATEDIFF(DAY,Hiredate,GETDATE())AS Diff\n",
    "FROM Employees\n",
    "WHERE DATEDIFF(DAY,Hiredate,GETDATE()) BETWEEN 1 AND 30 DAYS\n",
    "ORDER BY Hiredate;\n",
    "\n",
    "HIRED IN LAST 1 YEAR\n",
    "SELECT *, DATEDIFF(YEAR, Hiredate,GETDATE()) AS Diff\n",
    "FROM Employees\n",
    "WHERE DATEDIFF(YEAR,Hiredate,GETDATE())BETWEEN 1 AND 1\n",
    "ORDER BY Hiredate;\n",
    "\n",
    "HIRED IN LAST 2 YEAR\n",
    "BETWEEEN 0 AND 1"
   ]
  },
  {
   "cell_type": "markdown",
   "metadata": {},
   "source": [
    "# FIND DEPARTMENT NAME WITH HIGHEST NUMBER OF EMPLOYEES"
   ]
  },
  {
   "cell_type": "code",
   "execution_count": null,
   "metadata": {},
   "outputs": [],
   "source": [
    "HERE,We use 2 Tables Departments==DepartmentID,DepartmentName\n",
    "AND TABLE EMPLOYEES==EmployeeID,EmployeeName,DepartmentID\n",
    "\n",
    "SELECT Departments.DepartmentName,Count(Employees.EmployeeeName)AS EmployeeCount\n",
    "FROM Departments INNER JOIN Employees\n",
    "ON Departments.DepartmentID = Employees.DepartmentID\n",
    "GROUP BY DepartmentName\n",
    "ORDER BY EmployeeCount desc;\n",
    "\n",
    "IF we do,\n",
    "SELECT TOP 1 Departments.DepartmentName,Count(Employees.EmployeeeName)AS EmployeeCount\n",
    "FROM Departments INNER JOIN Employees\n",
    "ON Departments.DepartmentID = Employees.DepartmentID\n",
    "GROUP BY DepartmentName\n",
    "ORDER BY EmployeeCount desc;\n",
    "\n",
    "NOW ,WE ONLY WANT DEPARTMENT NAME WITH HIGHEST NUMBR OF EMPLOYEES(DO NOT DISPLAY EMPLOYEES NUMBER)\n",
    "\n",
    "SELECT TOP 1 Departments.DepartmentName\n",
    "FROM Departments INNER JOIN Employees\n",
    "ON Departments.DepartmentID = Employees.DepartmentID\n",
    "GROUP BY DepartmentName\n",
    "ORDER BY COUNT(*) DESC OR COUNT(Employees.EmployeeName) DESC;"
   ]
  },
  {
   "cell_type": "markdown",
   "metadata": {},
   "source": [
    "# Convert data from rows to colmns "
   ]
  },
  {
   "cell_type": "code",
   "execution_count": null,
   "metadata": {},
   "outputs": [],
   "source": [
    "Name     Value  ID\n",
    "Name      Adam    1\n",
    "Gendar     Male    1\n",
    "Salary    50000   1\n",
    "\n",
    "SELECT ID,\n",
    "Max(CASE\n",
    "WHEN Name = 'Name' THEN Value ELSE \" \" END) as Name,\n",
    "\n",
    "Max(CASE\n",
    "WHEN Name = 'Gender' THEN Value ELSE \" \"END) as Gender,\n",
    "\n",
    "Max(CASE\n",
    "WHEN Name = 'Salary' THEN Value else \" \" END) AS Salary\n",
    "\n",
    "from employees\n",
    "GROUP BY ID;"
   ]
  },
  {
   "cell_type": "code",
   "execution_count": null,
   "metadata": {},
   "outputs": [],
   "source": [
    "Question = Amount category as column \n",
    "amount up to $1000 having level of under 1000\n",
    "amount between $1000 &$5000 having level of under 5000\n",
    "amount between $5000 to $10000 having level of under 10000\n",
    "\n",
    "answer = \n",
    "select salesID, salesDate,Amount,\n",
    "case when Amount <1000 then 'Under1K'\n",
    "when Amount <5000 then 'Under 5K'\n",
    "when Amount <10000 then 'Under 10K'\n",
    "else  '10K or more'\n",
    "end as 'Amount Category'\n",
    "from sales;"
   ]
  },
  {
   "cell_type": "markdown",
   "metadata": {},
   "source": [
    "# How to remove duplicate value from tables"
   ]
  },
  {
   "cell_type": "code",
   "execution_count": null,
   "metadata": {},
   "outputs": [],
   "source": [
    "      EmployeeID                FirstName               LastName          Phone Email           Email\n",
    "1      1                           Adam                    owens            344756364          adam@demo.com\n",
    " 2     2                           Mark                  Wills              2578654365        mark@demo.com\n",
    " 3     3                          Natasha                Lee               5428765423            natasha@demo.com\n",
    " 4     5                          Adam                Owens                4538976554         adam@demo.com\n",
    " 5     4                          Rley                   Jones            123587553              rhly@demo.com\n",
    "6      6                          Natasha               Lee                  54328765             natasha@demo.com\n",
    "        \n",
    "        \n",
    "1)SELECT FirstName, LastName,Count(*)\n",
    "from employees\n",
    "GROUP BY FirstName,LastName\n",
    "\n",
    "\n",
    "\n",
    "2)SELECT FirstName,LastName,count(*) as count\n",
    "from employees\n",
    "GROUP BY FirstName, LastName\n",
    "HAVING COUNT(*)>1;\n",
    "\n",
    "it returns first and last name which occur more than 1 times which means they r also duplicate\n",
    "\n",
    "\n",
    "SO FROM THE TABLE,first use order by clause\n",
    "\n",
    "SELECT * FROM Employees\n",
    "ORDER BY FirstName,LastName;\n",
    "\n",
    "\n",
    "I will keep the record which has the hightest EmployeeeID So I will keep (5 and 6) EmployeeID\n",
    "DELETE FROM Employees\n",
    "WHERE EmployeeID NOT IN(\n",
    "SELECT MAX(EmployeeID)\n",
    "FROM Employees\n",
    "GROUP BY FirstName, LastName);\n",
    "\n",
    "SELECT * FROM Employees;\n",
    "\n",
    "\n",
    "\n"
   ]
  },
  {
   "cell_type": "markdown",
   "metadata": {},
   "source": [
    "# ORDER BY MONTH IN AN YEAR"
   ]
  },
  {
   "cell_type": "code",
   "execution_count": null,
   "metadata": {},
   "outputs": [],
   "source": [
    "MonthName     Sales\n",
    "it we do\n",
    "SELECT * FROM Employees\n",
    "ORDER BY MonthName;--it will sort as april august,december means in alphabet order\n",
    "We want in Jan,feb,march etc..ok\n",
    "\n",
    "WAT WE DO IS\n",
    "\n",
    "SELECT * FROM Sales\n",
    "ORDER BY Case WHEN MonthName = 'January' Then 1\n",
    "when monthname  ='Febuary' then 2\n",
    "when monthname  ='March' then 3\n",
    "when monthname = 'April' then 4..and so on\n",
    "ELSE NULL end;\n",
    "\n",
    "2)\n",
    "date            sales\n",
    "2018-01-01       3000\n",
    "2018-11-19     1000\n",
    ".....            ....\n",
    "\n",
    "We have to convert this date to monthname and then put in order\n",
    "SELECT DATENAME(MONTH, date) AS Month_Name, MONTH(date) AS Month,Sales\n",
    "FROM Employees\n",
    "ORDER BY MONTH(date);\n",
    "\n",
    "SELECT DATENAME(MONTH, date) AS Month_Name,Sales\n",
    "FROM Employees\n",
    "ORDER BY MONTH(date);"
   ]
  },
  {
   "cell_type": "code",
   "execution_count": null,
   "metadata": {},
   "outputs": [],
   "source": [
    "\n",
    "\n",
    "WHAT IS A VIEW"
   ]
  },
  {
   "cell_type": "code",
   "execution_count": null,
   "metadata": {},
   "outputs": [],
   "source": [
    "A view is a virtual table which consists of subset of data contained in a table.It can have data of one or more\n",
    "table combined and it takes less memory to store\n"
   ]
  },
  {
   "cell_type": "code",
   "execution_count": null,
   "metadata": {},
   "outputs": [],
   "source": [
    "DIFFERENT BETWEEN PRIMARY KEY AND UNIQUE KEY"
   ]
  },
  {
   "cell_type": "code",
   "execution_count": null,
   "metadata": {},
   "outputs": [],
   "source": [
    "ONLY 1 primary key in a row,canot accept null value\n",
    "there can be multiple unique in a row,can accept one nul value"
   ]
  },
  {
   "cell_type": "code",
   "execution_count": null,
   "metadata": {},
   "outputs": [],
   "source": [
    "TYPES OF DATATYPE=char,varchar,text,int,float,double,decimal,tinyint,datetime,date,time,year,bool\n",
    "decimal(3,2)=it means overall 3 and 2 after decimal ok\n",
    "decimal(5,2) = total can be 5 but 2 after the deciimal eg=190.60,80.40,73.70"
   ]
  },
  {
   "cell_type": "code",
   "execution_count": null,
   "metadata": {},
   "outputs": [],
   "source": [
    "CREATE AND DROP DATABASE"
   ]
  },
  {
   "cell_type": "code",
   "execution_count": null,
   "metadata": {},
   "outputs": [],
   "source": [
    "show databases;\n",
    "create database if not exists storage24;\n",
    "show databases;\n",
    "use storage24;\n",
    "drop database if exists storage24;\n",
    "use storage25;\n",
    "show tables;---------showing table in storage25 database"
   ]
  },
  {
   "cell_type": "code",
   "execution_count": null,
   "metadata": {},
   "outputs": [],
   "source": [
    "CREATE TABLE WITH PRIMARY AND FOREIGN KEY AND ALTER TABLE FOR PRIMARY N FOREIGN KEY,applying multiple P.K and F.K"
   ]
  },
  {
   "cell_type": "code",
   "execution_count": null,
   "metadata": {},
   "outputs": [],
   "source": [
    "use storage24;\n",
    "create table tasks(\n",
    "task_ID int not null,\n",
    "taskName varchar(45) not null ,\n",
    "start_date date unique,-------------unique constraint can have null values, ok\n",
    "due_date date not null\n",
    "priority tinyint not null,\n",
    "age int,\n",
    "PRIMARY KEY(task_ID)\n",
    ");\n",
    "create table Orders(\n",
    "Order_ID int not null,\n",
    "task_ID int not null,\n",
    "productName varchar(40) unique,\n",
    "price int not null,\n",
    "customer_Name varchar(56) not null,\n",
    "PRIMARY KEY(Order_ID),\n",
    "FOREIGN KEY(task_ID)REFERENCES tasks(task_ID)  "
   ]
  },
  {
   "cell_type": "code",
   "execution_count": null,
   "metadata": {},
   "outputs": [],
   "source": [
    "PRIMARY KEY----"
   ]
  },
  {
   "cell_type": "code",
   "execution_count": null,
   "metadata": {},
   "outputs": [],
   "source": [
    "ABOUT PRIMARY KEY\n",
    "\n",
    "use storage24;\n",
    "create table users(\n",
    "user_ID int auto_increment not null,\n",
    "userName varchar(56) not null,\n",
    "password varchar(67) not null,\n",
    "email varchar(70),\n",
    "salary int unique,\n",
    "PRIMARY KEY(user_ID)\n",
    ");\n",
    "create table roles(\n",
    "roll_ID int auto_increment not null,\n",
    "name varchar(60) not null,\n",
    "subject varchar(35) unique,\n",
    "PRIMARY KEY(roll_ID)\n",
    ");\n",
    "create table user_roles(\n",
    "user_ID int not null,\n",
    "roll_ID int not null,\n",
    "height decimal(5,2) unique,\n",
    "address varchar(100),\n",
    "PRIMARY KEY(user_ID, roll_ID),\n",
    "FOREIGN KEY(user_ID) REFERENCES users(user_ID),\n",
    "FOREIGN KEY(roll_ID) REFERENCES roles(roll_ID)\n",
    ");\n"
   ]
  },
  {
   "cell_type": "code",
   "execution_count": null,
   "metadata": {},
   "outputs": [],
   "source": [
    "SOMETIMES TO ADD 2 COLUMN IN PRIMARY KEY WE USE\n",
    "\n",
    "CREATE table persons(\n",
    "id int auto_increment not null,\n",
    "Last_name varchar(170) not null,\n",
    "first_name varchar(79),\n",
    "CONSTRAINT PK_person PRIMARY KEY(id, Last_name)\n",
    ");"
   ]
  },
  {
   "cell_type": "code",
   "execution_count": null,
   "metadata": {},
   "outputs": [],
   "source": [
    "NOW ADDING PRIMARY KEY TO ALREADY EXISTS TABLE(suppose employees table, we using P.K ON Emp_ID)\n",
    "when you create any column of table(suppose table1) as unique and not null then that column will automatically show primary key\n",
    "when use command 'decribe' for that table(suppose table1), ok \n",
    "\n",
    "ALTER table Employees\n",
    "ADD PRIMARY KEY(Emp_ID);--while adding primary key remember EMP_ID in Employees table should not contain auto_increment and there should be no\n",
    "already existing primary key on any column bcoz,there can be only one primary key for the table ,ok\n",
    "\n",
    "NOW ADDING TWO PRIMARY KEY TO ALREADY EXISTS TABLE(suppose employees table, we using P.K ON Emp_ID, and Last_Name)\n",
    "ALTER table Employees\n",
    "ADD CONSTRAINT PK_person PRIMARY KEY(Emp_ID, Last_Name)==both Emp_ID and Last_Name should be unique and not null ok"
   ]
  },
  {
   "cell_type": "code",
   "execution_count": null,
   "metadata": {},
   "outputs": [],
   "source": [
    "DROP SINGLE AND DOUBLE PRIMARY KEY\n",
    "ALTER table Employees\n",
    "DROP PRIMARY KEY;\n",
    "we can use drop primary key above when we created primary key for 2 column through alter table\n",
    "eg\n",
    "alter table xyz\n",
    "add constraint pk_person primary key(emp_id,age);\n",
    "\n",
    "now we can drop primary key\n",
    "\n",
    "alter table xyz\n",
    "drop primary key;\n",
    "\n",
    "desc xyz\n"
   ]
  },
  {
   "cell_type": "code",
   "execution_count": null,
   "metadata": {},
   "outputs": [],
   "source": [
    "FOREIGN KEY"
   ]
  },
  {
   "cell_type": "code",
   "execution_count": null,
   "metadata": {},
   "outputs": [],
   "source": [
    "FOR APPLY FOREIGN KEY\n",
    "suppose\n",
    "\n",
    "create table orders(\n",
    "order_ID int auto_increment not null,\n",
    "person_ID int not null,\n",
    "last_name varchar(100) not null,\n",
    "salary int unique,\n",
    "PRIMARY KEY(order_ID),\n",
    "FOREIGN KEY(person_ID) REFERENCES person(person_ID)\n",
    ");"
   ]
  },
  {
   "cell_type": "code",
   "execution_count": null,
   "metadata": {},
   "outputs": [],
   "source": [
    "ADDING FOREIGN KEY ON ALREADY EXISTING TABLE ORDERS(on personID)\n",
    "ALTER table Orders\n",
    "ADD FOREIGN KEY(personID) REFERENCES person(personID)\n",
    "\n",
    "ADDING FOREIGN ON MULTIPLE COLUMNS ON THE ORDERS TABLE\n",
    "ALTER table orders\n",
    "ADD CONSTRAINT FK_Person FOREIGN KEY(personID) REFERENCES person(personID)"
   ]
  },
  {
   "cell_type": "code",
   "execution_count": null,
   "metadata": {},
   "outputs": [],
   "source": [
    "DROP FOREIGN KEY\n",
    "\n",
    "ALTER TABLE orders\n",
    "DROP CONSTRAINT FK_personorder;"
   ]
  },
  {
   "cell_type": "code",
   "execution_count": null,
   "metadata": {},
   "outputs": [],
   "source": [
    "create table patient(\n",
    "Name varchar(50) not null,\n",
    "age int unique,\n",
    "Height(3,2) not null,\n",
    "weight decimal(4,2)\n",
    ");"
   ]
  },
  {
   "cell_type": "code",
   "execution_count": null,
   "metadata": {},
   "outputs": [],
   "source": [
    "BACKUP DATABASE\n",
    "\n",
    "backup database testDB\n",
    "to file = 'jhjhj\\jhjhj\\jkj';\n",
    "\n",
    "BACK SOME PART OF DATABASE STILL THE LAST FULL BACKUP\n",
    "\n",
    "backup database testDB\n",
    "to file ='jhj\\hghg\\hjh'\n",
    "WITH DIFFERENTIAL;"
   ]
  },
  {
   "cell_type": "code",
   "execution_count": null,
   "metadata": {},
   "outputs": [],
   "source": [
    "CREATING TABLE FROM ANOTHER TABLE\n",
    "create table Customers1 as\n",
    "select Custome_id, City,Country\n",
    "from Customers\n",
    "WHERE Country = \"Germany\";\n",
    "remember dob date (it is in yyyy-mm-dd format)\n",
    "example below=\n",
    "insert into bank(client_id,user_id,dob,salary,city,vehicle)\n",
    "values(4,104,'1992-10-25',68000,'guior','maruib');"
   ]
  },
  {
   "cell_type": "code",
   "execution_count": null,
   "metadata": {},
   "outputs": [],
   "source": [
    "NOT NULL CONSTRAINT"
   ]
  },
  {
   "cell_type": "code",
   "execution_count": null,
   "metadata": {},
   "outputs": [],
   "source": [
    "NOT NULL:- constraint-It can be added while creating table and if it is not there then we can alter\n",
    "table and modify any column to 'not null' constraint \n",
    "eg=\n",
    "    alter table person\n",
    "    modify column lastname varchar(50) not null,\n",
    "    modify column  address char(255) not null;\n",
    "    desc person;\n",
    "   \n",
    "NOTE: we can not add or drop 'not null' constraint\n",
    "    "
   ]
  },
  {
   "cell_type": "code",
   "execution_count": null,
   "metadata": {},
   "outputs": [],
   "source": [
    "UNIQUE CONSTRAINT(It may already there or i am adding it or dropping it from table)"
   ]
  },
  {
   "cell_type": "code",
   "execution_count": null,
   "metadata": {},
   "outputs": [],
   "source": [
    "ALTER TABLE FOR UNIQUE CONSTRAINT\n",
    "\n",
    "SUPPOSE FROM THE TABLE USERS , WE WANT columns id and salary to be unique, then we use-\n",
    "when we are adding unique to only one column named 'ID' in users table\n",
    "alter table users\n",
    "add unique(id);\n",
    "\n",
    "When we are adding unique constraint to 2 columns of users table, then-\n",
    "alter table person\n",
    "Add CONSTRAINT uc_person UNIQUE(id, salary);\n",
    "NOTE: we can drop the UNIQUE constraint in pair suppose-\n",
    "ALTER table persons \n",
    "drop index uc_person(name of unique constraint)and single unique constraint can also be drop\n",
    "OR \n",
    "alter table person11\n",
    "add unique(salary),\n",
    "add unique(email);\n",
    "NOW DROPPING unique constraint here, \n",
    "alter table person11\n",
    "drop index salary,\n",
    "drop index email;\n",
    "\n",
    "Alter table persons\n",
    "modify address varchar(100)unique TO modify address varchar(80)- it will only modify varchar(100)to 80 but unique consraint\n",
    "will remain there ok,so we have to drop the entire column by using alter table persons drop column address\n",
    "and reasign column address without unique constraint.\n",
    "\n",
    "OR\n",
    "ADD UNIQUE INDEX username_unique(username ASC)\n",
    "ADD UNIQUE INDEX email_unique(email ASC)\n",
    "\n",
    "See below Table,\n",
    "use Employeedb;\n",
    "create table vol_1(\n",
    "id int not null auto_increment unique,\n",
    "Name varchar(30) not null,\n",
    "address varchar(40) not null,\n",
    "phone varchar(20) default '95606617380',\n",
    "salary int check(salary>10000),\n",
    "primary key(id),\n",
    "unique(address)\n",
    ");\n",
    "TO DROP UNIQUE constraint from here on address, we use,\n",
    "alter table vol_1\n",
    "drop index address;---here we use name of column on which unique constraint is applied, like in this case we have \n",
    "column named 'address' ok\n"
   ]
  },
  {
   "cell_type": "code",
   "execution_count": null,
   "metadata": {},
   "outputs": [],
   "source": [
    "use storage24;\n",
    "create table Suppliers(\n",
    "supplier_id int,\n",
    "Name varchar(70) not null,\n",
    "phone varchar(20) not null unique,\n",
    "Address varchar(100) not null,\n",
    "salary int,\n",
    "primary key(supplier_id),\n",
    "CONSTRAINT uc_person unique(Name, Address)---this kind of unique constraint can be drop \n",
    ");\n",
    "alter table suppliers\n",
    "drop index phone;\n",
    "desc suppliers;\n",
    "\n",
    "alter table suppliers\n",
    "drop index uc_person;\n",
    "desc suppliers;\n",
    "show index from suppliers;"
   ]
  },
  {
   "cell_type": "code",
   "execution_count": null,
   "metadata": {},
   "outputs": [],
   "source": [
    "use storage24;\n",
    "Alter table Suppliers\n",
    "modify supplier_id int auto_increment;----we have added auto_increment to supplier_id\n",
    "this auto_increment automaticaly add value wen we insert value to table\n",
    "NOW\n",
    "\n",
    "insert into Suppliers(Name, phone,Address,salary)--see here we have not mention supplier_id bcoz it is auto_increment\n",
    "values('jai','9876356354','101,sanskriti,10A',45000);\n",
    "NOW USE\n",
    "show index from suppliers;\n",
    "desc suppliers\n",
    "\n",
    "NOW if you use\n",
    "alter table suppliers\n",
    "drop index uc_person ----- then it will remove niche wala unique(name, addres) and not which is on the phone column\n",
    "\n",
    "                                                                                "
   ]
  },
  {
   "cell_type": "code",
   "execution_count": null,
   "metadata": {},
   "outputs": [],
   "source": [
    "DEFAULT CONSTRAINT-add default value to the column of the table when user do not provide values to column"
   ]
  },
  {
   "cell_type": "code",
   "execution_count": null,
   "metadata": {},
   "outputs": [],
   "source": [
    "create table basic_info(\n",
    "person_id int,\n",
    "First_Name varchar(100) not null,\n",
    "Last_Name varchar(67) not null unique,\n",
    "salary int,\n",
    "City varchar(70) default 'Gurgaon',---but it can be dublicate here as no unique mention over here\n",
    "PRIMARY KEY(person_id)\n",
    ");\n",
    "\n",
    "Now wen we insert value suppose\n",
    "When  we given default value for column 'city' that is gurgaon then while entering records if you do not want to give value\n",
    "to city then do not mention 'city' column into insert wala statement ok,then it will show Gurgaon only, and\n",
    "if you wish to give any value then only give'city' column name to 'insert into' wala statement\n",
    "\n",
    " insert into basic_info(person_id,First_Name,Last_name,salary)\n",
    "values(05,'viraaz','Khan',45000);\n",
    "we haven't add column  City in insert so sql automatically provide city column value as 'Gurgaon' only, every time\n",
    "so when we insert value ,it will provide 'Gurgaon' only in City column\n",
    "but wen we use\n",
    "insert into basic_info(person_id,First_Name,Last_name,salary,city)\n",
    "values(05,'viraaz','Khan',null, 'Hisar');\n",
    "here, city name is provided so in city column it will show Hisar and not 'Gurgaon'\n",
    "now again we inserted\n",
    "insert into basic_info(person_id,First_Name,Last_name,salary,city)\n",
    "values(06,'viraaz','kalra',NULL, 'Hisar');\n",
    "here person_id is 06 bcoz it is primary key so value should be inserted differently everytime\n",
    "On First_Name  not null constraint is used so we cannot left it blank, \n",
    "but we can also insert same value in First_Name as unique constraint is not used, so we insert\n",
    "same Viraaz name here.\n",
    "On Last_Name not null and unique both constraint is used so either we can left it blank or insert same value\n",
    "so we  use 'Kalra' here\n",
    "on salary, no constraint is used so we can use same value for salary or  we can left  it as 'NULL value'"
   ]
  },
  {
   "cell_type": "code",
   "execution_count": null,
   "metadata": {},
   "outputs": [],
   "source": [
    "ADDING DEFAULT CONSTRAINT TO THE TABLE person(wen there is no default constraint on the table)\n",
    "ALTER table person\n",
    "alter column City SET DEFAULT 'Gurgaon';\n",
    "\n",
    "DROP DEFAULT CONSTRAINT FROM THE person table, WE USE\n",
    "ALTER table person\n",
    "alter  column City DROP DEFAULT;"
   ]
  },
  {
   "cell_type": "code",
   "execution_count": null,
   "metadata": {},
   "outputs": [],
   "source": [
    "INDEX CONSTRAINT"
   ]
  },
  {
   "cell_type": "code",
   "execution_count": null,
   "metadata": {},
   "outputs": [],
   "source": [
    "INDEX = It retrieve the data from the database very quickly.It speed up the queries.\n",
    "Updating a table takes more time with indexes then without\n",
    "create index inx_person\n",
    "on persons(Firstname);\n",
    "\n",
    "create index inx_person\n",
    "on persons(lastname, firstname);\n",
    "\n",
    "create unique index ind_person\n",
    "on person(salary);\n",
    "\n",
    "DROP\n",
    "alter table persons\n",
    "drop index inx_person;"
   ]
  },
  {
   "cell_type": "code",
   "execution_count": null,
   "metadata": {},
   "outputs": [],
   "source": [
    "CHECK CONSTRAINT"
   ]
  },
  {
   "cell_type": "markdown",
   "metadata": {},
   "source": [
    "##### Create table person12(\n",
    "person_id int,\n",
    "FirstName varchar(60) not null,\n",
    "LastName varchar(50) not null unique,\n",
    "phone varchar(15)                                                                    unique,\n",
    "price decimal(5,1) check(price>3000),\n",
    "age int check(age>18),\n",
    "city varchar(90) default 'Gurgaon',\n",
    "primary key(person_id)\n",
    ");\n",
    "OR\n",
    "create table person13(\n",
    "person_id int,\n",
    "name varchar(67) not null,\n",
    "phone varchar(20) unique,\n",
    "cost decimal(4,1),\n",
    "city varchar(50),\n",
    "primary key(person_id),\n",
    "CONSTRAINT chk_person check(cost>200 and city = 'Mumbai')\n",
    ");\n",
    "\n",
    "insert into person12(person_id,FirstName,LastName,phone,price,age)\n",
    "values(01,'jai','Tiwari','9087654387',4000.3,20);\n",
    "here we cannot give age less than 18 and price must be greater than 3000, ok\n",
    "ADDING CHECK CONSTRAINT TO TABLE WHICH DO NOT HAVE CHECK CONSTRAINT SUPPOSE TABLE PERSON12 DO NOT HAVE CHECK CONSTRAINT\n",
    "adding single check constraint\n",
    "alter table person12\n",
    "add check(age>18);\n",
    "\n",
    "adding check constraint on multiple column of person12 table\n",
    "alter table person12\n",
    "add constraint chk_person check(age>18 and price>3000);\n",
    "\n",
    "droping check constraint from table12\n",
    "alter table table12\n",
    "drop check chk_person\n",
    "NOTE: we can remove check constraint from the table when it is added in pair(wen it define below table while creating table)\n",
    "\n",
    "use Employeedb;\n",
    "create table household(\n",
    "item_id int auto_increment,\n",
    "soap varchar(20) not null unique,\n",
    "fruits varchar(40) not null,\n",
    "price decimal(4,1) unique check(price>200),\n",
    "country varchar(50) default 'Germany',\n",
    "city varchar(30) default null,\n",
    "primary key(item_id),\n",
    "unique(country)\n",
    ");\n",
    "here we cannot drop check constraint as there is no name of constraint , ok so there check constraint cannot be drop \n",
    "from 'country' column\n",
    "\n"
   ]
  },
  {
   "cell_type": "code",
   "execution_count": null,
   "metadata": {},
   "outputs": [],
   "source": [
    "AUTO_INCREMENT-It allows unique number to be generated automaticaly when a new record is inserted into a table.\n",
    "this is like primary key\n",
    "by mistake I have create table student with same three records\n",
    "\n",
    "insert into student(Name,height,subject)\n",
    "values('mahek','6.1','maths');--three times same\n",
    "so how we remove it see here\n",
    "remove from student where student_id = 3;\n",
    "\n",
    "ALTER\n",
    "alter table student\n",
    "auto_increment = 50;"
   ]
  },
  {
   "cell_type": "code",
   "execution_count": null,
   "metadata": {},
   "outputs": [],
   "source": [
    "use storage24;\n",
    "create table student(\n",
    "student_id int auto_increment not null unique,\n",
    "Name varchar(45) not null,\n",
    "height decimal(3,1),\n",
    "subject varchar(36) not null \n",
    ");\n",
    "here we have to include unique constraint when we use auto_increment otherwise it will show error if unique also there\n",
    "in other column"
   ]
  },
  {
   "cell_type": "code",
   "execution_count": null,
   "metadata": {},
   "outputs": [],
   "source": [
    "WORKING WITH DATES"
   ]
  },
  {
   "cell_type": "code",
   "execution_count": null,
   "metadata": {},
   "outputs": [],
   "source": [
    "Create table demotable(\n",
    "employee_id int auto_increment unique,\n",
    "emp_name varchar(90) not null unique,\n",
    "age int check(age>18),\n",
    "joiningdate date,\n",
    ");\n",
    "if joiningdate datatype is INT then we use 2019,2020,2012..etc\n",
    "'date' datatype means 'yyyy-mm-dd'\n",
    "insert into demotable(emp_name, age, joiningdate)\n",
    "values(20, '2021-01-21'),\n",
    "(21,'2021-02-04'),\n",
    "(19,'2019-06-30'),\n",
    "(24,'2020-04-27')\n",
    "(null,'2020-10-24');\n",
    "if u forget to add column  emp_name values then,  first add by using alter table demotable add emp_name varchar(50)not null \n",
    "and now u have to fill that column that has null value by default so u have to update the column's record\n",
    " by using update demotable set emp_name = 'jai' where employee_id  =1\n",
    "\n",
    "update demotable\n",
    "set emp_name = 'jai'\n",
    "where employee_id=1;\n",
    "\n",
    "update demotable\n",
    "set emp_name = \"sam\"\n",
    "where employee_id = 2;\n",
    "and so on...\n",
    "\n",
    "select * from demotable where joiningdate= '2021-01-21';\n",
    "simply write in sql editor\n",
    "select curdate()\n",
    "select curtime()\n",
    "select datediff('2021-05-24', '2020-12-21');---gives number of days between two dates\n",
    "select dayname('2021-10-24');\n",
    "select dayofmonth('2021-10-24');\n",
    "select dayofyear('2021-10-24');\n",
    "select extract(year from '2021-05-24');\n",
    "select extract(year_month from '2021-05-24');\n",
    "select from_days(897654);--we get a date here"
   ]
  },
  {
   "cell_type": "code",
   "execution_count": null,
   "metadata": {},
   "outputs": [],
   "source": [
    "VIEW"
   ]
  },
  {
   "cell_type": "code",
   "execution_count": null,
   "metadata": {},
   "outputs": [],
   "source": [
    "VIEW:it is a virtual table that consists of data set from the tables in the database.It contains row and columns of \n",
    "    other table in database.It can be combination  of data of  2 or more table together.It consumed less memory."
   ]
  },
  {
   "cell_type": "code",
   "execution_count": null,
   "metadata": {},
   "outputs": [],
   "source": [
    "Example Creating table named product above average  from products table\n",
    "create view[product above average] as\n",
    "select productName, price from products\n",
    "where price>(select avg(price) from products);\n",
    "select * from[product above average]\n",
    "\n",
    "example2\n",
    "create view[Brazil customers] as\n",
    "select CustomerName, Address,Country\n",
    "from Customers\n",
    "where country = 'Bzazil;'\n",
    "select * from[Brazil Customers]\n",
    "\n",
    "UPDATING A VIEW\n",
    "we can update a view by create or replace view, ok\n",
    "suppose in existing view table[Brazil customers]which we have created, we want to add ContactName then, see below\n",
    "create or replace view[Brazil customers] as\n",
    "select CustomerName,City,Country,ContactName\n",
    "from customers\n",
    "where country = ' Brazil';\n",
    "\n",
    "TO DROP VIEW\n",
    "drop view[Brazil customers]\n",
    "\n",
    "example3 =create view of products start with 'c' and price between 10 and 60\n",
    "CREATE VIEW[new_products] as\n",
    "select ProductName, ProductID \n",
    "FROM Products\n",
    "where ProductName LIKE 'c%'\n",
    "and price BETWEEN 10 AND 60"
   ]
  },
  {
   "cell_type": "code",
   "execution_count": null,
   "metadata": {},
   "outputs": [],
   "source": [
    "RENAMING TABLE (SINGLE)\n",
    "use storage24;\n",
    "RENAME table basic_info TO info_table;\n",
    "RENAME TABLE(MULTIPLE)\n",
    "RENAME table customers TO Employees,shirts to garments;\n",
    "THROUGH ALTER\n",
    "alter table shirts\n",
    "RENAME TO Garments;"
   ]
  },
  {
   "cell_type": "code",
   "execution_count": null,
   "metadata": {},
   "outputs": [],
   "source": [
    "ALTER\n",
    "alter table persons\n",
    "drop column email;\n"
   ]
  },
  {
   "cell_type": "code",
   "execution_count": null,
   "metadata": {},
   "outputs": [],
   "source": [
    "ALTER TABLE(ADD)--it means adding column and their datatype and constraint(optional)\n",
    "alter table Vehicles\n",
    "add model varchar(80) not null,\n",
    "add note varchar(100);\n",
    "select * from Vehicles;\n",
    "\n",
    "more examples\n",
    "alter table vehicles\n",
    "add phone varchar(20) not null after model;\n",
    "\n",
    "NOW SUPPOSE WE ARE ADDING COLOUR AFTER PHONE COLUMN (EXISTING)AND BRANCH AFTER NOTE COLUMN(EXISTING)\n",
    "Alter table vehicles\n",
    "add color varchar(30) not null after phone,\n",
    "add branch varchar(60) default null after note;"
   ]
  },
  {
   "cell_type": "code",
   "execution_count": null,
   "metadata": {},
   "outputs": [],
   "source": [
    "alter table Vehicles\n",
    "modify note varchar(80) not null;\n",
    "select * from Vehicles;"
   ]
  },
  {
   "cell_type": "code",
   "execution_count": null,
   "metadata": {},
   "outputs": [],
   "source": [
    "Alter table vehicles(MODIFY)----(Here we can modify datatype and constraint ok)same time both or any1 at a time\n",
    "modify year smallint not null,---------earlier also not null\n",
    "modify color varchar(50)  null after model;---earier also null\n",
    "select * from vehicles;\n",
    "\n",
    "we can also do\n",
    "alter table vehicles\n",
    "modify year smallint null,--change int to smallint and not null to null value\n",
    "modify color varchar(50) null after note;----change varchar(20) to 50 and place color column after note, ok"
   ]
  },
  {
   "cell_type": "raw",
   "metadata": {},
   "source": [
    "ALTER TABLE(CHANGE)\n",
    "alter table vehicles\n",
    "change column note vehiclecondition varchar(100) not null;\n",
    "select * from vehicles;\n",
    "\n",
    "more examples\n",
    "alter table vehicles\n",
    "change column phone mobile_number int not null;\n",
    "\n"
   ]
  },
  {
   "cell_type": "code",
   "execution_count": null,
   "metadata": {},
   "outputs": [],
   "source": [
    "ALTER TABLE(DROP)\n",
    "alter table vehicles\n",
    "drop column vehiclecondition;\n",
    "\n",
    "EXAMPLES(MORE)\n",
    "alter table vehicles\n",
    "drop column mobile_number,\n",
    "drop column branch;"
   ]
  },
  {
   "cell_type": "code",
   "execution_count": null,
   "metadata": {},
   "outputs": [],
   "source": [
    "ALTER TABLE(TABLE NAME CHANGED)\n",
    "alter table vehicles\n",
    "rename to cars"
   ]
  },
  {
   "cell_type": "code",
   "execution_count": null,
   "metadata": {},
   "outputs": [],
   "source": [
    "TRUNCATE TABLE:-delete all records from the table permanently and not table"
   ]
  },
  {
   "cell_type": "code",
   "execution_count": null,
   "metadata": {},
   "outputs": [],
   "source": [
    "wen we truncate,\n",
    "1)there is no rollback\n",
    "2)there should be no foreign key on table\n",
    "TRUNCATE table Customers;(suppose table is customers)\n",
    "IF YOU HAVE FOREIGN KEY ON TABLE THEN FIRST REMOVE IT ,THEN APPLY TRUNCATE ON TABLE\n",
    "to disable foreign key,we use\n",
    "SET FOREIGN_KEY_CHECKS = 0;\n",
    "to unable foreign we use\n",
    "SET FOREIGN_KEY_CHECKS = 1;\n",
    "\n",
    "TO USE TRUNCATE ON MULTIPLE TABLE WE USE\n",
    "select concat('Truncate table', customers, customers2)\n",
    "from information_schema.tables\n",
    "where table_schema = 'storage24';\n",
    "\n",
    "truncate table customers;\n",
    "\n",
    "DROP MUTIPLE TABLE\n",
    "DROP TABLE IF EXISTS customers,customers2,cars,shirts;"
   ]
  },
  {
   "cell_type": "code",
   "execution_count": null,
   "metadata": {},
   "outputs": [],
   "source": [
    "COPY/DUPLICATE TABLE\n",
    "\n",
    "Here we have created table basic1 in storage24 database from table family_info in jai_84 database.\n",
    "use storage24;\n",
    "create table storage24.basic1\n",
    "like jai_84.family_info;\n",
    "insert storage24.basic1\n",
    "select * from jai_84.family_info;\n",
    "\n",
    "IF WANT TO CREATE NEW TABLE FROM OTHR TABLE IN SAME DATABASE\n",
    "CREATE table basic1 as\n",
    "select * from customers\n",
    "where city='Gurgaon'\n",
    "OR\n",
    "CREATE table basic2 as\n",
    "select customerName,salary,id\n",
    "from products\n",
    "where price>20;"
   ]
  },
  {
   "cell_type": "code",
   "execution_count": null,
   "metadata": {},
   "outputs": [],
   "source": [
    "IF YOU WANT TO KNOW WHERE(ENGINE)YOUR TABLE LOCATED\n",
    "select table_name,engine\n",
    "from information_schema.tables\n",
    "where table_name = 'info_basic';\n",
    "NOW REPAIR TABLE\n",
    "REAPAIR TABLE info_basic;\n",
    "\n",
    "IF IT NOT REPAIR THEN FIRST ALTER ITS NAME AND THEN REPAIR\n",
    "alter table info_basic\n",
    "engine = 'isam';\n",
    "repair table info_basic;"
   ]
  },
  {
   "cell_type": "code",
   "execution_count": null,
   "metadata": {},
   "outputs": [],
   "source": [
    "LOCK TABLE\n",
    "CREATE TABLE info_table (   \n",
    "    Id INT NOT NULL AUTO_INCREMENT,   \n",
    "    Name VARCHAR(50) NOT NULL,   \n",
    "    Message VARCHAR(80) NOT NULL,  \n",
    "    PRIMARY KEY (Id)   \n",
    ");\n",
    "insert into info_table(Name,Message)\n",
    "values('jai','hi m here'),\n",
    "('sam','m fine');\n",
    "\n",
    "NOW WE can LOCK THE TABLE, so that we can not be able to insert values\n",
    "LOCK TABLE info_table READ;\n",
    "\n",
    "TO RELEASE LOCK WE CAN USE\n",
    "unlock table;\n",
    "\n",
    "TO LOCK MULTIPLES TABLE\n",
    "LOCK TABLE shirts READ,\n",
    "employees READ;\n",
    "\n",
    "TO RELEASE BOTH\n",
    "unlock tables;\n"
   ]
  },
  {
   "cell_type": "code",
   "execution_count": null,
   "metadata": {},
   "outputs": [],
   "source": [
    "UPDATE TABLE EMPLOYEES\n",
    "Eg\n",
    "UPDATE Employees set name = 'jai', city = 'Gurgaon' where id = 'a001';"
   ]
  },
  {
   "cell_type": "code",
   "execution_count": null,
   "metadata": {},
   "outputs": [],
   "source": [
    "INSERTING DATA IN TABLE\n",
    "CREATE TABLE People(  \n",
    "id int NOT NULL AUTO_INCREMENT,  \n",
    "name varchar(45) NOT NULL,  \n",
    "occupation varchar(35) NOT NULL,  \n",
    "age int,  \n",
    "PRIMARY KEY (id)  \n",
    ");\n",
    "INSERT INTO people(name,occupation,age)\n",
    "values('tomy','dr',32),\n",
    "('mandy','clerk',39);\n",
    "\n",
    "OR wecan use\n",
    "\n",
    "INSERT INTO people values('tomy','dr',32),\n",
    "('mandy','clerk',39);\n",
    "\n",
    "IF WE WANT TO INSERT VALUES FOR SPECIFIC COLUMN THEN,\n",
    "INSERT INTO people(name,occupation)\n",
    "values('sam','po'),('aarti','engg');"
   ]
  },
  {
   "cell_type": "code",
   "execution_count": null,
   "metadata": {},
   "outputs": [],
   "source": [
    "UPDATE A EXISTING TABLE(its rows)from javapoint                    table name=trainer\n",
    "id   course_name   trainer   email                  occupation\n",
    "101    java           mike      mike@javapoint       engg\n",
    " 102   python        james      james@javapoint       developer\n",
    "103    android        robin     robin@javapoint        leader      \n",
    "104    hadoop         stephen    stephen@javapoint     leader\n",
    "105    testing        michael    michael@javapoint      scientist\n",
    "\n",
    " update trainer set email = 'mike@tutorialpoint.com' where course_ name = 'java';   \n",
    "THEN USE\n",
    "SELECT * FROM trainer;\n",
    "\n",
    "example2\n",
    "update trainer set trainer = 'jai', occcupation = 'machine learnig' where id = 105;\n"
   ]
  },
  {
   "cell_type": "code",
   "execution_count": null,
   "metadata": {},
   "outputs": [],
   "source": [
    "DELETE OPERATION"
   ]
  },
  {
   "cell_type": "code",
   "execution_count": null,
   "metadata": {},
   "outputs": [],
   "source": [
    "suppose deleting record from employees table with id =105\n",
    "delete from employees where emp_id =105;\n",
    "\n",
    "example2 USING ORDER BY WITH LIMIT for deletion\n",
    "suppose from employees table i want to remove first three employees record alphabetically.\n",
    "so we have name column in table first we sort it alphabetically and then remove first three record. ok\n",
    "delete from employees order by emp_name limit 3;\n",
    "\n",
    "NOW,  I WANT TO DELETE RECORDS FROM 2 TABLE SIMULANEOUSLY\n",
    "two table are employees, payment which has common table emp_id, ok\n",
    "\n",
    "delete Employees,payment from Employees inner join payment on employees.emp_id = payment.emp_id\n",
    "where emp_id = 105;"
   ]
  },
  {
   "cell_type": "code",
   "execution_count": null,
   "metadata": {},
   "outputs": [],
   "source": [
    "CREATING DATABASE(Through mysql command line client)\n",
    "create database if not exists Employedb;\n",
    "show create database Employeedb;\n",
    "show databases;(To see all databases that exists in your mysql server, do not forget to refresh) \n",
    "OR\n",
    "show schemas;\n",
    "use Employeedb;\n",
    "show tables;\n",
    "describe orders24(to see descriptopn of a particular table)\n",
    "select * from orders24;\n",
    "show index from orders24;\n",
    "show columns from orders24;\n",
    "create table volumn(\n",
    "id int not null auto_increment unique,\n",
    "project_id int not null,\n",
    "Building_name varchar(100) not null,\n",
    "builder_name varchar(30) unique not null,\n",
    "age int not null,\n",
    "salary decimal(7,2) check(salary>11000),\n",
    "city varchar(50) default 'Gurgaon',\n",
    "constraint pk_name primary key(id, Builder_name),\n",
    "foreign key(project_id)REFERENCES Projectname(project_id)\n",
    ";\n",
    "insert into volumn values(01,b1,'upasanamega','jai',35,21000);"
   ]
  },
  {
   "cell_type": "code",
   "execution_count": null,
   "metadata": {},
   "outputs": [],
   "source": [
    "----STORED PROCEDURE-----"
   ]
  },
  {
   "cell_type": "code",
   "execution_count": null,
   "metadata": {},
   "outputs": [],
   "source": [
    "There ae some Sql Code or sql query which we have to write and reused over and over again so wat we can do is\n",
    "we can store them as stored procedure.Whenevr required just call it and execute it\n",
    "We can also pass parameter to a stored procedure, so that stored procedure can act based on the parameter value"
   ]
  },
  {
   "cell_type": "code",
   "execution_count": null,
   "metadata": {},
   "outputs": [],
   "source": [
    "CREATE PROCEDURE SelectAllCustomers\n",
    "AS\n",
    "Select * from Customers\n",
    "GO;\n",
    "EXEC SelectAllCustomers"
   ]
  },
  {
   "cell_type": "code",
   "execution_count": null,
   "metadata": {},
   "outputs": [],
   "source": [
    "STORED PROCEDURE WITH PARAMETER"
   ]
  },
  {
   "cell_type": "code",
   "execution_count": null,
   "metadata": {},
   "outputs": [],
   "source": [
    "WE WANT ALL CUSTOMERS FROM CUSTOMERS TABLE FROM A PARICULAR CITY Eg=London\n",
    "CREATE PROCEDURE SelectAllcustomers @city nvarchar(30)\n",
    "AS\n",
    "SELECT * from Customers where city = @city\n",
    "GO;\n",
    "NOW EXECUTE THE QUERY USING STORED PROCEDURE\n",
    "EXEC SelectAllCustomers @city = 'London';"
   ]
  },
  {
   "cell_type": "code",
   "execution_count": null,
   "metadata": {},
   "outputs": [],
   "source": [
    "STORED PRODECURE WITH MULTIPLE PARAMETERS"
   ]
  },
  {
   "cell_type": "code",
   "execution_count": null,
   "metadata": {},
   "outputs": [],
   "source": [
    "WE WANT ALL CUSTOMERS FROM CUSTOMERS TABLE AND FROM A PARTICULAR CITY AND POSTAL CODE\n",
    "CREATE PROCEDURE SelectAllCustomers @City nvarchar(30), @postalcode nvarchar(10)\n",
    "AS\n",
    "Select * from Customers WHERE Ciy = @city AND PostalCode = @PostalCode\n",
    "GO;\n",
    "NOW EXECUTE\n",
    "EXEC SelectAllCustomers@city = 'London', @postalcode = 'WA1 P1';"
   ]
  },
  {
   "cell_type": "code",
   "execution_count": null,
   "metadata": {},
   "outputs": [],
   "source": [
    "JOINS-combining rows from 2 or more tables based on common column between them(between those 2 or 3 tables)"
   ]
  },
  {
   "cell_type": "code",
   "execution_count": null,
   "metadata": {},
   "outputs": [],
   "source": [
    "suppose joining(join or inner join) 2 tables orders and customers on the basis of common column between \n",
    "customerID\n",
    "1)joining all column of 2 tables\n",
    "SELECT * from orders\n",
    "INNER JOIN Customers\n",
    "ON Orders.CustomerID = Customers.CustomerID\n",
    "\n",
    "2) JOINING FEW COLUMNS OF both the 2 TABLES(INNER JOIN)\n",
    "\n",
    "SELECT Customers.CustomerName,Customers.City,Orders.OrderDate\n",
    "FROM Customers INNER JOIN Orders\n",
    "ON Customers.CustomerID = Orders.CustomerID;\n",
    "\n",
    "3)\n",
    "SELECT Customers.ContactName, Customers.Country,Orders.OrderID\n",
    "FROM Customers INNER JOIN Orders\n",
    "ON Customers.CustomerID = Orders.CustomerID;\n",
    "\n",
    "JOINING THREE TABLES\n",
    "Orders and Customers on common column 'customerID', orders and shippers table on common column 'ShipperID'\n",
    "1)\n",
    "SELECT Orders.OrderDate, Customers.ContactName, Customers.Country,Shippers.ShipperName\n",
    "FROM ((Orders INNER JOIN Customers ON Orders.CustomerID = Customers.CustomerID)\n",
    "INNER JOIN Shippers ON Orders.ShipperID = Shippers.ShipperID);\n",
    "\n",
    "2)\n",
    "SELECT Orders.OrderID, Customers.CustomerName,Customers.Country,Shippers.ShipperName\n",
    "FROM((Orders INNER JOIN Customers ON Orders.CustomerID = Customers.CustomerID)\n",
    "INNER JOIN Shippers ON Orders.ShipperID = Shippers.ShipperID)\n",
    "WHERE Country = 'Finland'\n",
    "order by Orders.OrderID desc;\n",
    "\n"
   ]
  },
  {
   "cell_type": "code",
   "execution_count": null,
   "metadata": {},
   "outputs": [],
   "source": [
    "LEFT JOIN:-It returns all records from the left table(tabe1) and matching records from the right table(table2)"
   ]
  },
  {
   "cell_type": "code",
   "execution_count": 1,
   "metadata": {
    "scrolled": true
   },
   "outputs": [
    {
     "ename": "SyntaxError",
     "evalue": "invalid syntax (<ipython-input-1-a11b12fdc3ac>, line 1)",
     "output_type": "error",
     "traceback": [
      "\u001b[1;36m  File \u001b[1;32m\"<ipython-input-1-a11b12fdc3ac>\"\u001b[1;36m, line \u001b[1;32m1\u001b[0m\n\u001b[1;33m    Suppose 2 table customers(table1) and orders(table2) commmon table customerID\u001b[0m\n\u001b[1;37m            ^\u001b[0m\n\u001b[1;31mSyntaxError\u001b[0m\u001b[1;31m:\u001b[0m invalid syntax\n"
     ]
    }
   ],
   "source": [
    "Suppose 2 table customers(table1) and orders(table2) commmon table customerID\n",
    "1)\n",
    "SELECT Customers.ContactName, Customers.Country,Orders.Orderdate\n",
    "FROM Customers LEFT JOIN Orders\n",
    "ON Customers.CustomerID = Orders.CustomerID\n",
    "ORDER BY Customers.ContactName;\n",
    "\n",
    "NOW, CONSIDER PRODUCTS TABLE(TABLE1) AND SUPPLIERS TABLE(TABLE2), common column between them is  'SupplierID'\n",
    "and returns price where price is price>40, ok\n",
    "2)\n",
    "SELECT Products.ProductName, Products.Price,Suppliers.SupplierName\n",
    "FROM Products LEFT JOIN Suppliers\n",
    "On Products.SupplierID = Suppliers.SupplierID\n",
    "WHERE Price>40;\n",
    "\n",
    "3)I want all products which have price Greater than 20 and from country 'USA'\n",
    "\n",
    "SELECT Products.ProductName, Products.Price,Suppliers.Country\n",
    "FROM Products LEFT JOIN Suppliers\n",
    "ON Products.SupplierID = Suppliers.SupplierID\n",
    "WHERE Price>20 AND Country = 'USA';\n",
    "\n",
    "USING GROUP BY CLAUSE\n",
    "4)\n",
    "SELECT Products.ProductName, Products.Price, Suppliers.SupplierName\n",
    "FROM Products LEFT JOIN Suppliers\n",
    "ON Products.SupplierID = Suppliers.SupplierID\n",
    "GROUP BY Price;\n",
    "5)\n",
    "SELECT Customers.ContactName,Customers.Country,Orders.OrderDate\n",
    "FROM Customers LEFT JOIN Orders\n",
    "ON Customers.CustomerID = Orders.CustomerID\n",
    "WHERE OrderDate IS NULL;\n",
    "6)\n",
    "JOINING THREE TABLES WHERE PRICE >40(OrderDetails,Products,Suppliers)products=OrderDetails(ProductID=common column),\n",
    "Products = Suppliers(SupplierID=common columnn), ok\n",
    "\n",
    "SELECT Products.ProductName,Products.Price,Products.CategoryID,OrderDetails.Quantity,Suppliers.SupplierName\n",
    "FROM ((Products LEFT JOIN OrderDetails ON Products.ProductID = OrderDetails.ProductID)\n",
    "LEFT JOIN Suppliers ON Products.SupplierID = Suppliers.SupplierID)--upto here 518 records\n",
    "WHERE Price >40;\n",
    "OR \n",
    "ORDER BY Products.ProductName(ASC or DESC);\n",
    "\n",
    "7)I Want ProuctName with quantity less than 20 and country='Germany\n",
    "'(here we need products,OrderDetails and Suppliers table)\n",
    "\n",
    "SELECT products.ProductName, OrderDetails.Quantity,Suppliers.Country\n",
    "FROM(( Products LEFT JOIN OrderDetails ON Products.ProductID = OrderDetails.ProductID)\n",
    "LEFT JOIN Suppliers ON Products.SupplierID  =Suppliers.SupplierID)\n",
    "WHERE Quantity<20 AND Country = 'Germany';"
   ]
  },
  {
   "cell_type": "code",
   "execution_count": null,
   "metadata": {},
   "outputs": [],
   "source": [
    "RIGHT JOIN:-It returns All the Records from the Right Table(TABLE_2) and matching records from the left table(table_1)"
   ]
  },
  {
   "cell_type": "code",
   "execution_count": null,
   "metadata": {},
   "outputs": [],
   "source": [
    "SELECT Orders.OrderID, Employees.LastName, Employees.FirstName\n",
    "FROM Orders RIGHT JOIN Employees\n",
    "ON Orders.EmployeeID = Employees.EmployeeID\n",
    "ORDER BY Orders.OrderID;\n",
    "\n",
    "2)Products and Supplier table\n",
    "ON the Right side I want All SupplierName with Price Between 40 and 70.\n",
    "\n",
    "SELECT Products.ProductName, Products.Price,Suppliers.SupplierName\n",
    "FROM Products RIGHT JOIN Suppliers\n",
    "ON Products.SupplierID = Suppliers.SupplierID\n",
    "WHERE Price>40 AND Price<70;\n",
    "\n",
    "SELECT Customers.ContactName, Orders.OrderID\n",
    "FROM Customers RIGHT JOIN Orders\n",
    "ON Customers.CustomerID = Orders.CustomerID\n",
    "WHERE OrderID IS NULL;\n",
    "\n",
    "SELECT Products.ProductName,Products.Price,OrderDetails.Quantity,Suppliers.SupplierName\n",
    "FROM((Products RIGHT JOIN OrderDetails ON Products.ProductID = OrderDetails.ProductID)\n",
    "RIGHT JOIN Suppliers ON Products.SupplierID = Suppliers.SupplierID)\n",
    "ORDER BY Products.ProductName;"
   ]
  },
  {
   "cell_type": "code",
   "execution_count": null,
   "metadata": {},
   "outputs": [],
   "source": [
    "FULL JOIN OR FULL OUTER JOIN"
   ]
  },
  {
   "cell_type": "code",
   "execution_count": null,
   "metadata": {},
   "outputs": [],
   "source": [
    "It returns all the Records when there is a match in left(table1) or right(table2)"
   ]
  },
  {
   "cell_type": "code",
   "execution_count": null,
   "metadata": {},
   "outputs": [],
   "source": [
    "SELECT Customers.CustomerName, Customers.City, Orders.OrderID\n",
    "FROM Customers FULL OUTER JOIN Orders\n",
    "ON Customers.CustomerID = Orders.CustomerID\n",
    "ORDER BY Customers.CustomerName;\n"
   ]
  },
  {
   "cell_type": "code",
   "execution_count": null,
   "metadata": {},
   "outputs": [],
   "source": [
    "SELF JOIN \n",
    "WHEN A TABLE JOINED BY Itself"
   ]
  },
  {
   "cell_type": "code",
   "execution_count": 2,
   "metadata": {},
   "outputs": [
    {
     "ename": "SyntaxError",
     "evalue": "invalid syntax (<ipython-input-2-88978d3fe1bc>, line 1)",
     "output_type": "error",
     "traceback": [
      "\u001b[1;36m  File \u001b[1;32m\"<ipython-input-2-88978d3fe1bc>\"\u001b[1;36m, line \u001b[1;32m1\u001b[0m\n\u001b[1;33m    finding out matching customers from customers table which are from the same city\u001b[0m\n\u001b[1;37m            ^\u001b[0m\n\u001b[1;31mSyntaxError\u001b[0m\u001b[1;31m:\u001b[0m invalid syntax\n"
     ]
    }
   ],
   "source": [
    "Finding out matching Customers from customers table which are from the same city\n",
    "\n",
    "SELECT A.CustomersName as Name1, A.City,B.CustomerName as Name2\n",
    "FROM Customers A, Customers B\n",
    "WHERE A.CustomerID <> B.CustomerID\n",
    "AND A.City  =B.city\n",
    "ORDER BY A.CITY;\n",
    "\n",
    "\n",
    "\n",
    "studentID  Name    CourseID  Duration\n",
    "1          adam      1       3\n",
    "2           peter    2       4\n",
    "1          adam      2       4\n",
    "3           brian    3       2\n",
    "2           shane    3       5\n",
    "\n",
    "wat i want here is all student id and name  from table(student) where studentId is equal and course is not equal, ok\n",
    "select s1.studentID, s1.name\n",
    "from student as s1, student as s2\n",
    "where s1.studentID = s2.StudentID\n",
    "AND s1.CourseID<>s2.CourseID;\n",
    "\n",
    "select s1.studentID, s1.name\n",
    "FROM student s1 inner join student s2\n",
    "where s1.studentID  =s2.studentID\n",
    "and s1.courseID<>s2.courseID\n",
    "group by studentID"
   ]
  },
  {
   "cell_type": "code",
   "execution_count": null,
   "metadata": {},
   "outputs": [],
   "source": [
    "CROSS JOINS----\n",
    "suppose 2 table customers and contact\n",
    "performig cross joining\n",
    "\n",
    "SELECT * FROM Customers\n",
    "CROSS JOIN Contact;--it will return all colun from both table(also duplicate columns)\n",
    "6 rows(Total rows) from customers multiply by 4 rows(Total rows) from contact we get 24 rows total\n",
    "\n",
    "2)\n",
    "SELECT customers.customerID,customers.customername,customer.income,orders.orderID, Orders.Price\n",
    "FROM Customers CROSS JOIN Orders USING(CustomerID)\n",
    "where price>1500 and price<5000;"
   ]
  },
  {
   "cell_type": "code",
   "execution_count": null,
   "metadata": {},
   "outputs": [],
   "source": [
    "'NATURAL JOIN--DO NOT NEED TO SPECIFY 'USING' OR 'ON'(work as inner join)..HERE \n",
    "It returns unique columns unlike inner joins which returns duplicate columns also."
   ]
  },
  {
   "cell_type": "code",
   "execution_count": null,
   "metadata": {},
   "outputs": [],
   "source": [
    "suppose 2 table customers(id,customername,account,email) and balance(id,account,balance).\n",
    "balance float(10,2)use this data type, and account int (use int data type)\n",
    "SELECT * from customers NATURAL JOIN balance;--it will return all column from both table except dupliate one\n",
    "id,customername,account,email,balance\n",
    "\n",
    "2)\n",
    "select c.customername, b.balance\n",
    "from customers as c NATURAL JOIN balance as b;--bring same result as inner joins except duplicate columns\n",
    "\n",
    "3)\n",
    "SELECT c.customername, b.balance\n",
    "from customername as c NATURAL JOIN balance as b\n",
    "where b.balance>5000;\n",
    "\n",
    "\n",
    "supose 3rd table is customer_info(account int,\n",
    "                                 mobile varchar,\n",
    "                                  address varchar)\n",
    "\n",
    "then natural join three tables, we get\n",
    "\n",
    "SELECT C.customerName,C.account,B.balance,I.mobile\n",
    "from Customers as c natural join Balance as b\n",
    "natural join customer_info as I;"
   ]
  },
  {
   "cell_type": "code",
   "execution_count": null,
   "metadata": {},
   "outputs": [],
   "source": [
    "AVG() FUNCTION"
   ]
  },
  {
   "cell_type": "code",
   "execution_count": null,
   "metadata": {},
   "outputs": [],
   "source": [
    "AVG()FUNCTION --SEE JAVAPOINT MYSQL TUTORIAL \n",
    "\n",
    "SUPPOSE EMPLOYEE TABLE(emp_id,emp_name,occupation,working_date,working hours)\n",
    "supose we have to find avg working hrs of employees\n",
    "select avg(working hours)from employees;\n",
    "\n",
    "1)Suppose we have to find avg working hrs of All Employees whose workig hours>=12\n",
    "SELECT AVG(working hours) as avg_working_hours from employees where workinh hours>=12;\n",
    "\n",
    "2)I want emp_name, occupation and avg working hours with respect to each occupation\n",
    "\n",
    "select emp_name, occupation, avg(working hours)as avg_working_hours from employees\n",
    "group by occupation\n",
    "\n",
    "3)I want emp_name,occupation and avg working hours with respect to each occupation where avg workinh hours >9, ok\n",
    "\n",
    "SELECT emp_name, occupation,avg(working hours)as avg_working_hours from employees\n",
    "group by occupation\n",
    "having avg(working hours)>=9;"
   ]
  },
  {
   "cell_type": "code",
   "execution_count": null,
   "metadata": {},
   "outputs": [],
   "source": [
    "COUNT FUNCTION"
   ]
  },
  {
   "cell_type": "code",
   "execution_count": null,
   "metadata": {},
   "outputs": [],
   "source": [
    "COUNT FUNCTION\n",
    "COUNT(*)IT COUNTS ALL ROWS INCLUDING DUPLICATE,NULL,NOT NULL\n",
    "COUNT(DISTINCT)IT COUNT UNIQIE ROWS AND NOT NULL\n",
    "COUNT(EXPRESSION)eg=count(lastname),RETURN DESIRED RESULT WITH WITHOUT NULL VALUES.\n",
    "\n",
    "suppose consider a Employees table(emp_id,emp_name,emp_age,city,salary)\n",
    "\n",
    "1)suppose I have to calculate total number of employees in employees table\n",
    "select count(emp_name)as total_employees from employees;\n",
    "\n",
    "2)Returns all the rows from employees table where emp_age>32\n",
    "select count(*) from employees where emp_age>32;\n",
    "\n",
    "3)Count unique emp_name\n",
    "select count(distinct emp_name) from employees;\n",
    "\n",
    "4)returns total number of employees in each city\n",
    "SELECT emp_name, city,count(*) from employees\n",
    "group by city\n",
    "group by age greater than equal to 2\n",
    "5)SELECT emp_name,age,count(*) from employees\n",
    "group by age\n",
    "having count(*)>=2\n",
    "ORDER BY count(*);"
   ]
  },
  {
   "cell_type": "code",
   "execution_count": null,
   "metadata": {},
   "outputs": [],
   "source": [
    "SUM() FUNCTION"
   ]
  },
  {
   "cell_type": "code",
   "execution_count": null,
   "metadata": {},
   "outputs": [],
   "source": [
    "SUPPOSE EMPLOYEE TABLE(emp_id,emp_name,occupation,working_date,working hours)\n",
    "\n",
    "1)calculate total number of working hours of all employees\n",
    "select sum(working hours) as total_working_hours from employees;\n",
    "\n",
    "2)\n",
    "select sum(working hours)as total_working_hours from employees where working_hours>12;\n",
    "\n",
    "3)This statement calculates the total working hours of each occupation\n",
    "select emp_id,occupation,sum(working hours) as total_working_hours from employees\n",
    "group by occupation\n",
    "\n",
    "4)Total working hours of all employees based on their occupation and show whose total working hours>24\n",
    "select emp_id, emp_name,occupation,sum(working hours) as total_working_hours from employees\n",
    "group by ocupation\n",
    "having sum(working hours)>24;\n",
    "\n",
    "5)using distinct\n",
    "SELECT emp_id, emp_name,occupation,sum( distinct working hours) as total_working_hour from employees\n",
    "group by occupation\n"
   ]
  },
  {
   "cell_type": "code",
   "execution_count": null,
   "metadata": {},
   "outputs": [],
   "source": [
    "MIN() FUNCTION"
   ]
  },
  {
   "cell_type": "code",
   "execution_count": null,
   "metadata": {},
   "outputs": [],
   "source": [
    "suppose consider a Employees table(emp_id,emp_name,emp_age,city,income)\n",
    "\n",
    "1)find the minimum income of the employee available in the table:\n",
    "    select min(income) as min_income from employees;\n",
    "    \n",
    "2 finds the minimum income in all rows from the employee table,\n",
    "specifies all those rows whose emp_age column is greater than or equal to 32 and less than or equal to 40.\n",
    "\n",
    "select min(income) as min_income from employees\n",
    "where emp_age>=32 and emp_age<=40;\n",
    "\n",
    "3) find the minimum income in all rows from the employee table for each emp_age group.\n",
    "select emp_age, min(income) as min_income from employees\n",
    "group by emp_age;\n",
    "\n",
    "4)the below statement returns the minimum income of all employees, \n",
    "grouping them based on their city and returns the result whose MIN(income)>150000.\n",
    "\n",
    "select emp_id, emp_name,city,min(income) as min_income\n",
    "from employees\n",
    "group by city\n",
    "having min(income)>150000;"
   ]
  },
  {
   "cell_type": "code",
   "execution_count": null,
   "metadata": {},
   "outputs": [],
   "source": [
    "MAX()FUNCTION"
   ]
  },
  {
   "cell_type": "code",
   "execution_count": null,
   "metadata": {},
   "outputs": [],
   "source": [
    "suppose consider a Employees table(emp_id,emp_name,emp_age,city,income)\n",
    "\n",
    "1)find the maximum income of the employee available in the table:\n",
    "    select max(income)as max_income from employees;\n",
    "\n",
    "2) finds the maximum income in all rows from the employee table.where emp_age>35;\n",
    "\n",
    "select max(income) as max_income from employees\n",
    "where emp_age>35;\n",
    "\n",
    "3)\n",
    "find the maximum income in all rows from the employee table for each emp_age group.\n",
    "\n",
    "select emp_age, max(income) as max_income from employees\n",
    "group by emp_age;\n",
    "\n",
    "4)\n",
    "the following statement returns the maximum income among all employees, grouping them based on their city\n",
    "and returns the result whose MAX(income) >= 200000.\n",
    "select emp_name,city,max(income) as max_income from employees\n",
    "group by city\n",
    "having max(income)>200000;\n",
    "\n",
    "5)\n",
    "select * from employees\n",
    "where emp_age = (select max(emp_age) from employees);\n"
   ]
  },
  {
   "cell_type": "code",
   "execution_count": null,
   "metadata": {},
   "outputs": [],
   "source": [
    "mysql first()-return the first value of the selected column."
   ]
  },
  {
   "cell_type": "code",
   "execution_count": null,
   "metadata": {},
   "outputs": [],
   "source": [
    "conside table officers\n",
    "\n",
    "oficerID    officer_name     address\n",
    "1           ajeet            Mau\n",
    "2          depika           Lucknow\n",
    "3         vimal          Faizabad\n",
    "4          rahul          Lucknow\n",
    "\n",
    "\n",
    "select officer_name \n",
    "from officer\n",
    "limit 1;\n",
    "\n",
    "It returns ajeet\n",
    "\n",
    "\n",
    "select officer_name\n",
    "from officer\n",
    "limit 2;\n",
    "\n",
    "It returns ajeet,depika"
   ]
  },
  {
   "cell_type": "code",
   "execution_count": null,
   "metadata": {},
   "outputs": [],
   "source": [
    "Last()"
   ]
  },
  {
   "cell_type": "markdown",
   "metadata": {},
   "source": [
    "###### cosider same table-- officers\n",
    "\n",
    "To retrieve last record from a particular column\n",
    "suppose here we are retreving last record from officer_name column that is 'rahul'\n",
    "select officer_name\n",
    "from oficers\n",
    "order by officerID desc\n",
    "limit 1;\n",
    "\n",
    "2)\n",
    "select officer_name\n",
    "from officers\n",
    "order by officer_name desc\n",
    "limit 1\n",
    "It returns vimal (2nd last name) \n"
   ]
  },
  {
   "cell_type": "code",
   "execution_count": null,
   "metadata": {},
   "outputs": [],
   "source": []
  }
 ],
 "metadata": {
  "kernelspec": {
   "display_name": "Python 3",
   "language": "python",
   "name": "python3"
  },
  "language_info": {
   "codemirror_mode": {
    "name": "ipython",
    "version": 3
   },
   "file_extension": ".py",
   "mimetype": "text/x-python",
   "name": "python",
   "nbconvert_exporter": "python",
   "pygments_lexer": "ipython3",
   "version": "3.8.5"
  }
 },
 "nbformat": 4,
 "nbformat_minor": 4
}
