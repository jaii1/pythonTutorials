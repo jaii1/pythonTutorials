{
 "cells": [
  {
   "cell_type": "code",
   "execution_count": null,
   "metadata": {},
   "outputs": [],
   "source": [
    "Pickling:The process of converting instance of the class(object) to the stream bytes and store then in a file(binary file)\n",
    "this process called Pickling and It is done by using dump()method\n",
    "unpickling:The process of converting stream bytes which we have stored in a file into the object of class, this process\n",
    "is called Unpickling and It is done by Load()method\n",
    "We here use Pickle module, ok"
   ]
  },
  {
   "cell_type": "code",
   "execution_count": 5,
   "metadata": {},
   "outputs": [
    {
     "name": "stdout",
     "output_type": "stream",
     "text": [
      "Pickling done\n"
     ]
    }
   ],
   "source": [
    "# consider stu.py\n",
    "import pickle\n",
    "class employees:\n",
    "    def __init__(self,name,salary,address):\n",
    "        self.name = name\n",
    "        self.salary = salary\n",
    "        self.address = address\n",
    "    def disp(self):\n",
    "        print(\"Name:{} Age:{} Address:{}\".format(self.name,self.salary,self.address))\n",
    "with open('employee1.dat', mode = 'wb')as f:\n",
    "    emp1 = employees(\"jai\",35000,\"Gurgaon\")\n",
    "    emp2 = employees(\"sam\",30000,\"Delhi\")\n",
    "    pickle.dump(emp1,f)\n",
    "    pickle.dump(emp2,f)\n",
    "    print(\"Pickling done\")\n",
    "    \n",
    "# Now see the file You will it not readable and now to read it perform following code\n",
    "with open('employee1.dat', mode='rb') as f:\n",
    "    obj1 = pickle.load(f)\n",
    "    obj2 =pickle.load(f)\n",
    "    print(\"Unpickling done\")\n",
    "    obj1.disp()\n",
    "    obj2.disp()\n",
    "\n",
    "# This was one way of doing it "
   ]
  },
  {
   "cell_type": "code",
   "execution_count": null,
   "metadata": {},
   "outputs": [],
   "source": [
    "NOW WE CAN ALSO PUT BOTH PICKLING AND UNPICKLING IN SEPARATE FILE BY DELETING FROM ABOVE "
   ]
  },
  {
   "cell_type": "code",
   "execution_count": null,
   "metadata": {},
   "outputs": [],
   "source": [
    "# suppose some code put in this fle which is below(pickling.py) from the above file which was (suppose name was stu), ok\n",
    "import stu, pickle\n",
    "with open('employee1.dat', mode = 'wb')as f:\n",
    "    emp1 = stu.employee(\"jai\",35000,\"Gurgaon\")\n",
    "    emp2 = stu.employee(\"sam\",30000,\"Delhi\")\n",
    "    pickle.dump(emp1,f)\n",
    "    pickle.dump(emp2,f)\n",
    "    print(\"Pickling done\")\n",
    "# first run this code which is not readable and then run below wala code to read wat is there in file"
   ]
  },
  {
   "cell_type": "code",
   "execution_count": null,
   "metadata": {},
   "outputs": [],
   "source": [
    "# suppose some code put in this fle which is below(unpickling.py) from the above file which was (suppose name was stu.py),\n",
    "# ok\n",
    "import stu,pickle\n",
    "with open('employee1.dat', mode='rb') as f:\n",
    "    obj1 = pickle.load(f)\n",
    "    obj2 =pickle.load(f)\n",
    "    print(\"Unpickling done\")\n",
    "    obj1.disp()\n",
    "    obj2.disp()\n",
    "# This is another way of doing it"
   ]
  },
  {
   "cell_type": "code",
   "execution_count": null,
   "metadata": {},
   "outputs": [],
   "source": [
    "WE CAN PERFORM IT BY (USER DEFINE METHOD) ALSO"
   ]
  },
  {
   "cell_type": "code",
   "execution_count": null,
   "metadata": {},
   "outputs": [],
   "source": [
    "# we will take another file name pickling1.py and here we code for pickling from stu file\n",
    "import stu, pickle\n",
    "n = int(input(\"Enter the number of employees\"))\n",
    "with open('employees1.dat', mode = 'wb')as f:\n",
    "    for i in range(n):\n",
    "        name = input(\"Enter name\")\n",
    "        salary = int(input(\"Enter salary\"))\n",
    "        Address = input(\"enter Address\")\n",
    "        emp = stu.employees(name, salary,address)\n",
    "        pickle.dump(emp, f)\n",
    "print(\"Pickling done\")    "
   ]
  },
  {
   "cell_type": "code",
   "execution_count": null,
   "metadata": {},
   "outputs": [],
   "source": [
    "#  we will take another file name unpickling1.py and here we code for unpickling from stu file\n",
    "import pickle,stu\n",
    "with open('employees1.dat', mode = 'wb')as f:\n",
    "#      but we do not how many obect(stream bytes) are there in file which we wil convert to object of class\n",
    "#     so we use while True\n",
    "    while True:\n",
    "        try:\n",
    "            obj1 = pickle.load(f)\n",
    "            obj1.disp()\n",
    "        except EOF Error:\n",
    "            print(\"Done\")\n",
    "            break\n",
    "#    \n",
    "\n",
    "    "
   ]
  }
 ],
 "metadata": {
  "kernelspec": {
   "display_name": "Python 3",
   "language": "python",
   "name": "python3"
  },
  "language_info": {
   "codemirror_mode": {
    "name": "ipython",
    "version": 3
   },
   "file_extension": ".py",
   "mimetype": "text/x-python",
   "name": "python",
   "nbconvert_exporter": "python",
   "pygments_lexer": "ipython3",
   "version": "3.8.5"
  }
 },
 "nbformat": 4,
 "nbformat_minor": 4
}
