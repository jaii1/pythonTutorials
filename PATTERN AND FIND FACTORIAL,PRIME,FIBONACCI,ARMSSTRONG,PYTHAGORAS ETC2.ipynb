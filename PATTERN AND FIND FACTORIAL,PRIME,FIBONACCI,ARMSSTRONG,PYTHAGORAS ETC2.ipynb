{
 "cells": [
  {
   "cell_type": "markdown",
   "metadata": {},
   "source": [
    "# PATTERN IN PYTHON"
   ]
  },
  {
   "cell_type": "code",
   "execution_count": 1,
   "metadata": {},
   "outputs": [
    {
     "name": "stdout",
     "output_type": "stream",
     "text": [
      "Enter the number of rows7\n",
      "* \n",
      "* * \n",
      "* * * \n",
      "* * * * \n",
      "* * * * * \n",
      "* * * * * * \n",
      "* * * * * * * \n"
     ]
    }
   ],
   "source": [
    "n = int(input(\"Enter the number of rows\"))\n",
    "for i in range(1, n+1):\n",
    "    for j in range(1,i+1):\n",
    "        print(\"*\", end=\" \")\n",
    "    print()"
   ]
  },
  {
   "cell_type": "code",
   "execution_count": 2,
   "metadata": {},
   "outputs": [
    {
     "name": "stdout",
     "output_type": "stream",
     "text": [
      "Enter the number of rows7\n",
      "      * \n",
      "     * * \n",
      "    * * * \n",
      "   * * * * \n",
      "  * * * * * \n",
      " * * * * * * \n",
      "* * * * * * * \n"
     ]
    }
   ],
   "source": [
    "num = int(input(\"Enter the number of rows\"))\n",
    "for i in range(0, num):\n",
    "    for j in range(0, num-i-1):\n",
    "        print(end=\" \")\n",
    "    for j in range(0, i+1):\n",
    "        print(\"*\", end=\" \")\n",
    "    print()\n",
    "        "
   ]
  },
  {
   "cell_type": "code",
   "execution_count": 3,
   "metadata": {},
   "outputs": [
    {
     "name": "stdout",
     "output_type": "stream",
     "text": [
      "enter the  number of rows5\n",
      "* * * * * \n",
      " * * * * \n",
      "  * * * \n",
      "   * * \n",
      "    * \n"
     ]
    }
   ],
   "source": [
    "num = int(input(\"enter the  number of rows\"))\n",
    "for i in range(num,0,-1):\n",
    "    for j in range(0, num-i):\n",
    "        print(end=\" \")\n",
    "    for j in range(0, i):\n",
    "        print(\"*\", end=\" \")\n",
    "    print()"
   ]
  },
  {
   "cell_type": "code",
   "execution_count": 4,
   "metadata": {},
   "outputs": [
    {
     "name": "stdout",
     "output_type": "stream",
     "text": [
      "      *\n",
      "     **\n",
      "    ***\n",
      "   ****\n",
      "  *****\n",
      " ******\n",
      "*******\n",
      " ******\n",
      "  *****\n",
      "   ****\n",
      "    ***\n",
      "     **\n",
      "      *\n"
     ]
    }
   ],
   "source": [
    "# rows = int(input(\"Enter the number of rows\"))\n",
    "def pyramid(rows):\n",
    "    for i in range(rows):\n",
    "        print(\" \" *(rows-i-1) +\"*\" *(i+1))\n",
    "    for j in range(rows-1,0,-1):\n",
    "        print(\" \" *(rows-j)+\"*\"*(j))\n",
    "    \n",
    "pyramid(7)"
   ]
  },
  {
   "cell_type": "code",
   "execution_count": 5,
   "metadata": {},
   "outputs": [
    {
     "name": "stdout",
     "output_type": "stream",
     "text": [
      "enter the number of rows 7\n",
      "* * * * * * * \n",
      "* * * * * * \n",
      "* * * * * \n",
      "* * * * \n",
      "* * * \n",
      "* * \n",
      "* \n"
     ]
    }
   ],
   "source": [
    "num = int(input(\"enter the number of rows \"))\n",
    "for i in range(num, 0,-1):\n",
    "    for j in range(0, i):\n",
    "        print(\"*\", end=\" \")\n",
    "    print()"
   ]
  },
  {
   "cell_type": "code",
   "execution_count": 6,
   "metadata": {},
   "outputs": [
    {
     "name": "stdout",
     "output_type": "stream",
     "text": [
      "enter the number of rows6\n",
      "1 \n",
      "2 3 \n",
      "4 5 6 \n",
      "7 8 9 10 \n",
      "11 12 13 14 15 \n",
      "16 17 18 19 20 21 \n"
     ]
    }
   ],
   "source": [
    "n = int(input(\"enter the number of rows\"))\n",
    "num = 1\n",
    "for i in range(1, n+1):\n",
    "    for j in range(1, i+1):\n",
    "        print(num, end=\" \")\n",
    "        num =num+1\n",
    "    print()\n",
    "        \n",
    "   \n",
    "        "
   ]
  },
  {
   "cell_type": "code",
   "execution_count": 8,
   "metadata": {},
   "outputs": [
    {
     "name": "stdout",
     "output_type": "stream",
     "text": [
      "enter the stringpython\n",
      "p \n",
      "p y \n",
      "p y t \n",
      "p y t h \n",
      "p y t h o \n",
      "p y t h o n \n"
     ]
    }
   ],
   "source": [
    "string = input(\"enter the string\")\n",
    "length = len(string)\n",
    "for row in range(length):\n",
    "    for col in range(row+1):\n",
    "        print(string[col], end=\" \")\n",
    "    print()\n",
    "        \n",
    "# for i in range(length):\n",
    "#     for j in range(i+1):\n",
    "#         print(string[j], end=\" \")\n",
    "#     print()"
   ]
  },
  {
   "cell_type": "code",
   "execution_count": 9,
   "metadata": {},
   "outputs": [
    {
     "name": "stdout",
     "output_type": "stream",
     "text": [
      "Enter the number of rows7\n",
      "1 2 3 4 5 6 7 \n",
      "1 2 3 4 5 6 \n",
      "1 2 3 4 5 \n",
      "1 2 3 4 \n",
      "1 2 3 \n",
      "1 2 \n",
      "1 \n"
     ]
    }
   ],
   "source": [
    "n  =int(input(\"Enter the number of rows\"))\n",
    "for i in range(n,0,-1):\n",
    "    for j in range(1,i+1):\n",
    "        print(j, end=\" \")\n",
    "    print()\n",
    "        \n",
    "\n"
   ]
  },
  {
   "cell_type": "code",
   "execution_count": 10,
   "metadata": {
    "scrolled": true
   },
   "outputs": [
    {
     "name": "stdout",
     "output_type": "stream",
     "text": [
      "Enter the number of rows7\n",
      "7 7 7 7 7 7 7 \n",
      "6 6 6 6 6 6 \n",
      "5 5 5 5 5 \n",
      "4 4 4 4 \n",
      "3 3 3 \n",
      "2 2 \n",
      "1 \n"
     ]
    }
   ],
   "source": [
    "n = int(input(\"Enter the number of rows\"))\n",
    "for i in range(n,0,-1):\n",
    "    for j in range(1,i+1):\n",
    "        print(i, end=\" \")\n",
    "    print()"
   ]
  },
  {
   "cell_type": "code",
   "execution_count": 16,
   "metadata": {},
   "outputs": [
    {
     "name": "stdout",
     "output_type": "stream",
     "text": [
      "Enter the number of rows7\n",
      "1 \n",
      "2 2 \n",
      "3 3 3 \n",
      "4 4 4 4 \n",
      "5 5 5 5 5 \n",
      "6 6 6 6 6 6 \n",
      "7 7 7 7 7 7 7 \n"
     ]
    }
   ],
   "source": [
    "n = int(input(\"Enter the number of rows\"))\n",
    "for i in range(1, n+1):\n",
    "    for j in range(1,i+1):\n",
    "        print(i, end=\" \")\n",
    "    print()"
   ]
  },
  {
   "cell_type": "code",
   "execution_count": 11,
   "metadata": {},
   "outputs": [
    {
     "name": "stdout",
     "output_type": "stream",
     "text": [
      "enter the number of rows7\n",
      "      *      \n",
      "     * *     \n",
      "    *   *    \n",
      "   *     *   \n",
      "  *       *  \n",
      " *         * \n",
      "*************\n"
     ]
    }
   ],
   "source": [
    "n = int(input(\"enter the number of rows\"))\n",
    "for row in range(1, n+1):\n",
    "    for col in range(1, 2*n):\n",
    "        if row ==n or row+col ==n+1 or col-row ==n-1:\n",
    "            print(\"*\", end=\"\")\n",
    "        else:\n",
    "            print(end=\" \")\n",
    "    print()"
   ]
  },
  {
   "cell_type": "markdown",
   "metadata": {},
   "source": [
    "# ARMSTRONG NUMBER(153 = 1**3+5**3+3**3=153)"
   ]
  },
  {
   "cell_type": "code",
   "execution_count": 12,
   "metadata": {},
   "outputs": [
    {
     "name": "stdout",
     "output_type": "stream",
     "text": [
      "0\n",
      "1\n",
      "2\n",
      "3\n",
      "4\n",
      "5\n",
      "6\n",
      "7\n",
      "8\n",
      "9\n",
      "153\n",
      "370\n",
      "371\n",
      "407\n",
      "1634\n"
     ]
    }
   ],
   "source": [
    "for i in range(3000):\n",
    "    num = i\n",
    "    result = 0\n",
    "    n = len(str(i))\n",
    "    while(i!=0):\n",
    "        digit = i%10\n",
    "        result = result+digit**n\n",
    "        i = i//10\n",
    "    if num == result:\n",
    "        print(num)\n",
    "    "
   ]
  },
  {
   "cell_type": "markdown",
   "metadata": {},
   "source": [
    "# factorial number"
   ]
  },
  {
   "cell_type": "code",
   "execution_count": 13,
   "metadata": {},
   "outputs": [
    {
     "name": "stdout",
     "output_type": "stream",
     "text": [
      "1 1\n",
      "2 2\n",
      "3 6\n",
      "4 24\n",
      "5 120\n",
      "6 720\n",
      "7 5040\n",
      "8 40320\n",
      "9 362880\n",
      "10 3628800\n",
      "11 39916800\n",
      "12 479001600\n",
      "13 6227020800\n",
      "14 87178291200\n"
     ]
    }
   ],
   "source": [
    "def factorial(n):\n",
    "    if n == 0:\n",
    "        return 1\n",
    "    elif n<0:\n",
    "        return None\n",
    "    else:\n",
    "        return n*factorial(n-1)\n",
    "        \n",
    "for i in range(1,15):\n",
    "    print(i, factorial(i))\n",
    "    \n",
    "    \n",
    "#     or\n",
    "# res = facorial(8)\n",
    "# print(res)"
   ]
  },
  {
   "cell_type": "markdown",
   "metadata": {},
   "source": [
    "# FIBONACCI SERIES(0,1,1,2,3,5,8,13,21 etc)"
   ]
  },
  {
   "cell_type": "code",
   "execution_count": 14,
   "metadata": {},
   "outputs": [
    {
     "name": "stdout",
     "output_type": "stream",
     "text": [
      "0\n",
      "1\n",
      "1\n",
      "2\n",
      "3\n",
      "5\n",
      "8\n",
      "13\n",
      "21\n",
      "34\n",
      "55\n",
      "89\n",
      "144\n",
      "233\n",
      "377\n"
     ]
    }
   ],
   "source": [
    "def fibonacci(n):\n",
    "    a = 0\n",
    "    b = 1\n",
    "    print(a)\n",
    "    print(b)\n",
    "    for i in range(2, n):\n",
    "        c = a+b\n",
    "        a= b\n",
    "        b =c\n",
    "        print(c)\n",
    "fibonacci(15)"
   ]
  },
  {
   "cell_type": "markdown",
   "metadata": {},
   "source": [
    "# Pythagorean theorem a**2 +b**2 = c**2"
   ]
  },
  {
   "cell_type": "code",
   "execution_count": 15,
   "metadata": {},
   "outputs": [
    {
     "name": "stdout",
     "output_type": "stream",
     "text": [
      "Enter the maximum number to find pythagoras20\n",
      "3 4 5\n",
      "5 12 13\n",
      "6 8 10\n",
      "8 15 17\n",
      "9 12 15\n",
      "12 16 20\n"
     ]
    }
   ],
   "source": [
    "# find pythagorean number between 1 and 20\n",
    "from math import sqrt\n",
    "n = int(input(\"Enter the maximum number to find pythagoras\"))\n",
    "for a in range(1, n+1):\n",
    "    for b in range(a, n):\n",
    "        c_square = a**2 + b**2\n",
    "        c = int(sqrt(c_square))\n",
    "        if((c_square-c**2)==0):\n",
    "            print(a,b,c)\n",
    "    \n"
   ]
  },
  {
   "cell_type": "markdown",
   "metadata": {},
   "source": [
    "# whether given number prime number or nor\n",
    "prime number is a number which divide by 1 or itself(that do not come in any other table e.g-3,5,7,11,13,17"
   ]
  },
  {
   "cell_type": "code",
   "execution_count": 3,
   "metadata": {},
   "outputs": [
    {
     "name": "stdout",
     "output_type": "stream",
     "text": [
      "Enter the number to check whether it is prime number or not17\n",
      "17 it is a prime number\n"
     ]
    }
   ],
   "source": [
    "num =int(input(\"Enter the number to check whether it is prime number or not\"))\n",
    "if num>1:\n",
    "    for i in range(2, num):\n",
    "        if num%i == 0:\n",
    "            print(num, \"it is not a prime number\")\n",
    "            break\n",
    "    else:\n",
    "        print(num,\"it is a prime number\")\n",
    "else:\n",
    "    print(num, \"it is not a prime number\")"
   ]
  },
  {
   "cell_type": "markdown",
   "metadata": {},
   "source": [
    "# Palindrome program\n",
    "if a word or number,sequence read same from backward as well as forward then it is palindrome ,eg=121, madam(madam)"
   ]
  },
  {
   "cell_type": "code",
   "execution_count": 7,
   "metadata": {},
   "outputs": [
    {
     "name": "stdout",
     "output_type": "stream",
     "text": [
      "Enter the stringamuls\n",
      "Reverse string  sluma\n",
      "string is not palindrome\n"
     ]
    }
   ],
   "source": [
    "# step\n",
    "# 1)input from user or by itself\n",
    "# 2)revere the input\n",
    "# 3)compare input and reverse input if match then palindrome ok\n",
    "\n",
    "string  =input(\"Enter the string\")\n",
    "reverse_str = string[::-1]\n",
    "print(\"Reverse string \", reverse_str)\n",
    "if string== reverse_str:\n",
    "    print(\"string is palindrome\")\n",
    "else:\n",
    "    print(\"string is not palindrome\")\n",
    "\n",
    "    "
   ]
  },
  {
   "cell_type": "code",
   "execution_count": 8,
   "metadata": {},
   "outputs": [
    {
     "name": "stdout",
     "output_type": "stream",
     "text": [
      "jai\n"
     ]
    }
   ],
   "source": [
    "print(\"jai\")"
   ]
  },
  {
   "cell_type": "code",
   "execution_count": null,
   "metadata": {},
   "outputs": [],
   "source": []
  }
 ],
 "metadata": {
  "kernelspec": {
   "display_name": "Python 3",
   "language": "python",
   "name": "python3"
  },
  "language_info": {
   "codemirror_mode": {
    "name": "ipython",
    "version": 3
   },
   "file_extension": ".py",
   "mimetype": "text/x-python",
   "name": "python",
   "nbconvert_exporter": "python",
   "pygments_lexer": "ipython3",
   "version": "3.8.5"
  }
 },
 "nbformat": 4,
 "nbformat_minor": 4
}
