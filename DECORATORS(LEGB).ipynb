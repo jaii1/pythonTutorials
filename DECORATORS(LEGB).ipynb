{
 "cells": [
  {
   "cell_type": "code",
   "execution_count": null,
   "metadata": {},
   "outputs": [],
   "source": [
    "VARIABLE SCOPE(LEGB,GLOBAL AND NONLOCAL STATEMENT)===COREY(YOU TUBE)"
   ]
  },
  {
   "cell_type": "code",
   "execution_count": null,
   "metadata": {},
   "outputs": [],
   "source": [
    "LEGB RULE\n",
    "LOCAL, ENCLOSED,GLOBAL built-in"
   ]
  },
  {
   "cell_type": "code",
   "execution_count": 1,
   "metadata": {},
   "outputs": [
    {
     "name": "stdout",
     "output_type": "stream",
     "text": [
      "local y\n"
     ]
    }
   ],
   "source": [
    "x  ='global x'\n",
    "def test():\n",
    "    y = 'local y'\n",
    "    print(y)\n",
    "test()"
   ]
  },
  {
   "cell_type": "code",
   "execution_count": 2,
   "metadata": {},
   "outputs": [
    {
     "name": "stdout",
     "output_type": "stream",
     "text": [
      "global y\n",
      "global x\n"
     ]
    }
   ],
   "source": [
    "x = 'global x'\n",
    "def test():\n",
    "    y = 'global y'\n",
    "    print(y)\n",
    "    print(x)\n",
    "test()\n",
    "# global variable which is defined outside the function defition, can be called within the function like here and can\n",
    "# also be outside the function."
   ]
  },
  {
   "cell_type": "code",
   "execution_count": 4,
   "metadata": {},
   "outputs": [
    {
     "name": "stdout",
     "output_type": "stream",
     "text": [
      "local y\n",
      "global x\n"
     ]
    },
    {
     "ename": "NameError",
     "evalue": "name 'y' is not defined",
     "output_type": "error",
     "traceback": [
      "\u001b[1;31m---------------------------------------------------------------------------\u001b[0m",
      "\u001b[1;31mNameError\u001b[0m                                 Traceback (most recent call last)",
      "\u001b[1;32m<ipython-input-4-f2c876282a1c>\u001b[0m in \u001b[0;36m<module>\u001b[1;34m\u001b[0m\n\u001b[0;32m      5\u001b[0m     \u001b[0mprint\u001b[0m\u001b[1;33m(\u001b[0m\u001b[0mx\u001b[0m\u001b[1;33m)\u001b[0m\u001b[1;33m\u001b[0m\u001b[1;33m\u001b[0m\u001b[0m\n\u001b[0;32m      6\u001b[0m \u001b[0mtest\u001b[0m\u001b[1;33m(\u001b[0m\u001b[1;33m)\u001b[0m\u001b[1;33m\u001b[0m\u001b[1;33m\u001b[0m\u001b[0m\n\u001b[1;32m----> 7\u001b[1;33m \u001b[0mprint\u001b[0m\u001b[1;33m(\u001b[0m\u001b[0my\u001b[0m\u001b[1;33m)\u001b[0m\u001b[1;33m\u001b[0m\u001b[1;33m\u001b[0m\u001b[0m\n\u001b[0m",
      "\u001b[1;31mNameError\u001b[0m: name 'y' is not defined"
     ]
    }
   ],
   "source": [
    "x = 'global x'\n",
    "def test():\n",
    "    y = 'local y'\n",
    "    print(y)\n",
    "    print(x)\n",
    "test()\n",
    "print(y)\n",
    "# \"y\" is local variable it can not be caled outside the test() function"
   ]
  },
  {
   "cell_type": "code",
   "execution_count": 5,
   "metadata": {},
   "outputs": [
    {
     "name": "stdout",
     "output_type": "stream",
     "text": [
      "local y\n",
      "global x\n",
      "global x\n"
     ]
    }
   ],
   "source": [
    "x = 'global x'\n",
    "def test():\n",
    "    y = 'local y'\n",
    "    print(y)\n",
    "    print(x)\n",
    "test()\n",
    "print(x)\n",
    "# Here, u can see global variable(x) can be called  within the test function and outside the test() function"
   ]
  },
  {
   "cell_type": "code",
   "execution_count": 6,
   "metadata": {},
   "outputs": [
    {
     "name": "stdout",
     "output_type": "stream",
     "text": [
      "local x\n",
      "global x\n"
     ]
    }
   ],
   "source": [
    "x = 'global x'\n",
    "def test():\n",
    "    x = 'local x'\n",
    "    print(x)\n",
    "    \n",
    "test()\n",
    "print(x)\n"
   ]
  },
  {
   "cell_type": "code",
   "execution_count": null,
   "metadata": {},
   "outputs": [],
   "source": [
    "NOW IF WE WANT TO MAKE INNER LOCAL VARIABLE AS GLOBAL THEN ,WE USE GLOBAL KEYWORD INSIDE THE FUNCTION,SEE BLEOW CODE"
   ]
  },
  {
   "cell_type": "code",
   "execution_count": 8,
   "metadata": {},
   "outputs": [
    {
     "name": "stdout",
     "output_type": "stream",
     "text": [
      "local x\n",
      "local x\n"
     ]
    }
   ],
   "source": [
    "x = 'global x'\n",
    "def test():\n",
    "    global x\n",
    "    x = 'local x'\n",
    "    print(x)\n",
    "test()\n",
    "print(x)"
   ]
  },
  {
   "cell_type": "code",
   "execution_count": 19,
   "metadata": {},
   "outputs": [
    {
     "name": "stdout",
     "output_type": "stream",
     "text": [
      "25\n",
      "10\n",
      "25\n",
      "10\n"
     ]
    }
   ],
   "source": [
    "x =  10\n",
    "def sum(a):\n",
    "    global y\n",
    "    b = 5\n",
    "    y =a+b\n",
    "    print(y)\n",
    "    print(x)\n",
    "sum(20)\n",
    "print(y)\n",
    "print(x)"
   ]
  },
  {
   "cell_type": "code",
   "execution_count": 29,
   "metadata": {},
   "outputs": [
    {
     "name": "stdout",
     "output_type": "stream",
     "text": [
      "25\n",
      "25\n",
      "25\n",
      "25\n"
     ]
    }
   ],
   "source": [
    "x =  10\n",
    "def sum(a):\n",
    "    global x\n",
    "    b = 5\n",
    "    x =a+b\n",
    "    print(x)\n",
    "    print(x)\n",
    "sum(20)\n",
    "print(x)\n",
    "print(x)"
   ]
  },
  {
   "cell_type": "code",
   "execution_count": 12,
   "metadata": {},
   "outputs": [
    {
     "name": "stdout",
     "output_type": "stream",
     "text": [
      "15\n",
      "10\n"
     ]
    }
   ],
   "source": [
    "x = 10\n",
    "def sum(a):\n",
    "    global y\n",
    "    b =5\n",
    "    y = a+b\n",
    "    print(y)\n",
    "sum(10)\n",
    "print(x)\n",
    "    "
   ]
  },
  {
   "cell_type": "code",
   "execution_count": 21,
   "metadata": {},
   "outputs": [
    {
     "name": "stdout",
     "output_type": "stream",
     "text": [
      "20\n",
      "20\n"
     ]
    }
   ],
   "source": [
    "def sum(a):\n",
    "    global y\n",
    "    b=10\n",
    "    y  =a+b\n",
    "    print(y)\n",
    "sum(10)\n",
    "print(y)\n"
   ]
  },
  {
   "cell_type": "code",
   "execution_count": 22,
   "metadata": {},
   "outputs": [
    {
     "name": "stdout",
     "output_type": "stream",
     "text": [
      "local z\n"
     ]
    }
   ],
   "source": [
    "def test(z):\n",
    "    print(z)\n",
    "test('local z')"
   ]
  },
  {
   "cell_type": "code",
   "execution_count": 24,
   "metadata": {},
   "outputs": [
    {
     "name": "stdout",
     "output_type": "stream",
     "text": [
      "['ArithmeticError', 'AssertionError', 'AttributeError', 'BaseException', 'BlockingIOError', 'BrokenPipeError', 'BufferError', 'BytesWarning', 'ChildProcessError', 'ConnectionAbortedError', 'ConnectionError', 'ConnectionRefusedError', 'ConnectionResetError', 'DeprecationWarning', 'EOFError', 'Ellipsis', 'EnvironmentError', 'Exception', 'False', 'FileExistsError', 'FileNotFoundError', 'FloatingPointError', 'FutureWarning', 'GeneratorExit', 'IOError', 'ImportError', 'ImportWarning', 'IndentationError', 'IndexError', 'InterruptedError', 'IsADirectoryError', 'KeyError', 'KeyboardInterrupt', 'LookupError', 'MemoryError', 'ModuleNotFoundError', 'NameError', 'None', 'NotADirectoryError', 'NotImplemented', 'NotImplementedError', 'OSError', 'OverflowError', 'PendingDeprecationWarning', 'PermissionError', 'ProcessLookupError', 'RecursionError', 'ReferenceError', 'ResourceWarning', 'RuntimeError', 'RuntimeWarning', 'StopAsyncIteration', 'StopIteration', 'SyntaxError', 'SyntaxWarning', 'SystemError', 'SystemExit', 'TabError', 'TimeoutError', 'True', 'TypeError', 'UnboundLocalError', 'UnicodeDecodeError', 'UnicodeEncodeError', 'UnicodeError', 'UnicodeTranslateError', 'UnicodeWarning', 'UserWarning', 'ValueError', 'Warning', 'WindowsError', 'ZeroDivisionError', '__IPYTHON__', '__build_class__', '__debug__', '__doc__', '__import__', '__loader__', '__name__', '__package__', '__spec__', 'abs', 'all', 'any', 'ascii', 'bin', 'bool', 'breakpoint', 'bytearray', 'bytes', 'callable', 'chr', 'classmethod', 'compile', 'complex', 'copyright', 'credits', 'delattr', 'dict', 'dir', 'display', 'divmod', 'enumerate', 'eval', 'exec', 'filter', 'float', 'format', 'frozenset', 'get_ipython', 'getattr', 'globals', 'hasattr', 'hash', 'help', 'hex', 'id', 'input', 'int', 'isinstance', 'issubclass', 'iter', 'len', 'license', 'list', 'locals', 'map', 'max', 'memoryview', 'min', 'next', 'object', 'oct', 'open', 'ord', 'pow', 'print', 'property', 'range', 'repr', 'reversed', 'round', 'set', 'setattr', 'slice', 'sorted', 'staticmethod', 'str', 'sum', 'super', 'tuple', 'type', 'vars', 'zip']\n",
      "\n",
      "Help on class zip in module builtins:\n",
      "\n",
      "class zip(object)\n",
      " |  zip(*iterables) --> A zip object yielding tuples until an input is exhausted.\n",
      " |  \n",
      " |     >>> list(zip('abcdefg', range(3), range(4)))\n",
      " |     [('a', 0, 0), ('b', 1, 1), ('c', 2, 2)]\n",
      " |  \n",
      " |  The zip object yields n-length tuples, where n is the number of iterables\n",
      " |  passed as positional arguments to zip().  The i-th element in every tuple\n",
      " |  comes from the i-th iterable argument to zip().  This continues until the\n",
      " |  shortest argument is exhausted.\n",
      " |  \n",
      " |  Methods defined here:\n",
      " |  \n",
      " |  __getattribute__(self, name, /)\n",
      " |      Return getattr(self, name).\n",
      " |  \n",
      " |  __iter__(self, /)\n",
      " |      Implement iter(self).\n",
      " |  \n",
      " |  __next__(self, /)\n",
      " |      Implement next(self).\n",
      " |  \n",
      " |  __reduce__(...)\n",
      " |      Return state information for pickling.\n",
      " |  \n",
      " |  ----------------------------------------------------------------------\n",
      " |  Static methods defined here:\n",
      " |  \n",
      " |  __new__(*args, **kwargs) from builtins.type\n",
      " |      Create and return a new object.  See help(type) for accurate signature.\n",
      "\n"
     ]
    }
   ],
   "source": [
    "import builtins\n",
    "print(dir(builtins))\n",
    "print()\n",
    "help(builtins.zip)"
   ]
  },
  {
   "cell_type": "code",
   "execution_count": 25,
   "metadata": {},
   "outputs": [
    {
     "name": "stdout",
     "output_type": "stream",
     "text": [
      "1\n"
     ]
    }
   ],
   "source": [
    "m = min([1,2,3,4,5])\n",
    "print(m)"
   ]
  },
  {
   "cell_type": "code",
   "execution_count": null,
   "metadata": {},
   "outputs": [],
   "source": [
    "ENCLOSED(E)"
   ]
  },
  {
   "cell_type": "code",
   "execution_count": 26,
   "metadata": {},
   "outputs": [
    {
     "name": "stdout",
     "output_type": "stream",
     "text": [
      "inner x\n",
      "outer x\n"
     ]
    }
   ],
   "source": [
    "def outer():\n",
    "    x = 'outer x'\n",
    "    def inner():\n",
    "        x = 'inner x'\n",
    "        print(x)\n",
    "    inner()\n",
    "    print(x)\n",
    "outer()"
   ]
  },
  {
   "cell_type": "code",
   "execution_count": 28,
   "metadata": {},
   "outputs": [
    {
     "name": "stdout",
     "output_type": "stream",
     "text": [
      "outer x\n",
      "outer x\n"
     ]
    }
   ],
   "source": [
    "def outer():\n",
    "    x = 'outer x'\n",
    "    def inner():\n",
    "#         x = 'inner x'\n",
    "        print(x)\n",
    "    inner()\n",
    "    print(x)\n",
    "outer()"
   ]
  },
  {
   "cell_type": "code",
   "execution_count": 31,
   "metadata": {},
   "outputs": [
    {
     "name": "stdout",
     "output_type": "stream",
     "text": [
      "local x\n",
      "25\n"
     ]
    }
   ],
   "source": [
    "def outer():\n",
    "#     x = 'outer x'\n",
    "    def inner():\n",
    "        x  ='local x'\n",
    "        print(x)\n",
    "    inner()\n",
    "    print(x)\n",
    "outer()"
   ]
  },
  {
   "cell_type": "code",
   "execution_count": 38,
   "metadata": {},
   "outputs": [
    {
     "name": "stdout",
     "output_type": "stream",
     "text": [
      "10\n",
      "10\n",
      "10\n"
     ]
    }
   ],
   "source": [
    "def outer():\n",
    "    y = 40\n",
    "    def inner():\n",
    "        nonlocal y\n",
    "        y = 10\n",
    "        print(y)\n",
    "    inner()\n",
    "    print(y)\n",
    "outer()\n",
    "print(y)\n",
    "\n",
    "# third wala '10' error show ho rha h pycharm pr"
   ]
  },
  {
   "cell_type": "code",
   "execution_count": 39,
   "metadata": {},
   "outputs": [
    {
     "name": "stdout",
     "output_type": "stream",
     "text": [
      "10\n",
      "40\n",
      "10\n"
     ]
    }
   ],
   "source": [
    "def outer():\n",
    "    y = 40\n",
    "    def inner():\n",
    "        global y\n",
    "        y = 10\n",
    "        print(y)\n",
    "    inner()\n",
    "    print(y)\n",
    "outer()\n",
    "print(y)"
   ]
  },
  {
   "cell_type": "code",
   "execution_count": 45,
   "metadata": {},
   "outputs": [
    {
     "name": "stdout",
     "output_type": "stream",
     "text": [
      "10\n",
      "10\n",
      "10\n"
     ]
    }
   ],
   "source": [
    "def outer():\n",
    "    x = 40\n",
    "    def inner():\n",
    "        global y\n",
    "        y = 10\n",
    "        print(y)\n",
    "    inner()\n",
    "    print(y)\n",
    "outer()\n",
    "print(y)"
   ]
  },
  {
   "cell_type": "code",
   "execution_count": 49,
   "metadata": {},
   "outputs": [
    {
     "name": "stdout",
     "output_type": "stream",
     "text": [
      "11\n",
      "9\n",
      "11\n"
     ]
    }
   ],
   "source": [
    "def outer():\n",
    "    x = 9\n",
    "    def inner():\n",
    "        global y\n",
    "        y = 11\n",
    "        print(y)\n",
    "    inner()\n",
    "    print(x)\n",
    "outer()\n",
    "print(y)      "
   ]
  },
  {
   "cell_type": "code",
   "execution_count": 50,
   "metadata": {},
   "outputs": [
    {
     "name": "stdout",
     "output_type": "stream",
     "text": [
      "inner x\n",
      "outer x\n",
      "global x\n"
     ]
    }
   ],
   "source": [
    "x = 'global x'\n",
    "def outer():\n",
    "    x = 'outer x'\n",
    "    def inner():\n",
    "        x = 'inner x'\n",
    "        print(x)\n",
    "    inner()\n",
    "    print(x)\n",
    "outer()\n",
    "print(x)"
   ]
  },
  {
   "cell_type": "code",
   "execution_count": 52,
   "metadata": {},
   "outputs": [
    {
     "name": "stdout",
     "output_type": "stream",
     "text": [
      "outer x\n",
      "outer x\n",
      "global x\n"
     ]
    }
   ],
   "source": [
    "x = 'global x'\n",
    "def outer():\n",
    "    x = 'outer x'\n",
    "    def inner():\n",
    "#         x = 'inner x'\n",
    "        print(x)\n",
    "    inner()\n",
    "    print(x)\n",
    "outer()\n",
    "print(x)"
   ]
  },
  {
   "cell_type": "code",
   "execution_count": 55,
   "metadata": {},
   "outputs": [
    {
     "name": "stdout",
     "output_type": "stream",
     "text": [
      "global x\n",
      "global x\n",
      "global x\n"
     ]
    }
   ],
   "source": [
    "x = 'global x'\n",
    "def outer():\n",
    "#     x = 'outer x'\n",
    "    def inner():\n",
    "#         x = 'inner x'\n",
    "        print(x)\n",
    "    inner()\n",
    "    print(x)\n",
    "outer()\n",
    "print(x)"
   ]
  },
  {
   "cell_type": "code",
   "execution_count": 57,
   "metadata": {},
   "outputs": [
    {
     "name": "stdout",
     "output_type": "stream",
     "text": [
      "<function outer.<locals>.inner at 0x000002680096A1F0>\n",
      "1\n",
      "3\n"
     ]
    }
   ],
   "source": [
    "def outer():\n",
    "    a=1\n",
    "    def inner():\n",
    "        b=2\n",
    "        print(a)\n",
    "        result = a+b\n",
    "        return result\n",
    "    return inner\n",
    "x = outer()\n",
    "print(x)\n",
    "print(x())"
   ]
  },
  {
   "cell_type": "code",
   "execution_count": null,
   "metadata": {},
   "outputs": [],
   "source": []
  },
  {
   "cell_type": "code",
   "execution_count": 61,
   "metadata": {},
   "outputs": [
    {
     "name": "stdout",
     "output_type": "stream",
     "text": [
      "20\n",
      "5\n",
      "20\n",
      "5\n"
     ]
    }
   ],
   "source": [
    "def outer(a,b):\n",
    "    c = a+b\n",
    "    print(c)\n",
    "    def inner():\n",
    "        global d\n",
    "        d= 5\n",
    "        print(d)\n",
    "        print(c)\n",
    "    inner()\n",
    "outer(10,10)\n",
    "print(d)\n",
    "# print(f1)\n",
    "# print(f2)"
   ]
  },
  {
   "cell_type": "code",
   "execution_count": 62,
   "metadata": {},
   "outputs": [
    {
     "name": "stdout",
     "output_type": "stream",
     "text": [
      "90\n",
      "4\n",
      "90\n",
      "4\n",
      "90\n",
      "4\n"
     ]
    }
   ],
   "source": [
    "def outer(a,b):\n",
    "    c = a+b\n",
    "    print(c)\n",
    "    def inner():\n",
    "        global d\n",
    "        d = 4\n",
    "        print(d)\n",
    "        print(c)\n",
    "    inner()\n",
    "    print(d)\n",
    "    print(c)\n",
    "outer(10,80)\n",
    "print(d)"
   ]
  },
  {
   "cell_type": "code",
   "execution_count": null,
   "metadata": {},
   "outputs": [],
   "source": []
  },
  {
   "cell_type": "code",
   "execution_count": 9,
   "metadata": {},
   "outputs": [
    {
     "name": "stdout",
     "output_type": "stream",
     "text": [
      "1\n",
      "2\n",
      "3\n",
      "2\n",
      "1\n",
      "1\n"
     ]
    }
   ],
   "source": [
    "a=1\n",
    "def outer():\n",
    "    print(a)\n",
    "    x =2\n",
    "    print(x)\n",
    "    def inner():\n",
    "        b=3\n",
    "        print(b)\n",
    "        print(x)\n",
    "        print(a)\n",
    "    inner()\n",
    "outer()\n",
    "print(a)\n",
    "        "
   ]
  },
  {
   "cell_type": "code",
   "execution_count": 10,
   "metadata": {},
   "outputs": [
    {
     "name": "stdout",
     "output_type": "stream",
     "text": [
      "10\n",
      "3\n"
     ]
    }
   ],
   "source": [
    "def outer(a):\n",
    "    print(a)\n",
    "    def inner():\n",
    "        t=1\n",
    "        v = t+1\n",
    "        result = t+v\n",
    "        return result\n",
    "    return inner()\n",
    "x = outer(10)\n",
    "print(x)\n",
    "        \n",
    "    "
   ]
  },
  {
   "cell_type": "code",
   "execution_count": 4,
   "metadata": {},
   "outputs": [
    {
     "name": "stdout",
     "output_type": "stream",
     "text": [
      "1\n",
      "<function outer.<locals>.inner at 0x0000024838494F70>\n",
      "inner\n",
      "3\n",
      "1\n"
     ]
    }
   ],
   "source": [
    "def outer():\n",
    "    c=1\n",
    "    print(c)\n",
    "    def inner():\n",
    "        global a\n",
    "        a=1\n",
    "        b = a+1\n",
    "        result = a+b\n",
    "        return result\n",
    "    return inner\n",
    "x= outer()\n",
    "print(x)\n",
    "print(x.__name__)\n",
    "print(x())\n",
    "print(a)\n",
    "    "
   ]
  },
  {
   "cell_type": "code",
   "execution_count": 14,
   "metadata": {},
   "outputs": [
    {
     "name": "stdout",
     "output_type": "stream",
     "text": [
      "10\n",
      "hello\n",
      "hello\n"
     ]
    }
   ],
   "source": [
    "def outer(a):\n",
    "    print(a)\n",
    "    msg = \"hello\"\n",
    "    print(msg)\n",
    "    def inner():\n",
    "        print(msg)\n",
    "    return inner\n",
    "z = outer(10)\n",
    "z()\n",
    "        \n",
    "    "
   ]
  },
  {
   "cell_type": "markdown",
   "metadata": {},
   "source": [
    "# decorators"
   ]
  },
  {
   "cell_type": "code",
   "execution_count": null,
   "metadata": {},
   "outputs": [],
   "source": [
    "DECORATORS-ARE THE FUNCTION WHICH PROVIDE EXTRA FUNTIONALITY TO THE EXISTING FUNCTION.IT IS THE FUNCTION ITSELF WHERE WE PASS\n",
    "MAIN FUNCTION AS A PARAMETER AND THEN MODIFY AND RETURN IT INSIDE THE INNER FUNCTION..OK"
   ]
  },
  {
   "cell_type": "code",
   "execution_count": 16,
   "metadata": {},
   "outputs": [
    {
     "name": "stdout",
     "output_type": "stream",
     "text": [
      "HELLO PYTHON\n"
     ]
    }
   ],
   "source": [
    "def upper_str(func):\n",
    "    def inner_func():\n",
    "        res = func()\n",
    "        return res.upper()\n",
    "    return inner_func\n",
    "@upper_str\n",
    "def str_text():\n",
    "    return \"hello python\"\n",
    "print(str_text())\n"
   ]
  },
  {
   "cell_type": "code",
   "execution_count": 4,
   "metadata": {},
   "outputs": [
    {
     "name": "stdout",
     "output_type": "stream",
     "text": [
      "2.0\n",
      "give proper input\n"
     ]
    }
   ],
   "source": [
    "def smart_div(func):\n",
    "    def inner(a,b):\n",
    "        if b == 0:\n",
    "            return \"give proper input\"\n",
    "        return func(a,b)\n",
    "    return inner\n",
    "@smart_div\n",
    "def div(x,y):\n",
    "    return x/y\n",
    "print(div(10,5))\n",
    "print(div(10,0))"
   ]
  },
  {
   "cell_type": "code",
   "execution_count": 5,
   "metadata": {},
   "outputs": [
    {
     "name": "stdout",
     "output_type": "stream",
     "text": [
      "['MACHINE', 'LEARNING']\n"
     ]
    }
   ],
   "source": [
    "def upper_func(func):\n",
    "    def inner():\n",
    "        res = func()\n",
    "        return res.upper()\n",
    "    return inner\n",
    "def split_func(func):\n",
    "    def inner():\n",
    "        res1 = func()\n",
    "        return res1.split()\n",
    "    return inner\n",
    "@split_func\n",
    "@upper_func\n",
    "def simple_func():\n",
    "    a = \"machine learning\"\n",
    "    return a\n",
    "print(simple_func())\n"
   ]
  },
  {
   "cell_type": "code",
   "execution_count": 6,
   "metadata": {},
   "outputs": [
    {
     "name": "stdout",
     "output_type": "stream",
     "text": [
      "GOOD MORNING jai\n"
     ]
    }
   ],
   "source": [
    "def outer(expr):\n",
    "    def upper_d(func):\n",
    "        def inner():\n",
    "            return func().upper() + expr\n",
    "        return inner\n",
    "    return upper_d\n",
    "\n",
    "@ outer(\" jai\")        \n",
    "def str_d():\n",
    "    s = \"good morning\"\n",
    "    return s\n",
    "print(str_d())\n",
    "     "
   ]
  },
  {
   "cell_type": "code",
   "execution_count": 9,
   "metadata": {},
   "outputs": [
    {
     "name": "stdout",
     "output_type": "stream",
     "text": [
      "gives proper input\n",
      "gives proper input\n"
     ]
    }
   ],
   "source": [
    "def smart_div(func):\n",
    "    def inner(*args):\n",
    "        list = []\n",
    "        list  =args[1:]\n",
    "        for i in list:\n",
    "            if i == 0:\n",
    "                return \"gives proper input\"\n",
    "        return func(*args)\n",
    "    return inner\n",
    "@smart_div       \n",
    "def div1(x,y):\n",
    "    return x/y\n",
    "@smart_div\n",
    "def div2(x,y,z):\n",
    "    return x/y/z\n",
    "print(div1(10,0))\n",
    "print(div2(10,2,0))"
   ]
  },
  {
   "cell_type": "code",
   "execution_count": 10,
   "metadata": {},
   "outputs": [
    {
     "name": "stdout",
     "output_type": "stream",
     "text": [
      "greet\n"
     ]
    }
   ],
   "source": [
    "def greet():\n",
    "    s  =\"good morning\"\n",
    "    return s\n",
    "print(greet.__name__)\n",
    "    "
   ]
  },
  {
   "cell_type": "code",
   "execution_count": 11,
   "metadata": {},
   "outputs": [
    {
     "name": "stdout",
     "output_type": "stream",
     "text": [
      "inner\n"
     ]
    }
   ],
   "source": [
    "def decorators(func):\n",
    "    def inner():\n",
    "        x = func()\n",
    "        return x.upper()\n",
    "    return inner\n",
    "@decorators\n",
    "def greet():\n",
    "    s = \"good morning\"\n",
    "    return s\n",
    "print(greet.__name__)"
   ]
  },
  {
   "cell_type": "code",
   "execution_count": 15,
   "metadata": {},
   "outputs": [
    {
     "name": "stdout",
     "output_type": "stream",
     "text": [
      "greet\n"
     ]
    }
   ],
   "source": [
    "import functools\n",
    "def decorators(func):\n",
    "    @functools.wraps(func)\n",
    "    def inner():\n",
    "        res = func()\n",
    "        return res.upper()\n",
    "    return inner\n",
    "@decorators\n",
    "def greet():\n",
    "    s = \"good morning\"\n",
    "    return s\n",
    "print(greet.__name__)"
   ]
  },
  {
   "cell_type": "code",
   "execution_count": 16,
   "metadata": {},
   "outputs": [
    {
     "name": "stdout",
     "output_type": "stream",
     "text": [
      "5.0\n"
     ]
    }
   ],
   "source": [
    "def div(x,y):\n",
    "    if x<y:\n",
    "        x,y = y,x\n",
    "    print(x/y)\n",
    "div(2,10)\n",
    "        "
   ]
  },
  {
   "cell_type": "code",
   "execution_count": 17,
   "metadata": {},
   "outputs": [
    {
     "name": "stdout",
     "output_type": "stream",
     "text": [
      "2\n"
     ]
    }
   ],
   "source": [
    "def smart_div(func):\n",
    "    def inner(a,b):\n",
    "        if a<b:\n",
    "            a,b = b,a\n",
    "        return func(a,b)\n",
    "    return inner\n",
    "@smart_div\n",
    "def div(x,y):\n",
    "    print(x//y)\n",
    "div(5,10)"
   ]
  },
  {
   "cell_type": "markdown",
   "metadata": {},
   "source": [
    "# Encapsulations"
   ]
  },
  {
   "cell_type": "code",
   "execution_count": null,
   "metadata": {},
   "outputs": [],
   "source": []
  }
 ],
 "metadata": {
  "kernelspec": {
   "display_name": "Python 3",
   "language": "python",
   "name": "python3"
  },
  "language_info": {
   "codemirror_mode": {
    "name": "ipython",
    "version": 3
   },
   "file_extension": ".py",
   "mimetype": "text/x-python",
   "name": "python",
   "nbconvert_exporter": "python",
   "pygments_lexer": "ipython3",
   "version": "3.8.5"
  }
 },
 "nbformat": 4,
 "nbformat_minor": 4
}
