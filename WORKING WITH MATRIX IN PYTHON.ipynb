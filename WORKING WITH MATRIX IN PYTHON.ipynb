{
 "cells": [
  {
   "cell_type": "code",
   "execution_count": 1,
   "metadata": {},
   "outputs": [],
   "source": [
    "import numpy"
   ]
  },
  {
   "cell_type": "code",
   "execution_count": 2,
   "metadata": {},
   "outputs": [],
   "source": [
    "from numpy import *"
   ]
  },
  {
   "cell_type": "code",
   "execution_count": 3,
   "metadata": {},
   "outputs": [
    {
     "name": "stdout",
     "output_type": "stream",
     "text": [
      "[[1 2 3]\n",
      " [4 5 6]]\n"
     ]
    }
   ],
   "source": [
    "arr1 = array([\n",
    "               [1,2,3],\n",
    "               [4,5,6]\n",
    "])\n",
    "print(arr1)"
   ]
  },
  {
   "cell_type": "code",
   "execution_count": 15,
   "metadata": {},
   "outputs": [
    {
     "name": "stdout",
     "output_type": "stream",
     "text": [
      "[[1 2 3 4]\n",
      " [5 6 7 8]]\n",
      "int32\n",
      "(2, 4)\n",
      "8\n",
      "[1 2 3 4 5 6 7 8]\n",
      "2\n",
      "[[1 2]\n",
      " [3 4]\n",
      " [5 6]\n",
      " [7 8]]\n"
     ]
    }
   ],
   "source": [
    "array1 = array([[1,2,3,4],[5,6,7,8]])\n",
    "print(array1)\n",
    "print(array1.dtype)\n",
    "print(array1.shape)\n",
    "print(array1.size)\n",
    "print(array1.flatten())\n",
    "print(array1.ndim)\n",
    "array2 = array1.reshape(4,2)\n",
    "print(array2)\n",
    "# print(array1.ndim)its a two dimensional array\n"
   ]
  },
  {
   "cell_type": "code",
   "execution_count": 19,
   "metadata": {},
   "outputs": [
    {
     "name": "stdout",
     "output_type": "stream",
     "text": [
      "[[1 2 3 6]\n",
      " [2 9 4 5]\n",
      " [6 7 5 3]]\n",
      "\n",
      "[[1 2 3]\n",
      " [6 2 9]\n",
      " [4 5 6]\n",
      " [7 5 3]]\n"
     ]
    }
   ],
   "source": [
    "array1 = array([[1,2,3,6,2,9],[4,5,6,7,5,3]])\n",
    "arr3 = array1.reshape(3,4)\n",
    "print(arr3)\n",
    "print()\n",
    "arr3 = array1.reshape(4,3)\n",
    "print(arr3)"
   ]
  },
  {
   "cell_type": "code",
   "execution_count": 21,
   "metadata": {},
   "outputs": [
    {
     "name": "stdout",
     "output_type": "stream",
     "text": [
      "[[[1 2 3]\n",
      "  [6 2 9]]\n",
      "\n",
      " [[4 5 6]\n",
      "  [7 5 3]]]\n"
     ]
    }
   ],
   "source": [
    "array1 = array([[1,2,3,6,2,9],[4,5,6,7,5,3]])\n",
    "arr3 =  array1.reshape(2,2,3)\n",
    "print(arr3)"
   ]
  },
  {
   "cell_type": "code",
   "execution_count": null,
   "metadata": {},
   "outputs": [],
   "source": [
    "MATRICES"
   ]
  },
  {
   "cell_type": "code",
   "execution_count": 38,
   "metadata": {},
   "outputs": [
    {
     "name": "stdout",
     "output_type": "stream",
     "text": [
      "[[1 2 3 4]\n",
      " [5 6 7 8]]\n",
      "[[1 2 3 4]\n",
      " [5 6 7 8]]\n",
      "<class 'numpy.matrix'>\n",
      "[[1 2 3 4]\n",
      " [5 6 7 8]]\n",
      "[[ 4  5]\n",
      " [ 6  7]\n",
      " [11 12]\n",
      " [13 15]]\n",
      "\n",
      "m3 [[11 12 13]\n",
      " [14 15 16]\n",
      " [17 18 19]]\n",
      "\n",
      "m4 [[20 21 22]\n",
      " [23 24 25]\n",
      " [26 27 28]]\n",
      "\n",
      "[11 15 19]\n",
      "\n",
      "19\n",
      "11\n",
      "\n",
      "[[ 834  870  906]\n",
      " [1041 1086 1131]\n",
      " [1248 1302 1356]]\n"
     ]
    }
   ],
   "source": [
    "arr4= array([[1,2,3,4],[5,6,7,8]])\n",
    "print(arr4)\n",
    "# NOW WE ARE CONVERTING IT INTO MATRIX(to perform more operation)\n",
    "m = matrix(arr4)\n",
    "print(m)\n",
    "print(type(m))\n",
    "m1 = matrix('1 2 3 4 ; 5 6 7 8')\n",
    "print(m1)\n",
    "m2 = matrix('4 5;6 7;11 12; 13 15')\n",
    "print(m2)\n",
    "print()\n",
    "m3 = matrix('11 12 13;14 15 16;17 18 19')\n",
    "print(\"m3\",m3)\n",
    "print()\n",
    "m4 = matrix('20 21 22; 23 24 25; 26 27 28')\n",
    "print(\"m4\",m4)\n",
    "print()\n",
    "print(diagonal(m3))\n",
    "print()\n",
    "print(m3.max())\n",
    "print(m3.min())\n",
    "print()\n",
    "m5 = m3*m4;\n",
    "print(m5)"
   ]
  },
  {
   "cell_type": "code",
   "execution_count": null,
   "metadata": {},
   "outputs": [],
   "source": []
  },
  {
   "cell_type": "code",
   "execution_count": null,
   "metadata": {},
   "outputs": [],
   "source": []
  }
 ],
 "metadata": {
  "kernelspec": {
   "display_name": "Python 3",
   "language": "python",
   "name": "python3"
  },
  "language_info": {
   "codemirror_mode": {
    "name": "ipython",
    "version": 3
   },
   "file_extension": ".py",
   "mimetype": "text/x-python",
   "name": "python",
   "nbconvert_exporter": "python",
   "pygments_lexer": "ipython3",
   "version": "3.8.5"
  }
 },
 "nbformat": 4,
 "nbformat_minor": 4
}
