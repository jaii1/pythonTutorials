{
 "cells": [
  {
   "cell_type": "code",
   "execution_count": 8,
   "metadata": {},
   "outputs": [
    {
     "name": "stdout",
     "output_type": "stream",
     "text": [
      "new_list [1, 2, 3, 4, 5, 6, 7, 4.5]\n",
      "new_list1 [1, 4, 9, 16, 25, 36, 49, 20.25]\n"
     ]
    }
   ],
   "source": [
    "nums = [1,2,3,4,5,6,7,4.5]\n",
    "new_list = []\n",
    "for i in nums:\n",
    "    new_list.append(i)\n",
    "print(\"new_list\",new_list)\n",
    "\n",
    "new_list1 =[]\n",
    "for n in nums:\n",
    "    new_list1.append(n*n)\n",
    "print(\"new_list1\",new_list1)"
   ]
  },
  {
   "cell_type": "code",
   "execution_count": 14,
   "metadata": {},
   "outputs": [
    {
     "name": "stdout",
     "output_type": "stream",
     "text": [
      "[1, 2, 3, 4, 5, 6, 7, 4.5]\n",
      "\n",
      "[1, 4, 9, 16, 25, 36, 49, 20.25]\n"
     ]
    }
   ],
   "source": [
    "# NOW THROUGH LIST COMPREHENSION\n",
    "nums = [1,2,3,4,5,6,7,4.5]\n",
    "new_list1 = [x for x in nums]\n",
    "print(new_list1)\n",
    "print()\n",
    "new_list2 = [x*x for x in nums]\n",
    "print(new_list2)"
   ]
  },
  {
   "cell_type": "code",
   "execution_count": 12,
   "metadata": {},
   "outputs": [
    {
     "name": "stdout",
     "output_type": "stream",
     "text": [
      "[2, 4, 6, 8, 12, 14]\n"
     ]
    }
   ],
   "source": [
    "nums1 = [1,2,3,4, 5,6,7,8,12,14,13,15,17,21]\n",
    "list1 = []\n",
    "for n in nums1:\n",
    "    if n%2 == 0:\n",
    "        list1.append(n)\n",
    "print(list1)"
   ]
  },
  {
   "cell_type": "code",
   "execution_count": 13,
   "metadata": {},
   "outputs": [
    {
     "name": "stdout",
     "output_type": "stream",
     "text": [
      "[2, 4, 6, 8, 12, 14]\n"
     ]
    }
   ],
   "source": [
    "# BY COMPREHENSIONS\n",
    "nums1 = [1,2,3,4, 5,6,7,8,12,14,13,15,17,21]\n",
    "list2 = [x for x in nums1 if x%2==0]\n",
    "print(list2)"
   ]
  },
  {
   "cell_type": "code",
   "execution_count": null,
   "metadata": {},
   "outputs": [],
   "source": [
    "I WANT A (LETTER,NUM) PAIR FOR EACH LETTER IN'ABCD' AND EACH NUMBER IN '0123'\n",
    "EG= A0A1A3A3B0B1B2B3..AND SO ON"
   ]
  },
  {
   "cell_type": "code",
   "execution_count": 1,
   "metadata": {},
   "outputs": [
    {
     "name": "stdout",
     "output_type": "stream",
     "text": [
      "[['a', 0], ['a', 1], ['a', 2], ['a', 3], ['b', 0], ['b', 1], ['b', 2], ['b', 3], ['c', 0], ['c', 1], ['c', 2], ['c', 3], ['d', 0], ['d', 1], ['d', 2], ['d', 3]]\n"
     ]
    }
   ],
   "source": [
    "my_newlist = []\n",
    "for letter in 'abcd':\n",
    "    for num in range(4):\n",
    "        my_newlist.append([letter,num])\n",
    "print(my_newlist)\n",
    "# append can take only 1 argument thats y we talen letters and num inside []"
   ]
  },
  {
   "cell_type": "code",
   "execution_count": null,
   "metadata": {},
   "outputs": [],
   "source": [
    "NOW DOING THE SAME BY USING LIST COMPREHENSIONS BELOW"
   ]
  },
  {
   "cell_type": "code",
   "execution_count": 1,
   "metadata": {},
   "outputs": [
    {
     "name": "stdout",
     "output_type": "stream",
     "text": [
      "[['a', 0], ['a', 1], ['a', 2], ['a', 3], ['b', 0], ['b', 1], ['b', 2], ['b', 3], ['c', 0], ['c', 1], ['c', 2], ['c', 3], ['d', 0], ['d', 1], ['d', 2], ['d', 3]]\n"
     ]
    }
   ],
   "source": [
    "new_list1 = [[letter,num] for letter in 'abcd' for num in range(4)]\n",
    "print(new_list1)"
   ]
  },
  {
   "cell_type": "code",
   "execution_count": 2,
   "metadata": {},
   "outputs": [
    {
     "name": "stdout",
     "output_type": "stream",
     "text": [
      "new_tup: [('a', 0), ('a', 1), ('a', 2), ('a', 3), ('b', 0), ('b', 1), ('b', 2), ('b', 3), ('c', 0), ('c', 1), ('c', 2), ('c', 3), ('d', 0), ('d', 1), ('d', 2), ('d', 3)]\n"
     ]
    }
   ],
   "source": [
    "new_tup = [(letter,number) for letter in 'abcd' for number in range(4)]\n",
    "print(\"new_tup:\", new_tup)"
   ]
  },
  {
   "cell_type": "code",
   "execution_count": 20,
   "metadata": {},
   "outputs": [
    {
     "name": "stdout",
     "output_type": "stream",
     "text": [
      "[('Bruce', 'Batman'), ('clark', 'Superman'), ('peter', 'Spiderman'), ('Logan', 'Wolverine'), ('Wade', 'Deadpool')]\n"
     ]
    }
   ],
   "source": [
    "names =['Bruce','clark','peter','Logan','Wade']\n",
    "heros = ['Batman','Superman','Spiderman','Wolverine','Deadpool']\n",
    "print(list(zip(names,heros)))"
   ]
  },
  {
   "cell_type": "code",
   "execution_count": 22,
   "metadata": {},
   "outputs": [
    {
     "name": "stdout",
     "output_type": "stream",
     "text": [
      "{'Bruce': 'Batman', 'clark': 'Superman', 'peter': 'Spiderman', 'Logan': 'Wolverine', 'Wade': 'Deadpool'}\n"
     ]
    }
   ],
   "source": [
    "# I want a dict{'name':'hero'} for each name,hero in zip(names,heros)\n",
    "\n",
    "names =['Bruce','clark','peter','Logan','Wade']\n",
    "heros = ['Batman','Superman','Spiderman','Wolverine','Deadpool']\n",
    "new_dict = {}\n",
    "for names,heros in zip(names,heros):\n",
    "    new_dict[names] = heros\n",
    "print(new_dict)"
   ]
  },
  {
   "cell_type": "code",
   "execution_count": null,
   "metadata": {},
   "outputs": [],
   "source": [
    "NOW DOING THROUGH COMPREHENSION(Dict Comprehension)"
   ]
  },
  {
   "cell_type": "code",
   "execution_count": 30,
   "metadata": {},
   "outputs": [
    {
     "name": "stdout",
     "output_type": "stream",
     "text": [
      "{'Bruce': 'Batman', 'clark': 'Superman', 'peter': 'Spiderman', 'Logan': 'Wolverine', 'Wade': 'Deadpool'}\n",
      "\n",
      "{'Bruce': 'Batman', 'clark': 'Superman', 'Logan': 'Wolverine', 'Wade': 'Deadpool'}\n"
     ]
    }
   ],
   "source": [
    "names =['Bruce','clark','peter','Logan','Wade']\n",
    "heros = ['Batman','Superman','Spiderman','Wolverine','Deadpool']\n",
    "new_dict = {name:hero for name,hero in zip(names, heros)}\n",
    "print(new_dict)\n",
    "print()\n",
    "new_dict2 = {name:hero for name,hero in zip(names,heros) if name!='peter'}\n",
    "print(new_dict2)"
   ]
  },
  {
   "cell_type": "code",
   "execution_count": null,
   "metadata": {},
   "outputs": [],
   "source": [
    "SET COMPREHENSIONS"
   ]
  },
  {
   "cell_type": "code",
   "execution_count": 32,
   "metadata": {},
   "outputs": [
    {
     "name": "stdout",
     "output_type": "stream",
     "text": [
      "{1, 2, 3, 4, 5, 6, 7, 8, 9, 10}\n"
     ]
    }
   ],
   "source": [
    "nums = [1,1,2,1,3,4,3,4,5,5,6,7,8,7,8,9,10,10]\n",
    "# now we r creating set from this list(nums)\n",
    "new_set = set()\n",
    "for num in nums:\n",
    "    new_set.add(num)\n",
    "print(new_set)"
   ]
  },
  {
   "cell_type": "code",
   "execution_count": null,
   "metadata": {},
   "outputs": [],
   "source": [
    "EXAMPLE 2"
   ]
  },
  {
   "cell_type": "code",
   "execution_count": 4,
   "metadata": {},
   "outputs": [
    {
     "name": "stdout",
     "output_type": "stream",
     "text": [
      "i: 1,i: 1,i: 2,i: 1,i: 3,i: 4,i: 3,i: 4,i: 5,i: 5,i: 6,i: 7,i: 8,i: 7,i: 8,i: 9,i: 10,i: 10,Created set is:  {1, 2, 3, 4, 5, 6, 7, 8, 9, 10}\n",
      "Created set1 is:  {64, 1, 4, 36, 100, 9, 16, 49, 81, 25}\n"
     ]
    }
   ],
   "source": [
    "nums = (1,1,2,1,3,4,3,4,5,5,6,7,8,7,8,9,10,10)\n",
    "to_set=set()\n",
    "to_set1 =set()\n",
    "for i in nums:\n",
    "    print(\"i:\", i,end=\",\")\n",
    "    to_set.add(i)\n",
    "    to_set1.add(i*i)\n",
    "print('Created set is: ', to_set)\n",
    "print('Created set1 is: ', to_set1)  "
   ]
  },
  {
   "cell_type": "code",
   "execution_count": null,
   "metadata": {},
   "outputs": [],
   "source": [
    "SET COMPREHENSION"
   ]
  },
  {
   "cell_type": "code",
   "execution_count": 36,
   "metadata": {},
   "outputs": [
    {
     "name": "stdout",
     "output_type": "stream",
     "text": [
      "new_set {1, 2, 3, 4, 5, 6, 7, 8, 9, 10}\n",
      "new_set1 {2, 4, 6, 8, 10}\n"
     ]
    }
   ],
   "source": [
    "nums = [1,1,2,1,3,4,3,4,5,5,6,7,8,7,8,9,10,10]\n",
    "new_set = {x for x in nums}\n",
    "print(\"new_set\",new_set)\n",
    "new_set1  = {x for x in nums if x%2 ==0}\n",
    "print(\"new_set1\",new_set1)"
   ]
  },
  {
   "cell_type": "code",
   "execution_count": null,
   "metadata": {},
   "outputs": [],
   "source": [
    "through GENERATOR"
   ]
  },
  {
   "cell_type": "code",
   "execution_count": 37,
   "metadata": {},
   "outputs": [
    {
     "name": "stdout",
     "output_type": "stream",
     "text": [
      "<generator object gen_func at 0x000001B588E4C6D0>\n",
      "<class 'generator'>\n",
      "1\n",
      "4\n",
      "9\n",
      "16\n",
      "25\n",
      "36\n",
      "49\n",
      "64\n",
      "81\n",
      "100\n"
     ]
    }
   ],
   "source": [
    "nums = [1,2,3,4,5,6,7,8,9,10]\n",
    "def gen_func(n):\n",
    "    for i in n:\n",
    "        yield i*i\n",
    "x1 = gen_func(nums)\n",
    "print(x1)\n",
    "print(type(x1))\n",
    "for a in x1:\n",
    "    print(a)"
   ]
  },
  {
   "cell_type": "code",
   "execution_count": 39,
   "metadata": {},
   "outputs": [
    {
     "name": "stdout",
     "output_type": "stream",
     "text": [
      "<generator object <genexpr> at 0x000001B588E4CBA0>\n",
      "1\n",
      "4\n",
      "9\n",
      "16\n",
      "25\n",
      "36\n",
      "49\n",
      "64\n",
      "81\n",
      "100\n"
     ]
    }
   ],
   "source": [
    "# THROGH COMPREHENSION(WE USE HERE TUPLE COMPREHENSION)\n",
    "nums = [1,2,3,4,5,6,7,8,9,10]\n",
    "my_gen = (x*x for x in nums)\n",
    "print(my_gen)\n",
    "for i in my_gen:\n",
    "    print(i)"
   ]
  },
  {
   "cell_type": "code",
   "execution_count": null,
   "metadata": {},
   "outputs": [],
   "source": []
  }
 ],
 "metadata": {
  "kernelspec": {
   "display_name": "Python 3",
   "language": "python",
   "name": "python3"
  },
  "language_info": {
   "codemirror_mode": {
    "name": "ipython",
    "version": 3
   },
   "file_extension": ".py",
   "mimetype": "text/x-python",
   "name": "python",
   "nbconvert_exporter": "python",
   "pygments_lexer": "ipython3",
   "version": "3.8.5"
  }
 },
 "nbformat": 4,
 "nbformat_minor": 4
}
