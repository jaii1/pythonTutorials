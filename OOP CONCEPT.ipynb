{
 "cells": [
  {
   "cell_type": "code",
   "execution_count": null,
   "metadata": {},
   "outputs": [],
   "source": [
    "MOTA MOTA ,WE CAN SAY THAT THROUGH INHERITANCE, CHILD CLASS INHERIT THE PROPERTIES(METHODS) OF THE PARENT\n",
    "CLASS OK,WHETHER YOU WRITE ALL THOSE METHODS IN CHILD CLASS OR NOT ,AND YES YOU CAN CAN WRITE SOME OF THOSE  METHODS\n",
    "(OF PARENT CLASS) INSIDE CHILD CLASS WITH THE SAME NAME(BY USING POLYMORPHISM) AND YOU CAN ALSO CHANGE OR MODIFY\n",
    "THEIR FUNCTIONALITY THIS IS CALLED METHOD OVERRIDING, OK and child can also have their own methods\n"
   ]
  },
  {
   "cell_type": "code",
   "execution_count": null,
   "metadata": {},
   "outputs": [],
   "source": [
    "class = It is a blueprint or design where we can create thousands of object(instance) ,initialize them through contructor\n",
    "(proving them instance attribute) and provide function\\ methods(behavior) to those objects\n"
   ]
  },
  {
   "cell_type": "code",
   "execution_count": 9,
   "metadata": {},
   "outputs": [
    {
     "name": "stdout",
     "output_type": "stream",
     "text": [
      "driving\n",
      "100\n",
      "400\n"
     ]
    }
   ],
   "source": [
    "class car:\n",
    "    __maxspeed = 0\n",
    "    __name =\" \"\n",
    "    def __init__(self):\n",
    "        self.__maxspeed = 100\n",
    "        self.__name = \"supercar\"\n",
    "    def drive(self):\n",
    "        print(\"driving\")\n",
    "        print(self._maxspeed)\n",
    "    def setspeed(self, speed):\n",
    "        self.__maxspeed = speed\n",
    "        print(self.__maxspeed)\n",
    "suparcar = car()\n",
    "suparcar.drive()\n",
    "suparcar.setspeed(400)\n",
    "\n",
    "    \n",
    "    "
   ]
  },
  {
   "cell_type": "code",
   "execution_count": 2,
   "metadata": {},
   "outputs": [
    {
     "name": "stdout",
     "output_type": "stream",
     "text": [
      "driving\n",
      "200\n",
      "driving\n",
      "200\n"
     ]
    }
   ],
   "source": [
    "class car():\n",
    "    __maxspeed = 0\n",
    "    __name = \" \"\n",
    "    def __init__(self):\n",
    "        self.__maxspeed = 200\n",
    "        self.__name = \"redcar\"\n",
    "    def drive(self):\n",
    "        print(\"driving\")\n",
    "        print(self.__maxspeed)\n",
    "#     def setspeed(self, speed):\n",
    "#         self.__maxspeed = 300\n",
    "#         print(self.__maxspeed)\n",
    "redcar = car()\n",
    "redcar.drive()\n",
    "redcar.__maxspeed  =500\n",
    "redcar.drive()\n",
    "    \n",
    "    "
   ]
  },
  {
   "cell_type": "code",
   "execution_count": 11,
   "metadata": {},
   "outputs": [
    {
     "name": "stdout",
     "output_type": "stream",
     "text": [
      "driving\n",
      "200\n",
      "new speed is: 400\n",
      "car color is: red\n"
     ]
    }
   ],
   "source": [
    " class car:\n",
    "    __name = ''\n",
    "    __speed = 0\n",
    "    __color = ''\n",
    "    def __init__(self):\n",
    "        self.__name = 'Suparcar'\n",
    "        self.__speed = 200\n",
    "        self.__color = 'red'\n",
    "    def driving(self):\n",
    "        print('driving')\n",
    "        print(self.__speed)\n",
    "    def setspeed(self, speed):\n",
    "        self.__speed = speed\n",
    "        print(\"new speed is:\", self.__speed)\n",
    "    def car_color(self):\n",
    "        print(\"car color is:\", self.__color)\n",
    "\n",
    "Suparcar = car()\n",
    "Suparcar.driving()\n",
    "Suparcar.setspeed(400)\n",
    "Suparcar.car_color()\n"
   ]
  },
  {
   "cell_type": "code",
   "execution_count": null,
   "metadata": {},
   "outputs": [],
   "source": [
    "attribute(height,weight,age,color)\n",
    "behavior"
   ]
  },
  {
   "cell_type": "code",
   "execution_count": null,
   "metadata": {},
   "outputs": [],
   "source": [
    "supose we are creating 4 computers with name,different memory and ram,so we create class here"
   ]
  },
  {
   "cell_type": "code",
   "execution_count": 19,
   "metadata": {},
   "outputs": [
    {
     "name": "stdout",
     "output_type": "stream",
     "text": [
      "<__main__.computer object at 0x00000238128BC490>\n",
      "\n",
      "computer display: hello_world\n",
      "welcome\n",
      "Computer:i5 Ram:16gb Memory:1tb\n",
      "\n",
      "Computer:i6 Ram:8gb Memory:1tb\n",
      "\n",
      "<class 'int'>\n"
     ]
    }
   ],
   "source": [
    "class computer:\n",
    "    def __init__(self, name,ram,memory):\n",
    "        self.name = name\n",
    "        self.ram = ram\n",
    "        self.memory = memory\n",
    "    def display(self):\n",
    "        x = 'hello_world'\n",
    "        print(\"computer display:\",x)\n",
    "        print(\"welcome\")\n",
    "    def detail(self):\n",
    "        print('Computer:{} Ram:{} Memory:{}'.format(self.name, self.ram,self.memory))\n",
    "        \n",
    "c1 = computer(\"i5\", \"16gb\", \"1tb\")\n",
    "c2 =computer(\"i6\", \"8gb\",\"1tb\")\n",
    "print(c1)\n",
    "print()\n",
    "c1.display()\n",
    "c1.detail()\n",
    "print()\n",
    "c2.detail()\n",
    "print()\n",
    "d = 7\n",
    "print(type(d))\n",
    "#   here c1 is object of class 'computer'(created by ous) and d=7 so 7 is a int type of class 'int'      "
   ]
  },
  {
   "cell_type": "code",
   "execution_count": null,
   "metadata": {},
   "outputs": [],
   "source": [
    "see more"
   ]
  },
  {
   "cell_type": "code",
   "execution_count": null,
   "metadata": {},
   "outputs": [],
   "source": [
    "CLASS VARIABLE/ATTRIBUTE:-are the variables whose value are assigned in the class and can be access by\n",
    "all instance of class\n",
    "INSTANCE VARIABLE/ATTRIBUTE:-are the variables whose value are assigned inside the constructor(i.e = __init__)\n",
    "and other methods in the class."
   ]
  },
  {
   "cell_type": "code",
   "execution_count": 26,
   "metadata": {},
   "outputs": [
    {
     "name": "stdout",
     "output_type": "stream",
     "text": [
      "shera\n",
      "black\n",
      "\n",
      "dog name is:shera\n",
      "dog color is:black\n",
      "\n",
      "mammal\n",
      "mammal\n",
      "\n",
      "This shera dog is:mammal\n",
      "This golu dog is :mammal\n"
     ]
    }
   ],
   "source": [
    "class dog:\n",
    "#     class attribute\n",
    "    attr1 = 'mammal'\n",
    "    def __init__(self, name,color):\n",
    "#         this is instance attribute\n",
    "        self.name = name\n",
    "        self.color = color\n",
    "        \n",
    "d1 = dog('shera','black')\n",
    "d2 = dog('golu', 'white')\n",
    "\n",
    "# accessing instance attribute\n",
    "print(d1.name)\n",
    "print(d1.color)\n",
    "print()\n",
    "print(\"dog name is:{}\".format(d1.name))\n",
    "print(\"dog color is:{}\".format(d1.color))\n",
    "\n",
    "print()\n",
    "# now accessing class atribute\n",
    "\n",
    "print(d1.__class__.attr1)\n",
    "print(d2.__class__.attr1)\n",
    "print()\n",
    "print(\"This shera dog is:{}\".format(d1.__class__.attr1))\n",
    "print(\"This golu dog is :{}\".format(d2.__class__.attr1))\n"
   ]
  },
  {
   "cell_type": "code",
   "execution_count": 29,
   "metadata": {},
   "outputs": [
    {
     "name": "stdout",
     "output_type": "stream",
     "text": [
      "\n",
      "My name is shera\n",
      "my breed is:German Shepherd\n",
      "\n",
      "My name is tony\n",
      "my breed is:Labrador\n"
     ]
    }
   ],
   "source": [
    "class dog:\n",
    "    def __init__(self, name,breed):\n",
    "        self.name = name\n",
    "        self.breed = breed\n",
    "    def speak(self):\n",
    "        print(\"My name is {}\".format(self.name))\n",
    "        print(\"my breed is:{}\".format(self.breed))\n",
    "        \n",
    "d1 = dog('shera','German Shepherd')\n",
    "d2 = dog('tony', 'Labrador')\n",
    "\n",
    "print()\n",
    "d1.speak()\n",
    "print()\n",
    "d2.speak()\n",
    "    "
   ]
  },
  {
   "cell_type": "code",
   "execution_count": 31,
   "metadata": {},
   "outputs": [
    {
     "name": "stdout",
     "output_type": "stream",
     "text": [
      "\n",
      "My name is:Jai\n",
      "I am a Data analyst\n",
      "\n",
      "My name is:nikhil\n",
      "I am a shopbusiness\n"
     ]
    }
   ],
   "source": [
    "class person:\n",
    "    def __init__(self, name,profession):\n",
    "        self.name = name\n",
    "        self.profession = profession\n",
    "    def details(self):\n",
    "        print(\"My name is:{}\".format(self.name))\n",
    "        print(\"I am a {}\".format(self.profession))\n",
    "        \n",
    "p1 = person(\"Jai\", \"Data analyst\")\n",
    "p2 = person(\"nikhil\", \"shopbusiness\")\n",
    "print()\n",
    "\n",
    "p1.details()\n",
    "print()\n",
    "p2.details()\n"
   ]
  },
  {
   "cell_type": "code",
   "execution_count": 34,
   "metadata": {},
   "outputs": [
    {
     "name": "stdout",
     "output_type": "stream",
     "text": [
      "shera_details\n",
      "shera is a :dog\n",
      "shera is of breed:pug\n",
      "shera color is:brown\n",
      "\n",
      "shona_details\n",
      "shona is a dog\n",
      "shona is of breed:bulldog\n",
      "shona is of color:black\n",
      "\n",
      "dog\n"
     ]
    }
   ],
   "source": [
    "class dog:\n",
    "    animal = 'dog'\n",
    "    def __init__(self, breed, color):\n",
    "        self.breed =breed\n",
    "        self.color = color\n",
    "        \n",
    "shera = dog('pug', 'brown')\n",
    "shona = dog('bulldog','black')\n",
    "\n",
    "print(\"shera_details\")\n",
    "print(\"shera is a :{}\".format(shera.animal))\n",
    "print(\"shera is of breed:{}\".format(shera.breed))\n",
    "print(\"shera color is:{}\".format(shera.color))\n",
    "print()\n",
    "print(\"shona_details\")\n",
    "print(\"shona is a {}\".format(shona.animal))\n",
    "print(\"shona is of breed:{}\".format(shona.breed))\n",
    "print(\"shona is of color:{}\".format(shona.color))\n",
    "\n",
    "print()\n",
    "# class variable can also be accessed by class\n",
    "print(dog.animal)\n",
    "    "
   ]
  },
  {
   "cell_type": "code",
   "execution_count": 36,
   "metadata": {},
   "outputs": [
    {
     "name": "stdout",
     "output_type": "stream",
     "text": [
      "black\n"
     ]
    }
   ],
   "source": [
    "class dog:\n",
    "    def __init__(self, breed):\n",
    "        self.breed = breed\n",
    "    def set_color(self, color):\n",
    "        self.color = color\n",
    "    def get_color(self):\n",
    "        return self.color\n",
    "    \n",
    "shona  =dog(\"shephard\")\n",
    "shona.set_color(\"black\")\n",
    "print(shona.get_color())\n",
    "\n",
    "# we have used 'return' in method 'get_color' so we use print with object while calling this function\n"
   ]
  },
  {
   "cell_type": "code",
   "execution_count": 29,
   "metadata": {},
   "outputs": [
    {
     "name": "stdout",
     "output_type": "stream",
     "text": [
      "jai\n",
      "btech\n",
      "\n",
      "IT\n",
      "\n",
      "IT\n",
      "jai is singing a song\n",
      "40\n"
     ]
    }
   ],
   "source": [
    "class employee:\n",
    "    department = 'IT'\n",
    "    def __init__(self):\n",
    "        self.name = 'jai'\n",
    "        self.education = 'btech'\n",
    "        self.age = 32\n",
    "    def singing(self):\n",
    "        print(\"jai is singing a song\")\n",
    "    def set_age(self, age):\n",
    "        self.age = age\n",
    "    def get_age(self):\n",
    "        return self.age\n",
    "\n",
    "\n",
    "e1 = employee()\n",
    "print(e1.name)\n",
    "print(e1.education)\n",
    "print()\n",
    "print(e1.department)\n",
    "print()\n",
    "print(employee.department)\n",
    "e1.singing()\n",
    "e1.set_age(40)\n",
    "print(e1.get_age())\n"
   ]
  },
  {
   "cell_type": "code",
   "execution_count": 33,
   "metadata": {},
   "outputs": [
    {
     "name": "stdout",
     "output_type": "stream",
     "text": [
      "The first number is:20\n",
      "The second number is:30\n",
      "Addition of two numbers 50\n"
     ]
    }
   ],
   "source": [
    "class Addition:\n",
    "    first = 0\n",
    "    second = 0\n",
    "    answer = 0\n",
    "    def __init__(self, f,s):\n",
    "        self.first = f\n",
    "        self.second = s\n",
    "    \n",
    "    def display(self):\n",
    "        print(\"The first number is:\"+ str(self.first))\n",
    "        print(\"The second number is:\"+ str(self.second))\n",
    "    \n",
    "    def calculate(self):\n",
    "        self.answer = self.first+self.second\n",
    "        print(\"Addition of two numbers\", self.answer)\n",
    "        \n",
    "ad = Addition(20,30)\n",
    "ad.display()\n",
    "ad.calculate()"
   ]
  },
  {
   "cell_type": "code",
   "execution_count": null,
   "metadata": {},
   "outputs": [],
   "source": [
    "Inheritance"
   ]
  },
  {
   "cell_type": "code",
   "execution_count": null,
   "metadata": {},
   "outputs": [],
   "source": [
    "It is the capability of one class to derive the property of another class\n",
    "The class that derive properties is called base class(child class)\n",
    "The class from which the properties are being derived is called Parent class\n",
    "suppose\n",
    "It is transitive in nature, which means that if class B inherits from another class A, \n",
    "then all the subclasses of B would automatically inherit from class A."
   ]
  },
  {
   "cell_type": "code",
   "execution_count": 39,
   "metadata": {},
   "outputs": [
    {
     "name": "stdout",
     "output_type": "stream",
     "text": [
      "jai\n",
      "0401\n",
      "\n",
      "My name is jai\n",
      "My salary is 40000\n",
      "My post isdata analyst\n"
     ]
    }
   ],
   "source": [
    "class person:\n",
    "    def __init__(self, name,idnumber):\n",
    "        self.name = name\n",
    "        self.idnumber = idnumber\n",
    "    def display(self):\n",
    "        print(self.name)\n",
    "        print(self.idnumber)\n",
    "    def details(self):\n",
    "        print(\"My name is {}\".format(self.name))\n",
    "        print(\"My id is :{}\".format(self.idnumber))\n",
    "        \n",
    "class employee(person):\n",
    "    def __init__(self, name,idnumber,salary,post):\n",
    "        self.salary = salary\n",
    "        self.post = post\n",
    "#         invoking the __init__ of the parent class\n",
    "        person.__init__(self, name,idnumber)\n",
    "    \n",
    "    def details(self):\n",
    "        print(\"My name is {}\".format(self.name))\n",
    "        print(\"My salary is {}\".format(self.salary))\n",
    "        print(\"My post is{}\".format(self.post))\n",
    "        \n",
    "e1 = employee('jai','0401',40000,'data analyst')\n",
    "e1.display()\n",
    "# We can use the methods of the person class(display()method) through employee class(i.e = e1.display())\n",
    "print()\n",
    "e1.details()\n",
    "# A child class can also modify the behavior of the parent class as seen through the details() method\n",
    "# both class has detail()ethod and it has taken the detail()method from child class(employee)\n",
    "\n",
    "        "
   ]
  },
  {
   "cell_type": "code",
   "execution_count": 3,
   "metadata": {},
   "outputs": [
    {
     "name": "stdout",
     "output_type": "stream",
     "text": [
      "\n",
      "jai\n",
      "\n",
      "sam\n",
      "\n",
      "jai False\n",
      "\n",
      "sam True\n"
     ]
    }
   ],
   "source": [
    "class person:\n",
    "    def __init__(self, name,age):\n",
    "        self.name = name\n",
    "        self.age =age\n",
    "        \n",
    "    def get_name(self):\n",
    "        return self.name\n",
    "    \n",
    "    def isemployee(self):\n",
    "        return False\n",
    "class employee(person):\n",
    "    \n",
    "    def isemployee(self):\n",
    "        return True\n",
    "    \n",
    "e1 = person('jai', 34)\n",
    "e2 =employee('sam',36)\n",
    "print()\n",
    "print(e1.get_name())\n",
    "print()\n",
    "print(e2.get_name())\n",
    "print()\n",
    "print(e1.get_name(), e1.isemployee())\n",
    "print()\n",
    "print(e2.get_name(), e2.isemployee())"
   ]
  },
  {
   "cell_type": "code",
   "execution_count": null,
   "metadata": {},
   "outputs": [],
   "source": [
    "MORE EXAMPLES"
   ]
  },
  {
   "cell_type": "code",
   "execution_count": 4,
   "metadata": {},
   "outputs": [
    {
     "name": "stdout",
     "output_type": "stream",
     "text": [
      "jai\n",
      "098\n"
     ]
    }
   ],
   "source": [
    "class person:\n",
    "    def __init__(self, name,id_number):\n",
    "        self.name = name\n",
    "        self.id_number = id_number\n",
    "#         'name' and 'id_number' are instance variable of this contructor and belong to this class\n",
    "        \n",
    "    def display(self):\n",
    "        print(self.name)\n",
    "        print(self.id_number)\n",
    "\n",
    "class employee(person):\n",
    "    def __init__(self, name,id_number,salary,post):\n",
    "        self.salary = salary\n",
    "        self.post = post\n",
    "        \n",
    "        person.__init__(self, name,id_number)\n",
    "#         , ‘name’ and ‘idnumber’ are also the objects of class Employee.\n",
    "        \n",
    "e1  =employee('jai','098',50000,'data_analyst')\n",
    "e1.display()\n",
    "        \n",
    "# here object of child class(employee) that is e1 is calling parent classs method 'def display()'     \n",
    "    "
   ]
  },
  {
   "cell_type": "code",
   "execution_count": null,
   "metadata": {},
   "outputs": [],
   "source": [
    "DIFFERENCE FORM OF INHERITANCE"
   ]
  },
  {
   "cell_type": "code",
   "execution_count": null,
   "metadata": {},
   "outputs": [],
   "source": [
    "1)SINGLE INHERITANCE: When a child class inherits properties from only single parent class is calles single inheritance\n",
    "above are example of single inheritance\n",
    "\n",
    "2)MULTIPLE INHERITANCE:-When a child class inherits from  multiple parent class then it is multiple inheritance\n",
    "python support multiple inheritance\n",
    "\n",
    "3)MULTILEVEL INHERITANCE:-When we have a child and grandchild relationship"
   ]
  },
  {
   "cell_type": "code",
   "execution_count": null,
   "metadata": {},
   "outputs": [],
   "source": [
    "MULTIPLE INHERITANCE"
   ]
  },
  {
   "cell_type": "code",
   "execution_count": 9,
   "metadata": {},
   "outputs": [
    {
     "name": "stdout",
     "output_type": "stream",
     "text": [
      "jai\n",
      "sam\n",
      "\n",
      "35\n",
      "40\n"
     ]
    }
   ],
   "source": [
    "class A:\n",
    "    def __init__(self):\n",
    "        self.name1 = 'jai'\n",
    "        self.age1 = 35\n",
    "class B:\n",
    "    def __init__(self):\n",
    "        self.name2 = 'sam'\n",
    "        self.age2 = 40\n",
    "        \n",
    "class C(A,B):\n",
    "    def __init__(self):\n",
    "        \n",
    "        A.__init__(self)\n",
    "        B.__init__(self)\n",
    "        \n",
    "    def str_value(self):\n",
    "        print(self.name1)\n",
    "        print(self.name2)\n",
    "        print()\n",
    "        print(self.age1)\n",
    "        print(self.age2)\n",
    "        \n",
    "c_obj =C()\n",
    "c_obj.str_value()\n",
    "\n",
    "Here you can see 'Class C' inherit properties from both of its class(A,B) \n",
    "\n",
    "    "
   ]
  },
  {
   "cell_type": "code",
   "execution_count": null,
   "metadata": {},
   "outputs": [],
   "source": [
    "MULTILEVEL INHERITANCE"
   ]
  },
  {
   "cell_type": "code",
   "execution_count": 13,
   "metadata": {},
   "outputs": [
    {
     "name": "stdout",
     "output_type": "stream",
     "text": [
      "jai\n",
      "34\n",
      "Gurgaon\n"
     ]
    }
   ],
   "source": [
    "class parent:\n",
    "    def __init__(self, name):---parameterized constructor\n",
    "        self.name = name\n",
    "    \n",
    "    \n",
    "    def get_name(self):\n",
    "        return self.name\n",
    "\n",
    "class child(parent):\n",
    "    def __init__(self, name,age):\n",
    "        self.age = age\n",
    "        parent.__init__(self, name)\n",
    "    def get_age(self):\n",
    "        return self.age\n",
    "\n",
    "class Grandchild(child):\n",
    "    def __init__(self, name,age,address):\n",
    "        self.address = address\n",
    "        child.__init__(self,name,age)\n",
    "        \n",
    "    def get_address(self):\n",
    "        return self.address\n",
    "        \n",
    "        \n",
    "grand_obj = Grandchild('jai',34,'Gurgaon')\n",
    "print(grand_obj.get_name())\n",
    "print(grand_obj.get_age())\n",
    "print(grand_obj.get_address())"
   ]
  },
  {
   "cell_type": "code",
   "execution_count": null,
   "metadata": {},
   "outputs": [],
   "source": [
    "Private members of parent class \n",
    "We don’t always want the instance variables of the parent class to be inherited by the child class i.e. we can make some of the instance variables of the parent class private, which won’t be available to the child class. \n",
    "We can make an instance variable by adding double underscores before its name. For example,"
   ]
  },
  {
   "cell_type": "code",
   "execution_count": 36,
   "metadata": {},
   "outputs": [
    {
     "name": "stdout",
     "output_type": "stream",
     "text": [
      "10\n",
      "\n",
      "30\n",
      "\n"
     ]
    },
    {
     "ename": "AttributeError",
     "evalue": "'A' object has no attribute '__b'",
     "output_type": "error",
     "traceback": [
      "\u001b[1;31m---------------------------------------------------------------------------\u001b[0m",
      "\u001b[1;31mAttributeError\u001b[0m                            Traceback (most recent call last)",
      "\u001b[1;32m<ipython-input-36-e971e956dafc>\u001b[0m in \u001b[0;36m<module>\u001b[1;34m\u001b[0m\n\u001b[0;32m     16\u001b[0m \u001b[1;31m# which cannot access by chileclass\u001b[0m\u001b[1;33m\u001b[0m\u001b[1;33m\u001b[0m\u001b[1;33m\u001b[0m\u001b[0m\n\u001b[0;32m     17\u001b[0m \u001b[0my_obj\u001b[0m \u001b[1;33m=\u001b[0m \u001b[0mA\u001b[0m\u001b[1;33m(\u001b[0m\u001b[1;33m)\u001b[0m\u001b[1;33m\u001b[0m\u001b[1;33m\u001b[0m\u001b[0m\n\u001b[1;32m---> 18\u001b[1;33m \u001b[0mprint\u001b[0m\u001b[1;33m(\u001b[0m\u001b[0my_obj\u001b[0m\u001b[1;33m.\u001b[0m\u001b[0m__b\u001b[0m\u001b[1;33m)\u001b[0m\u001b[1;33m\u001b[0m\u001b[1;33m\u001b[0m\u001b[0m\n\u001b[0m",
      "\u001b[1;31mAttributeError\u001b[0m: 'A' object has no attribute '__b'"
     ]
    }
   ],
   "source": [
    "class A:\n",
    "    def __init__(self):\n",
    "        self.a = 10\n",
    "        self.__b= 24\n",
    "class B(A):\n",
    "    def __init__(self):\n",
    "        self.c = 30\n",
    "        A.__init__(self)\n",
    "        \n",
    "x_obj  = B()\n",
    "print(x_obj.a)\n",
    "print()\n",
    "print(x_obj.c)\n",
    "print()\n",
    "# print(x_obj.b) this will throw error because 'b' varaible is private variabe(__b)\n",
    "# which cannot access by chileclass\n",
    "y_obj = A()\n",
    "print(y_obj.__b)\n"
   ]
  },
  {
   "cell_type": "code",
   "execution_count": null,
   "metadata": {},
   "outputs": [],
   "source": [
    "Polymorphism:It means having many forms\n",
    "\n",
    "    \n",
    "suppose we need to determine whether given species of bird fly or not we can do through polymorphism\n",
    "like same len() function apply on string,len()function apply on list\n",
    "\n",
    "Like we can use Len()function for string, and for list()\n"
   ]
  },
  {
   "cell_type": "code",
   "execution_count": 3,
   "metadata": {},
   "outputs": [
    {
     "name": "stdout",
     "output_type": "stream",
     "text": [
      "26\n",
      "20\n"
     ]
    }
   ],
   "source": [
    "def add(x,y,z=0):\n",
    "    return x+y+z\n",
    "print(add(8,10,8))\n",
    "\n",
    "print()\n",
    "\n",
    "def add(x,y,z = 0):\n",
    "    return x+y+z\n",
    "print(add(10,10))\n"
   ]
  },
  {
   "cell_type": "code",
   "execution_count": 40,
   "metadata": {},
   "outputs": [
    {
     "name": "stdout",
     "output_type": "stream",
     "text": [
      "There  are many types of bird\n",
      "Some can fly and some cannot\n",
      "\n",
      "There  are many types of bird\n",
      "sparow can fly easily\n",
      "\n",
      "There  are many types of bird\n",
      "ostrich cannot fly at all\n"
     ]
    }
   ],
   "source": [
    "# kind of looklike one parent and two child\n",
    "class bird:\n",
    "    def intro(self):\n",
    "        print(\"There  are many types of bird\")\n",
    "    def flight(self):\n",
    "        print(\"Some can fly and some cannot\")\n",
    "\n",
    "class sparrow(bird):\n",
    "    def flight(self):\n",
    "        print(\"sparow can fly easily\")\n",
    "class ostrich(bird):\n",
    "    def flight(self):\n",
    "        print(\"ostrich cannot fly at all\")\n",
    "        \n",
    "bird_obj =bird()\n",
    "bird_obj.intro()\n",
    "bird_obj.flight()\n",
    "print()\n",
    "sparrow_obj = sparrow()\n",
    "sparrow_obj.intro()\n",
    "sparrow_obj.flight()\n",
    "print()\n",
    "ostrich_obj = ostrich()\n",
    "ostrich_obj.intro()\n",
    "ostrich_obj.flight()  "
   ]
  },
  {
   "cell_type": "code",
   "execution_count": null,
   "metadata": {},
   "outputs": [],
   "source": [
    "POLYMORPHISM WITH CLASS METHODS"
   ]
  },
  {
   "cell_type": "code",
   "execution_count": 4,
   "metadata": {},
   "outputs": [
    {
     "name": "stdout",
     "output_type": "stream",
     "text": [
      "Newdelhi is the capital of india\n",
      "Hindi is the national language of india\n",
      "india is a developing country\n",
      "Washington,D.C is the capital of india\n",
      "English is the national language of USA\n",
      "USA is a developed country\n"
     ]
    }
   ],
   "source": [
    "class India:\n",
    "    def capital(self):\n",
    "        print(\"Newdelhi is the capital of india\")\n",
    "    def language(self):\n",
    "        print(\"Hindi is the national language of india\")\n",
    "    def economy(self):\n",
    "        print(\"india is a developing country\")\n",
    "class USA:\n",
    "    def capital(self):\n",
    "        print(\"Washington,D.C is the capital of india\")\n",
    "    def language(self):\n",
    "        print(\"English is the national language of USA\")\n",
    "    def economy(self):\n",
    "        print(\"USA is a developed country\")\n",
    "\n",
    "ind_obj = India()\n",
    "us_obj = USA()\n",
    "for country in(ind_obj, us_obj):\n",
    "    country.capital()\n",
    "    country.language()\n",
    "    country.economy()\n",
    "    \n",
    "# Here we have created two class and their object in the same way and then perform looping to iterate through these\n",
    "# tuple of objects to call the method without being concerned about which class these objects belongs too"
   ]
  },
  {
   "cell_type": "code",
   "execution_count": null,
   "metadata": {},
   "outputs": [],
   "source": [
    "WE CAN ALSO DO THE ABOVE PROGRAM IN THE DIFFENT WAY, SEE BELOW\n",
    "WE CALL THE OBJECT OF THE CLASS THROGH FUNCTION(FIRST, WE HAVE DEFINE THE FUNCTION)"
   ]
  },
  {
   "cell_type": "code",
   "execution_count": 7,
   "metadata": {},
   "outputs": [
    {
     "name": "stdout",
     "output_type": "stream",
     "text": [
      "NewDelhi is the capital city of India\n",
      "Hindi is the primary language of India\n",
      "India is developing country\n",
      "\n",
      "Washington,D.C is the capital city of USA\n",
      "English is the primary language of USA\n",
      "USA is developed country\n"
     ]
    }
   ],
   "source": [
    "class India:\n",
    "    def capital(self):\n",
    "        print(\"NewDelhi is the capital city of India\")\n",
    "    def language(self):\n",
    "        print(\"Hindi is the primary language of India\")\n",
    "    def Economy(self):\n",
    "        print(\"India is developing country\")\n",
    "class USA:\n",
    "    def capital(self):\n",
    "        print(\"Washington,D.C is the capital city of USA\")\n",
    "    def language(self):\n",
    "        print(\"English is the primary language of USA\")\n",
    "    def Economy(self):\n",
    "        print(\"USA is developed country\")\n",
    "        \n",
    "def func(obj):\n",
    "    obj.capital()\n",
    "    obj.language()\n",
    "    obj.Economy()\n",
    "    \n",
    "ind_obj = India()\n",
    "us_obj = USA()\n",
    "\n",
    "# now see we are calling objects through func() method, ok thats y we defined function()\n",
    "func(ind_obj)\n",
    "print()\n",
    "func(us_obj)\n"
   ]
  },
  {
   "cell_type": "code",
   "execution_count": null,
   "metadata": {},
   "outputs": [],
   "source": [
    "In Python, Polymorphism lets us define methods in the child class that have the same name\n",
    "as the methods in the parent class\n",
    "In inheritance,the child class inherits the methods from the parent class.\n",
    "However, it is possible to modify a method in a child class that it has inherited from the parent class.\n",
    "we re-implement the method in the child class. This process of re-implementing a method in the child class\n",
    "is known as METHOD OVERRIDING"
   ]
  },
  {
   "cell_type": "code",
   "execution_count": null,
   "metadata": {},
   "outputs": [],
   "source": [
    "class Bird:\n",
    "    def fact_bird(self):\n",
    "        print(\"There are different type of birds\")\n",
    "    def flight(self):\n",
    "        print(\"Most of them can fly and some can't fly\")\n",
    "class sparrow(Bird):\n",
    "    def flight(self):\n",
    "        print(\"Sparrow can fly\")\n",
    "class Ostrich(Bird):\n",
    "    def flight(self):\n",
    "        print(\"Ostrich can't fly at all\")\n",
    "bir_obj = Bird()\n",
    "spa_obj = sparrow()\n",
    "ost_obj = Ostrich()\n",
    "print()\n",
    "bir_obj.fact_bird()\n",
    "bir_obj.flight()\n",
    "print()\n",
    "spa_obj.fact_bird()\n",
    "spa_obj.flight()\n",
    "print()\n",
    "ost_obj.fact_bird()\n",
    "ost_obj.flight()        "
   ]
  },
  {
   "cell_type": "code",
   "execution_count": null,
   "metadata": {},
   "outputs": [],
   "source": []
  },
  {
   "cell_type": "code",
   "execution_count": null,
   "metadata": {},
   "outputs": [],
   "source": [
    "Encapsulation"
   ]
  },
  {
   "cell_type": "code",
   "execution_count": null,
   "metadata": {},
   "outputs": [],
   "source": [
    "It describe the idea of wrapping data and method within one units.This put restriction on accessing the method\n",
    "and variable by other class(and their methods) to prevent modification of data and this object variable\n",
    "can only be changed by object's method this is called as private variables.It can be accessed by object's class\n",
    "and its subclases, methods\n",
    "We can make any variable private by adding underscore \"_\" before the variable eg = a = 20 no making it private\n",
    "._a = 20"
   ]
  },
  {
   "cell_type": "code",
   "execution_count": null,
   "metadata": {},
   "outputs": [],
   "source": [
    "Consider a real-life example of encapsulation, in a company, there are different sections like the accounts section\n",
    "finance section, sales section etc. The finance section handles all the financial transactions and keeps records of all \n",
    "the data related to finance. Similarly, the sales section handles all the sales-related activities and keeps\n",
    "records of all the sales. Now there may arise a situation when for some reason an official from the finance section\n",
    "needs all the data about sales in a particular month. In this case, he is not allowed to directly access \n",
    "the data of the sales section.He will first have to contact some other officer\n",
    "in the sales section and then request him to give the particular data. This is what encapsulation is.\n",
    "Here the data of the sales section and the employees that can manipulate them are wrapped under a single name\n",
    "“sales section”. Using encapsulation also hides the data."
   ]
  },
  {
   "cell_type": "code",
   "execution_count": null,
   "metadata": {},
   "outputs": [],
   "source": [
    "Python program to\n",
    "# demonstrate private members"
   ]
  },
  {
   "cell_type": "code",
   "execution_count": 18,
   "metadata": {},
   "outputs": [
    {
     "name": "stdout",
     "output_type": "stream",
     "text": [
      "geeksforgeeks\n",
      "\n",
      "geeksforgeeks\n",
      "\n"
     ]
    },
    {
     "ename": "AttributeError",
     "evalue": "'base' object has no attribute '__b'",
     "output_type": "error",
     "traceback": [
      "\u001b[1;31m---------------------------------------------------------------------------\u001b[0m",
      "\u001b[1;31mAttributeError\u001b[0m                            Traceback (most recent call last)",
      "\u001b[1;32m<ipython-input-18-afc25235d540>\u001b[0m in \u001b[0;36m<module>\u001b[1;34m\u001b[0m\n\u001b[0;32m     21\u001b[0m \u001b[0mprint\u001b[0m\u001b[1;33m(\u001b[0m\u001b[1;33m)\u001b[0m\u001b[1;33m\u001b[0m\u001b[1;33m\u001b[0m\u001b[0m\n\u001b[0;32m     22\u001b[0m \u001b[1;31m# print(base_obj.b)it cannot access through(.b)lk.;]K\"i9o\u001b[0m\u001b[1;33m\u001b[0m\u001b[1;33m\u001b[0m\u001b[1;33m\u001b[0m\u001b[0m\n\u001b[1;32m---> 23\u001b[1;33m \u001b[0mprint\u001b[0m\u001b[1;33m(\u001b[0m\u001b[0mbase_obj\u001b[0m\u001b[1;33m.\u001b[0m\u001b[0m__b\u001b[0m\u001b[1;33m)\u001b[0m\u001b[1;33m\u001b[0m\u001b[1;33m\u001b[0m\u001b[0m\n\u001b[0m\u001b[0;32m     24\u001b[0m \u001b[1;33m\u001b[0m\u001b[0m\n\u001b[0;32m     25\u001b[0m \u001b[1;31m# we have created the '.__b' variable as the private attribute. We cannot even access\u001b[0m\u001b[1;33m\u001b[0m\u001b[1;33m\u001b[0m\u001b[1;33m\u001b[0m\u001b[0m\n",
      "\u001b[1;31mAttributeError\u001b[0m: 'base' object has no attribute '__b'"
     ]
    }
   ],
   "source": [
    "class base:\n",
    "    def __init__(self):---default constructor\n",
    "        self.a = \"geeksforgeeks\"\n",
    "        self.__b = \"jaitiwari\"\n",
    "#         this is private variable\n",
    "\n",
    "class derived(base):\n",
    "    def __init(self):\n",
    "        \n",
    "        base.__init__(self)\n",
    "        print(self.__b)\n",
    "#         Calling constructor of\n",
    "#         # Base class\n",
    "\n",
    "base_obj =base()\n",
    "\n",
    "der_obj = derived()\n",
    "print(base_obj.a)\n",
    "print()\n",
    "print(der_obj.a)\n",
    "print()\n",
    "# print(base_obj.b)it cannot access through(.b)lk.;]K\"i9o\n",
    "# print(base_obj.b)-it cannot access private variable 'b' even not by print(base_obj._b) andprint(base.obj.__b)\n",
    "\n",
    "# we have created the '.__b' variable as the private attribute(double underscore). We cannot even access \n",
    "# this attribute directly and can’t even change its value.\n",
    "#  difference is that the class members declared private should neither be accessed outside the class nor by any base class\n",
    "# object below derived class"
   ]
  },
  {
   "cell_type": "code",
   "execution_count": 24,
   "metadata": {},
   "outputs": [
    {
     "name": "stdout",
     "output_type": "stream",
     "text": [
      "jaitiwari\n",
      "jaitiwari\n",
      "\n",
      "jaitiwari\n",
      "jaitiwari\n",
      "\n"
     ]
    },
    {
     "ename": "AttributeError",
     "evalue": "'base' object has no attribute 'age'",
     "output_type": "error",
     "traceback": [
      "\u001b[1;31m---------------------------------------------------------------------------\u001b[0m",
      "\u001b[1;31mAttributeError\u001b[0m                            Traceback (most recent call last)",
      "\u001b[1;32m<ipython-input-24-94816ea1319d>\u001b[0m in \u001b[0;36m<module>\u001b[1;34m\u001b[0m\n\u001b[0;32m     18\u001b[0m \u001b[0mderived_obj\u001b[0m\u001b[1;33m.\u001b[0m\u001b[0mget_data\u001b[0m\u001b[1;33m(\u001b[0m\u001b[1;33m)\u001b[0m\u001b[1;33m\u001b[0m\u001b[1;33m\u001b[0m\u001b[0m\n\u001b[0;32m     19\u001b[0m \u001b[0mprint\u001b[0m\u001b[1;33m(\u001b[0m\u001b[1;33m)\u001b[0m\u001b[1;33m\u001b[0m\u001b[1;33m\u001b[0m\u001b[0m\n\u001b[1;32m---> 20\u001b[1;33m \u001b[0mprint\u001b[0m\u001b[1;33m(\u001b[0m\u001b[0mbase_obj\u001b[0m\u001b[1;33m.\u001b[0m\u001b[0mage\u001b[0m\u001b[1;33m)\u001b[0m \u001b[1;32mor\u001b[0m \u001b[0mprint\u001b[0m\u001b[1;33m(\u001b[0m\u001b[0mbase_obj\u001b[0m\u001b[1;33m.\u001b[0m\u001b[0m_age\u001b[0m\u001b[1;33m)\u001b[0m \u001b[1;32mor\u001b[0m \u001b[0mprint\u001b[0m\u001b[1;33m(\u001b[0m\u001b[0mbase_obj\u001b[0m\u001b[1;33m.\u001b[0m\u001b[0m__age\u001b[0m\u001b[1;33m)\u001b[0m\u001b[1;33m\u001b[0m\u001b[1;33m\u001b[0m\u001b[0m\n\u001b[0m\u001b[0;32m     21\u001b[0m \u001b[0mprint\u001b[0m\u001b[1;33m(\u001b[0m\u001b[1;33m)\u001b[0m\u001b[1;33m\u001b[0m\u001b[1;33m\u001b[0m\u001b[0m\n\u001b[0;32m     22\u001b[0m \u001b[0mprint\u001b[0m\u001b[1;33m(\u001b[0m\u001b[0mderived_obj\u001b[0m\u001b[1;33m.\u001b[0m\u001b[0mage\u001b[0m\u001b[1;33m)\u001b[0m \u001b[1;32mor\u001b[0m \u001b[0mprint\u001b[0m\u001b[1;33m(\u001b[0m\u001b[0mderived_obj\u001b[0m\u001b[1;33m.\u001b[0m\u001b[0m_age\u001b[0m\u001b[1;33m)\u001b[0m \u001b[1;32mor\u001b[0m \u001b[0mprint\u001b[0m\u001b[1;33m(\u001b[0m\u001b[0mderived_obj\u001b[0m\u001b[1;33m.\u001b[0m\u001b[0m__age\u001b[0m\u001b[1;33m)\u001b[0m\u001b[1;33m\u001b[0m\u001b[1;33m\u001b[0m\u001b[0m\n",
      "\u001b[1;31mAttributeError\u001b[0m: 'base' object has no attribute 'age'"
     ]
    }
   ],
   "source": [
    "class base:\n",
    "    def __init__(self):\n",
    "        self.name = 'jaitiwari'\n",
    "        self.__age = 34\n",
    "    def get_data(self):\n",
    "        print(self.name)\n",
    "class Derived(base):\n",
    "    def __init__(self):\n",
    "        self.address = \"Gurgaon\"\n",
    "        base.__init__(self)\n",
    "#         print(self.__age)\n",
    "base_obj = base()\n",
    "derived_obj = Derived()\n",
    "print(base_obj.name)\n",
    "base_obj.get_data()\n",
    "print()\n",
    "print(derived_obj.name)\n",
    "derived_obj.get_data()\n",
    "print()\n",
    "\n",
    "# print(base_obj.age) or print(base_obj._age) or print(base_obj.__age)= it will throw error\n",
    "# print()\n",
    "# print(derived_obj.age) or print(derived_obj._age) or print(derived_obj.__age)= it will throw error"
   ]
  },
  {
   "cell_type": "code",
   "execution_count": null,
   "metadata": {},
   "outputs": [],
   "source": [
    "CLASS OR STATIC VARIABLE IN PYTHON"
   ]
  },
  {
   "cell_type": "code",
   "execution_count": 26,
   "metadata": {},
   "outputs": [
    {
     "name": "stdout",
     "output_type": "stream",
     "text": [
      "\n",
      "jai\n",
      "nikhil\n",
      "\n",
      "dataAnalyst\n",
      "businessman\n",
      "\n",
      "salesDepartment\n",
      "salesDepartment\n",
      "\n",
      "salesDepartment\n",
      "\n",
      "mechanical\n",
      "salesDepartment\n"
     ]
    }
   ],
   "source": [
    "class Employee:\n",
    "    \n",
    "    stream = 'salesDepartment'\n",
    "    def __init__(self,name,designation):\n",
    "        self.name  =name\n",
    "        self.designation = designation\n",
    "        \n",
    "c1 = Employee('jai', 'dataAnalyst')\n",
    "c2 = Employee('nikhil', 'businessman')\n",
    "c3 = Employee('sam', 'TableauDeveloper')\n",
    "print()\n",
    "\n",
    "print(c1.name)\n",
    "print(c2.name)\n",
    "print()\n",
    "print(c1.designation)\n",
    "print(c2.designation)\n",
    "print()\n",
    "print(c1.stream)\n",
    "print(c2.stream)\n",
    "print()\n",
    "print(Employee.stream)\n",
    "print()\n",
    "c1.stream = 'mechanical'\n",
    "print(c1.stream)\n",
    "print(c2.stream)\n",
    "print()\n"
   ]
  },
  {
   "cell_type": "code",
   "execution_count": null,
   "metadata": {},
   "outputs": [],
   "source": [
    "CLASS METHOD AND STATIC METHOD"
   ]
  },
  {
   "cell_type": "code",
   "execution_count": null,
   "metadata": {},
   "outputs": [],
   "source": [
    "STATIC METHOD:-It cannot modify or the access the class state\n",
    "To Define a static method we use @staticmethod\n",
    "\n",
    "CLASS METHOD:-\n",
    " @classmethod   \n",
    " It can modify a class variable that will be applicable to all the instances.\n",
    "A class method takes cls as the first parameter while a static method needs no specific parameters.\n",
    "A class method can access or modify the class state while a static method can’t access or modify it."
   ]
  },
  {
   "cell_type": "code",
   "execution_count": 1,
   "metadata": {},
   "outputs": [
    {
     "ename": "AttributeError",
     "evalue": "type object 'person' has no attribute 'frombirthyear'",
     "output_type": "error",
     "traceback": [
      "\u001b[1;31m---------------------------------------------------------------------------\u001b[0m",
      "\u001b[1;31mAttributeError\u001b[0m                            Traceback (most recent call last)",
      "\u001b[1;32m<ipython-input-1-1ce35b229c40>\u001b[0m in \u001b[0;36m<module>\u001b[1;34m\u001b[0m\n\u001b[0;32m     15\u001b[0m \u001b[1;33m\u001b[0m\u001b[0m\n\u001b[0;32m     16\u001b[0m \u001b[0mperson1\u001b[0m \u001b[1;33m=\u001b[0m \u001b[0mperson\u001b[0m\u001b[1;33m(\u001b[0m\u001b[1;34m'jai'\u001b[0m\u001b[1;33m,\u001b[0m \u001b[1;36m21\u001b[0m\u001b[1;33m)\u001b[0m\u001b[1;33m\u001b[0m\u001b[1;33m\u001b[0m\u001b[0m\n\u001b[1;32m---> 17\u001b[1;33m \u001b[0mperson2\u001b[0m \u001b[1;33m=\u001b[0m \u001b[0mperson\u001b[0m\u001b[1;33m.\u001b[0m\u001b[0mfrombirthyear\u001b[0m\u001b[1;33m(\u001b[0m\u001b[1;34m'jai'\u001b[0m\u001b[1;33m,\u001b[0m \u001b[1;36m1995\u001b[0m\u001b[1;33m)\u001b[0m\u001b[1;33m\u001b[0m\u001b[1;33m\u001b[0m\u001b[0m\n\u001b[0m\u001b[0;32m     18\u001b[0m \u001b[1;33m\u001b[0m\u001b[0m\n\u001b[0;32m     19\u001b[0m \u001b[0mprint\u001b[0m\u001b[1;33m(\u001b[0m\u001b[0mperson1\u001b[0m\u001b[1;33m.\u001b[0m\u001b[0mage\u001b[0m\u001b[1;33m)\u001b[0m\u001b[1;33m\u001b[0m\u001b[1;33m\u001b[0m\u001b[0m\n",
      "\u001b[1;31mAttributeError\u001b[0m: type object 'person' has no attribute 'frombirthyear'"
     ]
    }
   ],
   "source": [
    "from datetime import date\n",
    "class person:\n",
    "    def __init__(self, name,age):\n",
    "        self.name = name\n",
    "        self.age = age\n",
    "        \n",
    "        @classmethod\n",
    "        def frombirthyear(cls,name,year):\n",
    "            return cls(name, date.today().year-year)\n",
    "#         this classmethod use to create person and their birthyear\n",
    "        \n",
    "        @staticmethod\n",
    "        def isAdult(age):\n",
    "            return age>18\n",
    "        \n",
    "person1 = person('jai', 21)\n",
    "person2 = person.frombirthyear('jai', 1995)\n",
    "\n",
    "print(person1.age)\n",
    "print(person2.age)\n",
    "print()\n",
    "print(person.isAdult(22))\n",
    "        \n",
    "#          a static method to check if a Person is adult or not.\n",
    "        \n",
    "    \n",
    "            \n",
    "        \n",
    "        \n",
    "#         defining object with name &birth year(by class method)      "
   ]
  },
  {
   "cell_type": "code",
   "execution_count": null,
   "metadata": {},
   "outputs": [],
   "source": []
  }
 ],
 "metadata": {
  "kernelspec": {
   "display_name": "Python 3",
   "language": "python",
   "name": "python3"
  },
  "language_info": {
   "codemirror_mode": {
    "name": "ipython",
    "version": 3
   },
   "file_extension": ".py",
   "mimetype": "text/x-python",
   "name": "python",
   "nbconvert_exporter": "python",
   "pygments_lexer": "ipython3",
   "version": "3.8.5"
  }
 },
 "nbformat": 4,
 "nbformat_minor": 4
}
