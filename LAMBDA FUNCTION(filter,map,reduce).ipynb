{
 "cells": [
  {
   "cell_type": "code",
   "execution_count": null,
   "metadata": {},
   "outputs": [],
   "source": [
    "LAMBDA-It is function  without name.It is nameless function, also called Anonymous Function.\n",
    "It can take any number of argument(i.e-x or x,y or x,y,z etc) but contains only 1 expression i.e x+y,x*3+1 etc.\n",
    "It is represent by keyword Lambda and not def.\n",
    "It use less code only 1-2 line of code.\n",
    "one time use.\n",
    "no need to write return statement "
   ]
  },
  {
   "cell_type": "code",
   "execution_count": 1,
   "metadata": {},
   "outputs": [
    {
     "name": "stdout",
     "output_type": "stream",
     "text": [
      "Even number\n"
     ]
    }
   ],
   "source": [
    "calc = lambda num: \"Even number\" if num%2==0 else \"odd Number\"\n",
    "print(calc(20))"
   ]
  },
  {
   "cell_type": "code",
   "execution_count": 12,
   "metadata": {},
   "outputs": [
    {
     "name": "stdout",
     "output_type": "stream",
     "text": [
      "19\n",
      "40\n",
      "24\n",
      "30\n",
      "-10\n"
     ]
    }
   ],
   "source": [
    "x = lambda b:b*b +10\n",
    "c = x(3)\n",
    "print(c)\n",
    "\n",
    "y = lambda a,b:a+b+10\n",
    "z = y(10,20)\n",
    "print(z)\n",
    "\n",
    "add = lambda a,b:a+b\n",
    "c = add(12,12)                   #print(add(12,12))\n",
    "print(c)\n",
    "\n",
    "add_sub = lambda a,b:(a+b, a-b)\n",
    "x,y = add_sub(10,20)\n",
    "print(x)\n",
    "print(y)"
   ]
  },
  {
   "cell_type": "code",
   "execution_count": null,
   "metadata": {},
   "outputs": [],
   "source": [
    "Lambda function FROM GEEKS FOR GEEKS"
   ]
  },
  {
   "cell_type": "code",
   "execution_count": 2,
   "metadata": {},
   "outputs": [
    {
     "name": "stdout",
     "output_type": "stream",
     "text": [
      "Geeks\n"
     ]
    }
   ],
   "source": [
    "filter_nums = lambda s: ''.join([ch for ch in s if not ch.isdigit()])\n",
    "print(filter_nums(\"Geeks2410\"))"
   ]
  },
  {
   "cell_type": "code",
   "execution_count": 1,
   "metadata": {},
   "outputs": [
    {
     "name": "stdout",
     "output_type": "stream",
     "text": [
      "Enter the name:jaiprakash\n",
      "No of vowels used in Name: 4\n"
     ]
    }
   ],
   "source": [
    "def countvowels(somestring):\n",
    "    count = 0\n",
    "    for ch in somestring:\n",
    "        if ch in('A','E','I','O','U','a','e','i','o','u'):\n",
    "            count+=1\n",
    "    return count \n",
    "name =input(\"Enter the name:\")\n",
    "c = countvowels(name) \n",
    "print(\"No of vowels used in Name:\", c)\n",
    "# print(type(countvowels))"
   ]
  },
  {
   "cell_type": "code",
   "execution_count": 4,
   "metadata": {},
   "outputs": [
    {
     "name": "stdout",
     "output_type": "stream",
     "text": [
      "JAIPRAKASH\n"
     ]
    }
   ],
   "source": [
    "print(name.upper())"
   ]
  },
  {
   "cell_type": "code",
   "execution_count": 8,
   "metadata": {},
   "outputs": [
    {
     "name": "stdout",
     "output_type": "stream",
     "text": [
      "<class 'function'>\n"
     ]
    }
   ],
   "source": [
    "print(type(countvowels))"
   ]
  },
  {
   "cell_type": "code",
   "execution_count": 10,
   "metadata": {},
   "outputs": [
    {
     "name": "stdout",
     "output_type": "stream",
     "text": [
      "2536422553632\n"
     ]
    }
   ],
   "source": [
    "print(id(countvowels))"
   ]
  },
  {
   "cell_type": "code",
   "execution_count": 6,
   "metadata": {},
   "outputs": [
    {
     "data": {
      "text/plain": [
       "'0x24e8e90b940'"
      ]
     },
     "execution_count": 6,
     "metadata": {},
     "output_type": "execute_result"
    }
   ],
   "source": [
    "hex(id(countvowels))"
   ]
  },
  {
   "cell_type": "markdown",
   "metadata": {},
   "source": [
    "# HIGH ORDER FUNCTION ---[FILTER,  MAP,  REDUCE]"
   ]
  },
  {
   "cell_type": "markdown",
   "metadata": {},
   "source": [
    "# FILTER FUNCTION"
   ]
  },
  {
   "cell_type": "code",
   "execution_count": null,
   "metadata": {},
   "outputs": [],
   "source": [
    "# LAMBDA WITH USER-DEFINED FUNCTION\n",
    "def A(x):\n",
    "    return lambda y:x+y\n",
    "c = A(5)\n",
    "print(c(10))\n",
    "d = A(10)\n",
    "print(d(10))"
   ]
  },
  {
   "cell_type": "code",
   "execution_count": null,
   "metadata": {},
   "outputs": [],
   "source": [
    "MAP,FILTER,REDUCE"
   ]
  },
  {
   "cell_type": "code",
   "execution_count": null,
   "metadata": {},
   "outputs": [],
   "source": [
    "FILTER"
   ]
  },
  {
   "cell_type": "code",
   "execution_count": null,
   "metadata": {},
   "outputs": [],
   "source": [
    "Filter Syntax\n",
    "Filter(function,iterable)"
   ]
  },
  {
   "cell_type": "code",
   "execution_count": 2,
   "metadata": {},
   "outputs": [
    {
     "name": "stdout",
     "output_type": "stream",
     "text": [
      "[3, 6, 9, 12, 15]\n"
     ]
    }
   ],
   "source": [
    "# FILTER WITHIN LAMBDA\n",
    "my_list = [1,2,3,4,5,6,9,12,16,15]\n",
    "new_list = list(filter(lambda a:a%3==0, my_list))\n",
    "print(new_list)"
   ]
  },
  {
   "cell_type": "code",
   "execution_count": 15,
   "metadata": {},
   "outputs": [
    {
     "name": "stdout",
     "output_type": "stream",
     "text": [
      "(2, 4, 6, 12, 14)\n"
     ]
    }
   ],
   "source": [
    "# my_list = [1,2,3,4,5,6,9,12,16,15]\n",
    "new_tup =tuple(filter(lambda x:x%2==0, (2,4,3,6,7,9,11,12,14)))\n",
    "print(new_tup)"
   ]
  },
  {
   "cell_type": "code",
   "execution_count": 5,
   "metadata": {},
   "outputs": [
    {
     "name": "stdout",
     "output_type": "stream",
     "text": [
      "more_values: (12, 16, 13, 11, 19, 21, 23)\n"
     ]
    }
   ],
   "source": [
    "def greater_than_10(num):\n",
    "    return num>10\n",
    "\n",
    "list = [3,5,6,12,16,13,11,19,21,23]\n",
    "more_values = tuple(filter(greater_than_10, list))\n",
    "print(\"more_values:\", more_values)"
   ]
  },
  {
   "cell_type": "code",
   "execution_count": 29,
   "metadata": {},
   "outputs": [
    {
     "name": "stdout",
     "output_type": "stream",
     "text": [
      "new_list with negative value: [-3, -2, -5, -19]\n",
      "pop: -2\n",
      "n: [-3, -5, -19]\n",
      "append: None\n",
      "n: [-3, -5, -19, -2]\n",
      "remove: None\n",
      "n: [-3, -5, -2]\n",
      "\n",
      "2021252024192\n",
      "0x1d69c024780\n",
      "<class 'function'>\n",
      "used to add negative value in new list\n"
     ]
    },
    {
     "ename": "TypeError",
     "evalue": "'_io.TextIOWrapper' object is not callable",
     "output_type": "error",
     "traceback": [
      "\u001b[1;31m---------------------------------------------------------------------------\u001b[0m",
      "\u001b[1;31mTypeError\u001b[0m                                 Traceback (most recent call last)",
      "\u001b[1;32m<ipython-input-29-1fba5ca9b052>\u001b[0m in \u001b[0;36m<module>\u001b[1;34m\u001b[0m\n\u001b[0;32m     21\u001b[0m \u001b[0mprint\u001b[0m\u001b[1;33m(\u001b[0m\u001b[0mless_than_zero\u001b[0m\u001b[1;33m.\u001b[0m\u001b[0m__doc__\u001b[0m\u001b[1;33m)\u001b[0m\u001b[1;33m\u001b[0m\u001b[1;33m\u001b[0m\u001b[0m\n\u001b[0;32m     22\u001b[0m \u001b[0mf24\u001b[0m \u001b[1;33m=\u001b[0m \u001b[0mopen\u001b[0m\u001b[1;33m(\u001b[0m\u001b[1;34m'samm.txt'\u001b[0m\u001b[1;33m,\u001b[0m \u001b[1;34m'w'\u001b[0m\u001b[1;33m)\u001b[0m\u001b[1;33m\u001b[0m\u001b[1;33m\u001b[0m\u001b[0m\n\u001b[1;32m---> 23\u001b[1;33m \u001b[0mprint\u001b[0m\u001b[1;33m(\u001b[0m\u001b[0mf24\u001b[0m\u001b[1;33m(\u001b[0m\u001b[0mn\u001b[0m\u001b[1;33m)\u001b[0m\u001b[1;33m)\u001b[0m\u001b[1;33m\u001b[0m\u001b[1;33m\u001b[0m\u001b[0m\n\u001b[0m",
      "\u001b[1;31mTypeError\u001b[0m: '_io.TextIOWrapper' object is not callable"
     ]
    }
   ],
   "source": [
    "def less_than_zero(lis):\n",
    "    '''used to add negative value in new list'''\n",
    "    new_list = []\n",
    "    for i in lis:\n",
    "        if i<0:\n",
    "            new_list.append(i)\n",
    "    return new_list\n",
    "lis=[-3,-2,-5,12,-19,6,9,18]\n",
    "n = less_than_zero(lis)\n",
    "print(\"new_list with negative value:\", n)\n",
    "print(\"pop:\", n.pop(1))\n",
    "print(\"n:\", n)\n",
    "print(\"append:\", n.append(-2))\n",
    "print(\"n:\", n)\n",
    "print(\"remove:\", n.remove(-19))\n",
    "print(\"n:\", n)\n",
    "print()\n",
    "print(id(n))\n",
    "print(hex(id(n)))\n",
    "print(type(less_than_zero))\n",
    "print(less_than_zero.__doc__)\n",
    "# f24 = open('samm.txt', 'w')\n",
    "# print(f24(n))"
   ]
  },
  {
   "cell_type": "code",
   "execution_count": 33,
   "metadata": {},
   "outputs": [
    {
     "name": "stdout",
     "output_type": "stream",
     "text": [
      "new_tup: (-3, -2, -5, -19)\n"
     ]
    }
   ],
   "source": [
    "\n",
    "lis=[-3,-2,-5,12,-19,6,9,18]\n",
    "new_tup = tuple(filter(lambda x:x<0, lis))\n",
    "print(\"new_tup:\", new_tup)"
   ]
  },
  {
   "cell_type": "code",
   "execution_count": null,
   "metadata": {},
   "outputs": [],
   "source": [
    "IMPORTANT BELOW"
   ]
  },
  {
   "cell_type": "code",
   "execution_count": 35,
   "metadata": {},
   "outputs": [
    {
     "name": "stdout",
     "output_type": "stream",
     "text": [
      "filtered:  ('i', 'u')\n",
      "\n"
     ]
    }
   ],
   "source": [
    "# from geeksforgeeks\n",
    "def vowel_in_list(varr):\n",
    "    letters =['a','e','i','o','u']\n",
    "    if(varr in letters):\n",
    "        return True\n",
    "    else:\n",
    "        return False\n",
    "    \n",
    "sequences = ['i','u','p','y','t','j']\n",
    "filtered = tuple(filter(vowel_in_list, sequences))\n",
    "print(\"filtered: \", filtered)\n",
    "print()"
   ]
  },
  {
   "cell_type": "code",
   "execution_count": 6,
   "metadata": {},
   "outputs": [
    {
     "name": "stdout",
     "output_type": "stream",
     "text": [
      "Adult: [24, 32]\n",
      "i: 24\n",
      "i: 32\n"
     ]
    }
   ],
   "source": [
    "# from w3.school.com \n",
    "\n",
    "def myfun(x):\n",
    "    if x>18:\n",
    "        return True\n",
    "    else:\n",
    "        return False\n",
    "ages = [5, 12, 17, 18, 24, 32]\n",
    "adult  =list(filter(myfun,ages))\n",
    "print(\"Adult:\", adult)\n",
    "for i in adult:\n",
    "    print(\"i:\", i)\n",
    "\n",
    "# ages = [5, 12, 17, 18, 24, 32]"
   ]
  },
  {
   "cell_type": "code",
   "execution_count": 14,
   "metadata": {},
   "outputs": [
    {
     "name": "stdout",
     "output_type": "stream",
     "text": [
      "[76, 98, 90, 112, 100]\n",
      "<class 'list'>\n",
      "76\n",
      "98\n",
      "90\n",
      "112\n",
      "100\n"
     ]
    }
   ],
   "source": [
    "# FILTER WITHIN LAMBDA\n",
    "a = [12,45,76,34,98,90,112,100,45,16,23,20,21,45,48,3,36,51,56]\n",
    "result = list(filter(lambda n:n>=60,a))\n",
    "print(result)\n",
    "print(type(result))\n",
    "for i in result:\n",
    "    print(i)\n"
   ]
  },
  {
   "cell_type": "markdown",
   "metadata": {},
   "source": [
    "# MAP FUNCTION-In this it change or modify the entire element in sequence and return and stored in another sequence(another list)\n"
   ]
  },
  {
   "cell_type": "code",
   "execution_count": 15,
   "metadata": {},
   "outputs": [
    {
     "name": "stdout",
     "output_type": "stream",
     "text": [
      "[True, True, True, True, True, False, True, True, True, True, True]\n",
      "(3, 6, 11, 18, 27, 38, 83, 123, 146, 227, 198)\n"
     ]
    }
   ],
   "source": [
    "# LAMBDA WITHIN MAP\n",
    "my_list = [1,2,3,4,5,6,9,11,12,15,14]\n",
    "new_list = list(map(lambda a:a/3!=2, my_list))\n",
    "new_list1 = tuple(map(lambda a:a*a+2, my_list))\n",
    "print(new_list)\n",
    "print(new_list1)"
   ]
  },
  {
   "cell_type": "code",
   "execution_count": 5,
   "metadata": {},
   "outputs": [
    {
     "name": "stdout",
     "output_type": "stream",
     "text": [
      "{40, 50, 20, 60, 30}\n"
     ]
    }
   ],
   "source": [
    "a = [10,20,30,40,50]\n",
    "new_set = set(map(lambda x:x+10, a))\n",
    "print(new_set)"
   ]
  },
  {
   "cell_type": "code",
   "execution_count": 6,
   "metadata": {},
   "outputs": [
    {
     "name": "stdout",
     "output_type": "stream",
     "text": [
      "[8, 18, 28, 38, 48]\n"
     ]
    }
   ],
   "source": [
    "new_list = list(map(lambda x:x-2, a))\n",
    "print(new_list)"
   ]
  },
  {
   "cell_type": "code",
   "execution_count": 7,
   "metadata": {},
   "outputs": [
    {
     "name": "stdout",
     "output_type": "stream",
     "text": [
      "[30, 60, 90, 120, 150]\n"
     ]
    }
   ],
   "source": [
    "new_list = list(map(lambda x:x*3, a))\n",
    "print(new_list)"
   ]
  },
  {
   "cell_type": "code",
   "execution_count": 9,
   "metadata": {},
   "outputs": [
    {
     "name": "stdout",
     "output_type": "stream",
     "text": [
      "[2.0, 4.0, 6.0, 8.0, 10.0]\n"
     ]
    }
   ],
   "source": [
    "new_list =list(map(lambda x:x/5, a))\n",
    "print(new_list)"
   ]
  },
  {
   "cell_type": "code",
   "execution_count": 10,
   "metadata": {},
   "outputs": [
    {
     "name": "stdout",
     "output_type": "stream",
     "text": [
      "(False, False, False, False, True)\n"
     ]
    }
   ],
   "source": [
    "new_tuple = tuple(map(lambda n:n/5==10, a))\n",
    "print(new_tuple)"
   ]
  },
  {
   "cell_type": "code",
   "execution_count": 11,
   "metadata": {},
   "outputs": [
    {
     "name": "stdout",
     "output_type": "stream",
     "text": [
      "(100, 400, 900, 1600, 2500)\n"
     ]
    }
   ],
   "source": [
    "new_tuple =tuple(map(lambda x:x**2, a))\n",
    "print(new_tuple)"
   ]
  },
  {
   "cell_type": "code",
   "execution_count": 12,
   "metadata": {},
   "outputs": [
    {
     "name": "stdout",
     "output_type": "stream",
     "text": [
      "('J', 'A', 'I')\n"
     ]
    }
   ],
   "source": [
    "new_tuple = tuple(map(lambda x:x.upper(), 'jai'))\n",
    "print(new_tuple)"
   ]
  },
  {
   "cell_type": "code",
   "execution_count": 13,
   "metadata": {},
   "outputs": [
    {
     "name": "stdout",
     "output_type": "stream",
     "text": [
      "['P', 'Y', 'T', 'H', 'O', 'N']\n"
     ]
    }
   ],
   "source": [
    "def to_upper_case(x):\n",
    "    return str(x).upper()\n",
    "new_list = list(map(to_upper_case, 'python'))\n",
    "print(new_list)"
   ]
  },
  {
   "cell_type": "code",
   "execution_count": 14,
   "metadata": {},
   "outputs": [
    {
     "name": "stdout",
     "output_type": "stream",
     "text": [
      "(30, 60, 90, 120, 150)\n"
     ]
    }
   ],
   "source": [
    "new_tup = tuple(map(lambda x:x+x*2, a))\n",
    "print(new_tup)"
   ]
  },
  {
   "cell_type": "code",
   "execution_count": 17,
   "metadata": {},
   "outputs": [
    {
     "name": "stdout",
     "output_type": "stream",
     "text": [
      "(11, 22, 33, 44, 55)\n",
      "11\n",
      "22\n",
      "33\n",
      "44\n",
      "55\n",
      "[100, 400, 900, 1600, 2500]\n"
     ]
    }
   ],
   "source": [
    "a = [10,20,30,40,50]\n",
    "b = [1,2,3,4,5]\n",
    "result = tuple(map(lambda n,m:n+m,a,b))\n",
    "print(result)\n",
    "for i in result:\n",
    "    print(i)\n",
    "result2 = list(map(lambda x:x*x, a))\n",
    "print(result2)"
   ]
  },
  {
   "cell_type": "code",
   "execution_count": null,
   "metadata": {},
   "outputs": [],
   "source": []
  },
  {
   "cell_type": "code",
   "execution_count": 12,
   "metadata": {},
   "outputs": [
    {
     "name": "stdout",
     "output_type": "stream",
     "text": [
      "val: [0, 0]\n",
      "val: [1, 1]\n",
      "val: [4, 8]\n",
      "val: [9, 27]\n",
      "val: [16, 64]\n",
      "val: [25, 125]\n",
      "val: [36, 216]\n"
     ]
    }
   ],
   "source": [
    "# map function from code with harry(you tube)\n",
    "\n",
    "def square(x):\n",
    "    return x*x\n",
    "def cube(x):\n",
    "    return x*x*x\n",
    "func = [square, cube]\n",
    "for i in range(7):\n",
    "    \n",
    "    val =list(map(lambda x:x(i), func))\n",
    "    print(\"val:\", val)\n"
   ]
  },
  {
   "cell_type": "markdown",
   "metadata": {},
   "source": [
    "# REDUCE-IT REDUCE THE SEQUENCE OF ELEMENT TO A SINGLE VALUE"
   ]
  },
  {
   "cell_type": "code",
   "execution_count": 18,
   "metadata": {},
   "outputs": [
    {
     "name": "stdout",
     "output_type": "stream",
     "text": [
      "280\n"
     ]
    }
   ],
   "source": [
    "# LAMBDA WITH REDUCE\n",
    "from functools import reduce   #from functools import *  or import functools\n",
    "x= [10,20,30,40,50,60,70]\n",
    "result = reduce(lambda a,b:a+b,x)\n",
    "print(result)\n",
    "\n",
    "                                                 \n"
   ]
  },
  {
   "cell_type": "markdown",
   "metadata": {},
   "source": [
    "# ALGEBRAIC EXPRESSION USING LAMBDA(EDUREKA)"
   ]
  },
  {
   "cell_type": "markdown",
   "metadata": {},
   "source": [
    "# LINEAR EQUATIONS"
   ]
  },
  {
   "cell_type": "code",
   "execution_count": 19,
   "metadata": {},
   "outputs": [
    {
     "name": "stdout",
     "output_type": "stream",
     "text": [
      "10\n"
     ]
    }
   ],
   "source": [
    "# 3x +4y\n",
    "d = lambda n,m:2*n+3*m\n",
    "val = d(2,2)\n",
    "print(val)\n"
   ]
  },
  {
   "cell_type": "markdown",
   "metadata": {},
   "source": [
    "# quadratic equation"
   ]
  },
  {
   "cell_type": "code",
   "execution_count": 20,
   "metadata": {},
   "outputs": [
    {
     "name": "stdout",
     "output_type": "stream",
     "text": [
      "49\n"
     ]
    }
   ],
   "source": [
    "# (a+b)**2\n",
    "x = lambda x,y:(x+y)**2\n",
    "val = x(3,4)\n",
    "print(val)"
   ]
  },
  {
   "cell_type": "code",
   "execution_count": 1,
   "metadata": {},
   "outputs": [
    {
     "name": "stdout",
     "output_type": "stream",
     "text": [
      "7\n"
     ]
    }
   ],
   "source": [
    "a= 7\n",
    "print(a)"
   ]
  },
  {
   "cell_type": "code",
   "execution_count": null,
   "metadata": {},
   "outputs": [],
   "source": [
    "SOME FUNCTION FROM CODE_WITH_HARRY(YOU TUBE)"
   ]
  }
 ],
 "metadata": {
  "kernelspec": {
   "display_name": "Python 3",
   "language": "python",
   "name": "python3"
  },
  "language_info": {
   "codemirror_mode": {
    "name": "ipython",
    "version": 3
   },
   "file_extension": ".py",
   "mimetype": "text/x-python",
   "name": "python",
   "nbconvert_exporter": "python",
   "pygments_lexer": "ipython3",
   "version": "3.8.5"
  }
 },
 "nbformat": 4,
 "nbformat_minor": 4
}
