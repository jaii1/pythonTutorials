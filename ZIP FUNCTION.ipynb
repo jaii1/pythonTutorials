{
 "cells": [
  {
   "cell_type": "code",
   "execution_count": 1,
   "metadata": {},
   "outputs": [
    {
     "name": "stdout",
     "output_type": "stream",
     "text": [
      "[('jai', 78), ('color', 'red'), ((9, 0), 12)]\n"
     ]
    }
   ],
   "source": [
    "list1 = [\"jai\",\"color\",(9,0)]\n",
    "list2  =[78,\"red\",12]\n",
    "new_list = list(zip(list1, list2))\n",
    "print(new_list)"
   ]
  },
  {
   "cell_type": "code",
   "execution_count": 2,
   "metadata": {},
   "outputs": [
    {
     "name": "stdout",
     "output_type": "stream",
     "text": [
      "(('jai', 78), ('color', 'red'), ((9, 0), 12))\n"
     ]
    }
   ],
   "source": [
    "list1 = [\"jai\",\"color\",(9,0)]\n",
    "list2  =[78,\"red\",12]\n",
    "new_tuple = tuple(zip(list1,list2))\n",
    "print(new_tuple)"
   ]
  },
  {
   "cell_type": "code",
   "execution_count": 3,
   "metadata": {},
   "outputs": [
    {
     "name": "stdout",
     "output_type": "stream",
     "text": [
      "{('color', 'color'), ('jai', 'jai'), ((9, 0), (9, 0))}\n"
     ]
    }
   ],
   "source": [
    "list1 = [\"jai\",\"color\",(9,0)]\n",
    "list2  =[78,\"red\",12]\n",
    "new_set = set(zip(list1,list1))\n",
    "print(new_set)"
   ]
  },
  {
   "cell_type": "code",
   "execution_count": 4,
   "metadata": {},
   "outputs": [
    {
     "name": "stdout",
     "output_type": "stream",
     "text": [
      "(('jai', 90), ((9, 0), 'ht'), ('maths', 'hard'), (7.1, 7.2))\n"
     ]
    }
   ],
   "source": [
    "tup1 = (\"jai\",(9,0),\"maths\",7.1)\n",
    "tup2  =(90,\"ht\",\"hard\",7.2)\n",
    "new_tup  =tuple(zip(tup1,tup2))\n",
    "print(new_tup)"
   ]
  },
  {
   "cell_type": "code",
   "execution_count": 5,
   "metadata": {},
   "outputs": [
    {
     "name": "stdout",
     "output_type": "stream",
     "text": [
      "[('jai', 90), ((9, 0), 'ht'), ('maths', 'hard'), (7.1, 7.2)]\n"
     ]
    }
   ],
   "source": [
    "tup1 = (\"jai\",(9,0),\"maths\",7.1)\n",
    "tup2  =(90,\"ht\",\"hard\",7.2)\n",
    "new_list = list(zip(tup1,tup2))\n",
    "print(new_list)"
   ]
  },
  {
   "cell_type": "code",
   "execution_count": 6,
   "metadata": {},
   "outputs": [
    {
     "name": "stdout",
     "output_type": "stream",
     "text": [
      "{('maths', 'hard'), ((9, 0), 'ht'), ('jai', 90), (7.1, 7.2)}\n"
     ]
    }
   ],
   "source": [
    "tup1 = (\"jai\",(9,0),\"maths\",7.1)\n",
    "tup2  =(90,\"ht\",\"hard\",7.2)\n",
    "new_set = set(zip(tup1, tup2))\n",
    "print(new_set)"
   ]
  },
  {
   "cell_type": "code",
   "execution_count": 7,
   "metadata": {},
   "outputs": [
    {
     "name": "stdout",
     "output_type": "stream",
     "text": [
      "[('maths', 90), ((9, 0), 'ht'), (7.1, 'hard'), ('jai', 7.2)]\n"
     ]
    }
   ],
   "source": [
    "set1 = {\"jai\",(9,0),\"maths\",7.1}\n",
    "set2  ={90,\"ht\",\"hard\",7.2}\n",
    "new_list = list(zip(set1,set2))\n",
    "print(new_list)"
   ]
  },
  {
   "cell_type": "code",
   "execution_count": 8,
   "metadata": {},
   "outputs": [
    {
     "name": "stdout",
     "output_type": "stream",
     "text": [
      "(('maths', 90), ((9, 0), 'ht'), (7.1, 'hard'), ('jai', 7.2))\n"
     ]
    }
   ],
   "source": [
    "set1 = {\"jai\",(9,0),\"maths\",7.1}\n",
    "set2  ={90,\"ht\",\"hard\",7.2}\n",
    "new_tuple = tuple(zip(set1,set2))\n",
    "print(new_tuple)"
   ]
  },
  {
   "cell_type": "code",
   "execution_count": 9,
   "metadata": {},
   "outputs": [
    {
     "name": "stdout",
     "output_type": "stream",
     "text": [
      "{('maths', 90), ((9, 0), 'ht'), (7.1, 'hard'), ('jai', 7.2)}\n"
     ]
    }
   ],
   "source": [
    "set1 = {\"jai\",(9,0),\"maths\",7.1}\n",
    "set2  ={90,\"ht\",\"hard\",7.2}\n",
    "new_set  =set(zip(set1,set2))\n",
    "print(new_set)"
   ]
  },
  {
   "cell_type": "code",
   "execution_count": null,
   "metadata": {},
   "outputs": [],
   "source": []
  }
 ],
 "metadata": {
  "kernelspec": {
   "display_name": "Python 3",
   "language": "python",
   "name": "python3"
  },
  "language_info": {
   "codemirror_mode": {
    "name": "ipython",
    "version": 3
   },
   "file_extension": ".py",
   "mimetype": "text/x-python",
   "name": "python",
   "nbconvert_exporter": "python",
   "pygments_lexer": "ipython3",
   "version": "3.8.5"
  }
 },
 "nbformat": 4,
 "nbformat_minor": 4
}
