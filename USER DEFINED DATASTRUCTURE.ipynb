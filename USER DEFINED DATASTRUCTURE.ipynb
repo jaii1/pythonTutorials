{
 "cells": [
  {
   "cell_type": "code",
   "execution_count": null,
   "metadata": {},
   "outputs": [],
   "source": [
    "python support two types of datatype\n",
    " 1)Primitive data(number,boolean,str,list,tuple,set,dict,array\n",
    " frozenset,bytearray,bytes,None,range)\n",
    " 2)Non-primitive:=Stack,Queue,LinkedList,Tree,Graph,Hashmap"
   ]
  },
  {
   "cell_type": "code",
   "execution_count": null,
   "metadata": {},
   "outputs": [],
   "source": [
    "QUEUES"
   ]
  },
  {
   "cell_type": "code",
   "execution_count": null,
   "metadata": {},
   "outputs": [],
   "source": [
    "QUEUES 2 := it is one of user defined data structure of\n",
    "which store elements in list by using technique\n",
    " FIFO(first in first out)which means the element\n",
    " which is inserted first will be removed first\n",
    " here,insertion will take place at the back(rear)\n",
    " and deletion take place at the front\n",
    " eg- LINE in front of ATM\n",
    " Enqueue:-element enter from back(rear)-Append\n",
    " Dequeue:-element delete from the front(pop)\n",
    " peek-(what are front element(first) and front element incase if len of Queue is 1)"
   ]
  },
  {
   "cell_type": "code",
   "execution_count": null,
   "metadata": {},
   "outputs": [
    {
     "name": "stdout",
     "output_type": "stream",
     "text": [
      "Welcome to the Queue Implementation\n",
      "1.Enqueue\n",
      "2.Dequeue\n",
      "3.peek\n",
      "4.Display\n",
      "5.Exit\n",
      "Enter the choice(1-5)1\n",
      "Enter the Element which you want to enter20\n",
      "Enter any key to continue: d\n",
      "Bas yahi khatam\n",
      "Welcome to the Queue Implementation\n",
      "1.Enqueue\n",
      "2.Dequeue\n",
      "3.peek\n",
      "4.Display\n",
      "5.Exit\n",
      "Enter the choice(1-5)1\n",
      "Enter the Element which you want to enter40\n",
      "Enter any key to continue: d\n",
      "Bas yahi khatam\n",
      "Welcome to the Queue Implementation\n",
      "1.Enqueue\n",
      "2.Dequeue\n",
      "3.peek\n",
      "4.Display\n",
      "5.Exit\n",
      "Enter the choice(1-5)50\n",
      "Bas yahi khatam\n",
      "Welcome to the Queue Implementation\n",
      "1.Enqueue\n",
      "2.Dequeue\n",
      "3.peek\n",
      "4.Display\n",
      "5.Exit\n",
      "Enter the choice(1-5)4\n",
      "20\n",
      "40\n",
      "Enter any key to continue: d\n",
      "Bas yahi khatam\n",
      "Welcome to the Queue Implementation\n",
      "1.Enqueue\n",
      "2.Dequeue\n",
      "3.peek\n",
      "4.Display\n",
      "5.Exit\n",
      "Enter the choice(1-5)3\n",
      "peek item in Queue is: 20\n"
     ]
    }
   ],
   "source": [
    "Que = []\n",
    "f = None\n",
    "r = None\n",
    "def isempty(Que):\n",
    "    if Que == []:\n",
    "        return True\n",
    "    else:\n",
    "        return False\n",
    "def Enqueue(Que,item):\n",
    "    Que.append(item)\n",
    "    if(len(Que) == 1):\n",
    "        f=r=0\n",
    "    else:\n",
    "        r = len(Que)-1\n",
    "def Dequeue(Que):\n",
    "    if(isempty(Que)):\n",
    "        return (\"Underflow\")\n",
    "    else:\n",
    "        a = Que.pop(0)\n",
    "    if(len(Que)==0):\n",
    "        f=r=None\n",
    "    return a\n",
    "def peek(Que):\n",
    "    if(isempty(Que)):\n",
    "        return (\"Underflow\")\n",
    "    else:\n",
    "        f = 0\n",
    "    return Que[f]\n",
    "def Display(Que):\n",
    "    if(len(Que)==0):\n",
    "        print(\"Queue is empty\")\n",
    "    elif(len(Que)==1):\n",
    "        print(Que[0])\n",
    "    else:\n",
    "        f = 0\n",
    "        r = len(Que)-1\n",
    "        print(Que[f])\n",
    "        for i in range(1, r):\n",
    "            print(Que[i])\n",
    "        print(Que[r])\n",
    "while True:\n",
    "    print(\"Welcome to the Queue Implementation\")\n",
    "    print(\"1.Enqueue\")\n",
    "    print(\"2.Dequeue\")\n",
    "    print(\"3.peek\")\n",
    "    print(\"4.Display\")\n",
    "    print(\"5.Exit\")\n",
    "    ch = int(input(\"Enter the choice(1-5)\"))\n",
    "    if ch==1:\n",
    "        item = int(input(\"Enter the Element which you want to enter\" ))\n",
    "        Enqueue(Que, item)\n",
    "        input(\"Enter any key to continue: \" )\n",
    "    if ch==2:\n",
    "        item = Dequeue(Que)\n",
    "        if item == \"Underflow\":\n",
    "            print(\"Queue is empty\")\n",
    "        else:\n",
    "            print(\"The Dequeued Item is: {}\".format(item) )\n",
    "        input(\"Enter any key to continue: \")\n",
    "    if ch==3:\n",
    "        item = peek(Que)\n",
    "        if item == \"Underflow\":\n",
    "            print(\"Queue is empty\")\n",
    "        else:\n",
    "            print(\"peek item in Queue is: {}\".format(item))\n",
    "        input(\"Enter any key to continue: \")\n",
    "    if ch==4:\n",
    "        Display(Que)\n",
    "        input(\"Enter any key to continue: \")\n",
    "    if ch==5:\n",
    "        break\n",
    "    else:\n",
    "        print(\"Bas yahi khatam\")"
   ]
  },
  {
   "cell_type": "code",
   "execution_count": null,
   "metadata": {},
   "outputs": [],
   "source": [
    "STACK"
   ]
  },
  {
   "cell_type": "code",
   "execution_count": null,
   "metadata": {},
   "outputs": [],
   "source": [
    "STACK 1 :-It is one of the user defined data\n",
    " structure which store the element in list\n",
    "by using method last in first out(LIFO),which means\n",
    " the element which the element which is entered last will be removed first.In stack all\n",
    " operation take place from one point that is form\n",
    " the top .we add element from top by using  'push' and delete element  top by using 'pop'.\n",
    " SO, suppose we have to remove any element in stack\n",
    " from inbetween, so first we have to remove\n",
    "element from the top(which is inserted last) and then\n",
    "delete second last and son on\n",
    "and peek=It is the first element we entered(at top)\n",
    "below first 30 entered,then 20 entered,then 30 entered  and so on"
   ]
  },
  {
   "cell_type": "code",
   "execution_count": 2,
   "metadata": {},
   "outputs": [
    {
     "name": "stdout",
     "output_type": "stream",
     "text": [
      "[10, 20, 30, 40]\n",
      "40\n",
      "[10, 20, 30]\n",
      "\n",
      "30\n"
     ]
    }
   ],
   "source": [
    "class stack():\n",
    "    def __init__(self):\n",
    "        self.stack = list()\n",
    "    def push(self,item):\n",
    "        self.stack.append(item)\n",
    "    def pop(self):\n",
    "        if(len(self.stack)>0):\n",
    "            return self.stack.pop()\n",
    "        else:\n",
    "            return None\n",
    "    def peek(self):\n",
    "        if(len(self.stack)>0):\n",
    "            return self.stack[len(self.stack)-1]\n",
    "        else:\n",
    "            return None\n",
    "    def __str__(self):\n",
    "        return str(self.stack)\n",
    "stack_item = stack()\n",
    "stack_item.push(10)\n",
    "stack_item.push(20)\n",
    "stack_item.push(30)\n",
    "stack_item.push(40)\n",
    "print(stack_item)\n",
    "print(stack_item.peek())\n",
    "stack_item.pop()\n",
    "print(stack_item)\n",
    "print()\n",
    "print(stack_item.peek())"
   ]
  },
  {
   "cell_type": "code",
   "execution_count": null,
   "metadata": {},
   "outputs": [],
   "source": [
    "SORTING ALGORITHM :-HERE WE SORT THE LIST\n",
    "IN ASCENDING OR DECENDING ORDER BY USING\n",
    "DIFFERENT SORT\n",
    "\n",
    "DIFFERENT KIND OF SORTING ARE:\n",
    "    \n",
    "BINARY SORT,MERGE SORT,SELECTION SORT\n",
    "INSERTION SORT,SHELLSORT"
   ]
  },
  {
   "cell_type": "code",
   "execution_count": null,
   "metadata": {},
   "outputs": [],
   "source": [
    "BUBBLE SORT ALGORITHM(Amulya)"
   ]
  },
  {
   "cell_type": "code",
   "execution_count": null,
   "metadata": {},
   "outputs": [],
   "source": [
    "10 15 4 23 0\n",
    "THIS IS FOR ASCENDING ORDER\n",
    "so we put the smalest value first\n",
    "\n",
    "So we first compare 10 with 15 if It(15)was then than 10 then we swap\n",
    "but here not so we write as it is\n",
    "10 15 4 23 0\n",
    "next compare 15 and 4 ten swap\n",
    "10 4 15 23 0\n",
    "now 15 and 23(compare)\n",
    "10 4 15 23 0\n",
    "now compare 23 and 0 so 23 greater, so we\n",
    "10 4 15 0 23\n",
    "so this is the first iteration and we get the largest value at the end(23)\n",
    "now for second iteration we use 10 4 15 0 23\n",
    "we compare 10 and 4,and we get,\n",
    "4 10 15 0 23\n",
    "now compare 10 &15\n",
    "4 10 15 0 23\n",
    "now 15&0,so we\n",
    "4 10 0 15 23\n",
    "now 2nd iteration ends here(last 2 value get placed)\n",
    "\n",
    "now we use 3rd Iteration\n",
    "the value is 4 10 0 15 23\n",
    "now compare  4&10,we get\n",
    "4 10 0 15 23\n",
    "now 10&0\n",
    "4 0 10 15 23\n",
    "third iteration completed(last 3 value get placed)\n",
    "4 0 10 15 23\n",
    "0 4 10 15 23(over)"
   ]
  },
  {
   "cell_type": "code",
   "execution_count": 3,
   "metadata": {},
   "outputs": [
    {
     "name": "stdout",
     "output_type": "stream",
     "text": [
      "unsorted list [10, 15, 4, 3, 23, 0, 1]\n",
      "[10, 15, 4, 3, 23, 0, 1]\n",
      "[10, 4, 15, 3, 23, 0, 1]\n",
      "[10, 4, 3, 15, 23, 0, 1]\n",
      "[10, 4, 3, 15, 23, 0, 1]\n",
      "[10, 4, 3, 15, 0, 23, 1]\n",
      "[10, 4, 3, 15, 0, 1, 23]\n",
      "[4, 10, 3, 15, 0, 1, 23]\n",
      "[4, 3, 10, 15, 0, 1, 23]\n",
      "[4, 3, 10, 15, 0, 1, 23]\n",
      "[4, 3, 10, 0, 15, 1, 23]\n",
      "[4, 3, 10, 0, 1, 15, 23]\n",
      "[4, 3, 10, 0, 1, 15, 23]\n",
      "[3, 4, 10, 0, 1, 15, 23]\n",
      "[3, 4, 10, 0, 1, 15, 23]\n",
      "[3, 4, 0, 10, 1, 15, 23]\n",
      "[3, 4, 0, 1, 10, 15, 23]\n",
      "[3, 4, 0, 1, 10, 15, 23]\n",
      "[3, 4, 0, 1, 10, 15, 23]\n",
      "[3, 4, 0, 1, 10, 15, 23]\n",
      "[3, 0, 4, 1, 10, 15, 23]\n",
      "[3, 0, 1, 4, 10, 15, 23]\n",
      "[3, 0, 1, 4, 10, 15, 23]\n",
      "[3, 0, 1, 4, 10, 15, 23]\n",
      "[3, 0, 1, 4, 10, 15, 23]\n",
      "[0, 3, 1, 4, 10, 15, 23]\n",
      "[0, 1, 3, 4, 10, 15, 23]\n",
      "[0, 1, 3, 4, 10, 15, 23]\n",
      "[0, 1, 3, 4, 10, 15, 23]\n",
      "[0, 1, 3, 4, 10, 15, 23]\n",
      "[0, 1, 3, 4, 10, 15, 23]\n",
      "[0, 1, 3, 4, 10, 15, 23]\n",
      "[0, 1, 3, 4, 10, 15, 23]\n",
      "[0, 1, 3, 4, 10, 15, 23]\n",
      "[0, 1, 3, 4, 10, 15, 23]\n",
      "[0, 1, 3, 4, 10, 15, 23]\n",
      "[0, 1, 3, 4, 10, 15, 23]\n",
      "sorted list is [0, 1, 3, 4, 10, 15, 23]\n"
     ]
    }
   ],
   "source": [
    "list1 = [10,15,4,3,23,0,1]\n",
    "print(\"unsorted list\", list1)\n",
    "for j in range(len(list1)-1):\n",
    "    for i in range(len(list1)-1):\n",
    "        if list1[i]>list1[i+1]:\n",
    "            list1[i],list1[i+1] = list1[i+1],list1[i]\n",
    "            print(list1)\n",
    "        else:\n",
    "            print(list1)\n",
    "        \n",
    "print(\"sorted list is\", list1)"
   ]
  },
  {
   "cell_type": "code",
   "execution_count": 6,
   "metadata": {
    "scrolled": true
   },
   "outputs": [
    {
     "name": "stdout",
     "output_type": "stream",
     "text": [
      "[15, 10, 4, 3, 23, 0, 1]\n",
      "[15, 10, 4, 3, 23, 0, 1]\n",
      "[15, 10, 4, 3, 23, 0, 1]\n",
      "[15, 10, 4, 23, 3, 0, 1]\n",
      "[15, 10, 4, 23, 3, 0, 1]\n",
      "[15, 10, 4, 23, 3, 1, 0]\n",
      "[15, 10, 4, 23, 3, 1, 0]\n",
      "[15, 10, 4, 23, 3, 1, 0]\n",
      "[15, 10, 23, 4, 3, 1, 0]\n",
      "[15, 10, 23, 4, 3, 1, 0]\n",
      "[15, 10, 23, 4, 3, 1, 0]\n",
      "[15, 10, 23, 4, 3, 1, 0]\n",
      "[15, 10, 23, 4, 3, 1, 0]\n",
      "[15, 23, 10, 4, 3, 1, 0]\n",
      "[15, 23, 10, 4, 3, 1, 0]\n",
      "[15, 23, 10, 4, 3, 1, 0]\n",
      "[15, 23, 10, 4, 3, 1, 0]\n",
      "[15, 23, 10, 4, 3, 1, 0]\n",
      "[23, 15, 10, 4, 3, 1, 0]\n",
      "[23, 15, 10, 4, 3, 1, 0]\n",
      "[23, 15, 10, 4, 3, 1, 0]\n",
      "[23, 15, 10, 4, 3, 1, 0]\n",
      "[23, 15, 10, 4, 3, 1, 0]\n",
      "[23, 15, 10, 4, 3, 1, 0]\n",
      "[23, 15, 10, 4, 3, 1, 0]\n",
      "[23, 15, 10, 4, 3, 1, 0]\n",
      "[23, 15, 10, 4, 3, 1, 0]\n",
      "[23, 15, 10, 4, 3, 1, 0]\n",
      "[23, 15, 10, 4, 3, 1, 0]\n",
      "[23, 15, 10, 4, 3, 1, 0]\n",
      "[23, 15, 10, 4, 3, 1, 0]\n",
      "[23, 15, 10, 4, 3, 1, 0]\n",
      "[23, 15, 10, 4, 3, 1, 0]\n",
      "[23, 15, 10, 4, 3, 1, 0]\n",
      "[23, 15, 10, 4, 3, 1, 0]\n",
      "[23, 15, 10, 4, 3, 1, 0]\n",
      "sorted list:  [23, 15, 10, 4, 3, 1, 0]\n"
     ]
    }
   ],
   "source": [
    "list1 = [10,15,4,3,23,0,1]\n",
    "for j in range(len(list1)-1):\n",
    "    for i in range(len(list1)-1):\n",
    "        if list1[i]<list1[i+1]:\n",
    "            list1[i], list1[i+1] = list1[i+1],list1[i]\n",
    "            print(list1)\n",
    "        else:\n",
    "            print(list1)\n",
    "print(\"sorted list: \", list1)\n",
    "                \n",
    "            "
   ]
  },
  {
   "cell_type": "code",
   "execution_count": null,
   "metadata": {},
   "outputs": [],
   "source": [
    "MERGE SORTING(Amulya)\n",
    "split the  unsorted list into indiviual elements and then compare each elements and group \n",
    "then according to accending or decending"
   ]
  },
  {
   "cell_type": "code",
   "execution_count": null,
   "metadata": {},
   "outputs": [],
   "source": [
    "FIRST DIVIDE THE LIST TO FIND MIDDLE VALUE\n",
    "len(list)//2 = suppose 3\n",
    "so third index(value=40) value will be middle value\n",
    "20 1 50 40 10 5 17\n",
    "20 1 50    40 10 5 17\n",
    "now again we divide list1 is 20 1 50  and list2 is 40 10 5 17\n",
    "now again, length of list1&list2 is 3 so we use\n",
    "3//2 = 1, index is 1 so value is 1(list1) and for list2 = len(list2)//2,i.e(4//2), index = 2 so value is 5 at index1\n",
    "so list1 is divide on basis of 1 value i.e = 20 and 1 50\n",
    "and list2  divide on basis of value 5 i.e = 40 10     5  17\n",
    "now from list1, we have 1 50\n",
    "from list2 we have 40 10  and 5  17\n",
    "now again use divide on list1 i.e len(list1)//2 we get index 1 so value are 1 and 50\n",
    "similarly len(list2)//2 , and we get 40 and 10 \n",
    "5 and 17\n",
    "and now gain we have to merge\n",
    "20   1 50   40 10  5 17\n",
    "      1 50 10 40  5 17\n",
    "compairing 20 with niche wala 1  50...\n",
    "    \n",
    " 1 20 50    \n",
    "and now from 10  40  5  17 , we are compairing 10 with 5,i.e 10<5, ,5 is small so it wil be come to 1st position\n",
    "and again compare 10 with 17 and this time 10 comes 2nd and so on..\n",
    "5 10 17 40\n",
    "so now\n",
    "1 20 50   5 10 17 40\n",
    "whrther 1<5 anf after that 1 less than 5 so it get placed,now we compare next value 20 with 5,with 10,17 and 40 \n",
    "so after 5,10,17 value 20 get placed, ok now 50 compare with 40  so 40 comes fist and all value get placed\n",
    "\n",
    "1 5 10 17 20 40 50\n"
   ]
  },
  {
   "cell_type": "code",
   "execution_count": 3,
   "metadata": {},
   "outputs": [
    {
     "name": "stdout",
     "output_type": "stream",
     "text": [
      "how many elements do u want to enter: 4\n",
      "1\n",
      "2\n",
      "3\n",
      "4\n",
      "[1, 2, 3, 4]\n"
     ]
    }
   ],
   "source": [
    "num = int(input(\"how many elements do u want to enter: \"))\n",
    "list1 = [int(input()) for i in range(num)]\n",
    "print(list1)"
   ]
  },
  {
   "cell_type": "markdown",
   "metadata": {},
   "source": [
    "num = int(input(\"How many elements u want to enter\"))\n",
    "list1 = [int(input() for x in range(num)]\n",
    "print(list1\n"
   ]
  },
  {
   "cell_type": "code",
   "execution_count": 5,
   "metadata": {},
   "outputs": [
    {
     "name": "stdout",
     "output_type": "stream",
     "text": [
      "Enter the elements u want to enter: 4\n",
      "34\n",
      "12\n",
      "78\n",
      "45\n",
      "sorted_list [12, 34, 45, 78]\n"
     ]
    }
   ],
   "source": [
    "def merge_sort(list1):\n",
    "    if len(list1)>1:\n",
    "        mid = len(list1)//2\n",
    "        left_list = list1[:mid]\n",
    "        right_list = list1[mid:]\n",
    "        merge_sort(left_list)\n",
    "        merge_sort(right_list)\n",
    "        i=0\n",
    "        j=0\n",
    "        k=0\n",
    "        while i<len(left_list) and j<len(right_list):\n",
    "            if left_list[i]<right_list[j]:\n",
    "                list1[k] =left_list[i]\n",
    "                i = i+1\n",
    "                k =k+1\n",
    "            else:\n",
    "                list1[k] = right_list[j]\n",
    "                j  =j+1\n",
    "                k = k+1\n",
    "        while len(left_list)>i:\n",
    "            list1[k] =left_list[i]\n",
    "            i = i+1\n",
    "            k =k+1\n",
    "        while len(right_list)>j:\n",
    "            list1[k] = right_list[j]\n",
    "            j = j+1\n",
    "            k = k+1\n",
    "            \n",
    "num1 = int(input(\"Enter the elements u want to enter: \"))\n",
    "list1 = [int(input())for i in range(num1)]\n",
    "merge_sort(list1)\n",
    "print(\"sorted_list\", list1)"
   ]
  },
  {
   "cell_type": "code",
   "execution_count": null,
   "metadata": {},
   "outputs": [],
   "source": [
    "SELECTION SORT"
   ]
  },
  {
   "cell_type": "code",
   "execution_count": null,
   "metadata": {},
   "outputs": [],
   "source": [
    "5 15 3 12 17 0 \n",
    "we assue first value as minimum value(which is 5) and compare 15<5 ..no then compare 3<5..yes\n",
    "ten i will take 3 as min value and then compare 12<3..no then  chk 17<3..no it is not \n",
    "again chk 0<3 yes it is so 0 is the minimum value\n",
    "now we place this value(0) in zero index, we get\n",
    "0  15  3  12 17 5\n",
    "so here 0 is sorted now part and rest are unsorted part\n",
    "now we consider 15 as min_value and compare 3<15..yes.. now 12<3..no...17<3.no..5<3..no\n",
    "now\n",
    "0 3 15 12 17 5\n",
    "now 15 12 17 5 are unsorted part\n",
    "so we consider 15 as small value and compare if any other value is smaller than this\n",
    "so\n",
    "0 3 5 12 17 15\n",
    "now 0 3 5 12 15 17\n",
    "this is if we are doing for ascending order\n",
    "similarly , we can do for Decending order"
   ]
  },
  {
   "cell_type": "code",
   "execution_count": null,
   "metadata": {},
   "outputs": [],
   "source": [
    "selection sort algorithm\n",
    "find min value and swap it to zero(0)position\n",
    "now it is sorted(at position 0) and now compare remaining sublist and again find smallest value and place it at position \n",
    "next to zero."
   ]
  },
  {
   "cell_type": "code",
   "execution_count": 3,
   "metadata": {},
   "outputs": [
    {
     "name": "stdout",
     "output_type": "stream",
     "text": [
      "unsorted list [1, 45, 23, 34, 17, 10, 100, 98, 77]\n",
      "[1, 45, 23, 34, 17, 10, 100, 98, 77]\n",
      "[1, 10, 23, 34, 17, 45, 100, 98, 77]\n",
      "[1, 10, 17, 34, 23, 45, 100, 98, 77]\n",
      "[1, 10, 17, 23, 34, 45, 100, 98, 77]\n",
      "[1, 10, 17, 23, 34, 45, 100, 98, 77]\n",
      "[1, 10, 17, 23, 34, 45, 100, 98, 77]\n",
      "[1, 10, 17, 23, 34, 45, 77, 98, 100]\n",
      "[1, 10, 17, 23, 34, 45, 77, 98, 100]\n"
     ]
    }
   ],
   "source": [
    "list1 = [1,45,23,34,17,10,100,98,77]\n",
    "print(\"unsorted list\", list1)\n",
    "for i in range(len(list1)-1):\n",
    "    min_value = min(list1[i:])\n",
    "    min_ind = list1.index(min_value)\n",
    "    list1[i], list1[min_ind] = list1[min_ind],list1[i]\n",
    "    print(list1)\n",
    "# print(list1)--here only result and upar wala print(list1) will find result as well as entire iteration"
   ]
  },
  {
   "cell_type": "code",
   "execution_count": 10,
   "metadata": {},
   "outputs": [
    {
     "name": "stdout",
     "output_type": "stream",
     "text": [
      "unsorted list [1, 45, 23, 34, 17, 10, 100, 98, 77]\n",
      "[100, 45, 23, 34, 17, 10, 1, 98, 77]\n",
      "[100, 98, 23, 34, 17, 10, 1, 45, 77]\n",
      "[100, 98, 77, 34, 17, 10, 1, 45, 23]\n",
      "[100, 98, 77, 45, 17, 10, 1, 34, 23]\n",
      "[100, 98, 77, 45, 34, 10, 1, 17, 23]\n",
      "[100, 98, 77, 45, 34, 23, 1, 17, 10]\n",
      "[100, 98, 77, 45, 34, 23, 17, 1, 10]\n",
      "[100, 98, 77, 45, 34, 23, 17, 10, 1]\n",
      "[100, 98, 77, 45, 34, 23, 17, 10, 1]\n"
     ]
    }
   ],
   "source": [
    "list1 = [1,45,23,34,17,10,100,98,77]\n",
    "print(\"unsorted list\", list1)\n",
    "for i in range(len(list1)):\n",
    "    max_val = max(list1[i:])\n",
    "    max_index = list1.index(max_val)\n",
    "    list1[i], list1[max_index] = list1[max_index], list1[i]\n",
    "    print(list1)\n"
   ]
  },
  {
   "cell_type": "code",
   "execution_count": null,
   "metadata": {},
   "outputs": [],
   "source": [
    "IF DUBLICATE VALUE ARE THERE IN THE LIST\n",
    "selection sort"
   ]
  },
  {
   "cell_type": "code",
   "execution_count": 11,
   "metadata": {},
   "outputs": [
    {
     "name": "stdout",
     "output_type": "stream",
     "text": [
      "Unsorted list [1, 45, 23, 34, 17, 34, 10, 100, 98, 77, 1, 45]\n",
      "[1, 45, 23, 34, 17, 34, 10, 100, 98, 77, 1, 45]\n",
      "[1, 1, 23, 34, 17, 34, 10, 100, 98, 77, 45, 45]\n",
      "[1, 1, 10, 34, 17, 34, 23, 100, 98, 77, 45, 45]\n",
      "[1, 1, 10, 17, 34, 34, 23, 100, 98, 77, 45, 45]\n",
      "[1, 1, 10, 17, 23, 34, 34, 100, 98, 77, 45, 45]\n",
      "[1, 1, 10, 17, 23, 34, 34, 100, 98, 77, 45, 45]\n",
      "[1, 1, 10, 17, 23, 34, 34, 100, 98, 77, 45, 45]\n",
      "[1, 1, 10, 17, 23, 34, 34, 45, 98, 77, 100, 45]\n",
      "[1, 1, 10, 17, 23, 34, 34, 45, 45, 77, 100, 98]\n",
      "[1, 1, 10, 17, 23, 34, 34, 45, 45, 77, 100, 98]\n",
      "[1, 1, 10, 17, 23, 34, 34, 45, 45, 77, 98, 100]\n",
      "[1, 1, 10, 17, 23, 34, 34, 45, 45, 77, 98, 100]\n"
     ]
    }
   ],
   "source": [
    "list1 = [1,45,23,34,17,34,10,100,98,77,1,45]\n",
    "print(\"Unsorted list\", list1)\n",
    "for i in range(len(list1)):\n",
    "    min_value = min(list1[i:])\n",
    "    min_index = list1.index(min_value, i)\n",
    "    list1[i], list1[min_index]  =  list1[min_index], list1[i]\n",
    "    print(list1)\n",
    "    "
   ]
  },
  {
   "cell_type": "code",
   "execution_count": 15,
   "metadata": {},
   "outputs": [
    {
     "name": "stdout",
     "output_type": "stream",
     "text": [
      "unsorted list [1, 45, 23, 34, 17, 34, 10, 100, 98, 77, 1, 45]\n",
      "[1, 1, 10, 17, 23, 34, 34, 45, 45, 77, 98, 100]\n"
     ]
    }
   ],
   "source": [
    "list1 = [1,45,23,34,17,34,10,100,98,77,1,45]\n",
    "print(\"unsorted list\", list1)\n",
    "for i in range(len(list1)):\n",
    "    min_value = min(list1[i:])\n",
    "    min_index = list1.index(min_value, i)\n",
    "    if list1[i]!=list1[min_index]:\n",
    "        list1[i], list1[min_index] = list1[min_index], list1[i]\n",
    "print(list1) "
   ]
  },
  {
   "cell_type": "code",
   "execution_count": null,
   "metadata": {},
   "outputs": [],
   "source": [
    "INSERTION SORT\n",
    "In this part, In the list consider first element as sorted part and rest as unsorted part\n",
    "now compare the first element in unsorted part with the sorted elements\n",
    "if first element is less than sorted element then replace it and if not then leave it as it is\n",
    "and then compare the next element in unsorted part with sorted element if it is less than sorted part element then\n",
    "replace it in correct index otherwise leave it and so on............."
   ]
  },
  {
   "cell_type": "code",
   "execution_count": null,
   "metadata": {},
   "outputs": [],
   "source": [
    "10 4 25 1 5\n",
    "here coonsider 10 as sorted and other as unsorted part and now compare first element from unsorted part,i.e 4 with\n",
    "the sorted part value 10, ok\n",
    "so\n",
    "4 10 25 1 5..now compare 25(which is in unsorted part) wid 10(now sorted)(25<10)..no..then see below\n",
    "4 10 25 1 5\n",
    "now 25 also in sorted part and we compare 1 with 25(1<25)..yes then (1<10)..yes then (1<4)..yes so we placed it in\n",
    "right position\n",
    "1  4  10  25  5(now 1 also in sorted part)\n",
    "now compare 5 with 25(5<25)..yes then compare 5 with(5<10)..yes then(5<4)..no now place in right position\n",
    "1  4  5  10  25"
   ]
  },
  {
   "cell_type": "code",
   "execution_count": 18,
   "metadata": {},
   "outputs": [
    {
     "name": "stdout",
     "output_type": "stream",
     "text": [
      "sorted list:  [1, 4, 7, 11, 12, 32, 34]\n"
     ]
    }
   ],
   "source": [
    "def insertion_sort(list1):\n",
    "    for index in range(1, len(list1)):\n",
    "        current_element = list1[index]\n",
    "        pos = index\n",
    "        while current_element<list1[pos-1] and pos>0:\n",
    "            list1[pos] = list1[pos-1]\n",
    "            pos = pos-1\n",
    "        else:\n",
    "            list1[pos]  =current_element\n",
    "            \n",
    "list1 = [4,1,7,34,12,32,11]\n",
    "insertion_sort(list1)\n",
    "print(\"sorted list: \", list1)\n",
    "             \n",
    "             \n"
   ]
  },
  {
   "cell_type": "code",
   "execution_count": null,
   "metadata": {},
   "outputs": [],
   "source": [
    "SHELL SORT =It break the original list into a number of smaller list then each sublist is sorted using\n",
    "shell sort\n"
   ]
  },
  {
   "cell_type": "code",
   "execution_count": null,
   "metadata": {},
   "outputs": [],
   "source": [
    "1)take list\n",
    "2)find out gap\n",
    "3)create sublist on gap and sort using insertion sort\n",
    "reduce gap and again create sublist and apply insertion sorting1)\n",
    "until gap is 0"
   ]
  },
  {
   "cell_type": "code",
   "execution_count": null,
   "metadata": {},
   "outputs": [],
   "source": [
    "list1 = 54 26 93 17 77 31 44 55 20\n",
    "so here first find gap\n",
    "gap = len(list1)//2,  9//2=4\n",
    "so gap is 4 ,on basis of gap we divide sublist and apply insertion sort\n",
    "so first list is 54 77 20 ,so applying insertion we get 34 is sorted and other two 77 and 20 are unsorted so we 1st\n",
    "compare 77 with 34(77<34)..no and now it is sorted nd now we compare 20 and yes it sis\n",
    "so value is 20 54 77 now,\n",
    "20 26 93 17 54 31 44 55 77\n",
    "now take again another gap from this list which is =26& 31 \n",
    "so list is\n",
    "20 26 93 17 54 31 44 55 77\n",
    "now take another gap starting from 93 44\n",
    "now list is \n",
    "20 26 44 17 54 31 93 55 77\n",
    "now take another gap 17 55\n",
    "20 26 44 17 54 31 93 55 77==all done for gap=4\n",
    "\n",
    "now again reduce the gap and sort them\n",
    "gap = 4//2  =2\n",
    "20 26 44 17 54 31 93 55 77 \n",
    "now campare 20 wid 44  after that  44 and 54 then 54 wid 93 then 93 with 77\n",
    "20 44 54 93 77\n",
    "we get\n",
    "20 44 54 77 93\n",
    "so\n",
    "20 26 44 17 54 31 77 55 93\n",
    "and next we have 26 17 31 55\n",
    "so\n",
    "20 17 44 26 54 31 77 55 93 gap 2 completed\n",
    "now gap = gap//2\n",
    "2//2 =1\n",
    "gap is 1\n",
    "20 17 44 26 54 31 77 55 93 (now compare each value)\n",
    "now use insertion sort again which means 20 as sorted and other as unsorted and compare 1st value of unsorted with sorted\n",
    "ans so on\n",
    "17 20 44 26 54 31 77 55 93\n",
    "17 20 44 26 54 31 77 55 93\n",
    "17 20 44 26 54 31 77 55 93 \n",
    "17 20 26 44 54 31 77 55 93\n",
    "17 20 26 44 54 31 77 55 93\n",
    "17 20 26 31 44 54 77 55 93\n",
    "17 20 26 31 44 54 77 55 93 \n",
    "17 20 26 31 44 54 55 77 93 "
   ]
  },
  {
   "cell_type": "code",
   "execution_count": 19,
   "metadata": {},
   "outputs": [
    {
     "name": "stdout",
     "output_type": "stream",
     "text": [
      "Enter the list length: 8\n",
      "1\n",
      "5\n",
      "77\n",
      "4\n",
      "12\n",
      "11\n",
      "5\n",
      "4\n",
      "Sorted list is:  [1, 4, 4, 5, 5, 11, 12, 77]\n"
     ]
    }
   ],
   "source": [
    "def shellsort(alist):\n",
    "    gap = len(alist)//2\n",
    "    while gap>0:\n",
    "        for index in range(gap, len(alist)):\n",
    "            current_element = alist[index]\n",
    "            pos = index\n",
    "            while current_element<alist[pos-gap] and pos>=gap:\n",
    "                alist[pos] = alist[pos-gap]\n",
    "                pos = pos-gap\n",
    "            alist[pos] = current_element\n",
    "        gap = gap//2\n",
    "        \n",
    "\n",
    "num = int(input(\"Enter the list length: \"))\n",
    "list1 = [int(input()) for i in range(num)]\n",
    "shellsort(list1)\n",
    "print(\"Sorted list is: \", list1)\n"
   ]
  },
  {
   "cell_type": "code",
   "execution_count": null,
   "metadata": {},
   "outputs": [],
   "source": [
    "LINEAR SEARCH"
   ]
  },
  {
   "cell_type": "code",
   "execution_count": null,
   "metadata": {},
   "outputs": [],
   "source": [
    "LINEAR SEARCH:= 10 7 4 1 19 23 100\n",
    "in linear search when a user give any element suppose 4 here, then we look for whether that element is present in  \n",
    "the list or not and if it is there then at which position it is there\n",
    "starting from letmost side in the list and then compare it with each element like 4=10..no then 4=7.no\n",
    "then 4==4 yes and when match found , we return True"
   ]
  },
  {
   "cell_type": "code",
   "execution_count": 20,
   "metadata": {},
   "outputs": [
    {
     "name": "stdout",
     "output_type": "stream",
     "text": [
      "Enter the list length: 8\n",
      "2\n",
      "4\n",
      "6\n",
      "8\n",
      "12\n",
      "14\n",
      "16\n",
      "17\n",
      "[2, 4, 6, 8, 12, 14, 16, 17]\n",
      "Enter the element to find in a list: 14\n",
      "The key is found at index 5\n"
     ]
    }
   ],
   "source": [
    "def linearsearch(list1, key):\n",
    "    for i in range(len(list1)):\n",
    "        if key == list1[i]:\n",
    "            print(\"The key is found at index\", i)\n",
    "            break\n",
    "    else:\n",
    "        print(\"key is not found\")\n",
    "            \n",
    "\n",
    "num = int(input(\"Enter the list length: \"))\n",
    "list1 = [int(input()) for i in range(num)]\n",
    "print(list1)\n",
    "key = int(input(\"Enter the element to find in a list: \"))\n",
    "linearsearch(list1, key)"
   ]
  },
  {
   "cell_type": "code",
   "execution_count": null,
   "metadata": {},
   "outputs": [],
   "source": [
    "FOR DUPLICATE VALUES"
   ]
  },
  {
   "cell_type": "code",
   "execution_count": 22,
   "metadata": {
    "scrolled": true
   },
   "outputs": [
    {
     "name": "stdout",
     "output_type": "stream",
     "text": [
      "[34, 23, 5, 6, 7, 1, 23, 8, 5]\n",
      "Enter the key element to find in a list: 5\n",
      "Key value is found: \n",
      "2\n",
      "8\n"
     ]
    }
   ],
   "source": [
    "def linearsearch(list1, key):\n",
    "    list2 = []\n",
    "    flag = False\n",
    "    for i in range(len(list1)):\n",
    "        if key == list1[i]:\n",
    "            flag = True\n",
    "            list2.append(i)\n",
    "    if flag == True:\n",
    "        print(\"Key value is found: \")\n",
    "        for i in list2:\n",
    "            print(i)\n",
    "    else:\n",
    "        print(\"key is not found\")\n",
    "    \n",
    "list1 = [34,23,5,6,7,1,23,8,5]\n",
    "print(list1)\n",
    "key = int(input(\"Enter the key element to find in a list: \"))\n",
    "linearsearch(list1, key)\n",
    "# In pycharm write search instead of Linearsearch"
   ]
  },
  {
   "cell_type": "code",
   "execution_count": null,
   "metadata": {},
   "outputs": [],
   "source": [
    "BINARY SEARCH"
   ]
  },
  {
   "cell_type": "code",
   "execution_count": null,
   "metadata": {},
   "outputs": [],
   "source": [
    "Here first we sort the list in Ascending or Decreasing order\n",
    "Then we compare the key with the middle elements\n",
    "If it is matches with the middle element  then we print 'key is found' and we stop everything otherwise we check whether \n",
    "the key element is smaller then the middle element or greater than the middle element and IF it is \n",
    "smaller than the middle element then we search for element in the left sub-list part, otherwise we look for it\n",
    "in the right sub-list part and suppose It is smaller than middile element then we go to left sublist part and again \n",
    " we compare the value with middle value(of left sub-list part) and if it is greater than middle element then go to \n",
    "right sublist and if is smaller than middle element then go to the left sub-list part and if it matches the middle\n",
    "element then key is found else key is not found at last\n",
    "\n",
    "Suppose,\n",
    "[10 7 1 4 23 100 18],first we sort the list,we get\n",
    "[1 4 7 10 18 23 100] here length of list is 7\n",
    "To find middle value(in case of odd)= low+high//2 = 0+6//2=3, now look for index 3\n",
    "in list, which is value 10(middle value)\n",
    "now we compare user input with this value"
   ]
  },
  {
   "cell_type": "code",
   "execution_count": null,
   "metadata": {},
   "outputs": [],
   "source": [
    "def Binarysearch(list1, key):\n",
    "    low = 0\n",
    "    high = len(list1)-1\n",
    "    Found = False\n",
    "    while low<=high and not Found:\n",
    "        mid = low+high//2\n",
    "        if key == list1[mid]:\n",
    "            Found = True\n",
    "        elif key >list1[mid]:\n",
    "            low = mid+1\n",
    "        else:\n",
    "            high = mid-1\n",
    "    if Found == True:\n",
    "        print(\"key is found\")\n",
    "    else:\n",
    "        print(\"key is not found\")\n",
    "    \n",
    "    \n",
    "list1 = [1,16,11,20,26,22,9,13,19]\n",
    "print(\"unSorted list: \",list1)\n",
    "list1.sort()\n",
    "print(\"sorted_list1: \", list1)\n",
    "key = int(input(\"Enter the key: \"))\n",
    "Binarysearch(list1, key)\n"
   ]
  },
  {
   "cell_type": "code",
   "execution_count": null,
   "metadata": {},
   "outputs": [],
   "source": []
  }
 ],
 "metadata": {
  "kernelspec": {
   "display_name": "Python 3",
   "language": "python",
   "name": "python3"
  },
  "language_info": {
   "codemirror_mode": {
    "name": "ipython",
    "version": 3
   },
   "file_extension": ".py",
   "mimetype": "text/x-python",
   "name": "python",
   "nbconvert_exporter": "python",
   "pygments_lexer": "ipython3",
   "version": "3.8.5"
  }
 },
 "nbformat": 4,
 "nbformat_minor": 4
}
