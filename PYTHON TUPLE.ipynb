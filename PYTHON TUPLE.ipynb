{
 "cells": [
  {
   "cell_type": "code",
   "execution_count": 25,
   "metadata": {},
   "outputs": [
    {
     "ename": "SyntaxError",
     "evalue": "invalid syntax (<ipython-input-25-58797a4ee6ac>, line 1)",
     "output_type": "error",
     "traceback": [
      "\u001b[1;36m  File \u001b[1;32m\"<ipython-input-25-58797a4ee6ac>\"\u001b[1;36m, line \u001b[1;32m1\u001b[0m\n\u001b[1;33m    -Tuple is one of bulit-in data structure of python which consists of different type of elements\u001b[0m\n\u001b[1;37m                  ^\u001b[0m\n\u001b[1;31mSyntaxError\u001b[0m\u001b[1;31m:\u001b[0m invalid syntax\n"
     ]
    }
   ],
   "source": [
    "-Tuple is one of bulit-in data structure of python which consists of different type of elements \n",
    "such as number,float,boolean,complex,tuple,list,set,dict and it is represented by ().It also contain\n",
    "duplicate and tuple are always in order\n",
    "-It is immutable data type i.e data can not be modified or updated and can not remove single value from tuple\n",
    "-It occupied less memory compare to List\n",
    "It is heterogeneous"
   ]
  },
  {
   "cell_type": "code",
   "execution_count": null,
   "metadata": {},
   "outputs": [],
   "source": [
    "tup = ()\n",
    "print(tup)\n",
    "print(type)"
   ]
  },
  {
   "cell_type": "code",
   "execution_count": null,
   "metadata": {},
   "outputs": [],
   "source": [
    "tup1  =(23,)\n",
    "print(tup1)\n",
    "print(type(tup1))\n",
    "tup2 = (\"jai\",)\n",
    "print(tup2)\n",
    "tup3 = ((9,0),)\n",
    "print(tup3)"
   ]
  },
  {
   "cell_type": "code",
   "execution_count": null,
   "metadata": {},
   "outputs": [],
   "source": [
    "# tuple of number\n",
    "tup = (1,2,3,4,5)\n",
    "print(tup)\n",
    "# tuple of string\n",
    "tup1 = (\"jai\",\"g\",\"p\")\n",
    "print(tup1)"
   ]
  },
  {
   "cell_type": "code",
   "execution_count": 26,
   "metadata": {},
   "outputs": [
    {
     "name": "stdout",
     "output_type": "stream",
     "text": [
      "(9, 3.4, False, (9, 0), [1, 2], {6, 7})\n",
      "(4, 5.6, 'g', (9, 9))\n"
     ]
    }
   ],
   "source": [
    "# tuple of all mix element of data\n",
    "data = (9,3.4,False,(9,0),[1,2],{6,7})\n",
    "print(data)\n",
    "data1 = 4,5.6,\"g\",(9,9)\n",
    "print(data1)"
   ]
  },
  {
   "cell_type": "code",
   "execution_count": 27,
   "metadata": {},
   "outputs": [
    {
     "ename": "SyntaxError",
     "evalue": "invalid syntax (<ipython-input-27-e5307e8c1426>, line 1)",
     "output_type": "error",
     "traceback": [
      "\u001b[1;36m  File \u001b[1;32m\"<ipython-input-27-e5307e8c1426>\"\u001b[1;36m, line \u001b[1;32m1\u001b[0m\n\u001b[1;33m    INDEX = it represent the position of tuple's element.It start from 0 onwards. it is length-1\u001b[0m\n\u001b[1;37m               ^\u001b[0m\n\u001b[1;31mSyntaxError\u001b[0m\u001b[1;31m:\u001b[0m invalid syntax\n"
     ]
    }
   ],
   "source": [
    "INDEX = it represent the position of tuple's element.It start from 0 onwards. it is length-1\n"
   ]
  },
  {
   "cell_type": "code",
   "execution_count": null,
   "metadata": {},
   "outputs": [],
   "source": [
    "# tuple of tuples\n",
    "a = ((9,0),(1,2,\"j\",4.5))\n",
    "print(a)\n",
    "print(type(a))"
   ]
  },
  {
   "cell_type": "code",
   "execution_count": null,
   "metadata": {},
   "outputs": [],
   "source": [
    "tuple1 = \"jai\",\"001\",\"HR dept\",34\n",
    "print(tuple1)\n",
    "empname,empid,departmentName,age = tuple1\n",
    "print(empname)\n",
    "print(empid)\n",
    "print(departmentName)\n",
    "print(age)\n",
    "print(type(tuple1))\n"
   ]
  },
  {
   "cell_type": "code",
   "execution_count": null,
   "metadata": {},
   "outputs": [],
   "source": [
    "tup2 = (\"w\",\"e\",\"l\",\"c\",\"o\",\"m\",\"e\")\n",
    "tup3 = (\"j\",\"2\",7,6.7,True,[6,7,[1,2]],(1,2))\n",
    "# slicing retriev a range of elements\n",
    "print(tup3)\n",
    "# print(tup3[1:7:2])\n",
    "# print(tup3[2::2])\n",
    "# print(tup3[0::3])\n",
    "# print(tup3[2:])\n",
    "# print(tup3[:])\n",
    "# print(tup3[-4:-1])\n",
    "# print(tup3[-5:])\n",
    "# print(tup3[0:4])\n",
    "# print(tup3[1:7])\n",
    "# print(tup3[3])\n",
    "# print(tup3[5])\n",
    "# print(tup3[5][2])\n",
    "# print(tup3[6])\n",
    "# print(tup3[6][1])\n",
    "\n",
    "# print(tup2)\n",
    "# print(tup2[3])\n",
    "# print(tup2[0])\n",
    "# print(tup2[-1])\n",
    "# print(tup2[-3])\n",
    "# print(tup2[0:4])\n",
    "# print(tup2[1:5])\n",
    "# print(tup2[-6:-2])\n",
    "# print(tup2[2:])\n",
    "# print(tup2[:4])\n",
    "# print(tup2[0:6:2])\n",
    "# print(tup2[1:6:3])\n",
    "# print(tup2[2::3])\n",
    "# print(tup2[0::2])\n",
    "# print(tup2[::-1])\n",
    "# print(tup2[::1])\n"
   ]
  },
  {
   "cell_type": "code",
   "execution_count": null,
   "metadata": {},
   "outputs": [],
   "source": [
    "# TUPLE ARE IMMUTABLE IN NATURE\n",
    "tup2 = (\"w\",\"e\",\"l\",\"c\",\"o\",\"m\",\"e\")\n",
    "# print(tup2)\n",
    "# tup2[1] = \"j\"\n",
    "# # print(tup2)\n",
    "# LIst inside tuple can be modified\n",
    "# tup3  =(6,7,(9,0),[\"jai\",4])\n",
    "# print(tup3)\n",
    "# print(tup3[3])\n",
    "# print(tup3[3][0])\n",
    "# print(tup3[3][1])\n",
    "\n",
    "# tup3[3][1] = 24\n",
    "# tup3[3][0] = \"sam\"\n",
    "# print(tup3)\n",
    "\n",
    "# tup3[3] = (\"sam\",2)---it will not work\n",
    "# print(tup3)\n",
    "# DELETE OPERATION\n",
    "# del tup3[0]-- it will not work it will not delete single item\n",
    "# print(tup3)\n",
    "# ENTIRE TUPLE CAN BE DELETED\n",
    "# del tup3\n",
    "# print(tup3)\n",
    "\n",
    "# TUPLES CAB BE REASSIGNED\n",
    "# tup3 = (5,8,(10,11),[\"HAM\",2])\n",
    "# print(tup3)\n",
    "tup5 =(40,50)\n",
    "tup6= tup2+tup5\n",
    "print(tup6)\n",
    "print(id(tup2))--both hav different address\n",
    "print(id(tup6))\n"
   ]
  },
  {
   "cell_type": "code",
   "execution_count": null,
   "metadata": {},
   "outputs": [],
   "source": [
    "# CONCATENATION OF TUPES\n",
    "tup4 = (\"w\",\"e\",\"l\")\n",
    "tup5 = (\"c\",\"o\",\"m\",\"e\")\n",
    "tup6 = (5,6.7,True,\"jai\")\n",
    "print(tup4 +tup5)\n",
    "print(tup4 + tup6)\n"
   ]
  },
  {
   "cell_type": "code",
   "execution_count": null,
   "metadata": {},
   "outputs": [],
   "source": [
    "# FIND LENGTH\n",
    "thistuple = (\"banana\",\"apple\",\"cabbage\",\"orange\")\n",
    "print(thistuple)\n",
    "print(len(thistuple))"
   ]
  },
  {
   "cell_type": "code",
   "execution_count": null,
   "metadata": {},
   "outputs": [],
   "source": [
    "# DUPLICATE CAN BE ALLOWED\n",
    "a= (6,7,6,3,9,9,6)\n",
    "print(a)"
   ]
  },
  {
   "cell_type": "code",
   "execution_count": null,
   "metadata": {},
   "outputs": [],
   "source": [
    "# NOT A TUPLE\n",
    "thistuple = (\"jai\")---tuple require comma with a single value which is not there eg - thistuple = (\"jai\",)\n",
    "print(thistuple)\n",
    "print(type(thistuple))"
   ]
  },
  {
   "cell_type": "code",
   "execution_count": null,
   "metadata": {},
   "outputs": [],
   "source": [
    "# TUPLE CONSTRUCTOR\n",
    "thistuple = tuple([\"apple\", \"banana\", \"cherry\"])\n",
    "print(thistuple)\n",
    "print(type(thistuple))"
   ]
  },
  {
   "cell_type": "code",
   "execution_count": null,
   "metadata": {},
   "outputs": [],
   "source": [
    "# REPEATING TUPLES N TIMES\n",
    "test_tup = (1,3)\n",
    "N = 4\n",
    "res = test_tup *N\n",
    "print(res)\n",
    "res1  =((test_tup,)*N)\n",
    "print(res1)\n",
    "print((\"again\",)*4)\n",
    "print(([\"jai\"])*2)"
   ]
  },
  {
   "cell_type": "code",
   "execution_count": null,
   "metadata": {},
   "outputs": [],
   "source": [
    "a = (5,\"jai\",(2,3,8,9,\"g\",\"l\"))\n",
    "print(a)\n",
    "print(a[0])\n",
    "print(a[2])\n",
    "print(a[1])\n",
    "print(a[1][1])\n",
    "print(a[2][0:3])"
   ]
  },
  {
   "cell_type": "code",
   "execution_count": null,
   "metadata": {},
   "outputs": [],
   "source": [
    "# COUNT AND INDEX FUNCTION IN TUPLE\n",
    "tup2 = (\"w\",\"e\",\"l\",\"c\",\"o\",\"m\",\"e\")\n",
    "print(tup2.count(\"e\"))\n",
    "print(tup2.index(\"e\"))-- by default index show index number of first occurance of \"e\" which is 1\n",
    "print(tup2.index(\"e\",2))"
   ]
  },
  {
   "cell_type": "code",
   "execution_count": null,
   "metadata": {},
   "outputs": [],
   "source": [
    "# MEMBERSHIP OPERATOR IN TUPLE I.E IN, NOT IN\n",
    "tup2 = (\"w\",\"e\",\"l\",\"c\",\"o\",\"m\",\"e\")\n",
    "print(\"c\" in tup2)\n",
    "print(\"w\" in tup2)\n",
    "print(\"c\" not in tup2)\n",
    "print(\"k\" not in tup2)"
   ]
  },
  {
   "cell_type": "code",
   "execution_count": null,
   "metadata": {},
   "outputs": [],
   "source": [
    "# FOR LOOP ON TUPLES\n",
    "tup2 = (\"w\",\"e\",\"l\",\"c\",\"o\",\"m\",\"e\")\n",
    "for letter in tup2:\n",
    "    print(\"The letters are\", letter)\n",
    "print()\n",
    "for letter in range(len(tup2)):\n",
    "    print(\"The letters are\", tup2[letter])\n",
    "print()\n",
    "tup11 = (101,102,103,104,105,106,107,108)\n",
    "n = len(tup11)\n",
    "for i in range(n):\n",
    "    print(i,\" \", tup11[i])\n",
    "print()\n",
    "x = tup11[0:4]\n",
    "for i in x:\n",
    "    print(i)\n",
    "print()\n",
    "for i in range(len(x)):\n",
    "    print(x[i])\n",
    "print()\n",
    "x1 = tup11[4:]\n",
    "for i in x1:\n",
    "    print(i)\n",
    "print()\n",
    "x2 = tup11[-4:]\n",
    "for i in x2:\n",
    "    print(i)\n",
    "print()\n",
    "x4 = tup11[0:8:2]\n",
    "for i in x4:\n",
    "    print(i)\n",
    "print()\n",
    "x5 = tup11[-5:-2]\n",
    "for i in x5:\n",
    "    print(i)"
   ]
  },
  {
   "cell_type": "code",
   "execution_count": null,
   "metadata": {},
   "outputs": [],
   "source": [
    "# WHILE LOOP\n",
    "tup1 = (12,5.6,False,\"geeks\",(9,0))\n",
    "n = len(tup1)\n",
    "i  =0\n",
    "while i<n:\n",
    "    print(tup1[i])\n",
    "    i+=1\n",
    "print(\"done\")"
   ]
  },
  {
   "cell_type": "code",
   "execution_count": null,
   "metadata": {},
   "outputs": [],
   "source": [
    "tuple7 = (22,334,300,2,22,66,11)\n",
    "print(max(tuple7))\n",
    "print(min(tuple7))\n",
    "print(sorted(tuple7))\n",
    "print(len(tuple7))"
   ]
  },
  {
   "cell_type": "code",
   "execution_count": null,
   "metadata": {},
   "outputs": [],
   "source": [
    "GEEKYSHOWS(YOUTUBE)-----NOW BELOW"
   ]
  },
  {
   "cell_type": "code",
   "execution_count": null,
   "metadata": {},
   "outputs": [],
   "source": [
    "IMPORTANT-HOW TO ADD VALUE IN TUPLE"
   ]
  },
  {
   "cell_type": "code",
   "execution_count": null,
   "metadata": {},
   "outputs": [],
   "source": [
    "a = (\"jai\",24,7.8,True,(9,0),[1,2],1)\n",
    "t1 = a[0:3]\n",
    "t2  =a[3:]\n",
    "c1 = (5,566)-- can only add tuple\n",
    "t3 = t1+c1+t2\n",
    "print(t3)"
   ]
  },
  {
   "cell_type": "code",
   "execution_count": null,
   "metadata": {},
   "outputs": [],
   "source": [
    "HOW TO DELETE SINGLE VALUE FROM TUPLE(SEE BELOW)"
   ]
  },
  {
   "cell_type": "code",
   "execution_count": null,
   "metadata": {},
   "outputs": [],
   "source": [
    "\n",
    "a = (10,20,-50,21.3,'geekyshows')\n",
    "s1 = a[0:2]\n",
    "s2 = a[3:]\n",
    "s3 = s1+s2\n",
    "print(s3)\n",
    "      "
   ]
  },
  {
   "cell_type": "markdown",
   "metadata": {},
   "source": [
    "# "
   ]
  },
  {
   "cell_type": "code",
   "execution_count": null,
   "metadata": {},
   "outputs": [],
   "source": [
    "# GETTING INPUT FROM THE USER"
   ]
  },
  {
   "cell_type": "code",
   "execution_count": null,
   "metadata": {},
   "outputs": [],
   "source": [
    "a = []\n",
    "n = int(input(\"Enter the number of elements\"))\n",
    "for i in range(n):\n",
    "    a.append(int(input(\"Enter the number\")))\n",
    "print(type(a))\n",
    "a = tuple(a)\n",
    "print(type(a))\n",
    "print(\"Tuple\")\n",
    "for i in a:\n",
    "    print(i)\n"
   ]
  },
  {
   "cell_type": "code",
   "execution_count": null,
   "metadata": {},
   "outputs": [],
   "source": [
    "# Aliasing Tuple\n",
    "a = (10,20,30,40,50)\n",
    "b = a\n",
    "print(a)\n",
    "print(b)\n",
    "print(id(a))\n",
    "print(id(b))---both a& b have same id memory"
   ]
  },
  {
   "cell_type": "code",
   "execution_count": null,
   "metadata": {},
   "outputs": [],
   "source": [
    "a = (10,20,30,40,50)\n",
    "b = a\n",
    "print(a)\n",
    "print(b)\n",
    "print(id(a))\n",
    "print(id(b))\n",
    "print()\n",
    "a = a[0:4]\n",
    "print(a)\n",
    "print(b)\n",
    "print(id(a))\n",
    "print(id(b))\n",
    "print(type(a))\n",
    "print(type(b))"
   ]
  },
  {
   "cell_type": "code",
   "execution_count": null,
   "metadata": {},
   "outputs": [],
   "source": [
    "b =(60,80)\n",
    "a = (10,20,30,b)\n",
    "print(a)\n",
    "print(a[3])\n",
    "print(a[3][0])\n",
    "print()\n",
    "c= ((10,20,30),(40,50,60))\n",
    "print(c)\n",
    "print(c[1])\n",
    "print(c[0])\n",
    "print(c[1][2])\n",
    "print(c[0][0])"
   ]
  },
  {
   "cell_type": "code",
   "execution_count": null,
   "metadata": {},
   "outputs": [],
   "source": [
    "# LOOPING THROUGH NESTED TUPLE"
   ]
  },
  {
   "cell_type": "code",
   "execution_count": null,
   "metadata": {},
   "outputs": [],
   "source": [
    "a = (10,20,4.5,\"j\",(50,60))\n",
    "print(a)\n",
    "n = len(a)\n",
    "for i in range(n):\n",
    "    if type(a[i]) is tuple:\n",
    "        if len(a[i])>1:\n",
    "            m = len(a[i])\n",
    "            for j in range(m):\n",
    "                print(i,j,a[i][j])\n",
    "    else:\n",
    "        print(i, a[i])"
   ]
  },
  {
   "cell_type": "code",
   "execution_count": null,
   "metadata": {},
   "outputs": [],
   "source": [
    "a = ((10,20,30),(40,50,60))\n",
    "for r in a:\n",
    "    for j in r:\n",
    "        print(j)\n",
    "    print()"
   ]
  },
  {
   "cell_type": "code",
   "execution_count": null,
   "metadata": {},
   "outputs": [],
   "source": [
    "a = ((10,20,30),(40,50,60))\n",
    "n =len(a)\n",
    "for i in range(n):\n",
    "    for j in range(len(a[i])):\n",
    "        print(i,j,a[i][j])\n",
    "    print()\n",
    "    "
   ]
  },
  {
   "cell_type": "code",
   "execution_count": null,
   "metadata": {},
   "outputs": [],
   "source": [
    "WHILE LOOP THROUGH NESTED TUPLE"
   ]
  },
  {
   "cell_type": "code",
   "execution_count": 28,
   "metadata": {},
   "outputs": [
    {
     "name": "stdout",
     "output_type": "stream",
     "text": [
      "0 10\n",
      "1 20\n",
      "2 30\n",
      "3 0 40\n",
      "3 1 50\n"
     ]
    }
   ],
   "source": [
    "a = (10,20,30,(40,50))\n",
    "n = len(a)\n",
    "i =0\n",
    "while i<n:\n",
    "    if type(a[i])is tuple:\n",
    "        if len(a[i])>1:\n",
    "            j=0\n",
    "            m = len(a[i])\n",
    "            while j<m:\n",
    "                print(i,j,a[i][j])\n",
    "                j+=1\n",
    "            i+=1\n",
    "    else:\n",
    "        print(i, a[i])\n",
    "        i+=1"
   ]
  },
  {
   "cell_type": "code",
   "execution_count": 29,
   "metadata": {},
   "outputs": [
    {
     "name": "stdout",
     "output_type": "stream",
     "text": [
      "0 0 10\n",
      "0 1 20\n",
      "0 2 30\n",
      "1 0 40\n",
      "1 1 50\n",
      "1 2 60\n"
     ]
    }
   ],
   "source": [
    "a = ((10,20,30),(40,50,60))\n",
    "n = len(a)\n",
    "i = 0\n",
    "while i<n:\n",
    "    j = 0\n",
    "    while j<len(a[i]):\n",
    "        print(i,j,a[i][j])\n",
    "        j+=1\n",
    "    i+=1\n",
    "    "
   ]
  },
  {
   "cell_type": "code",
   "execution_count": null,
   "metadata": {},
   "outputs": [],
   "source": []
  }
 ],
 "metadata": {
  "kernelspec": {
   "display_name": "Python 3",
   "language": "python",
   "name": "python3"
  },
  "language_info": {
   "codemirror_mode": {
    "name": "ipython",
    "version": 3
   },
   "file_extension": ".py",
   "mimetype": "text/x-python",
   "name": "python",
   "nbconvert_exporter": "python",
   "pygments_lexer": "ipython3",
   "version": "3.8.5"
  }
 },
 "nbformat": 4,
 "nbformat_minor": 4
}
