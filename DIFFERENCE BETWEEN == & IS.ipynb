{
 "cells": [
  {
   "cell_type": "code",
   "execution_count": null,
   "metadata": {},
   "outputs": [],
   "source": [
    "\"==\" It checks for equality\n",
    "\"is\" It checks for Identity"
   ]
  },
  {
   "cell_type": "code",
   "execution_count": 14,
   "metadata": {},
   "outputs": [
    {
     "name": "stdout",
     "output_type": "stream",
     "text": [
      "True\n",
      "\n",
      "2186013865664\n",
      "2186013865664\n",
      "\n",
      "after making change in l1[2]\n",
      "\n",
      "l1: [1, 2, 10, 4, 5]\n",
      "l2: [1, 2, 3, 4, 5]\n",
      "\n",
      "2186013865664\n",
      "2186013865472\n"
     ]
    }
   ],
   "source": [
    "l1 = [1,2,3,4,5]\n",
    "l2 = [1,2,3,4,5]\n",
    "if l1==l2:\n",
    "    print(True)\n",
    "else:\n",
    "    print(False)\n",
    "    \n",
    "print()\n",
    "\n",
    "print(id(l1))\n",
    "print(id(l1))\n",
    "\n",
    "print()\n",
    "print(\"after making change in l1[2]\")\n",
    "print()\n",
    "l1[2] = 10\n",
    "print(\"l1:\" ,l1)\n",
    "print(\"l2:\" ,l2)\n",
    "print()\n",
    "print(id(l1))\n",
    "print(id(l2))\n",
    "    "
   ]
  },
  {
   "cell_type": "code",
   "execution_count": 5,
   "metadata": {},
   "outputs": [
    {
     "name": "stdout",
     "output_type": "stream",
     "text": [
      "False\n",
      "\n",
      "2186013489536\n",
      "2186012827072\n"
     ]
    }
   ],
   "source": [
    "l1 = [1,2,3,4,5]\n",
    "l2 = [1,2,3,4,5]\n",
    "if l1 is l2:\n",
    "    print(True)\n",
    "else:\n",
    "    print(False)\n",
    "print()\n",
    "print(id(l1))\n",
    "print(id(l2))\n",
    "\n",
    "print()    "
   ]
  },
  {
   "cell_type": "code",
   "execution_count": 16,
   "metadata": {},
   "outputs": [
    {
     "name": "stdout",
     "output_type": "stream",
     "text": [
      "True\n",
      "\n",
      "2186013921088\n",
      "2186013921088\n",
      "\n",
      "[100, 2, 3, 4, 5]\n",
      "[100, 2, 3, 4, 5]\n",
      "\n",
      "2186013921088\n",
      "2186013921088\n"
     ]
    }
   ],
   "source": [
    "l1 = [1,2,3,4,5]\n",
    "l2 = l1\n",
    "if l1 is l2:\n",
    "    print(True)\n",
    "else:\n",
    "    print(False)\n",
    "    \n",
    "print()\n",
    "\n",
    "print(id(l1))\n",
    "print(id(l2))\n",
    "     \n",
    "print()\n",
    "l1[0] = 100\n",
    "print(l1)\n",
    "print(l2)\n",
    "print()\n",
    "print(id(l1))\n",
    "print(id(l2))\n"
   ]
  },
  {
   "cell_type": "code",
   "execution_count": 21,
   "metadata": {},
   "outputs": [
    {
     "name": "stdout",
     "output_type": "stream",
     "text": [
      "True\n",
      "\n",
      "2186013901888\n",
      "2186013901888\n",
      "\n",
      "[1, 24, 3, 4, 5]\n",
      "[1, 24, 3, 4, 5]\n",
      "\n",
      "2186013901888\n",
      "2186013901888\n",
      "\n",
      "True\n"
     ]
    }
   ],
   "source": [
    "l1 = [1,2,3,4,5]\n",
    "l2 = l1\n",
    "if l1==l2:\n",
    "    print(True)\n",
    "else:\n",
    "    print(False)\n",
    "\n",
    "print()\n",
    "print(id(l1))\n",
    "print(id(l2))\n",
    "\n",
    "print()\n",
    "l1[1] =24\n",
    "print(l1)\n",
    "print(l2)\n",
    "\n",
    "print()\n",
    "print(id(l1))\n",
    "print(id(l2))\n",
    "\n",
    "print()\n",
    "\n",
    "print(id(l1)==id(l2))"
   ]
  },
  {
   "cell_type": "code",
   "execution_count": null,
   "metadata": {},
   "outputs": [],
   "source": []
  }
 ],
 "metadata": {
  "kernelspec": {
   "display_name": "Python 3",
   "language": "python",
   "name": "python3"
  },
  "language_info": {
   "codemirror_mode": {
    "name": "ipython",
    "version": 3
   },
   "file_extension": ".py",
   "mimetype": "text/x-python",
   "name": "python",
   "nbconvert_exporter": "python",
   "pygments_lexer": "ipython3",
   "version": "3.8.5"
  }
 },
 "nbformat": 4,
 "nbformat_minor": 4
}
