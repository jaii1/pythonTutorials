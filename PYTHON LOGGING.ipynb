{
 "cells": [
  {
   "cell_type": "code",
   "execution_count": null,
   "metadata": {},
   "outputs": [],
   "source": [
    "LOGGING"
   ]
  },
  {
   "cell_type": "code",
   "execution_count": null,
   "metadata": {},
   "outputs": [],
   "source": [
    "LOGGING Module:-It is a part of standard python library.It basically track the event that happen when some software runs\n",
    "if we do not have any logging record then there is very little chance that we can detect the cause of problem\n",
    "if our program crash\n",
    "It allow writing status messages to the Log file(we create it) .file has info that which part of code\n",
    "is executed and wat problem have been risen\n",
    "Instead of print which validate the problm for simple script but for complex script we use logging"
   ]
  },
  {
   "cell_type": "code",
   "execution_count": null,
   "metadata": {},
   "outputs": [],
   "source": [
    "LEVEL OF LOGGING"
   ]
  },
  {
   "cell_type": "code",
   "execution_count": null,
   "metadata": {},
   "outputs": [],
   "source": [
    "we have,\n",
    "LEVEL    Numeric value\n",
    "1)DEBUG       10\n",
    "2)INFO        20\n",
    "3)WARNING     30\n",
    "4)ERROR       40\n",
    "5)CRITICAL    50\n",
    "\n",
    "\n",
    "BY DEFAULT PYTHON LOGGING TAKES 3)WARNING  LEVEL ONWARDS, SO WE USE\n",
    "Logging.basicconfig(level = Logging.DEBUG or INFO) because they ignore Debug or info, ok"
   ]
  },
  {
   "cell_type": "code",
   "execution_count": null,
   "metadata": {},
   "outputs": [],
   "source": [
    "debug=used to give detail info,wen problm diagnosed\n",
    "info=used to confirm things are working well as expected\n",
    "warning=indicate something unexpected happened or indicate something will happn in near future.\n",
    "Error=It confirm that due to  more serious problem,software not be able to perform some function\n",
    "Critical=indicates about serious error due to which program itself unable to continue running"
   ]
  },
  {
   "cell_type": "code",
   "execution_count": 9,
   "metadata": {},
   "outputs": [
    {
     "name": "stdout",
     "output_type": "stream",
     "text": [
      "add = 20 +40= 60\n",
      "subtract = 20 -40 = -20\n",
      "multiply  =20 *40=800\n",
      "div = 20/40 = 0.5\n"
     ]
    }
   ],
   "source": [
    "# from corey(youtube)\n",
    "# this is a simple function program\n",
    "def add(x,y):\n",
    "    return x+y\n",
    "def subtract(x,y):\n",
    "    return x-y\n",
    "def multiply(x,y):\n",
    "    return x*y\n",
    "def divide(x,y):\n",
    "    return x/y\n",
    "num1 = 20\n",
    "num2 = 40\n",
    "\n",
    "add_result = add(num1, num2)\n",
    "print(\"add = {} +{}= {}\".format(num1, num2,add_result))\n",
    "\n",
    "sub_result = subtract(num1, num2)\n",
    "print(\"subtract = {} -{} = {}\".format(num1, num2,sub_result))\n",
    "\n",
    "mul_result = multiply(num1, num2)\n",
    "print(\"multiply  ={} *{}={}\".format(num1,num2,mul_result))\n",
    "\n",
    "div_result = divide(num1, num2)\n",
    "print(\"div = {}/{} = {}\".format(num1,num2,div_result))"
   ]
  },
  {
   "cell_type": "code",
   "execution_count": 20,
   "metadata": {},
   "outputs": [
    {
     "name": "stderr",
     "output_type": "stream",
     "text": [
      "DEBUG:root:add =20+20 = 40\n",
      "DEBUG:root:sub = 20-20 = 0\n",
      "DEBUG:root:multiply = 20*20 = 400\n",
      "DEBUG:root:divide = 20/20=1.0\n"
     ]
    }
   ],
   "source": [
    "# AS I TOLD YOU BY DEFAULT LOGGING.WARNING IS USED(NUMRIC VALUE IS 30)\n",
    "import logging\n",
    "logging.basicConfig(level = logging.DEBUG)\n",
    "def Add(x,y):\n",
    "    return x+y\n",
    "def subtract(x,y):\n",
    "    return x-y\n",
    "def multiply(x,y):\n",
    "    return x*y\n",
    "def divide(x,y):\n",
    "    return x/y\n",
    "num1 =20\n",
    "num2 = 20\n",
    "add_result = Add(num1, num2)\n",
    "logging.debug(\"add ={}+{} = {}\".format(num1,num2,add_result))\n",
    "sub_result = subtract(num1, num2)\n",
    "logging.debug(\"sub = {}-{} = {}\".format(num1, num2,sub_result))\n",
    "mul_result = multiply(num1,num2)\n",
    "logging.debug(\"multiply = {}*{} = {}\".format(num1,num2,mul_result))\n",
    "div_result = divide(num1, num2)\n",
    "logging.debug(\"divide = {}/{}={}\".format(num1,num2,div_result))"
   ]
  },
  {
   "cell_type": "code",
   "execution_count": 15,
   "metadata": {},
   "outputs": [
    {
     "name": "stderr",
     "output_type": "stream",
     "text": [
      "INFO:root:add =20+20 = 40\n",
      "INFO:root:sub = 20-20 = 0\n",
      "INFO:root:multiply = 20*20 = 400\n",
      "INFO:root:divide = 20/20=1.0\n"
     ]
    }
   ],
   "source": [
    "import logging\n",
    "logging.basicConfig(level = logging.INFO)\n",
    "def Add(x,y):\n",
    "    return x+y\n",
    "def subtract(x,y):\n",
    "    return x-y\n",
    "def multiply(x,y):\n",
    "    return x*y\n",
    "def divide(x,y):\n",
    "    return x/y\n",
    "num1 =20\n",
    "num2 = 20\n",
    "add_result = Add(num1, num2)\n",
    "logging.info(\"add ={}+{} = {}\".format(num1,num2,add_result))\n",
    "sub_result = subtract(num1, num2)\n",
    "logging.info(\"sub = {}-{} = {}\".format(num1, num2,sub_result))\n",
    "mul_result = multiply(num1,num2)\n",
    "logging.info(\"multiply = {}*{} = {}\".format(num1,num2,mul_result))\n",
    "div_result = divide(num1, num2)\n",
    "logging.info(\"divide = {}/{}={}\".format(num1,num2,div_result))"
   ]
  },
  {
   "cell_type": "code",
   "execution_count": 21,
   "metadata": {
    "scrolled": true
   },
   "outputs": [
    {
     "name": "stderr",
     "output_type": "stream",
     "text": [
      "ERROR:root:add =20+20 = 40\n",
      "ERROR:root:sub = 20-20 = 0\n",
      "ERROR:root:multiply = 20*20 = 400\n",
      "ERROR:root:divide = 20/20=1.0\n"
     ]
    }
   ],
   "source": [
    "import logging\n",
    "logging.basicConfig(level = logging.ERROR)\n",
    "def Add(x,y):\n",
    "    return x+y\n",
    "def subtract(x,y):\n",
    "    return x-y\n",
    "def multiply(x,y):\n",
    "    return x*y\n",
    "def divide(x,y):\n",
    "    return x/y\n",
    "num1 =20\n",
    "num2 = 20\n",
    "add_result = Add(num1, num2)\n",
    "logging.error(\"add ={}+{} = {}\".format(num1,num2,add_result))\n",
    "sub_result = subtract(num1, num2)\n",
    "logging.error(\"sub = {}-{} = {}\".format(num1, num2,sub_result))\n",
    "mul_result = multiply(num1,num2)\n",
    "logging.error(\"multiply = {}*{} = {}\".format(num1,num2,mul_result))\n",
    "div_result = divide(num1, num2)\n",
    "logging.error(\"divide = {}/{}={}\".format(num1,num2,div_result))"
   ]
  },
  {
   "cell_type": "code",
   "execution_count": null,
   "metadata": {},
   "outputs": [],
   "source": [
    "WE CAN STORE LOG MESSAGES (OF CONSOLE )IN LOg FILES ALSO('test.log') by USING LOGGING\n",
    "so all message or output will be shown in log file only and not on console(see 'test.log' ,file present in homepage)"
   ]
  },
  {
   "cell_type": "code",
   "execution_count": 6,
   "metadata": {},
   "outputs": [],
   "source": [
    "import logging\n",
    "logging.basicConfig(filename = 'test.log',level = logging.DEBUG)\n",
    "def Add(x,y):\n",
    "    return x+y\n",
    "def subtract(x,y):\n",
    "    return x-y\n",
    "def multiply(x,y):\n",
    "    return x*y\n",
    "def divide(x,y):\n",
    "    return x/y\n",
    "num1 =20\n",
    "num2 = 20\n",
    "add_result = Add(num1, num2)\n",
    "logging.debug(\"add ={}+{} = {}\".format(num1,num2,add_result))\n",
    "sub_result = subtract(num1, num2)\n",
    "logging.debug(\"sub = {}-{} = {}\".format(num1, num2,sub_result))\n",
    "mul_result = multiply(num1,num2)\n",
    "logging.debug(\"multiply = {}*{} = {}\".format(num1,num2,mul_result))\n",
    "div_result = divide(num1, num2)\n",
    "logging.debug(\"divide = {}/{}={}\".format(num1,num2,div_result))"
   ]
  },
  {
   "cell_type": "code",
   "execution_count": null,
   "metadata": {},
   "outputs": [],
   "source": [
    "FORMAT"
   ]
  },
  {
   "cell_type": "code",
   "execution_count": null,
   "metadata": {},
   "outputs": [],
   "source": [
    "NOW WE FORMAT THE LOG MESSAGE IN THE LOG FILE('TEST.LOG')\n",
    "VISIT SITE 'https://docs.python.org/3/library/logging.html'\n",
    "You can type in google 'logrecord attribute'"
   ]
  },
  {
   "cell_type": "code",
   "execution_count": 4,
   "metadata": {},
   "outputs": [],
   "source": [
    "import logging\n",
    "logging.basicConfig(filename = 'test.log', level = logging.DEBUG, format = '%(asctime)s:%(levelname)s:%(message)s')\n",
    "def Add(x,y):\n",
    "    return x+y\n",
    "def subtract(x,y):\n",
    "    return x-y\n",
    "def multiply(x,y):\n",
    "    return x*y\n",
    "def divide(x,y):\n",
    "    return x/y\n",
    "num1 =20\n",
    "num2 = 20\n",
    "add_result = Add(num1, num2)\n",
    "logging.debug(\"add ={}+{} = {}\".format(num1,num2,add_result))\n",
    "sub_result = subtract(num1, num2)\n",
    "logging.debug(\"sub = {}-{} = {}\".format(num1, num2,sub_result))\n",
    "mul_result = multiply(num1,num2)\n",
    "logging.debug(\"multiply = {}*{} = {}\".format(num1,num2,mul_result))\n",
    "div_result = divide(num1, num2)\n",
    "logging.debug(\"divide = {}/{}={}\".format(num1,num2,div_result))\n",
    "\n",
    "# It will show log message in 'text.log' in specified format and not here"
   ]
  },
  {
   "cell_type": "code",
   "execution_count": 8,
   "metadata": {},
   "outputs": [],
   "source": [
    "# suppose this program is in employee.py(for some niche wala programs, ok)\n",
    "import logging\n",
    "logging.basicConfig(filename = 'employee24.log', level = logging.INFO, format = '%(levelname)s:%(message)s')\n",
    "class employee:\n",
    "    def __init__(self, first, last):\n",
    "        self.first = first\n",
    "        self.last = last\n",
    "\n",
    "\n",
    "        logging.info(\"Employee:{}-{}\".format(self.fullname(), self.displayemail()))\n",
    "\n",
    "    def displayemail(self):\n",
    "        return \"{}.{}@gmail.com\".format(self.first,self.last)\n",
    "\n",
    "    def fullname(self):\n",
    "        return \"{} {}\".format(self.first, self.last)\n",
    "\n",
    "emp_1 = employee(\"john\",\"smith\")\n",
    "emp_2 = employee(\"corey\", \"schafer\")\n",
    "emp_3 = employee(\"jai\",\"tiwari\")\n",
    "# print(emp_1.displayemail())\n",
    "# print(emp_1.fullname)\n",
    "# output will display in 'employee24.log file'"
   ]
  },
  {
   "cell_type": "code",
   "execution_count": null,
   "metadata": {},
   "outputs": [],
   "source": [
    "# now suppose we have imported upar wala class employee program(employee.py)here\n",
    "import logging\n",
    "import employee\n",
    "logging.basicConfig(filename = 'test.log', level = logging.DEBUG, format = '%(asctime)s:%(levelname)s:%(message)s')\n",
    "def Add(x,y):\n",
    "    return x+y\n",
    "def subtract(x,y):\n",
    "    return x-y\n",
    "def multiply(x,y):\n",
    "    return x*y\n",
    "def divide(x,y):\n",
    "    return x/y\n",
    "num1 =20\n",
    "num2 = 20\n",
    "add_result = Add(num1, num2)\n",
    "logging.info(\"add ={}+{} = {}\".format(num1,num2,add_result))\n",
    "sub_result = subtract(num1, num2)\n",
    "logging.info(\"sub = {}-{} = {}\".format(num1, num2,sub_result))\n",
    "mul_result = multiply(num1,num2)\n",
    "logging.info(\"multiply = {}*{} = {}\".format(num1,num2,mul_result))\n",
    "div_result = divide(num1, num2)\n",
    "logging.info(\"divide = {}/{}={}\".format(num1,num2,div_result))\n",
    " \n",
    "now here first delete both file 'employee24 and test.log' file and then run this program again then we find\n",
    "only employee24.log file with its output only , So we change logging.debug to logging.info in this program\n",
    "bcoz there INFO level used in employee file(employee.py) and run it again and this time in this progran\n",
    "we gain open employee24.log and we will find all log message of this program i.e all sum,sub,mutiply,divide values"
   ]
  },
  {
   "cell_type": "code",
   "execution_count": null,
   "metadata": {},
   "outputs": [],
   "source": [
    "The output which we see in log file (employee24.log)it is like = INFO:root:Employee:john smith -john.smith@gmail.com\n",
    "so wat is root , we need to replace this so we used this ='logger= logging.getLogger(__name__)"
   ]
  },
  {
   "cell_type": "code",
   "execution_count": null,
   "metadata": {},
   "outputs": [],
   "source": [
    "# now we are in employe.py file only\n",
    "import logging\n",
    "logger = logging.getLogger(__name__)\n",
    "logger.setlevel(logging.INFO)\n",
    "formatter = logging.Formatter('%(levelname)s:%(message)s')\n",
    "file_handler = logging.FileHandler('employee24.log')\n",
    "file_handler.setFormatter(formatter)\n",
    "logger.addHandler(file_handler)\n",
    "# after all upar wala step, u do not need niche wala step = 'logging.basicConfig....'(ye wala step)\n",
    "\n",
    "logging.basicConfig(filename = 'employee24.log', level = logging.INFO, format = '%(levelname)s:%(message)s')\n",
    "class employee:\n",
    "    def __init__(self, first, last):\n",
    "        self.first = first\n",
    "        self.last = last\n",
    "\n",
    "\n",
    "        logging.info(\"Employee:{}-{}\".format(self.fullname(), self.displayemail()))\n",
    "\n",
    "    def displayemail(self):\n",
    "        return \"{}.{}@gmail.com\".format(self.first,self.last)\n",
    "\n",
    "    def fullname(self):\n",
    "        return \"{} {}\".format(self.first, self.last)\n",
    "\n",
    "emp_1 = employee(\"john\",\"smith\")\n",
    "emp_2 = employee(\"corey\", \"schafer\")\n",
    "emp_3 = employee(\"jai\",\"tiwari\")\n",
    "\n",
    "first we delete employee24.log file and NOW WHEN WE RUN THE FILE IT WORK FINE.Now after this when\n",
    "we go to where employee.py was imported and re run the that file then test.log also started showing output and when we\n",
    "again come here and run 'employee24.log it also showing name instaed of__main__ It started showing filename\n",
    "which is employee(employee.py)"
   ]
  },
  {
   "cell_type": "code",
   "execution_count": 5,
   "metadata": {},
   "outputs": [
    {
     "name": "stdout",
     "output_type": "stream",
     "text": [
      "Failed all check\n",
      "Invalidname\n"
     ]
    }
   ],
   "source": [
    "def namecheck(name):\n",
    "    if len(name)<2:\n",
    "        print(\"checking if the  length of name is less than 2:   \")\n",
    "        return \"Invalidname\"\n",
    "    elif name.isspace():\n",
    "        print(\"checking if name having space..\")\n",
    "        return \"Invalidname\"\n",
    "    elif name.isalpha():\n",
    "        print(\"checking if name ia an alphabet\")\n",
    "        return \"Invalidname\"\n",
    "    else:\n",
    "        print(\"Failed all check\")\n",
    "        return \"Invalidname\"\n",
    "print(namecheck('Alexander123'))\n",
    "\n",
    "# This is simple example"
   ]
  },
  {
   "cell_type": "code",
   "execution_count": null,
   "metadata": {},
   "outputs": [],
   "source": [
    "NOW DO SAME ABOVE EXAMPLE WITH LOGGING,SEE BELOW\n",
    "\n",
    "WHEN YOU COMPLETE YOUR PROGRAM WHICH HAVE HUNDREDS OF CODE LINES AND PRINT STATAEMENT TO RECORD LOGS AND AFTER YOU HAVE\n",
    "FINISHED YOUR TESTING AND PROGRAM IS FINE AND IS READY TO BE COMMITTED AND NOW YOU WANT TO DELETE THESE PRINT \n",
    "STATEMENTS MANUALLY FROM YOUR PROGRAM BCOZ YOU DONT WANT THESE JUNK VALUE TO BE COMMITTED IN PRODUCTION ENVIRONMENT\n",
    "IN THAT CASE WEN YOU MANUALLY DELETING PRITING STATAEMENT BUT BY DOING THIS WE MIGHT END UP DELETING SOME IMPORTTANT PRINT\n",
    "STATAEMENT WHICH ACTUALLY REQUIRED SO THIS IS AN ADDITIONAL OVER HEADACHE AND IF YOU DO NOT DELETE THESE PRINT STATEMENT\n",
    "THEN YOUR PROGRAM ALWAYS SHOWS THESE PRINT STATEMENT AND SHOWS AS JUKK VALUE COMMITTED INTO THE PRODUCTION ENVIRONMENT.\n",
    "SO INSTEAD OF USING THIS PRINT STATEMENT WE USE ONE OF THE PYTHON BUILT-IN MODULE CALLED LOGGING\n",
    "PRINT STATEMENT CAN BE USED WHERE EVER WE WANT TO PRINT SOME OUTPUT TO THE USER OR WE WANT USER TO ENTER SOME VALUE\n",
    "BUT WHEN RECORDING SOME LOGS WE SHOULD NOT USE PRINT\n",
    "TO USE LOGGING WE USE \n",
    "IMPORT LOGGING\n",
    "AND REPLACE PRINT WITH LOGGING.DEBUG\n",
    "BUT AFTER IMPORT LOGGING WE WILL USE \n",
    "logging.basicConfig(level = logging.DEBUG or INFO)\n",
    "LOGGING ALLOW TO PRINT LOG MESSAGES IN THE CONSOLE, BUT IF WE WANT ALL LOG MESSAGE TO CAPTUTE INTO THE FILE \n",
    "THEN LOGGING ALSO ALLOW OUS TO WRITE LOG MESSAGES IN THE LOG FILES."
   ]
  },
  {
   "cell_type": "code",
   "execution_count": 2,
   "metadata": {},
   "outputs": [
    {
     "name": "stderr",
     "output_type": "stream",
     "text": [
      "DEBUG:root:all check failed\n"
     ]
    },
    {
     "name": "stdout",
     "output_type": "stream",
     "text": [
      "Invalidname\n"
     ]
    }
   ],
   "source": [
    "import logging\n",
    "logging.basicConfig(level = logging.DEBUG)\n",
    "def checkname(name):\n",
    "    if len(name)<2:\n",
    "        logging.debug(\"checking if the length of name less than 2..\")\n",
    "        return \"Invalidname\"\n",
    "    elif name.isspace():\n",
    "        logging.debug(\"checking if the name having space..\")\n",
    "        return \"Invalidname\"\n",
    "    elif name.isalpha():\n",
    "        logging.debug(\"checking if name is alpha\")\n",
    "        return \"Invalidname\"\n",
    "    else:\n",
    "        logging.debug(\"all check failed\")\n",
    "        return \"Invalidname\"\n",
    "print(checkname('jaiprakash123'))"
   ]
  },
  {
   "cell_type": "code",
   "execution_count": null,
   "metadata": {},
   "outputs": [],
   "source": [
    "NOW SUPPOSE,we want all these log message on the log file ('demo.log)instead \n",
    "in the console(right now message are in console)"
   ]
  },
  {
   "cell_type": "code",
   "execution_count": 22,
   "metadata": {},
   "outputs": [
    {
     "name": "stderr",
     "output_type": "stream",
     "text": [
      "DEBUG:root:all check failed\n"
     ]
    },
    {
     "name": "stdout",
     "output_type": "stream",
     "text": [
      "Invalidname\n"
     ]
    }
   ],
   "source": [
    "import logging\n",
    "logging.basicConfig(filename = 'demo.log',filemode = 'w', level = logging.DEBUG)\n",
    "\n",
    "def namecheck(name):\n",
    "    if len(name)<2:\n",
    "        logging.debug(\"checking if length of name less than 2\")\n",
    "        return Invalidname\n",
    "    elif name.isspace():\n",
    "        logging.debug(\"checking if name has a space\")\n",
    "        return Invalidname\n",
    "    elif name.isalpha():\n",
    "        logging.debug(\"checking if name contains only alpha\")\n",
    "        return Invalidname\n",
    "    else:\n",
    "        logging.debug(\"all check failed\")\n",
    "        return \"Invalidname\"\n",
    "    \n",
    "print(checkname('jaiprakash123'))\n",
    "# now u can see new file 'demo.log' has been created and u can see all message there which is showinh below(log messages)"
   ]
  },
  {
   "cell_type": "code",
   "execution_count": null,
   "metadata": {},
   "outputs": [],
   "source": [
    "NOW SUPPOSE YOU WANT TO COMMITTED YOUR PROGRAM TO PRODUCTION ENVIRONMENT AFTER TESTING AND DEBUGGING AND FOR THAT YOU DO NOT WANT LOGGING.DEBUG\n",
    "STATAMENT INTO PRODUCTION ENVIRONMENT THEN JUST PASS THE STATEMENT 'LOGGING.DISABLE()', OK"
   ]
  },
  {
   "cell_type": "code",
   "execution_count": null,
   "metadata": {},
   "outputs": [],
   "source": [
    "import logging\n",
    "logging.basicConfig(filename = 'demo.log', level = logging.DEBUG)\n",
    "logging.disable()\n",
    "\n",
    "def checkname(name):\n",
    "    if len(name)<2:\n",
    "        logging.debug(\"checking if len of name is less than  2\")\n",
    "        return \"Invalidname\"\n",
    "    elif name.isspace():\n",
    "        logging.debug(\"checking if name has space\")\n",
    "        return \"Invalidname\"\n",
    "    elif name.isalpha():\n",
    "        logging.debug(\"checking if name is only alphabet\")\n",
    "        return \"Invalid\"\n",
    "    else:\n",
    "        logging.debug(\"all check failed\")\n",
    "        return \"Invalidname\"\n",
    "    \n",
    "print(checkname(\"jaiprakash123\"))\n",
    "        \n",
    "   \n",
    "first delete already  created 'demo.log' file then when run this program and you will see there is no log message in console\n",
    "only \"Invalid name\" you will find from (else  condition part )bcoz it is not in the logging.debug and if u look at the file\n",
    "then there is no mesage over there\n",
    "In future if somebody using this code then they can remove or comment out this logging.disable() statement"
   ]
  },
  {
   "cell_type": "code",
   "execution_count": 8,
   "metadata": {},
   "outputs": [
    {
     "name": "stderr",
     "output_type": "stream",
     "text": [
      "DEBUG:root:this is debug message\n",
      "INFO:root:this is info message \n",
      "WARNING:root:this is warning message\n",
      "ERROR:root:this is error message\n",
      "CRITICAL:root:this is critical mesage\n"
     ]
    }
   ],
   "source": [
    "import logging\n",
    "logging.basicConfig(filename = 'new.log', filemode = 'w')\n",
    "\n",
    "\n",
    "logging.debug(\"this is debug message\")\n",
    "logging.info(\"this is info message \")\n",
    "logging.warning(\"this is warning message\")\n",
    "logging.error(\"this is error message\")\n",
    "logging.critical(\"this is critical mesage\")\n",
    "\n",
    "In the file 'new.log It will show mesage from logging.warning(by default)"
   ]
  },
  {
   "cell_type": "code",
   "execution_count": null,
   "metadata": {},
   "outputs": [],
   "source": [
    "import logging\n",
    "logging.basicConfig(filename = 'new.log', filemode = 'w', level = logging.INFO)\n",
    "\n",
    "logging.debug(\"this is DEBUG mesage\")\n",
    "logging.info(\"this is INFO mesage\")\n",
    "logging.warning(\"this is WARNING mesage\")\n",
    "logging.error(\"this is ERROR message\")\n",
    "logging.critical(\"this is CRITICAL mesage)\n",
    "                 \n",
    "In the file 'new.log It will show mesage from logging.info(by default)"
   ]
  },
  {
   "cell_type": "code",
   "execution_count": null,
   "metadata": {},
   "outputs": [],
   "source": [
    "import logging\n",
    "logging.basicConfig(filename = 'new.log', filemode = 'w', level = logging.ERROR)\n",
    "\n",
    "logging.debug(\"this is DEBUG mesage\")\n",
    "logging.info(\"this is INFO mesage\")\n",
    "logging.warning(\"this is WARNING mesage\")\n",
    "logging.error(\"this is ERROR message\")\n",
    "logging.critical(\"this is CRITICAL mesage)\n",
    "                 \n",
    "In the file 'new.log It will show mesage from logging.error(by default)"
   ]
  }
 ],
 "metadata": {
  "kernelspec": {
   "display_name": "Python 3",
   "language": "python",
   "name": "python3"
  },
  "language_info": {
   "codemirror_mode": {
    "name": "ipython",
    "version": 3
   },
   "file_extension": ".py",
   "mimetype": "text/x-python",
   "name": "python",
   "nbconvert_exporter": "python",
   "pygments_lexer": "ipython3",
   "version": "3.8.5"
  }
 },
 "nbformat": 4,
 "nbformat_minor": 4
}
