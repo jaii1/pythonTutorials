{
 "cells": [
  {
   "cell_type": "code",
   "execution_count": null,
   "metadata": {},
   "outputs": [],
   "source": [
    "1) ()--parenthesis\n",
    "2) ** Exponential\n",
    "3)+,-~ --Unary plus, unary minus,Bitwise Not\n",
    "4)*,/,//,%-divide,multiply,truncate division(//),module\n",
    "5)+,-\n",
    "6)<<, >> Bitwise left shift, Bitwise right shift\n",
    "7)&- Bitwise AND\n",
    "8)^ -Bitwise XOR\n",
    "9)<,>,>=,<=,==.!=--Relational operator\n",
    "10) =,+=,-=,*=,/=,//=,%=--Assignment operator\n",
    "11)is, is not--Identity operator\n",
    "12)in, not in--Membership operator\n",
    "13)and,or,not--Logical operator"
   ]
  },
  {
   "cell_type": "code",
   "execution_count": null,
   "metadata": {},
   "outputs": [],
   "source": [
    "If in expression suppose both operator are from same position\n",
    "i.e we know + and - are from 5th position , so we use technique that is LEFT TO RIGHT\n",
    "Eg =15+4-2\n"
   ]
  },
  {
   "cell_type": "code",
   "execution_count": 1,
   "metadata": {},
   "outputs": [
    {
     "name": "stdout",
     "output_type": "stream",
     "text": [
      "17\n"
     ]
    }
   ],
   "source": [
    "print(15+4-2)\n"
   ]
  },
  {
   "cell_type": "code",
   "execution_count": 2,
   "metadata": {},
   "outputs": [
    {
     "name": "stdout",
     "output_type": "stream",
     "text": [
      "17\n"
     ]
    }
   ],
   "source": [
    "a = 5*3+4-2\n",
    "print(a)"
   ]
  },
  {
   "cell_type": "code",
   "execution_count": 3,
   "metadata": {},
   "outputs": [
    {
     "name": "stdout",
     "output_type": "stream",
     "text": [
      "10.5\n"
     ]
    }
   ],
   "source": [
    "a = 4+3*5/2-1\n",
    "# 4+15/2-1\n",
    "# 4+7.5-1\n",
    "# 11.5-1\n",
    "print(a)"
   ]
  },
  {
   "cell_type": "code",
   "execution_count": null,
   "metadata": {},
   "outputs": [],
   "source": []
  }
 ],
 "metadata": {
  "kernelspec": {
   "display_name": "Python 3",
   "language": "python",
   "name": "python3"
  },
  "language_info": {
   "codemirror_mode": {
    "name": "ipython",
    "version": 3
   },
   "file_extension": ".py",
   "mimetype": "text/x-python",
   "name": "python",
   "nbconvert_exporter": "python",
   "pygments_lexer": "ipython3",
   "version": "3.8.5"
  }
 },
 "nbformat": 4,
 "nbformat_minor": 4
}
