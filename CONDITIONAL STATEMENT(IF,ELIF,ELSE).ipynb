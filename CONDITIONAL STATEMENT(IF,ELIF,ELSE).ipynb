{
 "cells": [
  {
   "cell_type": "code",
   "execution_count": null,
   "metadata": {},
   "outputs": [],
   "source": [
    "IF statement is used to chk condition if condition is true then block of code inside if will be executes"
   ]
  },
  {
   "cell_type": "code",
   "execution_count": 1,
   "metadata": {},
   "outputs": [
    {
     "name": "stdout",
     "output_type": "stream",
     "text": [
      "Done\n"
     ]
    }
   ],
   "source": [
    "if False:\n",
    "    print(\"I am right\")\n",
    "print(\"Done\")"
   ]
  },
  {
   "cell_type": "code",
   "execution_count": 2,
   "metadata": {},
   "outputs": [
    {
     "name": "stdout",
     "output_type": "stream",
     "text": [
      "odd\n",
      "Bye\n"
     ]
    }
   ],
   "source": [
    "x = 3\n",
    "y = x%2\n",
    "if y ==0:\n",
    "    print(\"even\")\n",
    "else:\n",
    "    print(\"odd\")\n",
    "print(\"Bye\")"
   ]
  },
  {
   "cell_type": "code",
   "execution_count": 4,
   "metadata": {},
   "outputs": [
    {
     "name": "stdout",
     "output_type": "stream",
     "text": [
      "Even number\n",
      "Great\n",
      "Ends\n",
      "\n",
      "\n",
      "odd\n",
      "Ends\n"
     ]
    }
   ],
   "source": [
    "x  =10\n",
    "y = x%2\n",
    "if y == 0:\n",
    "    print(\"Even number\")\n",
    "    if x>5:\n",
    "        print(\"Great\")\n",
    "    else:\n",
    "        print(\"Not so great\")\n",
    "else:\n",
    "    print(\"odd\")\n",
    "print(\"Ends\")\n",
    "print()\n",
    "print()\n",
    "x  =11\n",
    "y = x%2\n",
    "if y == 0:\n",
    "    print(\"Even number\")\n",
    "    if x>5:\n",
    "        print(\"Great\")\n",
    "    else:\n",
    "        print(\"Not so great\")\n",
    "else:\n",
    "    print(\"odd\")\n",
    "print(\"Ends\")"
   ]
  },
  {
   "cell_type": "code",
   "execution_count": null,
   "metadata": {},
   "outputs": [],
   "source": [
    "Program which offer various Discount on purchase bill"
   ]
  },
  {
   "cell_type": "code",
   "execution_count": 7,
   "metadata": {},
   "outputs": [
    {
     "name": "stdout",
     "output_type": "stream",
     "text": [
      "Enter your Total bill amount5678\n",
      "Total bill amount is:  5678\n",
      "congrats!You have won a gift voucher of Rs 1000/-\n"
     ]
    }
   ],
   "source": [
    "shop_total = int(input(\"Enter your Total bill amount\"))\n",
    "print(\"Total bill amount is: \", shop_total)\n",
    "if shop_total >=5000:\n",
    "    print(\"congrats!You have won a gift voucher of Rs 1000/-\")\n",
    "elif shop_total >=2500:\n",
    "    print(\"Congrats!You have won a gift voucher of Rs 500/-\")\n",
    "else:\n",
    "    print(\"Oops! no gift voucher for you\")"
   ]
  },
  {
   "cell_type": "code",
   "execution_count": 8,
   "metadata": {},
   "outputs": [
    {
     "name": "stdout",
     "output_type": "stream",
     "text": [
      "lis: [1, 3, 4, 5, 9, 11, 12, 15, 20, 21, 30]\n",
      "New list is:  [5, 15, 20, 30]\n"
     ]
    }
   ],
   "source": [
    "lis=  [1,3,4,5,9,11,12,15,20,21,30]\n",
    "print(\"lis:\", lis)\n",
    "new_list =[]\n",
    "for i in lis:\n",
    "    if i%5 == 0:\n",
    "        new_list.append(i)\n",
    "print(\"New list is: \", new_list)"
   ]
  },
  {
   "cell_type": "code",
   "execution_count": 4,
   "metadata": {},
   "outputs": [
    {
     "name": "stdout",
     "output_type": "stream",
     "text": [
      "wrong input\n"
     ]
    }
   ],
   "source": [
    "x = 7\n",
    "if x ==1:\n",
    "    print(\"one\")\n",
    "elif(x==2):\n",
    "    print(\"Two\")\n",
    "elif(x==3):\n",
    "    print(\"Three\")\n",
    "elif(x==4):\n",
    "    print(\"four\")\n",
    "elif(x==5):\n",
    "    print(\"five\")\n",
    "else:\n",
    "    print(\"wrong input\")\n"
   ]
  },
  {
   "cell_type": "code",
   "execution_count": 5,
   "metadata": {},
   "outputs": [
    {
     "name": "stdout",
     "output_type": "stream",
     "text": [
      "Enter the number1234\n",
      "You entered the number 1234\n",
      "The number is even\n",
      "Inside If block\n",
      "Jai ho!\n"
     ]
    }
   ],
   "source": [
    "n = int(input(\"Enter the number\"))\n",
    "print(\"You entered the number\", n)\n",
    "if n%2==0:\n",
    "    print(\"The number is even\")\n",
    "    print(\"Inside If block\")\n",
    "else:\n",
    "    print(\"The number is odd\")\n",
    "    print(\"Inside Else block\")\n",
    "print(\"Jai ho!\")\n",
    "    "
   ]
  },
  {
   "cell_type": "code",
   "execution_count": 7,
   "metadata": {},
   "outputs": [
    {
     "name": "stdout",
     "output_type": "stream",
     "text": [
      "Please entered the number3\n",
      "Enter number is 3\n",
      "Number is positive\n"
     ]
    }
   ],
   "source": [
    "n  =int(input(\"Please entered the number\"))\n",
    "print(\"Enter number is\", n)\n",
    "if n>0:\n",
    "    print(\"Number is positive\")\n",
    "elif n<0:\n",
    "    print(\"Number is negative\")\n",
    "else:\n",
    "    print(\"Number is negative\")"
   ]
  },
  {
   "cell_type": "code",
   "execution_count": 2,
   "metadata": {},
   "outputs": [
    {
     "name": "stdout",
     "output_type": "stream",
     "text": [
      "enter number: 56\n",
      "Greater\n"
     ]
    }
   ],
   "source": [
    "var1 = 20\n",
    "var2 =30\n",
    "var3 = int(input(\"enter number: \"))\n",
    "if var3>var2:\n",
    "    print(\"Greater\")\n",
    "else:\n",
    "    print(\"lesser\")"
   ]
  },
  {
   "cell_type": "code",
   "execution_count": 5,
   "metadata": {},
   "outputs": [
    {
     "name": "stdout",
     "output_type": "stream",
     "text": [
      "Enter the number: 34\n",
      "Number are equal\n",
      "jai ho!\n"
     ]
    }
   ],
   "source": [
    "var1 =24\n",
    "var2 = 34\n",
    "var3  =int(input(\"Enter the number: \"))\n",
    "if var3>var2:\n",
    "    print(\"Greater number\")\n",
    "elif var3 == var2:\n",
    "    print(\"Number are equal\")\n",
    "else:\n",
    "    print(\"leser number\")\n",
    "print(\"jai ho!\")"
   ]
  },
  {
   "cell_type": "code",
   "execution_count": 8,
   "metadata": {},
   "outputs": [
    {
     "name": "stdout",
     "output_type": "stream",
     "text": [
      "yes It is the list\n",
      "\n",
      "True\n"
     ]
    }
   ],
   "source": [
    "list1 = [5,7,8,\"jai\"]\n",
    "if \"jai\"in list1:\n",
    "    print(\"yes It is the list\")\n",
    "print()\n",
    "\n",
    "list1 = [5,7,8,\"jai\"]\n",
    "if 15 not in list1:\n",
    "    print(True)\n",
    "else:\n",
    "    print(False)"
   ]
  },
  {
   "cell_type": "code",
   "execution_count": 11,
   "metadata": {},
   "outputs": [
    {
     "name": "stdout",
     "output_type": "stream",
     "text": [
      "Please enter your age34\n",
      "Your age is 34\n",
      "Yes! You are Eligible\n"
     ]
    }
   ],
   "source": [
    "age = int(input(\"Please enter your age\"))\n",
    "print(\"Your age is\", age)\n",
    "if age<18:\n",
    "    print(\"You cannot drive\")\n",
    "elif age ==18:\n",
    "    print(\"We will think about it\")\n",
    "else:\n",
    "    print(\"Yes! You are Eligible\")"
   ]
  },
  {
   "cell_type": "code",
   "execution_count": 13,
   "metadata": {},
   "outputs": [
    {
     "name": "stdout",
     "output_type": "stream",
     "text": [
      "smaller\n",
      "\n",
      "lesser\n"
     ]
    }
   ],
   "source": [
    "if 10<7:\n",
    "    print(\"greater\")\n",
    "else:\n",
    "    print(\"smaller\")\n",
    "    \n",
    "print()\n",
    "\n",
    "print(\"Greater\") if 10<5 else print(\"lesser\")"
   ]
  },
  {
   "cell_type": "code",
   "execution_count": 14,
   "metadata": {},
   "outputs": [
    {
     "name": "stdout",
     "output_type": "stream",
     "text": [
      "Greater\n",
      "5 Greater than 2\n",
      "rest of the code\n"
     ]
    }
   ],
   "source": [
    "if 5>2:\n",
    "    print(\"Greater\")\n",
    "    print(\"5 Greater than 2\")\n",
    "else:\n",
    "    print(\"lesser\")\n",
    "    print(\"5 is lesser than 2\")\n",
    "print(\"rest of the code\")"
   ]
  },
  {
   "cell_type": "code",
   "execution_count": 18,
   "metadata": {},
   "outputs": [
    {
     "name": "stdout",
     "output_type": "stream",
     "text": [
      "Enter the number4\n",
      "Your entered number is 4\n",
      "Corect, you have entered  4\n"
     ]
    }
   ],
   "source": [
    "a = int(input(\"Enter the number\"))\n",
    "print(\"Your entered number is\", a)\n",
    "if a>3:\n",
    "    print(\"Corect, you have entered \", a)\n",
    "else:\n",
    "    print(\"Incorrect, you have entered \", a)"
   ]
  },
  {
   "cell_type": "code",
   "execution_count": 19,
   "metadata": {},
   "outputs": [
    {
     "name": "stdout",
     "output_type": "stream",
     "text": [
      "a is lesser than b\n"
     ]
    }
   ],
   "source": [
    "a= 2\n",
    "b  =20\n",
    "if a>b:\n",
    "    print(\"a is greater than b\")\n",
    "elif a==b:\n",
    "    print(\"a is equal to b\")\n",
    "else:\n",
    "    print(\"a is lesser than b\")"
   ]
  },
  {
   "cell_type": "code",
   "execution_count": 9,
   "metadata": {},
   "outputs": [
    {
     "name": "stdout",
     "output_type": "stream",
     "text": [
      "Enter the dayfriday\n",
      "The day of the week is friday\n",
      "Today is Holiday\n"
     ]
    }
   ],
   "source": [
    "day = input(\"Enter the day\")\n",
    "print(\"The day of the week is\", day)\n",
    "if day == 'monday':\n",
    "    print(\"Today is monday\")\n",
    "elif day == \"tuesday\":\n",
    "    print(\"Today is tuesday\")\n",
    "elif day == \"wednesday\":\n",
    "    print(\"Today is wedesday\")\n",
    "elif day == \"thrusday\":\n",
    "    print(\"Today is thrusday\")\n",
    "else:\n",
    "    print(\"Today is Holiday\")"
   ]
  },
  {
   "cell_type": "code",
   "execution_count": 10,
   "metadata": {},
   "outputs": [
    {
     "name": "stdout",
     "output_type": "stream",
     "text": [
      "Greater\n",
      "30 is greater than 20\n",
      "24 is greater than 20\n",
      "Rest of the code\n"
     ]
    }
   ],
   "source": [
    "if 30>20:\n",
    "    print(\"Greater\")\n",
    "    print(\"30 is greater than 20\")\n",
    "    if 24>20:\n",
    "        print(\"24 is greater than 20\")\n",
    "print(\"Rest of the code\")\n",
    "    \n",
    "    \n",
    "    "
   ]
  },
  {
   "cell_type": "code",
   "execution_count": 11,
   "metadata": {},
   "outputs": [
    {
     "name": "stdout",
     "output_type": "stream",
     "text": [
      "greater\n",
      "10 is greater than 6\n",
      "rest of the code\n"
     ]
    }
   ],
   "source": [
    "if 10>6:\n",
    "    print(\"greater\")\n",
    "    print(\"10 is greater than 6\")\n",
    "    if 12<6:\n",
    "        print(\"greater\")\n",
    "print(\"rest of the code\")"
   ]
  },
  {
   "cell_type": "code",
   "execution_count": 12,
   "metadata": {},
   "outputs": [
    {
     "name": "stdout",
     "output_type": "stream",
     "text": [
      "rest of the code\n"
     ]
    }
   ],
   "source": [
    "if 10<6:\n",
    "    print(\"greater\")\n",
    "    print(\"10 is greater than 6\")\n",
    "    if 12<6:\n",
    "        print(\"greater\")\n",
    "print(\"rest of the code\")"
   ]
  },
  {
   "cell_type": "code",
   "execution_count": 13,
   "metadata": {},
   "outputs": [
    {
     "name": "stdout",
     "output_type": "stream",
     "text": [
      "rest of the code\n"
     ]
    }
   ],
   "source": [
    "if 10<6:\n",
    "    print(\"greater\")\n",
    "    print(\"10 is greater than 6\")\n",
    "    if 12>6:\n",
    "        print(\"greater\")\n",
    "print(\"rest of the code\")"
   ]
  },
  {
   "cell_type": "code",
   "execution_count": null,
   "metadata": {},
   "outputs": [],
   "source": [
    "NESTED IF ELSE STATEMENT"
   ]
  },
  {
   "cell_type": "code",
   "execution_count": 17,
   "metadata": {},
   "outputs": [
    {
     "name": "stdout",
     "output_type": "stream",
     "text": [
      "b is greater than a\n",
      "rest of the code\n"
     ]
    }
   ],
   "source": [
    "a=5\n",
    "b=8\n",
    "c=1\n",
    "d=3\n",
    "if a>b:\n",
    "    print(\"a is greater than b\")\n",
    "    if(1>3):\n",
    "        print(\"c is greater than d\")\n",
    "    else:\n",
    "        print(\"d is greater than c\")\n",
    "else:\n",
    "    print(\"b is greater than a\")\n",
    "print(\"rest of the code\")"
   ]
  },
  {
   "cell_type": "code",
   "execution_count": 20,
   "metadata": {},
   "outputs": [
    {
     "name": "stdout",
     "output_type": "stream",
     "text": [
      "b is greater than a\n",
      "rest of the code\n"
     ]
    }
   ],
   "source": [
    "a=5\n",
    "b=6\n",
    "c=9\n",
    "d=8\n",
    "if a>b:\n",
    "    print(\"a is greater than b\")\n",
    "    if(c>d):\n",
    "        print(\"c is greater than d\")\n",
    "    else:\n",
    "        print(\"d is greater than c\")\n",
    "else:\n",
    "    print(\"b is greater than a\")\n",
    "print(\"rest of the code\")"
   ]
  },
  {
   "cell_type": "code",
   "execution_count": null,
   "metadata": {},
   "outputs": [],
   "source": []
  }
 ],
 "metadata": {
  "kernelspec": {
   "display_name": "Python 3",
   "language": "python",
   "name": "python3"
  },
  "language_info": {
   "codemirror_mode": {
    "name": "ipython",
    "version": 3
   },
   "file_extension": ".py",
   "mimetype": "text/x-python",
   "name": "python",
   "nbconvert_exporter": "python",
   "pygments_lexer": "ipython3",
   "version": "3.8.5"
  }
 },
 "nbformat": 4,
 "nbformat_minor": 4
}
