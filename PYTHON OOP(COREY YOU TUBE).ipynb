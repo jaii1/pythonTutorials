{
 "cells": [
  {
   "cell_type": "code",
   "execution_count": null,
   "metadata": {},
   "outputs": [],
   "source": [
    "COREY (YOUTUBE)"
   ]
  },
  {
   "cell_type": "code",
   "execution_count": null,
   "metadata": {},
   "outputs": [],
   "source": [
    "Suppose we want to  create number of employeees and gives them their names,age,salary address or watever Each time\n",
    " we need to create employees and enter their entire details, definately it takes a lot of effort,time instead of it\n",
    "we can create class Empoyees:  ok"
   ]
  },
  {
   "cell_type": "code",
   "execution_count": 16,
   "metadata": {},
   "outputs": [
    {
     "name": "stdout",
     "output_type": "stream",
     "text": [
      "jai.tiwari@gmail.com\n",
      "corey.schafer@gmail.com\n",
      "sam.john@gmail.com\n",
      "jai\n",
      "corey\n",
      "sam\n",
      "john\n",
      "\n",
      "\n"
     ]
    }
   ],
   "source": [
    "class Employees:\n",
    "    def __init__(self,first,last,pay):\n",
    "        self.first = first\n",
    "        self.last  =last\n",
    "        self.pay = pay\n",
    "        self.email = first + \".\" + last + \"@gmail.com\"\n",
    "\n",
    "emp_1 = Employees('corey','schafer',50000)\n",
    "emp_2 = Employees('jai','tiwari',60000)\n",
    "emp_3 = Employees('sam','john',40000)\n",
    "print(emp_2.email)\n",
    "print(emp_1.email)\n",
    "print(emp_3.email)\n",
    "print(emp_2.first)\n",
    "print(emp_1.first)\n",
    "print(emp_3.first)\n",
    "print(emp_3.last)\n",
    "print()\n",
    "\n",
    "emp_1.last\n",
    "print()"
   ]
  },
  {
   "cell_type": "code",
   "execution_count": 14,
   "metadata": {},
   "outputs": [
    {
     "name": "stdout",
     "output_type": "stream",
     "text": [
      "corey schafer\n"
     ]
    }
   ],
   "source": [
    "print('{} {}'.format(emp_1.first,emp_1.last))\n",
    "# for object 1 only(emp_1)"
   ]
  },
  {
   "cell_type": "code",
   "execution_count": 24,
   "metadata": {},
   "outputs": [
    {
     "name": "stdout",
     "output_type": "stream",
     "text": [
      "jai.tiwarigmail.com\n",
      "sam.johngmail.com\n",
      "\n",
      "jai tiwari\n",
      "sam john\n",
      "\n"
     ]
    },
    {
     "data": {
      "text/plain": [
       "'jai tiwari'"
      ]
     },
     "execution_count": 24,
     "metadata": {},
     "output_type": "execute_result"
    }
   ],
   "source": [
    "class employees:\n",
    "    def __init__(self,first,last,pay):\n",
    "        self.first =first\n",
    "        self.last = last\n",
    "        self.pay = pay\n",
    "        self.email = first + \".\" + last +\"gmail.com\"\n",
    "        \n",
    "    def fullname(self):--instance method\n",
    "        return \"{} {}\".format(self.first, self.last)\n",
    "\n",
    "emp1 =employees(\"jai\",\"tiwari\",30000)\n",
    "emp2 = employees(\"sam\",\"john\",70000)\n",
    "\n",
    "print(emp1.email)\n",
    "print(emp2.email)\n",
    "print()\n",
    "print(emp1.fullname())\n",
    "print(emp2.fullname())\n",
    "print()\n",
    "employees.fullname(emp1)\n",
    "# employees.fullname(emp2)"
   ]
  },
  {
   "cell_type": "code",
   "execution_count": null,
   "metadata": {},
   "outputs": [],
   "source": [
    "CLASS VARIABLES(CHAPTER2)"
   ]
  },
  {
   "cell_type": "code",
   "execution_count": 2,
   "metadata": {},
   "outputs": [
    {
     "name": "stdout",
     "output_type": "stream",
     "text": [
      "\n",
      "50000\n",
      "52000\n",
      "\n",
      "60000\n",
      "62400\n"
     ]
    }
   ],
   "source": [
    "class Employees:\n",
    "    def __init__(self,first,last,pay):\n",
    "        self.first = first\n",
    "        self.last = last\n",
    "        self.pay = pay\n",
    "        self.email = first +'.'+last +'24gmail.com'\n",
    "    \n",
    "    def display_fullname(self):\n",
    "        return '{} {}'.format(self.first, self.last)\n",
    "    def apply_raise(self):\n",
    "        self.pay = int(self.pay*1.04)\n",
    "    \n",
    "emp_1 = Employees('Corey', 'schafer', 50000)\n",
    "emp_2 = Employees('Test', 'User',60000)\n",
    "\n",
    "print()\n",
    "print(emp_1.pay)\n",
    "emp_1.apply_raise()\n",
    "print(emp_1.pay)\n",
    "print()\n",
    "\n",
    "print(emp_2.pay)\n",
    "emp_2.apply_raise()\n",
    "print(emp_2.pay)\n",
    "        \n",
    "    "
   ]
  },
  {
   "cell_type": "code",
   "execution_count": 4,
   "metadata": {},
   "outputs": [
    {
     "name": "stdout",
     "output_type": "stream",
     "text": [
      "\n",
      "1.04\n",
      "1.04\n",
      "1.04\n",
      "\n",
      "50000\n",
      "52000\n"
     ]
    }
   ],
   "source": [
    "class Employees:\n",
    "    raise_amount = 1.04\n",
    "    def __init__(self, first,last,pay):\n",
    "        self.first = first\n",
    "        self.last = last\n",
    "        self.pay = pay\n",
    "        self.email = first + \".\"+last+'24gmail.com'\n",
    "        \n",
    "    def display_fullname(self):\n",
    "        return '{} {}'.format(self.first, self.last)\n",
    "    def apply_raise(self):\n",
    "        self.pay = int(self.pay*self.raise_amount)\n",
    "        \n",
    "emp_1 = Employees('Corey', 'Schafer', 50000)\n",
    "emp_2 =Employees('Test', 'User',60000)\n",
    "\n",
    "print()\n",
    "print(Employees.raise_amount)\n",
    "print(emp_1.raise_amount)\n",
    "print(emp_2.raise_amount)\n",
    "print()\n",
    "print(emp_1.pay)\n",
    "emp_1.apply_raise()\n",
    "print(emp_1.pay)\n"
   ]
  },
  {
   "cell_type": "code",
   "execution_count": 16,
   "metadata": {},
   "outputs": [
    {
     "name": "stdout",
     "output_type": "stream",
     "text": [
      "\n",
      "\n",
      "{'first': 'Corey', 'last': 'Schafer', 'pay': 50000, 'email': 'Corey.Schafer24gmail.com'}\n",
      "next dict\n",
      "{'__module__': '__main__', 'raise_amount': 1.05, '__init__': <function Employees.__init__ at 0x000001375BA83CA0>, 'display_fullname': <function Employees.display_fullname at 0x000001375BA838B0>, 'apply_raise': <function Employees.apply_raise at 0x000001375BA83820>, '__dict__': <attribute '__dict__' of 'Employees' objects>, '__weakref__': <attribute '__weakref__' of 'Employees' objects>, '__doc__': None}\n",
      "\n",
      "1.05\n",
      "1.05\n",
      "1.05\n"
     ]
    }
   ],
   "source": [
    "class Employees:\n",
    "    raise_amount = 1.04\n",
    "    def __init__(self, first, last, pay):\n",
    "        self.first = first\n",
    "        self.last = last\n",
    "        self.pay = pay\n",
    "        self.email = first +\".\"+last +'24gmail.com'\n",
    "    \n",
    "    def display_fullname(self):\n",
    "        return '{} {}'.format(self.first, self.last)\n",
    "    def apply_raise(self):\n",
    "        self.pay = int(self.pay*self.raise_amount)\n",
    "        \n",
    "emp_1 = Employees('Corey', 'Schafer',50000)\n",
    "emp_2 = Employees('Test','User',60000)\n",
    "print()\n",
    "Employees.raise_amount = 1.05\n",
    "print()\n",
    "print(emp_1.__dict__)\n",
    "print(\"next dict\")\n",
    "print(Employees.__dict__)\n",
    "print()\n",
    "print(Employees.raise_amount)\n",
    "print(emp_1.raise_amount)\n",
    "print(emp_2.raise_amount)"
   ]
  },
  {
   "cell_type": "code",
   "execution_count": 25,
   "metadata": {},
   "outputs": [
    {
     "name": "stdout",
     "output_type": "stream",
     "text": [
      "\n",
      "1.04\n",
      "1.08\n",
      "1.04\n",
      "\n",
      "60000\n",
      "62400\n"
     ]
    }
   ],
   "source": [
    "class Employees:\n",
    "    raise_amount =1.04\n",
    "    def __init__(self, first,last,pay):\n",
    "        self.first =first\n",
    "        self.last=last\n",
    "        self.pay = pay\n",
    "        self.email = first + \".\"+ last+'24gmail.com'\n",
    "    def display_fullname(self):\n",
    "        return \"{} {}\".format(self.first, self.last)\n",
    "    def apply_raise(self):\n",
    "        self.pay = int(self.pay*self.raise_amount)\n",
    "        \n",
    "emp_1 = Employees('Corey', 'Schafer',50000)\n",
    "emp_2 =Employees('Test', 'User',60000)\n",
    "\n",
    "emp_1.raise_amount = 1.08\n",
    "print()\n",
    "print(Employees.raise_amount)\n",
    "print(emp_1.raise_amount)\n",
    "print(emp_2.raise_amount)\n",
    "\n",
    "print()\n",
    "print(emp_2.pay)\n",
    "emp_2.apply_raise()\n",
    "print(emp_2.pay)\n"
   ]
  },
  {
   "cell_type": "code",
   "execution_count": 23,
   "metadata": {},
   "outputs": [
    {
     "name": "stdout",
     "output_type": "stream",
     "text": [
      "2\n",
      "\n",
      "10.0\n",
      "10.0\n",
      "10.0\n"
     ]
    }
   ],
   "source": [
    "class Employees:\n",
    "    raise_amount =1.04\n",
    "    num_of_employees = 0\n",
    "    def __init__(self, first,last,pay):\n",
    "        self.first =first\n",
    "        self.last=last\n",
    "        self.pay = pay\n",
    "        self.email = first + \".\"+ last+'24gmail.com'\n",
    "        Employees.num_of_employees +=1\n",
    "    def display_fullname(self):\n",
    "        return \"{} {}\".format(self.first, self.last)\n",
    "    def apply_raise(self):\n",
    "        self.pay = int(self.pay*self.raise_amount)\n",
    "        \n",
    "emp_1 = Employees('Corey', 'Schafer',50000)\n",
    "emp_2 =Employees('Test', 'User',60000)\n",
    "print(Employees.num_of_employees)\n",
    "Employees.raise_amount = 10.0\n",
    "print()\n",
    "print(Employees.raise_amount)\n",
    "print(emp_1.raise_amount)\n",
    "print(emp_2.raise_amount)\n",
    "\n",
    "# if u print = 'print(Employees.num_of_employees)' above the 2 employees object created then it will show u zero"
   ]
  },
  {
   "cell_type": "code",
   "execution_count": null,
   "metadata": {},
   "outputs": [],
   "source": [
    "CLASSMETHODS AND STATICMETHODS(CHAPTER3)COREY\n",
    "\n",
    "In classmethod we pass 'cls'  as first argument,in the method and suppose we have to create an object and give it some \n",
    "value like age,salary or increased amount anything like that then and we do not creating through '__init__'  method\n",
    "then we use 'classmethod' and it is denoted by @classmethod.\n",
    "Staticmethod do not take any 'self' of 'cls' Argument, it only contains  Any other variables"
   ]
  },
  {
   "cell_type": "code",
   "execution_count": 28,
   "metadata": {},
   "outputs": [
    {
     "ename": "NameError",
     "evalue": "name 'first' is not defined",
     "output_type": "error",
     "traceback": [
      "\u001b[1;31m---------------------------------------------------------------------------\u001b[0m",
      "\u001b[1;31mNameError\u001b[0m                                 Traceback (most recent call last)",
      "\u001b[1;32m<ipython-input-28-91d51f0c457c>\u001b[0m in \u001b[0;36m<module>\u001b[1;34m\u001b[0m\n\u001b[0;32m     27\u001b[0m \u001b[1;31m# print()\u001b[0m\u001b[1;33m\u001b[0m\u001b[1;33m\u001b[0m\u001b[1;33m\u001b[0m\u001b[0m\n\u001b[0;32m     28\u001b[0m \u001b[1;33m\u001b[0m\u001b[0m\n\u001b[1;32m---> 29\u001b[1;33m \u001b[0mprint\u001b[0m\u001b[1;33m(\u001b[0m\u001b[0memp_1\u001b[0m\u001b[1;33m.\u001b[0m\u001b[0mdisplay_fullname\u001b[0m\u001b[1;33m(\u001b[0m\u001b[1;33m)\u001b[0m\u001b[1;33m)\u001b[0m\u001b[1;33m\u001b[0m\u001b[1;33m\u001b[0m\u001b[0m\n\u001b[0m\u001b[0;32m     30\u001b[0m \u001b[0mprint\u001b[0m\u001b[1;33m(\u001b[0m\u001b[0memp_1\u001b[0m\u001b[1;33m.\u001b[0m\u001b[0mpay\u001b[0m\u001b[1;33m)\u001b[0m\u001b[1;33m\u001b[0m\u001b[1;33m\u001b[0m\u001b[0m\n\u001b[0;32m     31\u001b[0m \u001b[0memp_1\u001b[0m\u001b[1;33m.\u001b[0m\u001b[0mapply_raise\u001b[0m\u001b[1;33m(\u001b[0m\u001b[1;33m)\u001b[0m\u001b[1;33m\u001b[0m\u001b[1;33m\u001b[0m\u001b[0m\n",
      "\u001b[1;32m<ipython-input-28-91d51f0c457c>\u001b[0m in \u001b[0;36mdisplay_fullname\u001b[1;34m(self)\u001b[0m\n\u001b[0;32m     10\u001b[0m \u001b[1;33m\u001b[0m\u001b[0m\n\u001b[0;32m     11\u001b[0m     \u001b[1;32mdef\u001b[0m \u001b[0mdisplay_fullname\u001b[0m\u001b[1;33m(\u001b[0m\u001b[0mself\u001b[0m\u001b[1;33m)\u001b[0m\u001b[1;33m:\u001b[0m\u001b[1;33m\u001b[0m\u001b[1;33m\u001b[0m\u001b[0m\n\u001b[1;32m---> 12\u001b[1;33m         \u001b[1;32mreturn\u001b[0m \u001b[1;34m\"{} {}\"\u001b[0m\u001b[1;33m.\u001b[0m\u001b[0mformat\u001b[0m\u001b[1;33m(\u001b[0m\u001b[0mself\u001b[0m\u001b[1;33m.\u001b[0m\u001b[0mfirst\u001b[0m\u001b[1;33m,\u001b[0m \u001b[0mfirst\u001b[0m\u001b[1;33m.\u001b[0m\u001b[0mlast\u001b[0m\u001b[1;33m)\u001b[0m\u001b[1;33m\u001b[0m\u001b[1;33m\u001b[0m\u001b[0m\n\u001b[0m\u001b[0;32m     13\u001b[0m \u001b[1;33m\u001b[0m\u001b[0m\n\u001b[0;32m     14\u001b[0m     \u001b[1;32mdef\u001b[0m \u001b[0mapply_raise\u001b[0m\u001b[1;33m(\u001b[0m\u001b[0mself\u001b[0m\u001b[1;33m)\u001b[0m\u001b[1;33m:\u001b[0m\u001b[1;33m\u001b[0m\u001b[1;33m\u001b[0m\u001b[0m\n",
      "\u001b[1;31mNameError\u001b[0m: name 'first' is not defined"
     ]
    }
   ],
   "source": [
    "class Employees:\n",
    "    raise_amount = 1.04\n",
    "    num_of_employees = 0\n",
    "    def __init__(self, first,last,pay):\n",
    "        self.first = first\n",
    "        self.last = last\n",
    "        self.pay = pay\n",
    "        self.email = first +\".\" + last+\"24@gmail.com\"\n",
    "        Employees.num_of_employees+=1\n",
    "        \n",
    "    def display_fullname(self):\n",
    "        return \"{} {}\".format(self.first, first.last)\n",
    "    \n",
    "    def apply_raise(self):\n",
    "        self.pay = int(self.pay*self.raise_amount)\n",
    "        \n",
    "        \n",
    "emp_1 = Employees('Corey', 'Schafer',50000)\n",
    "emp_2 = Employees('Test','User',60000)\n",
    "# print(Employees.raise_amount)\n",
    "# print(emp_1.raise_amount)\n",
    "# print(emp_2.raise_amount)\n",
    "# print()\n",
    "# print(emp_1.first)\n",
    "# print(emp_1.last)\n",
    "# print(emp_1.pay)\n",
    "# print()\n",
    "\n",
    "# print(emp_1.display_fullname())\n",
    "# print(emp_1.pay)\n",
    "# emp_1.apply_raise()\n",
    "# print(emp_1.pay)\n",
    "# print()\n",
    "# print(Employees.display_fullname(emp_2))"
   ]
  },
  {
   "cell_type": "code",
   "execution_count": 2,
   "metadata": {},
   "outputs": [
    {
     "name": "stdout",
     "output_type": "stream",
     "text": [
      "2\n",
      "1.04\n",
      "1.04\n",
      "1.04\n",
      "\n",
      "4.5\n",
      "4.5\n",
      "4.5\n",
      "\n",
      "50000\n",
      "225000\n"
     ]
    }
   ],
   "source": [
    "class Employees:\n",
    "    raise_amount = 1.04\n",
    "    num_of_employees = 0\n",
    "    def __init__(self, first,last,pay):\n",
    "        self.first = first\n",
    "        self.last = last\n",
    "        self.pay = pay\n",
    "        self.email = first +\".\" + last+\"24@gmail.com\"\n",
    "        Employees.num_of_employees+=1\n",
    "    @classmethod\n",
    "    def set_raise_amount(cls,amount):\n",
    "        cls.raise_amount = amount\n",
    "        \n",
    "    def display_fullname(self):\n",
    "        return \"{} {}\".format(self.first, first.last)\n",
    "    \n",
    "    def apply_raise(self):\n",
    "        self.pay = int(self.pay*self.raise_amount)\n",
    "        \n",
    "        \n",
    "emp_1 = Employees('Corey', 'Schafer',50000)\n",
    "emp_2 = Employees('Test','User',60000)\n",
    "print(Employees.num_of_employees)\n",
    "print(Employees.raise_amount)\n",
    "print(emp_1.raise_amount)\n",
    "print(emp_2.raise_amount)\n",
    "print()\n",
    "# now we are changing raise_amount but through classmethod, ok so we use classmethod's method i.e set_raise_amount\n",
    "# with class 'Employees', ok this is not instance method\n",
    "Employees.set_raise_amount(4.50)\n",
    "print(Employees.raise_amount)\n",
    "print(emp_1.raise_amount)\n",
    "print(emp_2.raise_amount)\n",
    "print()\n",
    "print(emp_1.pay)\n",
    "emp_1.apply_raise()\n",
    "print(emp_1.pay)"
   ]
  },
  {
   "cell_type": "code",
   "execution_count": 3,
   "metadata": {},
   "outputs": [
    {
     "name": "stdout",
     "output_type": "stream",
     "text": [
      "\n",
      "70000\n",
      "Doe\n",
      "\n",
      "200\n",
      "\n",
      "John.Doe24@gmail.com\n"
     ]
    }
   ],
   "source": [
    "class Employees:\n",
    "    raise_amount = 1.04\n",
    "    num_of_employees = 0\n",
    "    def __init__(self, first,last,pay):\n",
    "        self.first = first\n",
    "        self.last = last\n",
    "        self.pay = pay\n",
    "        self.email = first +\".\" + last+\"24@gmail.com\"\n",
    "        Employees.num_of_employees+=1\n",
    "        \n",
    "    @classmethod\n",
    "    def set_raise_amount(cls, amount):\n",
    "        cls.raise_amount = amount\n",
    "    @classmethod\n",
    "    def fromstring(cls,emp_str):\n",
    "        first,last,pay = emp_str.split('-')\n",
    "        return cls(first,last,pay)\n",
    "    def display_fullname(self):\n",
    "        return '{} {}'.format(self.first, self.last)\n",
    "    def apply_raise(self):\n",
    "        self.pay = int(self.pay*self.raise_amount)\n",
    "emp_1 = Employees('Corey', 'Schafer',50000)\n",
    "emp_2 = Employees('Test','Unit',60000)\n",
    "print()\n",
    "emp_str1 = 'John-Doe-70000'\n",
    "emp_str2 = 'Steve-Smith-30000'\n",
    "emp_str3 = 'Jane -Doe-90000'\n",
    "new_emp_1 = Employees.fromstring(emp_str1)\n",
    "print(new_emp_1.pay)\n",
    "print(new_emp_1.last)\n",
    "new_emp_1.set_raise_amount(200)\n",
    "print()\n",
    "print(new_emp_1.raise_amount)\n",
    "print()\n",
    "print(new_emp_1.email)\n",
    "    "
   ]
  },
  {
   "cell_type": "code",
   "execution_count": 13,
   "metadata": {},
   "outputs": [],
   "source": [
    "import datetime"
   ]
  },
  {
   "cell_type": "code",
   "execution_count": 5,
   "metadata": {},
   "outputs": [
    {
     "name": "stdout",
     "output_type": "stream",
     "text": [
      "70000\n",
      "John\n",
      "Doe\n",
      "True\n"
     ]
    }
   ],
   "source": [
    "import datetime\n",
    "class Employees:\n",
    "    raise_amount = 1.04\n",
    "    num_of_employees = 0\n",
    "    def __init__(self, first,last,pay):\n",
    "        self.first = first\n",
    "        self.last = last\n",
    "        self.pay = pay\n",
    "        self.email = first +\".\" + last+\"24@gmail.com\"\n",
    "        Employees.num_of_employees+=1\n",
    "    @classmethod\n",
    "    def fromstring(cls, emp_str):\n",
    "        first,last,pay  =emp_str.split('-')\n",
    "        return cls(first,last,pay)\n",
    "    @staticmethod\n",
    "    def is_worked(day):\n",
    "        if day.weekday() ==5 or  day.weekday() == 6:\n",
    "            return False\n",
    "        return True\n",
    "emp_1 =Employees('corey','Schafer',50000)\n",
    "emp_2 =Employees('Test', 'Unit',60000)\n",
    "\n",
    "emp_str1 = 'John-Doe-70000'\n",
    "emp_str2 = 'Steve-Smith-30000'\n",
    "emp_str3 = 'Jane -Doe-90000'\n",
    "new_emp_1  =Employees.fromstring(emp_str1)\n",
    "print(new_emp_1.pay)\n",
    "print(new_emp_1.first)\n",
    "print(new_emp_1.last)\n",
    "\n",
    "# import datetime\n",
    "my_date = datetime.date(2016,7,22)\n",
    "# year,month,day(date should be in this format)\n",
    "print(Employees.is_worked(my_date))\n",
    "        "
   ]
  },
  {
   "cell_type": "code",
   "execution_count": null,
   "metadata": {},
   "outputs": [],
   "source": [
    "chapter5 MAGIC/DUNDER METHOD"
   ]
  },
  {
   "cell_type": "code",
   "execution_count": 24,
   "metadata": {},
   "outputs": [
    {
     "name": "stdout",
     "output_type": "stream",
     "text": [
      "Employee :jai tiwari 45000\n",
      "jai tiwari-jai.tiwari24@gmail.com\n",
      "\n",
      "10\n",
      "10\n"
     ]
    }
   ],
   "source": [
    "class Employees:\n",
    "    raise_amount =2.09\n",
    "    def __init__(self, first,last,pay):\n",
    "        self.first =first\n",
    "        self.last = last\n",
    "        self.pay = pay\n",
    "        self.email = first +\".\"+last+'24@gmail.com'\n",
    "    def fullname(self):\n",
    "        return '{} {}'.format(self.first, self.last)\n",
    "    def amount_raised(self,amount):\n",
    "        self.pay = int(self.pay*self.raise_amount)\n",
    "        \n",
    "    def __repr__(self):\n",
    "        return 'Employee :{} {} {}'.format(self.first, self.last,self.pay)\n",
    "    def __str__(self):\n",
    "        return '{}-{}'.format(self.fullname(), self.email)\n",
    "    \n",
    "    def __len__(self):\n",
    "        return len(self.fullname())\n",
    "        \n",
    "e1 =  Employees('jai',\"tiwari\",45000)\n",
    "e2 = Employees('sam','john',67000)\n",
    "# print()\n",
    "print(e1.__repr__())\n",
    "print(e1.__str__())\n",
    "# or\n",
    "# print(repr(e1))\n",
    "# print(str(e1))\n",
    "print()\n",
    "print(len(e1))\n",
    "# or\n",
    "print(e1.__len__())\n",
    "\n",
    "        "
   ]
  },
  {
   "cell_type": "code",
   "execution_count": 5,
   "metadata": {},
   "outputs": [
    {
     "name": "stdout",
     "output_type": "stream",
     "text": [
      "9\n",
      "\n",
      "9\n"
     ]
    }
   ],
   "source": [
    "print(len('jaitiwari'))\n",
    "print()\n",
    "print('jaitiwari'.__len__())"
   ]
  },
  {
   "cell_type": "code",
   "execution_count": 6,
   "metadata": {},
   "outputs": [
    {
     "name": "stdout",
     "output_type": "stream",
     "text": [
      "jai\n",
      "tiwari\n",
      "jai.tiwari23@gmail.com\n",
      "jai tiwari\n"
     ]
    }
   ],
   "source": [
    "class Employees:\n",
    "    def __init__(self,first,last):\n",
    "        self.first = first\n",
    "        self.last = last\n",
    "        self.email = first +\".\"+last +'23@gmail.com'\n",
    "        \n",
    "    def fullname(self):\n",
    "        return '{} {}'.format(self.first, self.last)\n",
    "    \n",
    "e1  =Employees('jai','tiwari')\n",
    "print(e1.first)\n",
    "print(e1.last)\n",
    "print(e1.email)\n",
    "print(e1.fullname())\n",
    "    "
   ]
  },
  {
   "cell_type": "code",
   "execution_count": 7,
   "metadata": {},
   "outputs": [
    {
     "name": "stdout",
     "output_type": "stream",
     "text": [
      "jim\n",
      "jai.tiwari23@gmail.com\n",
      "tiwari\n",
      "jim tiwari\n"
     ]
    }
   ],
   "source": [
    "class Employees:\n",
    "    def __init__(self,first,last):\n",
    "        self.first = first\n",
    "        self.last = last\n",
    "        self.email = first +\".\"+last +'23@gmail.com'\n",
    "        \n",
    "    def fullname(self):\n",
    "        return '{} {}'.format(self.first, self.last)\n",
    "    \n",
    "e1  =Employees('jai','tiwari')\n",
    "e1.first = 'jim'\n",
    "print(e1.first)\n",
    "print(e1.email)\n",
    "print(e1.last)\n",
    "print(e1.fullname())"
   ]
  },
  {
   "cell_type": "code",
   "execution_count": 19,
   "metadata": {},
   "outputs": [
    {
     "name": "stdout",
     "output_type": "stream",
     "text": [
      "jamy\n",
      "Tiwari\n",
      "jamy.Tiwari@gmail.com\n",
      "jamy Tiwari\n"
     ]
    }
   ],
   "source": [
    "class employees:\n",
    "    def __init__(self, first,last):\n",
    "        self.first = first\n",
    "        self.last =last\n",
    "    @property    \n",
    "    def email(self):\n",
    "        return '{}.{}@gmail.com'.format(self.first, self.last)\n",
    "\n",
    "    def fullname(self):\n",
    "        return '{} {}'.format(self.first, self.last)\n",
    "    \n",
    "e1 = employees('jai','Tiwari')\n",
    "e1.first = 'jamy'\n",
    "print(e1.first)\n",
    "print(e1.last)\n",
    "print(e1.email)\n",
    "print(e1.fullname())\n",
    "# whether we r changing first name of last name then email get changed automatically,so we use @property\n",
    "\n",
    "# e1.first = 'jamy' then it will only reflect in print(e1.first) and not in others like print(e1.email()),print(e1.last)\n",
    "# print(e1.fullname())\n",
    "# so we used @property method, ok and make fullname() as fullname(attribute) and email() as email(atttribute)"
   ]
  },
  {
   "cell_type": "code",
   "execution_count": 3,
   "metadata": {},
   "outputs": [
    {
     "name": "stdout",
     "output_type": "stream",
     "text": [
      "jai\n",
      "Tiwari\n",
      "jai.Tiwari@gmail.com\n",
      "Corey schafer\n"
     ]
    }
   ],
   "source": [
    "class employees:\n",
    "    def __init__(self, first,last):\n",
    "        self.first = first\n",
    "        self.last =last\n",
    "    @property    \n",
    "    def email(self):\n",
    "        return '{}.{}@gmail.com'.format(self.first, self.last)\n",
    "    @property\n",
    "    def fullname(self):\n",
    "        return '{} {}'.format(self.first, self.last)\n",
    "    @fullname.setter\n",
    "    def fullname(self, name):\n",
    "        first, last = name.split(\" \")\n",
    "        self.first =first\n",
    "        self.last = last\n",
    "        \n",
    "    \n",
    "e1 = employees('jai','Tiwari')\n",
    "e1.fullname = 'Corey schafer'\n",
    "print(e1.first)\n",
    "print(e1.last)\n",
    "print(e1.email)\n",
    "print(e1.fullname)"
   ]
  },
  {
   "cell_type": "code",
   "execution_count": 4,
   "metadata": {},
   "outputs": [
    {
     "name": "stdout",
     "output_type": "stream",
     "text": [
      "Corey\n",
      "schafer\n",
      "Corey.schafer@gmail.com\n",
      "Corey schafer\n",
      "Delete Name:\n",
      "None\n",
      "schafer\n"
     ]
    }
   ],
   "source": [
    "class employees:\n",
    "    def __init__(self, first,last):\n",
    "        self.first = first\n",
    "        self.last =last\n",
    "    @property    \n",
    "    def email(self):\n",
    "        return '{}.{}@gmail.com'.format(self.first, self.last)\n",
    "    @property\n",
    "    def fullname(self):\n",
    "        return '{} {}'.format(self.first, self.last)\n",
    "    @fullname.setter\n",
    "    def fullname(self, name):\n",
    "        first, last = name.split(\" \")\n",
    "        self.first =first\n",
    "        self.last = last\n",
    "    @fullname.deleter\n",
    "    def fullname(self):\n",
    "        print('Delete Name:')\n",
    "        self.first = None\n",
    "        self.Last = None\n",
    "        \n",
    "    \n",
    "e1 = employees('jai','Tiwari')\n",
    "e1.fullname = 'Corey schafer'\n",
    "print(e1.first)\n",
    "print(e1.last)\n",
    "print(e1.email)\n",
    "print(e1.fullname)\n",
    "del e1.fullname\n",
    "print(e1.first)\n",
    "print(e1.last)"
   ]
  },
  {
   "cell_type": "code",
   "execution_count": null,
   "metadata": {},
   "outputs": [],
   "source": []
  }
 ],
 "metadata": {
  "kernelspec": {
   "display_name": "Python 3",
   "language": "python",
   "name": "python3"
  },
  "language_info": {
   "codemirror_mode": {
    "name": "ipython",
    "version": 3
   },
   "file_extension": ".py",
   "mimetype": "text/x-python",
   "name": "python",
   "nbconvert_exporter": "python",
   "pygments_lexer": "ipython3",
   "version": "3.8.5"
  }
 },
 "nbformat": 4,
 "nbformat_minor": 4
}
