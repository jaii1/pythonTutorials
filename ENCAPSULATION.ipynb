{
 "cells": [
  {
   "cell_type": "code",
   "execution_count": null,
   "metadata": {},
   "outputs": [],
   "source": [
    "# Encapsulation refers to wrapping up of data under a single unit\n",
    "# benifits:data hiding, reusability"
   ]
  },
  {
   "cell_type": "code",
   "execution_count": null,
   "metadata": {},
   "outputs": [],
   "source": [
    "# In python we do not have any private method, but we can use __(double underscore)naming convention to make private method\n",
    "# and it can access private variable"
   ]
  },
  {
   "cell_type": "code",
   "execution_count": 4,
   "metadata": {},
   "outputs": [
    {
     "name": "stdout",
     "output_type": "stream",
     "text": [
      "machine learning\n",
      "python\n",
      "machine learningpython\n"
     ]
    }
   ],
   "source": [
    "class Edureka():\n",
    "    def __init__(self):\n",
    "        self.course = \"machine learning\"\n",
    "        self.tech  = \"python\"\n",
    "    def courseName(self):\n",
    "        return self.course +  self.tech\n",
    "ob = Edureka()\n",
    "ob.course\n",
    "ob.tech\n",
    "# ob.courseName()\n",
    "print(ob.course)\n",
    "print(ob.tech)\n",
    "print(ob.courseName())"
   ]
  },
  {
   "cell_type": "code",
   "execution_count": 8,
   "metadata": {},
   "outputs": [
    {
     "name": "stdout",
     "output_type": "stream",
     "text": [
      "python\n",
      "Machine Learning\n",
      "pythonMachine Learning\n"
     ]
    }
   ],
   "source": [
    "class Edureka():\n",
    "    def __init__(self):\n",
    "        self.course =\"python\"\n",
    "        self.__tech = \"Machine Learning\"\n",
    "    def CourseName(self):\n",
    "        return self.course + self.__tech\n",
    "ob = Edureka()\n",
    "print(ob.course)\n",
    "print(ob._Edureka__tech)\n",
    "print(ob.CourseName())\n",
    ".__tech now becomes private variable by using __(duoble underscore)namespace which is access by using ._Edureka class"
   ]
  },
  {
   "cell_type": "code",
   "execution_count": 45,
   "metadata": {},
   "outputs": [
    {
     "data": {
      "text/plain": [
       "'python:sklearn'"
      ]
     },
     "execution_count": 45,
     "metadata": {},
     "output_type": "execute_result"
    }
   ],
   "source": [
    "# WE CAN ALSO ACCESS PRIVATE VARIABLE(to initialize the instance of class) BY USING GETTER ANFD SETTER METHOD\n",
    "class Edureka():\n",
    "    def __init__(self):\n",
    "        self.course = \"python\"\n",
    "        self.__tech = \"machine Learning\"\n",
    "    def CourseName(self):\n",
    "        return self.course + \":\" + self.__tech\n",
    "    def get__tech(self):\n",
    "        return self.__tech\n",
    "    def set__tech(self, t):\n",
    "        self.__tech =t\n",
    "ob = Edureka()\n",
    "# ob.CourseName()\n",
    "# ob.course\n",
    "# ob.get__tech()\n",
    "ob.set__tech(\"sklearn\")\n",
    "ob.get__tech()\n",
    "\n",
    "ob.CourseName()\n",
    "\n",
    "# ob.set_tech(\"sklearn\")\n",
    "# ob.CourseName()"
   ]
  },
  {
   "cell_type": "code",
   "execution_count": null,
   "metadata": {},
   "outputs": [],
   "source": [
    "WHATEVER NUMBER YOU ARE TAKING ..2 DIGIT NUMBER OR 4 DIGIT OR 6 DIGIT NUMBER ETC \n",
    "FIRST DIVIDE NUMBER INTO EQUAL PARTS AND THEN ADDITION OF FIRST PART IS EQUAL TO ADITION OF SECOND PART\n",
    "Eg = 3425, 1212,44,55,123123 so to check it see below program"
   ]
  },
  {
   "cell_type": "code",
   "execution_count": 43,
   "metadata": {},
   "outputs": [
    {
     "name": "stdout",
     "output_type": "stream",
     "text": [
      "Enter the number3425\n",
      "yes\n"
     ]
    }
   ],
   "source": [
    "n = int(input(\"Enter the number\"))\n",
    "sum1 = 0\n",
    "sum2  =0\n",
    "for i in range(len(str(n))//2):\n",
    "    sum1 = sum1 + int(str(n)[i])\n",
    "for i in range(len(str(n))//2, len(str(n))):\n",
    "    sum2 = sum2 +int(str(n)[i])\n",
    "if sum1 == sum2:\n",
    "       print(\"yes\")\n",
    "else:\n",
    "    print(\"no\")\n",
    "\n",
    " \n",
    "\n"
   ]
  },
  {
   "cell_type": "code",
   "execution_count": 5,
   "metadata": {},
   "outputs": [
    {
     "name": "stdout",
     "output_type": "stream",
     "text": [
      "jai\n",
      "004\n",
      "My name is jai and\n",
      " my age is 004\n",
      "None\n"
     ]
    }
   ],
   "source": [
    "class Employee():\n",
    "    name  =\"jai\"\n",
    "    id = '004'\n",
    "    def Display(self):\n",
    "        print(\"My name is {} and\\n my age is {}\".format(self.name, self.id))\n",
    "emp = Employee()\n",
    "print(emp.name)\n",
    "print(emp.id)\n",
    "print(emp.Display())"
   ]
  },
  {
   "cell_type": "code",
   "execution_count": null,
   "metadata": {},
   "outputs": [],
   "source": []
  },
  {
   "cell_type": "code",
   "execution_count": null,
   "metadata": {},
   "outputs": [],
   "source": []
  }
 ],
 "metadata": {
  "kernelspec": {
   "display_name": "Python 3",
   "language": "python",
   "name": "python3"
  },
  "language_info": {
   "codemirror_mode": {
    "name": "ipython",
    "version": 3
   },
   "file_extension": ".py",
   "mimetype": "text/x-python",
   "name": "python",
   "nbconvert_exporter": "python",
   "pygments_lexer": "ipython3",
   "version": "3.8.5"
  }
 },
 "nbformat": 4,
 "nbformat_minor": 4
}
