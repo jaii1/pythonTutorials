{
 "cells": [
  {
   "cell_type": "code",
   "execution_count": null,
   "metadata": {},
   "outputs": [],
   "source": [
    "suppose we are in first_module.py file, writing given codes there"
   ]
  },
  {
   "cell_type": "code",
   "execution_count": 12,
   "metadata": {},
   "outputs": [
    {
     "name": "stdout",
     "output_type": "stream",
     "text": [
      "jai ho!\n",
      "data analysis library is pandas\n",
      "__main__\n",
      "first filename:__main__\n"
     ]
    }
   ],
   "source": [
    "print(\"jai ho!\")\n",
    "print(\"data analysis library is pandas\")\n",
    "c=24\n",
    "def areaoftriangle(base,height):\n",
    "    return 1/2*(base*height)\n",
    "def sum(a,b):\n",
    "    return a+b\n",
    "print(__name__)\n",
    "print(\"first filename:{}\".format(__name__))\n",
    "# below print by commenting out function otherqwise show error"
   ]
  },
  {
   "cell_type": "code",
   "execution_count": null,
   "metadata": {},
   "outputs": [],
   "source": [
    "suppose we are in second_module.py"
   ]
  },
  {
   "cell_type": "code",
   "execution_count": 10,
   "metadata": {},
   "outputs": [
    {
     "name": "stdout",
     "output_type": "stream",
     "text": [
      "Second filename is __main__\n"
     ]
    }
   ],
   "source": [
    "import first_module\n",
    "x = first_module.areaoftriangle(4,12)\n",
    "print(x)\n",
    "y= first_module.sum(5,6)\n",
    "print(y)\n",
    "print(\"c\")\n",
    "print(\"Second filename is {}\".format(__name__))\n",
    "# As we imported first module here,it will show name of file instead of '__main__', it  show in output below\n",
    "# \"jai ho!\"\n",
    "# data analysis library is pandas\n",
    "# 'first module'\n",
    "# first filename:first_module\n",
    "# def areaoftriangle(base,height):\n",
    "#     return 1/2*(base*height)\n",
    "# def sum(a,b):\n",
    "#     return a+b"
   ]
  },
  {
   "cell_type": "code",
   "execution_count": 14,
   "metadata": {},
   "outputs": [
    {
     "name": "stdout",
     "output_type": "stream",
     "text": [
      "jai24\n",
      "data analysis library is pandas\n",
      "__main__\n",
      "first filename:jaitiwari\n"
     ]
    }
   ],
   "source": [
    "# now we are  again in first_module.py\n",
    "print(\"jai24\")\n",
    "print(\"data analysis library is pandas\")\n",
    "c=24\n",
    "def main(name='jaitiwari'):\n",
    "    print(__name__)\n",
    "    print(\"first filename:{}\".format(name))\n",
    "if __name__ ==\"__main__\":\n",
    "    main()"
   ]
  },
  {
   "cell_type": "code",
   "execution_count": 4,
   "metadata": {},
   "outputs": [
    {
     "name": "stdout",
     "output_type": "stream",
     "text": [
      "second filename:__main__\n"
     ]
    }
   ],
   "source": [
    "# NOW we are in again second_module.py\n",
    "# import first_module\n",
    "print(\"second filename:{}\".format(__name__))\n",
    "\n",
    "# this time this file only print 'jai24',print statemen and c from first_module and output of second_module for sure\n",
    "# It means when you import the file,then the file which is imported will only print those statement outside its main()method \n",
    "#  which is there in file for eg =\"jai24\" ,but will not print wat is there inside main()method.\n"
   ]
  },
  {
   "cell_type": "code",
   "execution_count": 5,
   "metadata": {},
   "outputs": [
    {
     "name": "stdout",
     "output_type": "stream",
     "text": [
      "jai\n",
      "Run directly\n"
     ]
    }
   ],
   "source": [
    "# NOW WE ARE AGAIN IN FIRST_MODULE\n",
    "print(\"jai\")\n",
    "if __name__ == \"__main__\":\n",
    "    print(\"Run directly\")\n",
    "else:\n",
    "    print(\"Run Indirectly\")"
   ]
  },
  {
   "cell_type": "code",
   "execution_count": 6,
   "metadata": {},
   "outputs": [
    {
     "name": "stdout",
     "output_type": "stream",
     "text": [
      "second filename:__main__\n"
     ]
    }
   ],
   "source": [
    "# NOW WE ARE AGAIN IN SECOND_MODULE\n",
    "# import first_module\n",
    "print(\"second filename:{}\".format(__name__))\n",
    "\n",
    "# HERE,from first_module it will print 'jai' AND 'run indirectly' statement and output of second_module ofcourse"
   ]
  },
  {
   "cell_type": "code",
   "execution_count": null,
   "metadata": {},
   "outputs": [],
   "source": [
    "# NOW WE ARE AGAIN IN SECOND_MODULE\n",
    "# THIS TIME, WE WANT TO PRINT WAT IS THERE INSIDE MAIN() FUNCTION IN FIRST_MODULE, PRINT THAT HERE IN SECOND MODULE, ok\n",
    "import first_module\n",
    "first_module.main()\n",
    "\n",
    "\n",
    "print(\"second filename:{}\".format(__name__))\n",
    "\n",
    "# NOW IT WILL PRINT ALL STATEMENT OF FIRST_MODULE\n"
   ]
  }
 ],
 "metadata": {
  "kernelspec": {
   "display_name": "Python 3",
   "language": "python",
   "name": "python3"
  },
  "language_info": {
   "codemirror_mode": {
    "name": "ipython",
    "version": 3
   },
   "file_extension": ".py",
   "mimetype": "text/x-python",
   "name": "python",
   "nbconvert_exporter": "python",
   "pygments_lexer": "ipython3",
   "version": "3.8.5"
  }
 },
 "nbformat": 4,
 "nbformat_minor": 4
}
