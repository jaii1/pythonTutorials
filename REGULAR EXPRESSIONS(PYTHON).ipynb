{
 "cells": [
  {
   "cell_type": "code",
   "execution_count": null,
   "metadata": {},
   "outputs": [],
   "source": [
    "REGULAR EXPRESSION"
   ]
  },
  {
   "cell_type": "code",
   "execution_count": null,
   "metadata": {},
   "outputs": [],
   "source": [
    "REGULAR EXPRESSION:=To Represent sequence of characters in any particular pattern\n",
    "I we want to represent a group of strings to a particular pattern then we should go for Regular expression\n",
    "We can write R.E to repesent all mobile numbers\n",
    "to represent all mailID\n",
    "to represent password\n",
    "to represent movie name start with \"a\" end with \"h\""
   ]
  },
  {
   "cell_type": "code",
   "execution_count": null,
   "metadata": {},
   "outputs": [],
   "source": [
    "import re\n",
    "pattern = re.compile('python')\n",
    "matcher = pattern.finditer(\"Learning python is very easy\")\n",
    "remember\n",
    "start()=start index[0]\n",
    "end()=end+1\n",
    "group()=the pattern which u r searching\n",
    "finditer\n",
    "compile"
   ]
  },
  {
   "cell_type": "code",
   "execution_count": 5,
   "metadata": {},
   "outputs": [
    {
     "name": "stdout",
     "output_type": "stream",
     "text": [
      "<callable_iterator object at 0x00000221B448DD90>\n",
      "match is availiable at start index 0\n",
      "match is availiable at start index 3\n",
      "match is availiable at start index 5\n",
      "The number of occurance 3\n"
     ]
    }
   ],
   "source": [
    "import re\n",
    "count = 0\n",
    "pattern = re.compile('ab')\n",
    "matcher = pattern.finditer('abaababa')\n",
    "print(matcher)\n",
    "for match in matcher:\n",
    "    count +=1\n",
    "    print(\"match is availiable at start index\",match.start())\n",
    "print(\"The number of occurance\", count)"
   ]
  },
  {
   "cell_type": "code",
   "execution_count": null,
   "metadata": {},
   "outputs": [],
   "source": [
    "OR WE CAN WRITE LIKE THIS"
   ]
  },
  {
   "cell_type": "code",
   "execution_count": 11,
   "metadata": {},
   "outputs": [
    {
     "name": "stdout",
     "output_type": "stream",
     "text": [
      "<callable_iterator object at 0x00000214D239EDF0>\n",
      "start position of ab:0\n",
      "start position of ab:3\n",
      "start position of ab:5\n",
      "Number of Occurance 3\n"
     ]
    }
   ],
   "source": [
    "import re\n",
    "count = 0\n",
    "matcher = re.finditer('ab','abaababa')\n",
    "print(matcher)\n",
    "for m in matcher:\n",
    "    count +=1\n",
    "    print(\"start position of ab:{}\".format(m.start()))\n",
    "print(\"Number of Occurance\", count)"
   ]
  },
  {
   "cell_type": "code",
   "execution_count": 1,
   "metadata": {},
   "outputs": [
    {
     "name": "stdout",
     "output_type": "stream",
     "text": [
      "start:0 end:2 group:ab\n",
      "start:3 end:5 group:ab\n",
      "start:5 end:7 group:ab\n",
      "The number of occurance 3\n"
     ]
    }
   ],
   "source": [
    "import re\n",
    "count = 0\n",
    "pattern = re.compile('ab')\n",
    "matcher = pattern.finditer('abaababa')\n",
    "for m in matcher:\n",
    "    count +=1\n",
    "    print(\"start:{} end:{} group:{}\".format(m.start(),m.end(),m.group()))\n",
    "print(\"The number of occurance\", count) "
   ]
  },
  {
   "cell_type": "code",
   "execution_count": 3,
   "metadata": {},
   "outputs": [
    {
     "name": "stdout",
     "output_type": "stream",
     "text": [
      "start:1 end:3 group:ba\n",
      "start:4 end:6 group:ba\n",
      "start:6 end:8 group:ba\n",
      "The number occurance 3\n"
     ]
    }
   ],
   "source": [
    "import re\n",
    "count = 0\n",
    "pattern = re.compile('ba')\n",
    "matcher = pattern.finditer('abaababa')\n",
    "for m in matcher:\n",
    "    count+=1\n",
    "    print(\"start:{} end:{} group:{}\".format(m.start(),m.end(),m.group()))\n",
    "print(\"The number occurance\", count)    "
   ]
  },
  {
   "cell_type": "code",
   "execution_count": 4,
   "metadata": {},
   "outputs": [
    {
     "name": "stdout",
     "output_type": "stream",
     "text": [
      "The number occurance 0\n"
     ]
    }
   ],
   "source": [
    "import re\n",
    "count = 0\n",
    "pattern = re.compile('bb')\n",
    "matcher = pattern.finditer('abaababa')\n",
    "for m in matcher:\n",
    "    count+=1\n",
    "    print(\"start:{} end:{} group:{}\".format(m.start(),m.end(),m.group()))\n",
    "print(\"The number occurance\", count)    "
   ]
  },
  {
   "cell_type": "code",
   "execution_count": null,
   "metadata": {},
   "outputs": [],
   "source": [
    "CHARACTER CLASSES\n",
    "searching for [abc]=either a or b or c\n",
    "[^abc](except a and b and c)\n",
    "[a-z] search for any lower case alphabet symbol\n",
    "[A-Z]Can u search for upper case alphabet symbol\n",
    "[a-zA-Z]=Any alphabet symbol.\n",
    "[0-9]\n",
    "[a-zA-Z0-9]searching for any alpha-numeric character\n",
    "[^a-zA-Z0-9]searching any alpha-numeric character except this\n",
    "group()=It returns the matched item(eg like 'a' is matched at index 0, so it brings both 'a' and its position)"
   ]
  },
  {
   "cell_type": "code",
   "execution_count": 6,
   "metadata": {},
   "outputs": [
    {
     "name": "stdout",
     "output_type": "stream",
     "text": [
      "0 .... a\n",
      "2 .... b\n"
     ]
    }
   ],
   "source": [
    "import re\n",
    "pattern = re.compile('[abc]')\n",
    "matcher = pattern.finditer('a7b@k9z')\n",
    "for m in matcher:\n",
    "    print(m.start(),'....',m.group())"
   ]
  },
  {
   "cell_type": "code",
   "execution_count": 9,
   "metadata": {},
   "outputs": [
    {
     "name": "stdout",
     "output_type": "stream",
     "text": [
      "1 .... 7\n",
      "3 .... @\n",
      "4 .... k\n",
      "5 .... 9\n",
      "6 .... z\n"
     ]
    }
   ],
   "source": [
    "import re\n",
    "pattern = re.compile('[^abc]')\n",
    "matcher = pattern.finditer('a7b@k9z')\n",
    "for m in matcher:\n",
    "    print(m.start(),'....',m.group())"
   ]
  },
  {
   "cell_type": "code",
   "execution_count": 10,
   "metadata": {},
   "outputs": [
    {
     "name": "stdout",
     "output_type": "stream",
     "text": [
      "1 ... 7\n",
      "3 ... 8\n",
      "6 ... 9\n"
     ]
    }
   ],
   "source": [
    "import re\n",
    "pattern = re.compile('[0-9]')\n",
    "matcher = pattern.finditer('a7b8@k9z')\n",
    "for m in matcher:\n",
    "    print(m.start(),'...',m.group())"
   ]
  },
  {
   "cell_type": "code",
   "execution_count": 3,
   "metadata": {},
   "outputs": [
    {
     "name": "stdout",
     "output_type": "stream",
     "text": [
      "8 ... Y\n"
     ]
    }
   ],
   "source": [
    "import re\n",
    "pattern = re.compile('[A-Z]')\n",
    "matcher = pattern.finditer('a7b8@k9zY')\n",
    "for m in matcher:\n",
    "    print(m.start(),'...',m.group())"
   ]
  },
  {
   "cell_type": "code",
   "execution_count": 6,
   "metadata": {},
   "outputs": [
    {
     "name": "stdout",
     "output_type": "stream",
     "text": [
      "0 .... a\n",
      "1 .... 7\n",
      "2 .... b\n",
      "3 .... 8\n",
      "5 .... k\n",
      "6 .... 9\n",
      "7 .... z\n",
      "8 .... Y\n"
     ]
    }
   ],
   "source": [
    "import re\n",
    "pattern = re.compile('[a-zA-Z0-9]')\n",
    "matcher = pattern.finditer('a7b8@k9zY')\n",
    "for m in matcher:\n",
    "    print(m.start(),'....',m.group())"
   ]
  },
  {
   "cell_type": "code",
   "execution_count": null,
   "metadata": {},
   "outputs": [],
   "source": [
    "\\s =space character\n",
    "\\S = except space character\n",
    "\\d for any digit[0-9]\n",
    "\\D except digit\n",
    "\\w =Any word character(alpha numeric character)[a-zA-Z0-9]\n",
    "\\W =Any character except word(special character)[^a-zA-Z0-9]\n",
    ". = every character"
   ]
  },
  {
   "cell_type": "code",
   "execution_count": 1,
   "metadata": {},
   "outputs": [
    {
     "name": "stdout",
     "output_type": "stream",
     "text": [
      "3 ....  \n",
      "8 ....  \n"
     ]
    }
   ],
   "source": [
    "import re\n",
    "pattern = re.compile('\\s')\n",
    "matcher = pattern.finditer(\"a7b @k9z gj\")\n",
    "for m in matcher:\n",
    "    print(m.start(),\"....\",m.group())"
   ]
  },
  {
   "cell_type": "code",
   "execution_count": 2,
   "metadata": {},
   "outputs": [
    {
     "name": "stdout",
     "output_type": "stream",
     "text": [
      "0 ... a\n",
      "1 ... 7\n",
      "2 ... b\n",
      "4 ... @\n",
      "5 ... k\n",
      "6 ... 9\n",
      "7 ... z\n",
      "9 ... g\n",
      "10 ... j\n"
     ]
    }
   ],
   "source": [
    "import re\n",
    "pattern = re.compile('\\S')\n",
    "matcher = pattern.finditer(\"a7b @k9z gj\")\n",
    "for m in matcher:\n",
    "    print(m.start(),\"...\",m.group())\n",
    "    "
   ]
  },
  {
   "cell_type": "code",
   "execution_count": 3,
   "metadata": {},
   "outputs": [
    {
     "name": "stdout",
     "output_type": "stream",
     "text": [
      "0 ... a\n",
      "1 ... 7\n",
      "2 ... b\n",
      "5 ... k\n",
      "6 ... 9\n",
      "7 ... z\n",
      "9 ... G\n",
      "10 ... j\n"
     ]
    }
   ],
   "source": [
    "import re\n",
    "pattern = re.compile('\\w')\n",
    "matcher = pattern.finditer(\"a7b @k9z Gj\")\n",
    "for m in matcher:\n",
    "    print(m.start(),\"...\",m.group())\n",
    "    "
   ]
  },
  {
   "cell_type": "code",
   "execution_count": 4,
   "metadata": {},
   "outputs": [
    {
     "name": "stdout",
     "output_type": "stream",
     "text": [
      "3 ....  \n",
      "4 .... @\n",
      "8 ....  \n"
     ]
    }
   ],
   "source": [
    "# '\\W'=means only special character like @,space,etc\n",
    "\n",
    "import re\n",
    "pattern = re.compile('\\W')\n",
    "matcher = pattern.finditer(\"a7b @k9z Gj\")\n",
    "for m in matcher:\n",
    "    print(m.start(),\"....\",m.group())"
   ]
  },
  {
   "cell_type": "code",
   "execution_count": 5,
   "metadata": {},
   "outputs": [
    {
     "name": "stdout",
     "output_type": "stream",
     "text": [
      "1 .... 7\n",
      "6 .... 9\n"
     ]
    }
   ],
   "source": [
    "import re\n",
    "pattern = re.compile('\\d')\n",
    "matcher = pattern.finditer(\"a7b @k9z Gj\")\n",
    "for m in matcher:\n",
    "    print(m.start(),\"....\",m.group())"
   ]
  },
  {
   "cell_type": "code",
   "execution_count": 6,
   "metadata": {},
   "outputs": [
    {
     "name": "stdout",
     "output_type": "stream",
     "text": [
      "0 ... a\n",
      "2 ... b\n",
      "3 ...  \n",
      "4 ... @\n",
      "5 ... k\n",
      "7 ... z\n",
      "8 ...  \n",
      "9 ... G\n",
      "10 ... j\n"
     ]
    }
   ],
   "source": [
    "import re\n",
    "pattern = re.compile('\\D')\n",
    "matcher = pattern.finditer(\"a7b @k9z Gj\")\n",
    "for m in matcher:\n",
    "    print(m.start(),\"...\",m.group())"
   ]
  },
  {
   "cell_type": "code",
   "execution_count": 7,
   "metadata": {},
   "outputs": [
    {
     "name": "stdout",
     "output_type": "stream",
     "text": [
      "0 ... A\n",
      "1 ... b\n",
      "2 ... c\n",
      "3 ...  \n",
      "4 ... @\n",
      "5 ... 5\n",
      "6 ... 3\n"
     ]
    }
   ],
   "source": [
    "import re\n",
    "pattern = re.compile(\".\")\n",
    "matcher = pattern.finditer(\"Abc @53\")\n",
    "for m in matcher:\n",
    "    print(m.start(),\"...\",m.group())"
   ]
  },
  {
   "cell_type": "code",
   "execution_count": 8,
   "metadata": {},
   "outputs": [
    {
     "name": "stdout",
     "output_type": "stream",
     "text": [
      "0 .... a\n",
      "2 .... a\n",
      "3 .... a\n",
      "5 .... a\n",
      "6 .... a\n",
      "7 .... a\n"
     ]
    }
   ],
   "source": [
    "import re\n",
    "pattern = re.compile(\"a\")\n",
    "matcher = pattern.finditer(\"abaabaaab\")\n",
    "for m in matcher:\n",
    "    print(m.start(),\"....\",m.group())"
   ]
  },
  {
   "cell_type": "code",
   "execution_count": null,
   "metadata": {},
   "outputs": [],
   "source": [
    "QUANTIFIERS\n",
    "a = finding all \"a\"\n",
    "a+ = It will count \"a\" ,like \"a\" as 1, \"aa\" as 2, \"aaa\" as 3\n",
    "so total 3 counts of \"a\"\n",
    "a* = any number of a's including zero also\n",
    "a?=atmost one \"a\"\n",
    "either one a or zero number of 'a's\n",
    "a{n}==Exactly n mumber of a's(e.g=suppose a{3}means we have to count a with \"aaa\")\n",
    "a{m,n}=eg=a{1,2}=count 1 times and 2 times \"a\" only i.e \"a\",\"aa\"\n",
    "[^a]=except \"a\"\n",
    "^a = Tt will chk whether the given target string starts with \"a\" or not.\n",
    "a$ = It will check whether targt string ends with a or not."
   ]
  },
  {
   "cell_type": "code",
   "execution_count": 66,
   "metadata": {},
   "outputs": [
    {
     "name": "stdout",
     "output_type": "stream",
     "text": [
      "0 .... a\n",
      "2 .... aa\n",
      "5 .... aaa\n",
      "9 .... aa\n"
     ]
    }
   ],
   "source": [
    "import re\n",
    "pattern = re.compile(\"a+\")\n",
    "matcher = pattern.finditer(\"abaabaaabaa\")\n",
    "for m in matcher:\n",
    "    print(m.start(),\"....\",m.group())    "
   ]
  },
  {
   "cell_type": "code",
   "execution_count": 10,
   "metadata": {},
   "outputs": [
    {
     "name": "stdout",
     "output_type": "stream",
     "text": [
      "0 .... a\n",
      "1 .... \n",
      "2 .... aa\n",
      "4 .... \n",
      "5 .... aaa\n",
      "8 .... \n",
      "9 .... \n"
     ]
    }
   ],
   "source": [
    "import re\n",
    "pattern = re.compile(\"a*\")\n",
    "matcher = pattern.finditer(\"abaabaaab\")\n",
    "for m in matcher:\n",
    "    print(m.start(),\"....\",m.group())    "
   ]
  },
  {
   "cell_type": "code",
   "execution_count": 11,
   "metadata": {},
   "outputs": [
    {
     "name": "stdout",
     "output_type": "stream",
     "text": [
      "0 .... a\n",
      "1 .... \n",
      "2 .... a\n",
      "3 .... a\n",
      "4 .... \n",
      "5 .... a\n",
      "6 .... a\n",
      "7 .... a\n",
      "8 .... \n",
      "9 .... \n"
     ]
    }
   ],
   "source": [
    "import re\n",
    "pattern = re.compile(\"a?\")\n",
    "matcher = pattern.finditer(\"abaabaaab\")\n",
    "for m in matcher:\n",
    "    print(m.start(),\"....\",m.group()) "
   ]
  },
  {
   "cell_type": "code",
   "execution_count": null,
   "metadata": {},
   "outputs": [],
   "source": [
    "import re\n",
    "pattern = re.compile(\"a?\")\n",
    "matcher = pattern.finditer(\"abaabaaab\")\n",
    "for m in matcher:\n",
    "    print(m.start(),\"....\",m.group()) "
   ]
  },
  {
   "cell_type": "code",
   "execution_count": 15,
   "metadata": {},
   "outputs": [
    {
     "name": "stdout",
     "output_type": "stream",
     "text": [
      "2 .... aa\n",
      "5 .... aa\n",
      "\n",
      "5 .... aaa\n"
     ]
    }
   ],
   "source": [
    "import re\n",
    "pattern = re.compile(\"a{2}\")\n",
    "matcher = pattern.finditer(\"abaabaaab\")\n",
    "for m in matcher:\n",
    "    print(m.start(),\"....\",m.group()) \n",
    "print()\n",
    "    \n",
    "import re\n",
    "pattern = re.compile(\"a{3}\")\n",
    "matcher = pattern.finditer(\"abaabaaab\")\n",
    "for m in matcher:\n",
    "    print(m.start(),\"....\",m.group()) "
   ]
  },
  {
   "cell_type": "code",
   "execution_count": 17,
   "metadata": {},
   "outputs": [
    {
     "name": "stdout",
     "output_type": "stream",
     "text": [
      "2 .... aa\n",
      "5 .... aaa\n"
     ]
    }
   ],
   "source": [
    "import re\n",
    "pattern = re.compile(\"a{2,3}\")\n",
    "matcher = pattern.finditer(\"abaabaaab\")\n",
    "for m in matcher:\n",
    "    print(m.start(),\"....\",m.group()) \n"
   ]
  },
  {
   "cell_type": "code",
   "execution_count": 19,
   "metadata": {},
   "outputs": [
    {
     "name": "stdout",
     "output_type": "stream",
     "text": [
      "8 .... a\n"
     ]
    }
   ],
   "source": [
    "import re\n",
    "pattern = re.compile(\"a$\")\n",
    "matcher = pattern.finditer(\"abaabaaaa\")\n",
    "for m in matcher:\n",
    "    print(m.start(),\"....\",m.group()) \n",
    "# should end with a or not"
   ]
  },
  {
   "cell_type": "code",
   "execution_count": 21,
   "metadata": {},
   "outputs": [
    {
     "name": "stdout",
     "output_type": "stream",
     "text": [
      "7 .... b\n"
     ]
    }
   ],
   "source": [
    "import re\n",
    "pattern = re.compile(\"b$\")\n",
    "matcher = pattern.finditer(\"abaabaab\")\n",
    "for m in matcher:\n",
    "    print(m.start(),\"....\",m.group())"
   ]
  },
  {
   "cell_type": "code",
   "execution_count": 22,
   "metadata": {},
   "outputs": [
    {
     "name": "stdout",
     "output_type": "stream",
     "text": [
      "0 .... a\n"
     ]
    }
   ],
   "source": [
    "import re\n",
    "pattern = re.compile(\"^a\")\n",
    "matcher = pattern.finditer(\"abaabaab\")\n",
    "for m in matcher:\n",
    "    print(m.start(),\"....\",m.group())"
   ]
  },
  {
   "cell_type": "code",
   "execution_count": null,
   "metadata": {},
   "outputs": [],
   "source": [
    "MATCH():To chk the given pattern at beginning of the target string, If then returns match object otherwise it returns none"
   ]
  },
  {
   "cell_type": "code",
   "execution_count": 34,
   "metadata": {},
   "outputs": [
    {
     "name": "stdout",
     "output_type": "stream",
     "text": [
      "Enter the pattern to match: abcd\n",
      "Match is avaiiable at the beginning of the string\n",
      "start:0 and end:4\n"
     ]
    }
   ],
   "source": [
    "import re\n",
    "s = input(\"Enter the pattern to match: \")\n",
    "m = re.match(s,'abcdefgh')\n",
    "if m!=None:\n",
    "    print(\"Match is avaiiable at the beginning of the string\")\n",
    "    print('start:{} and end:{}'.format(m.start(), m.end()))\n",
    "else:\n",
    "    print(\"match is not availiable at the beginning of the string\")"
   ]
  },
  {
   "cell_type": "code",
   "execution_count": 41,
   "metadata": {},
   "outputs": [
    {
     "name": "stdout",
     "output_type": "stream",
     "text": [
      "Enter the pattern to match: ab2gh\n",
      "match is not availiable at the beginning\n"
     ]
    }
   ],
   "source": [
    "import re\n",
    "s =  input(\"Enter the pattern to match: \")\n",
    "m = re.match(s,'ab1ghtyak')\n",
    "if m!=None:\n",
    "    print(\"Match is availiable at the beginning of the string\")\n",
    "    print(\"start:{} and end:{}\".format(m.start(),m.end()))\n",
    "else:\n",
    "    print(\"match is not availiable at the beginning\")"
   ]
  },
  {
   "cell_type": "code",
   "execution_count": 42,
   "metadata": {},
   "outputs": [
    {
     "name": "stdout",
     "output_type": "stream",
     "text": [
      "Enter the pattern to match: ghty\n",
      "match is not availiable at the beginning\n"
     ]
    }
   ],
   "source": [
    "import re\n",
    "s =  input(\"Enter the pattern to match: \")\n",
    "m = re.match(s,'ab1ghtyak')\n",
    "if m!=None:\n",
    "    print(\"Match is availiable at the beginning of the string\")\n",
    "    print(\"start:{} and end:{}\".format(m.start(),m.end()))\n",
    "else:\n",
    "    print(\"match is not availiable at the beginning\")"
   ]
  },
  {
   "cell_type": "code",
   "execution_count": null,
   "metadata": {},
   "outputs": [],
   "source": [
    "FINDITER()\n",
    "MATCH()\n",
    "FULLMATCH()\n",
    "SEARCH()\n",
    "FINDALL()     "
   ]
  },
  {
   "cell_type": "code",
   "execution_count": null,
   "metadata": {},
   "outputs": [],
   "source": [
    "FULLMATCH():match only when full string match i.e pattern should be exactly equal to target string"
   ]
  },
  {
   "cell_type": "code",
   "execution_count": 67,
   "metadata": {},
   "outputs": [
    {
     "name": "stdout",
     "output_type": "stream",
     "text": [
      "Enter the pattern: abcdkh\n",
      "full string match\n"
     ]
    }
   ],
   "source": [
    "import re\n",
    "s = input(\"Enter the pattern: \")\n",
    "m = re.fullmatch(s,'abcdkh')\n",
    "if m!=None:\n",
    "    print(\"full string match\")\n",
    "else:\n",
    "    print(\"full string not matched\")\n",
    "\n",
    "# here entire pattern should be'abcdkh' which is equal to target then it will be considered match,not more not less exactly\n",
    "# the same"
   ]
  },
  {
   "cell_type": "code",
   "execution_count": null,
   "metadata": {},
   "outputs": [],
   "source": [
    "SEARCH():=find pattern, which u give in the targeted string anywhere"
   ]
  },
  {
   "cell_type": "code",
   "execution_count": 58,
   "metadata": {},
   "outputs": [
    {
     "name": "stdout",
     "output_type": "stream",
     "text": [
      "enter the pattern: aaa\n",
      "Match is availiable\n",
      "Match is avaliable at start point:5 and at end point:8\n"
     ]
    }
   ],
   "source": [
    "import re\n",
    "s = input(\"enter the pattern: \")\n",
    "m = re.search(s, 'abaabaaab')\n",
    "if m!=None:\n",
    "    print(\"Match is availiable\")\n",
    "    print(\"Match is avaliable at start point:{} and at end point:{}\".format(m.start(),m.end()))\n",
    "else:\n",
    "    print(\"match is not availiable\")"
   ]
  },
  {
   "cell_type": "code",
   "execution_count": null,
   "metadata": {},
   "outputs": [],
   "source": [
    "FINDALL()"
   ]
  },
  {
   "cell_type": "code",
   "execution_count": 62,
   "metadata": {},
   "outputs": [
    {
     "name": "stdout",
     "output_type": "stream",
     "text": [
      "Enter the pattern: '[a-z]'\n",
      "The given pattern is: \n"
     ]
    }
   ],
   "source": [
    "import re\n",
    "s = input(\"Enter the pattern: \")\n",
    "m = re.findall(s,'a2b5c6d7e9')\n",
    "print(\"The given pattern is: \")\n",
    "# this format will not work"
   ]
  },
  {
   "cell_type": "code",
   "execution_count": 63,
   "metadata": {},
   "outputs": [
    {
     "name": "stdout",
     "output_type": "stream",
     "text": [
      "['a', 'b', 'c', 'd', 'e']\n"
     ]
    }
   ],
   "source": [
    "import re\n",
    "x = re.findall('[a-z]','a1b2c5d6e7D11H')\n",
    "print(x)"
   ]
  },
  {
   "cell_type": "code",
   "execution_count": 71,
   "metadata": {},
   "outputs": [
    {
     "name": "stdout",
     "output_type": "stream",
     "text": [
      "['a', 'b', 'c']\n"
     ]
    }
   ],
   "source": [
    "import re\n",
    "x = re.findall('[abc]','a1b2c5d6e7D11H')\n",
    "print(x)"
   ]
  },
  {
   "cell_type": "code",
   "execution_count": 64,
   "metadata": {},
   "outputs": [
    {
     "name": "stdout",
     "output_type": "stream",
     "text": [
      "['1', '2', '5', '6', '7', '1', '1']\n"
     ]
    }
   ],
   "source": [
    "import re\n",
    "x = re.findall('[0-9]','a1b2c5d6e7D11H')\n",
    "print(x)"
   ]
  },
  {
   "cell_type": "code",
   "execution_count": 65,
   "metadata": {},
   "outputs": [
    {
     "name": "stdout",
     "output_type": "stream",
     "text": [
      "['D', 'H']\n"
     ]
    }
   ],
   "source": [
    "import re\n",
    "x = re.findall('[A-Z]','a1b2c5d6e7D11H')\n",
    "print(x)"
   ]
  },
  {
   "cell_type": "code",
   "execution_count": 70,
   "metadata": {},
   "outputs": [
    {
     "name": "stdout",
     "output_type": "stream",
     "text": [
      "['#', ' ', '$']\n"
     ]
    }
   ],
   "source": [
    "import re\n",
    "m = re.findall('\\W', 'a7# sfj$9')\n",
    "print(m)"
   ]
  },
  {
   "cell_type": "code",
   "execution_count": 72,
   "metadata": {},
   "outputs": [
    {
     "name": "stdout",
     "output_type": "stream",
     "text": [
      "['7', '9']\n"
     ]
    }
   ],
   "source": [
    "import re\n",
    "m = re.findall('\\d', 'a7# sfj$9')\n",
    "print(m)"
   ]
  },
  {
   "cell_type": "code",
   "execution_count": 69,
   "metadata": {},
   "outputs": [
    {
     "name": "stdout",
     "output_type": "stream",
     "text": [
      "start:0:end:2:group:ab\n",
      "start:3:end:5:group:ab\n",
      "start:5:end:7:group:ab\n"
     ]
    }
   ],
   "source": [
    "import re\n",
    "matcher = re.finditer('ab', 'abaababa')\n",
    "for m in matcher:\n",
    "    print('start:{}:end:{}:group:{}'.format(m.start(),m.end(),m.group()))\n",
    "# We required loop in finditer() method"
   ]
  },
  {
   "cell_type": "code",
   "execution_count": null,
   "metadata": {},
   "outputs": [],
   "source": [
    "sub()=replacement"
   ]
  },
  {
   "cell_type": "code",
   "execution_count": 73,
   "metadata": {},
   "outputs": [
    {
     "name": "stdout",
     "output_type": "stream",
     "text": [
      "a#b#k#t#k\n"
     ]
    }
   ],
   "source": [
    "import re\n",
    "x = re.sub('\\d', '#','a7b9k5t9k')\n",
    "print(x)          "
   ]
  },
  {
   "cell_type": "code",
   "execution_count": 75,
   "metadata": {},
   "outputs": [
    {
     "name": "stdout",
     "output_type": "stream",
     "text": [
      "xxx1xxx6xxx8xxx9xxx\n",
      "<class 'str'>\n"
     ]
    }
   ],
   "source": [
    "import re\n",
    "x = re.sub('\\D', 'xxx', 'a1b6c8S9@')\n",
    "print(x)\n",
    "print(type(x))"
   ]
  },
  {
   "cell_type": "code",
   "execution_count": null,
   "metadata": {},
   "outputs": [],
   "source": [
    "Subn():-It returns a tuple in which first value is replacement result and second one is number of replacement\n",
    "i.e = (result, number of replacement)i.e = t[0],t[1]"
   ]
  },
  {
   "cell_type": "code",
   "execution_count": 78,
   "metadata": {},
   "outputs": [
    {
     "name": "stdout",
     "output_type": "stream",
     "text": [
      "('axxxbxxxkxxxtxxxk', 4)\n",
      "The result string axxxbxxxkxxxtxxxk\n",
      "The number of replacement 4\n",
      "<class 'tuple'>\n"
     ]
    }
   ],
   "source": [
    "import re\n",
    "x = re.subn('\\d','xxx', 'a7b9k5t9k')\n",
    "print(x)\n",
    "print(\"The result string\", x[0])\n",
    "print(\"The number of replacement\", x[1])\n",
    "print(type(x))"
   ]
  },
  {
   "cell_type": "code",
   "execution_count": null,
   "metadata": {},
   "outputs": [],
   "source": [
    "SPLIT()METHOD"
   ]
  },
  {
   "cell_type": "code",
   "execution_count": 81,
   "metadata": {},
   "outputs": [
    {
     "name": "stdout",
     "output_type": "stream",
     "text": [
      "['10', '20', '30', '40', '50', '60']\n"
     ]
    }
   ],
   "source": [
    "import re\n",
    "x = re.split('-', '10-20-30-40-50-60')\n",
    "print(x)\n",
    "# the result will show in List"
   ]
  },
  {
   "cell_type": "code",
   "execution_count": 86,
   "metadata": {},
   "outputs": [
    {
     "name": "stdout",
     "output_type": "stream",
     "text": [
      "www\n",
      "durgasoftvideos\n",
      "com\n"
     ]
    }
   ],
   "source": [
    "import re\n",
    "x = re.split('\\.', 'www.durgasoftvideos.com')\n",
    "for i in x:\n",
    "    print(i)\n",
    "\n",
    "# TO USE .(DOT) WE HAVE TO USE BLACKSLASH('\\') WITH .(DOT) OR '[.]'\n",
    "# here space is not a default dilimeter,we have to define it explicitly"
   ]
  },
  {
   "cell_type": "code",
   "execution_count": 84,
   "metadata": {},
   "outputs": [
    {
     "name": "stdout",
     "output_type": "stream",
     "text": [
      "['www', 'durgasoftvideos', 'com']\n"
     ]
    }
   ],
   "source": [
    "import re\n",
    "x = re.split('[.]','www.durgasoftvideos.com')\n",
    "print(x)"
   ]
  },
  {
   "cell_type": "code",
   "execution_count": 90,
   "metadata": {},
   "outputs": [
    {
     "name": "stdout",
     "output_type": "stream",
     "text": [
      "Target start with Learn\n"
     ]
    }
   ],
   "source": [
    "import re\n",
    "s = 'Learning python is very easy'\n",
    "res = re.search('^Learn', s)\n",
    "if res !=None:\n",
    "    print(\"Target start with Learn\")\n",
    "else:\n",
    "    print(\"Target string not start with Learn\")\n",
    "\n",
    "# Note: \"^f\" it means something start with 'f', similarly here statement start with 'Learn'"
   ]
  },
  {
   "cell_type": "code",
   "execution_count": 91,
   "metadata": {},
   "outputs": [
    {
     "name": "stdout",
     "output_type": "stream",
     "text": [
      "Target is end with Easy\n"
     ]
    }
   ],
   "source": [
    "import re\n",
    "s = 'Learn python is very Easy'\n",
    "x = re.search('Easy$', s)\n",
    "if x!=None:\n",
    "    print(\"Target is end with Easy\")\n",
    "else:\n",
    "    print(\"Target do not end with easy\")"
   ]
  },
  {
   "cell_type": "code",
   "execution_count": 92,
   "metadata": {},
   "outputs": [
    {
     "name": "stdout",
     "output_type": "stream",
     "text": [
      "Target is end with Easy\n"
     ]
    }
   ],
   "source": [
    "import re\n",
    "s = 'Learn python is very easy'\n",
    "x = re.search('Easy$', s, re.IGNORECASE)\n",
    "if x !=None:\n",
    "    print(\"Target is end with Easy\")\n",
    "else:\n",
    "    print(\"Target do not end with Easy\")\n",
    "    \n",
    "# Note:re.IGNORECASE wil ignore whether Easy is written as easy or EASY"
   ]
  },
  {
   "cell_type": "code",
   "execution_count": null,
   "metadata": {},
   "outputs": [],
   "source": [
    "Write a REgular expression\n",
    "\n",
    "ALL yava Language Identifiers\n",
    "RULES ARE\n",
    "\n",
    "1)The allowed characters are\n",
    "alphabets\n",
    "digits\n",
    "#\n",
    "\n",
    "2)First character should be lower case alphabet symbol\n",
    "from a to k\n",
    "\n",
    "3) The second character should be any digit divisible by 3\n",
    "4)The length of Identifier should be atleast 2\n",
    "\n",
    "answer is below\n",
    "[a-k][0369][a-zA-Z0-9#]*\n",
    "more example are\n",
    "d6a7#\n",
    "this is invalid = d6a7hghjg$\n",
    "here $ which is not there so it is invalid,so we use fullmatch()\n",
    "            \n",
    "# *=any number of times\n",
    "            \n",
    "# Now how we write above regular expression, we will see it                      "
   ]
  },
  {
   "cell_type": "code",
   "execution_count": 108,
   "metadata": {},
   "outputs": [
    {
     "name": "stdout",
     "output_type": "stream",
     "text": [
      "Enter the Identifier to validate: a9###\n",
      "a9### is a valid identifier\n"
     ]
    }
   ],
   "source": [
    "import re\n",
    "s = input(\"Enter the Identifier to validate: \")\n",
    "x = re.fullmatch('[a-k][0369][a-zA-Z0-9#]*',s)\n",
    "if x != None:\n",
    "    print(s,\"is a valid identifier\")\n",
    "else:\n",
    "    print(s, \"is not a valid identifier\")\n",
    "    \n",
    "# note:first should be between a&k and then number should be 0369 and then write any alphabet in upper or lower along with\n",
    "# numbers and #  or only write alphabet and numbers or only alphabet or only numbers"
   ]
  },
  {
   "cell_type": "code",
   "execution_count": 104,
   "metadata": {},
   "outputs": [
    {
     "name": "stdout",
     "output_type": "stream",
     "text": [
      "Enter the Identifier to validate: c3HJFGY\n",
      "c3HJFGY is a valid identifier\n"
     ]
    }
   ],
   "source": [
    "import re\n",
    "s = input(\"Enter the Identifier to validate: \")\n",
    "x = re.fullmatch('[a-k][0369][a-zA-Z0-9#]*',s)\n",
    "if x != None:\n",
    "    print(s,\"is a valid identifier\")\n",
    "else:\n",
    "    print(s, \"is not a valid identifier\")\n",
    "    "
   ]
  },
  {
   "cell_type": "code",
   "execution_count": 103,
   "metadata": {},
   "outputs": [
    {
     "name": "stdout",
     "output_type": "stream",
     "text": [
      "Enter the Identifier to validate: b0alkhg\n",
      "b0alkhg is a valid identifier\n"
     ]
    }
   ],
   "source": [
    "import re\n",
    "s = input(\"Enter the Identifier to validate: \")\n",
    "x = re.fullmatch('[a-k][0369][a-zA-Z0-9#]*',s)\n",
    "if x != None:\n",
    "    print(s,\"is a valid identifier\")\n",
    "else:\n",
    "    print(s, \"is not a valid identifier\")\n",
    "    "
   ]
  },
  {
   "cell_type": "code",
   "execution_count": 105,
   "metadata": {},
   "outputs": [
    {
     "name": "stdout",
     "output_type": "stream",
     "text": [
      "Enter the Identifier to validate: c9765\n",
      "c9765 is a valid identifier\n"
     ]
    }
   ],
   "source": [
    "import re\n",
    "s = input(\"Enter the Identifier to validate: \")\n",
    "x = re.fullmatch('[a-k][0369][a-zA-Z0-9#]*',s)\n",
    "if x != None:\n",
    "    print(s,\"is a valid identifier\")\n",
    "else:\n",
    "    print(s, \"is not a valid identifier\")"
   ]
  },
  {
   "cell_type": "code",
   "execution_count": 106,
   "metadata": {},
   "outputs": [
    {
     "name": "stdout",
     "output_type": "stream",
     "text": [
      "Enter the Identifier to validate: e3Hm8#\n",
      "e3Hm8# is a valid identifier\n"
     ]
    }
   ],
   "source": [
    "import re\n",
    "s = input(\"Enter the Identifier to validate: \")\n",
    "x = re.fullmatch('[a-k][0369][a-zA-Z0-9#]*',s)\n",
    "if x != None:\n",
    "    print(s,\"is a valid identifier\")\n",
    "else:\n",
    "    print(s, \"is not a valid identifier\")"
   ]
  },
  {
   "cell_type": "code",
   "execution_count": 107,
   "metadata": {},
   "outputs": [
    {
     "name": "stdout",
     "output_type": "stream",
     "text": [
      "Enter the Identifier to validate: c0\n",
      "c0 is a valid identifier\n"
     ]
    }
   ],
   "source": [
    "import re\n",
    "s = input(\"Enter the Identifier to validate: \")\n",
    "x = re.fullmatch('[a-k][0369][a-zA-Z0-9#]*',s)\n",
    "if x != None:\n",
    "    print(s,\"is a valid identifier\")\n",
    "else:\n",
    "    print(s, \"is not a valid identifier\")"
   ]
  },
  {
   "cell_type": "code",
   "execution_count": 109,
   "metadata": {},
   "outputs": [
    {
     "name": "stdout",
     "output_type": "stream",
     "text": [
      "Enter the Identifier to validate: k3f5\n",
      "k3f5 is a valid identifier\n"
     ]
    }
   ],
   "source": [
    "import re\n",
    "s = input(\"Enter the Identifier to validate: \")\n",
    "x = re.fullmatch('[a-k][0369][a-zA-Z0-9#]*',s)\n",
    "if x != None:\n",
    "    print(s,\"is a valid identifier\")\n",
    "else:\n",
    "    print(s, \"is not a valid identifier\")"
   ]
  },
  {
   "cell_type": "code",
   "execution_count": null,
   "metadata": {},
   "outputs": [],
   "source": [
    "Suppose read string from keyboard and whether it start with 'Durga' or not then use \n",
    "MATCH()method"
   ]
  },
  {
   "cell_type": "code",
   "execution_count": null,
   "metadata": {},
   "outputs": [],
   "source": [
    "Suppose read string from keyboard and chk how many digits are availiable then use FINDALL, FINDITER() AND SEARCH()\n",
    "We can use"
   ]
  },
  {
   "cell_type": "code",
   "execution_count": null,
   "metadata": {},
   "outputs": [],
   "source": [
    "suppose we have have to replace whereever 'difficulty' word is here with'easy' then we use SUB() and if I want\n",
    "How many replacement is happening, then We use subn() method"
   ]
  },
  {
   "cell_type": "code",
   "execution_count": null,
   "metadata": {},
   "outputs": [],
   "source": [
    "WRITE A REGULAR EXPRESSION TO WRITE 10 DIGIT MOBILE NUMBERS START WITH 6,7,8,9\n",
    "so we use\n",
    "[6789][0-9][0-9][0-9][0-9][0-9][0-9][0-9][0-9][0-9] we will write like this and not use * bcoz * means any no of \n",
    "time which will not work here\n",
    "further, we use\n",
    "[6-9]\\d{9}\n"
   ]
  },
  {
   "cell_type": "code",
   "execution_count": 111,
   "metadata": {},
   "outputs": [
    {
     "name": "stdout",
     "output_type": "stream",
     "text": [
      "Enter the mobile number to validate: 8476376872\n",
      "Mobile no is valid\n"
     ]
    }
   ],
   "source": [
    "import re\n",
    "s = input(\"Enter the mobile number to validate: \")\n",
    "x= re.fullmatch('[6-9]\\d{9}', s)\n",
    "if x!=None:\n",
    "    print(\"Mobile no is valid\")\n",
    "else:\n",
    "    print(\"Mobile no is not valid\")"
   ]
  },
  {
   "cell_type": "code",
   "execution_count": 114,
   "metadata": {},
   "outputs": [
    {
     "name": "stdout",
     "output_type": "stream",
     "text": [
      "Enter the mobile number to validate: 9292929292\n",
      "Mobile no is valid\n"
     ]
    }
   ],
   "source": [
    "import re\n",
    "s = input(\"Enter the mobile number to validate: \")\n",
    "x= re.fullmatch('[6-9]\\d{9}', s)\n",
    "if x!=None:\n",
    "    print(\"Mobile no is valid\")\n",
    "else:\n",
    "    print(\"Mobile no is not valid\")"
   ]
  },
  {
   "cell_type": "code",
   "execution_count": 115,
   "metadata": {},
   "outputs": [
    {
     "name": "stdout",
     "output_type": "stream",
     "text": [
      "Enter the mobile number to validate: 876542367\n",
      "Mobile no is not valid\n"
     ]
    }
   ],
   "source": [
    "import re\n",
    "s = input(\"Enter the mobile number to validate: \")\n",
    "x= re.fullmatch('[6-9]\\d{9}', s)\n",
    "if x!=None:\n",
    "    print(\"Mobile no is valid\")\n",
    "else:\n",
    "    print(\"Mobile no is not valid\")\n",
    "\n",
    "# it is less than 10 digit"
   ]
  },
  {
   "cell_type": "code",
   "execution_count": null,
   "metadata": {},
   "outputs": [],
   "source": [
    "WRITE A REGULAR EXPRESSION TO WRITE \n",
    "for 10 Digit mobile number,start with 6-9 and write remaining 9 digit\n",
    "for 11 digit mobile number,first digit should be 0\n",
    "for 12 digit mobile number, first 2 digit should be 91\n",
    "for 13 digit mobile number,first 3 digit should be +91"
   ]
  },
  {
   "cell_type": "code",
   "execution_count": null,
   "metadata": {},
   "outputs": [],
   "source": [
    "Supose read data from text file named input.txt and check how many mobile numbers are there and read that mobile \n",
    "write output to output.txt file(I have created file(input.txt))\n",
    "so we have to just extract numbers from each line in input.txt file, so we use FINDALL() method"
   ]
  },
  {
   "cell_type": "code",
   "execution_count": 116,
   "metadata": {},
   "outputs": [
    {
     "name": "stdout",
     "output_type": "stream",
     "text": [
      "Extracted all mobile numbers into output.txt\n"
     ]
    }
   ],
   "source": [
    "import re\n",
    "f1 = open('input.txt', 'r')\n",
    "f2 = open('output.txt', 'w')\n",
    "for line in f1:\n",
    "    list = re.findall('[6-9]\\d{9}', line)\n",
    "    for number in list:\n",
    "        f2.write(number+\"\\n\")\n",
    "print('Extracted all mobile numbers into output.txt')\n",
    "f1.close()\n",
    "f2.close()\n",
    "# NOW YOU CAN CHECK OUTPUT.TXT FILE,THERE YOU CAN FIND ALL MOBILE NUMBERS ,ok"
   ]
  },
  {
   "cell_type": "code",
   "execution_count": null,
   "metadata": {},
   "outputs": [],
   "source": [
    "WEB SCRAPING BY USING REGULAR EXPRESION"
   ]
  },
  {
   "cell_type": "code",
   "execution_count": null,
   "metadata": {},
   "outputs": [],
   "source": [
    "web scraping:=the process of collecting data(information)from web pages is called web scraping."
   ]
  },
  {
   "cell_type": "code",
   "execution_count": 119,
   "metadata": {},
   "outputs": [
    {
     "name": "stdout",
     "output_type": "stream",
     "text": [
      "searching.. http://google.com\n",
      "<class 'bytes'>\n",
      "<title>Google</title>\n"
     ]
    }
   ],
   "source": [
    "import re,urllib\n",
    "import urllib.request\n",
    "sites = ['http://google.com']\n",
    "for s in sites:\n",
    "    print(\"searching..\", s)\n",
    "    x = urllib.request.urlopen(s)\n",
    "    text = x.read()\n",
    "    print(type(text))\n",
    "    title = re.findall('<title>.*</title>', str(text), re.IGNORECASE)\n",
    "    print(title[0])\n",
    "    \n",
    "# WE use here str(text), bcz text is 'byte' by default"
   ]
  },
  {
   "cell_type": "code",
   "execution_count": null,
   "metadata": {},
   "outputs": [],
   "source": [
    "WE have to extract suppose all mobie numbers from www.redbus.in/info/contactus\n",
    "And the mobile format is 033-39412345, 033 39412345, 1860-30087654, 1860-300-10101 are availiable there\n",
    "So the Format availiable for first three number is :[0-9]{3,4}[- ][0-9]{8}, BUT forth number format is not\n",
    "    satisfying here, so the format which covers all mobile numbers format is :[0-9]{3,4}[- ][0-9-]+"
   ]
  },
  {
   "cell_type": "code",
   "execution_count": 4,
   "metadata": {},
   "outputs": [
    {
     "name": "stdout",
     "output_type": "stream",
     "text": [
      "2001 -\n"
     ]
    }
   ],
   "source": [
    "import re, urllib\n",
    "import urllib.request\n",
    "x  =urllib.request.urlopen(\"https://www.redbus.in/info/contactus\")\n",
    "text = x.read()\n",
    "numbers = re.findall('[0-9]{3,4}[- ][0-9-]+', str(text))\n",
    "for n in numbers:\n",
    "    print(n)"
   ]
  },
  {
   "cell_type": "code",
   "execution_count": null,
   "metadata": {},
   "outputs": [],
   "source": [
    "Write a Regular expression to find whether a email is valid or not\n",
    "durga.toc34@gmail.com\n",
    "durga_toc\n",
    "durgaadvjava@gmail.com\n",
    "1) \\w\n",
    "2)So Regular expression should be: '\\w[a-zA-Z0-9 .]*@gmail[.]com'"
   ]
  },
  {
   "cell_type": "code",
   "execution_count": 12,
   "metadata": {},
   "outputs": [
    {
     "name": "stdout",
     "output_type": "stream",
     "text": [
      "Enter the valid mailID: jai.tiwari24@gmail.com\n",
      "Invalid emailID\n"
     ]
    }
   ],
   "source": [
    "import re\n",
    "s = input(\"Enter the valid mailID: \")\n",
    "m = re.fullmatch('\\w[a-zA-Z0-9_.]*gmail[.]com', s)\n",
    "if m !=None:\n",
    "    print(\"Valid emailID\")\n",
    "else:\n",
    "    print(\"Invalid emailID\")"
   ]
  },
  {
   "cell_type": "code",
   "execution_count": 13,
   "metadata": {},
   "outputs": [
    {
     "name": "stdout",
     "output_type": "stream",
     "text": [
      "Enter the valid mailID: jaitiwari24@gmail.com\n",
      "Valid emailID\n"
     ]
    }
   ],
   "source": [
    "import re\n",
    "s = input(\"Enter the valid mailID: \")\n",
    "m = re.fullmatch('\\w[a-zA-Z0-9_.]*@gmail[.]com', s)\n",
    "if m !=None:\n",
    "    print(\"Valid emailID\")\n",
    "else:\n",
    "    print(\"Invalid emailID\")"
   ]
  },
  {
   "cell_type": "code",
   "execution_count": null,
   "metadata": {},
   "outputs": [],
   "source": [
    "SUPOSE NOW I ALSO WANTS TO INCLUDE,  eg= rediff mail"
   ]
  },
  {
   "cell_type": "code",
   "execution_count": 1,
   "metadata": {},
   "outputs": [
    {
     "name": "stdout",
     "output_type": "stream",
     "text": [
      "Enter valid emailID: swetha@tv9.net\n",
      "Valid emailid\n"
     ]
    }
   ],
   "source": [
    "import re\n",
    "s=  input(\"Enter valid emailID: \")\n",
    "# for email: \"sweths@tv9.netse\n",
    "m = re.fullmatch('\\w[a-zA-Z0-9_.]*@[a-z0-9]+[.][a-z]+', s)\n",
    "if m!=None:\n",
    "    print(\"Valid emailid\")\n",
    "else:\n",
    "    print(\"Invalid emailID\")\n"
   ]
  },
  {
   "cell_type": "code",
   "execution_count": 2,
   "metadata": {},
   "outputs": [
    {
     "name": "stdout",
     "output_type": "stream",
     "text": [
      "Enter the valid MailIDjai.tiwari24@gmail.com\n",
      "ValidEmailID\n"
     ]
    }
   ],
   "source": [
    "import re\n",
    "s = input(\"Enter the valid MailID\")\n",
    "m = re.fullmatch('\\w[a-zA-Z0-9_.]*@[a-z0-9]+[.][a-z]+', s)\n",
    "if m!=None:\n",
    "    print(\"ValidEmailID\")\n",
    "else:\n",
    "    print(\"InvalidEmailID\")"
   ]
  },
  {
   "cell_type": "code",
   "execution_count": 3,
   "metadata": {},
   "outputs": [
    {
     "name": "stdout",
     "output_type": "stream",
     "text": [
      "Enter the valid MailIDjaitiwari24@gmail.com\n",
      "ValidEmailID\n"
     ]
    }
   ],
   "source": [
    "import re\n",
    "s  =input(\"Enter the valid MailID\")\n",
    "m = re.fullmatch('\\w[a-zA-Z0-9_.]*@[a-z0-9]+[.][a-z]+', s)\n",
    "if m!=None:\n",
    "    print(\"ValidEmailID\")\n",
    "else:\n",
    "    print(\"InvalidEmailID\")"
   ]
  },
  {
   "cell_type": "code",
   "execution_count": null,
   "metadata": {},
   "outputs": [],
   "source": [
    "To include gmail or rediffmail"
   ]
  },
  {
   "cell_type": "code",
   "execution_count": 5,
   "metadata": {},
   "outputs": [
    {
     "name": "stdout",
     "output_type": "stream",
     "text": [
      "Enter the valid MailIDjaitiwari24@rediffmail.net\n",
      "ValidEmailID\n"
     ]
    }
   ],
   "source": [
    "import re\n",
    "s = input(\"Enter the valid MailID\")\n",
    "m = re.fullmatch('\\w[a-zA-Z0-9_.]*@(gmail|rediffmail)[.][a-z]+', s)\n",
    "if m!=None:\n",
    "    print(\"ValidEmailID\")\n",
    "else:\n",
    "    print(\"InvalidEmailID\")"
   ]
  },
  {
   "cell_type": "code",
   "execution_count": 8,
   "metadata": {},
   "outputs": [
    {
     "name": "stdout",
     "output_type": "stream",
     "text": [
      "Enter the valid MailID: smitha@tv8.net\n",
      "InvalidEmailID\n"
     ]
    }
   ],
   "source": [
    "import re\n",
    "s = input(\"Enter the valid MailID: \")\n",
    "m = re.fullmatch('\\w[a-zA-Z0-9_.]*@(gmail|rediffmail)+[.][a-z]+', s)\n",
    "if m!=None:\n",
    "    print(\"ValidEmailID\")\n",
    "else:\n",
    "    print(\"InvalidEmailID\")"
   ]
  },
  {
   "cell_type": "code",
   "execution_count": null,
   "metadata": {},
   "outputs": [],
   "source": [
    "Write a regular expression to chk whether a given registration number is valid Ts number\n",
    "TS07EA7777\n",
    "1)first 2 should be Ts only,\n",
    "2)after that first number should be 012 and after that ,number should be [0-9]\n",
    "3)next 2 pplace we use upper case alphabet ie = [A-Z]{2}\n",
    "4)next 4 position we take numbers, so we use \\d{4}\n",
    "\n",
    "Finally Format is:\n",
    "Ts[012][0-9][A-Z]{2}\\d{4}"
   ]
  },
  {
   "cell_type": "code",
   "execution_count": 10,
   "metadata": {},
   "outputs": [
    {
     "name": "stdout",
     "output_type": "stream",
     "text": [
      "Enter the valid Registration number: Ts14SG9812\n",
      "Valid number\n"
     ]
    }
   ],
   "source": [
    "import re\n",
    "s = input(\"Enter the valid Registration number: \")\n",
    "m = re.fullmatch('Ts[012][0-9][A-Z]{2}\\d{4}', s)\n",
    "if m!=None:\n",
    "    print(\"Valid number\")\n",
    "else:\n",
    "    print(\"Invalid number\")\n"
   ]
  },
  {
   "cell_type": "code",
   "execution_count": null,
   "metadata": {},
   "outputs": [],
   "source": [
    "import re\n",
    "s = input(\"Enter the valid Registration number: \")\n",
    "m = re.fullmatch('Ts[012][0-9][A-Z]{2}\\d{4}', s)\n",
    "if m!=None:\n",
    "    print(\"Valid number\")\n",
    "else:\n",
    "    print(\"Invalid number\")\n"
   ]
  },
  {
   "cell_type": "code",
   "execution_count": null,
   "metadata": {},
   "outputs": [],
   "source": []
  }
 ],
 "metadata": {
  "kernelspec": {
   "display_name": "Python 3",
   "language": "python",
   "name": "python3"
  },
  "language_info": {
   "codemirror_mode": {
    "name": "ipython",
    "version": 3
   },
   "file_extension": ".py",
   "mimetype": "text/x-python",
   "name": "python",
   "nbconvert_exporter": "python",
   "pygments_lexer": "ipython3",
   "version": "3.8.5"
  }
 },
 "nbformat": 4,
 "nbformat_minor": 4
}
