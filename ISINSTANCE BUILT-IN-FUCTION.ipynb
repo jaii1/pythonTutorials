{
 "cells": [
  {
   "cell_type": "code",
   "execution_count": null,
   "metadata": {},
   "outputs": [],
   "source": [
    "ISINSTANCE FUNCTION()"
   ]
  },
  {
   "cell_type": "code",
   "execution_count": 1,
   "metadata": {},
   "outputs": [
    {
     "name": "stdout",
     "output_type": "stream",
     "text": [
      "is dict\n"
     ]
    }
   ],
   "source": [
    "data = {1:\"hey\"}\n",
    "if isinstance(data, dict):\n",
    "    print(\"is dict\")\n",
    "if isinstance(data,list):\n",
    "    print(\"is list\")"
   ]
  },
  {
   "cell_type": "code",
   "execution_count": 3,
   "metadata": {},
   "outputs": [
    {
     "name": "stdout",
     "output_type": "stream",
     "text": [
      "<class 'list'>\n",
      "is list\n"
     ]
    }
   ],
   "source": [
    "data1 = [{1:\"hola\"}]\n",
    "print(type(data1))\n",
    "if isinstance(data1, dict):\n",
    "    print(\"is dict\")\n",
    "if isinstance(data1, list):\n",
    "    print(\"is list\")"
   ]
  },
  {
   "cell_type": "code",
   "execution_count": null,
   "metadata": {},
   "outputs": [],
   "source": []
  }
 ],
 "metadata": {
  "kernelspec": {
   "display_name": "Python 3",
   "language": "python",
   "name": "python3"
  },
  "language_info": {
   "codemirror_mode": {
    "name": "ipython",
    "version": 3
   },
   "file_extension": ".py",
   "mimetype": "text/x-python",
   "name": "python",
   "nbconvert_exporter": "python",
   "pygments_lexer": "ipython3",
   "version": "3.8.5"
  }
 },
 "nbformat": 4,
 "nbformat_minor": 4
}
