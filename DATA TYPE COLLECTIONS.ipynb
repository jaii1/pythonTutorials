{
 "cells": [
  {
   "cell_type": "code",
   "execution_count": null,
   "metadata": {},
   "outputs": [],
   "source": [
    "    COLLECTIONS module\n",
    "    \n",
    "    namedtuple()\n",
    "chainmap       deque\n",
    "      counter\n",
    "orderDict    defaultdict\n",
    "       userDict\n",
    "userList     userstring"
   ]
  },
  {
   "cell_type": "code",
   "execution_count": 9,
   "metadata": {},
   "outputs": [
    {
     "name": "stdout",
     "output_type": "stream",
     "text": [
      "abc(jai=12, sam=34, jam=56)\n",
      "course(name='python', technology='machinelearning')\n"
     ]
    }
   ],
   "source": [
    "from collections import namedtuple\n",
    "# namedtuple is a tuple which have a value and a name is assigned to it\n",
    "x = namedtuple('abc', [\"jai\",\"sam\",\"jam\"])\n",
    "y = x(12,34,56)\n",
    "print(y)\n",
    "a = namedtuple(\"course\",(\"name\",\"technology\"))\n",
    "b = a(\"python\",\"machinelearning\")\n",
    "print(b)\n"
   ]
  },
  {
   "cell_type": "code",
   "execution_count": 20,
   "metadata": {},
   "outputs": [
    {
     "name": "stdout",
     "output_type": "stream",
     "text": [
      "deque(['p', 'y', 't', 'h', 'o', 'n'])\n",
      "<class 'collections.deque'>\n",
      "deque(['p', 'y', 't', 'h', 'o', 'n', 24])\n",
      "deque(['p', 'y', 't', 'h', 'o', 'n', 24, 'jai'])\n",
      "deque(['p', 'y', 't', 'h', 'o', 'n', 24, 'jai', (5, 6)])\n",
      "deque(['p', 'y', 't', 'h', 'o', 'n', 24, 'jai', (5, 6), (3, 4, (0, 1))])\n",
      "deque(['sam', 'p', 'y', 't', 'h', 'o', 'n', 24, 'jai', (5, 6), (3, 4, (0, 1))])\n",
      "deque(['sam', 'p', 'y', 't', 'h', 'o', 'n', 24, 'jai', (5, 6)])\n",
      "deque(['p', 'y', 't', 'h', 'o', 'n', 24, 'jai', (5, 6)])\n",
      "deque(['p', 'y', (6, 7), 't', 'h', 'o', 'n', 24, 'jai', (5, 6)])\n",
      "deque(['p', 'y', (6, 7), 't', 'h', 'o', 'n', 24, 'jai', (5, 6), 'j', 'a', 'm'])\n",
      "(6, 7)\n"
     ]
    }
   ],
   "source": [
    "from collections import deque\n",
    "# Deque-perform insertion and deletion\n",
    "a = [\"p\",\"y\",\"t\",\"h\",\"o\",\"n\"]\n",
    "b = deque(a)\n",
    "print(b)\n",
    "print(type(b))\n",
    "# append can add single value to end of list.It can add number,float,bool,str,tuple,list,set,listoflist,listoftuple,\n",
    "# tupleoflist and tuple and it incliude bracket\n",
    "# ,tupleoftuple,tupleoflist,tupleoflist and tuple\n",
    "b.append(24)\n",
    "print(b)\n",
    "b.append(\"jai\")\n",
    "print(b)\n",
    "b.append((5,6))\n",
    "print(b)\n",
    "b.append((3,4,(0,1)))\n",
    "print(b)\n",
    "b.appendleft(\"sam\")\n",
    "print(b)\n",
    "b.pop()\n",
    "print(b)\n",
    "b.popleft()\n",
    "print(b)\n",
    "b.insert(2,(6,7))\n",
    "print(b)\n",
    "# extend can add only 1 value to the end of list i.e str,list,tuple,set,listoflist,lstoftuple,listoftuple and list\n",
    "# tupleoftuple,tupleoflist,tupleoflist and tuple\n",
    "b.extend(\"jam\")\n",
    "print(b)\n",
    "print(b[2])"
   ]
  },
  {
   "cell_type": "code",
   "execution_count": 25,
   "metadata": {},
   "outputs": [
    {
     "name": "stdout",
     "output_type": "stream",
     "text": [
      "ChainMap({'name': 'jai', 'fees': 50000}, {'course': 'python', 'amount': 10000})\n",
      "<class 'collections.ChainMap'>\n"
     ]
    }
   ],
   "source": [
    "from collections import ChainMap\n",
    "# single view of multiple dict in a tuple\n",
    "a = {\"name\":\"jai\",\"fees\":50000}\n",
    "b = {\"course\":\"python\",\"amount\":10000}\n",
    "x1 = ChainMap(a,b)\n",
    "print(x1)\n",
    "print(type(x1))\n"
   ]
  },
  {
   "cell_type": "code",
   "execution_count": 31,
   "metadata": {},
   "outputs": [
    {
     "name": "stdout",
     "output_type": "stream",
     "text": [
      "Counter({2: 3, 6: 3, 9: 3, 1: 2, 5: 2, 3: 2, 4: 1})\n",
      "<class 'collections.Counter'>\n",
      "[1, 1, 2, 2, 2, 6, 6, 6, 5, 5, 3, 3, 9, 9, 9, 4]\n",
      "[(2, 3), (6, 3), (9, 3), (1, 2), (5, 2), (3, 2), (4, 1)]\n",
      "None\n",
      "[(9, 3), (1, 2), (2, 2), (6, 2), (5, 2), (3, 2), (4, 1)]\n"
     ]
    }
   ],
   "source": [
    "from collections import Counter\n",
    "lis = [1,2,6,5,6,6,1,2,3,9,9,2,3,4,5,9]\n",
    "x = Counter(lis)\n",
    "print(x)\n",
    "print(type(x))\n",
    "print(list(x.elements()))\n",
    "print(x.most_common())\n",
    "sub = {2:1, 6:1}\n",
    "print(x.subtract(sub))\n",
    "print(x.most_common())"
   ]
  },
  {
   "cell_type": "code",
   "execution_count": 38,
   "metadata": {},
   "outputs": [
    {
     "name": "stdout",
     "output_type": "stream",
     "text": [
      "OrderedDict([(1, 2), ((9, 0), [1, 2]), ('name', 'jai'), (0.2, 0.4)])\n",
      "0.4\n",
      "odict_keys([1, (9, 0), 'name'])\n",
      "odict_values([2, [1, 2], 'jai'])\n",
      "odict_items([(1, 2), ((9, 0), [1, 2]), ('name', 'jai')])\n",
      "OrderedDict([(1, 2), ((9, 0), [1, 2]), ('name', 'sam')])\n"
     ]
    }
   ],
   "source": [
    "# OrderedDict = it is a dictionary that remember the order in which entries were made\n",
    "from collections import OrderedDict\n",
    "a = OrderedDict()\n",
    "a[1]  =2\n",
    "a[(9,0)] = [1,2]\n",
    "a[\"name\"] = \"jai\"\n",
    "a[0.2] = 0.4\n",
    "print(a)\n",
    "print(a.pop(0.2))\n",
    "print(a.keys())\n",
    "print(a.values())\n",
    "print(a.items())\n",
    "a[\"name\"]  =\"sam\"\n",
    "print(a)"
   ]
  },
  {
   "cell_type": "code",
   "execution_count": 1,
   "metadata": {},
   "outputs": [
    {
     "name": "stdout",
     "output_type": "stream",
     "text": [
      "defaultdict(<class 'int'>, {1: 'python', 2: (9, 0), 3: [1, 1], 4: 8})\n",
      "8\n"
     ]
    }
   ],
   "source": [
    "from collections import defaultdict\n",
    "d = defaultdict(int)\n",
    "d[1] = \"python\"\n",
    "d[2] = (9,0)\n",
    "d[3] = [1,1]\n",
    "d[4] = 8\n",
    "print(d)\n",
    "print(d[4])"
   ]
  },
  {
   "cell_type": "code",
   "execution_count": 46,
   "metadata": {},
   "outputs": [
    {
     "name": "stdout",
     "output_type": "stream",
     "text": [
      "[1, 2, 3, 4, 5]\n",
      "[]\n"
     ]
    }
   ],
   "source": [
    "from collections import UserList\n",
    "# creating our own list with modified functionality\n",
    "lis = [1,2,3,4,5]\n",
    "userL=UserList(lis)\n",
    "print(userL.data)\n",
    "userL = UserList()\n",
    "print(userL.data)"
   ]
  },
  {
   "cell_type": "code",
   "execution_count": 50,
   "metadata": {},
   "outputs": [
    {
     "name": "stdout",
     "output_type": "stream",
     "text": [
      "{'a': 1, 'b': 5, 'c': 7}\n"
     ]
    }
   ],
   "source": [
    "from collections import UserDict\n",
    "dict1 = {\"a\":1, \"b\":5,\"c\":7}\n",
    "userD = UserDict(dict1)\n",
    "print(userD.data)"
   ]
  },
  {
   "cell_type": "code",
   "execution_count": null,
   "metadata": {},
   "outputs": [],
   "source": []
  }
 ],
 "metadata": {
  "kernelspec": {
   "display_name": "Python 3",
   "language": "python",
   "name": "python3"
  },
  "language_info": {
   "codemirror_mode": {
    "name": "ipython",
    "version": 3
   },
   "file_extension": ".py",
   "mimetype": "text/x-python",
   "name": "python",
   "nbconvert_exporter": "python",
   "pygments_lexer": "ipython3",
   "version": "3.8.5"
  }
 },
 "nbformat": 4,
 "nbformat_minor": 4
}
