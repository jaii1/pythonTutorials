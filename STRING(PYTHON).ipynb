{
 "cells": [
  {
   "cell_type": "code",
   "execution_count": null,
   "metadata": {},
   "outputs": [],
   "source": [
    "MAKETRANS() method"
   ]
  },
  {
   "cell_type": "code",
   "execution_count": 1,
   "metadata": {},
   "outputs": [
    {
     "name": "stdout",
     "output_type": "stream",
     "text": [
      "{106: '21', 98: '34'}\n"
     ]
    }
   ],
   "source": [
    "string = \"hello universe\"\n",
    "dict = {\"j\":\"21\", \"b\":\"34\"}\n",
    "x = string.maketrans(dict)\n",
    "print(x)    \n",
    "# Here alphabet value of dict should be a,b,c,d..etc and not any name,It should be of one length"
   ]
  },
  {
   "cell_type": "code",
   "execution_count": 2,
   "metadata": {},
   "outputs": [
    {
     "name": "stdout",
     "output_type": "stream",
     "text": [
      "106\n"
     ]
    }
   ],
   "source": [
    "print(ord(\"j\"))"
   ]
  },
  {
   "cell_type": "code",
   "execution_count": 3,
   "metadata": {},
   "outputs": [
    {
     "name": "stdout",
     "output_type": "stream",
     "text": [
      "98\n"
     ]
    }
   ],
   "source": [
    "print(ord(\"b\"))"
   ]
  },
  {
   "cell_type": "code",
   "execution_count": 10,
   "metadata": {},
   "outputs": [
    {
     "name": "stdout",
     "output_type": "stream",
     "text": [
      "{106: 49, 104: 50, 103: 51, 102: 52}\n"
     ]
    }
   ],
   "source": [
    "string = \"machine_learning\"\n",
    "a1 = \"jhgf\"\n",
    "a2 = \"1234\"\n",
    "x = string.maketrans(a1, a2)\n",
    "print(x)\n",
    "# Here, \"1234\" should be str only and not int, ok"
   ]
  },
  {
   "cell_type": "code",
   "execution_count": 5,
   "metadata": {},
   "outputs": [
    {
     "name": "stdout",
     "output_type": "stream",
     "text": [
      "106\n",
      "104\n",
      "49\n"
     ]
    }
   ],
   "source": [
    "print(ord(\"j\"))\n",
    "print(ord(\"h\"))\n",
    "print(ord(\"1\"))"
   ]
  },
  {
   "cell_type": "code",
   "execution_count": 6,
   "metadata": {},
   "outputs": [
    {
     "name": "stdout",
     "output_type": "stream",
     "text": [
      "<h1>This is a Headline</h1>\n"
     ]
    }
   ],
   "source": [
    "tag = \"h1\"\n",
    "text = \"This is a Headline\"\n",
    "# <h1>This is a Headline</h1>\n",
    "x = \"<{0}>{1}</{0}>\".format(tag, text)\n",
    "print(x)"
   ]
  },
  {
   "cell_type": "code",
   "execution_count": 7,
   "metadata": {},
   "outputs": [
    {
     "name": "stdout",
     "output_type": "stream",
     "text": [
      "<h1>This is a Headline</h1>\n"
     ]
    }
   ],
   "source": [
    "tag = \"h1\"\n",
    "text = \"This is a Headline\"\n",
    "# <h1>This is a Headline</h1>\n",
    "x = \"<{0}>{1}</{0}>\".format(tag, text)\n",
    "print(x)"
   ]
  },
  {
   "cell_type": "code",
   "execution_count": 8,
   "metadata": {},
   "outputs": [
    {
     "name": "stdout",
     "output_type": "stream",
     "text": [
      "My name is jai and my age is 34\n"
     ]
    }
   ],
   "source": [
    "person= {\"name\":\"jai\", \"age\":34}\n",
    "print(\"My name is {} and my age is {}\".format(person['name'], person['age']))\n"
   ]
  },
  {
   "cell_type": "code",
   "execution_count": 9,
   "metadata": {},
   "outputs": [
    {
     "name": "stdout",
     "output_type": "stream",
     "text": [
      "My name is jai and my roll no is 1\n"
     ]
    }
   ],
   "source": [
    "person = (\"jai\", 1)\n",
    "print(\"My name is {0[0]} and my roll no is {0[1]}\".format(person))"
   ]
  },
  {
   "cell_type": "code",
   "execution_count": 10,
   "metadata": {},
   "outputs": [
    {
     "name": "stdout",
     "output_type": "stream",
     "text": [
      "My name is jai and i am aworking in IBM company\n"
     ]
    }
   ],
   "source": [
    "employee = (\"jai\", \"IBM\")\n",
    "print(\"My name is {0[0]} and i am aworking in {0[1]} company\".format(employee))"
   ]
  },
  {
   "cell_type": "code",
   "execution_count": 11,
   "metadata": {},
   "outputs": [
    {
     "name": "stdout",
     "output_type": "stream",
     "text": [
      "The name of employee is jai and his salary is 32000\n"
     ]
    }
   ],
   "source": [
    "class employee():\n",
    "    def __init__(self, name, salary):\n",
    "        self.name = name\n",
    "        self.salary = salary\n",
    "p1 = employee(\"jai\", 32000)\n",
    "print(\"The name of employee is {0.name} and his salary is {0.salary}\".format(p1))"
   ]
  },
  {
   "cell_type": "code",
   "execution_count": 4,
   "metadata": {},
   "outputs": [
    {
     "name": "stdout",
     "output_type": "stream",
     "text": [
      "the value of i is 0001\n",
      "the value of i is 0002\n",
      "the value of i is 0003\n",
      "the value of i is 0004\n",
      "the value of i is 0005\n",
      "the value of i is 0006\n",
      "the value of i is 0007\n",
      "the value of i is 0008\n",
      "the value of i is 0009\n",
      "the value of i is 0010\n"
     ]
    },
    {
     "data": {
      "text/plain": [
       "'display :04 means showing each value of i in 4digit '"
      ]
     },
     "execution_count": 4,
     "metadata": {},
     "output_type": "execute_result"
    }
   ],
   "source": [
    "for i in range(1,11):\n",
    "    x = \"the value of i is {:04}\".format(i)\n",
    "    print(x)\n",
    "\"\"\"display :04 means showing each value of i in 4digit \"\"\""
   ]
  },
  {
   "cell_type": "code",
   "execution_count": 5,
   "metadata": {},
   "outputs": [
    {
     "name": "stdout",
     "output_type": "stream",
     "text": [
      "The value of i is 01\n",
      "The value of i is 02\n",
      "The value of i is 03\n",
      "The value of i is 04\n",
      "The value of i is 05\n",
      "The value of i is 06\n",
      "The value of i is 07\n",
      "The value of i is 08\n",
      "The value of i is 09\n",
      "The value of i is 10\n"
     ]
    }
   ],
   "source": [
    "for  i in range(1,11):\n",
    "    sen = f'The value of i is {i:02}'\n",
    "    print(sen)"
   ]
  },
  {
   "cell_type": "code",
   "execution_count": 13,
   "metadata": {},
   "outputs": [
    {
     "name": "stdout",
     "output_type": "stream",
     "text": [
      "1 MB is equivalent to 1,000,000.00 bytes\n"
     ]
    }
   ],
   "source": [
    "print(\"1 MB is equivalent to {:,.2f} bytes\".format(1000**2))"
   ]
  },
  {
   "cell_type": "code",
   "execution_count": 14,
   "metadata": {},
   "outputs": [
    {
     "name": "stdout",
     "output_type": "stream",
     "text": [
      "1 MB is equivalent to 1,000,000.00 bytes\n"
     ]
    }
   ],
   "source": [
    "print(\"1 MB is equivalent to {:,.2f} bytes\".format(1000**2))"
   ]
  },
  {
   "cell_type": "code",
   "execution_count": 2,
   "metadata": {},
   "outputs": [
    {
     "name": "stdout",
     "output_type": "stream",
     "text": [
      "The binary to decimal value is:19\n"
     ]
    }
   ],
   "source": [
    "print(\"The binary to decimal value is:{:d}\".format(0b10011))"
   ]
  },
  {
   "cell_type": "code",
   "execution_count": 3,
   "metadata": {},
   "outputs": [
    {
     "name": "stdout",
     "output_type": "stream",
     "text": [
      "The binary value is : 111110100\n"
     ]
    }
   ],
   "source": [
    "print(\"The binary value is : {:b}\".format(500))"
   ]
  },
  {
   "cell_type": "code",
   "execution_count": 15,
   "metadata": {},
   "outputs": [
    {
     "name": "stdout",
     "output_type": "stream",
     "text": [
      "2018-10-24 03:43:12\n",
      "The new date is October 24, 2018\n"
     ]
    }
   ],
   "source": [
    "import datetime\n",
    "x = datetime.datetime(2018,10,24,3,43,12)\n",
    "print(x)\n",
    "print(\"The new date is {:%B %d, %Y}\".format(x))"
   ]
  },
  {
   "cell_type": "code",
   "execution_count": 16,
   "metadata": {},
   "outputs": [
    {
     "name": "stdout",
     "output_type": "stream",
     "text": [
      "The date October 24, 2018 fell on Wednesday and 297th day of the year\n"
     ]
    }
   ],
   "source": [
    "print(\"The date {0:%B %d, %Y} fell on {0:%A} and {0:%j}th day of the year\".format(x))"
   ]
  },
  {
   "cell_type": "code",
   "execution_count": 17,
   "metadata": {},
   "outputs": [
    {
     "name": "stdout",
     "output_type": "stream",
     "text": [
      "The value of pi is 3.1416\n"
     ]
    }
   ],
   "source": [
    "pi = 3.141592653\n",
    "print(\"The value of pi is {:.4f}\".format(pi))"
   ]
  },
  {
   "cell_type": "code",
   "execution_count": 18,
   "metadata": {},
   "outputs": [
    {
     "name": "stdout",
     "output_type": "stream",
     "text": [
      "h\n"
     ]
    }
   ],
   "source": [
    "print(\"h\")\n",
    "\n"
   ]
  },
  {
   "cell_type": "code",
   "execution_count": 19,
   "metadata": {},
   "outputs": [
    {
     "name": "stdout",
     "output_type": "stream",
     "text": [
      "hello\n",
      "world\n",
      "hello world\n",
      "helo world\n",
      "<class 'str'>\n",
      "1517087097136\n"
     ]
    }
   ],
   "source": [
    "a = \"\"\"hello\n",
    "world\"\"\"\n",
    "print(a)\n",
    "b = \"hello world\"\n",
    "print(b)\n",
    "c = 'helo world'\n",
    "print(c)\n",
    "print(type(c))\n",
    "print(id(c))"
   ]
  },
  {
   "cell_type": "code",
   "execution_count": 20,
   "metadata": {},
   "outputs": [
    {
     "name": "stdout",
     "output_type": "stream",
     "text": [
      "helo's world\n"
     ]
    }
   ],
   "source": [
    "a = \"helo's world\"\n",
    "print(a)"
   ]
  },
  {
   "cell_type": "code",
   "execution_count": 21,
   "metadata": {},
   "outputs": [
    {
     "name": "stdout",
     "output_type": "stream",
     "text": [
      "helo\"s world\n"
     ]
    }
   ],
   "source": [
    "c = 'helo\"s world'\n",
    "print(c)"
   ]
  },
  {
   "cell_type": "code",
   "execution_count": 22,
   "metadata": {},
   "outputs": [
    {
     "name": "stdout",
     "output_type": "stream",
     "text": [
      "Hello \"Greeky shows\", how are you\n"
     ]
    }
   ],
   "source": [
    "str4 = 'Hello \"Greeky shows\", how are you'\n",
    "print(str4)"
   ]
  },
  {
   "cell_type": "code",
   "execution_count": 23,
   "metadata": {},
   "outputs": [
    {
     "name": "stdout",
     "output_type": "stream",
     "text": [
      "hello \"geeky shows\" , how are you?\n"
     ]
    }
   ],
   "source": [
    "str5 = \"hello \\\"geeky shows\\\" , how are you?\"\n",
    "print(str5)"
   ]
  },
  {
   "cell_type": "code",
   "execution_count": 24,
   "metadata": {},
   "outputs": [
    {
     "name": "stdout",
     "output_type": "stream",
     "text": [
      "I love studying \"machine learning\" in colleage\n"
     ]
    }
   ],
   "source": [
    "str6  =\"I love studying \\\"machine learning\\\" in colleage\"\n",
    "print(str6)"
   ]
  },
  {
   "cell_type": "code",
   "execution_count": 25,
   "metadata": {},
   "outputs": [
    {
     "name": "stdout",
     "output_type": "stream",
     "text": [
      "hello's python's world\n"
     ]
    }
   ],
   "source": [
    "str6  ='hello\\'s python\\'s world'\n",
    "print(str6)"
   ]
  },
  {
   "cell_type": "code",
   "execution_count": 26,
   "metadata": {},
   "outputs": [
    {
     "name": "stdout",
     "output_type": "stream",
     "text": [
      "I love python\n",
      "I am working on one of\n",
      "its project\n",
      "I love my world\n",
      "to the\n",
      "fullest\n"
     ]
    }
   ],
   "source": [
    "x = \"I love python\\nI am working on one of\\nits project\"\n",
    "print(x)\n",
    "z = \"I love my world\\nto the\\nfullest\"\n",
    "print(z)"
   ]
  },
  {
   "cell_type": "code",
   "execution_count": 27,
   "metadata": {},
   "outputs": [
    {
     "name": "stdout",
     "output_type": "stream",
     "text": [
      "I love python\\n and I am working on one of\\n its project\n",
      "I love my world\\nto the\\nfullest\n"
     ]
    }
   ],
   "source": [
    "x =r\"I love python\\n and I am working on one of\\n its project\"\n",
    "print(x)\n",
    "z = r\"I love my world\\nto the\\nfullest\"\n",
    "print(z)"
   ]
  },
  {
   "cell_type": "code",
   "execution_count": 28,
   "metadata": {},
   "outputs": [
    {
     "name": "stdout",
     "output_type": "stream",
     "text": [
      "hi::hello::hey\n",
      "python%machine%numpy\n",
      "1=2=4\n"
     ]
    }
   ],
   "source": [
    "print(\"hi\", \"hello\",\"hey\", sep=\"::\")\n",
    "print(\"python\",\"machine\",\"numpy\", sep=\"%\")\n",
    "print(\"1\",\"2\",\"4\", sep=\"=\")"
   ]
  },
  {
   "cell_type": "code",
   "execution_count": 29,
   "metadata": {},
   "outputs": [
    {
     "name": "stdout",
     "output_type": "stream",
     "text": [
      "hello world_in python@is here\n"
     ]
    }
   ],
   "source": [
    "print(\"hello world\", \"in python\", sep=\"_\", end=\"@\")\n",
    "print(\"is here\")"
   ]
  },
  {
   "cell_type": "code",
   "execution_count": 30,
   "metadata": {},
   "outputs": [
    {
     "name": "stdout",
     "output_type": "stream",
     "text": [
      "jaitiwari24@gmail.com\n"
     ]
    }
   ],
   "source": [
    "print(\"jaitiwari\",  24, sep=\"\", end=\"@\")\n",
    "print(\"gmail.com\")"
   ]
  },
  {
   "cell_type": "code",
   "execution_count": 31,
   "metadata": {},
   "outputs": [
    {
     "name": "stdout",
     "output_type": "stream",
     "text": [
      "1:2:3:4:5::6\n"
     ]
    }
   ],
   "source": [
    "print(\"1\",\"2\",\"3\",\"4\", sep=\":\", end=\":\")\n",
    "print(\"5\", end=\"::\")\n",
    "print(\"6\")"
   ]
  },
  {
   "cell_type": "code",
   "execution_count": 32,
   "metadata": {},
   "outputs": [
    {
     "name": "stdout",
     "output_type": "stream",
     "text": [
      "hello everyone's we are here doing python\"project\n"
     ]
    }
   ],
   "source": [
    "str1 = \"\"\"hello everyone's we are here doing python\"project\"\"\"\n",
    "print(str1)"
   ]
  },
  {
   "cell_type": "code",
   "execution_count": 33,
   "metadata": {},
   "outputs": [
    {
     "name": "stdout",
     "output_type": "stream",
     "text": [
      "hey guys!\n",
      "please subscribe\n",
      "jai tiwari\n"
     ]
    }
   ],
   "source": [
    "st = \"\"\"hey guys!\n",
    "please subscribe\n",
    "jai tiwari\"\"\"\n",
    "print(st)"
   ]
  },
  {
   "cell_type": "code",
   "execution_count": 34,
   "metadata": {},
   "outputs": [
    {
     "name": "stdout",
     "output_type": "stream",
     "text": [
      "helo everyone!please\" do come\" for my marriage\n"
     ]
    }
   ],
   "source": [
    "x = \"helo everyone!please\\\" do come\\\" for my marriage\"\n",
    "print(x)\n"
   ]
  },
  {
   "cell_type": "code",
   "execution_count": 35,
   "metadata": {},
   "outputs": [
    {
     "name": "stdout",
     "output_type": "stream",
     "text": [
      "hello how is\tall here\n"
     ]
    }
   ],
   "source": [
    "x = \"hello how is\\tall here\"\n",
    "print(x)"
   ]
  },
  {
   "cell_type": "code",
   "execution_count": 3,
   "metadata": {},
   "outputs": [
    {
     "name": "stdout",
     "output_type": "stream",
     "text": [
      "hello\t world\n"
     ]
    }
   ],
   "source": [
    "ax = \"hello\\t world\"\n",
    "print(ax)"
   ]
  },
  {
   "cell_type": "code",
   "execution_count": null,
   "metadata": {},
   "outputs": [],
   "source": [
    "x = \"hello\\t universe\"\n",
    "print(x)"
   ]
  },
  {
   "cell_type": "code",
   "execution_count": null,
   "metadata": {},
   "outputs": [],
   "source": [
    "str1 = \"geeky shows\"\n",
    "print(id(str))\n",
    "str2 = \"geeky shows\"\n",
    "print(id(str1))\n",
    "str3 = \"geeky shows\"\n",
    "print(id(str3))\n",
    "     "
   ]
  },
  {
   "cell_type": "code",
   "execution_count": null,
   "metadata": {},
   "outputs": [],
   "source": [
    "str1 = \"geeky shows\"\n",
    "print(id(str1))\n",
    "# str2 = \"geeky shows\"\n",
    "# print(id(str2))"
   ]
  },
  {
   "cell_type": "code",
   "execution_count": null,
   "metadata": {},
   "outputs": [],
   "source": [
    "str2 = \"geeky shows\"\n",
    "print(id(str2))"
   ]
  },
  {
   "cell_type": "code",
   "execution_count": null,
   "metadata": {},
   "outputs": [],
   "source": [
    "str1 = \"Geeky shows\"\n",
    "print(id(str1))\n",
    "unrefered element now and collect by garbage\n",
    "str1 = \"python\"\n",
    "print(id(str1))"
   ]
  },
  {
   "cell_type": "code",
   "execution_count": 6,
   "metadata": {},
   "outputs": [
    {
     "name": "stdout",
     "output_type": "stream",
     "text": [
      "swohs ykeeG\n"
     ]
    }
   ],
   "source": [
    "# Index represent the position number of characters in the string\n",
    "str1 = \"Geeky shows\"\n",
    "# print(str1[0])\n",
    "# print(str1[2])\n",
    "# print(str1[10])\n",
    "# print(str1[-1])\n",
    "# print(str1[0:5])\n",
    "# print(str1[6:11])\n",
    "# print(str1[-5:])\n",
    "# print(str1[:])\n",
    "# print(str1[:5])\n",
    "# print(str1[2:])\n",
    "# print(str1[-7:-2])\n",
    "# print(str1[-4:])\n",
    "# print(str1[:-6])\n",
    "# print(str1[2::3])\n",
    "# print(str1[0:2])\n",
    "# print(str1[0::2])\n",
    "# print(str1[-8::2])\n",
    "# print(str1[5:20])\n",
    "# print(str1[1:7:2])\n",
    "# print(str1[0:10:3])\n",
    "# print(str1[::1])\n",
    "# print(str1[::-1])\n",
    "\n"
   ]
  },
  {
   "cell_type": "code",
   "execution_count": null,
   "metadata": {},
   "outputs": [],
   "source": [
    "str1 = \"jaitiwari\"\n",
    "print(len(str1))\n",
    "# index = length-1"
   ]
  },
  {
   "cell_type": "code",
   "execution_count": null,
   "metadata": {},
   "outputs": [],
   "source": [
    "str1 = \"Geekyshows\"\n",
    "for x in str1:\n",
    "    print(x)\n",
    "\n"
   ]
  },
  {
   "cell_type": "code",
   "execution_count": null,
   "metadata": {},
   "outputs": [],
   "source": [
    "str1 = \"Jaitiwari\"\n",
    "for i in range(len(str1)):\n",
    "    print(str1[i])\n",
    "    "
   ]
  },
  {
   "cell_type": "code",
   "execution_count": null,
   "metadata": {},
   "outputs": [],
   "source": [
    "st = \"machine learning\"\n",
    "for i in range(len(st)):\n",
    "    print(st[i].upper())\n",
    "    if i==6:\n",
    "        break\n",
    "print(\"THE END\")"
   ]
  },
  {
   "cell_type": "code",
   "execution_count": null,
   "metadata": {},
   "outputs": [],
   "source": [
    "str1 = \"Jaitiwari\"\n",
    "n = len(str1)\n",
    "i = 0\n",
    "while i <n:\n",
    "    print(str1[i])\n",
    "    i +=1\n",
    "\n"
   ]
  },
  {
   "cell_type": "code",
   "execution_count": null,
   "metadata": {},
   "outputs": [],
   "source": [
    "str3 = \"Hello python programming\"\n",
    "n = len(str3)\n",
    "i = 0\n",
    "while i<n:\n",
    "    print(str3[i])\n",
    "    i +=1"
   ]
  },
  {
   "cell_type": "code",
   "execution_count": null,
   "metadata": {},
   "outputs": [],
   "source": [
    "st = \"hello python programming\"\n",
    "i = 0\n",
    "while i<=len(st):\n",
    "    print(st[i])\n",
    "    i+=1\n",
    "    if i==4:\n",
    "        break\n",
    "print(\"THE END\")\n"
   ]
  },
  {
   "cell_type": "code",
   "execution_count": null,
   "metadata": {},
   "outputs": [],
   "source": [
    "str11 = \"python\"\n",
    "n = len(str11)\n",
    "i = 0\n",
    "while i < n:\n",
    "    print(str11[i])\n",
    "    i+=1"
   ]
  },
  {
   "cell_type": "code",
   "execution_count": null,
   "metadata": {},
   "outputs": [],
   "source": [
    "# list,set,dict = mutable\n",
    "# number,string,tuple = immutable"
   ]
  },
  {
   "cell_type": "code",
   "execution_count": null,
   "metadata": {},
   "outputs": [],
   "source": [
    "str1 = \"Machine learning\"\n",
    "str1[0] = \"N\"\n",
    "print(str1)"
   ]
  },
  {
   "cell_type": "code",
   "execution_count": null,
   "metadata": {},
   "outputs": [],
   "source": [
    "str1 = \"golang\"\n",
    "str1 = \"python\"\n",
    "for i in range(len(str1)):\n",
    "    print(str1[i])\n"
   ]
  },
  {
   "cell_type": "code",
   "execution_count": null,
   "metadata": {},
   "outputs": [],
   "source": [
    "str1 =\"Geekyshows\"\n",
    "print(str1*5)\n",
    "print(str1[0:5]*4)"
   ]
  },
  {
   "cell_type": "code",
   "execution_count": 5,
   "metadata": {},
   "outputs": [
    {
     "name": "stdout",
     "output_type": "stream",
     "text": [
      "hello python\n",
      "hello,jai\n",
      "hello world!\n",
      "hello universe!\n",
      "jai is loving python\n",
      "hello python happy\n"
     ]
    }
   ],
   "source": [
    "# Concatenation of string\n",
    "str1 = \"hello\"\n",
    "str2 = \"python\"\n",
    "print(str1 + \" \" + str2)\n",
    "print(str1 +\",\"+\"jai\")\n",
    "print(str1 + \" \" + \"world!\")\n",
    "print(str1 + \" \" + \"universe!\")\n",
    "print(\"jai is loving\" + \" \"+ str2)\n",
    "print(str1 + \" \"+ str2 + \" \"+\"happy\")"
   ]
  },
  {
   "cell_type": "code",
   "execution_count": null,
   "metadata": {},
   "outputs": [],
   "source": [
    "str1 = \"jaitiwari\"\n",
    "str2 = \"jaitiwari\"\n",
    "result = str1==str2\n",
    "print(result)\n",
    "str3 = \"python\"\n",
    "result = str3 == str2\n",
    "print(result)\n",
    "str5 = \"B\"\n",
    "str6 = \"G\"\n",
    "result = str5 <str6\n",
    "print(result)"
   ]
  },
  {
   "cell_type": "code",
   "execution_count": null,
   "metadata": {},
   "outputs": [],
   "source": [
    "s1 = \"B\"\n",
    "s2  =\"F\"\n",
    "result = s1>s2\n",
    "print(result)\n",
    "result = s2>s1\n",
    "print(result)"
   ]
  },
  {
   "cell_type": "code",
   "execution_count": null,
   "metadata": {},
   "outputs": [],
   "source": [
    "str1 = \"cat\"\n",
    "str2 = \"cot\"\n",
    "result = str1<str2\n",
    "print(result)\n",
    "result1 = str1>str2\n",
    "print(result1)\n"
   ]
  },
  {
   "cell_type": "code",
   "execution_count": null,
   "metadata": {},
   "outputs": [],
   "source": [
    "str1 = \"apple\"\n",
    "str2  =\"Apple\"\n",
    "result = str1>str2\n",
    "print(result)\n",
    "res2 = str2>str1\n",
    "print(res2)"
   ]
  },
  {
   "cell_type": "code",
   "execution_count": null,
   "metadata": {},
   "outputs": [],
   "source": [
    "str = \"acorn\"\n",
    "str1 = \"acoustic\"\n",
    "res = str<str1\n",
    "print(res)"
   ]
  },
  {
   "cell_type": "markdown",
   "metadata": {},
   "source": [
    "# TUPLE N LIST SOME IMP CONCEPT"
   ]
  },
  {
   "cell_type": "code",
   "execution_count": null,
   "metadata": {},
   "outputs": [],
   "source": [
    "s = (\"grapes\", \"mango\", \"apple\")\n",
    "s1 = [\"grapes\",\"banana\",\"mango\",\"apple\"]\n",
    "# In this tuple we use sorted and no sort method and it return a list bcoz tuple is immutable object\n",
    "# print(sorted(s))\n",
    "print(sorted(s))\n",
    "s1.sort()\n",
    "print(s1)\n",
    "print(sorted(s1))\n"
   ]
  },
  {
   "cell_type": "code",
   "execution_count": null,
   "metadata": {},
   "outputs": [],
   "source": [
    "s1 = [\"grapes\",\"banana\",\"mango\",\"apple\"]\n",
    "s2 = [\"c\",\"v\",\"A\"]\n",
    "s1.sort()\n",
    "print(s1)\n",
    "print(sorted(s2))\n",
    "# we can use sort and sorted both method in list"
   ]
  },
  {
   "cell_type": "code",
   "execution_count": null,
   "metadata": {},
   "outputs": [],
   "source": [
    "s1 = {\"grapes\",\"banana\",\"mango\",\"apple\"}\n",
    "# In case of set also we can use sorted method and not sort method and we get the result in list\n",
    "print(sorted(s1))\n"
   ]
  },
  {
   "cell_type": "code",
   "execution_count": null,
   "metadata": {},
   "outputs": [],
   "source": [
    "guitars = [\n",
    "    {\"model\":\"yamaha\", \"price\":8400},\n",
    "    {\"model\":\"faith neptune\", \"price\":50000},\n",
    "    {\"model\":\"faith apolo venus\", \"price\":35000},\n",
    "    {\"model\":\"taylor\",\"price\":450000}\n",
    "]\n",
    "print(guitars)\n",
    "print(sorted(guitars, key = lambda d:d['price'],reverse = True))\n"
   ]
  },
  {
   "cell_type": "markdown",
   "metadata": {},
   "source": [
    "# string"
   ]
  },
  {
   "cell_type": "code",
   "execution_count": null,
   "metadata": {},
   "outputs": [],
   "source": [
    "print(\"My age is {}\".format(62))"
   ]
  },
  {
   "cell_type": "code",
   "execution_count": null,
   "metadata": {},
   "outputs": [],
   "source": [
    "print(\"{1},{0}\".format(10,20))\n",
    "print(\"{0},,{1}\".format(20,40))"
   ]
  },
  {
   "cell_type": "code",
   "execution_count": null,
   "metadata": {},
   "outputs": [],
   "source": [
    "print(\"Number1 is {num1} and Number2 is {num2}\".format(num1 = 20, num2 = 40))"
   ]
  },
  {
   "cell_type": "code",
   "execution_count": null,
   "metadata": {},
   "outputs": [],
   "source": [
    "print(\"Number1 is {num2} and Number2 is {num1}\".format(num1 = 40, num2=50))"
   ]
  },
  {
   "cell_type": "code",
   "execution_count": null,
   "metadata": {},
   "outputs": [],
   "source": [
    "print(\"{0}, {1}\".format(10,20))\n",
    "print(\"{1} and {0}\".format(10,20))"
   ]
  },
  {
   "cell_type": "code",
   "execution_count": null,
   "metadata": {},
   "outputs": [],
   "source": [
    "print(\"the number is {num}\".format(num=10))"
   ]
  },
  {
   "cell_type": "code",
   "execution_count": null,
   "metadata": {},
   "outputs": [],
   "source": [
    "print(\"{},{}\".format(0.56, 20.42))"
   ]
  },
  {
   "cell_type": "code",
   "execution_count": null,
   "metadata": {},
   "outputs": [],
   "source": [
    "print(\"{1},{0}\".format(20.1,56.6))"
   ]
  },
  {
   "cell_type": "code",
   "execution_count": null,
   "metadata": {},
   "outputs": [],
   "source": [
    "print(\"{1},,{0}\".format(90.0, 34.4))\n",
    "# value inside format print as string in output"
   ]
  },
  {
   "cell_type": "code",
   "execution_count": null,
   "metadata": {},
   "outputs": [],
   "source": [
    "print(\"The name is {1} and {0}\".format(\"geeky\", \"shows\"))"
   ]
  },
  {
   "cell_type": "code",
   "execution_count": null,
   "metadata": {},
   "outputs": [],
   "source": [
    "print(\"The name is {0} and {1}\".format(\"geeky\", \"shows\"))"
   ]
  },
  {
   "cell_type": "code",
   "execution_count": null,
   "metadata": {},
   "outputs": [],
   "source": [
    "print(\"{str1} {str2}\".format(str1 = \"geeky\", str2 = \"shows\"))"
   ]
  },
  {
   "cell_type": "code",
   "execution_count": null,
   "metadata": {},
   "outputs": [],
   "source": [
    "print(\"The name is {str2} {str1}\".format(str1 = \"geeky\", str2 = \"shows\"))\n",
    "\n"
   ]
  },
  {
   "cell_type": "code",
   "execution_count": null,
   "metadata": {},
   "outputs": [],
   "source": [
    "print(\"The name is {str2} {str1}\".format(str1 = \"Geeky\", str2 = \"shows\"))"
   ]
  },
  {
   "cell_type": "code",
   "execution_count": null,
   "metadata": {},
   "outputs": [],
   "source": [
    "print(\"The name is {0} {1}\".format(\"Geeky\", \"shows\"))\n"
   ]
  },
  {
   "cell_type": "code",
   "execution_count": null,
   "metadata": {},
   "outputs": [],
   "source": [
    "print(\"The name is {1}, {0}\".format(\"Geeky\", \"shows\"))\n"
   ]
  },
  {
   "cell_type": "code",
   "execution_count": null,
   "metadata": {},
   "outputs": [],
   "source": [
    "print(\"{str1}\".format(str1 = \"geekyshows\"))"
   ]
  },
  {
   "cell_type": "code",
   "execution_count": null,
   "metadata": {},
   "outputs": [],
   "source": [
    "print(\"Hello my name is {}\".format(\"geekyshows\"))"
   ]
  },
  {
   "cell_type": "code",
   "execution_count": null,
   "metadata": {},
   "outputs": [],
   "source": [
    "print(\"{},{}\".format(10, \"shows\"))\n",
    "print(\"{1},{0}\".format(10, \"shows\"))"
   ]
  },
  {
   "cell_type": "code",
   "execution_count": null,
   "metadata": {},
   "outputs": [],
   "source": [
    "print(\"{:d}\".format(15))\n",
    "print(\"{0:d}\".format(15))\n",
    "print(\"The num is {num:d}\".format(num=15))"
   ]
  },
  {
   "cell_type": "code",
   "execution_count": null,
   "metadata": {},
   "outputs": [],
   "source": [
    "print(\"The number is {num:5d}\".format(num=15))"
   ]
  },
  {
   "cell_type": "code",
   "execution_count": null,
   "metadata": {},
   "outputs": [],
   "source": [
    "print(\"The number is {num:05d}\".format(num=15))"
   ]
  },
  {
   "cell_type": "code",
   "execution_count": null,
   "metadata": {},
   "outputs": [],
   "source": [
    "print(\"The number is {num:+5d}\".format(num=15))"
   ]
  },
  {
   "cell_type": "code",
   "execution_count": null,
   "metadata": {},
   "outputs": [],
   "source": [
    "print(\"The number is {num:<5d}\".format(num=15))"
   ]
  },
  {
   "cell_type": "code",
   "execution_count": null,
   "metadata": {},
   "outputs": [],
   "source": [
    "print(\"The number is {num:*<5d}\".format(num=15))"
   ]
  },
  {
   "cell_type": "code",
   "execution_count": null,
   "metadata": {},
   "outputs": [],
   "source": [
    "print(\"The number is {num:*>5d}\".format(num=15))"
   ]
  },
  {
   "cell_type": "code",
   "execution_count": null,
   "metadata": {},
   "outputs": [],
   "source": [
    "print(\"The number is {num:*^5d}\".format(num=15))"
   ]
  },
  {
   "cell_type": "code",
   "execution_count": null,
   "metadata": {},
   "outputs": [],
   "source": [
    "from collections import namedtuple\n",
    "x = namedtuple(\"abc\", (\"jai\", \"sam\",\"depak\"))\n",
    "y = x(90,56,78)\n",
    "print(y)"
   ]
  },
  {
   "cell_type": "code",
   "execution_count": null,
   "metadata": {},
   "outputs": [],
   "source": [
    "print(\"The number is {}\".format(15.65))\n",
    "print(\"The number is {0:f}\".format(15.65))\n",
    "print(\"The number is {num:f}\".format(num=15.65))\n"
   ]
  },
  {
   "cell_type": "code",
   "execution_count": null,
   "metadata": {},
   "outputs": [],
   "source": [
    "print(\"The number is {num1:8f}\".format(num1=12.34))"
   ]
  },
  {
   "cell_type": "code",
   "execution_count": null,
   "metadata": {},
   "outputs": [],
   "source": [
    "print(\"The number is {num2:8.3f}\".format(num2 = 34.45))\n"
   ]
  },
  {
   "cell_type": "code",
   "execution_count": null,
   "metadata": {},
   "outputs": [],
   "source": [
    "print(\"The number is {num4:>8.4f}\".format(num4=12.3))"
   ]
  },
  {
   "cell_type": "code",
   "execution_count": 1,
   "metadata": {},
   "outputs": [
    {
     "name": "stdout",
     "output_type": "stream",
     "text": [
      "The number is **12.900\n"
     ]
    }
   ],
   "source": [
    "print(\"The number is {num5:*>8.3f}\".format(num5 = 12.9))"
   ]
  },
  {
   "cell_type": "code",
   "execution_count": null,
   "metadata": {},
   "outputs": [],
   "source": [
    "print(\"The number is {num1:*<8.3f}\".format(num1=23.45))"
   ]
  },
  {
   "cell_type": "code",
   "execution_count": null,
   "metadata": {},
   "outputs": [],
   "source": [
    "print(\"The number is {num2:*^8.2f}\".format(num2=50.0))"
   ]
  },
  {
   "cell_type": "code",
   "execution_count": 4,
   "metadata": {},
   "outputs": [
    {
     "name": "stdout",
     "output_type": "stream",
     "text": [
      "The name isgeeks   \n"
     ]
    }
   ],
   "source": [
    "print(\"The name is{:8s}\".format(\"geeks\"))"
   ]
  },
  {
   "cell_type": "code",
   "execution_count": 6,
   "metadata": {},
   "outputs": [
    {
     "name": "stdout",
     "output_type": "stream",
     "text": [
      "The name is jai     \n"
     ]
    }
   ],
   "source": [
    "print(\"The name is {:<8s}\".format(\"jai\"))"
   ]
  },
  {
   "cell_type": "code",
   "execution_count": 7,
   "metadata": {},
   "outputs": [
    {
     "name": "stdout",
     "output_type": "stream",
     "text": [
      "The name is jai*****\n"
     ]
    }
   ],
   "source": [
    "print(\"The name is {:*<8s}\".format(\"jai\"))"
   ]
  },
  {
   "cell_type": "code",
   "execution_count": 8,
   "metadata": {},
   "outputs": [
    {
     "name": "stdout",
     "output_type": "stream",
     "text": [
      "The name is      sam\n"
     ]
    }
   ],
   "source": [
    "print(\"The name is {:>8s}\".format(\"sam\"))"
   ]
  },
  {
   "cell_type": "code",
   "execution_count": 9,
   "metadata": {},
   "outputs": [
    {
     "name": "stdout",
     "output_type": "stream",
     "text": [
      "The name is ******sa\n"
     ]
    }
   ],
   "source": [
    "print(\"The name is {:*>8.2s}\".format(\"sam\"))"
   ]
  },
  {
   "cell_type": "code",
   "execution_count": 10,
   "metadata": {},
   "outputs": [
    {
     "name": "stdout",
     "output_type": "stream",
     "text": [
      "The name is *mahek**\n"
     ]
    }
   ],
   "source": [
    "print(\"The name is {:*^8s}\".format(\"mahek\"))"
   ]
  },
  {
   "cell_type": "code",
   "execution_count": 11,
   "metadata": {},
   "outputs": [
    {
     "name": "stdout",
     "output_type": "stream",
     "text": [
      "The name is #mahek##\n"
     ]
    }
   ],
   "source": [
    "print(\"The name is {:#^8s}\".format(\"mahek\"))"
   ]
  },
  {
   "cell_type": "code",
   "execution_count": 12,
   "metadata": {},
   "outputs": [
    {
     "name": "stdout",
     "output_type": "stream",
     "text": [
      "The name is Geeks   \n"
     ]
    }
   ],
   "source": [
    "print(\"The name is {:8s}\".format(\"Geeks\"))"
   ]
  },
  {
   "cell_type": "code",
   "execution_count": 13,
   "metadata": {},
   "outputs": [
    {
     "name": "stdout",
     "output_type": "stream",
     "text": [
      "The name is jait    \n"
     ]
    }
   ],
   "source": [
    "print(\"The name is {:8.4s}\".format(\"jaitiwari\"))"
   ]
  },
  {
   "cell_type": "code",
   "execution_count": 14,
   "metadata": {},
   "outputs": [
    {
     "name": "stdout",
     "output_type": "stream",
     "text": [
      "The name is pyt     \n"
     ]
    }
   ],
   "source": [
    "print(\"The name is {:8.3s}\".format(\"python\"))"
   ]
  },
  {
   "cell_type": "code",
   "execution_count": 15,
   "metadata": {},
   "outputs": [
    {
     "name": "stdout",
     "output_type": "stream",
     "text": [
      "The name is      jay\n"
     ]
    }
   ],
   "source": [
    "print(\"The name is {:>8s}\".format(\"jay\"))"
   ]
  },
  {
   "cell_type": "code",
   "execution_count": 16,
   "metadata": {},
   "outputs": [
    {
     "name": "stdout",
     "output_type": "stream",
     "text": [
      "The name is       ja\n"
     ]
    }
   ],
   "source": [
    "print(\"The name is {:>8.2s}\".format(\"jay\"))"
   ]
  },
  {
   "cell_type": "code",
   "execution_count": 17,
   "metadata": {},
   "outputs": [
    {
     "name": "stdout",
     "output_type": "stream",
     "text": [
      "The name is $$$$$$ja\n"
     ]
    }
   ],
   "source": [
    "print(\"The name is {:$>8.2s}\".format(\"jay\"))"
   ]
  },
  {
   "cell_type": "code",
   "execution_count": 18,
   "metadata": {},
   "outputs": [
    {
     "name": "stdout",
     "output_type": "stream",
     "text": [
      "The name is j*******\n"
     ]
    }
   ],
   "source": [
    "print(\"The name is {:*<8.1s}\".format(\"jay\"))"
   ]
  },
  {
   "cell_type": "code",
   "execution_count": 19,
   "metadata": {},
   "outputs": [
    {
     "name": "stdout",
     "output_type": "stream",
     "text": [
      "The name is &&jay&&&\n"
     ]
    }
   ],
   "source": [
    "print(\"The name is {:&^8s}\".format(\"jay\"))"
   ]
  },
  {
   "cell_type": "code",
   "execution_count": 20,
   "metadata": {},
   "outputs": [
    {
     "name": "stdout",
     "output_type": "stream",
     "text": [
      "The name is %%%ja%%%\n"
     ]
    }
   ],
   "source": [
    "print(\"The name is {:%^8.2s}\".format(\"jay\"))"
   ]
  },
  {
   "cell_type": "code",
   "execution_count": 21,
   "metadata": {},
   "outputs": [
    {
     "name": "stdout",
     "output_type": "stream",
     "text": [
      "The number is 34,761,245\n"
     ]
    }
   ],
   "source": [
    "print(\"The number is {:,}\".format(34761245))"
   ]
  },
  {
   "cell_type": "code",
   "execution_count": null,
   "metadata": {},
   "outputs": [],
   "source": [
    "print(\"The number is {:_}\".format(275634654))"
   ]
  },
  {
   "cell_type": "code",
   "execution_count": null,
   "metadata": {},
   "outputs": [],
   "source": [
    "name = \"rahul\"\n",
    "age = 34.6\n",
    "print(\"my name is {:8.3s} and my age is {:8.2f}\".format(name, age))\n",
    "print(\"My name is {} and my age is {}\".format(name, age))"
   ]
  },
  {
   "cell_type": "code",
   "execution_count": null,
   "metadata": {},
   "outputs": [],
   "source": [
    "a = 50\n",
    "b = 5\n",
    "print(\"The formatted answer is {:.1%}\".format(a/b))"
   ]
  },
  {
   "cell_type": "code",
   "execution_count": null,
   "metadata": {},
   "outputs": [],
   "source": [
    "value = (10,20)\n",
    "print(\"The value is {0[0]}, {0[1]}\".format(value))"
   ]
  },
  {
   "cell_type": "code",
   "execution_count": null,
   "metadata": {},
   "outputs": [],
   "source": [
    "data1= {\"name\":\"jai\", \"age\":12}\n",
    "print(\"The name is {} and age is {}\".format(data1['name'],data1['age']))"
   ]
  },
  {
   "cell_type": "code",
   "execution_count": null,
   "metadata": {},
   "outputs": [],
   "source": [
    "person = {\"course\":\"java\", \"fees\":30000}\n",
    "print(\"The course is {} and the fees is {}\".format(person['course'], person['fees']))\n",
    "print(\"The course is {course} and the fes is {fees}\".format(**person))"
   ]
  },
  {
   "cell_type": "code",
   "execution_count": null,
   "metadata": {},
   "outputs": [],
   "source": [
    "print(f'The num is {3*6+12}')"
   ]
  },
  {
   "cell_type": "code",
   "execution_count": null,
   "metadata": {},
   "outputs": [],
   "source": [
    "a=100\n",
    "b=3\n",
    "print(f\"The number is {a*b:.2f}\")"
   ]
  },
  {
   "cell_type": "code",
   "execution_count": null,
   "metadata": {},
   "outputs": [],
   "source": [
    "a=100\n",
    "b=3\n",
    "print(f\"The product of number is {a*b:.3f}\")"
   ]
  },
  {
   "cell_type": "code",
   "execution_count": null,
   "metadata": {},
   "outputs": [],
   "source": [
    "a = 45\n",
    "b =5\n",
    "print(f\"The division is {a/b:.3f}\")"
   ]
  },
  {
   "cell_type": "code",
   "execution_count": null,
   "metadata": {},
   "outputs": [],
   "source": [
    "a = 45\n",
    "b = 5\n",
    "print(f\"The division is {a/b:.3%}\")"
   ]
  },
  {
   "cell_type": "code",
   "execution_count": null,
   "metadata": {},
   "outputs": [],
   "source": [
    "marks = (40,50)\n",
    "print(f\"The marks is {marks[0]} and {marks[1]}\")"
   ]
  },
  {
   "cell_type": "code",
   "execution_count": null,
   "metadata": {},
   "outputs": [],
   "source": [
    "employee = (\"jai\", \"sun\")\n",
    "print(f\"The name is {employee[0]} and {employee[1]}\")"
   ]
  },
  {
   "cell_type": "code",
   "execution_count": null,
   "metadata": {},
   "outputs": [],
   "source": [
    "data = {\"name\":\"rahul\", \"marks\":20}\n",
    "print(f\"The name is {data['name']} and my marks is {data['marks']}\")"
   ]
  },
  {
   "cell_type": "code",
   "execution_count": null,
   "metadata": {},
   "outputs": [],
   "source": [
    "name = \"jai\"\n",
    "print(f\"The name is {name.upper():8.2s}\")"
   ]
  },
  {
   "cell_type": "code",
   "execution_count": null,
   "metadata": {},
   "outputs": [],
   "source": [
    "name = \"python\"\n",
    "print(f\"The programming language is {name.upper():@>8.2s}\")"
   ]
  },
  {
   "cell_type": "code",
   "execution_count": null,
   "metadata": {},
   "outputs": [],
   "source": [
    "print(f\"{10}\")"
   ]
  },
  {
   "cell_type": "code",
   "execution_count": null,
   "metadata": {},
   "outputs": [],
   "source": [
    "print(f\"{{10}}\")"
   ]
  },
  {
   "cell_type": "code",
   "execution_count": null,
   "metadata": {},
   "outputs": [],
   "source": [
    "import datetime\n",
    "dt = datetime.datetime(2020, 10,21,6,23,14)\n",
    "print(f\"The date is {dt}\")\n",
    "print(f\"The new date is {dt:%d/%b/%y}\")"
   ]
  },
  {
   "cell_type": "code",
   "execution_count": null,
   "metadata": {},
   "outputs": [],
   "source": [
    "print(\"hello world\\\", i\\\"m here\")"
   ]
  },
  {
   "cell_type": "code",
   "execution_count": null,
   "metadata": {},
   "outputs": [],
   "source": [
    "print(\"\"\" python is a\n",
    "high level object oriented\n",
    "programming language\"\"\")"
   ]
  },
  {
   "cell_type": "code",
   "execution_count": 37,
   "metadata": {},
   "outputs": [
    {
     "name": "stdout",
     "output_type": "stream",
     "text": [
      "great people are\n",
      "born to\n",
      "to do great things\n"
     ]
    }
   ],
   "source": [
    "print(\"great people are\\nborn to\\nto do great things\")"
   ]
  },
  {
   "cell_type": "markdown",
   "metadata": {},
   "source": [
    "# check if len of number is even(while input d number)(i.e 1276,34,897645) and if sum of first half digit is equal to sum of second half digit then yes ,else print 'no';\n"
   ]
  },
  {
   "cell_type": "code",
   "execution_count": 6,
   "metadata": {},
   "outputs": [
    {
     "name": "stdout",
     "output_type": "stream",
     "text": [
      "Enter the number4527\n",
      "yes\n"
     ]
    }
   ],
   "source": [
    "n = int(input(\"Enter the number\"))\n",
    "sum1 = 0\n",
    "sum2 = 0\n",
    "for i in range(len(str(n))//2):\n",
    "    sum1 = sum1 + int(str(n)[i])\n",
    "\n",
    "for i in range(len(str(n))//2, len(str(n))):\n",
    "    sum2 =   sum2 + int(str(n)[i])\n",
    "if sum1 == sum2:\n",
    "    print(\"yes\")\n",
    "else:\n",
    "    print(\"no\")"
   ]
  },
  {
   "cell_type": "markdown",
   "metadata": {},
   "source": [
    "#### "
   ]
  },
  {
   "cell_type": "markdown",
   "metadata": {},
   "source": [
    "# string-converting string to list(by using split() method)"
   ]
  },
  {
   "cell_type": "code",
   "execution_count": 6,
   "metadata": {},
   "outputs": [
    {
     "name": "stdout",
     "output_type": "stream",
     "text": [
      "['The', 'every', 'part', 'of', 'python', 'has', 'pandas']\n",
      "['The every ', 'art of ', 'ython has ', 'andas']\n",
      "['The', 'every', 'part of python has pandas']\n"
     ]
    }
   ],
   "source": [
    "sentance  = \"The every part of python has pandas\"\n",
    "x = sentance.split()\n",
    "\"\"\"by default if u give nothing then space is a delimeter,otherwise u can also give space as a dilimeter\"\"\"\n",
    "# when u split the string it automatically converted into list\n",
    "print(x)\n",
    "x1 = sentance.split(\"p\")\n",
    "print(x1)\n",
    "x2 = sentance.split(maxsplit=2)\n",
    "print(x2)"
   ]
  },
  {
   "cell_type": "markdown",
   "metadata": {},
   "source": [
    "# converting list to string"
   ]
  },
  {
   "cell_type": "code",
   "execution_count": 12,
   "metadata": {},
   "outputs": [
    {
     "name": "stdout",
     "output_type": "stream",
     "text": [
      "f jai q p y t h o n\n",
      "<class 'str'>\n"
     ]
    }
   ],
   "source": [
    "# CONVERTING LIST(OF TEXT) INTO STRING\n",
    "list1 = [\"f\",\"jai\",\"q\",\"p\",\"y\",\"t\",\"h\",\"o\",\"n\"]\n",
    "x = \" \".join(list1)\n",
    "print(x)\n",
    "print(type(x))\n",
    "# list should have all str type data in it"
   ]
  },
  {
   "cell_type": "markdown",
   "metadata": {},
   "source": [
    "# Reverse the given string through Recursive method"
   ]
  },
  {
   "cell_type": "code",
   "execution_count": 1,
   "metadata": {},
   "outputs": [
    {
     "name": "stdout",
     "output_type": "stream",
     "text": [
      "Enter the string: machineLearning\n",
      "Reversed string is: gninraeLenihcam\n"
     ]
    }
   ],
   "source": [
    "def reverse_str(str1):\n",
    "    if len(str1) == 1:\n",
    "        return str1\n",
    "    else:\n",
    "        return reverse_str(str1[1:])+str1[0]\n",
    "    \n",
    "str1 = input(\"Enter the string: \")\n",
    "str2 = reverse_str(str1)\n",
    "print(\"Reversed string is:\", str2)"
   ]
  },
  {
   "cell_type": "markdown",
   "metadata": {},
   "source": [
    "# Extracting vowels from string"
   ]
  },
  {
   "cell_type": "code",
   "execution_count": 1,
   "metadata": {},
   "outputs": [
    {
     "name": "stdout",
     "output_type": "stream",
     "text": [
      "m ch n L  rn ng\n"
     ]
    }
   ],
   "source": [
    "def vowels(str):\n",
    "    v = [\"a\",\"e\",\"i\",\"o\",\"u\",\"A\",\"E\",\"I\",\"O\",\"U\"]\n",
    "    for i in str:\n",
    "        if i in v:\n",
    "            str = str.replace(i, \" \")\n",
    "    print(str)\n",
    "vowels(\"machineLearning\")"
   ]
  },
  {
   "cell_type": "code",
   "execution_count": 2,
   "metadata": {},
   "outputs": [
    {
     "name": "stdout",
     "output_type": "stream",
     "text": [
      "W$e$l$c$o$m$e$ $t$o$ $v$a$r$d$h$a$n$ $T$u$t$o$r$i$a$l$"
     ]
    }
   ],
   "source": [
    "str = \"Welcome to vardhan Tutorial\"\n",
    "for i in str:\n",
    "    print(i, end=\"$\")"
   ]
  },
  {
   "cell_type": "markdown",
   "metadata": {},
   "source": [
    "# How to count total uppercase,lowercase and vowels from string in python"
   ]
  },
  {
   "cell_type": "code",
   "execution_count": 4,
   "metadata": {},
   "outputs": [
    {
     "name": "stdout",
     "output_type": "stream",
     "text": [
      "lower: 16\n",
      "upper: 4\n",
      "vowels: 10\n"
     ]
    }
   ],
   "source": [
    "str = \"Welcome To Jai Tutorial\"\n",
    "l,u = 0,0\n",
    "v = 0\n",
    "for i in str:\n",
    "    if i>='a' and i<='z':\n",
    "        l +=1\n",
    "    if i>='A'and i<='Z':\n",
    "        u +=1\n",
    "    if i in 'aeiouAEIOU':\n",
    "        v +=1\n",
    "print(\"lower:\", l)\n",
    "print(\"upper:\", u)\n",
    "print(\"vowels:\", v)"
   ]
  },
  {
   "cell_type": "markdown",
   "metadata": {},
   "source": [
    "<!-- CONVERTING LIST(OF ANY DATA) INTO STRING -->\n"
   ]
  },
  {
   "cell_type": "code",
   "execution_count": 16,
   "metadata": {},
   "outputs": [
    {
     "name": "stdout",
     "output_type": "stream",
     "text": [
      "[9, 3.4, [1, 2], (5, 6), 'j', False]\n"
     ]
    }
   ],
   "source": [
    "list1 = [9,3.4,[1,2],(5,6),\"j\",False]\n",
    "x = (str(list1))\n",
    "print(x)"
   ]
  },
  {
   "cell_type": "code",
   "execution_count": 17,
   "metadata": {},
   "outputs": [
    {
     "name": "stdout",
     "output_type": "stream",
     "text": [
      "j\n"
     ]
    }
   ],
   "source": [
    "print\""
   ]
  },
  {
   "cell_type": "code",
   "execution_count": 1,
   "metadata": {},
   "outputs": [
    {
     "name": "stdout",
     "output_type": "stream",
     "text": [
      "G\n",
      "e\n",
      "e\n",
      "k\n",
      "y\n",
      "s\n",
      "h\n",
      "o\n",
      "w\n",
      "s\n"
     ]
    }
   ],
   "source": [
    "str1 =\"Geekyshows\"\n",
    "n = len(str1)\n",
    "for i in range(n):\n",
    "    print(str1[i])"
   ]
  },
  {
   "cell_type": "code",
   "execution_count": 4,
   "metadata": {},
   "outputs": [
    {
     "name": "stdout",
     "output_type": "stream",
     "text": [
      "G\n",
      "e\n",
      "e\n",
      "k\n",
      "y\n",
      "s\n",
      "h\n",
      "o\n",
      "w\n",
      "s\n"
     ]
    },
    {
     "ename": "IndexError",
     "evalue": "string index out of range",
     "output_type": "error",
     "traceback": [
      "\u001b[1;31m---------------------------------------------------------------------------\u001b[0m",
      "\u001b[1;31mIndexError\u001b[0m                                Traceback (most recent call last)",
      "\u001b[1;32m<ipython-input-4-0c78182bb68a>\u001b[0m in \u001b[0;36m<module>\u001b[1;34m\u001b[0m\n\u001b[0;32m      3\u001b[0m \u001b[0mi\u001b[0m\u001b[1;33m=\u001b[0m\u001b[1;36m0\u001b[0m\u001b[1;33m\u001b[0m\u001b[1;33m\u001b[0m\u001b[0m\n\u001b[0;32m      4\u001b[0m \u001b[1;32mwhile\u001b[0m \u001b[0mi\u001b[0m\u001b[1;33m<=\u001b[0m\u001b[0mn\u001b[0m\u001b[1;33m:\u001b[0m\u001b[1;33m\u001b[0m\u001b[1;33m\u001b[0m\u001b[0m\n\u001b[1;32m----> 5\u001b[1;33m     \u001b[0mprint\u001b[0m\u001b[1;33m(\u001b[0m\u001b[0mstr1\u001b[0m\u001b[1;33m[\u001b[0m\u001b[0mi\u001b[0m\u001b[1;33m]\u001b[0m\u001b[1;33m)\u001b[0m\u001b[1;33m\u001b[0m\u001b[1;33m\u001b[0m\u001b[0m\n\u001b[0m\u001b[0;32m      6\u001b[0m     \u001b[0mi\u001b[0m\u001b[1;33m+=\u001b[0m\u001b[1;36m1\u001b[0m\u001b[1;33m\u001b[0m\u001b[1;33m\u001b[0m\u001b[0m\n\u001b[0;32m      7\u001b[0m \u001b[0mprint\u001b[0m\u001b[1;33m(\u001b[0m\u001b[1;34m\"jai\"\u001b[0m\u001b[1;33m)\u001b[0m\u001b[1;33m\u001b[0m\u001b[1;33m\u001b[0m\u001b[0m\n",
      "\u001b[1;31mIndexError\u001b[0m: string index out of range"
     ]
    }
   ],
   "source": [
    "str1 =\"Geekyshows\"\n",
    "n = len(str1)\n",
    "i=0\n",
    "while i<=n:\n",
    "    print(str1[i])\n",
    "    i+=1\n",
    "    "
   ]
  },
  {
   "cell_type": "code",
   "execution_count": null,
   "metadata": {},
   "outputs": [],
   "source": [
    "STRIP(),RSTRIP(),ISSTRIP() METHOD IN STRING"
   ]
  },
  {
   "cell_type": "code",
   "execution_count": null,
   "metadata": {},
   "outputs": [],
   "source": [
    "strip =remove space from both side of string\n",
    "rstrip=remove space which is at the right side of space\n",
    "lstrip=remove space which is at left side of string"
   ]
  },
  {
   "cell_type": "code",
   "execution_count": 7,
   "metadata": {},
   "outputs": [
    {
     "name": "stdout",
     "output_type": "stream",
     "text": [
      "    Geekyshows\n",
      "Geekyshows\n"
     ]
    }
   ],
   "source": [
    "name = \"    Geekyshows\"\n",
    "a = name.lstrip()\n",
    "print(name)\n",
    "print(a)"
   ]
  },
  {
   "cell_type": "code",
   "execution_count": 8,
   "metadata": {},
   "outputs": [
    {
     "name": "stdout",
     "output_type": "stream",
     "text": [
      "Geekyshows  \n",
      "Geekyshows\n"
     ]
    }
   ],
   "source": [
    "name = \"Geekyshows  \"\n",
    "a = name.rstrip()\n",
    "print(name)\n",
    "print(a)"
   ]
  },
  {
   "cell_type": "code",
   "execution_count": 9,
   "metadata": {},
   "outputs": [
    {
     "name": "stdout",
     "output_type": "stream",
     "text": [
      "   Geekyshows    \n",
      "Geekyshows\n"
     ]
    }
   ],
   "source": [
    "name = \"   Geekyshows    \"\n",
    "a = name.strip()\n",
    "print(name)\n",
    "print(a)"
   ]
  },
  {
   "cell_type": "code",
   "execution_count": 10,
   "metadata": {},
   "outputs": [
    {
     "name": "stdout",
     "output_type": "stream",
     "text": [
      "   Geekyshows  \n",
      "   Geekyshows\n"
     ]
    }
   ],
   "source": [
    "name = \"   Geekyshows  \"\n",
    "a = name.rstrip()\n",
    "print(name)\n",
    "print(a)"
   ]
  },
  {
   "cell_type": "code",
   "execution_count": null,
   "metadata": {},
   "outputs": [],
   "source": [
    "Replace:=It replace a substring in a string with another sub string\n",
    "split():=It split the string into pieces and these pieces returns in List\n",
    "Join()=used to join strings into one string"
   ]
  },
  {
   "cell_type": "code",
   "execution_count": null,
   "metadata": {},
   "outputs": [],
   "source": [
    "RELACE()METHOD"
   ]
  },
  {
   "cell_type": "code",
   "execution_count": 15,
   "metadata": {},
   "outputs": [
    {
     "name": "stdout",
     "output_type": "stream",
     "text": [
      "Geekyshows\n",
      "Newshows\n",
      "\n",
      "Geekyshows\n",
      "Geekyshows\n",
      "\n",
      "Geekyshows\n",
      "Geekydamaka\n"
     ]
    }
   ],
   "source": [
    "name = \"Geekyshows\"\n",
    "old = 'Geeky'\n",
    "new ='New'\n",
    "str1 = name.replace(old, new)\n",
    "print(name)\n",
    "print(str1)\n",
    "# or we can use\n",
    "print()\n",
    "str2 = name.replace(\"geeky\",\"sonam\")\n",
    "print(name)\n",
    "print(str2)\n",
    "print()\n",
    "x1 = name.replace(\"shows\",\"damaka\")\n",
    "print(name)\n",
    "print(x1)"
   ]
  },
  {
   "cell_type": "code",
   "execution_count": null,
   "metadata": {},
   "outputs": [],
   "source": [
    "SPLIT()METHOD"
   ]
  },
  {
   "cell_type": "code",
   "execution_count": 19,
   "metadata": {},
   "outputs": [
    {
     "name": "stdout",
     "output_type": "stream",
     "text": [
      "['Hello', 'how', 'are', 'you']\n",
      "['Hello-', 'ow-are-you']\n",
      "['jai', 'prakash', 'tiwari']\n",
      "['jai', 'prakash', 'tiwari']\n"
     ]
    }
   ],
   "source": [
    "name = \"Hello-how-are-you\"\n",
    "str1 = name.split(\"-\")\n",
    "print(str1)\n",
    "str2 = name.split(\"h\")\n",
    "print(str2)\n",
    "name1 = \"jai prakash tiwari\"\n",
    "str3 = name1.split()\n",
    "print(str3)\n",
    "str4 = name1.split(\" \")\n",
    "print(str4)"
   ]
  },
  {
   "cell_type": "code",
   "execution_count": null,
   "metadata": {},
   "outputs": [],
   "source": [
    "JOIN"
   ]
  },
  {
   "cell_type": "code",
   "execution_count": 22,
   "metadata": {},
   "outputs": [
    {
     "name": "stdout",
     "output_type": "stream",
     "text": [
      "hello how are you\n",
      "\n",
      "hello_how_are_you\n",
      "\n",
      "hello/how/are/you\n"
     ]
    }
   ],
   "source": [
    "name = (\"hello\",\"how\",\"are\",\"you\")\n",
    "str1 = \" \".join(name)\n",
    "print(str1)\n",
    "print()\n",
    "str2 = \"_\".join(name)\n",
    "print(str2)\n",
    "print()\n",
    "str3 = \"/\".join(name)\n",
    "print(str3)"
   ]
  },
  {
   "cell_type": "code",
   "execution_count": null,
   "metadata": {},
   "outputs": [],
   "source": [
    "isspace:=return true if string contains space else returns false"
   ]
  },
  {
   "cell_type": "code",
   "execution_count": 26,
   "metadata": {},
   "outputs": [
    {
     "name": "stdout",
     "output_type": "stream",
     "text": [
      "True\n",
      "True\n",
      "False\n",
      "False\n"
     ]
    }
   ],
   "source": [
    "name =\" \"\n",
    "print(name.isspace())\n",
    "name1 = \"       \"\n",
    "print(name.isspace())\n",
    "name2 = \"jai        \"\n",
    "print(name2.isspace())\n",
    "name3 = \"            sam\"\n",
    "print(name3.isspace())"
   ]
  },
  {
   "cell_type": "code",
   "execution_count": null,
   "metadata": {},
   "outputs": [],
   "source": [
    "STARTSWITH= used to chk whether a string start with substring not .It return True if it start with specific sub string"
   ]
  },
  {
   "cell_type": "code",
   "execution_count": 30,
   "metadata": {},
   "outputs": [
    {
     "name": "stdout",
     "output_type": "stream",
     "text": [
      "True\n",
      "\n",
      "False\n",
      "\n",
      "False\n"
     ]
    }
   ],
   "source": [
    "name = \"hi how are you\"\n",
    "print(name.startswith(\"hi\"))\n",
    "print()\n",
    "print(name.startswith(\"jai\"))\n",
    "print()\n",
    "print(name.startswith(\"jam\"))"
   ]
  },
  {
   "cell_type": "code",
   "execution_count": null,
   "metadata": {},
   "outputs": [],
   "source": [
    "ENDSWITH"
   ]
  },
  {
   "cell_type": "code",
   "execution_count": 34,
   "metadata": {},
   "outputs": [
    {
     "name": "stdout",
     "output_type": "stream",
     "text": [
      "True\n",
      "True\n",
      "False\n",
      "False\n"
     ]
    }
   ],
   "source": [
    "name = \"hi how are you\"\n",
    "str1 = name.endswith(\"you\")\n",
    "print(str1)\n",
    "str2 = name.endswith(\"ou\")\n",
    "print(str2)\n",
    "str3 = name.endswith(\"sam\")\n",
    "print(str3)\n",
    "str3 = name.endswith(\"bye\")\n",
    "print(str3)"
   ]
  },
  {
   "cell_type": "code",
   "execution_count": null,
   "metadata": {},
   "outputs": [],
   "source": []
  }
 ],
 "metadata": {
  "kernelspec": {
   "display_name": "Python 3",
   "language": "python",
   "name": "python3"
  },
  "language_info": {
   "codemirror_mode": {
    "name": "ipython",
    "version": 3
   },
   "file_extension": ".py",
   "mimetype": "text/x-python",
   "name": "python",
   "nbconvert_exporter": "python",
   "pygments_lexer": "ipython3",
   "version": "3.8.5"
  }
 },
 "nbformat": 4,
 "nbformat_minor": 4
}
