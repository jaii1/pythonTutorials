{
 "cells": [
  {
   "cell_type": "code",
   "execution_count": null,
   "metadata": {},
   "outputs": [],
   "source": [
    "MACHINE LEARNING"
   ]
  },
  {
   "cell_type": "code",
   "execution_count": null,
   "metadata": {},
   "outputs": [],
   "source": [
    "It is a Growing technology and a part of AL, which enable the machines to learn on its own on the bases of \n",
    "the Historical data or informaton and It improves its performances automatically from Experiences and \n",
    "by gaining more data and thus predicts things and models without being being explicitly Programmed.\n",
    "\n",
    "Supose we have complex problem, where we need some  kind of prediction then we use machine Larning. Machine Learning uses\n",
    "various kind of Algorithms, so instead of writing code ,we just feed the data to these algorithms, these algorithms bulit\n",
    "the logic and predict output\n",
    "\n",
    "It is used to detect various hidden patterns and extract information  in the given dataset\n",
    "Currently Machine Learning used in Self-driving cars,face recognition,friends suggest by facebook,speech recognition,\n",
    "email- filtering,Recommendation system.Alexa\n",
    "Top companies Like Netflix and Amazon also used Machine Learning models that are using vast amount of data to analysis\n",
    "user interest and product accordingly."
   ]
  },
  {
   "cell_type": "code",
   "execution_count": null,
   "metadata": {},
   "outputs": [],
   "source": [
    "Thee are 3 types of machine Learning"
   ]
  },
  {
   "cell_type": "code",
   "execution_count": null,
   "metadata": {},
   "outputs": [],
   "source": [
    "1)Supervised Machine Learning\n",
    "2)Unsupervised Machine Learning\n",
    "3)Reinforcement Learning"
   ]
  },
  {
   "cell_type": "code",
   "execution_count": null,
   "metadata": {},
   "outputs": [],
   "source": [
    "SUPERVISED MACHINE LEARNING"
   ]
  },
  {
   "cell_type": "code",
   "execution_count": null,
   "metadata": {},
   "outputs": [],
   "source": [
    "SUPERVISED MACHINE LEARNING- is a type of machine Learning in which we provide sample labeled data to the machine Learnig\n",
    "models or alogithms in order to teach or train it.Labeled data means some data already tagged with corrrect answer. Once\n",
    "the training and processing are done.We test the model by proving sone data(tagged as test data) to chech whether it is\n",
    "predicting the correct answer or not\n",
    "It is used to map input data with output data\n",
    "\n",
    "\n",
    "Suppose a dataset contains  different shapes like square,rectangle,triangle etc, so we train model that if shape has 4 side\n",
    "and they are equal then it is labelled as Square ,similarly 3 sides then it is labelled as triangle and like so on.\n",
    "now after training ,we test the model on test data and its task is to  identify shapes , so when any shapes is given\n",
    "then it identify the shape on the basis of its sides , ok\n",
    "\n",
    "E.g = Spam filtering\n",
    "fraud detection\n",
    "\n",
    "\n",
    "ADVANTAGES\n",
    "1)It is Highly accurate\n",
    "\n",
    "DISADVANTAGES\n",
    "1)classifying big data can be challenging\n",
    "2)Training for models requires a lot of time\n",
    "3)Not suitable for complex tasks\n",
    "\n",
    "It further divided into 2 categories\n",
    "\n",
    "1)Regression\n",
    "2)Classification"
   ]
  },
  {
   "cell_type": "code",
   "execution_count": null,
   "metadata": {},
   "outputs": [],
   "source": [
    "REGRESSION(Supervised Learning)"
   ]
  },
  {
   "cell_type": "code",
   "execution_count": null,
   "metadata": {},
   "outputs": [],
   "source": [
    "It is used for Predictive modelling in machine learning \n",
    "It is a supervised learning technique, which is used to determine the statistical relatioship between\n",
    "dependent variabe(output) and one or more independent variables(input).It ebnables us to predict the continuous\n",
    "output(dependent) variable based on independent variables.\n",
    "The variable you want to predict is called the dependent variable\n",
    "The variable you are using to predict the other variable's value is called the independent variable.\n",
    "Independent variable always on x Axis and Dependent variable is always on the y Axis\n",
    "\n",
    "eg=Weather forecasting\n",
    "Market tends"
   ]
  },
  {
   "cell_type": "code",
   "execution_count": null,
   "metadata": {},
   "outputs": [],
   "source": [
    "TYPES OF REGRESSION"
   ]
  },
  {
   "cell_type": "code",
   "execution_count": null,
   "metadata": {},
   "outputs": [],
   "source": [
    "Linear Regression\n",
    "Multiple Linear Regression\n",
    "Polynomials Regression\n",
    "Naive Bayes"
   ]
  },
  {
   "cell_type": "code",
   "execution_count": null,
   "metadata": {},
   "outputs": [],
   "source": [
    "CLASSIFICATION SUPERVISED LEARNING"
   ]
  },
  {
   "cell_type": "code",
   "execution_count": null,
   "metadata": {},
   "outputs": [],
   "source": [
    "It is used when output variable is categorical, which means there are 2 classes  Yes-No Male-Female True-False, span and\n",
    "not a spam"
   ]
  },
  {
   "cell_type": "code",
   "execution_count": null,
   "metadata": {},
   "outputs": [],
   "source": [
    "TYPES OF CLASSIFICATION SUPERVISED LEARNING"
   ]
  },
  {
   "cell_type": "code",
   "execution_count": null,
   "metadata": {},
   "outputs": [],
   "source": [
    "Logistic Regression\n",
    "Decision Tree\n",
    "Random Forest\n",
    "SVM(SUPPORT VECTOR MACHINE)\n",
    "KNN(K NEIGHEST NEIGHBOUR)"
   ]
  },
  {
   "cell_type": "code",
   "execution_count": null,
   "metadata": {},
   "outputs": [],
   "source": [
    "UNSUPERVISED MACHINE LEARNING"
   ]
  },
  {
   "cell_type": "code",
   "execution_count": null,
   "metadata": {},
   "outputs": [],
   "source": [
    "In this type of Machine Learning, machine learning models are provided with the dataset that has not been labeled,\n",
    "classified or categorized, in this machine learning ,algorithms needs to act on the data without any supevision,\n",
    "In unsupervised we do not have any predetermined result.It finds useful insights from huge volume of data\n",
    "Here machine learning algorithms task is to group the unsorted information according to similarities,differences or pattern\n",
    "\n",
    "eg=Like here model is provided with image that having cats and dogs tat it has never seen and it has no idea about feature\n",
    "of cats and dogs so it can categorize them according to their similarities,differences and patterns\n",
    "\n",
    "It further didided into categories\n",
    "1)Clustering--k means clustering\n",
    "2_Association\n",
    "\n",
    "DISADVANTAGES\n",
    "1)It is Less accurate"
   ]
  },
  {
   "cell_type": "code",
   "execution_count": null,
   "metadata": {},
   "outputs": [],
   "source": [
    "REINFORCEMENT LEARNING"
   ]
  },
  {
   "cell_type": "code",
   "execution_count": null,
   "metadata": {},
   "outputs": [],
   "source": [
    "It is a feedback based learning method in which a learning agent get a rewards for each right action and penalty for\n",
    "each wrong action.The agents learn automatically with these feedbacks and improve its performance\n",
    "e.g=The robotic dog"
   ]
  },
  {
   "cell_type": "code",
   "execution_count": null,
   "metadata": {},
   "outputs": [],
   "source": [
    "LINEAR REGRESSION IN PYTHON"
   ]
  },
  {
   "cell_type": "code",
   "execution_count": null,
   "metadata": {},
   "outputs": [],
   "source": [
    "It makes prediction for continuous variable like salary,sales,age,price\n",
    "Simple Linear Regression shows a linear relationship between a dependent and a single independent variables\n",
    "in a sloped straight line.Linear\n",
    "IN case of Multiple Regression Shows linear relationship between a dependent variables and a multiple Independent\n",
    "variables in a sloped straight line\n",
    "relationhip means how a value of the dependent variable is changing according to the value of independent variable\n",
    "here we find continuous dependent variable(input) which is on y axis, on the basis of independent variable(output,feature)\n",
    "which is is on y axis\n",
    "\n",
    "BELOW DESCRIPTION ,YOU CAN REFER THROUGH STATSQUEST CHANNEL ON (YOU TUBE)\n",
    "\n",
    "We create chart like Scatter chart on the basis of x&y variables and then create a line(intersecting y axis inbetween)\n",
    "passing those scatter points\n",
    "now, we have points around the line  ,which we called as actual points and points on line just below or above those actual\n",
    "points ,we asume them as predicted values,so wat we do is subtract those actual values from predicted values,difference\n",
    "between actual and predicted value is called residual and in this way, we find all residual on the line \n",
    "and then squares those residual values  and sum up all square residuals\n",
    "Similarly, we rotate that line towards left on y axis  and again find and sumup all squared residual\n",
    "again, we rotate the line left towards y axis and sumup All squared residuals\n",
    "Similarly, Rotate line 4-5 times and find resiual on each line and supup those squares of residuals\n",
    "Now we put all those residual points which  on the charts,the values ,which is least squared amongs all, is our answer just\n",
    "pass the line through it(straight line according to that point)\n",
    "So Best fit line, which is called Regression line we can find it through least square value\n",
    "Equation we use for this line is \n",
    "Y = MX+C\n",
    "where\n",
    "Y=dependent value\n",
    "M =scope(coefficient)\n",
    "X Independent value\n",
    "C = Intercept line on Y axis\n",
    "Now How good is out fit line , To check it we use R square, ok\n",
    "\n",
    "Example we take a dataset and calculate weight of mouse and their size..Now,We have to predict size of mouse on\n",
    "the basis of weight , so we first create scatter chart on x(weight) and y(size) variables basis and create best fit line\n",
    "and to check how good is our fit, we use R square method\n",
    "\n",
    "we put All Size values of mouse  on the Y axis inbetween those values there is Mean value for size values for mouse, \n",
    "and first we find , find ss(sum of square) around that mean value,\n",
    "ss(sum of square) around the mean, which we called as , SS(Mean) = (each values-Mean)and use square\n",
    "similary, find Variable around the mean, which is (each value -mean)and use square above it and divide by n\n",
    "(number of values)\n",
    "var(Mean) =(each value-Mean) ka whole square divided by N(number of values)\n",
    "\n",
    "Now find ss(fit), which is sum of square around  the fit(least square fit line) = (autual-preducted value)ka square\n",
    "and variable around the fir, var(fit) =(actual value-predicted value)ka square and divided by N\n",
    "\n",
    "so formula for R square is\n",
    "R_square = ss(mean)-ss(fit)/ss(mean)\n",
    "OR\n",
    "R_square =var(mean)-var(fit)/var(mean)\n",
    "\n",
    "In this way we find R square value, and then we can find P value, which is\n",
    "\n",
    "P value = Var(mean)-var(fit)/var(fit)"
   ]
  },
  {
   "cell_type": "markdown",
   "metadata": {},
   "source": [
    "  LINEAR REGRESSION PRATICAL EXAMPLES(through skLearn)"
   ]
  },
  {
   "cell_type": "code",
   "execution_count": 1,
   "metadata": {},
   "outputs": [],
   "source": [
    "import statsmodels.api as sm"
   ]
  },
  {
   "cell_type": "code",
   "execution_count": null,
   "metadata": {},
   "outputs": [],
   "source": []
  }
 ],
 "metadata": {
  "kernelspec": {
   "display_name": "Python 3",
   "language": "python",
   "name": "python3"
  },
  "language_info": {
   "codemirror_mode": {
    "name": "ipython",
    "version": 3
   },
   "file_extension": ".py",
   "mimetype": "text/x-python",
   "name": "python",
   "nbconvert_exporter": "python",
   "pygments_lexer": "ipython3",
   "version": "3.8.5"
  }
 },
 "nbformat": 4,
 "nbformat_minor": 4
}
