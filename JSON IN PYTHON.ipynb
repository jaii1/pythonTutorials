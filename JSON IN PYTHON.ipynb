{
 "cells": [
  {
   "cell_type": "code",
   "execution_count": null,
   "metadata": {},
   "outputs": [],
   "source": [
    "JSON(BASIC)"
   ]
  },
  {
   "cell_type": "code",
   "execution_count": null,
   "metadata": {},
   "outputs": [],
   "source": [
    "It is javaScript Object Notation,is used to stote and transfer the data.\n",
    "Python supports JSON through built-in-package called json, to use it we have to import this package in python script\n",
    "with this json package package we can work with JSON Data.\n",
    "Text in json are in quoted string in key value pair.i.e In dictionary form(dictionary in dictionay or List in Dictionary).\n"
   ]
  },
  {
   "cell_type": "code",
   "execution_count": null,
   "metadata": {},
   "outputs": [],
   "source": [
    "LOAD/LOADS"
   ]
  },
  {
   "cell_type": "code",
   "execution_count": null,
   "metadata": {},
   "outputs": [],
   "source": [
    "The conversion of JSON object(from another program) to a Python object is done through a Load/Loads method"
   ]
  },
  {
   "cell_type": "code",
   "execution_count": null,
   "metadata": {},
   "outputs": [],
   "source": [
    "JSON OBJECT          PYTHON OBJECT\n",
    "object                Dict                  \n",
    "true                  True\n",
    "false                 False\n",
    "null                  None\n",
    "array                 List\n",
    "string                str\n",
    "number(int)           int\n",
    "number(real)          float"
   ]
  },
  {
   "cell_type": "code",
   "execution_count": null,
   "metadata": {},
   "outputs": [],
   "source": [
    "CONVERTING FROM JSON FILE TO PYTHON OBJECT(LOAD)"
   ]
  },
  {
   "cell_type": "code",
   "execution_count": 9,
   "metadata": {},
   "outputs": [
    {
     "name": "stdout",
     "output_type": "stream",
     "text": [
      "companyinfo:   {\"emp_detail\":[{\"emp_name\":\"jai\",\"email\":\"jaitiwari24@gmail.com\",\"job_profile\":null\n",
      "},\n",
      "{\"emp_name\":\"shubham\", \"email\":false,\"job_profile\":\"intern\"\n",
      "},\n",
      "{\"emp_name\":null, \"email\":true,\"job_profile\":\"developer\"\n",
      "}\n",
      "]}\n",
      "<class 'str'>\n"
     ]
    }
   ],
   "source": [
    "\n",
    "# SUPPOSE WE AFRE WRITING THIS JSON CODE IN FILE CALLED DATA.JSON AND FROM THERE WE READ IT IN PYTHON OBJECT BY USING\n",
    "# PYTHON PACKAGE JSON\n",
    "\n",
    "companyinfo = ''' {\"emp_detail\":[{\"emp_name\":\"jai\",\"email\":\"jaitiwari24@gmail.com\",\"job_profile\":null\n",
    "},\n",
    "{\"emp_name\":\"shubham\", \"email\":false,\"job_profile\":\"intern\"\n",
    "},\n",
    "{\"emp_name\":null, \"email\":true,\"job_profile\":\"developer\"\n",
    "}\n",
    "]}'''\n",
    "print('companyinfo: ', companyinfo)\n",
    "print(type(companyinfo))\n",
    "print()\n",
    "print(\"NOW WE ARE CONVERTING JSON OBJECT INTO PYTHON OBJECT\")\n",
    "print(\"SUPPOSE ABOVE CODE IN JSON FILE CALLED DATA.JSON ,SO WE FIRST OPEN THIS JSON FILE AND THEN READ AND CONVERT IT TO PYTHON OBJECT\")\n",
    "print()\n",
    "print(\"import json\")\n",
    "f = open('data.json')\n",
    "data = json.load(f)\n",
    "print(\"data\", data)\n",
    "for i in data[\"emp_detail\"]:\n",
    "    print(i)\n",
    "f.close()\n",
    "\n"
   ]
  },
  {
   "cell_type": "code",
   "execution_count": null,
   "metadata": {},
   "outputs": [],
   "source": [
    "CONVERTING FROM JSON STRING OBJECT(NOT FILE)TO PYTHON OBJECT(LOADS)"
   ]
  },
  {
   "cell_type": "code",
   "execution_count": 31,
   "metadata": {},
   "outputs": [
    {
     "name": "stdout",
     "output_type": "stream",
     "text": [
      "a {\"name\": \"Bob\", \"languages\": \"English\", \"value\":true,\"age\":null,\"skillset\":[\"python\",\"c++\",\"java\"]}\n",
      "type(a) <class 'str'>\n",
      "\n",
      "y: {'name': 'Bob', 'languages': 'English', 'value': True, 'age': None, 'skillset': ['python', 'c++', 'java']}\n",
      "type(y) <class 'dict'>\n",
      "Bob\n",
      "\n",
      "name\n",
      "languages\n",
      "value\n",
      "age\n",
      "skillset\n",
      "\n",
      "key: name\n",
      "value: Bob\n",
      "key: languages\n",
      "value: English\n",
      "key: value\n",
      "value: True\n",
      "key: age\n",
      "value: None\n",
      "key: skillset\n",
      "value: ['python', 'c++', 'java']\n"
     ]
    }
   ],
   "source": [
    "# JSON string\n",
    "a = '{\"name\": \"Bob\", \"languages\": \"English\", \"value\":true,\"age\":null,\"skillset\":[\"python\",\"c++\",\"java\"]}'\n",
    "print(\"a\", a)\n",
    "print(\"type(a)\", type(a))\n",
    "print()\n",
    "import json\n",
    "y = json.loads(a)\n",
    "print(\"y:\", y)\n",
    "print(\"type(y)\", type(y))\n",
    "print(y[\"name\"])\n",
    "print()\n",
    "for i in y:\n",
    "    print(i)\n",
    "print()\n",
    "for key,value in y.items():\n",
    "    print('key:', key)\n",
    "    print('value:', value)\n"
   ]
  },
  {
   "cell_type": "code",
   "execution_count": null,
   "metadata": {},
   "outputs": [],
   "source": [
    "JSON STRING TO PYTHON OBJECT(DICT)"
   ]
  },
  {
   "cell_type": "code",
   "execution_count": 33,
   "metadata": {},
   "outputs": [
    {
     "name": "stdout",
     "output_type": "stream",
     "text": [
      "{\"id\":\"09\", \"name\": \"Nitin\", \"department\":\"Finance\"}\n",
      "<class 'str'>\n",
      "\n",
      "y: {'id': '09', 'name': 'Nitin', 'department': 'Finance'}\n",
      "type(y) <class 'dict'>\n",
      "\n",
      "\n",
      "Finance\n",
      "\n",
      "json_string_is: {\"id\": \"09\", \"name\": \"Nitin\", \"department\": \"Finance\"}\n",
      "<class 'str'>\n"
     ]
    }
   ],
   "source": [
    "\n",
    "# JSON string\n",
    "import json\n",
    "employee = '{\"id\":\"09\", \"name\": \"Nitin\", \"department\":\"Finance\"}'\n",
    "print(employee)\n",
    "print(type(employee))\n",
    "print()\n",
    "y = json.loads(employee)\n",
    "print(\"y:\", y)\n",
    "print(\"type(y)\", type(y))\n",
    "print()\n",
    "\n",
    "print()\n",
    "print(y['department'])\n",
    "print()\n",
    "\n",
    "# CONVERT PYTHON DICT TO JSON STRING\n",
    "\n",
    "json_string = json.dumps(y)\n",
    "print(\"json_string_is:\", json_string)\n",
    "print(type(json_string))"
   ]
  },
  {
   "cell_type": "code",
   "execution_count": null,
   "metadata": {},
   "outputs": [],
   "source": [
    "CONVERTING PYTHON DICT(OBJECT) TO JSON STRING"
   ]
  },
  {
   "cell_type": "code",
   "execution_count": 8,
   "metadata": {},
   "outputs": [
    {
     "name": "stdout",
     "output_type": "stream",
     "text": [
      "dictionary {'id': '04', 'name': 'sunil', 'department': 'HR'}\n",
      "<class 'dict'>\n",
      "\n",
      "data:  {\n",
      "    \"id\": \"04\",\n",
      "    \"name\": \"sunil\",\n",
      "    \"department\": \"HR\"\n",
      "}\n",
      "<class 'str'>\n"
     ]
    }
   ],
   "source": [
    "import json\n",
    "dictionary ={\n",
    "  \"id\": \"04\",\n",
    "  \"name\": \"sunil\",\n",
    "  \"department\": \"HR\"\n",
    "}\n",
    "print(\"dictionary\", dictionary)\n",
    "print(type(dictionary))\n",
    "print()\n",
    "data = json.dumps(dictionary, indent=4)\n",
    "print(\"data: \", data)\n",
    "print(type(data))"
   ]
  },
  {
   "cell_type": "code",
   "execution_count": null,
   "metadata": {},
   "outputs": [],
   "source": [
    "\n",
    "CONVERTING PYTHON DICT,BUT FIRST OPEN FILE AND SAVED PYTHON DICT TO PYTHON OBJECT\n",
    "WE USE HERE DUMP AND NOT DUMPS, OK"
   ]
  },
  {
   "cell_type": "code",
   "execution_count": 3,
   "metadata": {},
   "outputs": [
    {
     "name": "stdout",
     "output_type": "stream",
     "text": [
      "dictionary {'name': 'sathiyajith', 'rollno': 56, 'cgpa': 8.6, 'phonenumber': '9976770500'}\n",
      "<class 'dict'>\n",
      "\n"
     ]
    }
   ],
   "source": [
    "import json\n",
    "dictionary ={\n",
    "    \"name\" : \"sathiyajith\",\n",
    "    \"rollno\" : 56,\n",
    "    \"cgpa\" : 8.6,\n",
    "    \"phonenumber\" : \"9976770500\"\n",
    "}\n",
    "print(\"dictionary\", dictionary)\n",
    "print(type(dictionary))\n",
    "print()\n",
    "with open('simple.json', 'w') as f1:\n",
    "    json.dump(dictionary, f1)\n",
    "    \n",
    "    "
   ]
  },
  {
   "cell_type": "code",
   "execution_count": null,
   "metadata": {},
   "outputs": [],
   "source": [
    "CONVERTING HERE PYTHON DICT TO JSON STRING AND THEN SAVED TO FILE SO HERE WE USE DUMPS"
   ]
  },
  {
   "cell_type": "code",
   "execution_count": 8,
   "metadata": {},
   "outputs": [
    {
     "name": "stdout",
     "output_type": "stream",
     "text": [
      "dictionary1 {'name': 'sathiyajith', 'rollno': 56, 'cgpa': 8.6, 'phonenumber': '9976770500'}\n",
      "<class 'dict'>\n",
      "\n",
      "NOW CONVERTING TO JSON STRING\n",
      "\n",
      "{\n",
      "    \"name\": \"sathiyajith\",\n",
      "    \"rollno\": 56,\n",
      "    \"cgpa\": 8.6,\n",
      "    \"phonenumber\": \"9976770500\"\n",
      "}\n",
      "<class 'str'>\n"
     ]
    }
   ],
   "source": [
    "import json\n",
    "dictionary1 ={\n",
    "    \"name\" : \"sathiyajith\",\n",
    "    \"rollno\" : 56,\n",
    "    \"cgpa\" : 8.6,\n",
    "    \"phonenumber\" : \"9976770500\"\n",
    "}\n",
    "print(\"dictionary1\", dictionary1)\n",
    "print(type(dictionary))\n",
    "print()\n",
    "print(\"NOW CONVERTING TO JSON STRING\")\n",
    "print()\n",
    "json_string =json.dumps(dictionary, indent=4)\n",
    "print(json_string)\n",
    "print(type(json_string))\n",
    "with open('simple5.json', 'w')as f5:\n",
    "    f5.write(json_string)"
   ]
  },
  {
   "cell_type": "code",
   "execution_count": null,
   "metadata": {},
   "outputs": [],
   "source": [
    "READING JSON STRING FROM FILE INTO PYTHON OBJECT(DICTIONARY)"
   ]
  },
  {
   "cell_type": "code",
   "execution_count": 10,
   "metadata": {},
   "outputs": [
    {
     "name": "stdout",
     "output_type": "stream",
     "text": [
      "python_dict {'name': 'sathiyajith', 'rollno': 56, 'cgpa': 8.6, 'phonenumber': '9976770500'}\n",
      "<class 'dict'>\n"
     ]
    }
   ],
   "source": [
    "import json\n",
    "with open('simple5.json', 'r') as f6:\n",
    "    python_dict = json.load(f6)\n",
    "    print(\"python_dict\", python_dict)\n",
    "    print(type(python_dict))"
   ]
  },
  {
   "cell_type": "code",
   "execution_count": 9,
   "metadata": {},
   "outputs": [
    {
     "name": "stdout",
     "output_type": "stream",
     "text": [
      "\n",
      "{\n",
      "  \"people\":[\n",
      "       {\n",
      "         \"Name\":\"Jai\",\n",
      "         \"Age\":34,\n",
      "         \"License\":false,\n",
      "         \"Designation\":null,\n",
      "         \"Email\":[\"jaitiwari24@gmail.com\",\"john.smith@workplace.com\"]\n",
      "       },\n",
      "       {\n",
      "         \"Name\":\"Sam\",\n",
      "         \"Age\":56,\n",
      "         \"License\":true,\n",
      "         \"Designation\":\"Data analyst\",\n",
      "         \"Email\":[\"Tiwarijai813@gmail.com\"]\n",
      "       },\n",
      "       {\n",
      "          \"Name\":\"Shiva\",\n",
      "          \"Age\":34,\n",
      "          \"License\":false,\n",
      "          \"Designation\":\"HR\",\n",
      "          \"Email\":null\n",
      "       }\n",
      "  ]\n",
      "}\n",
      "\n",
      "\n",
      "<class 'str'>\n",
      "{'people': [{'Name': 'Jai', 'Age': 34, 'License': False, 'Designation': None, 'Email': ['jaitiwari24@gmail.com', 'john.smith@workplace.com']}, {'Name': 'Sam', 'Age': 56, 'License': True, 'Designation': 'Data analyst', 'Email': ['Tiwarijai813@gmail.com']}, {'Name': 'Shiva', 'Age': 34, 'License': False, 'Designation': 'HR', 'Email': None}]}\n",
      "<class 'dict'>\n",
      "<class 'list'>\n",
      "{\n",
      "  \"people\": [\n",
      "    {\n",
      "      \"Name\": \"Jai\",\n",
      "      \"Age\": 34,\n",
      "      \"License\": false,\n",
      "      \"Designation\": null\n",
      "    },\n",
      "    {\n",
      "      \"Name\": \"Sam\",\n",
      "      \"Age\": 56,\n",
      "      \"License\": true,\n",
      "      \"Designation\": \"Data analyst\"\n",
      "    },\n",
      "    {\n",
      "      \"Name\": \"Shiva\",\n",
      "      \"Age\": 34,\n",
      "      \"License\": false,\n",
      "      \"Designation\": \"HR\"\n",
      "    }\n",
      "  ]\n",
      "}\n",
      "<class 'str'>\n"
     ]
    }
   ],
   "source": [
    "import json\n",
    "people_string = '''\n",
    "{\n",
    "  \"people\":[\n",
    "       {\n",
    "         \"Name\":\"Jai\",\n",
    "         \"Age\":34,\n",
    "         \"License\":false,\n",
    "         \"Designation\":null,\n",
    "         \"Email\":[\"jaitiwari24@gmail.com\",\"john.smith@workplace.com\"]\n",
    "       },\n",
    "       {\n",
    "         \"Name\":\"Sam\",\n",
    "         \"Age\":56,\n",
    "         \"License\":true,\n",
    "         \"Designation\":\"Data analyst\",\n",
    "         \"Email\":[\"Tiwarijai813@gmail.com\"]\n",
    "       },\n",
    "       {\n",
    "          \"Name\":\"Shiva\",\n",
    "          \"Age\":34,\n",
    "          \"License\":false,\n",
    "          \"Designation\":\"HR\",\n",
    "          \"Email\":null\n",
    "       }\n",
    "  ]\n",
    "}\n",
    "\n",
    "'''\n",
    "print(people_string)\n",
    "print(type(people_string))\n",
    "data = json.loads(people_string)\n",
    "print(data)\n",
    "print(type(data))\n",
    "print(type(data['people']))\n",
    "for info in data['people']:\n",
    "    del info['Email']\n",
    "data1 = json.dumps(data, indent=2)\n",
    "print(data1)\n",
    "print(type(data1))\n",
    "    \n",
    "    \n",
    "#     print(info)\n",
    "#     print(info['Name'])\n",
    "#     print(info['Email'])\n",
    "\n",
    "\n",
    "         \n"
   ]
  },
  {
   "cell_type": "code",
   "execution_count": null,
   "metadata": {},
   "outputs": [],
   "source": []
  },
  {
   "cell_type": "code",
   "execution_count": null,
   "metadata": {},
   "outputs": [],
   "source": [
    "data = {\"list\":{\"meta\":{\"type\":\"r\",\"start\":0,\"count\":188},\"resource\":[{\"resource\":{\"classname\":quotes,\"field\":{}}}]}\n",
    " print(len(data[\"list\"]['resources']))\n",
    "print(type(data[\"list\"][\"resource\"]))\n",
    "usd_rate == dict()\n",
    " for i in data[\"list\"][\"resource\"]\n",
    " name = i['resource']['fileld']['name']\n",
    " price = i['resource']['filed']['price']\n",
    " usd_rate[name] = price\n",
    "print(50* float (usd_rate['usd/eur'])"
   ]
  }
 ],
 "metadata": {
  "kernelspec": {
   "display_name": "Python 3",
   "language": "python",
   "name": "python3"
  },
  "language_info": {
   "codemirror_mode": {
    "name": "ipython",
    "version": 3
   },
   "file_extension": ".py",
   "mimetype": "text/x-python",
   "name": "python",
   "nbconvert_exporter": "python",
   "pygments_lexer": "ipython3",
   "version": "3.8.5"
  }
 },
 "nbformat": 4,
 "nbformat_minor": 4
}
