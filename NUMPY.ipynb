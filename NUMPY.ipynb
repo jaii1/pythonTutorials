{
 "cells": [
  {
   "cell_type": "code",
   "execution_count": null,
   "metadata": {},
   "outputs": [],
   "source": [
    "NUMPY TUTORIAL"
   ]
  },
  {
   "cell_type": "code",
   "execution_count": null,
   "metadata": {},
   "outputs": [],
   "source": [
    "It is a  package for scientific computing with python"
   ]
  },
  {
   "cell_type": "code",
   "execution_count": null,
   "metadata": {},
   "outputs": [],
   "source": [
    "It consists of High performance MultiDimensional Array object"
   ]
  },
  {
   "cell_type": "code",
   "execution_count": null,
   "metadata": {},
   "outputs": [],
   "source": [
    "CREATING ARRAY OF OBJECT(2,3) I.E (2 rows and 3 column)"
   ]
  },
  {
   "cell_type": "code",
   "execution_count": 1,
   "metadata": {},
   "outputs": [],
   "source": [
    "import numpy as np"
   ]
  },
  {
   "cell_type": "code",
   "execution_count": 3,
   "metadata": {},
   "outputs": [
    {
     "name": "stdout",
     "output_type": "stream",
     "text": [
      "arr1 [[1 2 3]\n",
      " [4 5 6]]\n"
     ]
    }
   ],
   "source": [
    "print(\"printing 2 dimensional array\")\n",
    "arr1 = np.array([[1,2,3],[4,5,6]])\n",
    "print(\"arr1\", arr1)"
   ]
  },
  {
   "cell_type": "code",
   "execution_count": null,
   "metadata": {},
   "outputs": [],
   "source": [
    "CREATING NUMPY ARRAY OF OBJECT(3,4)(from list).. I.E (3 rows and 4 column)"
   ]
  },
  {
   "cell_type": "code",
   "execution_count": 5,
   "metadata": {},
   "outputs": [
    {
     "name": "stdout",
     "output_type": "stream",
     "text": [
      "arr2:  [[5 6 7 8]\n",
      " [1 2 3 4]\n",
      " [6 6 6 6]]\n"
     ]
    }
   ],
   "source": [
    "arr2 = np.array([[5,6,7,8],[1,2,3,4],[6,6,6,6]])\n",
    "print(\"arr2: \", arr2)\n"
   ]
  },
  {
   "cell_type": "code",
   "execution_count": 7,
   "metadata": {},
   "outputs": [
    {
     "name": "stdout",
     "output_type": "stream",
     "text": [
      "arr3:  ['1' '2' 'b' '9.0']\n",
      "type(arr3) <class 'numpy.ndarray'>\n"
     ]
    }
   ],
   "source": [
    "arr3 = np.array([1,2,'b',9.0])\n",
    "print(\"arr3: \", arr3)\n",
    "print(\"type(arr3)\", type(arr3))"
   ]
  },
  {
   "cell_type": "code",
   "execution_count": null,
   "metadata": {},
   "outputs": [],
   "source": [
    "CREATING ARRAY OF SHAPE(3,2)"
   ]
  },
  {
   "cell_type": "code",
   "execution_count": 8,
   "metadata": {},
   "outputs": [
    {
     "name": "stdout",
     "output_type": "stream",
     "text": [
      "arr4:  [['2' '3']\n",
      " ['7' '7']\n",
      " ['n' 'j']]\n"
     ]
    }
   ],
   "source": [
    "arr4 = np.array([[2,3],[7,7],['n','j']])\n",
    "print(\"arr4: \", arr4)\n",
    "print()"
   ]
  },
  {
   "cell_type": "code",
   "execution_count": null,
   "metadata": {},
   "outputs": [],
   "source": [
    "DIMENSION ,SHAPE AND SIZE OF ARRAY"
   ]
  },
  {
   "cell_type": "code",
   "execution_count": 17,
   "metadata": {},
   "outputs": [
    {
     "name": "stdout",
     "output_type": "stream",
     "text": [
      "arr2:  [[5 6 7 8]\n",
      " [1 2 3 4]\n",
      " [6 6 6 6]]\n",
      "\n",
      "No of Dimension: 2\n",
      "No of Dimension: 2\n",
      "No of Dimension:  1\n",
      "no of Dimension:  2\n",
      "\n",
      "SHAPES OF ARRAY\n",
      "shape of arr1:  (2, 3)\n",
      "shape of arr2:  (3, 4)\n",
      "shape of arr3:  (4,)\n",
      "shape of arr4:  (3, 2)\n",
      "\n",
      "SIZE OF ARRAY\n",
      "size of arr1 6\n",
      "size of arr2:  12\n",
      "size of arr3: 4\n",
      "size of arr4:  6\n"
     ]
    }
   ],
   "source": [
    "# CREATING ARRAY OF OBJECT(3,4)\n",
    "\n",
    "arr2 = np.array([[5,6,7,8],[1,2,3,4],[6,6,6,6]])\n",
    "print(\"arr2: \", arr2)\n",
    "print()\n",
    "\n",
    "print(\"No of Dimension:\", arr.ndim )\n",
    "print(\"No of Dimension:\", arr4.ndim)\n",
    "print(\"No of Dimension: \", arr3.ndim)\n",
    "print(\"no of Dimension: \", arr4.ndim)\n",
    "print()\n",
    "print(\"SHAPES OF ARRAY\")\n",
    "print(\"shape of arr1: \", arr1.shape)\n",
    "print(\"shape of arr2: \", arr2.shape)\n",
    "print(\"shape of arr3: \", arr3.shape)\n",
    "print(\"shape of arr4: \", arr4.shape)\n",
    "print()\n",
    "print(\"SIZE OF ARRAY\")\n",
    "print(\"size of arr1\", arr1.size)\n",
    "print(\"size of arr2: \", arr2.size)\n",
    "print(\"size of arr3:\", arr3.size)\n",
    "print(\"size of arr4: \", arr4.size)\n"
   ]
  },
  {
   "cell_type": "code",
   "execution_count": null,
   "metadata": {},
   "outputs": [],
   "source": [
    "DTYPE()"
   ]
  },
  {
   "cell_type": "code",
   "execution_count": 19,
   "metadata": {},
   "outputs": [
    {
     "name": "stdout",
     "output_type": "stream",
     "text": [
      "arr1.dtype:  int32\n",
      "arr2.dtype:  int32\n",
      "arr3.dtype:  <U11\n",
      "arr4.dtype:  <U11\n"
     ]
    }
   ],
   "source": [
    "print(\"arr1.dtype: \", arr1.dtype)\n",
    "print(\"arr2.dtype: \", arr2.dtype)\n",
    "print(\"arr3.dtype: \", arr3.dtype)\n",
    "print(\"arr4.dtype: \", arr4.dtype)"
   ]
  },
  {
   "cell_type": "code",
   "execution_count": null,
   "metadata": {},
   "outputs": [],
   "source": [
    "CREATING NUMPY ARRAY FROM LIST(BY PASSING LIST)"
   ]
  },
  {
   "cell_type": "code",
   "execution_count": 24,
   "metadata": {},
   "outputs": [
    {
     "name": "stdout",
     "output_type": "stream",
     "text": [
      "numpy of array:  [['2' '3' 'h']\n",
      " ['5' '6' '7']\n",
      " ['9' '5.6' '2.3']\n",
      " ['1' '9' '0']\n",
      " ['e' 'q' 's']]\n",
      "\n",
      "shape_of_array:  (5, 3)\n",
      "size_of_array:  15\n",
      "a.ndim:  2\n",
      "a.dtype:  <U11\n"
     ]
    }
   ],
   "source": [
    "a = np.array([[2,3,'h'],[5,6,7],[9,5.6,2.3],[1,9,0],['e','q','s']])\n",
    "print(\"numpy of array: \", a)\n",
    "print()\n",
    "print(\"shape_of_array: \", a.shape)\n",
    "print(\"size_of_array: \", a.size)\n",
    "print(\"a.ndim: \", a.ndim)\n",
    "print('a.dtype: ', a.dtype)"
   ]
  },
  {
   "cell_type": "code",
   "execution_count": 28,
   "metadata": {},
   "outputs": [
    {
     "name": "stdout",
     "output_type": "stream",
     "text": [
      "a1:  [[20. 21. 23.]\n",
      " [24. 25. 27.]\n",
      " [67. 68. 69.]\n",
      " [11. 12. 13.]]\n",
      "a1.dtype:  float64\n",
      "shape_of_a1:  (4, 3)\n"
     ]
    }
   ],
   "source": [
    "# CREATIMG NUMPY ARRAY BY PASING LIST OF SIZE(4,3)\n",
    "a1 = np.array([[20,21,23],[24,25,27],[67,68,69],[11,12,13]], dtype='float')\n",
    "print(\"a1: \", a1)\n",
    "print(\"a1.dtype: \", a1.dtype)\n",
    "print(\"shape_of_a1: \", a1.shape)"
   ]
  },
  {
   "cell_type": "code",
   "execution_count": null,
   "metadata": {},
   "outputs": [],
   "source": [
    "CREATING NUMPY ARRAY FROM TUPLE"
   ]
  },
  {
   "cell_type": "code",
   "execution_count": 38,
   "metadata": {},
   "outputs": [
    {
     "name": "stdout",
     "output_type": "stream",
     "text": [
      "numpy_array_of_tuple:  [[90 45 67]\n",
      " [12 13 14]\n",
      " [34 45 55]]\n",
      "shape_of_a3:  (3, 3)\n",
      "a3.size:  9\n",
      "a3.ndim:  2\n",
      "a3.dtype:  int32\n",
      "\n",
      "a4:  ['3' '4' 'r' '8.9']\n",
      "a4.type:  <class 'numpy.ndarray'>\n",
      "\n",
      "a5:  [[2 3]\n",
      " [9 0]\n",
      " [4 5]]\n",
      "type(a5):  <class 'numpy.ndarray'>\n",
      "\n",
      "a6:  [9 4 5]\n"
     ]
    }
   ],
   "source": [
    "a3 =np.array(((90,45,67),(12,13,14),(34,45,55)))\n",
    "print(\"numpy_array_of_tuple: \", a3)\n",
    "print(\"shape_of_a3: \", a3.shape)\n",
    "print(\"a3.size: \", a3.size)\n",
    "print(\"a3.ndim: \", a3.ndim)\n",
    "print(\"a3.dtype: \", a3.dtype)\n",
    "print()\n",
    "t = (3,4,'r',8.9)\n",
    "a4 = np.array(t)\n",
    "print(\"a4: \", a4)\n",
    "print(\"a4.type: \", type(a4))\n",
    "print()\n",
    "t1 = ((2,3),(9,0),(4,5))\n",
    "a5 = np.array(t1)\n",
    "print(\"a5: \", a5)\n",
    "print(\"type(a5): \", type(a5))\n",
    "print()\n",
    "a6 = np.array((9,4,5))\n",
    "print(\"a6: \", a6)"
   ]
  },
  {
   "cell_type": "code",
   "execution_count": null,
   "metadata": {},
   "outputs": [],
   "source": [
    "Creating Numpy array of shape(3,2) of all zeros"
   ]
  },
  {
   "cell_type": "code",
   "execution_count": 41,
   "metadata": {},
   "outputs": [
    {
     "name": "stdout",
     "output_type": "stream",
     "text": [
      "x:  [[0. 0.]\n",
      " [0. 0.]\n",
      " [0. 0.]]\n",
      "x.dtype:  float64\n",
      "\n",
      "x1:  [[0. 0. 0. 0.]\n",
      " [0. 0. 0. 0.]\n",
      " [0. 0. 0. 0.]]\n",
      "x1.shape:  (3, 4)\n"
     ]
    }
   ],
   "source": [
    "x = np.zeros((3,2))\n",
    "print(\"x: \", x)\n",
    "print(\"x.dtype: \", x.dtype)\n",
    "print()\n",
    "x1 = np.zeros((3,4))\n",
    "print(\"x1: \", x1)\n",
    "print(\"x1.shape: \", x1.shape)"
   ]
  },
  {
   "cell_type": "code",
   "execution_count": null,
   "metadata": {},
   "outputs": [],
   "source": [
    "Creating Numpy array of shape(4,3) of all one"
   ]
  },
  {
   "cell_type": "code",
   "execution_count": 42,
   "metadata": {},
   "outputs": [
    {
     "name": "stdout",
     "output_type": "stream",
     "text": [
      "x2:  [[1. 1. 1.]\n",
      " [1. 1. 1.]\n",
      " [1. 1. 1.]\n",
      " [1. 1. 1.]]\n"
     ]
    }
   ],
   "source": [
    "x2 = np.ones((4,3))\n",
    "print(\"x2: \", x2)"
   ]
  },
  {
   "cell_type": "code",
   "execution_count": 1,
   "metadata": {},
   "outputs": [
    {
     "name": "stdout",
     "output_type": "stream",
     "text": [
      "j:  [[24. 24. 24.]\n",
      " [24. 24. 24.]\n",
      " [24. 24. 24.]]\n",
      "\n",
      "j1:  [[30. 30. 30. 30. 30.]\n",
      " [30. 30. 30. 30. 30.]]\n",
      "\n",
      "j2:  [[40 40 40 40]\n",
      " [40 40 40 40]]\n"
     ]
    }
   ],
   "source": [
    "# Creating Numpy of shape (3,3) and value of 24 and type =float\n",
    "import numpy as np\n",
    "j  = np.full((3,3),24, dtype='float')\n",
    "print(\"j: \", j)\n",
    "print()\n",
    "j1 = np.full((2,5),30,dtype='float')\n",
    "print(\"j1: \", j1)\n",
    "print()\n",
    "j2 = np.full((2,4),40)\n",
    "print(\"j2: \", j2)"
   ]
  },
  {
   "cell_type": "code",
   "execution_count": null,
   "metadata": {},
   "outputs": [],
   "source": [
    "CREATING NUMPY ARRAY OF SHAPE(4,1) AND VALUE OF 12 AND DATATYPE COMPLEX NUMBER"
   ]
  },
  {
   "cell_type": "code",
   "execution_count": null,
   "metadata": {},
   "outputs": [],
   "source": [
    "CREATING ARRAY WITH RANDOM VALUES OF ANY SHAPE"
   ]
  },
  {
   "cell_type": "code",
   "execution_count": 5,
   "metadata": {},
   "outputs": [
    {
     "name": "stdout",
     "output_type": "stream",
     "text": [
      "e:  [[0.4882516  0.76271753 0.48685305 0.8456727  0.85421998]\n",
      " [0.83618576 0.47039279 0.09480274 0.58014886 0.03051079]]\n",
      "\n",
      "x: [5 7 5 3 4 3 4 2 7 1 2 6 3 7 5 4 4 1 6 2]\n"
     ]
    }
   ],
   "source": [
    "import numpy as np\n",
    "e = np.random.random((2,5))\n",
    "print(\"e: \", e)\n",
    "print()\n",
    "import random\n",
    "x = np.random.randint(1,8,20)\n",
    "print(\"x:\", x)"
   ]
  },
  {
   "cell_type": "code",
   "execution_count": 4,
   "metadata": {},
   "outputs": [
    {
     "ename": "SyntaxError",
     "evalue": "invalid syntax (<ipython-input-4-79455d67127b>, line 1)",
     "output_type": "error",
     "traceback": [
      "\u001b[1;36m  File \u001b[1;32m\"<ipython-input-4-79455d67127b>\"\u001b[1;36m, line \u001b[1;32m1\u001b[0m\n\u001b[1;33m    CREATING NUMPY ARRAY OF VALUE 1 TO 40 WITH A GAP OF 4\u001b[0m\n\u001b[1;37m             ^\u001b[0m\n\u001b[1;31mSyntaxError\u001b[0m\u001b[1;31m:\u001b[0m invalid syntax\n"
     ]
    }
   ],
   "source": [
    "CREATING NUMPY ARRAY OF VALUE 1 TO 40 WITH A GAP OF 4"
   ]
  },
  {
   "cell_type": "code",
   "execution_count": 15,
   "metadata": {},
   "outputs": [
    {
     "name": "stdout",
     "output_type": "stream",
     "text": [
      "x: [ 1  5  9 13 17 21 25 29 33 37]\n",
      "type(x3): <class 'numpy.ndarray'>\n",
      "\n",
      "x4: [ 1  6 11 16 21]\n",
      "\n",
      "x5: [10  8  6  4  2]\n"
     ]
    }
   ],
   "source": [
    "x3 = np.arange(1,40,4)\n",
    "print(\"x:\", x3)\n",
    "print(\"type(x3):\", type(x3))\n",
    "print()\n",
    "\n",
    "# Creating Numpy array of value from 1 to 25 with gap of 5\n",
    "x4 = np.arange(1,25,5)\n",
    "print(\"x4:\", x4)\n",
    "\n",
    "print()\n",
    "# Create a numpy array sequence of integers from 10 to 1 with a step of -2\n",
    "x5 = np.arange(10,1,-2)\n",
    "print(\"x5:\",x5)\n"
   ]
  },
  {
   "cell_type": "code",
   "execution_count": null,
   "metadata": {},
   "outputs": [],
   "source": [
    "SLICING NUMPY ARRAY"
   ]
  },
  {
   "cell_type": "code",
   "execution_count": null,
   "metadata": {},
   "outputs": [],
   "source": [
    "# NOW we get numpy array(z1) and now from  this array,we want some\n",
    " # random value from z1 in z2,and we get those value in z2 by providing index number of those value which is in z1"
   ]
  },
  {
   "cell_type": "code",
   "execution_count": null,
   "metadata": {},
   "outputs": [],
   "source": [
    "NOW  CREATING NEW NUMPY ARRAY(Z1) FROM SOME RANGE AND THEN CREATE ANOTHER NUMPY ARRAY(Z2)\n",
    "WHICH CONTAINS SOME VALUES FROM (Z1), WHICH WE GET, BY PROVING INDEX NUMBER OF THOSE VALUE WHICH ARE IN (Z1)"
   ]
  },
  {
   "cell_type": "code",
   "execution_count": 28,
   "metadata": {},
   "outputs": [
    {
     "name": "stdout",
     "output_type": "stream",
     "text": [
      "z1: [12 10  8  6  4  2]\n",
      "\n",
      "z2:  [12 12  4  4]\n",
      "\n",
      "z3:  [12  8 10 12]\n",
      "\n",
      "z4: [12 12 12 10]\n",
      "\n",
      "j: [ 1  2  3  4  5  6  7  8  9 10 11 12 13 14]\n",
      "j2: [1 3 5 7]\n",
      "\n",
      "j3: [1 7 7 1]\n"
     ]
    }
   ],
   "source": [
    "z1 = np.arange(12,1,-2)\n",
    "print(\"z1:\", z1)\n",
    "print()\n",
    "z2 = z1[np.array([0,0,4,4])]\n",
    "print(\"z2: \", z2)\n",
    "print()\n",
    "z3 = z1[np.array([0,2,1,0])]\n",
    "print(\"z3: \", z3)\n",
    "print()\n",
    "z4 = z1[np.array([0,0,0,1])]\n",
    "print(\"z4:\", z4)\n",
    "print()\n",
    "j = np.array([1,2,3,4,5,6,7,8,9,10,11,12,13,14])\n",
    "print(\"j:\", j)\n",
    "j2 = j[np.array([0,2,4,6])]\n",
    "print(\"j2:\", j2)\n",
    "print()\n",
    "j3 = j[np.array([0,6,6,0])]\n",
    "print(\"j3:\", j3)"
   ]
  },
  {
   "cell_type": "code",
   "execution_count": null,
   "metadata": {},
   "outputs": [],
   "source": [
    "CREATING NUMPY ARRAY OF VALUE 20"
   ]
  },
  {
   "cell_type": "code",
   "execution_count": 45,
   "metadata": {},
   "outputs": [
    {
     "name": "stdout",
     "output_type": "stream",
     "text": [
      "nn: [ 0  1  2  3  4  5  6  7  8  9 10 11 12 13 14 15 16 17 18 19 20]\n",
      "\n",
      "nn1: [ 0  6 11 12]\n",
      "\n",
      "nn2: [2 3 4 5 6 7 8]\n",
      "\n",
      "nn3: [0 1 2 3 4 5]\n",
      "\n",
      "nn4:  [0 3 6 9]\n",
      "\n",
      "nn5 : [3 7]\n",
      "\n",
      "nn6: [14 11  8  5]\n",
      "\n",
      "nn7:  [ 6  7  8  9 10 11 12 13 14 15 16 17 18 19 20]\n",
      "\n",
      "nn8:  [0 1 2 3 4]\n",
      "\n",
      "nn9: [ 4  7 10 13 16 19]\n",
      "\n",
      "nn10: [13 14 15 16 17 18 19 20]\n"
     ]
    }
   ],
   "source": [
    "nn = np.arange(21)\n",
    "print(\"nn:\", nn)\n",
    "print()\n",
    "nn1 = nn[np.array([0,6,11,12])]\n",
    "print(\"nn1:\", nn1)\n",
    "print()\n",
    "nn2 = nn[2:9]\n",
    "print(\"nn2:\", nn2)\n",
    "print()\n",
    "nn3=  nn[0:6]\n",
    "print(\"nn3:\", nn3)\n",
    "print()\n",
    "nn4 = nn[0:10:3]\n",
    "print(\"nn4: \", nn4)\n",
    "print()\n",
    "nn5 = nn[3:10:4]\n",
    "print(\"nn5 :\", nn5)\n",
    "print()\n",
    "nn6 = nn[14:3:-3]\n",
    "print(\"nn6:\", nn6)\n",
    "print()\n",
    "nn7 = nn[6:]\n",
    "print(\"nn7: \", nn7)\n",
    "print()\n",
    "nn8 = nn[:5]\n",
    "print(\"nn8: \", nn8)\n",
    "print()\n",
    "nn9 = nn[4::3]\n",
    "print(\"nn9:\", nn9)\n",
    "print()\n",
    "nn10 = nn[-8:]\n",
    "print(\"nn10:\",nn10)"
   ]
  },
  {
   "cell_type": "code",
   "execution_count": null,
   "metadata": {},
   "outputs": [],
   "source": [
    "CREATING ARRAYS AND SLICING VALUES OUT OF ARRAY(SPECIAL EXAMPLE)"
   ]
  },
  {
   "cell_type": "code",
   "execution_count": null,
   "metadata": {},
   "outputs": [],
   "source": [
    "consider numpy array below"
   ]
  },
  {
   "cell_type": "code",
   "execution_count": 49,
   "metadata": {},
   "outputs": [
    {
     "name": "stdout",
     "output_type": "stream",
     "text": [
      "nnr: [[ -1.    2.    0.    4. ]\n",
      " [  4.   -0.5   6.    0. ]\n",
      " [  2.6   0.    7.    8. ]\n",
      " [  3.   -7.    4.    2. ]\n",
      " [  6.    9.  100.  201.1]]\n"
     ]
    }
   ],
   "source": [
    "nnr = np.array([[-1, 2, 0, 4],\n",
    "                [4, -0.5, 6, 0],\n",
    "                [2.6, 0, 7, 8],\n",
    "                [3, -7, 4, 2.0],\n",
    "                [6, 9, 100, 201.1]])\n",
    "print(\"nnr:\", nnr)\n",
    "\n",
    "# now we are going to find our another numpy array from this array , see below"
   ]
  },
  {
   "cell_type": "code",
   "execution_count": 55,
   "metadata": {},
   "outputs": [
    {
     "name": "stdout",
     "output_type": "stream",
     "text": [
      "arr: [[-1.   0. ]\n",
      " [ 4.   6. ]\n",
      " [ 2.6  7. ]]\n"
     ]
    }
   ],
   "source": [
    "arr =nnr[:3,::2]\n",
    "print(\"arr:\", arr)"
   ]
  },
  {
   "cell_type": "code",
   "execution_count": 51,
   "metadata": {},
   "outputs": [
    {
     "name": "stdout",
     "output_type": "stream",
     "text": [
      "arr1: [[4.  6. ]\n",
      " [2.6 7. ]]\n"
     ]
    }
   ],
   "source": [
    "arr1 = nnr[1:3,::2]\n",
    "print(\"arr1:\", arr1)"
   ]
  },
  {
   "cell_type": "code",
   "execution_count": 52,
   "metadata": {},
   "outputs": [
    {
     "name": "stdout",
     "output_type": "stream",
     "text": [
      "arr2:  [[-1.   4. ]\n",
      " [ 4.   0. ]\n",
      " [ 2.6  8. ]\n",
      " [ 3.   2. ]]\n"
     ]
    }
   ],
   "source": [
    "arr2 = nnr[0:4,::3]\n",
    "print(\"arr2: \", arr2)"
   ]
  },
  {
   "cell_type": "code",
   "execution_count": 56,
   "metadata": {},
   "outputs": [
    {
     "name": "stdout",
     "output_type": "stream",
     "text": [
      "arr3:  [[ 2.   0. ]\n",
      " [-0.5  6. ]]\n"
     ]
    }
   ],
   "source": [
    "arr3 =nnr[:2,1:3]\n",
    "print(\"arr3: \", arr3)"
   ]
  },
  {
   "cell_type": "code",
   "execution_count": null,
   "metadata": {},
   "outputs": [],
   "source": [
    "CREATING NUMPY ARRAY HAVING 10 DIFFERENT VALUES FROM 1 TO 6 "
   ]
  },
  {
   "cell_type": "code",
   "execution_count": 58,
   "metadata": {},
   "outputs": [
    {
     "name": "stdout",
     "output_type": "stream",
     "text": [
      "s:  [1.         1.55555556 2.11111111 2.66666667 3.22222222 3.77777778\n",
      " 4.33333333 4.88888889 5.44444444 6.        ]\n",
      "\n",
      "s1:  [1.         1.42857143 1.85714286 2.28571429 2.71428571 3.14285714\n",
      " 3.57142857 4.        ]\n"
     ]
    }
   ],
   "source": [
    "s = np.linspace(1,6,10)\n",
    "print(\"s: \", s)\n",
    "print()\n",
    "# Creating 8 different values from range 1 to 4\n",
    "s1 = np.linspace(1,4,8)\n",
    "print(\"s1: \", s1)"
   ]
  },
  {
   "cell_type": "raw",
   "metadata": {},
   "source": [
    "RESHAPING (3,4) OR 3*4 NUMPY ARRAY TO  2*2*3 ARRAY"
   ]
  },
  {
   "cell_type": "code",
   "execution_count": 61,
   "metadata": {},
   "outputs": [
    {
     "name": "stdout",
     "output_type": "stream",
     "text": [
      "x: [[ 1  2  3  4]\n",
      " [ 5  6  7  8]\n",
      " [ 9 10 11 12]]\n",
      "\n",
      "now we are creating 2*2*3\n",
      "\n",
      "x11: [[[ 1  2  3]\n",
      "  [ 4  5  6]]\n",
      "\n",
      " [[ 7  8  9]\n",
      "  [10 11 12]]]\n",
      "\n",
      "x12: [[[ 1  2]\n",
      "  [ 3  4]\n",
      "  [ 5  6]\n",
      "  [ 7  8]\n",
      "  [ 9 10]\n",
      "  [11 12]]]\n"
     ]
    }
   ],
   "source": [
    "x = np.array([[1,2,3,4],[5,6,7,8],[9,10,11,12]])\n",
    "print(\"x:\", x)\n",
    "print()\n",
    "print(\"now we are creating 2*2*3\") \n",
    "# it means 2 numpy array of shape (2,3)\n",
    "print()\n",
    "x11 =x.reshape(2,2,3)\n",
    "print(\"x11:\", x11)\n",
    "print()\n",
    "x12 = x.reshape(1,6,2)\n",
    "print(\"x12:\", x12)"
   ]
  },
  {
   "cell_type": "code",
   "execution_count": 70,
   "metadata": {},
   "outputs": [
    {
     "name": "stdout",
     "output_type": "stream",
     "text": [
      "xx:  [[ 1  2  3  4 11 12]\n",
      " [ 5  6  7  8 13 14]\n",
      " [ 9 10 11 12 15 16]]\n",
      "(3, 6)\n",
      "\n",
      "xx1: [[[ 1  2  3]\n",
      "  [ 4 11 12]\n",
      "  [ 5  6  7]]\n",
      "\n",
      " [[ 8 13 14]\n",
      "  [ 9 10 11]\n",
      "  [12 15 16]]]\n",
      "(2, 3, 3)\n",
      "\n",
      "xx2:  [[[ 1  2]\n",
      "  [ 3  4]\n",
      "  [11 12]]\n",
      "\n",
      " [[ 5  6]\n",
      "  [ 7  8]\n",
      "  [13 14]]\n",
      "\n",
      " [[ 9 10]\n",
      "  [11 12]\n",
      "  [15 16]]]\n",
      "\n",
      "xxp:  [ 1  2  3  4 11 12  5  6  7  8 13 14  9 10 11 12 15 16]\n"
     ]
    }
   ],
   "source": [
    "xx = np.array([[1,2,3,4,11,12],[5,6,7,8,13,14],[9,10,11,12,15,16]])\n",
    "print(\"xx: \", xx)\n",
    "print(xx.shape)\n",
    "print()\n",
    "xx1 = xx.reshape(2,3,3)\n",
    "print(\"xx1:\",xx1)\n",
    "print(xx1.shape)\n",
    "print()\n",
    "xx2 = xx.reshape(3,3,2)\n",
    "print(\"xx2: \", xx2)\n",
    "print()\n",
    "xxp =xx.flatten()\n",
    "print(\"xxp: \", xxp)"
   ]
  },
  {
   "cell_type": "code",
   "execution_count": 69,
   "metadata": {},
   "outputs": [
    {
     "name": "stdout",
     "output_type": "stream",
     "text": [
      "arm: [[1 2 3]\n",
      " [4 5 6]\n",
      " [7 8 9]]\n",
      "type(arm): <class 'numpy.ndarray'>\n",
      "arm.dtype: int32\n",
      "\n",
      "arm1:  [1 2 3 4 5 6 7 8 9]\n"
     ]
    }
   ],
   "source": [
    "arm = np.array([[1,2,3],[4,5,6],[7,8,9]])\n",
    "print(\"arm:\", arm)\n",
    "print(\"type(arm):\", type(arm))\n",
    "print(\"arm.dtype:\", arm.dtype)\n",
    "print()\n",
    "arm1 = arm.flatten()\n",
    "print(\"arm1: \", arm1)"
   ]
  },
  {
   "cell_type": "code",
   "execution_count": null,
   "metadata": {},
   "outputs": [],
   "source": [
    "BASIC OPERATION IN NUMPY"
   ]
  },
  {
   "cell_type": "code",
   "execution_count": 95,
   "metadata": {},
   "outputs": [
    {
     "name": "stdout",
     "output_type": "stream",
     "text": [
      "n:  [1 2 3 4 5 6]\n",
      "\n",
      "n1:  [ 5  6  7  8  9 10]\n",
      "nn:  21\n",
      "\n",
      "n2:  [-1  0  1  2  3  4]\n",
      "n3:  [ 3  6  9 12 15 18]\n",
      "n4:  [0.5 1.  1.5 2.  2.5 3. ]\n",
      "n5: [ 1  4  9 16 25 36]\n"
     ]
    }
   ],
   "source": [
    "n = np.array([1,2,3,4,5,6])\n",
    "print(\"n: \", n)\n",
    "print()\n",
    "# PERFORMING SUM\n",
    "\n",
    "n1 = n+4\n",
    "print(\"n1: \", n1)\n",
    "nn = n.sum()\n",
    "print(\"nn: \", nn)\n",
    "print()\n",
    "\n",
    "# PERFORMING SUBTRACT\n",
    "n2 = n-2\n",
    "print(\"n2: \", n2)\n",
    "\n",
    "# PERFORMING MULTIPLY\n",
    "\n",
    "n3 = n*3\n",
    "print(\"n3: \", n3)\n",
    "\n",
    "# PERFORMING DIVIDE\n",
    "\n",
    "n4 = n/2\n",
    "print(\"n4: \", n4)\n",
    "\n",
    "# PERFORMING POWER\n",
    "\n",
    "n5 = n**2\n",
    "print(\"n5:\", n5)"
   ]
  },
  {
   "cell_type": "code",
   "execution_count": 20,
   "metadata": {},
   "outputs": [
    {
     "name": "stdout",
     "output_type": "stream",
     "text": [
      "m3: 100\n",
      "\n",
      "m4: [30 70]\n",
      "\n",
      "m5: [40 60]\n"
     ]
    }
   ],
   "source": [
    "m1 = np.array([10,20])\n",
    "m2 = np.array([30,40])\n",
    "m3 = np.sum([m1,m2])\n",
    "print(\"m3:\", m3)\n",
    "print()\n",
    "m4 =np.sum([m1,m2], axis=1)\n",
    "print(\"m4:\", m4)\n",
    "print()\n",
    "m5 = np.sum([m1,m2], axis=0)\n",
    "print(\"m5:\", m5)"
   ]
  },
  {
   "cell_type": "code",
   "execution_count": null,
   "metadata": {},
   "outputs": [],
   "source": [
    "TRANSPOSE FUNCTION ON NUMPY ARRAY"
   ]
  },
  {
   "cell_type": "code",
   "execution_count": 78,
   "metadata": {},
   "outputs": [
    {
     "name": "stdout",
     "output_type": "stream",
     "text": [
      "bb:  [[1 2 3]\n",
      " [4 5 6]\n",
      " [7 8 9]]\n",
      "\n",
      "TRANSPOSE_ARRAY:  [[1 4 7]\n",
      " [2 5 8]\n",
      " [3 6 9]]\n"
     ]
    }
   ],
   "source": [
    "bb = np.array([[1,2,3],[4,5,6],[7,8,9]])\n",
    "print(\"bb: \", bb)\n",
    "print()\n",
    "print(\"TRANSPOSE_ARRAY: \", bb.T)"
   ]
  },
  {
   "cell_type": "code",
   "execution_count": null,
   "metadata": {},
   "outputs": [],
   "source": [
    "CONSIDER NUMPY ARRAY OF SHAPE(3,3) FROM LIST"
   ]
  },
  {
   "cell_type": "code",
   "execution_count": 94,
   "metadata": {},
   "outputs": [
    {
     "name": "stdout",
     "output_type": "stream",
     "text": [
      "bb1: [[ 1  2  3]\n",
      " [11 12 13]\n",
      " [15 16 19]]\n",
      "\n",
      "bb1.shape: (3, 3)\n",
      "type(bb1): <class 'numpy.ndarray'>\n",
      "bb1.dtype: int32\n",
      "bb2.max(): 19\n",
      "bb3: 1\n",
      "bb4: [ 3 13 19]\n",
      "bb5: [ 1 11 15]\n",
      "bb6: [15 16 19]\n",
      "bb7: [1 2 3]\n",
      "\n",
      "sum function\n",
      "bb8: 92\n"
     ]
    }
   ],
   "source": [
    "bb1 = np.array([[1,2,3],[11,12,13],[15,16,19]])\n",
    "print(\"bb1:\", bb1)\n",
    "print()\n",
    "print(\"bb1.shape:\", bb1.shape)\n",
    "print(\"type(bb1):\", type(bb1))\n",
    "print(\"bb1.dtype:\", bb1.dtype)\n",
    "\n",
    "# performing maximum function\n",
    "bb2 = bb1.max()\n",
    "print(\"bb2.max():\", bb2)\n",
    "\n",
    "# performing minimum\n",
    "bb3 = bb1.min()\n",
    "print(\"bb3:\", bb3)\n",
    "\n",
    "# Now max() value across rows(axis=1)each row\n",
    "bb4 = bb1.max(axis=1)\n",
    "print(\"bb4:\", bb4)\n",
    "\n",
    "# min() value across rows(axis=1)each row\n",
    "bb5 = bb1.min(axis=1)\n",
    "print(\"bb5:\", bb5)\n",
    "\n",
    "# again max value across vertical each column\n",
    "bb6 = bb1.max(axis=0)\n",
    "print(\"bb6:\", bb6)\n",
    "\n",
    "# again max value across vertical each column\n",
    "\n",
    "bb7 = bb1.min(axis=0)\n",
    "print(\"bb7:\", bb7)\n",
    "print()\n",
    "print(\"sum function\")\n",
    "\n",
    "bb8 = bb1.sum()\n",
    "print(\"bb8:\", bb8)"
   ]
  },
  {
   "cell_type": "code",
   "execution_count": 2,
   "metadata": {},
   "outputs": [
    {
     "name": "stdout",
     "output_type": "stream",
     "text": [
      "a+b: [[5 5]\n",
      " [5 5]]\n",
      "\n",
      "a-b: [[-3 -1]\n",
      " [ 1  3]]\n",
      "\n",
      "a.dot(b): [[ 8  5]\n",
      " [20 13]]\n"
     ]
    }
   ],
   "source": [
    "import numpy as np\n",
    "\n",
    "a = np.array([[1, 2],\n",
    "            [3, 4]])\n",
    "b=np.array([[4, 3],\n",
    "             [2, 1]])\n",
    "\n",
    "print(\"a+b:\", a+b)\n",
    "print()\n",
    "print(\"a-b:\", a-b)\n",
    "print()\n",
    "print(\"a.dot(b):\", a.dot(b))"
   ]
  },
  {
   "cell_type": "code",
   "execution_count": null,
   "metadata": {},
   "outputs": [],
   "source": [
    "MORE NUMPY ARRAY FUNCTION"
   ]
  },
  {
   "cell_type": "code",
   "execution_count": 22,
   "metadata": {},
   "outputs": [
    {
     "name": "stdout",
     "output_type": "stream",
     "text": [
      "a: [  2   8   3   4  25  36  49 128]\n",
      "\n",
      "b: [ 0.90929743  0.98935825  0.14112001 -0.7568025  -0.13235175 -0.99177885\n",
      " -0.95375265  0.72103771]\n",
      "\n",
      "c_square: [    4    64     9    16   625  1296  2401 16384]\n",
      "\n",
      "d_sqrt: [ 1.41421356  2.82842712  1.73205081  2.          5.          6.\n",
      "  7.         11.3137085 ]\n",
      "\n",
      "e_exp:  [7.38905610e+00 2.98095799e+03 2.00855369e+01 5.45981500e+01\n",
      " 7.20048993e+10 4.31123155e+15 1.90734657e+21 3.88770841e+55]\n",
      "\n",
      "f: 31.875\n",
      "\n",
      "g: 16.5\n",
      "\n",
      "k: 39.797730777017925\n"
     ]
    }
   ],
   "source": [
    "a = np.array([2,8,3,4,25,36,49,128])\n",
    "print(\"a:\", a)\n",
    "print()\n",
    "b = np.sin(a)\n",
    "print(\"b:\", b)\n",
    "print()\n",
    "c = np.square(a)\n",
    "print(\"c_square:\", c)\n",
    "print()\n",
    "d = np.sqrt(a)\n",
    "print(\"d_sqrt:\", d)\n",
    "print()\n",
    "e=  np.exp(a)\n",
    "print(\"e_exp: \", e)\n",
    "print()\n",
    "f = np.mean(a)\n",
    "print(\"f:\", f)\n",
    "print()\n",
    "g = np.median(a)\n",
    "print(\"g:\", g)\n",
    "print()\n",
    "k = np.std(a)\n",
    "print(\"k:\", k)"
   ]
  },
  {
   "cell_type": "code",
   "execution_count": null,
   "metadata": {},
   "outputs": [],
   "source": [
    "SORTING OF NUMPY ARRAY"
   ]
  },
  {
   "cell_type": "code",
   "execution_count": 15,
   "metadata": {},
   "outputs": [
    {
     "name": "stdout",
     "output_type": "stream",
     "text": [
      "a: [[ 1  4  2]\n",
      " [ 3  4  6]\n",
      " [ 0 -1  5]]\n",
      "\n",
      "b1: [-1  0  1  2  3  4  4  5  6]\n"
     ]
    }
   ],
   "source": [
    "a = np.array([[1, 4, 2],\n",
    "               [3, 4, 6],\n",
    "               [0, -1, 5]])\n",
    "print(\"a:\", a)\n",
    "print()\n",
    "b1 = np.sort(a, axis=None)\n",
    "print(\"b1:\",b1)\n",
    "print()\n"
   ]
  },
  {
   "cell_type": "code",
   "execution_count": null,
   "metadata": {},
   "outputs": [],
   "source": [
    "ROWWISE SORTING ARRAY"
   ]
  },
  {
   "cell_type": "code",
   "execution_count": 17,
   "metadata": {},
   "outputs": [
    {
     "name": "stdout",
     "output_type": "stream",
     "text": [
      "aa: [[ 1  4  2]\n",
      " [ 3  4  6]\n",
      " [ 0 -1  5]]\n",
      "\n",
      "rowise sorting_bb: [[ 1  2  4]\n",
      " [ 3  4  6]\n",
      " [-1  0  5]]\n"
     ]
    }
   ],
   "source": [
    "aa = np.array([[1, 4, 2],\n",
    "               [3, 4, 6],\n",
    "               [0, -1, 5]])\n",
    "print(\"aa:\", aa)\n",
    "print()\n",
    "bb = np.sort(aa,axis=1)\n",
    "print(\"rowise sorting_bb:\", bb)"
   ]
  },
  {
   "cell_type": "code",
   "execution_count": null,
   "metadata": {},
   "outputs": [],
   "source": [
    "COLUMNWISE SORTING ARRAY"
   ]
  },
  {
   "cell_type": "code",
   "execution_count": 22,
   "metadata": {},
   "outputs": [
    {
     "name": "stdout",
     "output_type": "stream",
     "text": [
      "cc: [[ 1  4  2]\n",
      " [ 3  4  6]\n",
      " [ 0 -1  5]]\n",
      "\n",
      "[[ 0 -1  2]\n",
      " [ 1  4  5]\n",
      " [ 3  4  6]]\n"
     ]
    }
   ],
   "source": [
    "cc = np.array([[1, 4, 2],\n",
    "               [3, 4, 6],\n",
    "               [0, -1, 5]])\n",
    "print(\"cc:\", cc)\n",
    "print()\n",
    "dd = np.sort(cc,axis=0)\n",
    "print(dd)"
   ]
  },
  {
   "cell_type": "code",
   "execution_count": null,
   "metadata": {},
   "outputs": [],
   "source": [
    "IMPORTANT ONE"
   ]
  },
  {
   "cell_type": "code",
   "execution_count": 29,
   "metadata": {},
   "outputs": [
    {
     "name": "stdout",
     "output_type": "stream",
     "text": [
      "arr:  [(b'Hrithik', 2009, 8.5) (b'Ajay', 2008, 8.7) (b'Pankaj', 2008, 7.9)\n",
      " (b'Aakash', 2009, 9. )]\n",
      "\n",
      "type(arr): <class 'numpy.ndarray'>\n",
      "\n",
      "abr: [(b'Aakash', 2009, 9. ) (b'Ajay', 2008, 8.7) (b'Hrithik', 2009, 8.5)\n",
      " (b'Pankaj', 2008, 7.9)]\n",
      "\n",
      "below It wll sort by year(ascending order\n",
      "\n",
      "abr1:  [(b'Pankaj', 2008, 7.9) (b'Ajay', 2008, 8.7) (b'Hrithik', 2009, 8.5)\n",
      " (b'Aakash', 2009, 9. )]\n"
     ]
    }
   ],
   "source": [
    "dtypes = [('name', 'S10'), ('grad_year', int), ('cgpa', float)]\n",
    "values = [('Hrithik', 2009, 8.5), ('Ajay', 2008, 8.7),\n",
    "          ('Pankaj', 2008, 7.9), ('Aakash', 2009, 9.0)]\n",
    "\n",
    "arr = np.array(values, dtype = dtypes)\n",
    "print(\"arr: \", arr)\n",
    "print()\n",
    "print(\"type(arr):\", type(arr))\n",
    "print()\n",
    "abr = np.sort(arr,order='name')\n",
    "print(\"abr:\", abr)\n",
    "print()\n",
    "print(\"below It wll sort by year(ascending order\")\n",
    "print()\n",
    "abr1 = np.sort(arr, order =['grad_year','cgpa'])\n",
    "print(\"abr1: \", abr1)"
   ]
  },
  {
   "cell_type": "code",
   "execution_count": null,
   "metadata": {},
   "outputs": [],
   "source": [
    "STACKING"
   ]
  },
  {
   "cell_type": "code",
   "execution_count": null,
   "metadata": {},
   "outputs": [],
   "source": [
    "Stacking: Several arrays can be stacked together along different axes.\n",
    "np.vstack: To stack arrays along vertical axis.\n",
    "np.hstack: To stack arrays along horizontal axis.\n",
    "np.column_stack: To stack 1-D arrays as columns into 2-D arrays.\n",
    "np.concatenate: To stack arrays along specified axis (axis is passed as argument)"
   ]
  },
  {
   "cell_type": "code",
   "execution_count": 37,
   "metadata": {},
   "outputs": [
    {
     "name": "stdout",
     "output_type": "stream",
     "text": [
      "NOW PERFORMING VERTIAL STACK(V STACK)\n",
      "x: [[1 2]\n",
      " [3 4]\n",
      " [5 6]\n",
      " [7 8]]\n",
      "\n",
      "PERFORMING COLUMN STACK\n",
      "\n",
      "x1: [[1 2 5 6]\n",
      " [3 4 7 8]]\n",
      "PERFORMING COLUMN STACK(A&C)\n",
      "\n",
      "x2:  [[1 2 5]\n",
      " [3 4 6]]\n",
      "PERFORMING COLUMN STACK(B&C)\n",
      "\n",
      "x3: [[5 6 5]\n",
      " [7 8 6]]\n",
      "\n",
      "PERFORMING CONCATENATE()\n",
      "x4: [[1 2 5 6]\n",
      " [3 4 7 8]]\n"
     ]
    }
   ],
   "source": [
    "a = np.array([[1, 2],\n",
    "              [3, 4]])\n",
    "\n",
    "b = np.array([[5, 6],\n",
    "              [7, 8]])\n",
    "c = [5,6]\n",
    "\n",
    "print(\"NOW PERFORMING VERTIAL STACK(V STACK)\")\n",
    "x = np.vstack((a,b))\n",
    "print(\"x:\", x)\n",
    "print()\n",
    "print(\"PERFORMING COLUMN STACK\")\n",
    "print()\n",
    "x1 = np.hstack((a,b))\n",
    "print(\"x1:\", x1)\n",
    "\n",
    "print(\"PERFORMING COLUMN STACK(A&C)\") \n",
    "print()\n",
    "x2 =  np.column_stack((a,c))\n",
    "print(\"x2: \", x2)\n",
    "\n",
    "print(\"PERFORMING COLUMN STACK(B&C)\")\n",
    "print()\n",
    "x3 = np.column_stack((b,c))\n",
    "print(\"x3:\", x3)\n",
    "\n",
    "print()\n",
    "print(\"PERFORMING CONCATENATE()\")\n",
    "x4 = np.concatenate((a,b),1)\n",
    "print(\"x4:\", x4)"
   ]
  },
  {
   "cell_type": "code",
   "execution_count": 11,
   "metadata": {},
   "outputs": [
    {
     "name": "stdout",
     "output_type": "stream",
     "text": [
      "x1: [[10 20 30]\n",
      " [10 20 30]]\n",
      "\n",
      "x2: [10 20 30 40 50 60]\n",
      "\n",
      "x3: [[10 40]\n",
      " [20 50]\n",
      " [30 60]]\n"
     ]
    }
   ],
   "source": [
    "n1 = np.array([10,20,30])\n",
    "n2 = np.array([40,50,60])\n",
    "x1 = np.vstack((n1,n1))\n",
    "print(\"x1:\", x1)\n",
    "print()\n",
    "x2 = np.hstack((n1,n2))\n",
    "print(\"x2:\", x2)\n",
    "print()\n",
    "x3 = np.column_stack((n1,n2))\n",
    "print(\"x3:\", x3)"
   ]
  },
  {
   "cell_type": "code",
   "execution_count": null,
   "metadata": {},
   "outputs": [],
   "source": [
    "NUMPY INTERSECTION & DIFFERENCE"
   ]
  },
  {
   "cell_type": "code",
   "execution_count": 16,
   "metadata": {},
   "outputs": [
    {
     "name": "stdout",
     "output_type": "stream",
     "text": [
      "\n",
      "FINDING INTERSECTION BETWEEN 2 NUMPY ARRAY\n",
      "n5: [50 60]\n",
      "\n",
      "FINDING DIFFERENCE\n",
      "here we have find values which are there in n3 only\n",
      "n6: [10 20 30 40]\n",
      "\n",
      "n7:  [70 80 90]\n"
     ]
    }
   ],
   "source": [
    "n3 =np.array([10,20,30,40,50,60])\n",
    "n4 = np.array([50,60,70,80,90])\n",
    "print()\n",
    "print(\"FINDING INTERSECTION BETWEEN 2 NUMPY ARRAY\")\n",
    "n5 = np.intersect1d(n3,n4)\n",
    "print(\"n5:\", n5)\n",
    "print()\n",
    "print(\"FINDING DIFFERENCE\")\n",
    "print(\"here we have find values which are there in n3 only\")\n",
    "n6 = np.setdiff1d(n3,n4)\n",
    "print(\"n6:\", n6)\n",
    "print()\n",
    "n7 = np.setdiff1d(n4,n3)\n",
    "print(\"n7: \", n7)"
   ]
  },
  {
   "cell_type": "code",
   "execution_count": null,
   "metadata": {},
   "outputs": [],
   "source": [
    "NUMPY SAVE AND LOAD"
   ]
  },
  {
   "cell_type": "code",
   "execution_count": 26,
   "metadata": {},
   "outputs": [
    {
     "name": "stdout",
     "output_type": "stream",
     "text": [
      "c1: [10 20 30 40 50 60 70 80]\n",
      "c2: [10 20 30 40 50 60 70 80]\n"
     ]
    }
   ],
   "source": [
    "c1 =np.array([10,20,30,40,50,60,70,80])\n",
    "print(\"c1:\", c1)\n",
    "np.save(\"my_numpy\", c1)\n",
    "print()\n",
    "c2 = np.load(\"my_numpy.npy\")\n",
    "print(\"c2:\", c2)"
   ]
  },
  {
   "cell_type": "code",
   "execution_count": null,
   "metadata": {},
   "outputs": [],
   "source": [
    "SPLITTING NUMPY ARRAY"
   ]
  },
  {
   "cell_type": "code",
   "execution_count": null,
   "metadata": {},
   "outputs": [],
   "source": [
    "Splitting:For splitting, we have these functions:\n",
    "np.hsplit: Split array along horizontal axis.\n",
    "np.vsplit: Split array along vertical axis.\n",
    "np.array_split: Split array along specified axis."
   ]
  },
  {
   "cell_type": "code",
   "execution_count": 49,
   "metadata": {},
   "outputs": [
    {
     "name": "stdout",
     "output_type": "stream",
     "text": [
      "a: [[ 1  3  5  7  9 11]\n",
      " [ 2  4  6  8 10 12]]\n",
      "\n",
      "type(a): <class 'numpy.ndarray'>\n",
      "\n",
      "a.shape: (2, 6)\n",
      "\n",
      "PERFORMING HSPLIT()\n",
      "\n",
      "u: [array([[1, 3, 5],\n",
      "       [2, 4, 6]]), array([[ 7,  9, 11],\n",
      "       [ 8, 10, 12]])]\n",
      "\n",
      "u1: [array([[1, 3],\n",
      "       [2, 4]]), array([[5, 7],\n",
      "       [6, 8]]), array([[ 9, 11],\n",
      "       [10, 12]])]\n",
      "\n",
      "u2: [array([[ 1,  3,  5,  7,  9, 11]]), array([[ 2,  4,  6,  8, 10, 12]])]\n",
      "\n"
     ]
    }
   ],
   "source": [
    "a = np.array([[1, 3, 5, 7, 9, 11],\n",
    "               [2, 4, 6, 8, 10, 12]])\n",
    "print(\"a:\",a)\n",
    "print()\n",
    "print(\"type(a):\", type(a))\n",
    "print()\n",
    "print(\"a.shape:\", a.shape)\n",
    "print()\n",
    "print(\"PERFORMING HSPLIT()\")\n",
    "print()\n",
    "u = np.hsplit(a,2)\n",
    "print(\"u:\", u)\n",
    "print()\n",
    "u1 = np.hsplit(a,3)\n",
    "print(\"u1:\", u1)\n",
    "print()\n",
    "u2 = np.vsplit(a,2)\n",
    "print(\"u2:\", u2)\n",
    "print()"
   ]
  },
  {
   "cell_type": "code",
   "execution_count": null,
   "metadata": {},
   "outputs": [],
   "source": [
    "MORE EXAMPLES"
   ]
  },
  {
   "cell_type": "code",
   "execution_count": 53,
   "metadata": {},
   "outputs": [
    {
     "name": "stdout",
     "output_type": "stream",
     "text": [
      "x: [2. 4. 6.]\n"
     ]
    }
   ],
   "source": [
    "a = np.array([1.0, 2.0, 3.0])\n",
    "c = [2.0, 2.0, 2.0]\n",
    "\n",
    "x =a*c\n",
    "print(\"x:\", x)"
   ]
  },
  {
   "cell_type": "code",
   "execution_count": null,
   "metadata": {},
   "outputs": [],
   "source": [
    "ADVANCED INDEXING"
   ]
  },
  {
   "cell_type": "code",
   "execution_count": 60,
   "metadata": {},
   "outputs": [
    {
     "name": "stdout",
     "output_type": "stream",
     "text": [
      "rr: [[2 3]\n",
      " [5 6]\n",
      " [8 9]]\n",
      "\n",
      "now we are slicing this numpy array\n",
      "\n",
      "c; [2 6 8]\n",
      "\n",
      "d: [2 5]\n",
      "\n",
      "arr2: [[2 3 4]\n",
      " [9 8 7]\n",
      " [1 2 3]]\n",
      "\n",
      "now performing slicing\n",
      "\n",
      "arr22: [2 7 3]\n",
      "\n"
     ]
    },
    {
     "ename": "TypeError",
     "evalue": "write() argument must be str, not numpy.ndarray",
     "output_type": "error",
     "traceback": [
      "\u001b[1;31m---------------------------------------------------------------------------\u001b[0m",
      "\u001b[1;31mTypeError\u001b[0m                                 Traceback (most recent call last)",
      "\u001b[1;32m<ipython-input-60-5db5c2105646>\u001b[0m in \u001b[0;36m<module>\u001b[1;34m\u001b[0m\n\u001b[0;32m     24\u001b[0m \u001b[0mprint\u001b[0m\u001b[1;33m(\u001b[0m\u001b[1;33m)\u001b[0m\u001b[1;33m\u001b[0m\u001b[1;33m\u001b[0m\u001b[0m\n\u001b[0;32m     25\u001b[0m \u001b[0mfile\u001b[0m \u001b[1;33m=\u001b[0m \u001b[0mopen\u001b[0m\u001b[1;33m(\u001b[0m\u001b[1;34m\"context24.txt\"\u001b[0m\u001b[1;33m,\u001b[0m \u001b[1;34m\"w\"\u001b[0m\u001b[1;33m)\u001b[0m\u001b[1;33m\u001b[0m\u001b[1;33m\u001b[0m\u001b[0m\n\u001b[1;32m---> 26\u001b[1;33m \u001b[0mfile\u001b[0m\u001b[1;33m.\u001b[0m\u001b[0mwrite\u001b[0m\u001b[1;33m(\u001b[0m\u001b[0marr22\u001b[0m\u001b[1;33m)\u001b[0m\u001b[1;33m\u001b[0m\u001b[1;33m\u001b[0m\u001b[0m\n\u001b[0m",
      "\u001b[1;31mTypeError\u001b[0m: write() argument must be str, not numpy.ndarray"
     ]
    }
   ],
   "source": [
    "rr = np.array([[2, 3],[5, 6],[8, 9]])\n",
    "print(\"rr:\", rr)\n",
    "print()\n",
    "print(\"now we are slicing this numpy array\")\n",
    "print()\n",
    "c = rr[[0,1,2],[0,1,0]]\n",
    "# first index value[0,1,2] telling the position of [2,3],[5,6],[8,9] and second index value[0,1,0] telling position\n",
    "# of value in output we have\n",
    "print(\"c;\", c)\n",
    "print()\n",
    "d = rr[[0,1],[0,0]]\n",
    "print(\"d:\", d)\n",
    "\n",
    "print()\n",
    "\n",
    "arr2 = np.array(((2, 3, 4),(9, 8, 7),(1, 2, 3)))\n",
    "print(\"arr2:\", arr2)\n",
    "print()\n",
    "print(\"now performing slicing\")\n",
    "print()\n",
    "arr22 = arr2[[0,1,2],[0,2,2]]\n",
    "print(\"arr22:\", arr22)\n",
    "\n",
    "print()\n",
    "file = open(\"context24.txt\", \"w\")\n",
    "file.write(str(arr22)"
   ]
  },
  {
   "cell_type": "code",
   "execution_count": null,
   "metadata": {},
   "outputs": [],
   "source": []
  }
 ],
 "metadata": {
  "kernelspec": {
   "display_name": "Python 3",
   "language": "python",
   "name": "python3"
  },
  "language_info": {
   "codemirror_mode": {
    "name": "ipython",
    "version": 3
   },
   "file_extension": ".py",
   "mimetype": "text/x-python",
   "name": "python",
   "nbconvert_exporter": "python",
   "pygments_lexer": "ipython3",
   "version": "3.8.5"
  }
 },
 "nbformat": 4,
 "nbformat_minor": 4
}
