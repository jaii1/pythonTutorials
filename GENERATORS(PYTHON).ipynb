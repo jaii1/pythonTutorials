{
 "cells": [
  {
   "cell_type": "code",
   "execution_count": null,
   "metadata": {},
   "outputs": [],
   "source": [
    "GENERATOR(geeky shows,youtube)"
   ]
  },
  {
   "cell_type": "code",
   "execution_count": null,
   "metadata": {},
   "outputs": [],
   "source": [
    "Generators are the\n",
    "functions that are used to return sequence of values.It return the value throgh Yield statement\n",
    "yield 24 and not return 24, ok,do not hold entire result in memory it yield only one value at a time\n",
    "we use here NEXT() FUNCTION to retrieve elements by element from generator object"
   ]
  },
  {
   "cell_type": "code",
   "execution_count": 1,
   "metadata": {},
   "outputs": [
    {
     "name": "stdout",
     "output_type": "stream",
     "text": [
      "<generator object desp at 0x0000021EAECF12E0>\n",
      "<class 'generator'>\n"
     ]
    }
   ],
   "source": [
    "def desp(a,b):\n",
    "    yield a\n",
    "    yield b\n",
    "res = desp(10,20)\n",
    "print(res)\n",
    "print(type(res))"
   ]
  },
  {
   "cell_type": "code",
   "execution_count": null,
   "metadata": {},
   "outputs": [],
   "source": [
    "WE ARE CONVERTING GENERATOR OBJECT INTO LIST"
   ]
  },
  {
   "cell_type": "code",
   "execution_count": 3,
   "metadata": {},
   "outputs": [
    {
     "name": "stdout",
     "output_type": "stream",
     "text": [
      "<class 'generator'>\n",
      "[10, 20]\n",
      "<class 'list'>\n"
     ]
    }
   ],
   "source": [
    "def desp(a,b):\n",
    "    yield a\n",
    "    yield b\n",
    "res=desp(10,20)\n",
    "print(type(res))\n",
    "# we are converting to list now\n",
    "lst = list(res)\n",
    "print(lst)\n",
    "print(type(lst))"
   ]
  },
  {
   "cell_type": "code",
   "execution_count": null,
   "metadata": {},
   "outputs": [],
   "source": [
    "NOW WE ARE USING NEXT()FUNCTION TO RETRIEVE ELEMENT FROM GENERATOR OBJECT"
   ]
  },
  {
   "cell_type": "code",
   "execution_count": 5,
   "metadata": {},
   "outputs": [
    {
     "name": "stdout",
     "output_type": "stream",
     "text": [
      "<generator object dest at 0x0000021EAECF13C0>\n",
      "<class 'generator'>\n",
      "10\n",
      "20\n",
      "30\n"
     ]
    }
   ],
   "source": [
    "def dest(a,b,c):\n",
    "    yield a\n",
    "    yield b\n",
    "    yield c\n",
    "res  =dest(10,20,30)\n",
    "print(res)\n",
    "print(type(res))\n",
    "print(next(res))\n",
    "print(next(res))\n",
    "print(next(res))"
   ]
  },
  {
   "cell_type": "code",
   "execution_count": 10,
   "metadata": {},
   "outputs": [
    {
     "name": "stdout",
     "output_type": "stream",
     "text": [
      "<generator object show at 0x0000021EAECF1B30>\n",
      "<class 'generator'>\n",
      "2\n",
      "3\n",
      "4\n",
      "\n",
      "The values are: 5\n",
      "The values are: 6\n",
      "The values are: 7\n",
      "The values are: 8\n"
     ]
    }
   ],
   "source": [
    "def show(a,b):\n",
    "    while a<=b:\n",
    "        yield a\n",
    "        a+=1\n",
    "    \n",
    "res=show(2,8)\n",
    "print(res)\n",
    "print(type(res))\n",
    "print(next(res))\n",
    "print(next(res))\n",
    "print(next(res))\n",
    "print()\n",
    "for i in res:\n",
    "    print(\"The values are:\", i)\n"
   ]
  },
  {
   "cell_type": "code",
   "execution_count": 13,
   "metadata": {},
   "outputs": [
    {
     "name": "stdout",
     "output_type": "stream",
     "text": [
      "<generator object show at 0x0000021EAECF1F90>\n",
      "<class 'generator'>\n",
      "The values are: 2\n",
      "The values are: 4\n",
      "The values are: 6\n",
      "The values are: 8\n",
      "The values are: 10\n"
     ]
    }
   ],
   "source": [
    "def show(x,y):\n",
    "    while x<=y:\n",
    "        yield x\n",
    "        x+=2\n",
    "    \n",
    "res1 = show(2,10)\n",
    "print(res1)\n",
    "print(type(res1))\n",
    "for i in res1:\n",
    "    print(\"The values are:\", i)"
   ]
  },
  {
   "cell_type": "code",
   "execution_count": null,
   "metadata": {},
   "outputs": [],
   "source": [
    "FROM COREY(YOU TUBE)CHANNEL⭐🌞🌞⭐🌞🌞☀⭐⭐"
   ]
  },
  {
   "cell_type": "code",
   "execution_count": 16,
   "metadata": {},
   "outputs": [
    {
     "name": "stdout",
     "output_type": "stream",
     "text": [
      "<generator object square_numbers at 0x0000021EAED12580>\n",
      "<class 'generator'>\n",
      "1\n",
      "4\n"
     ]
    }
   ],
   "source": [
    "def square_numbers(num):\n",
    "    for i in num:\n",
    "        yield i*i\n",
    "my_nums = square_numbers([1,2,3,4,5])\n",
    "print(my_nums)\n",
    "print(type(my_nums))\n",
    "print(next(my_nums))\n",
    "print(next(my_nums))"
   ]
  },
  {
   "cell_type": "code",
   "execution_count": 20,
   "metadata": {},
   "outputs": [
    {
     "name": "stdout",
     "output_type": "stream",
     "text": [
      "<generator object square_numbers at 0x0000021EAED12820>\n",
      "<class 'generator'>\n",
      "2\n",
      "5\n",
      "10\n",
      "17\n"
     ]
    },
    {
     "ename": "StopIteration",
     "evalue": "",
     "output_type": "error",
     "traceback": [
      "\u001b[1;31m---------------------------------------------------------------------------\u001b[0m",
      "\u001b[1;31mStopIteration\u001b[0m                             Traceback (most recent call last)",
      "\u001b[1;32m<ipython-input-20-5095b6b474b1>\u001b[0m in \u001b[0;36m<module>\u001b[1;34m\u001b[0m\n\u001b[0;32m      9\u001b[0m \u001b[0mprint\u001b[0m\u001b[1;33m(\u001b[0m\u001b[0mnext\u001b[0m\u001b[1;33m(\u001b[0m\u001b[0mre\u001b[0m\u001b[1;33m)\u001b[0m\u001b[1;33m)\u001b[0m\u001b[1;33m\u001b[0m\u001b[1;33m\u001b[0m\u001b[0m\n\u001b[0;32m     10\u001b[0m \u001b[0mprint\u001b[0m\u001b[1;33m(\u001b[0m\u001b[0mnext\u001b[0m\u001b[1;33m(\u001b[0m\u001b[0mre\u001b[0m\u001b[1;33m)\u001b[0m\u001b[1;33m)\u001b[0m\u001b[1;33m\u001b[0m\u001b[1;33m\u001b[0m\u001b[0m\n\u001b[1;32m---> 11\u001b[1;33m \u001b[0mprint\u001b[0m\u001b[1;33m(\u001b[0m\u001b[0mnext\u001b[0m\u001b[1;33m(\u001b[0m\u001b[0mre\u001b[0m\u001b[1;33m)\u001b[0m\u001b[1;33m)\u001b[0m\u001b[1;33m\u001b[0m\u001b[1;33m\u001b[0m\u001b[0m\n\u001b[0m",
      "\u001b[1;31mStopIteration\u001b[0m: "
     ]
    }
   ],
   "source": [
    "def square_numbers(num):\n",
    "    for i in num:\n",
    "        yield i*i+1\n",
    "re = square_numbers([1,2,3,4])\n",
    "print(re)\n",
    "print(type(re))\n",
    "print(next(re))\n",
    "print(next(re))\n",
    "print(next(re))\n",
    "print(next(re))\n",
    "print(next(re))\n",
    "after 4 value our next function gets exhausted"
   ]
  },
  {
   "cell_type": "code",
   "execution_count": 18,
   "metadata": {},
   "outputs": [
    {
     "name": "stdout",
     "output_type": "stream",
     "text": [
      "<generator object square_numbers at 0x0000021EAED12900>\n",
      "<class 'generator'>\n",
      "2\n",
      "5\n",
      "10\n",
      "17\n"
     ]
    }
   ],
   "source": [
    "def square_numbers(num):\n",
    "    for i in num:\n",
    "        yield i*i+1\n",
    "    \n",
    "res2  =square_numbers([1,2,3,4])\n",
    "print(res2)\n",
    "print(type(res2))\n",
    "for i in res2:\n",
    "    print(i)"
   ]
  },
  {
   "cell_type": "code",
   "execution_count": 21,
   "metadata": {},
   "outputs": [
    {
     "name": "stdout",
     "output_type": "stream",
     "text": [
      "[1, 4, 9, 16]\n",
      "1\n",
      "4\n",
      "9\n",
      "16\n"
     ]
    }
   ],
   "source": [
    "my_nums = [x*x for x in [1,2,3,4]]\n",
    "print(my_nums)\n",
    "for i in my_nums:\n",
    "    print(i)"
   ]
  },
  {
   "cell_type": "code",
   "execution_count": 23,
   "metadata": {},
   "outputs": [
    {
     "name": "stdout",
     "output_type": "stream",
     "text": [
      "(1, 4, 9, 16)\n",
      "1\n",
      "4\n",
      "9\n",
      "16\n"
     ]
    }
   ],
   "source": [
    "my_nums = [x*x for x in [1,2,3,4]]\n",
    "print(tuple(my_nums))\n",
    "for i in my_nums:\n",
    "    print(i)"
   ]
  },
  {
   "cell_type": "code",
   "execution_count": null,
   "metadata": {},
   "outputs": [],
   "source": []
  }
 ],
 "metadata": {
  "kernelspec": {
   "display_name": "Python 3",
   "language": "python",
   "name": "python3"
  },
  "language_info": {
   "codemirror_mode": {
    "name": "ipython",
    "version": 3
   },
   "file_extension": ".py",
   "mimetype": "text/x-python",
   "name": "python",
   "nbconvert_exporter": "python",
   "pygments_lexer": "ipython3",
   "version": "3.8.5"
  }
 },
 "nbformat": 4,
 "nbformat_minor": 4
}
