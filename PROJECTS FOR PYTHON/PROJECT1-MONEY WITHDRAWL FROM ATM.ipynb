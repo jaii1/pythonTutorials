{
 "cells": [
  {
   "cell_type": "code",
   "execution_count": null,
   "metadata": {},
   "outputs": [],
   "source": [
    "# check balance\n",
    "# make a withdrawal\n",
    "# pay in \n",
    "# return card\n",
    "\n",
    "# we use \n",
    "# while \n",
    "# for nested"
   ]
  },
  {
   "cell_type": "code",
   "execution_count": null,
   "metadata": {},
   "outputs": [],
   "source": [
    "WRITE A PROGRAM TO KNOW BALANCE AND WITHDRAW AND DEPOSIT MONEY IN BANK"
   ]
  },
  {
   "cell_type": "code",
   "execution_count": 3,
   "metadata": {},
   "outputs": [
    {
     "name": "stdout",
     "output_type": "stream",
     "text": [
      "welcome to the HDFC Bank\n",
      "Enter the Bank 4digit pin number1234\n",
      "You entered correct pin number\n",
      " please press 1 to know your balance \n",
      "please pree 2 to withdraw money\n",
      "please press 3 to pay-in\n",
      "please press 4 to return card\n",
      "which option would you like to choose1\n",
      "Your total Balance is A$ 67.14\n",
      "would you like to go back?f\n",
      " please press 1 to know your balance \n",
      "please pree 2 to withdraw money\n",
      "please press 3 to pay-in\n",
      "please press 4 to return card\n",
      "which option would you like to choose2\n",
      "How much money would you like to withdaw? \n",
      "/A$10/A$30/A$50/A$8060\n",
      "invalid amount, re-try amount\n",
      " please press 1 to know your balance \n",
      "please pree 2 to withdraw money\n",
      "please press 3 to pay-in\n",
      "please press 4 to return card\n",
      "which option would you like to chooseY\n"
     ]
    },
    {
     "ename": "ValueError",
     "evalue": "invalid literal for int() with base 10: 'Y'",
     "output_type": "error",
     "traceback": [
      "\u001b[1;31m---------------------------------------------------------------------------\u001b[0m",
      "\u001b[1;31mValueError\u001b[0m                                Traceback (most recent call last)",
      "\u001b[1;32m<ipython-input-3-337bdd47de7b>\u001b[0m in \u001b[0;36m<module>\u001b[1;34m\u001b[0m\n\u001b[0;32m     12\u001b[0m             \u001b[0mprint\u001b[0m\u001b[1;33m(\u001b[0m\u001b[1;34m\"please press 3 to pay-in\"\u001b[0m\u001b[1;33m)\u001b[0m\u001b[1;33m\u001b[0m\u001b[1;33m\u001b[0m\u001b[0m\n\u001b[0;32m     13\u001b[0m             \u001b[0mprint\u001b[0m\u001b[1;33m(\u001b[0m\u001b[1;34m\"please press 4 to return card\"\u001b[0m\u001b[1;33m)\u001b[0m\u001b[1;33m\u001b[0m\u001b[1;33m\u001b[0m\u001b[0m\n\u001b[1;32m---> 14\u001b[1;33m             \u001b[0moption\u001b[0m \u001b[1;33m=\u001b[0m \u001b[0mint\u001b[0m\u001b[1;33m(\u001b[0m\u001b[0minput\u001b[0m\u001b[1;33m(\u001b[0m\u001b[1;34m\"which option would you like to choose\"\u001b[0m\u001b[1;33m)\u001b[0m\u001b[1;33m)\u001b[0m\u001b[1;33m\u001b[0m\u001b[1;33m\u001b[0m\u001b[0m\n\u001b[0m\u001b[0;32m     15\u001b[0m             \u001b[1;32mif\u001b[0m \u001b[0moption\u001b[0m \u001b[1;33m==\u001b[0m\u001b[1;36m1\u001b[0m\u001b[1;33m:\u001b[0m\u001b[1;33m\u001b[0m\u001b[1;33m\u001b[0m\u001b[0m\n\u001b[0;32m     16\u001b[0m                 \u001b[0mprint\u001b[0m\u001b[1;33m(\u001b[0m\u001b[1;34m\"Your total Balance is A$\"\u001b[0m\u001b[1;33m,\u001b[0m \u001b[0mBalance\u001b[0m\u001b[1;33m)\u001b[0m\u001b[1;33m\u001b[0m\u001b[1;33m\u001b[0m\u001b[0m\n",
      "\u001b[1;31mValueError\u001b[0m: invalid literal for int() with base 10: 'Y'"
     ]
    }
   ],
   "source": [
    "print(\"welcome to the HDFC Bank\")\n",
    "restart = \"y\"\n",
    "Balance =  67.14\n",
    "chances = 3\n",
    "while chances >=0:\n",
    "    pin = int(input(\"Enter the Bank 4digit pin number\"))\n",
    "    if pin == (1234):\n",
    "        print(\"You entered correct pin number\")\n",
    "        while restart not in(\"n\",\"N\",\"not\",\"NOT\"):\n",
    "            print(\" please press 1 to know your balance \")\n",
    "            print(\"please pree 2 to withdraw money\")\n",
    "            print(\"please press 3 to pay-in\")\n",
    "            print(\"please press 4 to return card\")\n",
    "            option = int(input(\"which option would you like to choose\"))\n",
    "            if option ==1:\n",
    "                print(\"Your total Balance is A$\", Balance)\n",
    "                restart = input(\"would you like to go back?\")\n",
    "                if restart in(\"n\",\"N\",\"not\",\"NOT\"):\n",
    "                    print(\"Thankyou!\")\n",
    "                    break\n",
    "            elif option ==2:\n",
    "                withdrawl = float(input(\"How much money would you like to withdaw? \\n/A$10/A$30/A$50/A$80\"))\n",
    "                if withdrawl in[10,30,50,80]:\n",
    "                    Balance = Balance -withdrawl\n",
    "                    print(\"The remaining balance is A$\", Balance)\n",
    "                    restart = input(\"would you like to go back\")\n",
    "                    if restart in(\"n\",\"N\",\"not\",\"NOT\"):\n",
    "                        print(\"Thankyou!\")\n",
    "                        break\n",
    "                elif withdrawl !=[10,30,50,80]:\n",
    "                    print(\"invalid amount, re-try amount\")\n",
    "                    restart = \"y\"\n",
    "                elif withdrawl == 1:\n",
    "                    withdrawl = float(input(\"enter the desired Amount\"))\n",
    "            elif option == 3:\n",
    "                payin = float(input(\"how much money would you like to payin: \"))\n",
    "                Balance = Balance + payin\n",
    "                print(\"The total amount is A$\", Balance)\n",
    "                restart = input(\"would you like to go back\")\n",
    "                if restart in(\"n\",\"N\",\"not\",\"NOT\"):\n",
    "                    print(\"Thankyou!\")\n",
    "                    break\n",
    "            elif option ==4:\n",
    "                print(\"Please wait, until we return your card\")\n",
    "                print(\"Thank you for your service\")\n",
    "                break\n",
    "            else:\n",
    "                print(\"Please enter the correct number\")\n",
    "                restart = \"y\"\n",
    "    elif pin !=('1234'):\n",
    "        print(\"Incorrect password\")\n",
    "    chances = chances-1\n",
    "    if chances ==0:\n",
    "        print(\"No more tries\")\n",
    "        break\n",
    "    \n",
    "    \n",
    "   "
   ]
  },
  {
   "cell_type": "code",
   "execution_count": null,
   "metadata": {},
   "outputs": [],
   "source": []
  }
 ],
 "metadata": {
  "kernelspec": {
   "display_name": "Python 3",
   "language": "python",
   "name": "python3"
  },
  "language_info": {
   "codemirror_mode": {
    "name": "ipython",
    "version": 3
   },
   "file_extension": ".py",
   "mimetype": "text/x-python",
   "name": "python",
   "nbconvert_exporter": "python",
   "pygments_lexer": "ipython3",
   "version": "3.8.5"
  }
 },
 "nbformat": 4,
 "nbformat_minor": 4
}
