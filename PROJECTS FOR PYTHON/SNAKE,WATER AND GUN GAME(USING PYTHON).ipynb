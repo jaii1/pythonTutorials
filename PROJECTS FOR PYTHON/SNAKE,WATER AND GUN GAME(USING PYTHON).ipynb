{
 "cells": [
  {
   "cell_type": "code",
   "execution_count": 2,
   "metadata": {},
   "outputs": [],
   "source": [
    "import random"
   ]
  },
  {
   "cell_type": "code",
   "execution_count": 14,
   "metadata": {},
   "outputs": [
    {
     "name": "stdout",
     "output_type": "stream",
     "text": [
      "comp Turn: snake(s) water(w) or Gun(g)?\n",
      "you Turn: snake(s) water(w) or Gun(g)?s\n",
      "you choose:s\n",
      "computer choose:w\n",
      "you won\n"
     ]
    }
   ],
   "source": [
    "import random\n",
    "def GameWin(comp, you):\n",
    "    if comp == 's':\n",
    "        if you == 'w':\n",
    "            return False\n",
    "        elif you == 'g':\n",
    "            return True\n",
    "    elif comp == 'w':\n",
    "        if you == 's':\n",
    "            return True\n",
    "        elif you == 'g':\n",
    "            return False\n",
    "    elif comp == 'g':\n",
    "        if you == 's':\n",
    "            return False\n",
    "        elif you == 'w':\n",
    "            return True\n",
    "print(\"comp Turn: snake(s) water(w) or Gun(g)?\")\n",
    "randno = random.randint(1,3)\n",
    "if randno ==1:\n",
    "    comp = 's'\n",
    "elif randno == 2:\n",
    "    comp = 'w'\n",
    "elif randno == 3:\n",
    "    comp ='g'\n",
    "\n",
    "you =input(\"you Turn: snake(s) water(w) or Gun(g)?\")\n",
    "a =GameWin(comp, you)\n",
    "print(f'you choose:{you}')\n",
    "print(f'computer choose:{comp}')\n",
    "if a == None:\n",
    "    print(\"Game is a Tie\")\n",
    "elif a :\n",
    "    print(\"you won\")\n",
    "else:\n",
    "    print(\"you lose\")\n"
   ]
  },
  {
   "cell_type": "code",
   "execution_count": null,
   "metadata": {},
   "outputs": [],
   "source": []
  },
  {
   "cell_type": "code",
   "execution_count": null,
   "metadata": {},
   "outputs": [],
   "source": []
  }
 ],
 "metadata": {
  "kernelspec": {
   "display_name": "Python 3",
   "language": "python",
   "name": "python3"
  },
  "language_info": {
   "codemirror_mode": {
    "name": "ipython",
    "version": 3
   },
   "file_extension": ".py",
   "mimetype": "text/x-python",
   "name": "python",
   "nbconvert_exporter": "python",
   "pygments_lexer": "ipython3",
   "version": "3.8.5"
  }
 },
 "nbformat": 4,
 "nbformat_minor": 4
}
