{
 "cells": [
  {
   "cell_type": "code",
   "execution_count": null,
   "metadata": {},
   "outputs": [],
   "source": [
    "turtle module"
   ]
  },
  {
   "cell_type": "code",
   "execution_count": null,
   "metadata": {},
   "outputs": [],
   "source": [
    "It is a in-built module in python, which provide cardboard and a pen(Turtle) to draw something\n",
    "to draw something we move Turtle i.e forward(), backward()"
   ]
  },
  {
   "cell_type": "code",
   "execution_count": null,
   "metadata": {},
   "outputs": [],
   "source": [
    "1)We can Create shape of this Turtle and also give color for this Turtle(by default color is Black)\n",
    "2)This Turtle is always pointed towards east, see below\n",
    "\n",
    "       N\n",
    "a)W             E   \n",
    "       S\n",
    "    \n",
    "    \n",
    "b)      Y\n",
    "-X________________X\n",
    "\n",
    "\n",
    "       -Y\n",
    "    \n",
    "I,said Turtle is always pointed towards east, to move its face towards right we use Right and then use degree\n",
    "E.G = Right(90)\n",
    "Right(90)--Square(4)\n",
    "Right(-180)--Triangle(3)\n",
    "Right(-60)--Hexagon(6)\n",
    "Right(144)-Star(5)\n",
    "\n",
    "To Move Turtle aage aur Piche, we use Piche Forward, Backward\n"
   ]
  },
  {
   "cell_type": "code",
   "execution_count": null,
   "metadata": {},
   "outputs": [],
   "source": [
    "To fill shape we used fill color, like red,blue,green,orange through\n",
    "fillcolor()\n",
    "begin_fill()\n",
    "end_fill()\n",
    "To fill color, we either use color name or hex value start with '#'"
   ]
  },
  {
   "cell_type": "code",
   "execution_count": null,
   "metadata": {},
   "outputs": [],
   "source": [
    "DRAWING COLOR FILLED SQUARE:"
   ]
  },
  {
   "cell_type": "code",
   "execution_count": 1,
   "metadata": {},
   "outputs": [
    {
     "name": "stdout",
     "output_type": "stream",
     "text": [
      "Enter the length of side of the square200\n",
      "Enter the color of the squaregreen\n"
     ]
    }
   ],
   "source": [
    "import turtle\n",
    "t  =turtle.Turtle()\n",
    "t.shape()\n",
    "t.shape('turtle')\n",
    "t.color()\n",
    "wn = turtle.Screen()\n",
    "wn.bgcolor(\"blue\")\n",
    "wn.title('Beautiful_Graphic')\n",
    "\n",
    "s = int(input(\"Enter the length of side of the square\"))\n",
    "c = input(\"Enter the color of the square\")\n",
    "t.fillcolor(c)\n",
    "t.begin_fill()\n",
    "for i in range(4):\n",
    "    t.forward(s)\n",
    "    t.right(90)\n",
    "t.end_fill()"
   ]
  },
  {
   "cell_type": "code",
   "execution_count": null,
   "metadata": {},
   "outputs": [],
   "source": [
    "DRAWING COLOR FILLED TRIANGLE:"
   ]
  },
  {
   "cell_type": "code",
   "execution_count": 1,
   "metadata": {},
   "outputs": [
    {
     "name": "stdout",
     "output_type": "stream",
     "text": [
      "Enter the area of side of triangle200\n",
      "Enter the colorred\n"
     ]
    }
   ],
   "source": [
    "import turtle\n",
    "t = turtle.Turtle()\n",
    "wn = turtle.Screen()\n",
    "wn.title('Jai Graphic')\n",
    "wn.bgcolor('green')\n",
    "sde = int(input(\"Enter the area of side of triangle\"))\n",
    "c = input(\"Enter the color\")\n",
    "t.fillcolor(c)\n",
    "t.begin_fill()\n",
    "for i in range(3):\n",
    "    t.forward(200)\n",
    "    t.right(-120)\n",
    "t.end_fill()"
   ]
  },
  {
   "cell_type": "code",
   "execution_count": null,
   "metadata": {},
   "outputs": [],
   "source": [
    "DRAWING COLOR FILLED HEXAGON:"
   ]
  },
  {
   "cell_type": "code",
   "execution_count": 1,
   "metadata": {},
   "outputs": [
    {
     "name": "stdout",
     "output_type": "stream",
     "text": [
      "Enter the area of the side of Hexagon200\n",
      "Enter the colorgreen\n"
     ]
    }
   ],
   "source": [
    "import turtle\n",
    "t = turtle.Turtle()\n",
    "sde = int(input(\"Enter the area of the side of Hexagon\"))\n",
    "c = input(\"Enter the color\")\n",
    "t.fillcolor(c)\n",
    "t.begin_fill()\n",
    "for i in range(6):\n",
    "    t.forward(sde)\n",
    "    t.right(-60)\n",
    "t.end_fill()\n",
    "    "
   ]
  },
  {
   "cell_type": "code",
   "execution_count": null,
   "metadata": {},
   "outputs": [],
   "source": [
    "DRAWING COLOR FILLED STAR"
   ]
  },
  {
   "cell_type": "code",
   "execution_count": 1,
   "metadata": {},
   "outputs": [
    {
     "name": "stdout",
     "output_type": "stream",
     "text": [
      "Enter the area of the side of the star200\n",
      "Ente the color: blue\n"
     ]
    }
   ],
   "source": [
    "import turtle\n",
    "t = turtle.Turtle()\n",
    "sde = int(input(\"Enter the area of the side of the star\"))\n",
    "c = input(\"Ente the color: \")\n",
    "t.fillcolor(c)\n",
    "t.begin_fill()\n",
    "for i in range(5):\n",
    "    t.forward(sde)\n",
    "    t.right(144)\n",
    "t.end_fill()"
   ]
  },
  {
   "cell_type": "code",
   "execution_count": 1,
   "metadata": {},
   "outputs": [],
   "source": [
    "#Outside_In\n",
    "import turtle   \n",
    "wn = turtle.Screen()\n",
    "wn.bgcolor(\"light green\")\n",
    "wn.title(\"Turtle\")\n",
    "skk = turtle.Turtle()\n",
    "skk.color(\"blue\")\n",
    " \n",
    "def sqrfunc(size):\n",
    "    for i in range(4):\n",
    "        skk.fd(size)\n",
    "        skk.left(90)\n",
    "        size = size-5\n",
    " \n",
    "sqrfunc(146)\n",
    "sqrfunc(126)\n",
    "sqrfunc(106)\n",
    "sqrfunc(86)\n",
    "sqrfunc(66)\n",
    "sqrfunc(46)\n",
    "sqrfunc(26)"
   ]
  },
  {
   "cell_type": "code",
   "execution_count": 2,
   "metadata": {},
   "outputs": [
    {
     "name": "stdout",
     "output_type": "stream",
     "text": [
      "Enter the size of side of a star:200\n",
      "enter the colorred\n"
     ]
    }
   ],
   "source": [
    "import turtle\n",
    "t = turtle.Turtle()\n",
    "# t.shape()\n",
    "# t.color()\n",
    "wn = turtle.Screen()\n",
    "wn.bgcolor('blue')\n",
    "wn.title('jai Graphic')\n",
    "sde = int(input(\"Enter the size of side of a star:\"))\n",
    "c = input(\"enter the color\")\n",
    "t.fillcolor(c)\n",
    "t.begin_fill()\n",
    "for i in range(5):\n",
    "    t.forward(sde)\n",
    "    t.right(144)\n",
    "t.end_fill()\n",
    "t.hideturtle()\n"
   ]
  },
  {
   "cell_type": "code",
   "execution_count": 2,
   "metadata": {},
   "outputs": [
    {
     "name": "stdout",
     "output_type": "stream",
     "text": [
      "Help on function circle in module turtle:\n",
      "\n",
      "circle(radius, extent=None, steps=None)\n",
      "    Draw a circle with given radius.\n",
      "    \n",
      "    Arguments:\n",
      "    radius -- a number\n",
      "    extent (optional) -- a number\n",
      "    steps (optional) -- an integer\n",
      "    \n",
      "    Draw a circle with given radius. The center is radius units left\n",
      "    of the turtle; extent - an angle - determines which part of the\n",
      "    circle is drawn. If extent is not given, draw the entire circle.\n",
      "    If extent is not a full circle, one endpoint of the arc is the\n",
      "    current pen position. Draw the arc in counterclockwise direction\n",
      "    if radius is positive, otherwise in clockwise direction. Finally\n",
      "    the direction of the turtle is changed by the amount of extent.\n",
      "    \n",
      "    As the circle is approximated by an inscribed regular polygon,\n",
      "    steps determines the number of steps to use. If not given,\n",
      "    it will be calculated automatically. Maybe used to draw regular\n",
      "    polygons.\n",
      "    \n",
      "    call: circle(radius)                  # full circle\n",
      "    --or: circle(radius, extent)          # arc\n",
      "    --or: circle(radius, extent, steps)\n",
      "    --or: circle(radius, steps=6)         # 6-sided polygon\n",
      "    \n",
      "    Example:\n",
      "    >>> circle(50)\n",
      "    >>> circle(120, 180)  # semicircle\n",
      "\n"
     ]
    }
   ],
   "source": [
    "import turtle\n",
    "help(turtle.circle)"
   ]
  },
  {
   "cell_type": "code",
   "execution_count": null,
   "metadata": {},
   "outputs": [],
   "source": []
  },
  {
   "cell_type": "code",
   "execution_count": 1,
   "metadata": {},
   "outputs": [],
   "source": [
    "# import turtle\n",
    "# t = turtle.Turtle()\n",
    "# t.fillcolor('red')\n",
    "# t.begin_fill()\n",
    "# t.circle(200)\n",
    "# t.end_fill()\n",
    "# t.circle(100)\n",
    "# t.circle(50)\n",
    "# t.circle(-70)\n",
    "# t.reset()\n",
    "# t.circle(100,180)\n",
    "# t.reset()\n",
    "# t.circle(200, 270)\n",
    "# t.reset()\n",
    "# t.circle(120,100)\n",
    "# t.reset\n",
    "# t.circle(100,steps=3)\n",
    "# t.reset()\n",
    "# t.circle(100,steps=4)\n",
    "\n",
    "# t.shape()\n",
    "# t.shape('turtle')\n",
    "# t.color()\n",
    "# t.color('red', 'green')\n",
    "# wn = turtle.Screen()\n",
    "# wn.bgcolor('red')\n",
    "# wn.title('jai')"
   ]
  },
  {
   "cell_type": "code",
   "execution_count": 1,
   "metadata": {},
   "outputs": [],
   "source": [
    "import turtle\n",
    "t = turtle.Turtle()\n",
    "t.circle(100)\n",
    "t.undo()\n",
    "t.right(90)\n",
    "t.forward(100)\n",
    "t.left(90)\n",
    "t.circle(100)\n",
    "t.reset()\n",
    "t.goto(0,-100)\n",
    "t.circle(100)\n",
    "t.reset()"
   ]
  },
  {
   "cell_type": "code",
   "execution_count": 1,
   "metadata": {},
   "outputs": [],
   "source": [
    "import turtle\n",
    "t = turtle.Turtle()\n",
    "t.up()\n",
    "t.goto(0,-100)\n",
    "t.circle(100)\n",
    "t.down()\n",
    "t.circle(100)\n",
    "t.reset()\n"
   ]
  },
  {
   "cell_type": "code",
   "execution_count": 1,
   "metadata": {},
   "outputs": [],
   "source": [
    "import turtle\n",
    "t = turtle.Turtle()\n",
    "t.up()\n",
    "t.goto(100,100)\n",
    "t.circle(100)\n",
    "t.down()\n",
    "t.circle(100)\n",
    "t.reset()\n"
   ]
  },
  {
   "cell_type": "code",
   "execution_count": 1,
   "metadata": {},
   "outputs": [
    {
     "name": "stdout",
     "output_type": "stream",
     "text": [
      "Help on function undo in module turtle:\n",
      "\n",
      "undo()\n",
      "    undo (repeatedly) the last turtle action.\n",
      "    \n",
      "    No argument.\n",
      "    \n",
      "    undo (repeatedly) the last turtle action.\n",
      "    Number of available undo actions is determined by the size of\n",
      "    the undobuffer.\n",
      "    \n",
      "    Example:\n",
      "    >>> for i in range(4):\n",
      "    ...     fd(50); lt(80)\n",
      "    ...\n",
      "    >>> for i in range(8):\n",
      "    ...     undo()\n",
      "    ...\n",
      "\n"
     ]
    }
   ],
   "source": [
    "import turtle\n",
    "help(turtle.undo)"
   ]
  },
  {
   "cell_type": "code",
   "execution_count": 1,
   "metadata": {},
   "outputs": [],
   "source": [
    "import turtle\n",
    "t = turtle.Turtle()\n",
    "t.up()\n",
    "t.goto(0,-50)\n",
    "t.down()\n",
    "t.fillcolor('green')\n",
    "t.begin_fill()\n",
    "t.circle(50)\n",
    "t.end_fill()\n",
    "t.up()\n",
    "t.home()\n",
    "t.goto(200,200)\n",
    "t.down()\n",
    "t.fillcolor('orange')\n",
    "t.begin_fill()\n",
    "t.circle(50)\n",
    "t.end_fill()\n",
    "t.up()\n",
    "t.home()\n",
    "t.goto(-200,200)\n",
    "t.down()\n",
    "t.fillcolor('blue')\n",
    "t.begin_fill()\n",
    "t.circle(50)\n",
    "t.end_fill()\n",
    "t.up()\n",
    "t.home()\n",
    "t.goto(-200,-200)\n",
    "t.down()\n",
    "t.fillcolor('red')\n",
    "t.begin_fill()\n",
    "t.circle(-50)\n",
    "t.end_fill()\n",
    "t.up()\n",
    "t.home()\n",
    "t.goto(200,-200)\n",
    "t.down\n",
    "t.fillcolor(\"yellow\")\n",
    "t.begin_fill()\n",
    "t.circle(-50)\n",
    "t.end_fill()\n",
    "t.up()\n",
    "t.home()\n",
    "\n"
   ]
  },
  {
   "cell_type": "code",
   "execution_count": null,
   "metadata": {},
   "outputs": [],
   "source": [
    "WE CAN DO THE ABOVE CODE BY FUNCTION "
   ]
  },
  {
   "cell_type": "code",
   "execution_count": 1,
   "metadata": {},
   "outputs": [],
   "source": [
    "def draw_circle(x,y,color,rad):\n",
    "    t.goto(x,y)\n",
    "    t.down()\n",
    "    t.fillcolor(color)\n",
    "    t.begin_fill()\n",
    "    t.circle(rad)\n",
    "    t.end_fill()\n",
    "    t.up()\n",
    "    t.home()\n",
    "import turtle\n",
    "t = turtle.Turtle()\n",
    "t.up()\n",
    "draw_circle(0,-50,\"green\",50)\n",
    "draw_circle(0,300,\"green\",25)\n",
    "draw_circle(200,200,\"orange\",50)\n",
    "draw_circle(0,-300,\"orange\",25)\n",
    "draw_circle(-200,200,\"blue\",50)\n",
    "draw_circle(300,0,\"blue\",25)\n",
    "draw_circle(-200,-200,\"red\",-50)\n",
    "draw_circle(-300,0,\"red\",25)\n",
    "draw_circle(200,-200,\"yellow\",-50)\n"
   ]
  },
  {
   "cell_type": "code",
   "execution_count": 1,
   "metadata": {},
   "outputs": [
    {
     "name": "stdout",
     "output_type": "stream",
     "text": [
      "SONAKSHI\n"
     ]
    }
   ],
   "source": [
    "c =\"sonakshi\"\n",
    "print(c.upper())"
   ]
  },
  {
   "cell_type": "code",
   "execution_count": 1,
   "metadata": {},
   "outputs": [],
   "source": [
    "import turtle\n",
    "t = turtle.Turtle()\n",
    "lis = [\"red\", \"green\", \"blue\", \"yellow\"]\n",
    "t.up()\n",
    "t.goto(200, 0)\n",
    "for i in range(4):\n",
    "    t.down()\n",
    "    t.begin_fill()\n",
    "    t.fillcolor(lis[i])\n",
    "    t.circle(50)\n",
    "    t.end_fill()\n",
    "    t.up()\n",
    "    t.bk(100)\n",
    "    "
   ]
  },
  {
   "cell_type": "code",
   "execution_count": 4,
   "metadata": {},
   "outputs": [],
   "source": [
    "import turtle\n",
    "t = turtle.Turtle()\n",
    "# t.shape()\n",
    "# t.color()\n",
    "lis1 = [\"red\", \"green\", \"blue\", \"yellow\"]\n",
    "t.up()\n",
    "t.goto(200,0)\n",
    "for i in range(4):\n",
    "    t.down()\n",
    "    t.begin_fill()\n",
    "    t.fillcolor(lis1[i])\n",
    "    t.circle(100)\n",
    "    t.end_fill()\n",
    "    t.up()\n",
    "    t.bk(100)"
   ]
  },
  {
   "cell_type": "code",
   "execution_count": 1,
   "metadata": {},
   "outputs": [],
   "source": [
    "import turtle\n",
    "t = turtle.Turtle()\n",
    "# t.shape()\n",
    "# t.color()\n",
    "list1 = [\"red\", \"green\", \"blue\", \"yellow\"]\n",
    "t.up()\n",
    "t.goto(200,0)\n",
    "for i in range(4):\n",
    "    t.down()\n",
    "    t.color(list1[i])\n",
    "    t.pensize(50)\n",
    "    t.circle(100)\n",
    "    t.up()\n",
    "    t.bk(100)"
   ]
  },
  {
   "cell_type": "code",
   "execution_count": null,
   "metadata": {},
   "outputs": [],
   "source": []
  }
 ],
 "metadata": {
  "kernelspec": {
   "display_name": "Python 3",
   "language": "python",
   "name": "python3"
  },
  "language_info": {
   "codemirror_mode": {
    "name": "ipython",
    "version": 3
   },
   "file_extension": ".py",
   "mimetype": "text/x-python",
   "name": "python",
   "nbconvert_exporter": "python",
   "pygments_lexer": "ipython3",
   "version": "3.8.5"
  }
 },
 "nbformat": 4,
 "nbformat_minor": 4
}
